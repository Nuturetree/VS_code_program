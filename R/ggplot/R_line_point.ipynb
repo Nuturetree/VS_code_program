{
 "cells": [
  {
   "cell_type": "code",
   "execution_count": 29,
   "metadata": {
    "code_folding": []
   },
   "outputs": [
    {
     "data": {
      "text/html": [
       "<style>\n",
       ".list-inline {list-style: none; margin:0; padding: 0}\n",
       ".list-inline>li {display: inline-block}\n",
       ".list-inline>li:not(:last-child)::after {content: \"\\00b7\"; padding: 0 .5ex}\n",
       "</style>\n",
       "<ol class=list-inline><li>'8DPA'</li><li>'12DPA'</li><li>'16DPA'</li><li>'20DPA'</li></ol>\n"
      ],
      "text/latex": [
       "\\begin{enumerate*}\n",
       "\\item '8DPA'\n",
       "\\item '12DPA'\n",
       "\\item '16DPA'\n",
       "\\item '20DPA'\n",
       "\\end{enumerate*}\n"
      ],
      "text/markdown": [
       "1. '8DPA'\n",
       "2. '12DPA'\n",
       "3. '16DPA'\n",
       "4. '20DPA'\n",
       "\n",
       "\n"
      ],
      "text/plain": [
       "[1] \"8DPA\"  \"12DPA\" \"16DPA\" \"20DPA\""
      ]
     },
     "metadata": {},
     "output_type": "display_data"
    },
    {
     "data": {
      "text/html": [
       "<table class=\"dataframe\">\n",
       "<caption>A data.frame: 6 × 3</caption>\n",
       "<thead>\n",
       "\t<tr><th></th><th scope=col>values</th><th scope=col>tags</th><th scope=col>days</th></tr>\n",
       "\t<tr><th></th><th scope=col>&lt;dbl&gt;</th><th scope=col>&lt;fct&gt;</th><th scope=col>&lt;fct&gt;</th></tr>\n",
       "</thead>\n",
       "<tbody>\n",
       "\t<tr><th scope=row>1</th><td>0.70</td><td>short</td><td>8DPA </td></tr>\n",
       "\t<tr><th scope=row>2</th><td>1.84</td><td>short</td><td>12DPA</td></tr>\n",
       "\t<tr><th scope=row>3</th><td>2.25</td><td>short</td><td>16DPA</td></tr>\n",
       "\t<tr><th scope=row>4</th><td>2.60</td><td>short</td><td>20DPA</td></tr>\n",
       "\t<tr><th scope=row>5</th><td>0.53</td><td>long </td><td>8DPA </td></tr>\n",
       "\t<tr><th scope=row>6</th><td>1.25</td><td>long </td><td>12DPA</td></tr>\n",
       "</tbody>\n",
       "</table>\n"
      ],
      "text/latex": [
       "A data.frame: 6 × 3\n",
       "\\begin{tabular}{r|lll}\n",
       "  & values & tags & days\\\\\n",
       "  & <dbl> & <fct> & <fct>\\\\\n",
       "\\hline\n",
       "\t1 & 0.70 & short & 8DPA \\\\\n",
       "\t2 & 1.84 & short & 12DPA\\\\\n",
       "\t3 & 2.25 & short & 16DPA\\\\\n",
       "\t4 & 2.60 & short & 20DPA\\\\\n",
       "\t5 & 0.53 & long  & 8DPA \\\\\n",
       "\t6 & 1.25 & long  & 12DPA\\\\\n",
       "\\end{tabular}\n"
      ],
      "text/markdown": [
       "\n",
       "A data.frame: 6 × 3\n",
       "\n",
       "| <!--/--> | values &lt;dbl&gt; | tags &lt;fct&gt; | days &lt;fct&gt; |\n",
       "|---|---|---|---|\n",
       "| 1 | 0.70 | short | 8DPA  |\n",
       "| 2 | 1.84 | short | 12DPA |\n",
       "| 3 | 2.25 | short | 16DPA |\n",
       "| 4 | 2.60 | short | 20DPA |\n",
       "| 5 | 0.53 | long  | 8DPA  |\n",
       "| 6 | 1.25 | long  | 12DPA |\n",
       "\n"
      ],
      "text/plain": [
       "  values tags  days \n",
       "1 0.70   short 8DPA \n",
       "2 1.84   short 12DPA\n",
       "3 2.25   short 16DPA\n",
       "4 2.60   short 20DPA\n",
       "5 0.53   long  8DPA \n",
       "6 1.25   long  12DPA"
      ]
     },
     "metadata": {},
     "output_type": "display_data"
    }
   ],
   "source": [
    "## 纤维长度\n",
    "rm(list = ls())\n",
    "setwd('F:/Multip_species_3Dgenome/Figure6/Figure 6')\n",
    "library(ggplot2)\n",
    "library(ggrepel)\n",
    "df <- read.csv(\"fiber_length.txt\", sep = '\\t')\n",
    "df <- within(df, days <- factor(days, levels = c(\"8DPA\", \"12DPA\", \"16DPA\", \"20DPA\")))\n",
    "with(df, levels(days))\n",
    "head(df)"
   ]
  },
  {
   "cell_type": "code",
   "execution_count": 57,
   "metadata": {},
   "outputs": [
    {
     "data": {
      "image/png": "[encoded data removed]",
      "text/plain": [
       "plot without title"
      ]
     },
     "metadata": {
      "image/png": {
       "height": 420,
       "width": 420
      }
     },
     "output_type": "display_data"
    }
   ],
   "source": [
    "fg <- ggplot(df, aes(x = days, y = values, group=tags, color=tags)) + \n",
    "labs(x=\"Days\", y=\"Length of fiber\", fill=NULL)+\n",
    "theme(panel.background = element_blank(),\n",
    "      panel.grid = element_blank(),\n",
    "      axis.line=element_line(linetype=1,color=\"black\"),\n",
    "      axis.ticks.length = unit(0.25, \"cm\"),\n",
    "      legend.position = c(0.2, 0.8)\n",
    "     )+\n",
    "geom_line(size=1)+\n",
    "geom_point(size=2, alpha=0.9)+\n",
    "geom_text_repel(aes(x = days, y = values+0.1, label = values))+\n",
    "scale_color_manual(values = c(\"#FA5B4B\",\"#FA5B4B\"))\n",
    "fg\n",
    "ggsave(plot = fg, filename = \"fiber_length.pdf\", height = 3, width = 3)"
   ]
  },
  {
   "cell_type": "code",
   "execution_count": 6,
   "metadata": {},
   "outputs": [
    {
     "data": {
      "text/html": [
       "<style>\n",
       ".list-inline {list-style: none; margin:0; padding: 0}\n",
       ".list-inline>li {display: inline-block}\n",
       ".list-inline>li:not(:last-child)::after {content: \"\\00b7\"; padding: 0 .5ex}\n",
       "</style>\n",
       "<ol class=list-inline><li>'0DPA'</li><li>'5DPA'</li><li>'10DPA'</li><li>'20DPA'</li></ol>\n"
      ],
      "text/latex": [
       "\\begin{enumerate*}\n",
       "\\item '0DPA'\n",
       "\\item '5DPA'\n",
       "\\item '10DPA'\n",
       "\\item '20DPA'\n",
       "\\end{enumerate*}\n"
      ],
      "text/markdown": [
       "1. '0DPA'\n",
       "2. '5DPA'\n",
       "3. '10DPA'\n",
       "4. '20DPA'\n",
       "\n",
       "\n"
      ],
      "text/plain": [
       "[1] \"0DPA\"  \"5DPA\"  \"10DPA\" \"20DPA\""
      ]
     },
     "metadata": {},
     "output_type": "display_data"
    },
    {
     "data": {
      "image/png": "[encoded data removed]",
      "text/plain": [
       "plot without title"
      ]
     },
     "metadata": {
      "image/png": {
       "height": 420,
       "width": 420
      }
     },
     "output_type": "display_data"
    }
   ],
   "source": [
    "### 分析基因贫瘠区和基因富集区IDE的变化\n",
    "rm(list=ls())\n",
    "setwd('F:/fiber/airticle/GB_modification/IDE')\n",
    "library(ggplot2)\n",
    "ide_data <- read.csv('Rich_region_ide_adjust.txt', sep = '\\t', header = T)\n",
    "ide_data <- within(ide_data, days <- factor(days, levels = c(\"0DPA\", \"5DPA\", \"10DPA\", \"20DPA\")))\n",
    "with(ide_data, levels(days))\n",
    "#head(ide_data)\n",
    "#dpa0_at <- degree_data[(degree_data$days=='0DPA') & (degree_data$subgenome == 'At'),]\n",
    "ide <- ggplot(ide_data, aes(x=log10(bins*10000), y=log10((ide*100)), group=days, color=days)) +\n",
    "  geom_line(size=1)+\n",
    "  #geom_smooth(method = 'loess',se = FALSE )+\n",
    "  #geom_point()+\n",
    "  labs(x=\"Genomic distance (log10(bp))\", y='Contact probability (log10)') +   #不要标签\n",
    "  #geom_smooth(se = FALSE) +\n",
    "  #facet_grid(subgenome~days)+\n",
    "  theme(\n",
    "    panel.background = element_blank(), #去掉背景色\n",
    "    panel.grid.major = element_blank(), #去掉网格\n",
    "    panel.grid.minor = element_blank(),\n",
    "    axis.line=element_line(linetype=1,color=\"black\"),  #添加轴线   \n",
    "    axis.text=element_text(size=8,angle=0,color=\"Black\"), #设置轴字体\n",
    "    legend.text = element_text(size=8),\n",
    "    legend.title = element_text(size=8),\n",
    "    axis.title =element_text(size=10), #设置标签字体\n",
    "    legend.position=c(0.2, 0.2) #调整图例,\n",
    "  ) +\n",
    "  guides(color=guide_legend(title = \"Days post anthesis\"))+\n",
    "  scale_color_manual(values=c(\"#5B5B8C\",\"#89A65D\",'#F2BD1D', '#F2594B')) +\n",
    "  annotation_logticks() \n",
    "ide\n",
    "ggsave(plot = ide, filename = \"Rich_region_ide.pdf\", height = 3, width = 3)"
   ]
  },
  {
   "cell_type": "code",
   "execution_count": null,
   "metadata": {},
   "outputs": [],
   "source": []
  }
 ],
 "metadata": {
  "kernelspec": {
   "display_name": "R",
   "language": "R",
   "name": "ir"
  },
  "language_info": {
   "codemirror_mode": "r",
   "file_extension": ".r",
   "mimetype": "text/x-r-source",
   "name": "R",
   "pygments_lexer": "r",
   "version": "4.1.2"
  }
 },
 "nbformat": 4,
 "nbformat_minor": 4
}
