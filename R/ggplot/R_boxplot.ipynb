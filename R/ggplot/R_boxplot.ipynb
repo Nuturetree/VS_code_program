{
 "cells": [
  {
   "cell_type": "code",
   "execution_count": 7,
   "metadata": {
    "vscode": {
     "languageId": "r"
    }
   },
   "outputs": [
    {
     "data": {
      "text/html": [
       "<style>\n",
       ".list-inline {list-style: none; margin:0; padding: 0}\n",
       ".list-inline>li {display: inline-block}\n",
       ".list-inline>li:not(:last-child)::after {content: \"\\00b7\"; padding: 0 .5ex}\n",
       "</style>\n",
       "<ol class=list-inline><li>'4DPA'</li><li>'12DPA'</li><li>'20DPA'</li></ol>\n"
      ],
      "text/latex": [
       "\\begin{enumerate*}\n",
       "\\item '4DPA'\n",
       "\\item '12DPA'\n",
       "\\item '20DPA'\n",
       "\\end{enumerate*}\n"
      ],
      "text/markdown": [
       "1. '4DPA'\n",
       "2. '12DPA'\n",
       "3. '20DPA'\n",
       "\n",
       "\n"
      ],
      "text/plain": [
       "[1] \"4DPA\"  \"12DPA\" \"20DPA\""
      ]
     },
     "metadata": {},
     "output_type": "display_data"
    },
    {
     "data": {
      "image/png": "[encoded data removed]",
      "text/plain": [
       "plot without title"
      ]
     },
     "metadata": {
      "image/png": {
       "height": 420,
       "width": 420
      }
     },
     "output_type": "display_data"
    }
   ],
   "source": [
    "##比较J85和J98网络中保守的和动态的基因表达量\n",
    "rm(list = ls())\n",
    "setwd('F:/Multip_species_3Dgenome/Hi-C/loop/net/conserved')\n",
    "library(ggplot2)\n",
    "library(ggpubr)\n",
    "df <- read.csv('J85_J98.txt', sep = '\\t', header = T)\n",
    "df <- within(df, days <- factor(days, levels = c(\"4DPA\", \"12DPA\", \"20DPA\")))\n",
    "with(df, levels(days))\n",
    "fg <- ggplot(df, aes(x=species, y=log2(FPKM+1), fill=tags))+\n",
    "geom_boxplot(outlier.colour = NA, notch=FALSE, width=2)+\n",
    "labs(x=NULL, y='log2(FPKM+1)')+\n",
    "facet_grid(.~days)+\n",
    "coord_cartesian(ylim = c(0, 8)) +\n",
    "theme(panel.background = element_blank(), \n",
    "     panel.grid = element_blank(),\n",
    "     axis.line=element_line(linetype=1,color=\"black\"),\n",
    "     legend.position='top',\n",
    "     axis.ticks.length = unit(0.25, 'cm')\n",
    "     )+\n",
    "scale_fill_manual(values=c('#FDC2B1', \"#AAF0D1\"))\n",
    "fg\n",
    "ggsave(plot =fg, filename = 'J85_J98.pdf', height =3.5, width = 3)"
   ]
  },
  {
   "cell_type": "code",
   "execution_count": 8,
   "metadata": {
    "vscode": {
     "languageId": "r"
    }
   },
   "outputs": [
    {
     "data": {
      "text/html": [
       "<style>\n",
       ".list-inline {list-style: none; margin:0; padding: 0}\n",
       ".list-inline>li {display: inline-block}\n",
       ".list-inline>li:not(:last-child)::after {content: \"\\00b7\"; padding: 0 .5ex}\n",
       "</style>\n",
       "<ol class=list-inline><li>'4DPA'</li><li>'12DPA'</li><li>'20DPA'</li></ol>\n"
      ],
      "text/latex": [
       "\\begin{enumerate*}\n",
       "\\item '4DPA'\n",
       "\\item '12DPA'\n",
       "\\item '20DPA'\n",
       "\\end{enumerate*}\n"
      ],
      "text/markdown": [
       "1. '4DPA'\n",
       "2. '12DPA'\n",
       "3. '20DPA'\n",
       "\n",
       "\n"
      ],
      "text/plain": [
       "[1] \"4DPA\"  \"12DPA\" \"20DPA\""
      ]
     },
     "metadata": {},
     "output_type": "display_data"
    },
    {
     "data": {
      "image/png": "[encoded data removed]",
      "text/plain": [
       "plot without title"
      ]
     },
     "metadata": {
      "image/png": {
       "height": 180,
       "width": 210
      }
     },
     "output_type": "display_data"
    }
   ],
   "source": [
    "## 分析A/B compartment所包含基因的表达水平上的差异\n",
    "options(repr.plot.width=3.5,repr.plot.height=3)\n",
    "rm(list=ls())\n",
    "setwd('F:/Multip_species_3Dgenome/Hi-C/TAD/cpt')\n",
    "library(ggplot2)\n",
    "library(ggpubr)\n",
    "loop_data <- read.csv('J85_J98_ABcpt_gene.txt', sep = '\\t', header = T)\n",
    "loop_data <- within(loop_data, days <- factor(days, levels = c(\"4DPA\", \"12DPA\", \"20DPA\")))\n",
    "with(loop_data, levels(days))\n",
    "compaired <- list(c('J98','J85'))\n",
    "loop <- ggplot(loop_data, aes(x=species, y=log2(fpkm+1),fill=tags)) +  \n",
    "  #geom_point(alpha=0.85, size = 4, aes(color=days, shape = days))+\n",
    "  #geom_violin()+\n",
    "  geom_boxplot(outlier.colour = NA, notch=FALSE, width=2)+\n",
    "  labs(x=NULL, y='log2(FPKM+1)') +   #不要标签\n",
    "  facet_grid(days~.)+\n",
    "  #coord_cartesian(ylim = c(0,8))+\n",
    "  theme(\n",
    "    panel.background = element_blank(), #去掉背景色\n",
    "    panel.grid.major = element_blank(), #去掉网格\n",
    "    panel.grid.minor = element_blank(),\n",
    "    axis.line=element_line(linetype=1,color=\"black\"),  #添加轴线   \n",
    "    legend.position='none', #调整图例,\n",
    "    #axis.text.x = element_text(angle = 315, hjust = 0),\n",
    "    axis.ticks.length = unit(0.25, 'cm')\n",
    "  )+\n",
    "  #geom_signif(comparisons = compaired, step_increase = 0.05,test =t.test, tip_length=0.01,  y_position=c(6), textsize = 2)+\n",
    "  scale_fill_manual(values=c( '#B2182B', \"#2166AC\"))+\n",
    "  coord_flip(ylim = c(0,8))\n",
    "loop\n",
    "ggsave(plot =loop, filename = 'J85_J98_ABcpt_gene.pdf', height =3, width = 3.5,  dpi = 300)\n"
   ]
  },
  {
   "cell_type": "code",
   "execution_count": 28,
   "metadata": {
    "vscode": {
     "languageId": "r"
    }
   },
   "outputs": [
    {
     "data": {
      "text/html": [
       "<style>\n",
       ".list-inline {list-style: none; margin:0; padding: 0}\n",
       ".list-inline>li {display: inline-block}\n",
       ".list-inline>li:not(:last-child)::after {content: \"\\00b7\"; padding: 0 .5ex}\n",
       "</style>\n",
       "<ol class=list-inline><li>'0DPA'</li><li>'5DPA'</li><li>'10DPA'</li><li>'20DPA'</li></ol>\n"
      ],
      "text/latex": [
       "\\begin{enumerate*}\n",
       "\\item '0DPA'\n",
       "\\item '5DPA'\n",
       "\\item '10DPA'\n",
       "\\item '20DPA'\n",
       "\\end{enumerate*}\n"
      ],
      "text/markdown": [
       "1. '0DPA'\n",
       "2. '5DPA'\n",
       "3. '10DPA'\n",
       "4. '20DPA'\n",
       "\n",
       "\n"
      ],
      "text/plain": [
       "[1] \"0DPA\"  \"5DPA\"  \"10DPA\" \"20DPA\""
      ]
     },
     "metadata": {},
     "output_type": "display_data"
    },
    {
     "data": {
      "image/png": "[encoded data removed]",
      "text/plain": [
       "plot without title"
      ]
     },
     "metadata": {
      "image/png": {
       "height": 210,
       "width": 210
      }
     },
     "output_type": "display_data"
    }
   ],
   "source": [
    "## 分析rich region 和poor region的compartness \n",
    "options(repr.plot.width=3.5,repr.plot.height=3.5)\n",
    "rm(list = ls())\n",
    "setwd('F:/fiber/compact/iced')\n",
    "library(ggplot2)\n",
    "library(ggpubr)\n",
    "df <- read.csv('DPA_100k_cps_poor.txt', sep = '\\t', header = T)\n",
    "#df <- read.csv('DPA_100k_cps_rich.txt', sep = '\\t', header = T)\n",
    "#head(df)\n",
    "df <- within(df, days <- factor(days, levels = c(\"0DPA\", \"5DPA\", \"10DPA\", \"20DPA\")))\n",
    "with(df, levels(days))\n",
    "tg <- list(c('At', 'Dt'))\n",
    "fg <- ggplot(df, aes(x=subg, y=reads, fill=days))+\n",
    "geom_boxplot(outlier.colour = NA, notch=FALSE, width=2)+\n",
    "labs(x=NULL, y='Chromosome compactness')+\n",
    "facet_grid(.~days)+\n",
    "coord_cartesian(ylim = c(0, 0.35)) +\n",
    "theme(panel.background = element_blank(), \n",
    "     panel.grid = element_blank(),\n",
    "     axis.line=element_line(linetype=1,color=\"black\"),\n",
    "     legend.position='none',\n",
    "     axis.ticks.length = unit(0.25, 'cm')\n",
    "     )+\n",
    "geom_signif(comparisons = tg, step_increase = 0.1,test =wilcox.test, tip_length=0.01, y_position=c(0.2), textsize = 2)+\n",
    "scale_fill_manual(values=c('#5b5b8c', \"#89a65d\",\"#f2bd1d\", \"#f2594b\" ))\n",
    "fg\n",
    "ggsave(plot =fg, filename = '100k_subg_poor.pdf', height =3.5, width = 3,  dpi = 300)\n",
    "#ggsave(plot =fg, filename = '100k_subg_rich.pdf', height =3.5, width = 3,  dpi = 300)"
   ]
  },
  {
   "cell_type": "code",
   "execution_count": null,
   "metadata": {
    "vscode": {
     "languageId": "r"
    }
   },
   "outputs": [],
   "source": [
    "## 分析13个组织的基因表达量上的差异\n",
    "options(repr.plot.width=3.5,repr.plot.height=3.5)\n",
    "rm(list = ls())\n",
    "setwd('F:/J668_multip_tissue_3D-genome/RNA_seq/PCA')\n",
    "library(ggplot2)\n",
    "library(ggpubr)\n",
    "library(tidyr)\n",
    "library(reshape2)\n",
    "df <- read.csv('J668_all_tissue_TPM.txt', sep = '\\t', header = T)\n",
    "# df <- within(df, days <- factor(days, levels = c(\"0DPA\", \"5DPA\", \"10DPA\", \"20DPA\")))\n",
    "# with(df, levels(days))\n",
    "df_long <- melt(df, id.vars = c('GeneId'), measure.vars = c(\"anthers1\", \"anthers2\"), variable.name = 'species', values.name='TPM')\n",
    "df_long\n",
    "# fg <- ggplot(df, aes(x=subg, y=reads, fill=days))+\n",
    "# geom_boxplot(outlier.colour = NA, notch=FALSE, width=2)+\n",
    "# labs(x=NULL, y='Chromosome compactness')+\n",
    "# facet_grid(.~days)+\n",
    "# coord_cartesian(ylim = c(0, 0.35)) +\n",
    "# theme(panel.background = element_blank(), \n",
    "#      panel.grid = element_blank(),\n",
    "#      axis.line=element_line(linetype=1,color=\"black\"),\n",
    "#      legend.position='none',\n",
    "#      axis.ticks.length = unit(0.25, 'cm')\n",
    "#      )+\n",
    "# geom_signif(comparisons = tg, step_increase = 0.1,test =wilcox.test, tip_length=0.01, y_position=c(0.2), textsize = 2)+\n",
    "# scale_fill_manual(values=c('#5b5b8c', \"#89a65d\",\"#f2bd1d\", \"#f2594b\" ))\n",
    "# fg\n",
    "# ggsave(plot =fg, filename = '100k_subg_poor.pdf', height =3.5, width = 3,  dpi = 300)"
   ]
  }
 ],
 "metadata": {
  "kernelspec": {
   "display_name": "R",
   "language": "R",
   "name": "ir"
  },
  "language_info": {
   "codemirror_mode": "r",
   "file_extension": ".r",
   "mimetype": "text/x-r-source",
   "name": "R",
   "pygments_lexer": "r",
   "version": "4.1.2"
  }
 },
 "nbformat": 4,
 "nbformat_minor": 4
}
