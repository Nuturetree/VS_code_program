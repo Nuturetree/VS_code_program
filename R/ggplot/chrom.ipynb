{
 "cells": [
  {
   "cell_type": "code",
   "execution_count": 4,
   "metadata": {},
   "outputs": [],
   "source": [
    "### 画染色体\n",
    "setwd('F:/fiber/compartment/hicexplorer/iced/AB compartment  conversion mode/Chr06_5_25M')\n",
    "require(RIdeogram)\n",
    "library(readxl)\n",
    "chr_data = read_xlsx('chrom_Gb.xlsx')\n",
    "gene_data = read_xlsx('gene_density.xlsx')\n",
    "ab_data = read_xlsx('0-5D_AB_trans.xlsx')\n",
    "ideogram(karyotype = chr_data, overlaid = gene_data, label=ab_data, label_type=\"marker\")\n",
    "convertSVG(\"chromosome.svg\", device = \"png\")"
   ]
  },
  {
   "cell_type": "code",
   "execution_count": 1,
   "metadata": {},
   "outputs": [
    {
     "name": "stderr",
     "output_type": "stream",
     "text": [
      "'getOption(\"repos\")' replaces Bioconductor standard repositories, see\n",
      "'?repositories' for details\n",
      "\n",
      "replacement repositories:\n",
      "    CRAN: https://cran.r-project.org\n",
      "\n",
      "\n",
      "Bioconductor version 3.14 (BiocManager 1.30.16), R 4.1.2 (2021-11-01)\n",
      "\n",
      "Installing package(s) 'bnbc'\n",
      "\n",
      "还安装相依关系'xtable', 'annotate', 'genefilter', 'tiff', 'fftwtools', 'preprocessCore', 'sva', 'EBImage'\n",
      "\n",
      "\n"
     ]
    },
    {
     "name": "stdout",
     "output_type": "stream",
     "text": [
      "package 'xtable' successfully unpacked and MD5 sums checked\n",
      "package 'annotate' successfully unpacked and MD5 sums checked\n",
      "package 'genefilter' successfully unpacked and MD5 sums checked\n",
      "package 'tiff' successfully unpacked and MD5 sums checked\n",
      "package 'fftwtools' successfully unpacked and MD5 sums checked\n",
      "package 'preprocessCore' successfully unpacked and MD5 sums checked\n",
      "package 'sva' successfully unpacked and MD5 sums checked\n",
      "package 'EBImage' successfully unpacked and MD5 sums checked\n",
      "package 'bnbc' successfully unpacked and MD5 sums checked\n",
      "\n",
      "The downloaded binary packages are in\n",
      "\tC:\\Users\\pc\\AppData\\Local\\Temp\\RtmpacSKug\\downloaded_packages\n"
     ]
    },
    {
     "name": "stderr",
     "output_type": "stream",
     "text": [
      "Old packages: 'backports', 'BH', 'Biobase', 'BiocGenerics', 'BiocParallel',\n",
      "  'biomaRt', 'Biostrings', 'brio', 'CGHbase', 'CGHcall', 'conquer', 'cpp11',\n",
      "  'credentials', 'DelayedArray', 'devtools', 'digest', 'DNAcopy', 'fs',\n",
      "  'GenomeInfoDb', 'GenomeInfoDbData', 'GenomicRanges', 'gert', 'glue',\n",
      "  'HiCcompare', 'impute', 'InteractionSet', 'IRanges', 'knitr', 'limma',\n",
      "  'marray', 'Matrix', 'MatrixGenerics', 'memoise', 'microbenchmark', 'nloptr',\n",
      "  'parallelly', 'pkgbuild', 'pkgload', 'QDNAseq', 'RcppArmadillo', 'readr',\n",
      "  'remotes', 'rhdf5', 'rhdf5filters', 'Rhdf5lib', 'Rhtslib', 'Rsamtools',\n",
      "  'RSQLite', 'S4Vectors', 'sessioninfo', 'sp', 'stringi',\n",
      "  'SummarizedExperiment', 'Sushi', 'TADCompare', 'testthat', 'tibble',\n",
      "  'usethis', 'vroom', 'withr', 'xfun', 'xml2', 'XVector', 'zlibbioc'\n",
      "\n"
     ]
    }
   ],
   "source": []
  },
  {
   "cell_type": "markdown",
   "metadata": {},
   "source": []
  }
 ],
 "metadata": {
  "kernelspec": {
   "display_name": "R",
   "language": "R",
   "name": "ir"
  },
  "language_info": {
   "codemirror_mode": "r",
   "file_extension": ".r",
   "mimetype": "text/x-r-source",
   "name": "R",
   "pygments_lexer": "r",
   "version": "4.1.2"
  },
  "orig_nbformat": 4
 },
 "nbformat": 4,
 "nbformat_minor": 2
}
