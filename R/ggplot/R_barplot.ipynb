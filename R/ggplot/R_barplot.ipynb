{
 "cells": [
  {
   "cell_type": "code",
   "execution_count": 1,
   "metadata": {},
   "outputs": [],
   "source": [
    "## 分析J85和J98在4 DPA, 12 DPA 和20 DPA 的保守率"
   ]
  },
  {
   "cell_type": "code",
   "execution_count": 28,
   "metadata": {},
   "outputs": [
    {
     "data": {
      "text/html": [
       "<style>\n",
       ".list-inline {list-style: none; margin:0; padding: 0}\n",
       ".list-inline>li {display: inline-block}\n",
       ".list-inline>li:not(:last-child)::after {content: \"\\00b7\"; padding: 0 .5ex}\n",
       "</style>\n",
       "<ol class=list-inline><li>'12DPA'</li><li>'20DPA'</li><li>'4DPA'</li></ol>\n"
      ],
      "text/latex": [
       "\\begin{enumerate*}\n",
       "\\item '12DPA'\n",
       "\\item '20DPA'\n",
       "\\item '4DPA'\n",
       "\\end{enumerate*}\n"
      ],
      "text/markdown": [
       "1. '12DPA'\n",
       "2. '20DPA'\n",
       "3. '4DPA'\n",
       "\n",
       "\n"
      ],
      "text/plain": [
       "[1] \"12DPA\" \"20DPA\" \"4DPA\" "
      ]
     },
     "metadata": {},
     "output_type": "display_data"
    },
    {
     "data": {
      "text/html": [
       "<style>\n",
       ".list-inline {list-style: none; margin:0; padding: 0}\n",
       ".list-inline>li {display: inline-block}\n",
       ".list-inline>li:not(:last-child)::after {content: \"\\00b7\"; padding: 0 .5ex}\n",
       "</style>\n",
       "<ol class=list-inline><li>'compartment'</li><li>'TAD'</li><li>'loop'</li></ol>\n"
      ],
      "text/latex": [
       "\\begin{enumerate*}\n",
       "\\item 'compartment'\n",
       "\\item 'TAD'\n",
       "\\item 'loop'\n",
       "\\end{enumerate*}\n"
      ],
      "text/markdown": [
       "1. 'compartment'\n",
       "2. 'TAD'\n",
       "3. 'loop'\n",
       "\n",
       "\n"
      ],
      "text/plain": [
       "[1] \"compartment\" \"TAD\"         \"loop\"       "
      ]
     },
     "metadata": {},
     "output_type": "display_data"
    },
    {
     "data": {
      "text/html": [
       "<table class=\"dataframe\">\n",
       "<caption>A data.frame: 6 × 4</caption>\n",
       "<thead>\n",
       "\t<tr><th></th><th scope=col>tags</th><th scope=col>values</th><th scope=col>days</th><th scope=col>species</th></tr>\n",
       "\t<tr><th></th><th scope=col>&lt;fct&gt;</th><th scope=col>&lt;dbl&gt;</th><th scope=col>&lt;fct&gt;</th><th scope=col>&lt;fct&gt;</th></tr>\n",
       "</thead>\n",
       "<tbody>\n",
       "\t<tr><th scope=row>1</th><td>compartment</td><td>92.51</td><td>NA</td><td>J85</td></tr>\n",
       "\t<tr><th scope=row>2</th><td>TAD        </td><td>92.48</td><td>NA</td><td>J85</td></tr>\n",
       "\t<tr><th scope=row>3</th><td>loop       </td><td>35.65</td><td>NA</td><td>J85</td></tr>\n",
       "\t<tr><th scope=row>4</th><td>compartment</td><td>94.97</td><td>NA</td><td>J98</td></tr>\n",
       "\t<tr><th scope=row>5</th><td>TAD        </td><td>94.54</td><td>NA</td><td>J98</td></tr>\n",
       "\t<tr><th scope=row>6</th><td>loop       </td><td>47.49</td><td>NA</td><td>J98</td></tr>\n",
       "</tbody>\n",
       "</table>\n"
      ],
      "text/latex": [
       "A data.frame: 6 × 4\n",
       "\\begin{tabular}{r|llll}\n",
       "  & tags & values & days & species\\\\\n",
       "  & <fct> & <dbl> & <fct> & <fct>\\\\\n",
       "\\hline\n",
       "\t1 & compartment & 92.51 & NA & J85\\\\\n",
       "\t2 & TAD         & 92.48 & NA & J85\\\\\n",
       "\t3 & loop        & 35.65 & NA & J85\\\\\n",
       "\t4 & compartment & 94.97 & NA & J98\\\\\n",
       "\t5 & TAD         & 94.54 & NA & J98\\\\\n",
       "\t6 & loop        & 47.49 & NA & J98\\\\\n",
       "\\end{tabular}\n"
      ],
      "text/markdown": [
       "\n",
       "A data.frame: 6 × 4\n",
       "\n",
       "| <!--/--> | tags &lt;fct&gt; | values &lt;dbl&gt; | days &lt;fct&gt; | species &lt;fct&gt; |\n",
       "|---|---|---|---|---|\n",
       "| 1 | compartment | 92.51 | NA | J85 |\n",
       "| 2 | TAD         | 92.48 | NA | J85 |\n",
       "| 3 | loop        | 35.65 | NA | J85 |\n",
       "| 4 | compartment | 94.97 | NA | J98 |\n",
       "| 5 | TAD         | 94.54 | NA | J98 |\n",
       "| 6 | loop        | 47.49 | NA | J98 |\n",
       "\n"
      ],
      "text/plain": [
       "  tags        values days species\n",
       "1 compartment 92.51  NA   J85    \n",
       "2 TAD         92.48  NA   J85    \n",
       "3 loop        35.65  NA   J85    \n",
       "4 compartment 94.97  NA   J98    \n",
       "5 TAD         94.54  NA   J98    \n",
       "6 loop        47.49  NA   J98    "
      ]
     },
     "metadata": {},
     "output_type": "display_data"
    }
   ],
   "source": [
    "rm(list=ls())\n",
    "setwd('F:/Multip_species_3Dgenome/Figure6/Figure 6')\n",
    "library(ggplot2)\n",
    "library(ggrepel)\n",
    "df <- read.csv(\"cpt_TAD_loop_conserved.txt\", sep = '\\t')\n",
    "df <- within(df, tags <- factor(tags, levels = c(\"compartment\", \"TAD\",  \"loop\")))\n",
    "with(df, levels(days))\n",
    "df <- within(df, days <- factor(days, levels = c(\"compartment\", \"TAD\",  \"loop\")))\n",
    "with(df, levels(days))\n",
    "head(df)"
   ]
  },
  {
   "cell_type": "code",
   "execution_count": 52,
   "metadata": {},
   "outputs": [
    {
     "data": {
      "image/png": "[encoded data removed]",
      "text/plain": [
       "plot without title"
      ]
     },
     "metadata": {
      "image/png": {
       "height": 420,
       "width": 420
      }
     },
     "output_type": "display_data"
    }
   ],
   "source": [
    "fg <- ggplot(df, aes(x = tags, y = values, fill=tags)) +\n",
    "geom_bar(stat = \"identity\", position = \"dodge\", color = \"black\")+\n",
    "labs(x=NULL, y=\"Proportion of conservative structure\", fill=NULL)+\n",
    "facet_grid(species~.)+\n",
    "theme(\n",
    "    panel.background = element_blank(),\n",
    "    panel.grid = element_blank(),\n",
    "    axis.line=element_line(linetype=1,color=\"black\"),\n",
    "    axis.ticks.length = unit(0.25, \"cm\"),\n",
    "    #axis.text.x = element_text(angle = 45, hjust = 1),\n",
    "    legend.position = \"none\"\n",
    "     )+\n",
    "scale_fill_manual(values = c(\"#FA5B4B\",\"#B9ACFA\", \"#CCFAD3\"))+\n",
    "coord_flip()\n",
    "fg\n",
    "ggsave(plot = fg, filename = \"cpt_TAD_loop_conserved.pdf\", height = 3, width = 4)"
   ]
  },
  {
   "cell_type": "code",
   "execution_count": 4,
   "metadata": {},
   "outputs": [
    {
     "data": {
      "text/html": [
       "<style>\n",
       ".list-inline {list-style: none; margin:0; padding: 0}\n",
       ".list-inline>li {display: inline-block}\n",
       ".list-inline>li:not(:last-child)::after {content: \"\\00b7\"; padding: 0 .5ex}\n",
       "</style>\n",
       "<ol class=list-inline><li>'loop'</li><li>'TAD'</li><li>'compartment'</li></ol>\n"
      ],
      "text/latex": [
       "\\begin{enumerate*}\n",
       "\\item 'loop'\n",
       "\\item 'TAD'\n",
       "\\item 'compartment'\n",
       "\\end{enumerate*}\n"
      ],
      "text/markdown": [
       "1. 'loop'\n",
       "2. 'TAD'\n",
       "3. 'compartment'\n",
       "\n",
       "\n"
      ],
      "text/plain": [
       "[1] \"loop\"        \"TAD\"         \"compartment\""
      ]
     },
     "metadata": {},
     "output_type": "display_data"
    },
    {
     "data": {
      "text/html": [
       "<style>\n",
       ".list-inline {list-style: none; margin:0; padding: 0}\n",
       ".list-inline>li {display: inline-block}\n",
       ".list-inline>li:not(:last-child)::after {content: \"\\00b7\"; padding: 0 .5ex}\n",
       "</style>\n",
       "<ol class=list-inline><li>'4DPA'</li><li>'12DPA'</li><li>'20DPA'</li></ol>\n"
      ],
      "text/latex": [
       "\\begin{enumerate*}\n",
       "\\item '4DPA'\n",
       "\\item '12DPA'\n",
       "\\item '20DPA'\n",
       "\\end{enumerate*}\n"
      ],
      "text/markdown": [
       "1. '4DPA'\n",
       "2. '12DPA'\n",
       "3. '20DPA'\n",
       "\n",
       "\n"
      ],
      "text/plain": [
       "[1] \"4DPA\"  \"12DPA\" \"20DPA\""
      ]
     },
     "metadata": {},
     "output_type": "display_data"
    }
   ],
   "source": [
    "##  J85和J98差异3Dgenome 所能够包含的差异表达基因\n",
    "rm(list=ls())\n",
    "setwd('F:/Multip_species_3Dgenome/Hi-C/diff_3Dgenome_diff_gene')\n",
    "library(ggplot2)\n",
    "df <- read.csv(\"diff_3Dgenome_diff_gene.txt\", sep = '\\t')\n",
    "df <- within(df, tags <- factor(tags, levels = c(\"loop\", \"TAD\",  \"compartment\")))\n",
    "with(df, levels(tags))\n",
    "df <- within(df, days <- factor(days, levels = c(\"4DPA\", \"12DPA\",  \"20DPA\")))\n",
    "with(df, levels(days))"
   ]
  },
  {
   "cell_type": "code",
   "execution_count": 6,
   "metadata": {},
   "outputs": [
    {
     "data": {
      "image/png": "[encoded data removed]",
      "text/plain": [
       "plot without title"
      ]
     },
     "metadata": {
      "image/png": {
       "height": 120,
       "width": 240
      }
     },
     "output_type": "display_data"
    }
   ],
   "source": [
    "options(repr.plot.width=4,repr.plot.height=2)\n",
    "fg <- ggplot(df, aes(x = tags, y = values, fill=tags)) +\n",
    "geom_bar(stat = \"identity\", position = \"dodge\", color = \"black\")+\n",
    "labs(x=NULL, y=\"Number of differentially expressed genes\", fill=NULL)+\n",
    "facet_grid(days~.)+\n",
    "theme(\n",
    "    panel.background = element_blank(),\n",
    "    panel.grid = element_blank(),\n",
    "    axis.line=element_line(linetype=1,color=\"black\"),\n",
    "    axis.ticks.length = unit(0.25, \"cm\"),\n",
    "    #axis.text.x = element_text(angle = 45, hjust = 1),\n",
    "    legend.position = \"none\"\n",
    "     )+\n",
    "scale_fill_manual(values = c(\"#FA5B4B\",\"#B9ACFA\", \"#CCFAD3\"))+\n",
    "coord_flip()\n",
    "fg\n",
    "ggsave(plot = fg, filename = \"diff_3Dgenome_diff_gene.pdf\", height = 3, width = 4)"
   ]
  },
  {
   "cell_type": "code",
   "execution_count": 14,
   "metadata": {},
   "outputs": [
    {
     "data": {
      "text/html": [
       "<style>\n",
       ".list-inline {list-style: none; margin:0; padding: 0}\n",
       ".list-inline>li {display: inline-block}\n",
       ".list-inline>li:not(:last-child)::after {content: \"\\00b7\"; padding: 0 .5ex}\n",
       "</style>\n",
       "<ol class=list-inline><li>'4 DPA'</li><li>'12 DPA'</li><li>'20 DPA'</li></ol>\n"
      ],
      "text/latex": [
       "\\begin{enumerate*}\n",
       "\\item '4 DPA'\n",
       "\\item '12 DPA'\n",
       "\\item '20 DPA'\n",
       "\\end{enumerate*}\n"
      ],
      "text/markdown": [
       "1. '4 DPA'\n",
       "2. '12 DPA'\n",
       "3. '20 DPA'\n",
       "\n",
       "\n"
      ],
      "text/plain": [
       "[1] \"4 DPA\"  \"12 DPA\" \"20 DPA\""
      ]
     },
     "metadata": {},
     "output_type": "display_data"
    },
    {
     "data": {
      "text/html": [
       "<table class=\"dataframe\">\n",
       "<caption>A data.frame: 6 × 3</caption>\n",
       "<thead>\n",
       "\t<tr><th></th><th scope=col>number</th><th scope=col>tags</th><th scope=col>days</th></tr>\n",
       "\t<tr><th></th><th scope=col>&lt;int&gt;</th><th scope=col>&lt;fct&gt;</th><th scope=col>&lt;fct&gt;</th></tr>\n",
       "</thead>\n",
       "<tbody>\n",
       "\t<tr><th scope=row>1</th><td>2539</td><td>J85</td><td>4 DPA </td></tr>\n",
       "\t<tr><th scope=row>2</th><td>2611</td><td>J85</td><td>12 DPA</td></tr>\n",
       "\t<tr><th scope=row>3</th><td>2524</td><td>J85</td><td>20 DPA</td></tr>\n",
       "\t<tr><th scope=row>4</th><td>2510</td><td>J98</td><td>4 DPA </td></tr>\n",
       "\t<tr><th scope=row>5</th><td>2607</td><td>J98</td><td>12 DPA</td></tr>\n",
       "\t<tr><th scope=row>6</th><td>2592</td><td>J98</td><td>20 DPA</td></tr>\n",
       "</tbody>\n",
       "</table>\n"
      ],
      "text/latex": [
       "A data.frame: 6 × 3\n",
       "\\begin{tabular}{r|lll}\n",
       "  & number & tags & days\\\\\n",
       "  & <int> & <fct> & <fct>\\\\\n",
       "\\hline\n",
       "\t1 & 2539 & J85 & 4 DPA \\\\\n",
       "\t2 & 2611 & J85 & 12 DPA\\\\\n",
       "\t3 & 2524 & J85 & 20 DPA\\\\\n",
       "\t4 & 2510 & J98 & 4 DPA \\\\\n",
       "\t5 & 2607 & J98 & 12 DPA\\\\\n",
       "\t6 & 2592 & J98 & 20 DPA\\\\\n",
       "\\end{tabular}\n"
      ],
      "text/markdown": [
       "\n",
       "A data.frame: 6 × 3\n",
       "\n",
       "| <!--/--> | number &lt;int&gt; | tags &lt;fct&gt; | days &lt;fct&gt; |\n",
       "|---|---|---|---|\n",
       "| 1 | 2539 | J85 | 4 DPA  |\n",
       "| 2 | 2611 | J85 | 12 DPA |\n",
       "| 3 | 2524 | J85 | 20 DPA |\n",
       "| 4 | 2510 | J98 | 4 DPA  |\n",
       "| 5 | 2607 | J98 | 12 DPA |\n",
       "| 6 | 2592 | J98 | 20 DPA |\n",
       "\n"
      ],
      "text/plain": [
       "  number tags days  \n",
       "1 2539   J85  4 DPA \n",
       "2 2611   J85  12 DPA\n",
       "3 2524   J85  20 DPA\n",
       "4 2510   J98  4 DPA \n",
       "5 2607   J98  12 DPA\n",
       "6 2592   J98  20 DPA"
      ]
     },
     "metadata": {},
     "output_type": "display_data"
    }
   ],
   "source": [
    "## 统计时期TAD的数量\n",
    "rm(list=ls())\n",
    "setwd('F:/Multip_species_3Dgenome/Hi-C/TAD')\n",
    "library(ggplot2)\n",
    "library(ggrepel)\n",
    "library(ggbreak)\n",
    "df <- read.csv(\"TAD_number_200K-2M.txt\", sep = '\\t')\n",
    "df <- within(df, days <- factor(days, levels = c(\"4 DPA\", \"12 DPA\",  \"20 DPA\")))\n",
    "with(df, levels(days))\n",
    "head(df)"
   ]
  },
  {
   "cell_type": "code",
   "execution_count": 31,
   "metadata": {},
   "outputs": [
    {
     "data": {
      "image/png": "[encoded data removed]",
      "text/plain": [
       "plot without title"
      ]
     },
     "metadata": {
      "image/png": {
       "height": 240,
       "width": 240
      }
     },
     "output_type": "display_data"
    }
   ],
   "source": [
    "options(repr.plot.width=4,repr.plot.height=4)\n",
    "fg <- ggplot(df, aes(x = tags, y = number, fill=tags)) +\n",
    "geom_bar(stat = \"identity\", position = \"dodge\", color = \"black\")+\n",
    "labs(x=NULL, y=NULL, fill=NULL)+\n",
    "facet_grid(.~days)+\n",
    "theme(\n",
    "    panel.background = element_blank(),\n",
    "    panel.grid = element_blank(),\n",
    "    axis.line=element_line(linetype=1,color=\"black\"),\n",
    "    axis.ticks.length = unit(0.25, \"cm\"),\n",
    "    #axis.text.x = element_text(angle = 45, hjust = 1),\n",
    "    legend.position = \"none\"\n",
    "     )+\n",
    "scale_fill_manual(values = c(\"#3EA2E6\", \"#F20505\"))+\n",
    "scale_y_break(c(10, 2400), scales = 5)\n",
    "fg\n",
    "ggsave(plot = fg, filename = \"TAD_number_200K-2M.pdf\", height = 3.5, width = 3)"
   ]
  },
  {
   "cell_type": "code",
   "execution_count": 12,
   "metadata": {},
   "outputs": [
    {
     "data": {
      "text/html": [
       "<style>\n",
       ".list-inline {list-style: none; margin:0; padding: 0}\n",
       ".list-inline>li {display: inline-block}\n",
       ".list-inline>li:not(:last-child)::after {content: \"\\00b7\"; padding: 0 .5ex}\n",
       "</style>\n",
       "<ol class=list-inline><li>'20 DPA'</li><li>'12 DPA'</li><li>'4 DPA'</li></ol>\n"
      ],
      "text/latex": [
       "\\begin{enumerate*}\n",
       "\\item '20 DPA'\n",
       "\\item '12 DPA'\n",
       "\\item '4 DPA'\n",
       "\\end{enumerate*}\n"
      ],
      "text/markdown": [
       "1. '20 DPA'\n",
       "2. '12 DPA'\n",
       "3. '4 DPA'\n",
       "\n",
       "\n"
      ],
      "text/plain": [
       "[1] \"20 DPA\" \"12 DPA\" \"4 DPA\" "
      ]
     },
     "metadata": {},
     "output_type": "display_data"
    },
    {
     "data": {
      "text/html": [
       "<table class=\"dataframe\">\n",
       "<caption>A data.frame: 6 × 7</caption>\n",
       "<thead>\n",
       "\t<tr><th></th><th scope=col>G_loops</th><th scope=col>GN_loops</th><th scope=col>All_loops</th><th scope=col>ratio</th><th scope=col>GN_ratio</th><th scope=col>species</th><th scope=col>days</th></tr>\n",
       "\t<tr><th></th><th scope=col>&lt;int&gt;</th><th scope=col>&lt;int&gt;</th><th scope=col>&lt;int&gt;</th><th scope=col>&lt;dbl&gt;</th><th scope=col>&lt;dbl&gt;</th><th scope=col>&lt;fct&gt;</th><th scope=col>&lt;fct&gt;</th></tr>\n",
       "</thead>\n",
       "<tbody>\n",
       "\t<tr><th scope=row>1</th><td>28270</td><td>18172</td><td> 73003</td><td>0.3872444</td><td>0.2489213</td><td>J85</td><td>4 DPA </td></tr>\n",
       "\t<tr><th scope=row>2</th><td>26021</td><td>18691</td><td> 84056</td><td>0.3095674</td><td>0.2223637</td><td>J85</td><td>12 DPA</td></tr>\n",
       "\t<tr><th scope=row>3</th><td>11283</td><td> 8154</td><td> 39008</td><td>0.2892484</td><td>0.2090340</td><td>J85</td><td>20 DPA</td></tr>\n",
       "\t<tr><th scope=row>4</th><td>30499</td><td>20247</td><td> 83255</td><td>0.3663324</td><td>0.2431926</td><td>J98</td><td>4 DPA </td></tr>\n",
       "\t<tr><th scope=row>5</th><td>50304</td><td>29071</td><td>113783</td><td>0.4421047</td><td>0.2554951</td><td>J98</td><td>12 DPA</td></tr>\n",
       "\t<tr><th scope=row>6</th><td>22131</td><td>13556</td><td> 47834</td><td>0.4626625</td><td>0.2833967</td><td>J98</td><td>20 DPA</td></tr>\n",
       "</tbody>\n",
       "</table>\n"
      ],
      "text/latex": [
       "A data.frame: 6 × 7\n",
       "\\begin{tabular}{r|lllllll}\n",
       "  & G\\_loops & GN\\_loops & All\\_loops & ratio & GN\\_ratio & species & days\\\\\n",
       "  & <int> & <int> & <int> & <dbl> & <dbl> & <fct> & <fct>\\\\\n",
       "\\hline\n",
       "\t1 & 28270 & 18172 &  73003 & 0.3872444 & 0.2489213 & J85 & 4 DPA \\\\\n",
       "\t2 & 26021 & 18691 &  84056 & 0.3095674 & 0.2223637 & J85 & 12 DPA\\\\\n",
       "\t3 & 11283 &  8154 &  39008 & 0.2892484 & 0.2090340 & J85 & 20 DPA\\\\\n",
       "\t4 & 30499 & 20247 &  83255 & 0.3663324 & 0.2431926 & J98 & 4 DPA \\\\\n",
       "\t5 & 50304 & 29071 & 113783 & 0.4421047 & 0.2554951 & J98 & 12 DPA\\\\\n",
       "\t6 & 22131 & 13556 &  47834 & 0.4626625 & 0.2833967 & J98 & 20 DPA\\\\\n",
       "\\end{tabular}\n"
      ],
      "text/markdown": [
       "\n",
       "A data.frame: 6 × 7\n",
       "\n",
       "| <!--/--> | G_loops &lt;int&gt; | GN_loops &lt;int&gt; | All_loops &lt;int&gt; | ratio &lt;dbl&gt; | GN_ratio &lt;dbl&gt; | species &lt;fct&gt; | days &lt;fct&gt; |\n",
       "|---|---|---|---|---|---|---|---|\n",
       "| 1 | 28270 | 18172 |  73003 | 0.3872444 | 0.2489213 | J85 | 4 DPA  |\n",
       "| 2 | 26021 | 18691 |  84056 | 0.3095674 | 0.2223637 | J85 | 12 DPA |\n",
       "| 3 | 11283 |  8154 |  39008 | 0.2892484 | 0.2090340 | J85 | 20 DPA |\n",
       "| 4 | 30499 | 20247 |  83255 | 0.3663324 | 0.2431926 | J98 | 4 DPA  |\n",
       "| 5 | 50304 | 29071 | 113783 | 0.4421047 | 0.2554951 | J98 | 12 DPA |\n",
       "| 6 | 22131 | 13556 |  47834 | 0.4626625 | 0.2833967 | J98 | 20 DPA |\n",
       "\n"
      ],
      "text/plain": [
       "  G_loops GN_loops All_loops ratio     GN_ratio  species days  \n",
       "1 28270   18172     73003    0.3872444 0.2489213 J85     4 DPA \n",
       "2 26021   18691     84056    0.3095674 0.2223637 J85     12 DPA\n",
       "3 11283    8154     39008    0.2892484 0.2090340 J85     20 DPA\n",
       "4 30499   20247     83255    0.3663324 0.2431926 J98     4 DPA \n",
       "5 50304   29071    113783    0.4421047 0.2554951 J98     12 DPA\n",
       "6 22131   13556     47834    0.4626625 0.2833967 J98     20 DPA"
      ]
     },
     "metadata": {},
     "output_type": "display_data"
    }
   ],
   "source": [
    "## 分析与基因相关的loop所占比例\n",
    "rm(list=ls())\n",
    "setwd('F:/Multip_species_3Dgenome/Hi-C/loop')\n",
    "library(ggplot2)\n",
    "library(ggrepel)\n",
    "library(ggbreak)\n",
    "df <- read.csv(\"G_loops_ratio.txt\", sep = '\\t')\n",
    "df <- within(df, days <- factor(days, levels = c(\"20 DPA\", \"12 DPA\",  \"4 DPA\")))\n",
    "with(df, levels(days))\n",
    "head(df)"
   ]
  },
  {
   "cell_type": "code",
   "execution_count": 16,
   "metadata": {},
   "outputs": [
    {
     "data": {
      "image/png": "[encoded data removed]",
      "text/plain": [
       "plot without title"
      ]
     },
     "metadata": {
      "image/png": {
       "height": 240,
       "width": 240
      }
     },
     "output_type": "display_data"
    }
   ],
   "source": [
    "options(repr.plot.width=4,repr.plot.height=4)\n",
    "fg <- ggplot(df, aes(x = days, y = GN_ratio*100, fill=days)) +\n",
    "geom_bar(stat = \"identity\", position = \"dodge\", color = \"black\")+\n",
    "geom_text(aes(label = round(GN_loops, digits = 2), y =10), size=5)+\n",
    "labs(x=NULL, y=\"Proportion of the G-N loops\", fill=NULL)+\n",
    "facet_grid(species~.)+\n",
    "theme(\n",
    "    panel.background = element_blank(),\n",
    "    panel.grid = element_blank(),\n",
    "    axis.line=element_line(linetype=1,color=\"black\"),\n",
    "    axis.ticks.length = unit(0.25, \"cm\"),\n",
    "   # axis.text.x = element_text(angle = 45, hjust = 1),\n",
    "    legend.position = \"none\"\n",
    "     )+\n",
    "scale_fill_manual(values = c(\"#FF8D82\", \"#FFF18E\", \"#BBFFE8\"))+\n",
    "coord_flip()\n",
    "fg\n",
    "ggsave(plot = fg, filename = \"G_loops_ratio.pdf\", height = 3, width = 3.8)"
   ]
  },
  {
   "cell_type": "code",
   "execution_count": 94,
   "metadata": {},
   "outputs": [
    {
     "data": {
      "text/html": [
       "<style>\n",
       ".list-inline {list-style: none; margin:0; padding: 0}\n",
       ".list-inline>li {display: inline-block}\n",
       ".list-inline>li:not(:last-child)::after {content: \"\\00b7\"; padding: 0 .5ex}\n",
       "</style>\n",
       "<ol class=list-inline><li>'4 DPA'</li><li>'12 DPA'</li><li>'20 DPA'</li></ol>\n"
      ],
      "text/latex": [
       "\\begin{enumerate*}\n",
       "\\item '4 DPA'\n",
       "\\item '12 DPA'\n",
       "\\item '20 DPA'\n",
       "\\end{enumerate*}\n"
      ],
      "text/markdown": [
       "1. '4 DPA'\n",
       "2. '12 DPA'\n",
       "3. '20 DPA'\n",
       "\n",
       "\n"
      ],
      "text/plain": [
       "[1] \"4 DPA\"  \"12 DPA\" \"20 DPA\""
      ]
     },
     "metadata": {},
     "output_type": "display_data"
    },
    {
     "data": {
      "image/png": "[encoded data removed]",
      "text/plain": [
       "plot without title"
      ]
     },
     "metadata": {
      "image/png": {
       "height": 150,
       "width": 120
      }
     },
     "output_type": "display_data"
    }
   ],
   "source": [
    "## 分析eqtl与loop overlap 并且与random比较\n",
    "##比较J85和J98网络中保守的和动态的基因表达量\n",
    "rm(list = ls())\n",
    "options(repr.plot.width=2,repr.plot.height=2.5)\n",
    "setwd('F:/Multip_species_3Dgenome/Hi-C/eqtl_loop/eqtl_loop_overlap')\n",
    "library(ggplot2)\n",
    "library(ggpubr)\n",
    "df <- read.csv('eqtl_loop_overlap.txt', sep = '\\t', header = T)\n",
    "df <- within(df, days <- factor(days, levels = c(\"4 DPA\", \"12 DPA\", \"20 DPA\")))\n",
    "with(df, levels(days))\n",
    "\n",
    "fg <- ggplot(df, aes(x=tags, y=100*ratio, fill=tags))+\n",
    "geom_bar(stat = \"identity\", position = \"stack\", color = \"black\")+\n",
    "labs(x=NULL, y='Proportion of eqtls')+\n",
    "facet_grid(.~days)+\n",
    "#coord_cartesian(ylim = c(0, 8)) +\n",
    "theme(panel.background = element_blank(), \n",
    "     panel.grid = element_blank(),\n",
    "     axis.line=element_line(linetype=1,color=\"black\"),\n",
    "     legend.position='top',\n",
    "     axis.ticks.length = unit(0.25, 'cm')\n",
    "     )+\n",
    "scale_fill_manual(values=c(\"#F25C05\",'#D6D6D6'))\n",
    "fg\n",
    "ggsave(plot =fg, filename = 'eqtl_loop_overlap.pdf', height =3.5, width = 3)"
   ]
  },
  {
   "cell_type": "code",
   "execution_count": 89,
   "metadata": {},
   "outputs": [
    {
     "data": {
      "text/plain": [
       "\n",
       "\tPearson's Chi-squared test with Yates' continuity correction\n",
       "\n",
       "data:  ab\n",
       "X-squared = 437.73, df = 1, p-value < 2.2e-16\n"
      ]
     },
     "metadata": {},
     "output_type": "display_data"
    },
    {
     "data": {
      "text/plain": [
       "\n",
       "\tPearson's Chi-squared test with Yates' continuity correction\n",
       "\n",
       "data:  ab\n",
       "X-squared = 740.28, df = 1, p-value < 2.2e-16\n"
      ]
     },
     "metadata": {},
     "output_type": "display_data"
    },
    {
     "data": {
      "text/plain": [
       "\n",
       "\tPearson's Chi-squared test with Yates' continuity correction\n",
       "\n",
       "data:  ab\n",
       "X-squared = 360.92, df = 1, p-value < 2.2e-16\n"
      ]
     },
     "metadata": {},
     "output_type": "display_data"
    }
   ],
   "source": [
    "## 4DPA\n",
    "a=c(1607, 7976)\n",
    "#b=c(548, 9583)\n",
    "b=c(669, 8914)\n",
    "\n",
    "ab <- data.frame(a, b)\n",
    "chisq.test(ab)\n",
    "## 12 DPA\n",
    "a=c(1581, 5506)\n",
    "#b=c(331, 6756)\n",
    "b = c(446,6641)\n",
    "ab <- data.frame(a, b)\n",
    "chisq.test(ab)\n",
    "## 20DPA\n",
    "a=c(991, 8049)\n",
    "#b=c(281, 7768)\n",
    "b=c(269, 7780)\n",
    "ab <- data.frame(a, b)\n",
    "chisq.test(ab)"
   ]
  },
  {
   "cell_type": "code",
   "execution_count": 7,
   "metadata": {
    "scrolled": true
   },
   "outputs": [
    {
     "data": {
      "text/html": [
       "<style>\n",
       ".list-inline {list-style: none; margin:0; padding: 0}\n",
       ".list-inline>li {display: inline-block}\n",
       ".list-inline>li:not(:last-child)::after {content: \"\\00b7\"; padding: 0 .5ex}\n",
       "</style>\n",
       "<ol class=list-inline><li>'4 DPA'</li><li>'12 DPA'</li><li>'20 DPA'</li></ol>\n"
      ],
      "text/latex": [
       "\\begin{enumerate*}\n",
       "\\item '4 DPA'\n",
       "\\item '12 DPA'\n",
       "\\item '20 DPA'\n",
       "\\end{enumerate*}\n"
      ],
      "text/markdown": [
       "1. '4 DPA'\n",
       "2. '12 DPA'\n",
       "3. '20 DPA'\n",
       "\n",
       "\n"
      ],
      "text/plain": [
       "[1] \"4 DPA\"  \"12 DPA\" \"20 DPA\""
      ]
     },
     "metadata": {},
     "output_type": "display_data"
    },
    {
     "data": {
      "image/png": "[encoded data removed]",
      "text/plain": [
       "plot without title"
      ]
     },
     "metadata": {
      "image/png": {
       "height": 150,
       "width": 120
      }
     },
     "output_type": "display_data"
    }
   ],
   "source": [
    "### 不同类型的loop保守程度\n",
    "rm(list = ls())\n",
    "options(repr.plot.width=2,repr.plot.height=2.5)\n",
    "setwd('F:/Multip_species_3Dgenome/Hi-C/conserved_loops')\n",
    "library(ggplot2)\n",
    "library(ggpubr)\n",
    "df <- read.csv('three_type_loop_conserved_ratio.txt', sep = '\\t', header = T)\n",
    "df <- within(df, days <- factor(days, levels = c(\"4 DPA\", \"12 DPA\", \"20 DPA\")))\n",
    "with(df, levels(days))\n",
    "fg <- ggplot(df, aes(x=type, y=100*ratio, fill=type))+\n",
    "geom_bar(stat = \"identity\", position = \"stack\", color = \"black\")+\n",
    "labs(x=NULL, y='Proportion of conserved loops')+\n",
    "facet_grid(.~days)+\n",
    "coord_cartesian(ylim = c(0, 62)) +\n",
    "theme(panel.background = element_blank(), \n",
    "     panel.grid = element_blank(),\n",
    "     axis.line=element_line(linetype=1,color=\"black\"),\n",
    "     legend.position='top',\n",
    "     axis.ticks.length = unit(0.25, 'cm')\n",
    "     )+\n",
    "scale_fill_manual(values=c(\"#D9430D\",'#F2B441','#F2ECD8'))\n",
    "fg\n",
    "ggsave(plot =fg, filename = 'three_type_loop_conserved_ratio.pdf', height =3.5, width = 3)"
   ]
  },
  {
   "cell_type": "code",
   "execution_count": 6,
   "metadata": {},
   "outputs": [
    {
     "data": {
      "text/plain": [
       "\n",
       "\tPearson's Chi-squared test with Yates' continuity correction\n",
       "\n",
       "data:  ab\n",
       "X-squared = 551.22, df = 1, p-value < 2.2e-16\n"
      ]
     },
     "metadata": {},
     "output_type": "display_data"
    },
    {
     "data": {
      "text/plain": [
       "\n",
       "\tPearson's Chi-squared test with Yates' continuity correction\n",
       "\n",
       "data:  bc\n",
       "X-squared = 3151.2, df = 1, p-value < 2.2e-16\n"
      ]
     },
     "metadata": {},
     "output_type": "display_data"
    },
    {
     "data": {
      "text/plain": [
       "\n",
       "\tPearson's Chi-squared test with Yates' continuity correction\n",
       "\n",
       "data:  ab\n",
       "X-squared = 453.89, df = 1, p-value < 2.2e-16\n"
      ]
     },
     "metadata": {},
     "output_type": "display_data"
    },
    {
     "data": {
      "text/plain": [
       "\n",
       "\tPearson's Chi-squared test with Yates' continuity correction\n",
       "\n",
       "data:  bc\n",
       "X-squared = 5859.6, df = 1, p-value < 2.2e-16\n"
      ]
     },
     "metadata": {},
     "output_type": "display_data"
    },
    {
     "data": {
      "text/plain": [
       "\n",
       "\tPearson's Chi-squared test with Yates' continuity correction\n",
       "\n",
       "data:  ab\n",
       "X-squared = 36.617, df = 1, p-value = 1.438e-09\n"
      ]
     },
     "metadata": {},
     "output_type": "display_data"
    },
    {
     "data": {
      "text/plain": [
       "\n",
       "\tPearson's Chi-squared test with Yates' continuity correction\n",
       "\n",
       "data:  bc\n",
       "X-squared = 107.78, df = 1, p-value < 2.2e-16\n"
      ]
     },
     "metadata": {},
     "output_type": "display_data"
    }
   ],
   "source": [
    "## 分析这个保守loop是否具有显著差异，用卡方检验\n",
    "## 4DPA \n",
    "a = c(9786, 10564)\n",
    "b = c(14620, 23799)\n",
    "c = c(22418, 75069)\n",
    "ab = data.frame(a, b)\n",
    "bc = data.frame(b, c)\n",
    "chisq.test(ab) #GG-GN\n",
    "chisq.test(bc)#GN-NN\n",
    "\n",
    "## 12DPA\n",
    "a = c(15612, 12951)\n",
    "b = c(22299, 25463)\n",
    "c = c(33153,88359)\n",
    "ab = data.frame(a, b)\n",
    "bc = data.frame(b, c)\n",
    "chisq.test(ab) #GG-GN\n",
    "chisq.test(bc)#GN-NN\n",
    "\n",
    "#20 DPA\n",
    "a = c(5061, 11704)\n",
    "b = c(8255,21710)\n",
    "c = c(12973,40453)\n",
    "ab = data.frame(a, b)\n",
    "bc = data.frame(b, c)\n",
    "chisq.test(ab) #GG-GN\n",
    "chisq.test(bc)#GN-NN"
   ]
  },
  {
   "cell_type": "code",
   "execution_count": 16,
   "metadata": {},
   "outputs": [
    {
     "data": {
      "text/html": [
       "<style>\n",
       ".list-inline {list-style: none; margin:0; padding: 0}\n",
       ".list-inline>li {display: inline-block}\n",
       ".list-inline>li:not(:last-child)::after {content: \"\\00b7\"; padding: 0 .5ex}\n",
       "</style>\n",
       "<ol class=list-inline><li>'4 DPA'</li><li>'12 DPA'</li><li>'20 DPA'</li></ol>\n"
      ],
      "text/latex": [
       "\\begin{enumerate*}\n",
       "\\item '4 DPA'\n",
       "\\item '12 DPA'\n",
       "\\item '20 DPA'\n",
       "\\end{enumerate*}\n"
      ],
      "text/markdown": [
       "1. '4 DPA'\n",
       "2. '12 DPA'\n",
       "3. '20 DPA'\n",
       "\n",
       "\n"
      ],
      "text/plain": [
       "[1] \"4 DPA\"  \"12 DPA\" \"20 DPA\""
      ]
     },
     "metadata": {},
     "output_type": "display_data"
    },
    {
     "data": {
      "image/png": "[encoded data removed]",
      "text/plain": [
       "plot without title"
      ]
     },
     "metadata": {
      "image/png": {
       "height": 120,
       "width": 150
      }
     },
     "output_type": "display_data"
    }
   ],
   "source": [
    "### 保守的非调控区域的变化情况\n",
    "rm(list = ls())\n",
    "options(repr.plot.width=2.5,repr.plot.height=2)\n",
    "setwd('F:/Multip_species_3Dgenome/Hi-C/conserved_regions')\n",
    "library(ggplot2)\n",
    "library(ggpubr)\n",
    "df <- read.csv('conserved_noncoding_ratio.txt', sep = '\\t', header = T)\n",
    "df <- within(df, days <- factor(days, levels = c(\"4 DPA\", \"12 DPA\", \"20 DPA\")))\n",
    "with(df, levels(days))\n",
    "\n",
    "fg <- ggplot(df, aes(x=days, y=100*ratio))+\n",
    "geom_bar(stat = \"identity\", position = \"stack\", color = \"black\")+\n",
    "labs(x=NULL, y='Proportion of conserved non-coding')+\n",
    "#facet_grid(.~days)+\n",
    "#coord_cartesian(ylim = c(0, 62)) +\n",
    "theme(panel.background = element_blank(), \n",
    "     panel.grid = element_blank(),\n",
    "     axis.line=element_line(linetype=1,color=\"black\"),\n",
    "     legend.position='top',\n",
    "     axis.ticks.length = unit(0.25, 'cm')\n",
    "     )+\n",
    "coord_flip()\n",
    "#scale_fill_manual(values=c(\"#D9430D\",'#F2B441','#F2ECD8'))\n",
    "fg\n",
    "ggsave(plot =fg, filename = 'conserved_noncoding_ratio.pdf', height =2, width = 2.8)"
   ]
  },
  {
   "cell_type": "code",
   "execution_count": 17,
   "metadata": {},
   "outputs": [
    {
     "data": {
      "text/html": [
       "<style>\n",
       ".list-inline {list-style: none; margin:0; padding: 0}\n",
       ".list-inline>li {display: inline-block}\n",
       ".list-inline>li:not(:last-child)::after {content: \"\\00b7\"; padding: 0 .5ex}\n",
       "</style>\n",
       "<ol class=list-inline><li>'10DPA_20DPA'</li><li>'5DPA_10DPA'</li><li>'0DPA_5DPA'</li></ol>\n"
      ],
      "text/latex": [
       "\\begin{enumerate*}\n",
       "\\item '10DPA\\_20DPA'\n",
       "\\item '5DPA\\_10DPA'\n",
       "\\item '0DPA\\_5DPA'\n",
       "\\end{enumerate*}\n"
      ],
      "text/markdown": [
       "1. '10DPA_20DPA'\n",
       "2. '5DPA_10DPA'\n",
       "3. '0DPA_5DPA'\n",
       "\n",
       "\n"
      ],
      "text/plain": [
       "[1] \"10DPA_20DPA\" \"5DPA_10DPA\"  \"0DPA_5DPA\"  "
      ]
     },
     "metadata": {},
     "output_type": "display_data"
    },
    {
     "data": {
      "text/html": [
       "<table class=\"dataframe\">\n",
       "<caption>A data.frame: 6 × 3</caption>\n",
       "<thead>\n",
       "\t<tr><th></th><th scope=col>ratio</th><th scope=col>days</th><th scope=col>tags</th></tr>\n",
       "\t<tr><th></th><th scope=col>&lt;dbl&gt;</th><th scope=col>&lt;fct&gt;</th><th scope=col>&lt;chr&gt;</th></tr>\n",
       "</thead>\n",
       "<tbody>\n",
       "\t<tr><th scope=row>1</th><td>0.2855664</td><td>0DPA_5DPA  </td><td>dynamic</td></tr>\n",
       "\t<tr><th scope=row>2</th><td>0.2839937</td><td>10DPA_20DPA</td><td>dynamic</td></tr>\n",
       "\t<tr><th scope=row>3</th><td>0.2423237</td><td>5DPA_10DPA </td><td>dynamic</td></tr>\n",
       "\t<tr><th scope=row>4</th><td>0.7144336</td><td>0DPA_5DPA  </td><td>stable </td></tr>\n",
       "\t<tr><th scope=row>5</th><td>0.7160063</td><td>10DPA_20DPA</td><td>stable </td></tr>\n",
       "\t<tr><th scope=row>6</th><td>0.7576763</td><td>5DPA_10DPA </td><td>stable </td></tr>\n",
       "</tbody>\n",
       "</table>\n"
      ],
      "text/latex": [
       "A data.frame: 6 × 3\n",
       "\\begin{tabular}{r|lll}\n",
       "  & ratio & days & tags\\\\\n",
       "  & <dbl> & <fct> & <chr>\\\\\n",
       "\\hline\n",
       "\t1 & 0.2855664 & 0DPA\\_5DPA   & dynamic\\\\\n",
       "\t2 & 0.2839937 & 10DPA\\_20DPA & dynamic\\\\\n",
       "\t3 & 0.2423237 & 5DPA\\_10DPA  & dynamic\\\\\n",
       "\t4 & 0.7144336 & 0DPA\\_5DPA   & stable \\\\\n",
       "\t5 & 0.7160063 & 10DPA\\_20DPA & stable \\\\\n",
       "\t6 & 0.7576763 & 5DPA\\_10DPA  & stable \\\\\n",
       "\\end{tabular}\n"
      ],
      "text/markdown": [
       "\n",
       "A data.frame: 6 × 3\n",
       "\n",
       "| <!--/--> | ratio &lt;dbl&gt; | days &lt;fct&gt; | tags &lt;chr&gt; |\n",
       "|---|---|---|---|\n",
       "| 1 | 0.2855664 | 0DPA_5DPA   | dynamic |\n",
       "| 2 | 0.2839937 | 10DPA_20DPA | dynamic |\n",
       "| 3 | 0.2423237 | 5DPA_10DPA  | dynamic |\n",
       "| 4 | 0.7144336 | 0DPA_5DPA   | stable  |\n",
       "| 5 | 0.7160063 | 10DPA_20DPA | stable  |\n",
       "| 6 | 0.7576763 | 5DPA_10DPA  | stable  |\n",
       "\n"
      ],
      "text/plain": [
       "  ratio     days        tags   \n",
       "1 0.2855664 0DPA_5DPA   dynamic\n",
       "2 0.2839937 10DPA_20DPA dynamic\n",
       "3 0.2423237 5DPA_10DPA  dynamic\n",
       "4 0.7144336 0DPA_5DPA   stable \n",
       "5 0.7160063 10DPA_20DPA stable \n",
       "6 0.7576763 5DPA_10DPA  stable "
      ]
     },
     "metadata": {},
     "output_type": "display_data"
    },
    {
     "data": {
      "image/png": "[encoded data removed]",
      "text/plain": [
       "plot without title"
      ]
     },
     "metadata": {
      "image/png": {
       "height": 120,
       "width": 150
      }
     },
     "output_type": "display_data"
    }
   ],
   "source": [
    "## 分析TAD boundary 动态变化\n",
    "rm(list = ls())\n",
    "options(repr.plot.width=2.5,repr.plot.height=2)\n",
    "setwd('F:/fiber/airticle/GB_modification/TADCompare')\n",
    "library(ggplot2)\n",
    "library(ggpubr)\n",
    "df <- read.csv('dynamic_species_boundary_ratio.txt', sep = '\\t', header = T)\n",
    "df <- within(df, days <- factor(days, levels = c(\"10DPA_20DPA\", \"5DPA_10DPA\", \"0DPA_5DPA\")))\n",
    "with(df, levels(days))\n",
    "head(df)\n",
    "fg <- ggplot(df, aes(x=days, y=100*ratio, fill=tags))+\n",
    "geom_bar(stat = \"identity\", position = \"stack\", color = \"black\")+\n",
    "labs(x=NULL, y='Proportion of TAD boundaries')+\n",
    "#facet_grid(.~days)+\n",
    "#coord_cartesian(ylim = c(0, 62)) +\n",
    "theme(panel.background = element_blank(), \n",
    "     panel.grid = element_blank(),\n",
    "     axis.line=element_line(linetype=1,color=\"black\"),\n",
    "     legend.position='top',\n",
    "     axis.ticks.length = unit(0.25, 'cm'),\n",
    "     legend.key.size = unit(10, 'pt'),\n",
    "     axis.text = element_text(color = \"black\")\n",
    "     )+\n",
    "coord_flip()+\n",
    "scale_fill_manual(values=c('#F2ECD8', \"#D9430D\"))\n",
    "fg\n",
    "ggsave(plot =fg, filename = 'dynamic_species_boundary_ratio.pdf', height =2, width = 2.8)"
   ]
  }
 ],
 "metadata": {
  "kernelspec": {
   "display_name": "R",
   "language": "R",
   "name": "ir"
  },
  "language_info": {
   "codemirror_mode": "r",
   "file_extension": ".r",
   "mimetype": "text/x-r-source",
   "name": "R",
   "pygments_lexer": "r",
   "version": "4.1.2"
  }
 },
 "nbformat": 4,
 "nbformat_minor": 4
}
