{
 "cells": [
  {
   "cell_type": "code",
   "execution_count": 9,
   "metadata": {},
   "outputs": [
    {
     "data": {
      "text/html": [
       "<table class=\"dataframe\">\n",
       "<caption>A data.frame: 6 × 3</caption>\n",
       "<thead>\n",
       "\t<tr><th></th><th scope=col>DPA4</th><th scope=col>DPA12</th><th scope=col>DPA20</th></tr>\n",
       "\t<tr><th></th><th scope=col>&lt;fct&gt;</th><th scope=col>&lt;fct&gt;</th><th scope=col>&lt;fct&gt;</th></tr>\n",
       "</thead>\n",
       "<tbody>\n",
       "\t<tr><th scope=row>1</th><td>NN</td><td>NN</td><td>NZ</td></tr>\n",
       "\t<tr><th scope=row>2</th><td>NN</td><td>NN</td><td>ZN</td></tr>\n",
       "\t<tr><th scope=row>3</th><td>NN</td><td>NN</td><td>ZZ</td></tr>\n",
       "\t<tr><th scope=row>4</th><td>NN</td><td>NZ</td><td>NN</td></tr>\n",
       "\t<tr><th scope=row>5</th><td>NN</td><td>NZ</td><td>NZ</td></tr>\n",
       "\t<tr><th scope=row>6</th><td>NN</td><td>NZ</td><td>ZN</td></tr>\n",
       "</tbody>\n",
       "</table>\n"
      ],
      "text/latex": [
       "A data.frame: 6 × 3\n",
       "\\begin{tabular}{r|lll}\n",
       "  & DPA4 & DPA12 & DPA20\\\\\n",
       "  & <fct> & <fct> & <fct>\\\\\n",
       "\\hline\n",
       "\t1 & NN & NN & NZ\\\\\n",
       "\t2 & NN & NN & ZN\\\\\n",
       "\t3 & NN & NN & ZZ\\\\\n",
       "\t4 & NN & NZ & NN\\\\\n",
       "\t5 & NN & NZ & NZ\\\\\n",
       "\t6 & NN & NZ & ZN\\\\\n",
       "\\end{tabular}\n"
      ],
      "text/markdown": [
       "\n",
       "A data.frame: 6 × 3\n",
       "\n",
       "| <!--/--> | DPA4 &lt;fct&gt; | DPA12 &lt;fct&gt; | DPA20 &lt;fct&gt; |\n",
       "|---|---|---|---|\n",
       "| 1 | NN | NN | NZ |\n",
       "| 2 | NN | NN | ZN |\n",
       "| 3 | NN | NN | ZZ |\n",
       "| 4 | NN | NZ | NN |\n",
       "| 5 | NN | NZ | NZ |\n",
       "| 6 | NN | NZ | ZN |\n",
       "\n"
      ],
      "text/plain": [
       "  DPA4 DPA12 DPA20\n",
       "1 NN   NN    NZ   \n",
       "2 NN   NN    ZN   \n",
       "3 NN   NN    ZZ   \n",
       "4 NN   NZ    NN   \n",
       "5 NN   NZ    NZ   \n",
       "6 NN   NZ    ZN   "
      ]
     },
     "metadata": {},
     "output_type": "display_data"
    },
    {
     "data": {
      "text/html": [
       "<strong>png:</strong> 2"
      ],
      "text/latex": [
       "\\textbf{png:} 2"
      ],
      "text/markdown": [
       "**png:** 2"
      ],
      "text/plain": [
       "png \n",
       "  2 "
      ]
     },
     "metadata": {},
     "output_type": "display_data"
    }
   ],
   "source": [
    "## 受潜在增强子调控的基因的变化\n",
    "rm(list=ls())\n",
    "library(ggplot2)\n",
    "library(alluvial)\n",
    "pdf(file = 'J85_J98_dynamic_gene_sankey.pdf')\n",
    "setwd('F:/Multip_species_3Dgenome/Hi-C/loop/gene_loop/regulated_genes')\n",
    "tit = read.csv('J85_J98_dynamic_gene_sankey.txt', header = T, sep = '\\t')\n",
    "head(tit[,1:3])\n",
    "alluvial(tit[,1:3], freq=tit$number,\n",
    "         #col = tit$DPA20,\n",
    "         #col = ['#72D9C6','#C3D9B8','#F1C848'],\n",
    "         #border = tit$DPA20,\n",
    "         col = ifelse(tit$DPA20 == \"ZZ\", \"#D94854\", ifelse(tit$DPA20 == \"ZN\", '#FFE9AA', ifelse(tit$DPA20 == \"NZ\", '#0BBCD6', ifelse( tit$DPA20 == 'NN',  'grey', '#0BBCD6')))),\n",
    "         border = ifelse(tit$DPA20 == \"ZZ\", \"#D94854\", ifelse(tit$DPA20 == \"ZN\", '#FFE9AA', ifelse(tit$DPA20 == \"NZ\", '#0BBCD6', ifelse( tit$DPA20 == 'NN', 'grey', '#0BBCD6')))),\n",
    "         #border = ifelse(tit$DPA20 == \"Yes\", \"orange\", \"grey\"),\n",
    "         hide = tit$number == 0,\n",
    "         cex = 0.7\n",
    ")\n",
    "dev.off()\n"
   ]
  },
  {
   "cell_type": "code",
   "execution_count": 5,
   "metadata": {},
   "outputs": [],
   "source": [
    "## 潜在增强子的动态调节作用\n",
    "rm(list=ls())\n",
    "library(ggplot2)\n",
    "library(alluvial)\n",
    "setwd('F:/Multip_species_3Dgenome/Hi-C/loop/gene_loop/regulated_region')\n",
    "pdf(file = 'J85_J98_dynamic_gene_sankey.pdf')\n",
    "tit = read.csv('J85_J98_dynamic_enhancer_sankey.txt', header = T, sep = '\\t')\n",
    "\n",
    "alluvial(tit[,1:3], freq=tit$number,\n",
    "         #col = tit$DPA20,\n",
    "         #col = ['#72D9C6','#C3D9B8','#F1C848'],\n",
    "         #border = tit$DPA20,\n",
    "         col = ifelse(tit$DPA20 == \"ZZ\", \"#D94854\", ifelse(tit$DPA20 == \"ZN\", '#FFE9AA', ifelse(tit$DPA20 == \"NZ\", '#0BBCD6', ifelse( tit$DPA20 == 'NN',  'grey', '#0BBCD6')))),\n",
    "         border = ifelse(tit$DPA20 == \"ZZ\", \"#D94854\", ifelse(tit$DPA20 == \"ZN\", '#FFE9AA', ifelse(tit$DPA20 == \"NZ\", '#0BBCD6', ifelse( tit$DPA20 == 'NN', 'grey', '#0BBCD6')))),\n",
    "         #border = ifelse(tit$DPA20 == \"Yes\", \"orange\", \"grey\"),\n",
    "         hide = tit$number == 0,\n",
    "         cex = 0.7\n",
    ")\n",
    "dev.off()"
   ]
  }
 ],
 "metadata": {
  "kernelspec": {
   "display_name": "R",
   "language": "R",
   "name": "ir"
  },
  "language_info": {
   "codemirror_mode": "r",
   "file_extension": ".r",
   "mimetype": "text/x-r-source",
   "name": "R",
   "pygments_lexer": "r",
   "version": "3.6.3"
  }
 },
 "nbformat": 4,
 "nbformat_minor": 4
}
