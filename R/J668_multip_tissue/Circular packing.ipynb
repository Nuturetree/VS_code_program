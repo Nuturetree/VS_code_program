{
 "cells": [
  {
   "cell_type": "code",
   "execution_count": 4,
   "metadata": {
    "vscode": {
     "languageId": "r"
    }
   },
   "outputs": [
    {
     "ename": "ERROR",
     "evalue": "Error in library(circlepackeR): there is no package called 'circlepackeR'\n",
     "output_type": "error",
     "traceback": [
      "Error in library(circlepackeR): there is no package called 'circlepackeR'\nTraceback:\n",
      "1. library(circlepackeR)"
     ]
    }
   ],
   "source": [
    "# Circlepacker package\n",
    "library(circlepackeR)         \n",
    "# devtools::install_github(\"jeromefroe/circlepackeR\") # If needed\n",
    "\n",
    "# create a nested data frame giving the info of a nested dataset:\n",
    "data <- data.frame(\n",
    "  root=rep(\"root\", 15),\n",
    "  group=c(rep(\"group A\",5), rep(\"group B\",5), rep(\"group C\",5)), \n",
    "  subgroup= rep(letters[1:5], each=3),\n",
    "  subsubgroup=rep(letters[1:3], 5),\n",
    "  value=sample(seq(1:15), 15)\n",
    ")"
   ]
  },
  {
   "cell_type": "code",
   "execution_count": 2,
   "metadata": {
    "vscode": {
     "languageId": "r"
    }
   },
   "outputs": [
    {
     "ename": "ERROR",
     "evalue": "Error in loadNamespace(i, c(lib.loc, .libPaths()), versionCheck = vI[[i]]): namespace 'htmltools' 0.5.3 is already loaded, but >= 0.5.4 is required\n",
     "output_type": "error",
     "traceback": [
      "Error in loadNamespace(i, c(lib.loc, .libPaths()), versionCheck = vI[[i]]): namespace 'htmltools' 0.5.3 is already loaded, but >= 0.5.4 is required\nTraceback:\n",
      "1. loadNamespace(x)",
      "2. namespaceImportFrom(ns, loadNamespace(j <- i[[1L]], c(lib.loc, \n .     .libPaths()), versionCheck = vI[[j]]), i[[2L]], from = package)",
      "3. asNamespace(ns)",
      "4. loadNamespace(j <- i[[1L]], c(lib.loc, .libPaths()), versionCheck = vI[[j]])",
      "5. namespaceImport(ns, loadNamespace(i, c(lib.loc, .libPaths()), \n .     versionCheck = vI[[i]]), from = package)",
      "6. loadNamespace(i, c(lib.loc, .libPaths()), versionCheck = vI[[i]])",
      "7. namespaceImport(ns, loadNamespace(i, c(lib.loc, .libPaths()), \n .     versionCheck = vI[[i]]), from = package)",
      "8. loadNamespace(i, c(lib.loc, .libPaths()), versionCheck = vI[[i]])",
      "9. stop(gettextf(\"namespace %s %s is already loaded, but %s %s is required\", \n .     sQuote(package), current, zop, zversion), domain = NA)"
     ]
    }
   ],
   "source": [
    "devtools::install_github(\"jeromefroe/circlepackeR\")"
   ]
  }
 ],
 "metadata": {
  "kernelspec": {
   "display_name": "R",
   "language": "R",
   "name": "ir"
  },
  "language_info": {
   "codemirror_mode": "r",
   "file_extension": ".r",
   "mimetype": "text/x-r-source",
   "name": "R",
   "pygments_lexer": "r",
   "version": "4.2.2"
  },
  "orig_nbformat": 4,
  "vscode": {
   "interpreter": {
    "hash": "a0f669ea42a4dcea88d385f8f9b4c3d9b966e24234758831d1dbfdac925619a2"
   }
  }
 },
 "nbformat": 4,
 "nbformat_minor": 2
}
