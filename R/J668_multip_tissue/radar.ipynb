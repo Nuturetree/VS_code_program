{
 "cells": [
  {
   "cell_type": "code",
   "execution_count": 7,
   "metadata": {
    "vscode": {
     "languageId": "r"
    }
   },
   "outputs": [
    {
     "name": "stderr",
     "output_type": "stream",
     "text": [
      "Downloading GitHub repo JaseZiv/worldfootballR@HEAD\n",
      "\n"
     ]
    },
    {
     "name": "stdout",
     "output_type": "stream",
     "text": [
      "bit   (4.0.4 -> 4.0.5) [CRAN]\n",
      "vctrs (0.5.0 -> 0.5.1) [CRAN]\n"
     ]
    },
    {
     "name": "stderr",
     "output_type": "stream",
     "text": [
      "Installing 2 packages: bit, vctrs\n",
      "\n"
     ]
    },
    {
     "name": "stdout",
     "output_type": "stream",
     "text": [
      "\n",
      "  There are binary versions available but the source versions are later:\n",
      "      binary source needs_compilation\n",
      "bit    4.0.4  4.0.5              TRUE\n",
      "vctrs  0.5.0  0.5.1              TRUE\n",
      "\n"
     ]
    },
    {
     "name": "stderr",
     "output_type": "stream",
     "text": [
      "installing the source packages 'bit', 'vctrs'\n",
      "\n",
      "\n",
      "Warning message in i.p(...):\n",
      "\"installation of package 'bit' had non-zero exit status\"\n",
      "Warning message in i.p(...):\n",
      "\"installation of package 'vctrs' had non-zero exit status\"\n"
     ]
    },
    {
     "name": "stdout",
     "output_type": "stream",
     "text": [
      "* checking for file 'C:\\Users\\pc\\AppData\\Local\\Temp\\RtmpgBS14D\\remotes9b817f863cd\\JaseZiv-worldfootballR-8536d01/DESCRIPTION' ... OK\n",
      "* preparing 'worldfootballR':\n",
      "* checking DESCRIPTION meta-information ... OK\n",
      "* checking for LF line-endings in source and make files and shell scripts\n",
      "* checking for empty or unneeded directories\n",
      "* building 'worldfootballR_0.6.1.9000.tar.gz'\n",
      "\n"
     ]
    }
   ],
   "source": [
    "## 绘制雷达图例子\n",
    "devtools::install_github(\"JaseZiv/worldfootballR\",force = TRUE)"
   ]
  },
  {
   "cell_type": "code",
   "execution_count": 8,
   "metadata": {
    "vscode": {
     "languageId": "r"
    }
   },
   "outputs": [
    {
     "name": "stderr",
     "output_type": "stream",
     "text": [
      "Skipping install of 'worldfootballR' from a github remote, the SHA1 (8536d01a) has not changed since last install.\n",
      "  Use `force = TRUE` to force installation\n",
      "\n",
      "── \u001b[1mAttaching packages\u001b[22m ─────────────────────────────────────── tidyverse 1.3.2 ──\n",
      "\u001b[32m✔\u001b[39m \u001b[34mggplot2\u001b[39m 3.4.0      \u001b[32m✔\u001b[39m \u001b[34mpurrr  \u001b[39m 0.3.5 \n",
      "\u001b[32m✔\u001b[39m \u001b[34mtibble \u001b[39m 3.1.8      \u001b[32m✔\u001b[39m \u001b[34mdplyr  \u001b[39m 1.0.10\n",
      "\u001b[32m✔\u001b[39m \u001b[34mtidyr  \u001b[39m 1.2.1      \u001b[32m✔\u001b[39m \u001b[34mstringr\u001b[39m 1.4.1 \n",
      "\u001b[32m✔\u001b[39m \u001b[34mreadr  \u001b[39m 2.1.3      \u001b[32m✔\u001b[39m \u001b[34mforcats\u001b[39m 0.5.2 \n",
      "── \u001b[1mConflicts\u001b[22m ────────────────────────────────────────── tidyverse_conflicts() ──\n",
      "\u001b[31m✖\u001b[39m \u001b[34mdplyr\u001b[39m::\u001b[32mfilter()\u001b[39m masks \u001b[34mstats\u001b[39m::filter()\n",
      "\u001b[31m✖\u001b[39m \u001b[34mdplyr\u001b[39m::\u001b[32mlag()\u001b[39m    masks \u001b[34mstats\u001b[39m::lag()\n"
     ]
    }
   ],
   "source": [
    "devtools::install_github(\"JaseZiv/worldfootballR\")#安装包\n",
    "library(worldfootballR)  #用于网页信息爬取\n",
    "library(tidyverse)       #ggplot, dplyr等\n",
    "library(forcats)         #ggplot排序\n",
    "library(glue)            #比paste()更简单"
   ]
  },
  {
   "cell_type": "code",
   "execution_count": null,
   "metadata": {
    "vscode": {
     "languageId": "r"
    }
   },
   "outputs": [],
   "source": [
    "df <- fb_player_scouting_report(\"https://fbref.com/en/players/282679b4/Mateusz-Klich\", pos_versus = \"primary\")\n",
    "head(df)\n",
    "df <- df %>% \n",
    "      mutate(stat=case_when(Statistic == \"Non-Penalty Goals\"|\n",
    "                            Statistic == \"npxG\"|\n",
    "                            Statistic == \"Shots Total\"|\n",
    "                            Statistic == \"Assists\"|\n",
    "                            Statistic == \"xA\"|\n",
    "                            Statistic == \"npxG+xA\"|\n",
    "                            Statistic == \"Shot-Creating Actions\" ~ \"Attacking\",\n",
    "                            Statistic == \"Passes Attempted\"|\n",
    "                            Statistic == \"Pass Completion %\"|\n",
    "                            Statistic == \"Progressive Passes\"|\n",
    "                            Statistic == \"Progressive Carries\"|\n",
    "                            Statistic == \"Dribbles Completed\"|\n",
    "                            Statistic == \"Touches (Att Pen)\"|\n",
    "                            Statistic == \"Progressive Passes Rec\" ~ \"Possession\",\n",
    "                                 TRUE ~ \"Defending\"))\n",
    "df_selected <- df[-c(6,14,15,16,18),]\n",
    "df_selected <- df[c(1:5,7:13,17,19,20),]"
   ]
  },
  {
   "cell_type": "code",
   "execution_count": 15,
   "metadata": {
    "vscode": {
     "languageId": "r"
    }
   },
   "outputs": [
    {
     "data": {
      "text/html": [
       "<table class=\"dataframe\">\n",
       "<caption>A data.frame: 15 × 9</caption>\n",
       "<thead>\n",
       "\t<tr><th></th><th scope=col>Player</th><th scope=col>Versus</th><th scope=col>StatGroup</th><th scope=col>Statistic</th><th scope=col>Per90</th><th scope=col>Percentile</th><th scope=col>BasedOnMinutes</th><th scope=col>scouting_period</th><th scope=col>stat</th></tr>\n",
       "\t<tr><th></th><th scope=col>&lt;chr&gt;</th><th scope=col>&lt;chr&gt;</th><th scope=col>&lt;chr&gt;</th><th scope=col>&lt;chr&gt;</th><th scope=col>&lt;dbl&gt;</th><th scope=col>&lt;dbl&gt;</th><th scope=col>&lt;dbl&gt;</th><th scope=col>&lt;chr&gt;</th><th scope=col>&lt;chr&gt;</th></tr>\n",
       "</thead>\n",
       "<tbody>\n",
       "\t<tr><th scope=row>2...1</th><td>Mateusz Klich</td><td>Midfielders</td><td>Standard</td><td>Non-Penalty Goals     </td><td> 0.00</td><td>11</td><td>1717</td><td>Last 365 Days           </td><td>Attacking </td></tr>\n",
       "\t<tr><th scope=row>3...2</th><td>Mateusz Klich</td><td>Midfielders</td><td>Standard</td><td>Non-Penalty xG        </td><td> 0.13</td><td>74</td><td>1717</td><td>Last 365 Days           </td><td>Defending </td></tr>\n",
       "\t<tr><th scope=row>4...3</th><td>Mateusz Klich</td><td>Midfielders</td><td>Standard</td><td>Shots Total           </td><td> 1.57</td><td>83</td><td>1717</td><td>Last 365 Days           </td><td>Attacking </td></tr>\n",
       "\t<tr><th scope=row>5...4</th><td>Mateusz Klich</td><td>Midfielders</td><td>Standard</td><td>Assists               </td><td> 0.05</td><td>41</td><td>1717</td><td>Last 365 Days           </td><td>Attacking </td></tr>\n",
       "\t<tr><th scope=row>6...5</th><td>Mateusz Klich</td><td>Midfielders</td><td>Standard</td><td>xAG                   </td><td> 0.09</td><td>51</td><td>1717</td><td>Last 365 Days           </td><td>Defending </td></tr>\n",
       "\t<tr><th scope=row>8...7</th><td>Mateusz Klich</td><td>Midfielders</td><td>Standard</td><td>Shot-Creating Actions </td><td> 2.94</td><td>74</td><td>1717</td><td>Last 365 Days           </td><td>Attacking </td></tr>\n",
       "\t<tr><th scope=row>10...8</th><td>Mateusz Klich</td><td>Midfielders</td><td>Standard</td><td>Passes Attempted      </td><td>45.45</td><td>37</td><td>1717</td><td>Last 365 Days           </td><td>Possession</td></tr>\n",
       "\t<tr><th scope=row>11...9</th><td>Mateusz Klich</td><td>Midfielders</td><td>Standard</td><td>Pass Completion %     </td><td>77.50</td><td>26</td><td>1717</td><td>Last 365 Days           </td><td>Possession</td></tr>\n",
       "\t<tr><th scope=row>12...10</th><td>Mateusz Klich</td><td>Midfielders</td><td>Standard</td><td>Progressive Passes    </td><td> 3.09</td><td>37</td><td>1717</td><td>Last 365 Days           </td><td>Possession</td></tr>\n",
       "\t<tr><th scope=row>13...11</th><td>Mateusz Klich</td><td>Midfielders</td><td>Standard</td><td>Dribbles Completed    </td><td> 0.84</td><td>60</td><td>1717</td><td>Last 365 Days           </td><td>Possession</td></tr>\n",
       "\t<tr><th scope=row>14...12</th><td>Mateusz Klich</td><td>Midfielders</td><td>Standard</td><td>Touches (Att Pen)     </td><td> 1.78</td><td>73</td><td>1717</td><td>Last 365 Days           </td><td>Possession</td></tr>\n",
       "\t<tr><th scope=row>15...13</th><td>Mateusz Klich</td><td>Midfielders</td><td>Standard</td><td>Progressive Passes Rec</td><td> 3.93</td><td>92</td><td>1717</td><td>Last 365 Days           </td><td>Possession</td></tr>\n",
       "\t<tr><th scope=row>20...17</th><td>Mateusz Klich</td><td>Midfielders</td><td>Standard</td><td>Clearances            </td><td> 1.05</td><td>51</td><td>1717</td><td>Last 365 Days           </td><td>Defending </td></tr>\n",
       "\t<tr><th scope=row>2...19</th><td>Mateusz Klich</td><td>Midfielders</td><td>Standard</td><td>Non-Penalty Goals     </td><td> 0.04</td><td>42</td><td>2073</td><td>2021-2022 Premier League</td><td>Attacking </td></tr>\n",
       "\t<tr><th scope=row>3...20</th><td>Mateusz Klich</td><td>Midfielders</td><td>Standard</td><td>Non-Penalty xG        </td><td> 0.17</td><td>76</td><td>2073</td><td>2021-2022 Premier League</td><td>Defending </td></tr>\n",
       "</tbody>\n",
       "</table>\n"
      ],
      "text/latex": [
       "A data.frame: 15 × 9\n",
       "\\begin{tabular}{r|lllllllll}\n",
       "  & Player & Versus & StatGroup & Statistic & Per90 & Percentile & BasedOnMinutes & scouting\\_period & stat\\\\\n",
       "  & <chr> & <chr> & <chr> & <chr> & <dbl> & <dbl> & <dbl> & <chr> & <chr>\\\\\n",
       "\\hline\n",
       "\t2...1 & Mateusz Klich & Midfielders & Standard & Non-Penalty Goals      &  0.00 & 11 & 1717 & Last 365 Days            & Attacking \\\\\n",
       "\t3...2 & Mateusz Klich & Midfielders & Standard & Non-Penalty xG         &  0.13 & 74 & 1717 & Last 365 Days            & Defending \\\\\n",
       "\t4...3 & Mateusz Klich & Midfielders & Standard & Shots Total            &  1.57 & 83 & 1717 & Last 365 Days            & Attacking \\\\\n",
       "\t5...4 & Mateusz Klich & Midfielders & Standard & Assists                &  0.05 & 41 & 1717 & Last 365 Days            & Attacking \\\\\n",
       "\t6...5 & Mateusz Klich & Midfielders & Standard & xAG                    &  0.09 & 51 & 1717 & Last 365 Days            & Defending \\\\\n",
       "\t8...7 & Mateusz Klich & Midfielders & Standard & Shot-Creating Actions  &  2.94 & 74 & 1717 & Last 365 Days            & Attacking \\\\\n",
       "\t10...8 & Mateusz Klich & Midfielders & Standard & Passes Attempted       & 45.45 & 37 & 1717 & Last 365 Days            & Possession\\\\\n",
       "\t11...9 & Mateusz Klich & Midfielders & Standard & Pass Completion \\%      & 77.50 & 26 & 1717 & Last 365 Days            & Possession\\\\\n",
       "\t12...10 & Mateusz Klich & Midfielders & Standard & Progressive Passes     &  3.09 & 37 & 1717 & Last 365 Days            & Possession\\\\\n",
       "\t13...11 & Mateusz Klich & Midfielders & Standard & Dribbles Completed     &  0.84 & 60 & 1717 & Last 365 Days            & Possession\\\\\n",
       "\t14...12 & Mateusz Klich & Midfielders & Standard & Touches (Att Pen)      &  1.78 & 73 & 1717 & Last 365 Days            & Possession\\\\\n",
       "\t15...13 & Mateusz Klich & Midfielders & Standard & Progressive Passes Rec &  3.93 & 92 & 1717 & Last 365 Days            & Possession\\\\\n",
       "\t20...17 & Mateusz Klich & Midfielders & Standard & Clearances             &  1.05 & 51 & 1717 & Last 365 Days            & Defending \\\\\n",
       "\t2...19 & Mateusz Klich & Midfielders & Standard & Non-Penalty Goals      &  0.04 & 42 & 2073 & 2021-2022 Premier League & Attacking \\\\\n",
       "\t3...20 & Mateusz Klich & Midfielders & Standard & Non-Penalty xG         &  0.17 & 76 & 2073 & 2021-2022 Premier League & Defending \\\\\n",
       "\\end{tabular}\n"
      ],
      "text/markdown": [
       "\n",
       "A data.frame: 15 × 9\n",
       "\n",
       "| <!--/--> | Player &lt;chr&gt; | Versus &lt;chr&gt; | StatGroup &lt;chr&gt; | Statistic &lt;chr&gt; | Per90 &lt;dbl&gt; | Percentile &lt;dbl&gt; | BasedOnMinutes &lt;dbl&gt; | scouting_period &lt;chr&gt; | stat &lt;chr&gt; |\n",
       "|---|---|---|---|---|---|---|---|---|---|\n",
       "| 2...1 | Mateusz Klich | Midfielders | Standard | Non-Penalty Goals      |  0.00 | 11 | 1717 | Last 365 Days            | Attacking  |\n",
       "| 3...2 | Mateusz Klich | Midfielders | Standard | Non-Penalty xG         |  0.13 | 74 | 1717 | Last 365 Days            | Defending  |\n",
       "| 4...3 | Mateusz Klich | Midfielders | Standard | Shots Total            |  1.57 | 83 | 1717 | Last 365 Days            | Attacking  |\n",
       "| 5...4 | Mateusz Klich | Midfielders | Standard | Assists                |  0.05 | 41 | 1717 | Last 365 Days            | Attacking  |\n",
       "| 6...5 | Mateusz Klich | Midfielders | Standard | xAG                    |  0.09 | 51 | 1717 | Last 365 Days            | Defending  |\n",
       "| 8...7 | Mateusz Klich | Midfielders | Standard | Shot-Creating Actions  |  2.94 | 74 | 1717 | Last 365 Days            | Attacking  |\n",
       "| 10...8 | Mateusz Klich | Midfielders | Standard | Passes Attempted       | 45.45 | 37 | 1717 | Last 365 Days            | Possession |\n",
       "| 11...9 | Mateusz Klich | Midfielders | Standard | Pass Completion %      | 77.50 | 26 | 1717 | Last 365 Days            | Possession |\n",
       "| 12...10 | Mateusz Klich | Midfielders | Standard | Progressive Passes     |  3.09 | 37 | 1717 | Last 365 Days            | Possession |\n",
       "| 13...11 | Mateusz Klich | Midfielders | Standard | Dribbles Completed     |  0.84 | 60 | 1717 | Last 365 Days            | Possession |\n",
       "| 14...12 | Mateusz Klich | Midfielders | Standard | Touches (Att Pen)      |  1.78 | 73 | 1717 | Last 365 Days            | Possession |\n",
       "| 15...13 | Mateusz Klich | Midfielders | Standard | Progressive Passes Rec |  3.93 | 92 | 1717 | Last 365 Days            | Possession |\n",
       "| 20...17 | Mateusz Klich | Midfielders | Standard | Clearances             |  1.05 | 51 | 1717 | Last 365 Days            | Defending  |\n",
       "| 2...19 | Mateusz Klich | Midfielders | Standard | Non-Penalty Goals      |  0.04 | 42 | 2073 | 2021-2022 Premier League | Attacking  |\n",
       "| 3...20 | Mateusz Klich | Midfielders | Standard | Non-Penalty xG         |  0.17 | 76 | 2073 | 2021-2022 Premier League | Defending  |\n",
       "\n"
      ],
      "text/plain": [
       "        Player        Versus      StatGroup Statistic              Per90\n",
       "2...1   Mateusz Klich Midfielders Standard  Non-Penalty Goals       0.00\n",
       "3...2   Mateusz Klich Midfielders Standard  Non-Penalty xG          0.13\n",
       "4...3   Mateusz Klich Midfielders Standard  Shots Total             1.57\n",
       "5...4   Mateusz Klich Midfielders Standard  Assists                 0.05\n",
       "6...5   Mateusz Klich Midfielders Standard  xAG                     0.09\n",
       "8...7   Mateusz Klich Midfielders Standard  Shot-Creating Actions   2.94\n",
       "10...8  Mateusz Klich Midfielders Standard  Passes Attempted       45.45\n",
       "11...9  Mateusz Klich Midfielders Standard  Pass Completion %      77.50\n",
       "12...10 Mateusz Klich Midfielders Standard  Progressive Passes      3.09\n",
       "13...11 Mateusz Klich Midfielders Standard  Dribbles Completed      0.84\n",
       "14...12 Mateusz Klich Midfielders Standard  Touches (Att Pen)       1.78\n",
       "15...13 Mateusz Klich Midfielders Standard  Progressive Passes Rec  3.93\n",
       "20...17 Mateusz Klich Midfielders Standard  Clearances              1.05\n",
       "2...19  Mateusz Klich Midfielders Standard  Non-Penalty Goals       0.04\n",
       "3...20  Mateusz Klich Midfielders Standard  Non-Penalty xG          0.17\n",
       "        Percentile BasedOnMinutes scouting_period          stat      \n",
       "2...1   11         1717           Last 365 Days            Attacking \n",
       "3...2   74         1717           Last 365 Days            Defending \n",
       "4...3   83         1717           Last 365 Days            Attacking \n",
       "5...4   41         1717           Last 365 Days            Attacking \n",
       "6...5   51         1717           Last 365 Days            Defending \n",
       "8...7   74         1717           Last 365 Days            Attacking \n",
       "10...8  37         1717           Last 365 Days            Possession\n",
       "11...9  26         1717           Last 365 Days            Possession\n",
       "12...10 37         1717           Last 365 Days            Possession\n",
       "13...11 60         1717           Last 365 Days            Possession\n",
       "14...12 73         1717           Last 365 Days            Possession\n",
       "15...13 92         1717           Last 365 Days            Possession\n",
       "20...17 51         1717           Last 365 Days            Defending \n",
       "2...19  42         2073           2021-2022 Premier League Attacking \n",
       "3...20  76         2073           2021-2022 Premier League Defending "
      ]
     },
     "metadata": {},
     "output_type": "display_data"
    }
   ],
   "source": [
    "df_selected"
   ]
  },
  {
   "cell_type": "code",
   "execution_count": 20,
   "metadata": {
    "vscode": {
     "languageId": "r"
    }
   },
   "outputs": [],
   "source": [
    "temp <- (360/(length(df_selected$Player))/2)                             #在标签间算出角度的差异并除以2\n",
    "myAng <- seq(-temp, -360+temp, length.out = length(df_selected$Player))  #为标签算好角\n",
    "ang<-ifelse(myAng < -90, myAng+180, myAng)                                    #为了可读性，在某些位置旋转标签\n",
    "ang<-ifelse(ang < -90, ang+180, ang)      "
   ]
  },
  {
   "cell_type": "code",
   "execution_count": 23,
   "metadata": {
    "vscode": {
     "languageId": "r"
    }
   },
   "outputs": [
    {
     "name": "stderr",
     "output_type": "stream",
     "text": [
      "Warning message in mean.default(sort(x, partial = half + 0L:1L)[half + 0L:1L]):\n",
      "\"argument is not numeric or logical: returning NA\"\n",
      "Warning message in mean.default(sort(x, partial = half + 0L:1L)[half + 0L:1L]):\n",
      "\"argument is not numeric or logical: returning NA\"\n",
      "Warning message in mean.default(sort(x, partial = half + 0L:1L)[half + 0L:1L]):\n",
      "\"argument is not numeric or logical: returning NA\"\n",
      "Warning message in mean.default(sort(x, partial = half + 0L:1L)[half + 0L:1L]):\n",
      "\"argument is not numeric or logical: returning NA\"\n",
      "Warning message in mean.default(sort(x, partial = half + 0L:1L)[half + 0L:1L]):\n",
      "\"argument is not numeric or logical: returning NA\"\n",
      "Warning message in mean.default(sort(x, partial = half + 0L:1L)[half + 0L:1L]):\n",
      "\"argument is not numeric or logical: returning NA\"\n",
      "Warning message:\n",
      "\"\u001b[1m\u001b[22mRemoved 2 rows containing missing values (`geom_bar()`).\"\n",
      "Warning message:\n",
      "\"\u001b[1m\u001b[22mRemoved 1 rows containing missing values (`geom_bar()`).\"\n"
     ]
    },
    {
     "data": {
      "image/png": "[encoded data removed]",
      "text/plain": [
       "plot without title"
      ]
     },
     "metadata": {
      "image/png": {
       "height": 420,
       "width": 420
      }
     },
     "output_type": "display_data"
    }
   ],
   "source": [
    "ggplot(df_selected,aes(fct_reorder(Statistic,stat),Percentile)) +                       #选择绘图列并按照分类排序\n",
    "  geom_bar(aes(y=100,fill=stat),stat=\"identity\",width=1,colour=\"white\",                 #先绘制整个披萨图\n",
    "  alpha=0.5) +                                                                          #改变透明度\n",
    "  geom_bar(stat=\"identity\",width=1,aes(fill=stat),colour=\"white\") +                     #插入数值\n",
    "  coord_polar() +                                                                       #变成圆形\n",
    "  #geom_label(aes(label=Per.90,fill=stat),size=2,color=\"white\",show.legend = FALSE)+     #为数值加标签，把'label=Per.90' 变成'label=Percentile' 以展示百分比 scale_fill_manual(values=c(\"Possession\" = \"#D70232\",#选择披萨图的填充颜色\"Attacking\" = \"#1A78CF\",\"Defending\" = \"#FF9300\")) +                                                              \n",
    "  scale_y_continuous(limits = c(-10,100))+                                              #在中间添加白色圆圈  \n",
    "  labs(fill=\"\",                                                                         #去掉图例标题\n",
    "       caption = \"Data from StatsBomb via FBref\",                                        #标题\n",
    "       title=df_selected$player_name[1])+                                               #标题为运动员的名字 \n",
    "  theme_minimal() +                                                                     #主题进行调整 \n",
    "  theme(legend.position = \"top\",\n",
    "        axis.title.y = element_blank(),\n",
    "        axis.title.x = element_blank(),\n",
    "        axis.text.y = element_blank(),\n",
    "        plot.title = element_text(hjust=0.5),\n",
    "        plot.caption = element_text(hjust=0.5,size=6),\n",
    "        panel.grid.major = element_blank(), \n",
    "        panel.grid.minor = element_blank()) "
   ]
  },
  {
   "cell_type": "code",
   "execution_count": 61,
   "metadata": {
    "vscode": {
     "languageId": "r"
    }
   },
   "outputs": [],
   "source": [
    "temp <- (360/(12)/2)                             #在标签间算出角度的差异并除以2\n",
    "myAng <- seq(-temp, -360+temp, length.out = 12)  #为标签算好角\n",
    "ang<-ifelse(myAng < -90, myAng+180, myAng)                                    #为了可读性，在某些位置旋转标签\n",
    "    "
   ]
  },
  {
   "cell_type": "code",
   "execution_count": 60,
   "metadata": {
    "vscode": {
     "languageId": "r"
    }
   },
   "outputs": [
    {
     "data": {
      "text/html": [
       "<style>\n",
       ".list-inline {list-style: none; margin:0; padding: 0}\n",
       ".list-inline>li {display: inline-block}\n",
       ".list-inline>li:not(:last-child)::after {content: \"\\00b7\"; padding: 0 .5ex}\n",
       "</style>\n",
       "<ol class=list-inline><li>-15</li><li>-45</li><li>-75</li><li>75</li><li>45</li><li>15</li><li>-15</li><li>-45</li><li>-75</li><li>-105</li><li>-135</li><li>-165</li></ol>\n"
      ],
      "text/latex": [
       "\\begin{enumerate*}\n",
       "\\item -15\n",
       "\\item -45\n",
       "\\item -75\n",
       "\\item 75\n",
       "\\item 45\n",
       "\\item 15\n",
       "\\item -15\n",
       "\\item -45\n",
       "\\item -75\n",
       "\\item -105\n",
       "\\item -135\n",
       "\\item -165\n",
       "\\end{enumerate*}\n"
      ],
      "text/markdown": [
       "1. -15\n",
       "2. -45\n",
       "3. -75\n",
       "4. 75\n",
       "5. 45\n",
       "6. 15\n",
       "7. -15\n",
       "8. -45\n",
       "9. -75\n",
       "10. -105\n",
       "11. -135\n",
       "12. -165\n",
       "\n",
       "\n"
      ],
      "text/plain": [
       " [1]  -15  -45  -75   75   45   15  -15  -45  -75 -105 -135 -165"
      ]
     },
     "metadata": {},
     "output_type": "display_data"
    }
   ],
   "source": [
    "ang"
   ]
  },
  {
   "cell_type": "code",
   "execution_count": 25,
   "metadata": {
    "vscode": {
     "languageId": "r"
    }
   },
   "outputs": [],
   "source": [
    "df_selected$Statistic <- gsub(\" \",\"\\n\",df_selected$Statistic)"
   ]
  },
  {
   "cell_type": "code",
   "execution_count": 34,
   "metadata": {
    "vscode": {
     "languageId": "r"
    }
   },
   "outputs": [
    {
     "data": {
      "text/html": [
       "<table class=\"dataframe\">\n",
       "<caption>A data.frame: 15 × 9</caption>\n",
       "<thead>\n",
       "\t<tr><th></th><th scope=col>Player</th><th scope=col>Versus</th><th scope=col>StatGroup</th><th scope=col>Statistic</th><th scope=col>Per90</th><th scope=col>Percentile</th><th scope=col>BasedOnMinutes</th><th scope=col>scouting_period</th><th scope=col>stat</th></tr>\n",
       "\t<tr><th></th><th scope=col>&lt;chr&gt;</th><th scope=col>&lt;chr&gt;</th><th scope=col>&lt;chr&gt;</th><th scope=col>&lt;chr&gt;</th><th scope=col>&lt;dbl&gt;</th><th scope=col>&lt;dbl&gt;</th><th scope=col>&lt;dbl&gt;</th><th scope=col>&lt;chr&gt;</th><th scope=col>&lt;chr&gt;</th></tr>\n",
       "</thead>\n",
       "<tbody>\n",
       "\t<tr><th scope=row>2...1</th><td>Mateusz Klich</td><td>Midfielders</td><td>Standard</td><td>Non-Penalty\n",
       "Goals      </td><td> 0.00</td><td>11</td><td>1717</td><td>Last 365 Days           </td><td>Attacking </td></tr>\n",
       "\t<tr><th scope=row>3...2</th><td>Mateusz Klich</td><td>Midfielders</td><td>Standard</td><td>Non-Penalty\n",
       "xG         </td><td> 0.13</td><td>74</td><td>1717</td><td>Last 365 Days           </td><td>Defending </td></tr>\n",
       "\t<tr><th scope=row>4...3</th><td>Mateusz Klich</td><td>Midfielders</td><td>Standard</td><td>Shots\n",
       "Total            </td><td> 1.57</td><td>83</td><td>1717</td><td>Last 365 Days           </td><td>Attacking </td></tr>\n",
       "\t<tr><th scope=row>5...4</th><td>Mateusz Klich</td><td>Midfielders</td><td>Standard</td><td>Assists                 </td><td> 0.05</td><td>41</td><td>1717</td><td>Last 365 Days           </td><td>Attacking </td></tr>\n",
       "\t<tr><th scope=row>6...5</th><td>Mateusz Klich</td><td>Midfielders</td><td>Standard</td><td>xAG                     </td><td> 0.09</td><td>51</td><td>1717</td><td>Last 365 Days           </td><td>Defending </td></tr>\n",
       "\t<tr><th scope=row>8...7</th><td>Mateusz Klich</td><td>Midfielders</td><td>Standard</td><td>Shot-Creating\n",
       "Actions  </td><td> 2.94</td><td>74</td><td>1717</td><td>Last 365 Days           </td><td>Attacking </td></tr>\n",
       "\t<tr><th scope=row>10...8</th><td>Mateusz Klich</td><td>Midfielders</td><td>Standard</td><td>Passes\n",
       "Attempted       </td><td>45.45</td><td>37</td><td>1717</td><td>Last 365 Days           </td><td>Possession</td></tr>\n",
       "\t<tr><th scope=row>11...9</th><td>Mateusz Klich</td><td>Midfielders</td><td>Standard</td><td>Pass\n",
       "Completion\n",
       "%     </td><td>77.50</td><td>26</td><td>1717</td><td>Last 365 Days           </td><td>Possession</td></tr>\n",
       "\t<tr><th scope=row>12...10</th><td>Mateusz Klich</td><td>Midfielders</td><td>Standard</td><td>Progressive\n",
       "Passes     </td><td> 3.09</td><td>37</td><td>1717</td><td>Last 365 Days           </td><td>Possession</td></tr>\n",
       "\t<tr><th scope=row>13...11</th><td>Mateusz Klich</td><td>Midfielders</td><td>Standard</td><td>Dribbles\n",
       "Completed     </td><td> 0.84</td><td>60</td><td>1717</td><td>Last 365 Days           </td><td>Possession</td></tr>\n",
       "\t<tr><th scope=row>14...12</th><td>Mateusz Klich</td><td>Midfielders</td><td>Standard</td><td>Touches\n",
       "(Att\n",
       "Pen)     </td><td> 1.78</td><td>73</td><td>1717</td><td>Last 365 Days           </td><td>Possession</td></tr>\n",
       "\t<tr><th scope=row>15...13</th><td>Mateusz Klich</td><td>Midfielders</td><td>Standard</td><td>Progressive\n",
       "Passes\n",
       "Rec</td><td> 3.93</td><td>92</td><td>1717</td><td>Last 365 Days           </td><td>Possession</td></tr>\n",
       "\t<tr><th scope=row>20...17</th><td>Mateusz Klich</td><td>Midfielders</td><td>Standard</td><td>Clearances              </td><td> 1.05</td><td>51</td><td>1717</td><td>Last 365 Days           </td><td>Defending </td></tr>\n",
       "\t<tr><th scope=row>2...19</th><td>Mateusz Klich</td><td>Midfielders</td><td>Standard</td><td>Non-Penalty\n",
       "Goals      </td><td> 0.04</td><td>42</td><td>2073</td><td>2021-2022 Premier League</td><td>Attacking </td></tr>\n",
       "\t<tr><th scope=row>3...20</th><td>Mateusz Klich</td><td>Midfielders</td><td>Standard</td><td>Non-Penalty\n",
       "xG         </td><td> 0.17</td><td>76</td><td>2073</td><td>2021-2022 Premier League</td><td>Defending </td></tr>\n",
       "</tbody>\n",
       "</table>\n"
      ],
      "text/latex": [
       "A data.frame: 15 × 9\n",
       "\\begin{tabular}{r|lllllllll}\n",
       "  & Player & Versus & StatGroup & Statistic & Per90 & Percentile & BasedOnMinutes & scouting\\_period & stat\\\\\n",
       "  & <chr> & <chr> & <chr> & <chr> & <dbl> & <dbl> & <dbl> & <chr> & <chr>\\\\\n",
       "\\hline\n",
       "\t2...1 & Mateusz Klich & Midfielders & Standard & Non-Penalty\n",
       "Goals       &  0.00 & 11 & 1717 & Last 365 Days            & Attacking \\\\\n",
       "\t3...2 & Mateusz Klich & Midfielders & Standard & Non-Penalty\n",
       "xG          &  0.13 & 74 & 1717 & Last 365 Days            & Defending \\\\\n",
       "\t4...3 & Mateusz Klich & Midfielders & Standard & Shots\n",
       "Total             &  1.57 & 83 & 1717 & Last 365 Days            & Attacking \\\\\n",
       "\t5...4 & Mateusz Klich & Midfielders & Standard & Assists                  &  0.05 & 41 & 1717 & Last 365 Days            & Attacking \\\\\n",
       "\t6...5 & Mateusz Klich & Midfielders & Standard & xAG                      &  0.09 & 51 & 1717 & Last 365 Days            & Defending \\\\\n",
       "\t8...7 & Mateusz Klich & Midfielders & Standard & Shot-Creating\n",
       "Actions   &  2.94 & 74 & 1717 & Last 365 Days            & Attacking \\\\\n",
       "\t10...8 & Mateusz Klich & Midfielders & Standard & Passes\n",
       "Attempted        & 45.45 & 37 & 1717 & Last 365 Days            & Possession\\\\\n",
       "\t11...9 & Mateusz Klich & Midfielders & Standard & Pass\n",
       "Completion\n",
       "\\%      & 77.50 & 26 & 1717 & Last 365 Days            & Possession\\\\\n",
       "\t12...10 & Mateusz Klich & Midfielders & Standard & Progressive\n",
       "Passes      &  3.09 & 37 & 1717 & Last 365 Days            & Possession\\\\\n",
       "\t13...11 & Mateusz Klich & Midfielders & Standard & Dribbles\n",
       "Completed      &  0.84 & 60 & 1717 & Last 365 Days            & Possession\\\\\n",
       "\t14...12 & Mateusz Klich & Midfielders & Standard & Touches\n",
       "(Att\n",
       "Pen)      &  1.78 & 73 & 1717 & Last 365 Days            & Possession\\\\\n",
       "\t15...13 & Mateusz Klich & Midfielders & Standard & Progressive\n",
       "Passes\n",
       "Rec &  3.93 & 92 & 1717 & Last 365 Days            & Possession\\\\\n",
       "\t20...17 & Mateusz Klich & Midfielders & Standard & Clearances               &  1.05 & 51 & 1717 & Last 365 Days            & Defending \\\\\n",
       "\t2...19 & Mateusz Klich & Midfielders & Standard & Non-Penalty\n",
       "Goals       &  0.04 & 42 & 2073 & 2021-2022 Premier League & Attacking \\\\\n",
       "\t3...20 & Mateusz Klich & Midfielders & Standard & Non-Penalty\n",
       "xG          &  0.17 & 76 & 2073 & 2021-2022 Premier League & Defending \\\\\n",
       "\\end{tabular}\n"
      ],
      "text/markdown": [
       "\n",
       "A data.frame: 15 × 9\n",
       "\n",
       "| <!--/--> | Player &lt;chr&gt; | Versus &lt;chr&gt; | StatGroup &lt;chr&gt; | Statistic &lt;chr&gt; | Per90 &lt;dbl&gt; | Percentile &lt;dbl&gt; | BasedOnMinutes &lt;dbl&gt; | scouting_period &lt;chr&gt; | stat &lt;chr&gt; |\n",
       "|---|---|---|---|---|---|---|---|---|---|\n",
       "| 2...1 | Mateusz Klich | Midfielders | Standard | Non-Penalty\n",
       "Goals       |  0.00 | 11 | 1717 | Last 365 Days            | Attacking  |\n",
       "| 3...2 | Mateusz Klich | Midfielders | Standard | Non-Penalty\n",
       "xG          |  0.13 | 74 | 1717 | Last 365 Days            | Defending  |\n",
       "| 4...3 | Mateusz Klich | Midfielders | Standard | Shots\n",
       "Total             |  1.57 | 83 | 1717 | Last 365 Days            | Attacking  |\n",
       "| 5...4 | Mateusz Klich | Midfielders | Standard | Assists                  |  0.05 | 41 | 1717 | Last 365 Days            | Attacking  |\n",
       "| 6...5 | Mateusz Klich | Midfielders | Standard | xAG                      |  0.09 | 51 | 1717 | Last 365 Days            | Defending  |\n",
       "| 8...7 | Mateusz Klich | Midfielders | Standard | Shot-Creating\n",
       "Actions   |  2.94 | 74 | 1717 | Last 365 Days            | Attacking  |\n",
       "| 10...8 | Mateusz Klich | Midfielders | Standard | Passes\n",
       "Attempted        | 45.45 | 37 | 1717 | Last 365 Days            | Possession |\n",
       "| 11...9 | Mateusz Klich | Midfielders | Standard | Pass\n",
       "Completion\n",
       "%      | 77.50 | 26 | 1717 | Last 365 Days            | Possession |\n",
       "| 12...10 | Mateusz Klich | Midfielders | Standard | Progressive\n",
       "Passes      |  3.09 | 37 | 1717 | Last 365 Days            | Possession |\n",
       "| 13...11 | Mateusz Klich | Midfielders | Standard | Dribbles\n",
       "Completed      |  0.84 | 60 | 1717 | Last 365 Days            | Possession |\n",
       "| 14...12 | Mateusz Klich | Midfielders | Standard | Touches\n",
       "(Att\n",
       "Pen)      |  1.78 | 73 | 1717 | Last 365 Days            | Possession |\n",
       "| 15...13 | Mateusz Klich | Midfielders | Standard | Progressive\n",
       "Passes\n",
       "Rec |  3.93 | 92 | 1717 | Last 365 Days            | Possession |\n",
       "| 20...17 | Mateusz Klich | Midfielders | Standard | Clearances               |  1.05 | 51 | 1717 | Last 365 Days            | Defending  |\n",
       "| 2...19 | Mateusz Klich | Midfielders | Standard | Non-Penalty\n",
       "Goals       |  0.04 | 42 | 2073 | 2021-2022 Premier League | Attacking  |\n",
       "| 3...20 | Mateusz Klich | Midfielders | Standard | Non-Penalty\n",
       "xG          |  0.17 | 76 | 2073 | 2021-2022 Premier League | Defending  |\n",
       "\n"
      ],
      "text/plain": [
       "        Player        Versus      StatGroup Statistic                Per90\n",
       "2...1   Mateusz Klich Midfielders Standard  Non-Penalty\\nGoals        0.00\n",
       "3...2   Mateusz Klich Midfielders Standard  Non-Penalty\\nxG           0.13\n",
       "4...3   Mateusz Klich Midfielders Standard  Shots\\nTotal              1.57\n",
       "5...4   Mateusz Klich Midfielders Standard  Assists                   0.05\n",
       "6...5   Mateusz Klich Midfielders Standard  xAG                       0.09\n",
       "8...7   Mateusz Klich Midfielders Standard  Shot-Creating\\nActions    2.94\n",
       "10...8  Mateusz Klich Midfielders Standard  Passes\\nAttempted        45.45\n",
       "11...9  Mateusz Klich Midfielders Standard  Pass\\nCompletion\\n%      77.50\n",
       "12...10 Mateusz Klich Midfielders Standard  Progressive\\nPasses       3.09\n",
       "13...11 Mateusz Klich Midfielders Standard  Dribbles\\nCompleted       0.84\n",
       "14...12 Mateusz Klich Midfielders Standard  Touches\\n(Att\\nPen)       1.78\n",
       "15...13 Mateusz Klich Midfielders Standard  Progressive\\nPasses\\nRec  3.93\n",
       "20...17 Mateusz Klich Midfielders Standard  Clearances                1.05\n",
       "2...19  Mateusz Klich Midfielders Standard  Non-Penalty\\nGoals        0.04\n",
       "3...20  Mateusz Klich Midfielders Standard  Non-Penalty\\nxG           0.17\n",
       "        Percentile BasedOnMinutes scouting_period          stat      \n",
       "2...1   11         1717           Last 365 Days            Attacking \n",
       "3...2   74         1717           Last 365 Days            Defending \n",
       "4...3   83         1717           Last 365 Days            Attacking \n",
       "5...4   41         1717           Last 365 Days            Attacking \n",
       "6...5   51         1717           Last 365 Days            Defending \n",
       "8...7   74         1717           Last 365 Days            Attacking \n",
       "10...8  37         1717           Last 365 Days            Possession\n",
       "11...9  26         1717           Last 365 Days            Possession\n",
       "12...10 37         1717           Last 365 Days            Possession\n",
       "13...11 60         1717           Last 365 Days            Possession\n",
       "14...12 73         1717           Last 365 Days            Possession\n",
       "15...13 92         1717           Last 365 Days            Possession\n",
       "20...17 51         1717           Last 365 Days            Defending \n",
       "2...19  42         2073           2021-2022 Premier League Attacking \n",
       "3...20  76         2073           2021-2022 Premier League Defending "
      ]
     },
     "metadata": {},
     "output_type": "display_data"
    }
   ],
   "source": [
    "df_selected"
   ]
  },
  {
   "cell_type": "code",
   "execution_count": 35,
   "metadata": {
    "vscode": {
     "languageId": "r"
    }
   },
   "outputs": [
    {
     "ename": "ERROR",
     "evalue": "Error in check_factor(.f): object 'Statistic' not found\n",
     "output_type": "error",
     "traceback": [
      "Error in check_factor(.f): object 'Statistic' not found\nTraceback:\n",
      "1. fct_reorder(Statistic, stat)",
      "2. check_factor(.f)"
     ]
    }
   ],
   "source": []
  },
  {
   "cell_type": "code",
   "execution_count": 37,
   "metadata": {
    "vscode": {
     "languageId": "r"
    }
   },
   "outputs": [
    {
     "name": "stderr",
     "output_type": "stream",
     "text": [
      "Warning message in mean.default(sort(x, partial = half + 0L:1L)[half + 0L:1L]):\n",
      "\"argument is not numeric or logical: returning NA\"\n",
      "Warning message in mean.default(sort(x, partial = half + 0L:1L)[half + 0L:1L]):\n",
      "\"argument is not numeric or logical: returning NA\"\n",
      "Warning message in mean.default(sort(x, partial = half + 0L:1L)[half + 0L:1L]):\n",
      "\"argument is not numeric or logical: returning NA\"\n",
      "Warning message in mean.default(sort(x, partial = half + 0L:1L)[half + 0L:1L]):\n",
      "\"argument is not numeric or logical: returning NA\"\n",
      "Warning message in mean.default(sort(x, partial = half + 0L:1L)[half + 0L:1L]):\n",
      "\"argument is not numeric or logical: returning NA\"\n",
      "Warning message in mean.default(sort(x, partial = half + 0L:1L)[half + 0L:1L]):\n",
      "\"argument is not numeric or logical: returning NA\"\n",
      "Warning message in mean.default(sort(x, partial = half + 0L:1L)[half + 0L:1L]):\n",
      "\"argument is not numeric or logical: returning NA\"\n",
      "Warning message in mean.default(sort(x, partial = half + 0L:1L)[half + 0L:1L]):\n",
      "\"argument is not numeric or logical: returning NA\"\n",
      "Warning message:\n",
      "\"\u001b[1m\u001b[22mRemoved 2 rows containing missing values (`geom_bar()`).\"\n",
      "Warning message:\n",
      "\"\u001b[1m\u001b[22mRemoved 1 rows containing missing values (`geom_bar()`).\"\n"
     ]
    },
    {
     "data": {
      "image/png": "[encoded data removed]",
      "text/plain": [
       "plot without title"
      ]
     },
     "metadata": {
      "image/png": {
       "height": 420,
       "width": 420
      }
     },
     "output_type": "display_data"
    }
   ],
   "source": [
    "ggplot(df_selected,aes(fct_reorder(Statistic,stat),Percentile)) +                       \n",
    "    geom_bar(aes(y=100,fill=stat),stat=\"identity\",width=1,colour=\"white\",                 \n",
    "             alpha=0.5) +                                                                         \n",
    "    geom_bar(stat=\"identity\",width=1,aes(fill=stat),colour=\"white\") +                  \n",
    "    coord_polar() +                                                                      \n",
    "    geom_label(aes(label=Per90,fill=stat),size=2,color=\"white\",show.legend = FALSE)+     \n",
    "    scale_fill_manual(values=c(\"Possession\" = \"#D70232\",                                  \n",
    "                               \"Attacking\" = \"#1A78CF\",\n",
    "                               \"Defending\" = \"#FF9300\")) +                                                              \n",
    "    scale_y_continuous(limits = c(-10,100))+                                             \n",
    "    labs(fill=\"\",                                                                       \n",
    "         caption = \"Data from StatsBomb via FBref\",                                       \n",
    "         title=df_selected$Player[1])+                                           \n",
    "    theme_minimal() +                                                                   \n",
    "    theme(legend.position = \"top\",\n",
    "          axis.title.y = element_blank(),\n",
    "          axis.title.x = element_blank(),\n",
    "          axis.text.y = element_blank(),\n",
    "          #axis.text.x = element_text(size = 6, angle = ang),\n",
    "          plot.title = element_text(hjust=0.5),\n",
    "          plot.caption = element_text(hjust=0.5,size=6),\n",
    "          panel.grid.major = element_blank(), \n",
    "          panel.grid.minor = element_blank()) "
   ]
  },
  {
   "cell_type": "code",
   "execution_count": 30,
   "metadata": {
    "vscode": {
     "languageId": "r"
    }
   },
   "outputs": [
    {
     "name": "stderr",
     "output_type": "stream",
     "text": [
      "Warning message in mean.default(sort(x, partial = half + 0L:1L)[half + 0L:1L]):\n",
      "\"argument is not numeric or logical: returning NA\"\n",
      "Warning message in mean.default(sort(x, partial = half + 0L:1L)[half + 0L:1L]):\n",
      "\"argument is not numeric or logical: returning NA\"\n",
      "Warning message in mean.default(sort(x, partial = half + 0L:1L)[half + 0L:1L]):\n",
      "\"argument is not numeric or logical: returning NA\"\n",
      "Warning message in mean.default(sort(x, partial = half + 0L:1L)[half + 0L:1L]):\n",
      "\"argument is not numeric or logical: returning NA\"\n",
      "Warning message in mean.default(sort(x, partial = half + 0L:1L)[half + 0L:1L]):\n",
      "\"argument is not numeric or logical: returning NA\"\n",
      "Warning message in mean.default(sort(x, partial = half + 0L:1L)[half + 0L:1L]):\n",
      "\"argument is not numeric or logical: returning NA\"\n",
      "Warning message in mean.default(sort(x, partial = half + 0L:1L)[half + 0L:1L]):\n",
      "\"argument is not numeric or logical: returning NA\"\n",
      "Warning message in mean.default(sort(x, partial = half + 0L:1L)[half + 0L:1L]):\n",
      "\"argument is not numeric or logical: returning NA\"\n",
      "Warning message:\n",
      "\"\u001b[1m\u001b[22mRemoved 2 rows containing missing values (`geom_bar()`).\"\n",
      "Warning message:\n",
      "\"\u001b[1m\u001b[22mRemoved 1 rows containing missing values (`geom_bar()`).\"\n"
     ]
    },
    {
     "data": {
      "image/png": "[encoded data removed]",
      "text/plain": [
       "plot without title"
      ]
     },
     "metadata": {
      "image/png": {
       "height": 420,
       "width": 420
      }
     },
     "output_type": "display_data"
    }
   ],
   "source": [
    "ggplot(df_selected,aes(fct_reorder(Statistic,stat),Percentile)) +                      \n",
    "    geom_bar(aes(y=100),fill=\"#F2F4F5\",stat=\"identity\",width=1,colour=\"white\",                \n",
    "             alpha=1,linetype=\"dashed\") +                                                                          \n",
    "    geom_bar(stat=\"identity\",width=1,fill=\"#D20222\",colour=\"white\") +   \n",
    "    geom_hline(yintercept=25, colour=\"white\",linetype=\"longdash\",alpha=0.5)+\n",
    "    geom_hline(yintercept=50, colour=\"white\",linetype=\"longdash\",alpha=0.5)+\n",
    "    geom_hline(yintercept=75, colour=\"white\",linetype=\"longdash\",alpha=0.5)+ \n",
    "    geom_hline(yintercept=100, colour=\"white\",alpha=0.5)+ \n",
    "    coord_polar() +                                                                     \n",
    "    geom_label(aes(label=Per90),fill=\"#D20222\",size=2,color=\"white\",show.legend = FALSE)+     \n",
    "    scale_fill_manual(values=c(\"Possession\" = \"#D70232\",                                  \n",
    "                               \"Attacking\" = \"#1A78CF\",\n",
    "                               \"Defending\" = \"#FF9300\")) +                                                              \n",
    "    scale_y_continuous(limits = c(-10,100))+                                              \n",
    "    labs(fill=\"\",   \n",
    "         caption = \"Data from StatsBomb via FBref\",     \n",
    "         #remove legend title\n",
    "         title=glue(\"{df_selected$Player[1]} | Manchester United\"),\n",
    "         subtitle = glue::glue(\"{df_selected$season} | Compared to midfielders Top 5 competitions | stats per 90\"))+                                               \n",
    "    \n",
    "    theme_minimal() +                                                                     \n",
    "    theme(plot.background = element_rect(fill = \"#F2F4F5\",color = \"#F2F4F5\"),\n",
    "          panel.background = element_rect(fill = \"#F2F4F5\",color = \"#F2F4F5\"),\n",
    "          legend.position = \"top\",\n",
    "          axis.title.y = element_blank(),\n",
    "          axis.title.x = element_blank(),\n",
    "          axis.text.y = element_blank(),\n",
    "          #axis.text.x = element_text(size = 6, angle = ang),\n",
    "          plot.subtitle = element_text(hjust=0.5,size=8),\n",
    "          plot.caption = element_text(hjust=0.5,size=6),\n",
    "          panel.grid.major = element_blank(), \n",
    "          panel.grid.minor = element_blank(),\n",
    "          plot.margin = margin(5,2,2,2)) "
   ]
  },
  {
   "cell_type": "code",
   "execution_count": 16,
   "metadata": {
    "vscode": {
     "languageId": "r"
    }
   },
   "outputs": [
    {
     "data": {
      "text/html": [
       "<style>\n",
       ".list-inline {list-style: none; margin:0; padding: 0}\n",
       ".list-inline>li {display: inline-block}\n",
       ".list-inline>li:not(:last-child)::after {content: \"\\00b7\"; padding: 0 .5ex}\n",
       "</style>\n",
       "<ol class=list-inline><li>'anther'</li><li>'ovule'</li><li>'root'</li><li>'radicle'</li><li>'leaf'</li><li>'hypocotyl'</li><li>'cotyledon'</li><li>'stem'</li><li>'fiber_10DPA'</li><li>'fiber_20DPA'</li><li>'petal'</li><li>'stigma'</li></ol>\n"
      ],
      "text/latex": [
       "\\begin{enumerate*}\n",
       "\\item 'anther'\n",
       "\\item 'ovule'\n",
       "\\item 'root'\n",
       "\\item 'radicle'\n",
       "\\item 'leaf'\n",
       "\\item 'hypocotyl'\n",
       "\\item 'cotyledon'\n",
       "\\item 'stem'\n",
       "\\item 'fiber\\_10DPA'\n",
       "\\item 'fiber\\_20DPA'\n",
       "\\item 'petal'\n",
       "\\item 'stigma'\n",
       "\\end{enumerate*}\n"
      ],
      "text/markdown": [
       "1. 'anther'\n",
       "2. 'ovule'\n",
       "3. 'root'\n",
       "4. 'radicle'\n",
       "5. 'leaf'\n",
       "6. 'hypocotyl'\n",
       "7. 'cotyledon'\n",
       "8. 'stem'\n",
       "9. 'fiber_10DPA'\n",
       "10. 'fiber_20DPA'\n",
       "11. 'petal'\n",
       "12. 'stigma'\n",
       "\n",
       "\n"
      ],
      "text/plain": [
       " [1] \"anther\"      \"ovule\"       \"root\"        \"radicle\"     \"leaf\"       \n",
       " [6] \"hypocotyl\"   \"cotyledon\"   \"stem\"        \"fiber_10DPA\" \"fiber_20DPA\"\n",
       "[11] \"petal\"       \"stigma\"     "
      ]
     },
     "metadata": {},
     "output_type": "display_data"
    },
    {
     "data": {
      "text/html": [
       "<style>\n",
       ".list-inline {list-style: none; margin:0; padding: 0}\n",
       ".list-inline>li {display: inline-block}\n",
       ".list-inline>li:not(:last-child)::after {content: \"\\00b7\"; padding: 0 .5ex}\n",
       "</style>\n",
       "<ol class=list-inline><li>'anther'</li><li>'ovule'</li><li>'root'</li><li>'radicle'</li><li>'leaf'</li><li>'hypocotyl'</li><li>'cotyledon'</li><li>'stem'</li><li>'fiber_10DPA'</li><li>'fiber_20DPA'</li><li>'petal'</li><li>'stigma'</li></ol>\n"
      ],
      "text/latex": [
       "\\begin{enumerate*}\n",
       "\\item 'anther'\n",
       "\\item 'ovule'\n",
       "\\item 'root'\n",
       "\\item 'radicle'\n",
       "\\item 'leaf'\n",
       "\\item 'hypocotyl'\n",
       "\\item 'cotyledon'\n",
       "\\item 'stem'\n",
       "\\item 'fiber\\_10DPA'\n",
       "\\item 'fiber\\_20DPA'\n",
       "\\item 'petal'\n",
       "\\item 'stigma'\n",
       "\\end{enumerate*}\n"
      ],
      "text/markdown": [
       "1. 'anther'\n",
       "2. 'ovule'\n",
       "3. 'root'\n",
       "4. 'radicle'\n",
       "5. 'leaf'\n",
       "6. 'hypocotyl'\n",
       "7. 'cotyledon'\n",
       "8. 'stem'\n",
       "9. 'fiber_10DPA'\n",
       "10. 'fiber_20DPA'\n",
       "11. 'petal'\n",
       "12. 'stigma'\n",
       "\n",
       "\n"
      ],
      "text/plain": [
       " [1] \"anther\"      \"ovule\"       \"root\"        \"radicle\"     \"leaf\"       \n",
       " [6] \"hypocotyl\"   \"cotyledon\"   \"stem\"        \"fiber_10DPA\" \"fiber_20DPA\"\n",
       "[11] \"petal\"       \"stigma\"     "
      ]
     },
     "metadata": {},
     "output_type": "display_data"
    },
    {
     "data": {
      "image/png": "[encoded data removed]",
      "text/plain": [
       "plot without title"
      ]
     },
     "metadata": {
      "image/png": {
       "height": 420,
       "width": 420
      }
     },
     "output_type": "display_data"
    }
   ],
   "source": [
    "setwd('G:/Billfish/J668_multip_tissue_3D-genome/HiC/TAD_new/TSG_TAD/TSG_TAD_TPM_median')\n",
    "library(ggplot2)\n",
    "df = read.csv(\"TSG_TAD_TPM_median.csv\")\n",
    "df <- within(df, tags<- factor(tags, levels = c('anther', 'ovule', 'root', 'radicle', 'leaf', 'hypocotyl', 'cotyledon', 'stem', 'fiber_10DPA', 'fiber_20DPA', 'petal', 'stigma')))\n",
    "with(df, levels(tags))\n",
    "df <- within(df, tissues<- factor(tissues, levels = c('anther', 'ovule', 'root', 'radicle', 'leaf', 'hypocotyl', 'cotyledon', 'stem', 'fiber_10DPA', 'fiber_20DPA', 'petal', 'stigma')))\n",
    "with(df, levels(tissues))\n",
    "\n",
    "fg<- ggplot(df,aes(tissues,median_value)) +                       \n",
    "     #geom_bar(aes(y=5.5,fill=tissues),stat=\"identity\",width=1,colour=\"white\",                 \n",
    "     #         alpha=0.5) +                                                                         \n",
    " \n",
    "     geom_hline(yintercept=0.5, colour=\"white\",linetype=\"longdash\",alpha=0.5)+\n",
    "     geom_hline(yintercept=1.5, colour=\"white\",linetype=\"longdash\",alpha=0.5)+\n",
    "     geom_hline(yintercept=2.5, colour=\"white\",linetype=\"longdash\",alpha=0.5)+ \n",
    "     geom_hline(yintercept=3.5, colour=\"white\",linetype=\"longdash\",alpha=0.5)+\n",
    "     geom_hline(yintercept=4.5, colour=\"white\",linetype=\"longdash\",alpha=0.5)+\n",
    "     geom_hline(yintercept=5.5, colour=\"white\", linetype='longdash', alpha=0.5)+\n",
    "     geom_hline(yintercept=6, colour=\"white\", linetype='longdash', alpha=0.5)+           \n",
    "     geom_hline(yintercept=6.5, colour=\"white\")+           \n",
    "\n",
    "     geom_bar(stat=\"identity\",width=1,aes(fill=tissues),colour=\"black\") + \n",
    "     coord_polar() +                                                                      \n",
    "     #geom_label(aes(label=median_value,fill=tissues),size=2,color=\"white\",show.legend = FALSE)+     \n",
    "     # scale_fill_manual(values=c(\"Possession\" = \"#D70232\",                                  \n",
    "     #                            \"Attacking\" = \"#1A78CF\",\n",
    "     #                            \"Defending\" = \"#FF9300\")) +                                                              \n",
    "     # scale_y_continuous(limits = c(-10,100))+                                             \n",
    "     #labs(fill=\"\",                                                                       \n",
    "     #     caption = \"Data from StatsBomb via FBref\")+                             \n",
    "          #title=df_selected$Player[1])+                                           \n",
    "     #theme_minimal() +\n",
    "     facet_wrap(nrow=3, ~tags)+\n",
    "     theme(\n",
    "               axis.title.y = element_blank(),\n",
    "               axis.title.x = element_blank(),\n",
    "               axis.text.y = element_blank(),\n",
    "               #axis.text.x = element_text(size = 6, angle = ),\n",
    "               legend.position = 'none',\n",
    "               axis.text.x = element_blank(),\n",
    "               plot.title = element_text(hjust=0.5),\n",
    "               plot.caption = element_text(hjust=0.5,size=6),\n",
    "               panel.grid.major = element_blank(), \n",
    "               panel.grid.minor = element_blank())+\n",
    "     scale_fill_manual(values=c(\"#2196F3\", \"#69A71E\", \"#E2AE09\", \"#E6191E\", \"#D95204\", \"#7571B2\", \"#E6298D\", \"#A6751B\", \"#A55CED\", \"#1E79B2\" , \"#607D8B\", \"#efdab4\"))\n",
    "fg\n",
    "ggsave(plot =fg, filename = 'TSG_TAD_TPM_median.pdf', height = 5, width = 6)"
   ]
  },
  {
   "cell_type": "code",
   "execution_count": 2,
   "metadata": {
    "vscode": {
     "languageId": "r"
    }
   },
   "outputs": [
    {
     "name": "stdout",
     "output_type": "stream",
     "text": [
      "package 'ggplot2' successfully unpacked and MD5 sums checked\n",
      "\n",
      "The downloaded binary packages are in\n",
      "\tC:\\Users\\pc\\AppData\\Local\\Temp\\RtmpCIZqVg\\downloaded_packages\n"
     ]
    }
   ],
   "source": [
    "install.packages(\"ggplot2\")"
   ]
  }
 ],
 "metadata": {
  "kernelspec": {
   "display_name": "R",
   "language": "R",
   "name": "ir"
  },
  "language_info": {
   "codemirror_mode": "r",
   "file_extension": ".r",
   "mimetype": "text/x-r-source",
   "name": "R",
   "pygments_lexer": "r",
   "version": "4.2.2"
  },
  "orig_nbformat": 4,
  "vscode": {
   "interpreter": {
    "hash": "a0f669ea42a4dcea88d385f8f9b4c3d9b966e24234758831d1dbfdac925619a2"
   }
  }
 },
 "nbformat": 4,
 "nbformat_minor": 2
}
