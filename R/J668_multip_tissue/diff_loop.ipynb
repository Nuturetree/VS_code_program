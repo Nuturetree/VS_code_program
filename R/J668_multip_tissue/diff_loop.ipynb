{
 "cells": [
  {
   "cell_type": "code",
   "execution_count": null,
   "metadata": {
    "vscode": {
     "languageId": "r"
    }
   },
   "outputs": [],
   "source": [
    "requiredPackages <- c(\"Rcpp\",\"RcppEigen\",\"Matrix\",\"bigmemory\",\"HiTC\",\"zlibbioc\",\"devtools\",\n",
    "                      \"imager\",\"dplyr\",\"png\",\"quantreg\",\"doParallel\",\"data.table\")\n",
    "\n",
    "install.packages(\"BiocManager\")\n",
    "\n",
    "missingPackages = setdiff(requiredPackages, .packages(all.available = TRUE))\n",
    "if(length(missingPackages)>0){\n",
    "    message(paste0(length(missingPackages), \"Package(s) are missing. Installing them ...\"))\n",
    "    BiocManager::install(missingPackages,update=FALSE)\n",
    "}"
   ]
  },
  {
   "cell_type": "code",
   "execution_count": null,
   "metadata": {
    "vscode": {
     "languageId": "r"
    }
   },
   "outputs": [],
   "source": [
    "devtools::install_local(\"find\",force = TRUE,build = TRUE, type = \"source\")"
   ]
  },
  {
   "cell_type": "code",
   "execution_count": null,
   "metadata": {
    "vscode": {
     "languageId": "r"
    }
   },
   "outputs": [],
   "source": [
    "require(FIND)\n",
    "require(Matrix)\n",
    "require(mvtnorm)\n",
    "require(rasterVis)\n",
    "require(gridExtra)\n",
    "require(HiTC)\n",
    "require(edgeR)\n",
    "require(ggsci)\n",
    "data(K562_matrix_small)\n",
    "simRes <- generateSimulation(K562_matrix_small[1:200, 1:200], pDiff = 0.01, pUp = 0.6, foldDiff = 3, extreme.dispersion = 0.1, nrep1 = 1)\n"
   ]
  },
  {
   "cell_type": "code",
   "execution_count": null,
   "metadata": {
    "vscode": {
     "languageId": "r"
    }
   },
   "outputs": [],
   "source": []
  }
 ],
 "metadata": {
  "kernelspec": {
   "display_name": "R",
   "language": "R",
   "name": "ir"
  },
  "language_info": {
   "codemirror_mode": "r",
   "file_extension": ".r",
   "mimetype": "text/x-r-source",
   "name": "R",
   "pygments_lexer": "r",
   "version": "4.2.2"
  },
  "orig_nbformat": 4,
  "vscode": {
   "interpreter": {
    "hash": "a0f669ea42a4dcea88d385f8f9b4c3d9b966e24234758831d1dbfdac925619a2"
   }
  }
 },
 "nbformat": 4,
 "nbformat_minor": 2
}
