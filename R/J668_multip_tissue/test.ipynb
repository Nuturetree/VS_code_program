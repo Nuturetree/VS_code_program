{
 "cells": [
  {
   "cell_type": "code",
   "execution_count": 6,
   "metadata": {
    "vscode": {
     "languageId": "r"
    }
   },
   "outputs": [],
   "source": [
    "import pandas as pd\n",
    "Ghir_chrs = ['Ghir_A01', 'Ghir_A02', 'Ghir_A03', 'Ghir_A04', 'Ghir_A05', 'Ghir_A06', 'Ghir_A07', 'Ghir_A08', 'Ghir_A09', 'Ghir_A10', 'Ghir_A11', 'Ghir_A12', 'Ghir_A13', 'Ghir_D01', 'Ghir_D02', 'Ghir_D03', 'Ghir_D04', 'Ghir_D05', 'Ghir_D06', 'Ghir_D07', 'Ghir_D08', 'Ghir_D09', 'Ghir_D10', 'Ghir_D11', 'Ghir_D12', 'Ghir_D13']\n",
    "Chrs = ['A01', 'A02', 'A03', 'A04', 'A05', 'A06', 'A07', 'A08', 'A09', 'A10', 'A11', 'A12', 'A13', 'D01', 'D02', 'D03', 'D04', 'D05', 'D06', 'D07', 'D08', 'D09', 'D10', 'D11', 'D12', 'D13']\n",
    "df_result = pd.DataFrame()\n",
    "for i in range(len(Chrs)):\n",
    "    input_f = \"G:/Billfish/J668_multip_tissue_3D-genome/HiC/ide/fanc/{}_IDE.txt\".format(Ghir_chrs[i])\n",
    "    tags = Chrs[i]\n",
    "    df = pd.read_csv(input_f, sep='\\t')\n",
    "    df['chrom'] = [tags]*df.shape[0]\n",
    "    df_result = df_result.append(df, ignore_index=True)\n",
    "df_result.to_csv(\"G:/Billfish/J668_multip_tissue_3D-genome/HiC/ide/fanc/all_sample_chr_IDE.txt\", sep='\\t', index=False)"
   ]
  },
  {
   "cell_type": "code",
   "execution_count": 11,
   "metadata": {
    "vscode": {
     "languageId": "r"
    }
   },
   "outputs": [
    {
     "data": {
      "text/plain": [
       "\n",
       "\tPearson's Chi-squared test with Yates' continuity correction\n",
       "\n",
       "data:  ab\n",
       "X-squared = 3020.9, df = 1, p-value < 2.2e-16\n"
      ]
     },
     "metadata": {},
     "output_type": "display_data"
    }
   ],
   "source": [
    "a = c(366979, 565500)\n",
    "b = c(24410, 46754)\n",
    "ab <- data.frame(a, c)\n",
    "chisq.test(ab)"
   ]
  },
  {
   "cell_type": "code",
   "execution_count": 10,
   "metadata": {
    "vscode": {
     "languageId": "r"
    }
   },
   "outputs": [
    {
     "data": {
      "text/plain": [
       "\n",
       "\tPearson's Chi-squared test with Yates' continuity correction\n",
       "\n",
       "data:  ab\n",
       "X-squared = 44.614, df = 1, p-value = 2.4e-11\n"
      ]
     },
     "metadata": {},
     "output_type": "display_data"
    }
   ],
   "source": [
    "a = c(49005, 25340) \n",
    "b = c(5920, 2072)\n",
    "c = c(5533, 2411)\n",
    "\n",
    "\n",
    "ab <- data.frame(a, c)\n",
    "chisq.test(ab)"
   ]
  },
  {
   "cell_type": "code",
   "execution_count": 2,
   "metadata": {
    "vscode": {
     "languageId": "r"
    }
   },
   "outputs": [
    {
     "data": {
      "text/plain": [
       "\n",
       "\tPearson's Chi-squared test with Yates' continuity correction\n",
       "\n",
       "data:  ab\n",
       "X-squared = 3762.9, df = 1, p-value < 2.2e-16\n"
      ]
     },
     "metadata": {},
     "output_type": "display_data"
    }
   ],
   "source": [
    "a = c(146816, 67836 )\n",
    "b = c(127511, 87141)\n",
    "ab <- data.frame(a, b)\n",
    "chisq.test(ab)"
   ]
  },
  {
   "cell_type": "code",
   "execution_count": 3,
   "metadata": {
    "vscode": {
     "languageId": "r"
    }
   },
   "outputs": [
    {
     "data": {
      "text/plain": [
       "\n",
       "\tPearson's Chi-squared test with Yates' continuity correction\n",
       "\n",
       "data:  ab\n",
       "X-squared = 4.1527, df = 1, p-value = 0.04157\n"
      ]
     },
     "metadata": {},
     "output_type": "display_data"
    }
   ],
   "source": [
    "a = c(6, 1300)\n",
    "b = c(19, 1500)\n",
    "ab <- data.frame(a, b)\n",
    "chisq.test(ab)"
   ]
  },
  {
   "cell_type": "code",
   "execution_count": 1,
   "metadata": {
    "vscode": {
     "languageId": "r"
    }
   },
   "outputs": [
    {
     "data": {
      "text/plain": [
       "\n",
       "\tPearson's Chi-squared test with Yates' continuity correction\n",
       "\n",
       "data:  ab\n",
       "X-squared = 1.8941, df = 1, p-value = 0.1687\n"
      ]
     },
     "metadata": {},
     "output_type": "display_data"
    }
   ],
   "source": [
    "a = c(1966, 2995)\n",
    "b = c(2081, 2995)\n",
    "ab <- data.frame(a, b)\n",
    "chisq.test(ab)"
   ]
  },
  {
   "cell_type": "code",
   "execution_count": null,
   "metadata": {
    "vscode": {
     "languageId": "r"
    }
   },
   "outputs": [],
   "source": [
    "df = readRDS(\"C:/Users/pc/Downloads/AdaTiSS-main/data/raw_tpm_expression.rds\")"
   ]
  },
  {
   "cell_type": "code",
   "execution_count": 2,
   "metadata": {
    "vscode": {
     "languageId": "r"
    }
   },
   "outputs": [
    {
     "data": {
      "text/plain": [
       "\n",
       "\tPearson's Chi-squared test with Yates' continuity correction\n",
       "\n",
       "data:  ab\n",
       "X-squared = 20.484, df = 1, p-value = 6.014e-06\n"
      ]
     },
     "metadata": {},
     "output_type": "display_data"
    }
   ],
   "source": [
    "a = c(27909, 70199)\n",
    "b = c(78, 92)\n",
    "b = c(92, 124)\n",
    "ab <- data.frame(a, b)\n",
    "chisq.test(ab)"
   ]
  },
  {
   "cell_type": "code",
   "execution_count": 4,
   "metadata": {
    "vscode": {
     "languageId": "r"
    }
   },
   "outputs": [
    {
     "ename": "ERROR",
     "evalue": "Error in library(colorRamp2): there is no package called 'colorRamp2'\n",
     "output_type": "error",
     "traceback": [
      "Error in library(colorRamp2): there is no package called 'colorRamp2'\nTraceback:\n",
      "1. library(colorRamp2)"
     ]
    }
   ],
   "source": [
    "library(tidyverse)\n",
    "library(ComplexHeatmap)\n",
    "library(colorRamp2)\n",
    "setwd(\"G:/Billfish/J668_multip_tissue_3D-genome/test\")\n",
    "\n",
    "F1 <- read.table(\"new.txt\",header = T) %>%\n",
    "  select(1,9)\n",
    "  \n",
    "df <- data.frame(table(cut(F1$polya_length,\n",
    "                           breaks = c(seq(0,200,by = 1))))) %>%\n",
    "  setNames(c(\"seq\",\"Freq\"))\n",
    "\n",
    "df <- df %>%\n",
    "  mutate(ratio = Freq / sum(df$Freq)) %>%\n",
    "  select(1,3) %>%\n",
    "  mutate(seq = factor(seq)) %>%\n",
    "  column_to_rownames(\"seq\") \n",
    "print(df)\n",
    "\n",
    "# col_fun = colorRamp2(seq(0,0.01,0.0001), colorRampPalette(brewer.pal(9, \"PuBu\"))(101))\n",
    "# df <- t(df)\n",
    "\n",
    "# print(df)\n",
    "\n",
    "\n",
    "\n",
    "# p1 <- Heatmap(df,name = \"Ratio of Reads (1nt bin)\", \n",
    "#               #column_names_side = \"top\",\n",
    "#               col = col_fun,\n",
    "#               show_row_names = FALSE,\n",
    "#               show_column_names = FALSE,\n",
    "#               cluster_rows = FALSE,\n",
    "#               cluster_columns = FALSE,\n",
    "#               use_raster = TRUE ,\n",
    "#               border = TRUE,\n",
    "#               heatmap_legend_param = list(legend_height=unit(8,\"cm\"),\n",
    "#                                           legend_direction=\"horizontal\",\n",
    "#                                           leged_position = \"bottom\")\n",
    "# )\n",
    "\n",
    "\n",
    "# p <- p1 %v% p2"
   ]
  },
  {
   "cell_type": "code",
   "execution_count": 5,
   "metadata": {
    "vscode": {
     "languageId": "r"
    }
   },
   "outputs": [
    {
     "name": "stderr",
     "output_type": "stream",
     "text": [
      "Installing package into 'C:/Users/pc/AppData/Local/R/win-library/4.2'\n",
      "(as 'lib' is unspecified)\n",
      "\n"
     ]
    },
    {
     "name": "stdout",
     "output_type": "stream",
     "text": [
      "package 'circlize' successfully unpacked and MD5 sums checked\n",
      "\n",
      "The downloaded binary packages are in\n",
      "\tC:\\Users\\pc\\AppData\\Local\\Temp\\RtmpUjPgTc\\downloaded_packages\n"
     ]
    }
   ],
   "source": [
    "install.packages(\"circlize\")"
   ]
  }
 ],
 "metadata": {
  "kernelspec": {
   "display_name": "R",
   "language": "R",
   "name": "ir"
  },
  "language_info": {
   "codemirror_mode": "r",
   "file_extension": ".r",
   "mimetype": "text/x-r-source",
   "name": "R",
   "pygments_lexer": "r",
   "version": "4.2.2"
  },
  "orig_nbformat": 4,
  "vscode": {
   "interpreter": {
    "hash": "a0f669ea42a4dcea88d385f8f9b4c3d9b966e24234758831d1dbfdac925619a2"
   }
  }
 },
 "nbformat": 4,
 "nbformat_minor": 2
}
