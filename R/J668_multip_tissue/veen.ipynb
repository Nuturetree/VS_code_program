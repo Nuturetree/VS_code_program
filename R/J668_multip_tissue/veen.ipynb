{
 "cells": [
  {
   "cell_type": "code",
   "execution_count": 34,
   "metadata": {
    "vscode": {
     "languageId": "r"
    }
   },
   "outputs": [
    {
     "data": {
      "text/html": [
       "<strong>png:</strong> 2"
      ],
      "text/latex": [
       "\\textbf{png:} 2"
      ],
      "text/markdown": [
       "**png:** 2"
      ],
      "text/plain": [
       "png \n",
       "  2 "
      ]
     },
     "metadata": {},
     "output_type": "display_data"
    }
   ],
   "source": [
    "library(VennDiagram)\n",
    "setwd(\"G:/Billfish/J668_multip_tissue_3D-genome/new_RNA_Seq/DEG/tissue_hg/AA_DD_HDEM\")\n",
    "df = read.table(\"G:/Billfish/J668_multip_tissue_3D-genome/new_RNA_Seq/DEG/tissue_hg/AA_DD_HDEM/oppsite_nblance.bed\", sep=\"\\t\", header=T)\n",
    "\n",
    "veen1 <- venn.diagram(x=list(df$oppsite,df$nblance),\n",
    "            scaled = T, # 根据比例显示大小\n",
    "            category.names = c(\"Set1\", \"Set2\"),\n",
    "            alpha = 0.5,resolution = 300,filename = NULL)\n",
    "pdf('venn.pdf', width = 10, height = 10)\n",
    "grid.draw(veen1)\n",
    "dev.off()\n",
    "\n"
   ]
  },
  {
   "cell_type": "code",
   "execution_count": 59,
   "metadata": {
    "vscode": {
     "languageId": "r"
    }
   },
   "outputs": [
    {
     "data": {
      "text/html": [
       "<strong>png:</strong> 2"
      ],
      "text/latex": [
       "\\textbf{png:} 2"
      ],
      "text/markdown": [
       "**png:** 2"
      ],
      "text/plain": [
       "png \n",
       "  2 "
      ]
     },
     "metadata": {},
     "output_type": "display_data"
    }
   ],
   "source": [
    "library(VennDiagram)\n",
    "setwd(\"G:/Billfish/J668_multip_tissue_3D-genome/ATAC_ChIP\")\n",
    "df = read.csv(\"J668_ATAC_H3K27ac_H3K4me3_peaks_annotation_gene.csv\", header=T)\n",
    "df_ATAC <- df[!is.na(df$ATAC),]$ATAC\n",
    "df_H3K27ac <- df[!is.na(df$H3K27ac),]$H3K27ac\n",
    "df_H3K4me3 <- df[!is.na(df$H3K4me3),]$H3K4me3\n",
    "\n",
    "veen2 <- venn.diagram(x=list(df_ATAC,df_H3K27ac, df_H3K4me3),\n",
    "  category.names = c(\"ATAC (20755)\" , \"H3K27ac (50701)\" , \"H3K4me3 (59528)\"),\n",
    "  filename = NULL,\n",
    "  output = TRUE ,\n",
    "          imagetype=\"png\" ,\n",
    "          height = 480 , \n",
    "          width = 480 , \n",
    "          resolution = 300,\n",
    "          compression = \"lzw\",\n",
    "          lwd = 1,\n",
    "          col=c(\"#440154ff\", '#21908dff', '#fde725ff'),\n",
    "          #fill = c(alpha(\"#440154ff\",0.3), alpha('#21908dff',0.3), alpha('#fde725ff',0.3)),\n",
    "          cex = 0.5,\n",
    "          fontfamily = \"sans\",\n",
    "          cat.cex = 0.3,\n",
    "          cat.default.pos = \"outer\",\n",
    "          cat.pos = c(-27, 27, 135),\n",
    "          cat.dist = c(0.055, 0.055, 0.085),\n",
    "          cat.fontfamily = \"sans\",\n",
    "          cat.col = c(\"#440154ff\", '#21908dff', '#fde725ff'),\n",
    "          rotation = 1\n",
    "        )\n",
    "pdf('J668_ATAC_H3K27ac_H3K4me3_peaks_annotation_gene.pdf', width = 1.5, height = 1.5)\n",
    "grid.draw(veen2)\n",
    "dev.off()\n"
   ]
  },
  {
   "cell_type": "code",
   "execution_count": 45,
   "metadata": {
    "vscode": {
     "languageId": "r"
    }
   },
   "outputs": [
    {
     "name": "stderr",
     "output_type": "stream",
     "text": [
      "Loading required package: graph\n",
      "\n",
      "Loading required package: BiocGenerics\n",
      "\n",
      "\n",
      "Attaching package: 'BiocGenerics'\n",
      "\n",
      "\n",
      "The following objects are masked from 'package:stats':\n",
      "\n",
      "    IQR, mad, sd, var, xtabs\n",
      "\n",
      "\n",
      "The following objects are masked from 'package:base':\n",
      "\n",
      "    anyDuplicated, aperm, append, as.data.frame, basename, cbind,\n",
      "    colnames, dirname, do.call, duplicated, eval, evalq, Filter, Find,\n",
      "    get, grep, grepl, intersect, is.unsorted, lapply, Map, mapply,\n",
      "    match, mget, order, paste, pmax, pmax.int, pmin, pmin.int,\n",
      "    Position, rank, rbind, Reduce, rownames, sapply, setdiff, sort,\n",
      "    table, tapply, union, unique, unsplit, which.max, which.min\n",
      "\n",
      "\n",
      "Loading required package: RBGL\n",
      "\n",
      "Loading required package: lattice\n",
      "\n",
      "Loading required package: RColorBrewer\n",
      "\n",
      "Loading required package: reshape\n",
      "\n",
      "Loading required package: gtools\n",
      "\n",
      "\n",
      "Attaching package: 'gtools'\n",
      "\n",
      "\n",
      "The following object is masked from 'package:futile.logger':\n",
      "\n",
      "    scat\n",
      "\n",
      "\n",
      "Loading required package: xtable\n",
      "\n"
     ]
    }
   ],
   "source": [
    "\n"
   ]
  },
  {
   "cell_type": "code",
   "execution_count": 47,
   "metadata": {
    "vscode": {
     "languageId": "r"
    }
   },
   "outputs": [
    {
     "name": "stderr",
     "output_type": "stream",
     "text": [
      "Warning message in data(变量名可以随便起):\n",
      "\"data set '变量名可以随便起' not found\"\n"
     ]
    },
    {
     "data": {
      "image/png": "[encoded data removed]",
      "text/plain": [
       "plot without title"
      ]
     },
     "metadata": {
      "image/png": {
       "height": 420,
       "width": 420
      }
     },
     "output_type": "display_data"
    }
   ],
   "source": [
    "data(变量名可以随便起)\n",
    "plot(data,doWeight=T)"
   ]
  }
 ],
 "metadata": {
  "kernelspec": {
   "display_name": "R",
   "language": "R",
   "name": "ir"
  },
  "language_info": {
   "codemirror_mode": "r",
   "file_extension": ".r",
   "mimetype": "text/x-r-source",
   "name": "R",
   "pygments_lexer": "r",
   "version": "4.2.2"
  },
  "orig_nbformat": 4,
  "vscode": {
   "interpreter": {
    "hash": "a0f669ea42a4dcea88d385f8f9b4c3d9b966e24234758831d1dbfdac925619a2"
   }
  }
 },
 "nbformat": 4,
 "nbformat_minor": 2
}
