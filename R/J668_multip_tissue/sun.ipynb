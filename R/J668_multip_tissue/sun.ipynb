{
 "cells": [
  {
   "cell_type": "code",
   "execution_count": 31,
   "metadata": {
    "vscode": {
     "languageId": "r"
    }
   },
   "outputs": [
    {
     "data": {
      "text/html": [
       "<style>\n",
       ".list-inline {list-style: none; margin:0; padding: 0}\n",
       ".list-inline>li {display: inline-block}\n",
       ".list-inline>li:not(:last-child)::after {content: \"\\00b7\"; padding: 0 .5ex}\n",
       "</style>\n",
       "<ol class=list-inline><li>'A'</li><li>'B'</li><li>'A1'</li><li>'A2'</li><li>'A3'</li><li>'A4'</li><li>'B4'</li><li>'B3'</li><li>'B2'</li><li>'B1'</li><li>'active TAD'</li><li>'normal TAD'</li><li>'Enrich TAD'</li><li>'Isolated TAD'</li><li>'Structural TAD'</li><li>'G-G'</li><li>'G-N'</li><li>'N-N'</li><li>'active'</li><li>'inactive'</li><li>'exp'</li><li>'Nexp'</li></ol>\n"
      ],
      "text/latex": [
       "\\begin{enumerate*}\n",
       "\\item 'A'\n",
       "\\item 'B'\n",
       "\\item 'A1'\n",
       "\\item 'A2'\n",
       "\\item 'A3'\n",
       "\\item 'A4'\n",
       "\\item 'B4'\n",
       "\\item 'B3'\n",
       "\\item 'B2'\n",
       "\\item 'B1'\n",
       "\\item 'active TAD'\n",
       "\\item 'normal TAD'\n",
       "\\item 'Enrich TAD'\n",
       "\\item 'Isolated TAD'\n",
       "\\item 'Structural TAD'\n",
       "\\item 'G-G'\n",
       "\\item 'G-N'\n",
       "\\item 'N-N'\n",
       "\\item 'active'\n",
       "\\item 'inactive'\n",
       "\\item 'exp'\n",
       "\\item 'Nexp'\n",
       "\\end{enumerate*}\n"
      ],
      "text/markdown": [
       "1. 'A'\n",
       "2. 'B'\n",
       "3. 'A1'\n",
       "4. 'A2'\n",
       "5. 'A3'\n",
       "6. 'A4'\n",
       "7. 'B4'\n",
       "8. 'B3'\n",
       "9. 'B2'\n",
       "10. 'B1'\n",
       "11. 'active TAD'\n",
       "12. 'normal TAD'\n",
       "13. 'Enrich TAD'\n",
       "14. 'Isolated TAD'\n",
       "15. 'Structural TAD'\n",
       "16. 'G-G'\n",
       "17. 'G-N'\n",
       "18. 'N-N'\n",
       "19. 'active'\n",
       "20. 'inactive'\n",
       "21. 'exp'\n",
       "22. 'Nexp'\n",
       "\n",
       "\n"
      ],
      "text/plain": [
       " [1] \"A\"              \"B\"              \"A1\"             \"A2\"            \n",
       " [5] \"A3\"             \"A4\"             \"B4\"             \"B3\"            \n",
       " [9] \"B2\"             \"B1\"             \"active TAD\"     \"normal TAD\"    \n",
       "[13] \"Enrich TAD\"     \"Isolated TAD\"   \"Structural TAD\" \"G-G\"           \n",
       "[17] \"G-N\"            \"N-N\"            \"active\"         \"inactive\"      \n",
       "[21] \"exp\"            \"Nexp\"          "
      ]
     },
     "metadata": {},
     "output_type": "display_data"
    },
    {
     "data": {
      "text/html": [
       "<style>\n",
       ".list-inline {list-style: none; margin:0; padding: 0}\n",
       ".list-inline>li {display: inline-block}\n",
       ".list-inline>li:not(:last-child)::after {content: \"\\00b7\"; padding: 0 .5ex}\n",
       "</style>\n",
       "<ol class=list-inline><li>'anther'</li><li>'ovule'</li><li>'root'</li><li>'radicle'</li><li>'leaf'</li><li>'hypocotyl'</li><li>'cotyledon'</li><li>'stem'</li><li>'fiber_10DPA'</li><li>'fiber_20DPA'</li><li>'petal'</li><li>'stigma'</li></ol>\n"
      ],
      "text/latex": [
       "\\begin{enumerate*}\n",
       "\\item 'anther'\n",
       "\\item 'ovule'\n",
       "\\item 'root'\n",
       "\\item 'radicle'\n",
       "\\item 'leaf'\n",
       "\\item 'hypocotyl'\n",
       "\\item 'cotyledon'\n",
       "\\item 'stem'\n",
       "\\item 'fiber\\_10DPA'\n",
       "\\item 'fiber\\_20DPA'\n",
       "\\item 'petal'\n",
       "\\item 'stigma'\n",
       "\\end{enumerate*}\n"
      ],
      "text/markdown": [
       "1. 'anther'\n",
       "2. 'ovule'\n",
       "3. 'root'\n",
       "4. 'radicle'\n",
       "5. 'leaf'\n",
       "6. 'hypocotyl'\n",
       "7. 'cotyledon'\n",
       "8. 'stem'\n",
       "9. 'fiber_10DPA'\n",
       "10. 'fiber_20DPA'\n",
       "11. 'petal'\n",
       "12. 'stigma'\n",
       "\n",
       "\n"
      ],
      "text/plain": [
       " [1] \"anther\"      \"ovule\"       \"root\"        \"radicle\"     \"leaf\"       \n",
       " [6] \"hypocotyl\"   \"cotyledon\"   \"stem\"        \"fiber_10DPA\" \"fiber_20DPA\"\n",
       "[11] \"petal\"       \"stigma\"     "
      ]
     },
     "metadata": {},
     "output_type": "display_data"
    },
    {
     "data": {
      "image/png": "[encoded data removed]",
      "text/plain": [
       "plot without title"
      ]
     },
     "metadata": {
      "image/png": {
       "height": 420,
       "width": 420
      }
     },
     "output_type": "display_data"
    }
   ],
   "source": [
    "###旭日图，分析同源基因对的表达模式\n",
    "library(ggplot2)\n",
    "rm(list=ls())\n",
    "setwd('G:/Billfish/J668_multip_tissue_3D-genome/model')\n",
    "data <- read.csv('J668_model.csv', header=T) \n",
    "data <- within(data, sigs <- factor(sigs, levels = c( \"A\", 'B', 'A1', 'A2', 'A3', 'A4', 'B4', 'B3', 'B2', 'B1', \"active TAD\",  \"normal TAD\", \"Enrich TAD\", \"Isolated TAD\", \"Structural TAD\", \"G-G\", 'G-N', \"N-N\", 'active', 'inactive', 'exp', 'Nexp')))\n",
    "with(data, levels(sigs))\n",
    "data <- within(data, tissues <- factor(tissues, levels = c('anther', 'ovule', 'root', 'radicle', 'leaf', 'hypocotyl', 'cotyledon', 'stem', 'fiber_10DPA', 'fiber_20DPA', 'petal', 'stigma')))\n",
    "with(data, levels(tissues))\n",
    "AD_trains_AD <- ggplot(data, aes(x=level, y=ratio, fill=sigs))+\n",
    "  geom_col(width =1, color = 'white', size =0.05) +\n",
    "  #geom_text(aes(label=sigs), size=4, position = position_stack(vjust=0.5)) +\n",
    "  coord_polar(theta = 'y') +\n",
    "  facet_grid(tissues~subg)+\n",
    "  #scale_alpha_manual(values = c(1, 1, 1, 1), guide = F) +\n",
    "  scale_x_discrete(breaks = NULL) +\n",
    "  scale_y_continuous(breaks = NULL)+ \n",
    "  #scale_fill_brewer(palette = 'Set3', na.translate = F) +\n",
    "  scale_fill_manual(values=c(\"#CA2B1A\", \"#14447E\",  '#EE4D5A', '#F97B57', '#F3AD6A', '#ECDA9A', '#B0F2BC', '#67DBA5', '#38B2A3','#257D98', \"#FDB67D\", \"#AFEAF2\" , \"#006A8E\", '#6847B2', \"#A8A6A7\", \"#CA665A\", \"#CCB567\",\"#5B87A1\", \"#F24405\", \"#22BABB\", \"#F2889B\", \"#95BFA4\" ))+  #设置颜色\n",
    "  labs(x = NULL, y = NULL) +\n",
    "  theme_minimal()+\n",
    "  theme(legend.position = \"left\",\n",
    "        panel.spacing = unit(0.01, \"cm\"))\n",
    "AD_trains_AD\n",
    "ggsave(plot =AD_trains_AD, filename = 'Jin668_model.pdf', height = 4, width = 4,  dpi = 300)"
   ]
  },
  {
   "cell_type": "code",
   "execution_count": 44,
   "metadata": {
    "vscode": {
     "languageId": "r"
    }
   },
   "outputs": [
    {
     "data": {
      "text/html": [
       "<style>\n",
       ".list-inline {list-style: none; margin:0; padding: 0}\n",
       ".list-inline>li {display: inline-block}\n",
       ".list-inline>li:not(:last-child)::after {content: \"\\00b7\"; padding: 0 .5ex}\n",
       "</style>\n",
       "<ol class=list-inline><li>'A'</li><li>'B'</li><li>'A1'</li><li>'A2'</li><li>'A3'</li><li>'A4'</li><li>'B4'</li><li>'B3'</li><li>'B2'</li><li>'B1'</li><li>'active TAD'</li><li>'normal TAD'</li><li>'Enrich TAD'</li><li>'Isolated TAD'</li><li>'Structural TAD'</li><li>'G-G'</li><li>'G-N'</li><li>'N-N'</li><li>'active'</li><li>'inactive'</li><li>'exp'</li><li>'Nexp'</li></ol>\n"
      ],
      "text/latex": [
       "\\begin{enumerate*}\n",
       "\\item 'A'\n",
       "\\item 'B'\n",
       "\\item 'A1'\n",
       "\\item 'A2'\n",
       "\\item 'A3'\n",
       "\\item 'A4'\n",
       "\\item 'B4'\n",
       "\\item 'B3'\n",
       "\\item 'B2'\n",
       "\\item 'B1'\n",
       "\\item 'active TAD'\n",
       "\\item 'normal TAD'\n",
       "\\item 'Enrich TAD'\n",
       "\\item 'Isolated TAD'\n",
       "\\item 'Structural TAD'\n",
       "\\item 'G-G'\n",
       "\\item 'G-N'\n",
       "\\item 'N-N'\n",
       "\\item 'active'\n",
       "\\item 'inactive'\n",
       "\\item 'exp'\n",
       "\\item 'Nexp'\n",
       "\\end{enumerate*}\n"
      ],
      "text/markdown": [
       "1. 'A'\n",
       "2. 'B'\n",
       "3. 'A1'\n",
       "4. 'A2'\n",
       "5. 'A3'\n",
       "6. 'A4'\n",
       "7. 'B4'\n",
       "8. 'B3'\n",
       "9. 'B2'\n",
       "10. 'B1'\n",
       "11. 'active TAD'\n",
       "12. 'normal TAD'\n",
       "13. 'Enrich TAD'\n",
       "14. 'Isolated TAD'\n",
       "15. 'Structural TAD'\n",
       "16. 'G-G'\n",
       "17. 'G-N'\n",
       "18. 'N-N'\n",
       "19. 'active'\n",
       "20. 'inactive'\n",
       "21. 'exp'\n",
       "22. 'Nexp'\n",
       "\n",
       "\n"
      ],
      "text/plain": [
       " [1] \"A\"              \"B\"              \"A1\"             \"A2\"            \n",
       " [5] \"A3\"             \"A4\"             \"B4\"             \"B3\"            \n",
       " [9] \"B2\"             \"B1\"             \"active TAD\"     \"normal TAD\"    \n",
       "[13] \"Enrich TAD\"     \"Isolated TAD\"   \"Structural TAD\" \"G-G\"           \n",
       "[17] \"G-N\"            \"N-N\"            \"active\"         \"inactive\"      \n",
       "[21] \"exp\"            \"Nexp\"          "
      ]
     },
     "metadata": {},
     "output_type": "display_data"
    },
    {
     "data": {
      "image/png": "[encoded data removed]",
      "text/plain": [
       "plot without title"
      ]
     },
     "metadata": {
      "image/png": {
       "height": 420,
       "width": 420
      }
     },
     "output_type": "display_data"
    }
   ],
   "source": [
    "###旭日图，分析同源基因对的表达模式\n",
    "library(ggplot2)\n",
    "rm(list=ls())\n",
    "setwd('G:/Billfish/J668_multip_tissue_3D-genome/model')\n",
    "data <- read.csv('J668_moduleA_mean.csv', header=T) \n",
    "data <- within(data, sigs <- factor(sigs, levels = c( \"A\", 'B', 'A1', 'A2', 'A3', 'A4', 'B4', 'B3', 'B2', 'B1', \"active TAD\",  \"normal TAD\", \"Enrich TAD\", \"Isolated TAD\", \"Structural TAD\", \"G-G\", 'G-N', \"N-N\", 'active', 'inactive', 'exp', 'Nexp')))\n",
    "with(data, levels(sigs))\n",
    "# data <- within(data, tissues <- factor(tissues, levels = c('anther', 'ovule', 'root', 'radicle', 'leaf', 'hypocotyl', 'cotyledon', 'stem', 'fiber_10DPA', 'fiber_20DPA', 'petal', 'stigma')))\n",
    "# with(data, levels(tissues))\n",
    "AD_trains_AD <- ggplot(data, aes(x=level, y=ratio, fill=sigs))+\n",
    "  geom_col(width =1, color = 'white', size =0.05) +\n",
    "  #geom_text(aes(label=sigs), size=4, position = position_stack(vjust=0.5)) +\n",
    "  coord_polar(theta = 'y') +\n",
    "  facet_grid(.~subg)+\n",
    "  #scale_alpha_manual(values = c(1, 1, 1, 1), guide = F) +\n",
    "  scale_x_discrete(breaks = NULL) +\n",
    "  scale_y_continuous(breaks = NULL)+ \n",
    "  #scale_fill_brewer(palette = 'Set3', na.translate = F) +\n",
    "  scale_fill_manual(values=c(\"#CA2B1A\", \"#14447E\",  '#EE4D5A', '#F97B57', '#F3AD6A', '#ECDA9A', '#B0F2BC', '#67DBA5', '#38B2A3','#257D98', \"#FDB67D\", \"#AFEAF2\" , \"#006A8E\", '#6847B2', \"#A8A6A7\", \"#CA665A\", \"#CCB567\",\"#5B87A1\", \"#F24405\", \"#22BABB\", \"#F2889B\", \"#95BFA4\" ))+  #设置颜色\n",
    "  labs(x = NULL, y = NULL) +\n",
    "  theme_minimal()+\n",
    "  theme(legend.position = \"left\",\n",
    "        panel.spacing = unit(0.01, \"cm\"),\n",
    "        legend.key.width = unit(0.25, \"cm\"), \n",
    "        legend.key.height = unit(0.05, \"cm\"))\n",
    "AD_trains_AD\n",
    "ggsave(plot =AD_trains_AD, filename = 'Jin668_modelA_mean.pdf', height = 4, width = 4,  dpi = 300)"
   ]
  },
  {
   "cell_type": "code",
   "execution_count": 23,
   "metadata": {
    "vscode": {
     "languageId": "r"
    }
   },
   "outputs": [
    {
     "data": {
      "image/png": "[encoded data removed]",
      "text/plain": [
       "plot without title"
      ]
     },
     "metadata": {
      "image/png": {
       "height": 420,
       "width": 420
      }
     },
     "output_type": "display_data"
    }
   ],
   "source": [
    "###旭日图，分析同源基因对的表达模式\n",
    "library(ggplot2)\n",
    "rm(list=ls())\n",
    "setwd('G:/Billfish/J668_multip_tissue_3D-genome/model')\n",
    "data <- read.csv('J668_module4.csv', header=T) \n",
    "# data <- within(data, sigs <- factor(sigs , levels = c( \"A\", 'B', 'A1', 'A2', 'A3', 'A4', 'B4', 'B3', 'B2', 'B1', \"active TAD\",  \"normal TAD\", \"Enrich TAD\", \"Isolated TAD\", \"Structural TAD\", \"G-G\", 'G-N', \"N-N\", 'active', 'inactive', 'exp', 'Nexp')))\n",
    "# with(data, levels(sigs))\n",
    "# data <- within(data, tissues <- factor(tissues, levels = c('anther', 'ovule', 'root', 'radicle', 'leaf', 'hypocotyl', 'cotyledon', 'stem', 'fiber_10DPA', 'fiber_20DPA', 'petal', 'stigma')))\n",
    "# with(data, levels(tissues))\n",
    "AD_trains_AD <- ggplot(data, aes(x=level, y=ratio, fill=sigs))+\n",
    "  geom_col(width =0.6, color = 'black', size =0.5) +\n",
    "  #geom_text(aes(label=sigs), size=4, position = position_stack(vjust=0.5)) +\n",
    "  coord_polar(theta = 'y') +\n",
    "  scale_x_discrete(breaks = NULL) +\n",
    "  scale_y_continuous(breaks = NULL)+ \n",
    "  #scale_fill_brewer(palette = 'Set3', na.translate = F) +\n",
    "  scale_fill_manual(values=c(\"#97A275\", \"#F2711B\"))+  #设置颜色\n",
    "  labs(x = NULL, y = NULL) +\n",
    "  theme_minimal()+\n",
    "  theme(legend.position = \"left\",\n",
    "        panel.spacing = unit(0.01, \"cm\"),\n",
    "        legend.key.width = unit(0.25, \"cm\"), \n",
    "        legend.key.height = unit(0.05, \"cm\"))\n",
    "AD_trains_AD\n",
    "ggsave(plot =AD_trains_AD, filename = 'J668_module4.pdf', height = 4, width = 4,  dpi = 300)"
   ]
  }
 ],
 "metadata": {
  "kernelspec": {
   "display_name": "R",
   "language": "R",
   "name": "ir"
  },
  "language_info": {
   "codemirror_mode": "r",
   "file_extension": ".r",
   "mimetype": "text/x-r-source",
   "name": "R",
   "pygments_lexer": "r",
   "version": "4.2.2"
  },
  "orig_nbformat": 4
 },
 "nbformat": 4,
 "nbformat_minor": 2
}
