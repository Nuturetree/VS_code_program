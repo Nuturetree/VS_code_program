{
 "cells": [
  {
   "cell_type": "code",
   "execution_count": 61,
   "metadata": {},
   "outputs": [
    {
     "data": {
      "text/html": [
       "<style>\n",
       ".list-inline {list-style: none; margin:0; padding: 0}\n",
       ".list-inline>li {display: inline-block}\n",
       ".list-inline>li:not(:last-child)::after {content: \"\\00b7\"; padding: 0 .5ex}\n",
       "</style>\n",
       "<ol class=list-inline><li>0.36894128639928</li><li>0.141107900564176</li></ol>\n"
      ],
      "text/latex": [
       "\\begin{enumerate*}\n",
       "\\item 0.36894128639928\n",
       "\\item 0.141107900564176\n",
       "\\end{enumerate*}\n"
      ],
      "text/markdown": [
       "1. 0.36894128639928\n",
       "2. 0.141107900564176\n",
       "\n",
       "\n"
      ],
      "text/plain": [
       "[1] 0.3689413 0.1411079"
      ]
     },
     "metadata": {},
     "output_type": "display_data"
    }
   ],
   "source": [
    "library(ggplot2)\n",
    "library(ggbiplot)\n",
    "setwd('F:/J668_multip_tissue_3D-genome/RNA_seq/PCA')\n",
    "#group <- c(rep(\"anthers\", 2), rep(\"cotyledon\", 2), rep(\"fiber_10DPA\", 2), rep(\"fiber_20DPA\", 2), rep(\"fiber_5DPA\", 2), rep(\"hypocotyl\", 2), rep(\"leaf\", 2), rep(\"ovules\", 2), rep(\"petals\", 2), rep(\"radicle\", 2), rep(\"root\", 2), rep(\"stem\", 2), rep(\"stigma\", 2))\n",
    "df <- read.table('J668_all_tissue_FPKM.txt', sep = '\\t', row.names=1, stringsAsFactors=F, header=T)\n",
    "df_pca <- prcomp(df)\n",
    "percentVar <- df_pca$sdev^2 / sum( df_pca$sdev^2)\n",
    "percentVar[1:2]\n",
    "pca2comp <- df_pca$rotation[,1:2]\n",
    "pca2comp <- as.data.frame(pca2comp)\n",
    "color = c('#F296AF','#0D6465',  '#F2E7C7', '#96F2A2', '#A2B5F2', '#507445', '#F74B0C',  '#38C4EB',  '#E8FFAF', '#50B5C7','#ADC4CC',  '#323C73','#CCADB5')\n",
    "tags = c('anthers','anthers','cotyledon','cotyledon','fiber_10DPA','fiber_10DPA','fiber_20DPA','fiber_20DPA','fiber_5DPA','fiber_5DPA','hypocotyl','hypocotyl','leaf','leaf','ovules','ovules','petals','petals','radicle','radicle','root','root','stem','stem','stigma','stigma')\n",
    "pca2comp$tags <- tags\n",
    "fg <- ggplot(pca2comp,aes(x=PC1, y=PC2, color=tags, size=4)) + geom_point() + \n",
    "theme(panel.background = element_blank(), \n",
    "      panel.grid = element_blank(),\n",
    "      axis.line=element_line(linetype=1,color=\"black\"),\n",
    "      #legend.position=c(0.25, 0.7),\n",
    "      axis.ticks.length = unit(0.5, 'cm'),\n",
    "      axis.text = element_text(size = 16)\n",
    "     )+\n",
    "scale_color_manual(values=color)\n",
    "fg\n",
    "ggsave(plot =fg, filename = 'J668_all_tissue_FPKM.pdf', height =6, width = 8)"
   ]
  },
  {
   "cell_type": "code",
   "execution_count": null,
   "metadata": {},
   "outputs": [],
   "source": []
  }
 ],
 "metadata": {
  "kernelspec": {
   "display_name": "R",
   "language": "R",
   "name": "ir"
  },
  "language_info": {
   "codemirror_mode": "r",
   "file_extension": ".r",
   "mimetype": "text/x-r-source",
   "name": "R",
   "pygments_lexer": "r",
   "version": "4.1.2"
  },
  "orig_nbformat": 4
 },
 "nbformat": 4,
 "nbformat_minor": 2
}
