{
 "cells": [
  {
   "cell_type": "code",
   "execution_count": null,
   "metadata": {
    "vscode": {
     "languageId": "r"
    }
   },
   "outputs": [],
   "source": [
    "# site=\"https://mirrors.tuna.tsinghua.edu.cn/CRAN\"\n",
    "# install.packages(c(\"WGCNA\", \"stringr\", \"reshape2\"), repos=site)\n",
    "# if (!require(\"BiocManager\", quietly = TRUE))\n",
    "#     install.packages(\"BiocManager\")\n",
    "\n",
    "# BiocManager::install(\"preprocessCore\")\n",
    "library(WGCNA)"
   ]
  },
  {
   "cell_type": "code",
   "execution_count": 24,
   "metadata": {
    "vscode": {
     "languageId": "r"
    }
   },
   "outputs": [
    {
     "name": "stdout",
     "output_type": "stream",
     "text": [
      "[1] 12313    33\n"
     ]
    }
   ],
   "source": [
    "library(WGCNA)\n",
    "library(reshape2)\n",
    "library(stringr)\n",
    "library(dplyr)\n",
    "library(limma)\n",
    "options(stringsAsFactors = FALSE)\n",
    "rm(list = ls())\n",
    "#enableWGCNAThreads()\n",
    "setwd(\"G:/Billfish/J668_multip_tissue_3D-genome/RNA_seq/WGCNA/test_data\")\n",
    "# 读取数据\n",
    "input_f <- \"TPM_test.txt\"\n",
    "df <- read.table(input_f, sep=\"\\t\", head=TRUE, row.names=1)\n",
    "tissues <- c( 'Anther1', 'Anther2', 'Anther3', 'Cotyledon1', 'Cotyledon2', 'Cotyledon3', 'Ovule1', 'Ovule2', 'Ovule3',\n",
    "            'Hypocotyl1', 'Hypocotyl2', 'Hypocotyl3', 'Leaf1', 'Leaf2', 'Leaf3', 'Petal1', 'Petal2', 'Petal3', 'Radicle1', 'Radicle2', \n",
    "            'Root1', 'Root2', 'Root3', 'Stem1', 'Stem2', 'Stem3', 'Stigma1', 'Stigma2', 'Stigma3', 'Fiber_10DPA1', 'Fiber_10DPA2', 'Fiber_20DPA1', 'Fiber_20DPA2')\n",
    "df <- as.matrix(select(df, all_of(tissues)))\n",
    "batch <- c(1, 2, 2, 1, 1, 2, 1, 1, 2, 1, 2, 2, 1, 1, 2, 1, 1, 2, 1, 2, 1, 1, 2, 1, 1, 2, 1, 1, 2, 1, 1, 1, 1)\n",
    "\n",
    "# print(df)\n",
    "# 去除批次效应\n",
    "df <- removeBatchEffect(df, batch)\n",
    "print(dim(df))"
   ]
  },
  {
   "cell_type": "code",
   "execution_count": 37,
   "metadata": {
    "vscode": {
     "languageId": "r"
    }
   },
   "outputs": [],
   "source": [
    "# 数据清洗\n",
    "df_mad <- apply(df, 1, mad) \n",
    "\n",
    "#df_Var <- df[which(df_mad>max(quantile(df_mad, probs=seq(0,1,0.25))[2], 0.01)),]\n",
    "df_Var <- df[which(df_mad>max(quantile(df_mad, probs=seq(0,1,0.25))[1], 0)),]\n"
   ]
  },
  {
   "cell_type": "code",
   "execution_count": 38,
   "metadata": {
    "vscode": {
     "languageId": "r"
    }
   },
   "outputs": [
    {
     "data": {
      "text/html": [
       "<style>\n",
       ".list-inline {list-style: none; margin:0; padding: 0}\n",
       ".list-inline>li {display: inline-block}\n",
       ".list-inline>li:not(:last-child)::after {content: \"\\00b7\"; padding: 0 .5ex}\n",
       "</style>\n",
       "<ol class=list-inline><li>33</li><li>11583</li></ol>\n"
      ],
      "text/latex": [
       "\\begin{enumerate*}\n",
       "\\item 33\n",
       "\\item 11583\n",
       "\\end{enumerate*}\n"
      ],
      "text/markdown": [
       "1. 33\n",
       "2. 11583\n",
       "\n",
       "\n"
      ],
      "text/plain": [
       "[1]    33 11583"
      ]
     },
     "metadata": {},
     "output_type": "display_data"
    },
    {
     "name": "stdout",
     "output_type": "stream",
     "text": [
      " Flagging genes and samples with too many missing values...\n",
      "  ..step 1\n"
     ]
    },
    {
     "data": {
      "text/html": [
       "<style>\n",
       ".list-inline {list-style: none; margin:0; padding: 0}\n",
       ".list-inline>li {display: inline-block}\n",
       ".list-inline>li:not(:last-child)::after {content: \"\\00b7\"; padding: 0 .5ex}\n",
       "</style>\n",
       "<ol class=list-inline><li>33</li><li>11583</li></ol>\n"
      ],
      "text/latex": [
       "\\begin{enumerate*}\n",
       "\\item 33\n",
       "\\item 11583\n",
       "\\end{enumerate*}\n"
      ],
      "text/markdown": [
       "1. 33\n",
       "2. 11583\n",
       "\n",
       "\n"
      ],
      "text/plain": [
       "[1]    33 11583"
      ]
     },
     "metadata": {},
     "output_type": "display_data"
    }
   ],
   "source": [
    "## 转换格式，横纵转换\n",
    "df_Var_t <- as.data.frame(t(df_Var))\n",
    "#df_Var_t <- as.data.frame(t(df))\n",
    "\n",
    "dim(df_Var_t)\n",
    "gsg = goodSamplesGenes(df_Var_t, verbose = 3)\n",
    "if (!gsg$allOK){\n",
    "  # Optionally, print the gene and sample names that were removed:\n",
    "  if (sum(!gsg$goodGenes)>0) \n",
    "    printFlush(paste(\"Removing genes:\", \n",
    "                     paste(names(df_Vart)[!gsg$goodGenes], collapse = \",\")));\n",
    "  if (sum(!gsg$goodSamples)>0) \n",
    "    printFlush(paste(\"Removing samples:\", \n",
    "                     paste(rownames(df_Vart)[!gsg$goodSamples], collapse = \",\")));\n",
    "  # Remove the offending genes and samples from the data:\n",
    "  df_Vart = df_Vart[gsg$goodSamples, gsg$goodGenes]\n",
    "}\n",
    "nGenes = ncol(df_Var_t)\n",
    "nSamples = nrow(df_Var_t)\n",
    "dim(df_Var_t)"
   ]
  },
  {
   "cell_type": "code",
   "execution_count": 8,
   "metadata": {
    "vscode": {
     "languageId": "r"
    }
   },
   "outputs": [
    {
     "data": {
      "text/html": [
       "<strong>png:</strong> 2"
      ],
      "text/latex": [
       "\\textbf{png:} 2"
      ],
      "text/markdown": [
       "**png:** 2"
      ],
      "text/plain": [
       "png \n",
       "  2 "
      ]
     },
     "metadata": {},
     "output_type": "display_data"
    }
   ],
   "source": [
    "## 软阈值筛选，看是否存在离群值\n",
    "pdf(\"J668_cluster.pdf\")\n",
    "sampleTree = hclust(dist(df_Var_t), method = \"average\")\n",
    "plot(sampleTree, main = \"Sample clustering to detect outliers\", sub=\"\", xlab=\"\")\n",
    "dev.off()"
   ]
  },
  {
   "cell_type": "code",
   "execution_count": 9,
   "metadata": {
    "vscode": {
     "languageId": "r"
    }
   },
   "outputs": [
    {
     "name": "stdout",
     "output_type": "stream",
     "text": [
      "pickSoftThreshold: will use block size 4845.\n",
      " pickSoftThreshold: calculating connectivity for given powers...\n",
      "   ..working on genes 1 through 4845 of 9234\n"
     ]
    },
    {
     "name": "stderr",
     "output_type": "stream",
     "text": [
      "Warning message:\n",
      "\"executing %dopar% sequentially: no parallel backend registered\"\n"
     ]
    },
    {
     "name": "stdout",
     "output_type": "stream",
     "text": [
      "   ..working on genes 4846 through 9234 of 9234\n",
      "   Power SFT.R.sq  slope truncated.R.sq mean.k. median.k. max.k.\n",
      "1      1  0.81100  4.350          0.934 3140.00   3130.00 4510.0\n",
      "2      2  0.43500  1.450          0.982 1530.00   1470.00 2840.0\n",
      "3      3  0.00928  0.122          0.898  875.00    799.00 2000.0\n",
      "4      4  0.26600 -0.584          0.899  553.00    478.00 1500.0\n",
      "5      5  0.56400 -0.954          0.920  374.00    306.00 1180.0\n",
      "6      6  0.70100 -1.150          0.939  265.00    205.00  949.0\n",
      "7      7  0.76000 -1.290          0.943  195.00    143.00  782.0\n",
      "8      8  0.78400 -1.380          0.941  148.00    102.00  656.0\n",
      "9      9  0.80600 -1.450          0.945  115.00     75.20  558.0\n",
      "10    10  0.82700 -1.480          0.957   90.70     56.40  480.0\n",
      "11    12  0.82900 -1.570          0.954   59.50     33.30  367.0\n",
      "12    14  0.85300 -1.600          0.968   41.00     20.60  288.0\n",
      "13    16  0.85500 -1.640          0.971   29.40     13.30  231.0\n",
      "14    18  0.86600 -1.660          0.978   21.70      8.91  189.0\n",
      "15    20  0.86900 -1.660          0.982   16.50      6.18  156.0\n",
      "16    22  0.87800 -1.660          0.987   12.80      4.37  130.0\n",
      "17    24  0.87900 -1.660          0.987   10.10      3.12  110.0\n",
      "18    26  0.87700 -1.650          0.985    8.06      2.30   93.7\n",
      "19    28  0.87800 -1.650          0.982    6.55      1.70   80.3\n",
      "20    30  0.88300 -1.620          0.982    5.39      1.28   69.2\n"
     ]
    }
   ],
   "source": [
    "powers = c(c(1:10), seq(from = 12, to=30, by=2))\n",
    "type = \"unsigned\"\n",
    "corType = \"pearson\"\n",
    "corFnc = ifelse(corType==\"pearson\", cor, bicor)\n",
    "maxPOutliers = ifelse(corType==\"pearson\",1,0.05)\n",
    "sft = pickSoftThreshold(df_Var_t, powerVector=powers, networkType=type, verbose=5)"
   ]
  },
  {
   "cell_type": "code",
   "execution_count": 11,
   "metadata": {
    "vscode": {
     "languageId": "r"
    }
   },
   "outputs": [
    {
     "data": {
      "text/html": [
       "<strong>png:</strong> 2"
      ],
      "text/latex": [
       "\\textbf{png:} 2"
      ],
      "text/markdown": [
       "**png:** 2"
      ],
      "text/plain": [
       "png \n",
       "  2 "
      ]
     },
     "metadata": {},
     "output_type": "display_data"
    }
   ],
   "source": [
    "par(mfrow = c(1,2))\n",
    "cex1 = 0.9\n",
    "# 横轴是Soft threshold (power)，纵轴是无标度网络的评估参数，数值越高，\n",
    "# 网络越符合无标度特征 (non-scale)\n",
    "## 储存PDF 文件\n",
    "pdf(\"soft_threshold_choose.pdf\")\n",
    "plot(sft$fitIndices[,1], -sign(sft$fitIndices[,3])*sft$fitIndices[,2],\n",
    "     xlab=\"Soft Threshold (power)\",\n",
    "     ylab=\"Scale Free Topology Model Fit,signed R^2\",type=\"n\",\n",
    "     main = paste(\"Scale independence\"))\n",
    "text(sft$fitIndices[,1], -sign(sft$fitIndices[,3])*sft$fitIndices[,2],\n",
    "     labels=powers,cex=cex1,col=\"red\")\n",
    "abline(h=0.85,col=\"red\")\n",
    "plot(sft$fitIndices[,1], sft$fitIndices[,5],\n",
    "     xlab=\"Soft Threshold (power)\",ylab=\"Mean Connectivity\", type=\"n\",\n",
    "     main = paste(\"Mean connectivity\"))\n",
    "text(sft$fitIndices[,1], sft$fitIndices[,5], labels=powers, \n",
    "     cex=cex1, col=\"red\")\n",
    "dev.off()"
   ]
  },
  {
   "cell_type": "code",
   "execution_count": 12,
   "metadata": {
    "vscode": {
     "languageId": "r"
    }
   },
   "outputs": [
    {
     "data": {
      "text/html": [
       "14"
      ],
      "text/latex": [
       "14"
      ],
      "text/markdown": [
       "14"
      ],
      "text/plain": [
       "[1] 14"
      ]
     },
     "metadata": {},
     "output_type": "display_data"
    }
   ],
   "source": [
    "power = sft$powerEstimate\n",
    "power"
   ]
  },
  {
   "cell_type": "code",
   "execution_count": 13,
   "metadata": {
    "vscode": {
     "languageId": "r"
    }
   },
   "outputs": [
    {
     "name": "stderr",
     "output_type": "stream",
     "text": [
      "Warning message in is.na(power):\n",
      "\"is.na() applied to non-(list or vector) of type 'closure'\"\n"
     ]
    }
   ],
   "source": [
    "## 经验poewer 选择（在没有能够满足条件的power时选取）\n",
    "# 无向网络在power小于15或有向网络power小于30内，没有一个power值可以使\n",
    "# 无标度网络图谱结构R^2达到0.8，平均连接度较高如在100以上，可能是由于\n",
    "# 部分样品与其他样品差别太大。这可能由批次效应、样品异质性或实验条件对\n",
    "# 表达影响太大等造成。可以通过绘制样品聚类查看分组信息和有无异常样品。\n",
    "# 如果这确实是由有意义的生物变化引起的，也可以使用下面的经验power值。\n",
    "if (is.na(power)){\n",
    "  power = ifelse(nSamples<20, ifelse(type == \"unsigned\", 9, 18),\n",
    "          ifelse(nSamples<30, ifelse(type == \"unsigned\", 8, 16),\n",
    "          ifelse(nSamples<40, ifelse(type == \"unsigned\", 7, 14),\n",
    "          ifelse(type == \"unsigned\", 6, 12))       \n",
    "          )\n",
    "          )\n",
    "}"
   ]
  },
  {
   "cell_type": "code",
   "execution_count": 13,
   "metadata": {
    "vscode": {
     "languageId": "r"
    }
   },
   "outputs": [
    {
     "name": "stdout",
     "output_type": "stream",
     "text": [
      " Calculating module eigengenes block-wise from all genes\n",
      "   Flagging genes and samples with too many missing values...\n",
      "    ..step 1\n",
      " ..Working on block 1 .\n",
      "    TOM calculation: adjacency..\n",
      "    ..will not use multithreading.\n",
      "     Fraction of slow calculations: 0.000000\n",
      "    ..connectivity..\n",
      "    ..matrix multiplication (system BLAS)..\n",
      "    ..normalization..\n",
      "    ..done.\n",
      "   ..saving TOM for block 1 into file J668_WGCNA.tom-block.1.RData\n",
      " ....clustering..\n",
      " ....detecting modules..\n",
      " ....calculating module eigengenes..\n",
      " ....checking kME in modules..\n",
      "  ..reassigning 153 genes from module 1 to modules with higher KME.\n",
      "  ..reassigning 148 genes from module 2 to modules with higher KME.\n",
      "  ..reassigning 149 genes from module 3 to modules with higher KME.\n",
      "  ..reassigning 105 genes from module 4 to modules with higher KME.\n",
      "  ..reassigning 93 genes from module 5 to modules with higher KME.\n",
      "  ..reassigning 139 genes from module 6 to modules with higher KME.\n",
      "  ..reassigning 85 genes from module 7 to modules with higher KME.\n",
      "  ..reassigning 70 genes from module 8 to modules with higher KME.\n",
      "  ..reassigning 48 genes from module 9 to modules with higher KME.\n",
      "  ..reassigning 75 genes from module 10 to modules with higher KME.\n",
      "  ..reassigning 80 genes from module 11 to modules with higher KME.\n",
      "  ..reassigning 65 genes from module 12 to modules with higher KME.\n",
      "  ..reassigning 57 genes from module 13 to modules with higher KME.\n",
      "  ..reassigning 69 genes from module 14 to modules with higher KME.\n",
      "  ..reassigning 56 genes from module 15 to modules with higher KME.\n",
      "  ..reassigning 48 genes from module 16 to modules with higher KME.\n",
      "  ..reassigning 51 genes from module 17 to modules with higher KME.\n",
      "  ..reassigning 57 genes from module 18 to modules with higher KME.\n",
      "  ..reassigning 46 genes from module 19 to modules with higher KME.\n",
      "  ..reassigning 64 genes from module 20 to modules with higher KME.\n",
      "  ..reassigning 46 genes from module 21 to modules with higher KME.\n",
      "  ..reassigning 40 genes from module 22 to modules with higher KME.\n",
      "  ..reassigning 26 genes from module 23 to modules with higher KME.\n",
      "  ..reassigning 60 genes from module 24 to modules with higher KME.\n",
      "  ..reassigning 54 genes from module 25 to modules with higher KME.\n",
      "  ..reassigning 28 genes from module 26 to modules with higher KME.\n",
      "  ..reassigning 24 genes from module 27 to modules with higher KME.\n",
      "  ..reassigning 24 genes from module 28 to modules with higher KME.\n",
      "  ..reassigning 51 genes from module 29 to modules with higher KME.\n",
      "  ..reassigning 13 genes from module 30 to modules with higher KME.\n",
      "  ..reassigning 23 genes from module 31 to modules with higher KME.\n",
      "  ..reassigning 32 genes from module 32 to modules with higher KME.\n",
      "  ..reassigning 24 genes from module 33 to modules with higher KME.\n",
      "  ..reassigning 16 genes from module 34 to modules with higher KME.\n",
      "  ..reassigning 39 genes from module 35 to modules with higher KME.\n",
      "  ..reassigning 32 genes from module 36 to modules with higher KME.\n",
      "  ..reassigning 24 genes from module 37 to modules with higher KME.\n",
      "  ..reassigning 11 genes from module 38 to modules with higher KME.\n",
      "  ..reassigning 16 genes from module 39 to modules with higher KME.\n",
      "  ..reassigning 23 genes from module 40 to modules with higher KME.\n",
      "  ..reassigning 21 genes from module 41 to modules with higher KME.\n",
      "  ..reassigning 27 genes from module 42 to modules with higher KME.\n",
      "  ..reassigning 19 genes from module 43 to modules with higher KME.\n",
      "  ..reassigning 32 genes from module 44 to modules with higher KME.\n",
      "  ..reassigning 13 genes from module 45 to modules with higher KME.\n",
      "  ..reassigning 10 genes from module 46 to modules with higher KME.\n",
      "  ..reassigning 15 genes from module 47 to modules with higher KME.\n",
      "  ..reassigning 13 genes from module 48 to modules with higher KME.\n",
      "  ..reassigning 17 genes from module 49 to modules with higher KME.\n",
      "  ..reassigning 9 genes from module 50 to modules with higher KME.\n",
      "  ..reassigning 28 genes from module 51 to modules with higher KME.\n",
      "  ..reassigning 12 genes from module 52 to modules with higher KME.\n",
      "  ..reassigning 9 genes from module 53 to modules with higher KME.\n",
      "  ..reassigning 21 genes from module 54 to modules with higher KME.\n",
      "  ..reassigning 30 genes from module 55 to modules with higher KME.\n",
      "  ..reassigning 10 genes from module 56 to modules with higher KME.\n",
      "  ..reassigning 13 genes from module 57 to modules with higher KME.\n",
      "  ..reassigning 6 genes from module 58 to modules with higher KME.\n",
      "  ..reassigning 16 genes from module 59 to modules with higher KME.\n",
      "  ..reassigning 8 genes from module 60 to modules with higher KME.\n",
      "  ..reassigning 17 genes from module 61 to modules with higher KME.\n",
      "  ..reassigning 11 genes from module 62 to modules with higher KME.\n",
      "  ..reassigning 14 genes from module 63 to modules with higher KME.\n",
      "  ..reassigning 18 genes from module 64 to modules with higher KME.\n",
      "  ..reassigning 13 genes from module 65 to modules with higher KME.\n",
      "  ..reassigning 16 genes from module 66 to modules with higher KME.\n",
      "  ..reassigning 14 genes from module 67 to modules with higher KME.\n",
      "  ..reassigning 14 genes from module 68 to modules with higher KME.\n",
      "  ..reassigning 12 genes from module 69 to modules with higher KME.\n",
      "  ..reassigning 8 genes from module 70 to modules with higher KME.\n",
      "  ..reassigning 6 genes from module 71 to modules with higher KME.\n",
      "  ..reassigning 12 genes from module 72 to modules with higher KME.\n",
      "  ..reassigning 7 genes from module 73 to modules with higher KME.\n",
      "  ..reassigning 8 genes from module 74 to modules with higher KME.\n",
      "  ..reassigning 9 genes from module 75 to modules with higher KME.\n",
      " ..merging modules that are too close..\n",
      "     mergeCloseModules: Merging modules whose distance is less than 0.25\n",
      "       Calculating new MEs...\n"
     ]
    }
   ],
   "source": [
    "##一步法网络构建：One-step network construction and module detection##\n",
    "# power: 上一步计算的软阈值\n",
    "# maxBlockSize: 计算机能处理的最大模块的基因数量 (默认5000)；\n",
    "#  4G内存电脑可处理8000-10000个，16G内存电脑可以处理2万个，32G内存电脑可\n",
    "#  以处理3万个\n",
    "#  计算资源允许的情况下最好放在一个block里面。\n",
    "# corType: pearson or bicor\n",
    "# numericLabels: 返回数字而不是颜色作为模块的名字，后面可以再转换为颜色\n",
    "# saveTOMs：最耗费时间的计算，存储起来，供后续使用\n",
    "# mergeCutHeight: 合并模块的阈值，越大模块越少\n",
    "# type = \"unsigned\"\n",
    "# corType = \"pearson\"\n",
    "#maxPOutliers = ifelse(corType==\"pearson\",1,0.05)\n",
    "net = blockwiseModules(df_Var_t, power = power, maxBlockSize = nGenes,\n",
    "                       TOMType = \"unsigned\", minModuleSize = 30,\n",
    "                       reassignThreshold = 4, mergeCutHeight = 0.25,\n",
    "                       numericLabels = TRUE, pamRespectsDendro = FALSE,\n",
    "                       saveTOMs=TRUE, corType = \"pearson\", loadTOMs=TRUE,\n",
    "                       saveTOMFileBase = paste0(\"J668_WGCNA\", \".tom\"),\n",
    "                       verbose = 3)\n",
    "\n"
   ]
  },
  {
   "cell_type": "code",
   "execution_count": 51,
   "metadata": {
    "vscode": {
     "languageId": "r"
    }
   },
   "outputs": [
    {
     "data": {
      "text/html": [
       "<style>\n",
       ".list-inline {list-style: none; margin:0; padding: 0}\n",
       ".list-inline>li {display: inline-block}\n",
       ".list-inline>li:not(:last-child)::after {content: \"\\00b7\"; padding: 0 .5ex}\n",
       "</style>\n",
       "<ol class=list-inline><li>'blockGenes'</li><li>'blocks'</li><li>'colors'</li><li>'dendrograms'</li><li>'goodGenes'</li><li>'goodSamples'</li><li>'MEs'</li><li>'MEsOK'</li><li>'TOMFiles'</li><li>'unmergedColors'</li></ol>\n"
      ],
      "text/latex": [
       "\\begin{enumerate*}\n",
       "\\item 'blockGenes'\n",
       "\\item 'blocks'\n",
       "\\item 'colors'\n",
       "\\item 'dendrograms'\n",
       "\\item 'goodGenes'\n",
       "\\item 'goodSamples'\n",
       "\\item 'MEs'\n",
       "\\item 'MEsOK'\n",
       "\\item 'TOMFiles'\n",
       "\\item 'unmergedColors'\n",
       "\\end{enumerate*}\n"
      ],
      "text/markdown": [
       "1. 'blockGenes'\n",
       "2. 'blocks'\n",
       "3. 'colors'\n",
       "4. 'dendrograms'\n",
       "5. 'goodGenes'\n",
       "6. 'goodSamples'\n",
       "7. 'MEs'\n",
       "8. 'MEsOK'\n",
       "9. 'TOMFiles'\n",
       "10. 'unmergedColors'\n",
       "\n",
       "\n"
      ],
      "text/plain": [
       " [1] \"blockGenes\"     \"blocks\"         \"colors\"         \"dendrograms\"   \n",
       " [5] \"goodGenes\"      \"goodSamples\"    \"MEs\"            \"MEsOK\"         \n",
       " [9] \"TOMFiles\"       \"unmergedColors\""
      ]
     },
     "metadata": {},
     "output_type": "display_data"
    },
    {
     "data": {
      "text/html": [
       "'list'"
      ],
      "text/latex": [
       "'list'"
      ],
      "text/markdown": [
       "'list'"
      ],
      "text/plain": [
       "[1] \"list\""
      ]
     },
     "metadata": {},
     "output_type": "display_data"
    }
   ],
   "source": [
    "ls(net)\n",
    "class(net)\n",
    "library(rlist)\n",
    "#net$blockGenes\n",
    "#class(net$blockGenes)\n",
    "save.image(\"all.RData\")"
   ]
  },
  {
   "cell_type": "code",
   "execution_count": 71,
   "metadata": {
    "vscode": {
     "languageId": "r"
    }
   },
   "outputs": [
    {
     "data": {
      "text/html": [
       "<style>\n",
       ".list-inline {list-style: none; margin:0; padding: 0}\n",
       ".list-inline>li {display: inline-block}\n",
       ".list-inline>li:not(:last-child)::after {content: \"\\00b7\"; padding: 0 .5ex}\n",
       "</style>\n",
       "<ol class=list-inline><li>'adjacency'</li><li>'Alldegrees1'</li><li>'batch'</li><li>'cex1'</li><li>'colorlevels'</li><li>'connet'</li><li>'corFnc'</li><li>'corType'</li><li>'datKME'</li><li>'df'</li><li>'df_mad'</li><li>'df_Var'</li><li>'df_Var_t'</li><li>'dissTOM'</li><li>'GeneSignificance'</li><li>'GS1'</li><li>'gsg'</li><li>'i'</li><li>'input_f'</li><li>'k'</li><li>'keys'</li><li>'KIM'</li><li>'matx'</li><li>'maxPOutliers'</li><li>'ME'</li><li>'MEs'</li><li>'MM'</li><li>'moduleColors'</li><li>'net'</li><li>'nGenes'</li><li>'nSamples'</li><li>'outputf'</li><li>'plotTOM'</li><li>'power'</li><li>'powers'</li><li>'restrict1'</li><li>'sampleTree'</li><li>'sft'</li><li>'tissues'</li><li>'TOM'</li><li>'type'</li><li>'uniq_colors'</li><li>'which.module'</li><li>'whichmodule'</li><li>'z'</li></ol>\n"
      ],
      "text/latex": [
       "\\begin{enumerate*}\n",
       "\\item 'adjacency'\n",
       "\\item 'Alldegrees1'\n",
       "\\item 'batch'\n",
       "\\item 'cex1'\n",
       "\\item 'colorlevels'\n",
       "\\item 'connet'\n",
       "\\item 'corFnc'\n",
       "\\item 'corType'\n",
       "\\item 'datKME'\n",
       "\\item 'df'\n",
       "\\item 'df\\_mad'\n",
       "\\item 'df\\_Var'\n",
       "\\item 'df\\_Var\\_t'\n",
       "\\item 'dissTOM'\n",
       "\\item 'GeneSignificance'\n",
       "\\item 'GS1'\n",
       "\\item 'gsg'\n",
       "\\item 'i'\n",
       "\\item 'input\\_f'\n",
       "\\item 'k'\n",
       "\\item 'keys'\n",
       "\\item 'KIM'\n",
       "\\item 'matx'\n",
       "\\item 'maxPOutliers'\n",
       "\\item 'ME'\n",
       "\\item 'MEs'\n",
       "\\item 'MM'\n",
       "\\item 'moduleColors'\n",
       "\\item 'net'\n",
       "\\item 'nGenes'\n",
       "\\item 'nSamples'\n",
       "\\item 'outputf'\n",
       "\\item 'plotTOM'\n",
       "\\item 'power'\n",
       "\\item 'powers'\n",
       "\\item 'restrict1'\n",
       "\\item 'sampleTree'\n",
       "\\item 'sft'\n",
       "\\item 'tissues'\n",
       "\\item 'TOM'\n",
       "\\item 'type'\n",
       "\\item 'uniq\\_colors'\n",
       "\\item 'which.module'\n",
       "\\item 'whichmodule'\n",
       "\\item 'z'\n",
       "\\end{enumerate*}\n"
      ],
      "text/markdown": [
       "1. 'adjacency'\n",
       "2. 'Alldegrees1'\n",
       "3. 'batch'\n",
       "4. 'cex1'\n",
       "5. 'colorlevels'\n",
       "6. 'connet'\n",
       "7. 'corFnc'\n",
       "8. 'corType'\n",
       "9. 'datKME'\n",
       "10. 'df'\n",
       "11. 'df_mad'\n",
       "12. 'df_Var'\n",
       "13. 'df_Var_t'\n",
       "14. 'dissTOM'\n",
       "15. 'GeneSignificance'\n",
       "16. 'GS1'\n",
       "17. 'gsg'\n",
       "18. 'i'\n",
       "19. 'input_f'\n",
       "20. 'k'\n",
       "21. 'keys'\n",
       "22. 'KIM'\n",
       "23. 'matx'\n",
       "24. 'maxPOutliers'\n",
       "25. 'ME'\n",
       "26. 'MEs'\n",
       "27. 'MM'\n",
       "28. 'moduleColors'\n",
       "29. 'net'\n",
       "30. 'nGenes'\n",
       "31. 'nSamples'\n",
       "32. 'outputf'\n",
       "33. 'plotTOM'\n",
       "34. 'power'\n",
       "35. 'powers'\n",
       "36. 'restrict1'\n",
       "37. 'sampleTree'\n",
       "38. 'sft'\n",
       "39. 'tissues'\n",
       "40. 'TOM'\n",
       "41. 'type'\n",
       "42. 'uniq_colors'\n",
       "43. 'which.module'\n",
       "44. 'whichmodule'\n",
       "45. 'z'\n",
       "\n",
       "\n"
      ],
      "text/plain": [
       " [1] \"adjacency\"        \"Alldegrees1\"      \"batch\"            \"cex1\"            \n",
       " [5] \"colorlevels\"      \"connet\"           \"corFnc\"           \"corType\"         \n",
       " [9] \"datKME\"           \"df\"               \"df_mad\"           \"df_Var\"          \n",
       "[13] \"df_Var_t\"         \"dissTOM\"          \"GeneSignificance\" \"GS1\"             \n",
       "[17] \"gsg\"              \"i\"                \"input_f\"          \"k\"               \n",
       "[21] \"keys\"             \"KIM\"              \"matx\"             \"maxPOutliers\"    \n",
       "[25] \"ME\"               \"MEs\"              \"MM\"               \"moduleColors\"    \n",
       "[29] \"net\"              \"nGenes\"           \"nSamples\"         \"outputf\"         \n",
       "[33] \"plotTOM\"          \"power\"            \"powers\"           \"restrict1\"       \n",
       "[37] \"sampleTree\"       \"sft\"              \"tissues\"          \"TOM\"             \n",
       "[41] \"type\"             \"uniq_colors\"      \"which.module\"     \"whichmodule\"     \n",
       "[45] \"z\"               "
      ]
     },
     "metadata": {},
     "output_type": "display_data"
    }
   ],
   "source": [
    "setwd(\"G:/Billfish/J668_multip_tissue_3D-genome/RNA_seq/WGCNA/test_data\")\n",
    "load('all.RData')\n",
    "ls()"
   ]
  },
  {
   "cell_type": "code",
   "execution_count": 4,
   "metadata": {
    "vscode": {
     "languageId": "r"
    }
   },
   "outputs": [
    {
     "data": {
      "text/plain": [
       "\n",
       "   0    1    2    3    4    5    6    7    8    9   10   11   12   13   14   15 \n",
       " 240 3639  713  564  420  396  384  364  309  237  236  230  221  207  204  166 \n",
       "  16   17   18   19   20   21 \n",
       " 158  146  119  109   94   78 "
      ]
     },
     "metadata": {},
     "output_type": "display_data"
    }
   ],
   "source": [
    "\n",
    "# <- load(\"J668_WGCNA.tom-block.1.RData\")\n",
    "#load(net$TOMFiles[1], verbose=T)\n",
    "# 根据模块中基因数目的多少，降序排列，依次编号为 `1-最大模块数`。\n",
    "# **0 (grey)**表示**未**分入任何模块的基因。 \n",
    "\n",
    "table(net$colors)\n",
    "\n",
    "## \n",
    "##   0   1   2   3   4   5   6   7   8   9  10  11  12  13 \n",
    "## 135 472 356 333 307 303 177 158 102  94  69  66  63  62"
   ]
  },
  {
   "cell_type": "code",
   "execution_count": 38,
   "metadata": {
    "vscode": {
     "languageId": "r"
    }
   },
   "outputs": [
    {
     "data": {
      "text/html": [
       "<strong>png:</strong> 2"
      ],
      "text/latex": [
       "\\textbf{png:} 2"
      ],
      "text/markdown": [
       "**png:** 2"
      ],
      "text/plain": [
       "png \n",
       "  2 "
      ]
     },
     "metadata": {},
     "output_type": "display_data"
    }
   ],
   "source": [
    "## ---- echo=T, fig.cap=\"层级聚类树展示各个模块\"---------------------------\n",
    "## 灰色的为**未分类**到模块的基因。\n",
    "# Convert labels to colors for plotting\n",
    "moduleLabels = net$colors\n",
    "moduleColors = labels2colors(moduleLabels)\n",
    "# Plot the dendrogram and the module colors underneath\n",
    "# 如果对结果不满意，还可以recutBlockwiseTrees，节省计算时间\n",
    "pdf(file=\"plotDendroAndColors.pdf\", onefile=F, paper=\"special\", \n",
    "    bg=\"white\", pointsize=6)\n",
    "plotDendroAndColors(net$dendrograms[[1]], moduleColors,\n",
    "                    \"Module colors\",\n",
    "                    dendroLabels = FALSE, hang = 0.5,\n",
    "                    addGuide = TRUE, guideHang = 0.05)\n",
    "dev.off()"
   ]
  },
  {
   "cell_type": "code",
   "execution_count": 37,
   "metadata": {
    "vscode": {
     "languageId": "r"
    }
   },
   "outputs": [
    {
     "data": {
      "image/png": "[encoded data removed]",
      "text/plain": [
       "Plot with title \"\""
      ]
     },
     "metadata": {
      "image/png": {
       "height": 420,
       "width": 420
      }
     },
     "output_type": "display_data"
    }
   ],
   "source": [
    "## 灰色的为**未分类**到模块的基因。\n",
    "# Convert labels to colors for plotting\n",
    "moduleLabels = net$colors\n",
    "moduleColors = labels2colors(moduleLabels)\n",
    "# Plot the dendrogram and the module colors underneath\n",
    "# 如果对结果不满意，还可以recutBlockwiseTrees，节省计算时间\n",
    "plotDendroAndColors(net$dendrograms[[1]], moduleColors[net$blockGenes[[1]]],\n",
    "                    \"Module colors\",\n",
    "                    dendroLabels = FALSE, hang = 0.03,\n",
    "                    addGuide = TRUE, guideHang = 0.05)"
   ]
  },
  {
   "cell_type": "code",
   "execution_count": 39,
   "metadata": {
    "vscode": {
     "languageId": "r"
    }
   },
   "outputs": [
    {
     "data": {
      "image/png": "[encoded data removed]",
      "text/plain": [
       "Plot with title \"\""
      ]
     },
     "metadata": {
      "image/png": {
       "height": 420,
       "width": 420
      }
     },
     "output_type": "display_data"
    }
   ],
   "source": [
    "dynamicColors <- labels2colors(net$unmergedColors)\n",
    "plotDendroAndColors(net$dendrograms[[1]], cbind(dynamicColors,moduleColors),\n",
    "                    c(\"Dynamic Tree Cut\", \"Module colors\"),\n",
    "                    dendroLabels = FALSE, hang = 0.5,\n",
    "                    addGuide = TRUE, guideHang = 0.05)"
   ]
  },
  {
   "cell_type": "code",
   "execution_count": 12,
   "metadata": {
    "vscode": {
     "languageId": "r"
    }
   },
   "outputs": [],
   "source": [
    "moduleColors <- labels2colors(net$colors)\n",
    "uniq_colors <- unique(moduleColors)\n",
    "nGenes = ncol(df)\n",
    "nSamples = nrow(df)\n",
    "#print(nGenes)\n",
    "MEs <- moduleEigengenes(df_Var_t, moduleColors)$eigengenes\n",
    "#print(moduleColors)\n",
    "#sizeGrWindow(8,7)\n",
    "\n",
    "for (i in uniq_colors){\n",
    "    which.module=i\n",
    "    outputf = paste(i, \".pdf\", sep=\"\")\n",
    "    ME=MEs[, paste(\"ME\",which.module, sep=\"\")]\n",
    "    pdf(outputf)\n",
    "    par(mfrow=c(2,1), mar=c(0.3, 5.5, 3, 2))\n",
    "    matx <- t(scale(df_Var_t[,moduleColors==which.module ]))\n",
    "    plotMat(matx,\n",
    "            nrgcols=30,rlabels=F,rcols=which.module,\n",
    "            main=which.module, cex.main=2)\n",
    "    par(mar=c(5, 4.2, 0, 0.7))\n",
    "    barplot(ME, col=which.module, main=\"\", cex.main=2,\n",
    "            ylab=\"eigengene expression\",xlab=\"MPP\")\n",
    "    dev.off()\n",
    "} \n",
    "#print(ME)\n",
    "# par(mfrow=c(2,1), mar=c(0.3, 5.5, 3, 2))\n",
    "# matx <- t(scale(df_Var_t[,moduleColors==which.module ]))\n",
    "# plotMat(matx)\n",
    "\n",
    "# par(mar=c(5, 4.2, 0, 0.7))\n",
    "# barplot(ME, col=which.module, main=\"\", cex.main=2,\n",
    "#         ylab=\"eigengene expression\",xlab=\"MPP\")"
   ]
  },
  {
   "cell_type": "code",
   "execution_count": 24,
   "metadata": {
    "vscode": {
     "languageId": "r"
    }
   },
   "outputs": [
    {
     "data": {
      "text/html": [
       "<table class=\"dataframe\">\n",
       "<caption>A data.frame: 6 × 22</caption>\n",
       "<thead>\n",
       "\t<tr><th></th><th scope=col>MEblack</th><th scope=col>MEblue</th><th scope=col>MEbrown</th><th scope=col>MEcyan</th><th scope=col>MEdarkred</th><th scope=col>MEgreen</th><th scope=col>MEgreenyellow</th><th scope=col>MEgrey</th><th scope=col>MEgrey60</th><th scope=col>MElightcyan</th><th scope=col>⋯</th><th scope=col>MEmagenta</th><th scope=col>MEmidnightblue</th><th scope=col>MEpink</th><th scope=col>MEpurple</th><th scope=col>MEred</th><th scope=col>MEroyalblue</th><th scope=col>MEsalmon</th><th scope=col>MEtan</th><th scope=col>MEturquoise</th><th scope=col>MEyellow</th></tr>\n",
       "\t<tr><th></th><th scope=col>&lt;dbl&gt;</th><th scope=col>&lt;dbl&gt;</th><th scope=col>&lt;dbl&gt;</th><th scope=col>&lt;dbl&gt;</th><th scope=col>&lt;dbl&gt;</th><th scope=col>&lt;dbl&gt;</th><th scope=col>&lt;dbl&gt;</th><th scope=col>&lt;dbl&gt;</th><th scope=col>&lt;dbl&gt;</th><th scope=col>&lt;dbl&gt;</th><th scope=col>⋯</th><th scope=col>&lt;dbl&gt;</th><th scope=col>&lt;dbl&gt;</th><th scope=col>&lt;dbl&gt;</th><th scope=col>&lt;dbl&gt;</th><th scope=col>&lt;dbl&gt;</th><th scope=col>&lt;dbl&gt;</th><th scope=col>&lt;dbl&gt;</th><th scope=col>&lt;dbl&gt;</th><th scope=col>&lt;dbl&gt;</th><th scope=col>&lt;dbl&gt;</th></tr>\n",
       "</thead>\n",
       "<tbody>\n",
       "\t<tr><th scope=row>Ghir_A01G000010</th><td>-0.03252493</td><td> 0.66050323</td><td>-0.38080794</td><td> 0.52823862</td><td> 0.3073694</td><td>-0.45818867</td><td> 0.337926714</td><td>-0.73935969</td><td>-0.35937329</td><td> 0.34400529</td><td>⋯</td><td> 0.606481055</td><td> 0.2817957</td><td>-0.17357498</td><td> 0.50535384</td><td> 0.3184260</td><td>-0.3243485</td><td> 0.194686186</td><td> 0.1486201</td><td>0.79207003</td><td> 0.2907248</td></tr>\n",
       "\t<tr><th scope=row>Ghir_A01G000030</th><td> 0.35389551</td><td>-0.03261634</td><td> 0.02555937</td><td> 0.30037444</td><td> 0.2336325</td><td>-0.45396979</td><td>-0.035440944</td><td> 0.20500426</td><td> 0.31844660</td><td> 0.01595501</td><td>⋯</td><td>-0.185461448</td><td>-0.3084904</td><td> 0.18496361</td><td> 0.15910156</td><td> 0.3375602</td><td>-0.1192211</td><td> 0.004654295</td><td> 0.4240156</td><td>0.12065694</td><td> 0.3586107</td></tr>\n",
       "\t<tr><th scope=row>Ghir_A01G000050</th><td> 0.63527897</td><td> 0.08792245</td><td>-0.25676180</td><td> 0.35517672</td><td> 0.3067319</td><td>-0.63989540</td><td>-0.236929674</td><td> 0.05651218</td><td> 0.30714922</td><td>-0.14710146</td><td>⋯</td><td>-0.213826583</td><td>-0.1830965</td><td> 0.45352438</td><td> 0.23787462</td><td> 0.5837095</td><td> 0.2279138</td><td> 0.168171572</td><td> 0.2480942</td><td>0.50171371</td><td> 0.5057961</td></tr>\n",
       "\t<tr><th scope=row>Ghir_A01G000040</th><td> 0.10324286</td><td> 0.31942728</td><td>-0.19786034</td><td> 0.68684489</td><td> 0.2085315</td><td>-0.38185275</td><td> 0.282276052</td><td>-0.37795399</td><td>-0.06448694</td><td> 0.36543154</td><td>⋯</td><td> 0.337937689</td><td> 0.3682681</td><td> 0.04321862</td><td> 0.42783215</td><td> 0.4477932</td><td>-0.2653793</td><td> 0.526856285</td><td> 0.1559355</td><td>0.82416425</td><td> 0.1289336</td></tr>\n",
       "\t<tr><th scope=row>Ghir_A01G000060</th><td> 0.18620759</td><td> 0.18106533</td><td> 0.03868249</td><td> 0.26972489</td><td> 0.2867860</td><td>-0.27355191</td><td> 0.002963513</td><td>-0.02249687</td><td>-0.06853812</td><td> 0.21751648</td><td>⋯</td><td> 0.007927214</td><td>-0.1563694</td><td>-0.13521142</td><td> 0.34936222</td><td> 0.6171484</td><td>-0.1502270</td><td>-0.143213429</td><td> 0.6180256</td><td>0.08273447</td><td> 0.4945442</td></tr>\n",
       "\t<tr><th scope=row>Ghir_A01G000070</th><td> 0.15480412</td><td>-0.07424988</td><td>-0.28562073</td><td>-0.04112632</td><td>-0.2588886</td><td> 0.03940852</td><td>-0.066567896</td><td>-0.10972813</td><td> 0.03163260</td><td>-0.12529000</td><td>⋯</td><td> 0.193914269</td><td> 0.3939462</td><td> 0.39616528</td><td>-0.09241646</td><td>-0.2171992</td><td>-0.5491808</td><td> 0.376892993</td><td>-0.5619977</td><td>0.46188494</td><td>-0.2745069</td></tr>\n",
       "</tbody>\n",
       "</table>\n"
      ],
      "text/latex": [
       "A data.frame: 6 × 22\n",
       "\\begin{tabular}{r|lllllllllllllllllllll}\n",
       "  & MEblack & MEblue & MEbrown & MEcyan & MEdarkred & MEgreen & MEgreenyellow & MEgrey & MEgrey60 & MElightcyan & ⋯ & MEmagenta & MEmidnightblue & MEpink & MEpurple & MEred & MEroyalblue & MEsalmon & MEtan & MEturquoise & MEyellow\\\\\n",
       "  & <dbl> & <dbl> & <dbl> & <dbl> & <dbl> & <dbl> & <dbl> & <dbl> & <dbl> & <dbl> & ⋯ & <dbl> & <dbl> & <dbl> & <dbl> & <dbl> & <dbl> & <dbl> & <dbl> & <dbl> & <dbl>\\\\\n",
       "\\hline\n",
       "\tGhir\\_A01G000010 & -0.03252493 &  0.66050323 & -0.38080794 &  0.52823862 &  0.3073694 & -0.45818867 &  0.337926714 & -0.73935969 & -0.35937329 &  0.34400529 & ⋯ &  0.606481055 &  0.2817957 & -0.17357498 &  0.50535384 &  0.3184260 & -0.3243485 &  0.194686186 &  0.1486201 & 0.79207003 &  0.2907248\\\\\n",
       "\tGhir\\_A01G000030 &  0.35389551 & -0.03261634 &  0.02555937 &  0.30037444 &  0.2336325 & -0.45396979 & -0.035440944 &  0.20500426 &  0.31844660 &  0.01595501 & ⋯ & -0.185461448 & -0.3084904 &  0.18496361 &  0.15910156 &  0.3375602 & -0.1192211 &  0.004654295 &  0.4240156 & 0.12065694 &  0.3586107\\\\\n",
       "\tGhir\\_A01G000050 &  0.63527897 &  0.08792245 & -0.25676180 &  0.35517672 &  0.3067319 & -0.63989540 & -0.236929674 &  0.05651218 &  0.30714922 & -0.14710146 & ⋯ & -0.213826583 & -0.1830965 &  0.45352438 &  0.23787462 &  0.5837095 &  0.2279138 &  0.168171572 &  0.2480942 & 0.50171371 &  0.5057961\\\\\n",
       "\tGhir\\_A01G000040 &  0.10324286 &  0.31942728 & -0.19786034 &  0.68684489 &  0.2085315 & -0.38185275 &  0.282276052 & -0.37795399 & -0.06448694 &  0.36543154 & ⋯ &  0.337937689 &  0.3682681 &  0.04321862 &  0.42783215 &  0.4477932 & -0.2653793 &  0.526856285 &  0.1559355 & 0.82416425 &  0.1289336\\\\\n",
       "\tGhir\\_A01G000060 &  0.18620759 &  0.18106533 &  0.03868249 &  0.26972489 &  0.2867860 & -0.27355191 &  0.002963513 & -0.02249687 & -0.06853812 &  0.21751648 & ⋯ &  0.007927214 & -0.1563694 & -0.13521142 &  0.34936222 &  0.6171484 & -0.1502270 & -0.143213429 &  0.6180256 & 0.08273447 &  0.4945442\\\\\n",
       "\tGhir\\_A01G000070 &  0.15480412 & -0.07424988 & -0.28562073 & -0.04112632 & -0.2588886 &  0.03940852 & -0.066567896 & -0.10972813 &  0.03163260 & -0.12529000 & ⋯ &  0.193914269 &  0.3939462 &  0.39616528 & -0.09241646 & -0.2171992 & -0.5491808 &  0.376892993 & -0.5619977 & 0.46188494 & -0.2745069\\\\\n",
       "\\end{tabular}\n"
      ],
      "text/markdown": [
       "\n",
       "A data.frame: 6 × 22\n",
       "\n",
       "| <!--/--> | MEblack &lt;dbl&gt; | MEblue &lt;dbl&gt; | MEbrown &lt;dbl&gt; | MEcyan &lt;dbl&gt; | MEdarkred &lt;dbl&gt; | MEgreen &lt;dbl&gt; | MEgreenyellow &lt;dbl&gt; | MEgrey &lt;dbl&gt; | MEgrey60 &lt;dbl&gt; | MElightcyan &lt;dbl&gt; | ⋯ ⋯ | MEmagenta &lt;dbl&gt; | MEmidnightblue &lt;dbl&gt; | MEpink &lt;dbl&gt; | MEpurple &lt;dbl&gt; | MEred &lt;dbl&gt; | MEroyalblue &lt;dbl&gt; | MEsalmon &lt;dbl&gt; | MEtan &lt;dbl&gt; | MEturquoise &lt;dbl&gt; | MEyellow &lt;dbl&gt; |\n",
       "|---|---|---|---|---|---|---|---|---|---|---|---|---|---|---|---|---|---|---|---|---|---|\n",
       "| Ghir_A01G000010 | -0.03252493 |  0.66050323 | -0.38080794 |  0.52823862 |  0.3073694 | -0.45818867 |  0.337926714 | -0.73935969 | -0.35937329 |  0.34400529 | ⋯ |  0.606481055 |  0.2817957 | -0.17357498 |  0.50535384 |  0.3184260 | -0.3243485 |  0.194686186 |  0.1486201 | 0.79207003 |  0.2907248 |\n",
       "| Ghir_A01G000030 |  0.35389551 | -0.03261634 |  0.02555937 |  0.30037444 |  0.2336325 | -0.45396979 | -0.035440944 |  0.20500426 |  0.31844660 |  0.01595501 | ⋯ | -0.185461448 | -0.3084904 |  0.18496361 |  0.15910156 |  0.3375602 | -0.1192211 |  0.004654295 |  0.4240156 | 0.12065694 |  0.3586107 |\n",
       "| Ghir_A01G000050 |  0.63527897 |  0.08792245 | -0.25676180 |  0.35517672 |  0.3067319 | -0.63989540 | -0.236929674 |  0.05651218 |  0.30714922 | -0.14710146 | ⋯ | -0.213826583 | -0.1830965 |  0.45352438 |  0.23787462 |  0.5837095 |  0.2279138 |  0.168171572 |  0.2480942 | 0.50171371 |  0.5057961 |\n",
       "| Ghir_A01G000040 |  0.10324286 |  0.31942728 | -0.19786034 |  0.68684489 |  0.2085315 | -0.38185275 |  0.282276052 | -0.37795399 | -0.06448694 |  0.36543154 | ⋯ |  0.337937689 |  0.3682681 |  0.04321862 |  0.42783215 |  0.4477932 | -0.2653793 |  0.526856285 |  0.1559355 | 0.82416425 |  0.1289336 |\n",
       "| Ghir_A01G000060 |  0.18620759 |  0.18106533 |  0.03868249 |  0.26972489 |  0.2867860 | -0.27355191 |  0.002963513 | -0.02249687 | -0.06853812 |  0.21751648 | ⋯ |  0.007927214 | -0.1563694 | -0.13521142 |  0.34936222 |  0.6171484 | -0.1502270 | -0.143213429 |  0.6180256 | 0.08273447 |  0.4945442 |\n",
       "| Ghir_A01G000070 |  0.15480412 | -0.07424988 | -0.28562073 | -0.04112632 | -0.2588886 |  0.03940852 | -0.066567896 | -0.10972813 |  0.03163260 | -0.12529000 | ⋯ |  0.193914269 |  0.3939462 |  0.39616528 | -0.09241646 | -0.2171992 | -0.5491808 |  0.376892993 | -0.5619977 | 0.46188494 | -0.2745069 |\n",
       "\n"
      ],
      "text/plain": [
       "                MEblack     MEblue      MEbrown     MEcyan      MEdarkred \n",
       "Ghir_A01G000010 -0.03252493  0.66050323 -0.38080794  0.52823862  0.3073694\n",
       "Ghir_A01G000030  0.35389551 -0.03261634  0.02555937  0.30037444  0.2336325\n",
       "Ghir_A01G000050  0.63527897  0.08792245 -0.25676180  0.35517672  0.3067319\n",
       "Ghir_A01G000040  0.10324286  0.31942728 -0.19786034  0.68684489  0.2085315\n",
       "Ghir_A01G000060  0.18620759  0.18106533  0.03868249  0.26972489  0.2867860\n",
       "Ghir_A01G000070  0.15480412 -0.07424988 -0.28562073 -0.04112632 -0.2588886\n",
       "                MEgreen     MEgreenyellow MEgrey      MEgrey60    MElightcyan ⋯\n",
       "Ghir_A01G000010 -0.45818867  0.337926714  -0.73935969 -0.35937329  0.34400529 ⋯\n",
       "Ghir_A01G000030 -0.45396979 -0.035440944   0.20500426  0.31844660  0.01595501 ⋯\n",
       "Ghir_A01G000050 -0.63989540 -0.236929674   0.05651218  0.30714922 -0.14710146 ⋯\n",
       "Ghir_A01G000040 -0.38185275  0.282276052  -0.37795399 -0.06448694  0.36543154 ⋯\n",
       "Ghir_A01G000060 -0.27355191  0.002963513  -0.02249687 -0.06853812  0.21751648 ⋯\n",
       "Ghir_A01G000070  0.03940852 -0.066567896  -0.10972813  0.03163260 -0.12529000 ⋯\n",
       "                MEmagenta    MEmidnightblue MEpink      MEpurple    MEred     \n",
       "Ghir_A01G000010  0.606481055  0.2817957     -0.17357498  0.50535384  0.3184260\n",
       "Ghir_A01G000030 -0.185461448 -0.3084904      0.18496361  0.15910156  0.3375602\n",
       "Ghir_A01G000050 -0.213826583 -0.1830965      0.45352438  0.23787462  0.5837095\n",
       "Ghir_A01G000040  0.337937689  0.3682681      0.04321862  0.42783215  0.4477932\n",
       "Ghir_A01G000060  0.007927214 -0.1563694     -0.13521142  0.34936222  0.6171484\n",
       "Ghir_A01G000070  0.193914269  0.3939462      0.39616528 -0.09241646 -0.2171992\n",
       "                MEroyalblue MEsalmon     MEtan      MEturquoise MEyellow  \n",
       "Ghir_A01G000010 -0.3243485   0.194686186  0.1486201 0.79207003   0.2907248\n",
       "Ghir_A01G000030 -0.1192211   0.004654295  0.4240156 0.12065694   0.3586107\n",
       "Ghir_A01G000050  0.2279138   0.168171572  0.2480942 0.50171371   0.5057961\n",
       "Ghir_A01G000040 -0.2653793   0.526856285  0.1559355 0.82416425   0.1289336\n",
       "Ghir_A01G000060 -0.1502270  -0.143213429  0.6180256 0.08273447   0.4945442\n",
       "Ghir_A01G000070 -0.5491808   0.376892993 -0.5619977 0.46188494  -0.2745069"
      ]
     },
     "metadata": {},
     "output_type": "display_data"
    }
   ],
   "source": [
    "## 查找hub 网络\n",
    "# 1、计算基因与模块间相关性\n",
    "\n",
    "adjacency = adjacency(df_Var_t, power = power)\n",
    "MM= as.data.frame(cor(df_Var_t, MEs, use =\"p\"))\n",
    "#head(MM)\n",
    "KIM = intramodularConnectivity(adjacency, moduleColors)"
   ]
  },
  {
   "cell_type": "code",
   "execution_count": 25,
   "metadata": {
    "vscode": {
     "languageId": "r"
    }
   },
   "outputs": [
    {
     "data": {
      "text/html": [
       "<table class=\"dataframe\">\n",
       "<caption>A data.frame: 6 × 4</caption>\n",
       "<thead>\n",
       "\t<tr><th></th><th scope=col>kTotal</th><th scope=col>kWithin</th><th scope=col>kOut</th><th scope=col>kDiff</th></tr>\n",
       "\t<tr><th></th><th scope=col>&lt;dbl&gt;</th><th scope=col>&lt;dbl&gt;</th><th scope=col>&lt;dbl&gt;</th><th scope=col>&lt;dbl&gt;</th></tr>\n",
       "</thead>\n",
       "<tbody>\n",
       "\t<tr><th scope=row>Ghir_A01G000010</th><td>56.0298206</td><td>51.910830</td><td>4.1189909</td><td>47.7918388</td></tr>\n",
       "\t<tr><th scope=row>Ghir_A01G000030</th><td> 0.3115014</td><td> 0.103904</td><td>0.2075974</td><td>-0.1036934</td></tr>\n",
       "\t<tr><th scope=row>Ghir_A01G000050</th><td> 5.4157133</td><td> 1.035378</td><td>4.3803349</td><td>-3.3449565</td></tr>\n",
       "\t<tr><th scope=row>Ghir_A01G000040</th><td>73.2041877</td><td>71.190874</td><td>2.0133138</td><td>69.1775600</td></tr>\n",
       "\t<tr><th scope=row>Ghir_A01G000060</th><td> 1.2863963</td><td> 0.588135</td><td>0.6982613</td><td>-0.1101263</td></tr>\n",
       "\t<tr><th scope=row>Ghir_A01G000070</th><td> 2.1559187</td><td> 1.354885</td><td>0.8010336</td><td> 0.5538516</td></tr>\n",
       "</tbody>\n",
       "</table>\n"
      ],
      "text/latex": [
       "A data.frame: 6 × 4\n",
       "\\begin{tabular}{r|llll}\n",
       "  & kTotal & kWithin & kOut & kDiff\\\\\n",
       "  & <dbl> & <dbl> & <dbl> & <dbl>\\\\\n",
       "\\hline\n",
       "\tGhir\\_A01G000010 & 56.0298206 & 51.910830 & 4.1189909 & 47.7918388\\\\\n",
       "\tGhir\\_A01G000030 &  0.3115014 &  0.103904 & 0.2075974 & -0.1036934\\\\\n",
       "\tGhir\\_A01G000050 &  5.4157133 &  1.035378 & 4.3803349 & -3.3449565\\\\\n",
       "\tGhir\\_A01G000040 & 73.2041877 & 71.190874 & 2.0133138 & 69.1775600\\\\\n",
       "\tGhir\\_A01G000060 &  1.2863963 &  0.588135 & 0.6982613 & -0.1101263\\\\\n",
       "\tGhir\\_A01G000070 &  2.1559187 &  1.354885 & 0.8010336 &  0.5538516\\\\\n",
       "\\end{tabular}\n"
      ],
      "text/markdown": [
       "\n",
       "A data.frame: 6 × 4\n",
       "\n",
       "| <!--/--> | kTotal &lt;dbl&gt; | kWithin &lt;dbl&gt; | kOut &lt;dbl&gt; | kDiff &lt;dbl&gt; |\n",
       "|---|---|---|---|---|\n",
       "| Ghir_A01G000010 | 56.0298206 | 51.910830 | 4.1189909 | 47.7918388 |\n",
       "| Ghir_A01G000030 |  0.3115014 |  0.103904 | 0.2075974 | -0.1036934 |\n",
       "| Ghir_A01G000050 |  5.4157133 |  1.035378 | 4.3803349 | -3.3449565 |\n",
       "| Ghir_A01G000040 | 73.2041877 | 71.190874 | 2.0133138 | 69.1775600 |\n",
       "| Ghir_A01G000060 |  1.2863963 |  0.588135 | 0.6982613 | -0.1101263 |\n",
       "| Ghir_A01G000070 |  2.1559187 |  1.354885 | 0.8010336 |  0.5538516 |\n",
       "\n"
      ],
      "text/plain": [
       "                kTotal     kWithin   kOut      kDiff     \n",
       "Ghir_A01G000010 56.0298206 51.910830 4.1189909 47.7918388\n",
       "Ghir_A01G000030  0.3115014  0.103904 0.2075974 -0.1036934\n",
       "Ghir_A01G000050  5.4157133  1.035378 4.3803349 -3.3449565\n",
       "Ghir_A01G000040 73.2041877 71.190874 2.0133138 69.1775600\n",
       "Ghir_A01G000060  1.2863963  0.588135 0.6982613 -0.1101263\n",
       "Ghir_A01G000070  2.1559187  1.354885 0.8010336  0.5538516"
      ]
     },
     "metadata": {},
     "output_type": "display_data"
    }
   ],
   "source": [
    "head(KIM)"
   ]
  },
  {
   "cell_type": "code",
   "execution_count": 21,
   "metadata": {
    "vscode": {
     "languageId": "r"
    }
   },
   "outputs": [
    {
     "data": {
      "text/html": [
       "<table class=\"dataframe\">\n",
       "<caption>A data.frame: 6 × 22</caption>\n",
       "<thead>\n",
       "\t<tr><th></th><th scope=col>MM.black</th><th scope=col>MM.blue</th><th scope=col>MM.brown</th><th scope=col>MM.cyan</th><th scope=col>MM.darkred</th><th scope=col>MM.green</th><th scope=col>MM.greenyellow</th><th scope=col>MM.grey</th><th scope=col>MM.grey60</th><th scope=col>MM.lightcyan</th><th scope=col>⋯</th><th scope=col>MM.magenta</th><th scope=col>MM.midnightblue</th><th scope=col>MM.pink</th><th scope=col>MM.purple</th><th scope=col>MM.red</th><th scope=col>MM.royalblue</th><th scope=col>MM.salmon</th><th scope=col>MM.tan</th><th scope=col>MM.turquoise</th><th scope=col>MM.yellow</th></tr>\n",
       "\t<tr><th></th><th scope=col>&lt;dbl&gt;</th><th scope=col>&lt;dbl&gt;</th><th scope=col>&lt;dbl&gt;</th><th scope=col>&lt;dbl&gt;</th><th scope=col>&lt;dbl&gt;</th><th scope=col>&lt;dbl&gt;</th><th scope=col>&lt;dbl&gt;</th><th scope=col>&lt;dbl&gt;</th><th scope=col>&lt;dbl&gt;</th><th scope=col>&lt;dbl&gt;</th><th scope=col>⋯</th><th scope=col>&lt;dbl&gt;</th><th scope=col>&lt;dbl&gt;</th><th scope=col>&lt;dbl&gt;</th><th scope=col>&lt;dbl&gt;</th><th scope=col>&lt;dbl&gt;</th><th scope=col>&lt;dbl&gt;</th><th scope=col>&lt;dbl&gt;</th><th scope=col>&lt;dbl&gt;</th><th scope=col>&lt;dbl&gt;</th><th scope=col>&lt;dbl&gt;</th></tr>\n",
       "</thead>\n",
       "<tbody>\n",
       "\t<tr><th scope=row>Ghir_A01G000010</th><td>-0.03252493</td><td> 0.66050323</td><td>-0.38080794</td><td> 0.52823862</td><td> 0.3073694</td><td>-0.45818867</td><td> 0.337926714</td><td>-0.73935969</td><td>-0.35937329</td><td> 0.34400529</td><td>⋯</td><td> 0.606481055</td><td> 0.2817957</td><td>-0.17357498</td><td> 0.50535384</td><td> 0.3184260</td><td>-0.3243485</td><td> 0.194686186</td><td> 0.1486201</td><td>0.79207003</td><td> 0.2907248</td></tr>\n",
       "\t<tr><th scope=row>Ghir_A01G000030</th><td> 0.35389551</td><td>-0.03261634</td><td> 0.02555937</td><td> 0.30037444</td><td> 0.2336325</td><td>-0.45396979</td><td>-0.035440944</td><td> 0.20500426</td><td> 0.31844660</td><td> 0.01595501</td><td>⋯</td><td>-0.185461448</td><td>-0.3084904</td><td> 0.18496361</td><td> 0.15910156</td><td> 0.3375602</td><td>-0.1192211</td><td> 0.004654295</td><td> 0.4240156</td><td>0.12065694</td><td> 0.3586107</td></tr>\n",
       "\t<tr><th scope=row>Ghir_A01G000050</th><td> 0.63527897</td><td> 0.08792245</td><td>-0.25676180</td><td> 0.35517672</td><td> 0.3067319</td><td>-0.63989540</td><td>-0.236929674</td><td> 0.05651218</td><td> 0.30714922</td><td>-0.14710146</td><td>⋯</td><td>-0.213826583</td><td>-0.1830965</td><td> 0.45352438</td><td> 0.23787462</td><td> 0.5837095</td><td> 0.2279138</td><td> 0.168171572</td><td> 0.2480942</td><td>0.50171371</td><td> 0.5057961</td></tr>\n",
       "\t<tr><th scope=row>Ghir_A01G000040</th><td> 0.10324286</td><td> 0.31942728</td><td>-0.19786034</td><td> 0.68684489</td><td> 0.2085315</td><td>-0.38185275</td><td> 0.282276052</td><td>-0.37795399</td><td>-0.06448694</td><td> 0.36543154</td><td>⋯</td><td> 0.337937689</td><td> 0.3682681</td><td> 0.04321862</td><td> 0.42783215</td><td> 0.4477932</td><td>-0.2653793</td><td> 0.526856285</td><td> 0.1559355</td><td>0.82416425</td><td> 0.1289336</td></tr>\n",
       "\t<tr><th scope=row>Ghir_A01G000060</th><td> 0.18620759</td><td> 0.18106533</td><td> 0.03868249</td><td> 0.26972489</td><td> 0.2867860</td><td>-0.27355191</td><td> 0.002963513</td><td>-0.02249687</td><td>-0.06853812</td><td> 0.21751648</td><td>⋯</td><td> 0.007927214</td><td>-0.1563694</td><td>-0.13521142</td><td> 0.34936222</td><td> 0.6171484</td><td>-0.1502270</td><td>-0.143213429</td><td> 0.6180256</td><td>0.08273447</td><td> 0.4945442</td></tr>\n",
       "\t<tr><th scope=row>Ghir_A01G000070</th><td> 0.15480412</td><td>-0.07424988</td><td>-0.28562073</td><td>-0.04112632</td><td>-0.2588886</td><td> 0.03940852</td><td>-0.066567896</td><td>-0.10972813</td><td> 0.03163260</td><td>-0.12529000</td><td>⋯</td><td> 0.193914269</td><td> 0.3939462</td><td> 0.39616528</td><td>-0.09241646</td><td>-0.2171992</td><td>-0.5491808</td><td> 0.376892993</td><td>-0.5619977</td><td>0.46188494</td><td>-0.2745069</td></tr>\n",
       "</tbody>\n",
       "</table>\n"
      ],
      "text/latex": [
       "A data.frame: 6 × 22\n",
       "\\begin{tabular}{r|lllllllllllllllllllll}\n",
       "  & MM.black & MM.blue & MM.brown & MM.cyan & MM.darkred & MM.green & MM.greenyellow & MM.grey & MM.grey60 & MM.lightcyan & ⋯ & MM.magenta & MM.midnightblue & MM.pink & MM.purple & MM.red & MM.royalblue & MM.salmon & MM.tan & MM.turquoise & MM.yellow\\\\\n",
       "  & <dbl> & <dbl> & <dbl> & <dbl> & <dbl> & <dbl> & <dbl> & <dbl> & <dbl> & <dbl> & ⋯ & <dbl> & <dbl> & <dbl> & <dbl> & <dbl> & <dbl> & <dbl> & <dbl> & <dbl> & <dbl>\\\\\n",
       "\\hline\n",
       "\tGhir\\_A01G000010 & -0.03252493 &  0.66050323 & -0.38080794 &  0.52823862 &  0.3073694 & -0.45818867 &  0.337926714 & -0.73935969 & -0.35937329 &  0.34400529 & ⋯ &  0.606481055 &  0.2817957 & -0.17357498 &  0.50535384 &  0.3184260 & -0.3243485 &  0.194686186 &  0.1486201 & 0.79207003 &  0.2907248\\\\\n",
       "\tGhir\\_A01G000030 &  0.35389551 & -0.03261634 &  0.02555937 &  0.30037444 &  0.2336325 & -0.45396979 & -0.035440944 &  0.20500426 &  0.31844660 &  0.01595501 & ⋯ & -0.185461448 & -0.3084904 &  0.18496361 &  0.15910156 &  0.3375602 & -0.1192211 &  0.004654295 &  0.4240156 & 0.12065694 &  0.3586107\\\\\n",
       "\tGhir\\_A01G000050 &  0.63527897 &  0.08792245 & -0.25676180 &  0.35517672 &  0.3067319 & -0.63989540 & -0.236929674 &  0.05651218 &  0.30714922 & -0.14710146 & ⋯ & -0.213826583 & -0.1830965 &  0.45352438 &  0.23787462 &  0.5837095 &  0.2279138 &  0.168171572 &  0.2480942 & 0.50171371 &  0.5057961\\\\\n",
       "\tGhir\\_A01G000040 &  0.10324286 &  0.31942728 & -0.19786034 &  0.68684489 &  0.2085315 & -0.38185275 &  0.282276052 & -0.37795399 & -0.06448694 &  0.36543154 & ⋯ &  0.337937689 &  0.3682681 &  0.04321862 &  0.42783215 &  0.4477932 & -0.2653793 &  0.526856285 &  0.1559355 & 0.82416425 &  0.1289336\\\\\n",
       "\tGhir\\_A01G000060 &  0.18620759 &  0.18106533 &  0.03868249 &  0.26972489 &  0.2867860 & -0.27355191 &  0.002963513 & -0.02249687 & -0.06853812 &  0.21751648 & ⋯ &  0.007927214 & -0.1563694 & -0.13521142 &  0.34936222 &  0.6171484 & -0.1502270 & -0.143213429 &  0.6180256 & 0.08273447 &  0.4945442\\\\\n",
       "\tGhir\\_A01G000070 &  0.15480412 & -0.07424988 & -0.28562073 & -0.04112632 & -0.2588886 &  0.03940852 & -0.066567896 & -0.10972813 &  0.03163260 & -0.12529000 & ⋯ &  0.193914269 &  0.3939462 &  0.39616528 & -0.09241646 & -0.2171992 & -0.5491808 &  0.376892993 & -0.5619977 & 0.46188494 & -0.2745069\\\\\n",
       "\\end{tabular}\n"
      ],
      "text/markdown": [
       "\n",
       "A data.frame: 6 × 22\n",
       "\n",
       "| <!--/--> | MM.black &lt;dbl&gt; | MM.blue &lt;dbl&gt; | MM.brown &lt;dbl&gt; | MM.cyan &lt;dbl&gt; | MM.darkred &lt;dbl&gt; | MM.green &lt;dbl&gt; | MM.greenyellow &lt;dbl&gt; | MM.grey &lt;dbl&gt; | MM.grey60 &lt;dbl&gt; | MM.lightcyan &lt;dbl&gt; | ⋯ ⋯ | MM.magenta &lt;dbl&gt; | MM.midnightblue &lt;dbl&gt; | MM.pink &lt;dbl&gt; | MM.purple &lt;dbl&gt; | MM.red &lt;dbl&gt; | MM.royalblue &lt;dbl&gt; | MM.salmon &lt;dbl&gt; | MM.tan &lt;dbl&gt; | MM.turquoise &lt;dbl&gt; | MM.yellow &lt;dbl&gt; |\n",
       "|---|---|---|---|---|---|---|---|---|---|---|---|---|---|---|---|---|---|---|---|---|---|\n",
       "| Ghir_A01G000010 | -0.03252493 |  0.66050323 | -0.38080794 |  0.52823862 |  0.3073694 | -0.45818867 |  0.337926714 | -0.73935969 | -0.35937329 |  0.34400529 | ⋯ |  0.606481055 |  0.2817957 | -0.17357498 |  0.50535384 |  0.3184260 | -0.3243485 |  0.194686186 |  0.1486201 | 0.79207003 |  0.2907248 |\n",
       "| Ghir_A01G000030 |  0.35389551 | -0.03261634 |  0.02555937 |  0.30037444 |  0.2336325 | -0.45396979 | -0.035440944 |  0.20500426 |  0.31844660 |  0.01595501 | ⋯ | -0.185461448 | -0.3084904 |  0.18496361 |  0.15910156 |  0.3375602 | -0.1192211 |  0.004654295 |  0.4240156 | 0.12065694 |  0.3586107 |\n",
       "| Ghir_A01G000050 |  0.63527897 |  0.08792245 | -0.25676180 |  0.35517672 |  0.3067319 | -0.63989540 | -0.236929674 |  0.05651218 |  0.30714922 | -0.14710146 | ⋯ | -0.213826583 | -0.1830965 |  0.45352438 |  0.23787462 |  0.5837095 |  0.2279138 |  0.168171572 |  0.2480942 | 0.50171371 |  0.5057961 |\n",
       "| Ghir_A01G000040 |  0.10324286 |  0.31942728 | -0.19786034 |  0.68684489 |  0.2085315 | -0.38185275 |  0.282276052 | -0.37795399 | -0.06448694 |  0.36543154 | ⋯ |  0.337937689 |  0.3682681 |  0.04321862 |  0.42783215 |  0.4477932 | -0.2653793 |  0.526856285 |  0.1559355 | 0.82416425 |  0.1289336 |\n",
       "| Ghir_A01G000060 |  0.18620759 |  0.18106533 |  0.03868249 |  0.26972489 |  0.2867860 | -0.27355191 |  0.002963513 | -0.02249687 | -0.06853812 |  0.21751648 | ⋯ |  0.007927214 | -0.1563694 | -0.13521142 |  0.34936222 |  0.6171484 | -0.1502270 | -0.143213429 |  0.6180256 | 0.08273447 |  0.4945442 |\n",
       "| Ghir_A01G000070 |  0.15480412 | -0.07424988 | -0.28562073 | -0.04112632 | -0.2588886 |  0.03940852 | -0.066567896 | -0.10972813 |  0.03163260 | -0.12529000 | ⋯ |  0.193914269 |  0.3939462 |  0.39616528 | -0.09241646 | -0.2171992 | -0.5491808 |  0.376892993 | -0.5619977 | 0.46188494 | -0.2745069 |\n",
       "\n"
      ],
      "text/plain": [
       "                MM.black    MM.blue     MM.brown    MM.cyan     MM.darkred\n",
       "Ghir_A01G000010 -0.03252493  0.66050323 -0.38080794  0.52823862  0.3073694\n",
       "Ghir_A01G000030  0.35389551 -0.03261634  0.02555937  0.30037444  0.2336325\n",
       "Ghir_A01G000050  0.63527897  0.08792245 -0.25676180  0.35517672  0.3067319\n",
       "Ghir_A01G000040  0.10324286  0.31942728 -0.19786034  0.68684489  0.2085315\n",
       "Ghir_A01G000060  0.18620759  0.18106533  0.03868249  0.26972489  0.2867860\n",
       "Ghir_A01G000070  0.15480412 -0.07424988 -0.28562073 -0.04112632 -0.2588886\n",
       "                MM.green    MM.greenyellow MM.grey     MM.grey60   MM.lightcyan\n",
       "Ghir_A01G000010 -0.45818867  0.337926714   -0.73935969 -0.35937329  0.34400529 \n",
       "Ghir_A01G000030 -0.45396979 -0.035440944    0.20500426  0.31844660  0.01595501 \n",
       "Ghir_A01G000050 -0.63989540 -0.236929674    0.05651218  0.30714922 -0.14710146 \n",
       "Ghir_A01G000040 -0.38185275  0.282276052   -0.37795399 -0.06448694  0.36543154 \n",
       "Ghir_A01G000060 -0.27355191  0.002963513   -0.02249687 -0.06853812  0.21751648 \n",
       "Ghir_A01G000070  0.03940852 -0.066567896   -0.10972813  0.03163260 -0.12529000 \n",
       "                ⋯ MM.magenta   MM.midnightblue MM.pink     MM.purple  \n",
       "Ghir_A01G000010 ⋯  0.606481055  0.2817957      -0.17357498  0.50535384\n",
       "Ghir_A01G000030 ⋯ -0.185461448 -0.3084904       0.18496361  0.15910156\n",
       "Ghir_A01G000050 ⋯ -0.213826583 -0.1830965       0.45352438  0.23787462\n",
       "Ghir_A01G000040 ⋯  0.337937689  0.3682681       0.04321862  0.42783215\n",
       "Ghir_A01G000060 ⋯  0.007927214 -0.1563694      -0.13521142  0.34936222\n",
       "Ghir_A01G000070 ⋯  0.193914269  0.3939462       0.39616528 -0.09241646\n",
       "                MM.red     MM.royalblue MM.salmon    MM.tan     MM.turquoise\n",
       "Ghir_A01G000010  0.3184260 -0.3243485    0.194686186  0.1486201 0.79207003  \n",
       "Ghir_A01G000030  0.3375602 -0.1192211    0.004654295  0.4240156 0.12065694  \n",
       "Ghir_A01G000050  0.5837095  0.2279138    0.168171572  0.2480942 0.50171371  \n",
       "Ghir_A01G000040  0.4477932 -0.2653793    0.526856285  0.1559355 0.82416425  \n",
       "Ghir_A01G000060  0.6171484 -0.1502270   -0.143213429  0.6180256 0.08273447  \n",
       "Ghir_A01G000070 -0.2171992 -0.5491808    0.376892993 -0.5619977 0.46188494  \n",
       "                MM.yellow \n",
       "Ghir_A01G000010  0.2907248\n",
       "Ghir_A01G000030  0.3586107\n",
       "Ghir_A01G000050  0.5057961\n",
       "Ghir_A01G000040  0.1289336\n",
       "Ghir_A01G000060  0.4945442\n",
       "Ghir_A01G000070 -0.2745069"
      ]
     },
     "metadata": {},
     "output_type": "display_data"
    }
   ],
   "source": [
    "datKME = signedKME(df_Var_t,MEs,outputColumnName=\"MM.\")\n",
    "head(datKME)"
   ]
  },
  {
   "cell_type": "code",
   "execution_count": 27,
   "metadata": {
    "vscode": {
     "languageId": "r"
    }
   },
   "outputs": [],
   "source": [
    "### Intramodular connectivity, module membership, and screening for intramodular hub genes\n",
    "\n",
    "# (1) Intramodular connectivity\n",
    "moduleColors <- labels2colors(net$colors)\n",
    "connet=abs(cor(df_Var_t,use=\"p\"))^6\n",
    "Alldegrees1=intramodularConnectivity(connet, moduleColors)\n",
    "#head(Alldegrees1)\n",
    "\n"
   ]
  },
  {
   "cell_type": "code",
   "execution_count": 68,
   "metadata": {
    "vscode": {
     "languageId": "r"
    }
   },
   "outputs": [
    {
     "name": "stdout",
     "output_type": "stream",
     "text": [
      "[1] 3639\n",
      "[1] 3639\n",
      "[1] 420\n",
      "[1] 420\n",
      "[1] 364\n",
      "[1] 364\n",
      "[1] 384\n",
      "[1] 384\n",
      "[1] 240\n",
      "[1] 240\n",
      "[1] 309\n",
      "[1] 309\n",
      "[1] 221\n",
      "[1] 221\n",
      "[1] 564\n",
      "[1] 564\n",
      "[1] 713\n",
      "[1] 713\n",
      "[1] 236\n",
      "[1] 236\n",
      "[1] 207\n",
      "[1] 207\n",
      "[1] 109\n",
      "[1] 109\n",
      "[1] 396\n",
      "[1] 396\n",
      "[1] 158\n",
      "[1] 158\n"
     ]
    }
   ],
   "source": [
    "# (2) Relationship between gene significance and intramodular connectivity\n",
    "which.module=\"black\"\n",
    "\n",
    "MM= as.data.frame(cor(df_Var_t, MEs, use =\"p\"))\n",
    "#head(MM)\n",
    "# GS1 = cor(df_Var_t, MEs, use=\"p\")\n",
    "# head(GS1)\n",
    "# GeneSignificance=abs(GS1)\n",
    "colorlevels=unique(moduleColors)\n",
    "sizeGrWindow(9,6)\n",
    "par(mfrow=c(2,as.integer(0.5+length(colorlevels)/2)))\n",
    "par(mar = c(4,5,3,1))\n",
    "par(mar = c(1, 1, 1, 1))\n",
    "#dim(Alldegrees1$kWithin[restrict1])\n",
    "for (i in c(1:14))\n",
    "{\n",
    "  whichmodule=colorlevels[[i]];\n",
    "  restrict1 = (moduleColors==whichmodule);\n",
    "  keys = paste(\"ME\", whichmodule, sep=\"\")\n",
    "  #print(keys)\n",
    "  print(length(Alldegrees1$kWithin[restrict1]))\n",
    "  print(length(MM[, i][restrict1]))\n",
    "  k <- verboseScatterplot(Alldegrees1$kWithin[restrict1],\n",
    "                     MM[, i][restrict1], col=moduleColors[restrict1],\n",
    "                     main=whichmodule,\n",
    "                     xlab = \"Connectivity\", ylab = \"Gene Significance\", abline = TRUE)\n",
    "}\n"
   ]
  },
  {
   "cell_type": "code",
   "execution_count": 74,
   "metadata": {
    "vscode": {
     "languageId": "r"
    }
   },
   "outputs": [
    {
     "data": {
      "text/html": [
       "<style>\n",
       ".dl-inline {width: auto; margin:0; padding: 0}\n",
       ".dl-inline>dt, .dl-inline>dd {float: none; width: auto; display: inline-block}\n",
       ".dl-inline>dt::after {content: \":\\0020\"; padding-right: .5ex}\n",
       ".dl-inline>dt:not(:first-of-type) {padding-left: .5ex}\n",
       "</style><dl class=dl-inline><dt>black</dt><dd>'Ghir_A13G004380'</dd><dt>blue</dt><dd>'Ghir_A11G014110'</dd><dt>brown</dt><dd>'Ghir_A11G004330'</dd><dt>cyan</dt><dd>'Ghir_D01G006300'</dd><dt>darkred</dt><dd>'Ghir_A13G021750'</dd><dt>green</dt><dd>'Ghir_A13G017470'</dd><dt>greenyellow</dt><dd>'Ghir_D01G010280'</dd><dt>grey60</dt><dd>'Ghir_A12G026960'</dd><dt>lightcyan</dt><dd>'Ghir_A13G023570'</dd><dt>lightgreen</dt><dd>'Ghir_A13G011300'</dd><dt>lightyellow</dt><dd>'Ghir_A13G009120'</dd><dt>magenta</dt><dd>'Ghir_A13G002210'</dd><dt>midnightblue</dt><dd>'Ghir_A13G003900'</dd><dt>pink</dt><dd>'Ghir_A12G020890'</dd><dt>purple</dt><dd>'Ghir_A13G003520'</dd><dt>red</dt><dd>'Ghir_D01G014840'</dd><dt>royalblue</dt><dd>'Ghir_D01G005140'</dd><dt>salmon</dt><dd>'Ghir_A13G022810'</dd><dt>tan</dt><dd>'Ghir_A13G018320'</dd><dt>turquoise</dt><dd>'Ghir_A11G026600'</dd><dt>yellow</dt><dd>'Ghir_A01G016500'</dd></dl>\n"
      ],
      "text/latex": [
       "\\begin{description*}\n",
       "\\item[black] 'Ghir\\_A13G004380'\n",
       "\\item[blue] 'Ghir\\_A11G014110'\n",
       "\\item[brown] 'Ghir\\_A11G004330'\n",
       "\\item[cyan] 'Ghir\\_D01G006300'\n",
       "\\item[darkred] 'Ghir\\_A13G021750'\n",
       "\\item[green] 'Ghir\\_A13G017470'\n",
       "\\item[greenyellow] 'Ghir\\_D01G010280'\n",
       "\\item[grey60] 'Ghir\\_A12G026960'\n",
       "\\item[lightcyan] 'Ghir\\_A13G023570'\n",
       "\\item[lightgreen] 'Ghir\\_A13G011300'\n",
       "\\item[lightyellow] 'Ghir\\_A13G009120'\n",
       "\\item[magenta] 'Ghir\\_A13G002210'\n",
       "\\item[midnightblue] 'Ghir\\_A13G003900'\n",
       "\\item[pink] 'Ghir\\_A12G020890'\n",
       "\\item[purple] 'Ghir\\_A13G003520'\n",
       "\\item[red] 'Ghir\\_D01G014840'\n",
       "\\item[royalblue] 'Ghir\\_D01G005140'\n",
       "\\item[salmon] 'Ghir\\_A13G022810'\n",
       "\\item[tan] 'Ghir\\_A13G018320'\n",
       "\\item[turquoise] 'Ghir\\_A11G026600'\n",
       "\\item[yellow] 'Ghir\\_A01G016500'\n",
       "\\end{description*}\n"
      ],
      "text/markdown": [
       "black\n",
       ":   'Ghir_A13G004380'blue\n",
       ":   'Ghir_A11G014110'brown\n",
       ":   'Ghir_A11G004330'cyan\n",
       ":   'Ghir_D01G006300'darkred\n",
       ":   'Ghir_A13G021750'green\n",
       ":   'Ghir_A13G017470'greenyellow\n",
       ":   'Ghir_D01G010280'grey60\n",
       ":   'Ghir_A12G026960'lightcyan\n",
       ":   'Ghir_A13G023570'lightgreen\n",
       ":   'Ghir_A13G011300'lightyellow\n",
       ":   'Ghir_A13G009120'magenta\n",
       ":   'Ghir_A13G002210'midnightblue\n",
       ":   'Ghir_A13G003900'pink\n",
       ":   'Ghir_A12G020890'purple\n",
       ":   'Ghir_A13G003520'red\n",
       ":   'Ghir_D01G014840'royalblue\n",
       ":   'Ghir_D01G005140'salmon\n",
       ":   'Ghir_A13G022810'tan\n",
       ":   'Ghir_A13G018320'turquoise\n",
       ":   'Ghir_A11G026600'yellow\n",
       ":   'Ghir_A01G016500'\n",
       "\n"
      ],
      "text/plain": [
       "            black              blue             brown              cyan \n",
       "\"Ghir_A13G004380\" \"Ghir_A11G014110\" \"Ghir_A11G004330\" \"Ghir_D01G006300\" \n",
       "          darkred             green       greenyellow            grey60 \n",
       "\"Ghir_A13G021750\" \"Ghir_A13G017470\" \"Ghir_D01G010280\" \"Ghir_A12G026960\" \n",
       "        lightcyan        lightgreen       lightyellow           magenta \n",
       "\"Ghir_A13G023570\" \"Ghir_A13G011300\" \"Ghir_A13G009120\" \"Ghir_A13G002210\" \n",
       "     midnightblue              pink            purple               red \n",
       "\"Ghir_A13G003900\" \"Ghir_A12G020890\" \"Ghir_A13G003520\" \"Ghir_D01G014840\" \n",
       "        royalblue            salmon               tan         turquoise \n",
       "\"Ghir_D01G005140\" \"Ghir_A13G022810\" \"Ghir_A13G018320\" \"Ghir_A11G026600\" \n",
       "           yellow \n",
       "\"Ghir_A01G016500\" "
      ]
     },
     "metadata": {},
     "output_type": "display_data"
    }
   ],
   "source": [
    "hubs = chooseTopHubInEachModule(df_Var_t, colorh=moduleColors, power=power, type=type)\n"
   ]
  },
  {
   "cell_type": "code",
   "execution_count": 79,
   "metadata": {
    "vscode": {
     "languageId": "r"
    }
   },
   "outputs": [
    {
     "name": "stdout",
     "output_type": "stream",
     "text": [
      " nearestNeighborConnectivity: selecting sample pool of size 5000 ..\n",
      " nearestNeighborConnectivity: received dataset with nGenes = 9234\n",
      " ..using nNeighbors = 50 and blockSize = 1000     \n"
     ]
    }
   ],
   "source": [
    "\n",
    "con <- nearestNeighborConnectivity(df_Var_t, nNeighbors=50, power=power,\n",
    "                                   type=type, corFnc = \"bicor\")"
   ]
  },
  {
   "cell_type": "code",
   "execution_count": 81,
   "metadata": {
    "vscode": {
     "languageId": "r"
    }
   },
   "outputs": [
    {
     "data": {
      "text/html": [
       "<table class=\"dataframe\">\n",
       "<caption>A data.frame: 9234 × 4</caption>\n",
       "<thead>\n",
       "\t<tr><th></th><th scope=col>kTotal</th><th scope=col>kWithin</th><th scope=col>kOut</th><th scope=col>kDiff</th></tr>\n",
       "\t<tr><th></th><th scope=col>&lt;dbl&gt;</th><th scope=col>&lt;dbl&gt;</th><th scope=col>&lt;dbl&gt;</th><th scope=col>&lt;dbl&gt;</th></tr>\n",
       "</thead>\n",
       "<tbody>\n",
       "\t<tr><th scope=row>Ghir_A01G000010</th><td> 56.0298206</td><td> 51.91082974</td><td> 4.1189909</td><td> 47.7918388</td></tr>\n",
       "\t<tr><th scope=row>Ghir_A01G000030</th><td>  0.3115014</td><td>  0.10390397</td><td> 0.2075974</td><td> -0.1036934</td></tr>\n",
       "\t<tr><th scope=row>Ghir_A01G000050</th><td>  5.4157133</td><td>  1.03537839</td><td> 4.3803349</td><td> -3.3449565</td></tr>\n",
       "\t<tr><th scope=row>Ghir_A01G000040</th><td> 73.2041877</td><td> 71.19087388</td><td> 2.0133138</td><td> 69.1775600</td></tr>\n",
       "\t<tr><th scope=row>Ghir_A01G000060</th><td>  1.2863963</td><td>  0.58813499</td><td> 0.6982613</td><td> -0.1101263</td></tr>\n",
       "\t<tr><th scope=row>Ghir_A01G000070</th><td>  2.1559187</td><td>  1.35488511</td><td> 0.8010336</td><td>  0.5538516</td></tr>\n",
       "\t<tr><th scope=row>Ghir_A01G000080</th><td>  0.5014243</td><td>  0.05016625</td><td> 0.4512580</td><td> -0.4010918</td></tr>\n",
       "\t<tr><th scope=row>Ghir_A01G000090</th><td>  8.6331737</td><td>  6.70493936</td><td> 1.9282343</td><td>  4.7767051</td></tr>\n",
       "\t<tr><th scope=row>Ghir_A01G000100</th><td>183.4464228</td><td>181.27806751</td><td> 2.1683553</td><td>179.1097122</td></tr>\n",
       "\t<tr><th scope=row>Ghir_A01G000110</th><td> 38.8690863</td><td> 28.51409634</td><td>10.3549900</td><td> 18.1591063</td></tr>\n",
       "\t<tr><th scope=row>Ghir_A01G000120</th><td> 10.7578079</td><td>  3.37549970</td><td> 7.3823082</td><td> -4.0068086</td></tr>\n",
       "\t<tr><th scope=row>Ghir_A01G000130</th><td> 76.0175909</td><td> 60.88250815</td><td>15.1350827</td><td> 45.7474254</td></tr>\n",
       "\t<tr><th scope=row>Ghir_A01G000140</th><td>  2.1050737</td><td>  0.48276423</td><td> 1.6223095</td><td> -1.1395452</td></tr>\n",
       "\t<tr><th scope=row>Ghir_A01G000150</th><td> 55.7064060</td><td>  8.13498751</td><td>47.5714185</td><td>-39.4364310</td></tr>\n",
       "\t<tr><th scope=row>Ghir_A01G000170</th><td> 61.8154940</td><td> 41.10448479</td><td>20.7110092</td><td> 20.3934755</td></tr>\n",
       "\t<tr><th scope=row>Ghir_A01G000190</th><td> 29.8227109</td><td> 10.23377611</td><td>19.5889348</td><td> -9.3551587</td></tr>\n",
       "\t<tr><th scope=row>Ghir_A01G000200</th><td> 66.9088129</td><td> 16.78844673</td><td>50.1203662</td><td>-33.3319194</td></tr>\n",
       "\t<tr><th scope=row>Ghir_A01G000210</th><td>157.6395535</td><td>147.21862211</td><td>10.4209313</td><td>136.7976908</td></tr>\n",
       "\t<tr><th scope=row>Ghir_A01G000220</th><td>  8.6799329</td><td>  6.84103198</td><td> 1.8389009</td><td>  5.0021310</td></tr>\n",
       "\t<tr><th scope=row>Ghir_A01G000230</th><td>  3.5695982</td><td>  1.71148283</td><td> 1.8581154</td><td> -0.1466325</td></tr>\n",
       "\t<tr><th scope=row>Ghir_A01G000420</th><td> 41.7402821</td><td> 35.41179150</td><td> 6.3284906</td><td> 29.0833009</td></tr>\n",
       "\t<tr><th scope=row>Ghir_A01G000440</th><td> 39.0386522</td><td> 11.42787226</td><td>27.6107800</td><td>-16.1829077</td></tr>\n",
       "\t<tr><th scope=row>Ghir_A01G000450</th><td> 75.7634732</td><td> 62.56674708</td><td>13.1967262</td><td> 49.3700209</td></tr>\n",
       "\t<tr><th scope=row>Ghir_A01G000460</th><td>  3.5323588</td><td>  2.12736671</td><td> 1.4049921</td><td>  0.7223746</td></tr>\n",
       "\t<tr><th scope=row>Ghir_A01G000480</th><td>  1.2957320</td><td>  0.27553270</td><td> 1.0201993</td><td> -0.7446666</td></tr>\n",
       "\t<tr><th scope=row>Ghir_A01G000490</th><td> 48.4517932</td><td> 16.27213410</td><td>32.1796591</td><td>-15.9075250</td></tr>\n",
       "\t<tr><th scope=row>Ghir_A01G000500</th><td> 41.1386853</td><td> 39.66015683</td><td> 1.4785284</td><td> 38.1816284</td></tr>\n",
       "\t<tr><th scope=row>Ghir_A01G000510</th><td>  4.5170038</td><td>  3.41763145</td><td> 1.0993723</td><td>  2.3182591</td></tr>\n",
       "\t<tr><th scope=row>Ghir_A01G000260</th><td>225.0688534</td><td>222.96491251</td><td> 2.1039409</td><td>220.8609716</td></tr>\n",
       "\t<tr><th scope=row>Ghir_A01G000270</th><td>  8.6124737</td><td>  8.41216202</td><td> 0.2003117</td><td>  8.2118503</td></tr>\n",
       "\t<tr><th scope=row>⋮</th><td>⋮</td><td>⋮</td><td>⋮</td><td>⋮</td></tr>\n",
       "\t<tr><th scope=row>Ghir_D02G002030</th><td> 10.1232324</td><td>  9.4200532</td><td> 0.7031792</td><td>  8.71687407</td></tr>\n",
       "\t<tr><th scope=row>Ghir_D02G002060</th><td> 36.2009406</td><td> 28.8341819</td><td> 7.3667587</td><td> 21.46742323</td></tr>\n",
       "\t<tr><th scope=row>Ghir_D02G002080</th><td>  6.7631677</td><td>  3.8357335</td><td> 2.9274343</td><td>  0.90829922</td></tr>\n",
       "\t<tr><th scope=row>Ghir_D02G002090</th><td>  1.0314242</td><td>  0.5059959</td><td> 0.5254283</td><td> -0.01943248</td></tr>\n",
       "\t<tr><th scope=row>Ghir_D02G002100</th><td>  4.7402562</td><td>  2.4877979</td><td> 2.2524583</td><td>  0.23533961</td></tr>\n",
       "\t<tr><th scope=row>Ghir_D02G002110</th><td> 11.9903030</td><td>  4.9276123</td><td> 7.0626907</td><td> -2.13507843</td></tr>\n",
       "\t<tr><th scope=row>Ghir_D02G002340</th><td> 23.7205322</td><td> 16.7070189</td><td> 7.0135134</td><td>  9.69350548</td></tr>\n",
       "\t<tr><th scope=row>Ghir_D02G002330</th><td>  6.4188825</td><td>  1.9717827</td><td> 4.4470998</td><td> -2.47531705</td></tr>\n",
       "\t<tr><th scope=row>Ghir_D02G002290</th><td>  2.6376480</td><td>  1.7390083</td><td> 0.8986397</td><td>  0.84036867</td></tr>\n",
       "\t<tr><th scope=row>Ghir_D02G002300</th><td> 10.8794793</td><td>  6.1228734</td><td> 4.7566059</td><td>  1.36626745</td></tr>\n",
       "\t<tr><th scope=row>Ghir_D02G002350</th><td> 17.1955101</td><td> 13.3131616</td><td> 3.8823485</td><td>  9.43081310</td></tr>\n",
       "\t<tr><th scope=row>Ghir_D02G002400</th><td>230.7875302</td><td>221.4095121</td><td> 9.3780180</td><td>212.03149411</td></tr>\n",
       "\t<tr><th scope=row>Ghir_D02G002360</th><td> 98.0786994</td><td> 96.4971374</td><td> 1.5815620</td><td> 94.91557535</td></tr>\n",
       "\t<tr><th scope=row>Ghir_D02G002380</th><td> 32.3017576</td><td> 28.5434297</td><td> 3.7583278</td><td> 24.78510187</td></tr>\n",
       "\t<tr><th scope=row>Ghir_D02G002390</th><td>  1.1824728</td><td>  0.2953832</td><td> 0.8870895</td><td> -0.59170631</td></tr>\n",
       "\t<tr><th scope=row>Ghir_D02G002420</th><td> 16.1671449</td><td>  3.5858034</td><td>12.5813415</td><td> -8.99553808</td></tr>\n",
       "\t<tr><th scope=row>Ghir_D02G002440</th><td>  0.7717463</td><td>  0.0186722</td><td> 0.7530741</td><td> -0.73440187</td></tr>\n",
       "\t<tr><th scope=row>Ghir_D02G002530</th><td> 25.2053300</td><td> 22.0837783</td><td> 3.1215517</td><td> 18.96222654</td></tr>\n",
       "\t<tr><th scope=row>Ghir_D02G002430</th><td> 14.6292929</td><td>  4.1042912</td><td>10.5250017</td><td> -6.42071048</td></tr>\n",
       "\t<tr><th scope=row>Ghir_D02G002550</th><td>232.6755027</td><td>226.9385441</td><td> 5.7369586</td><td>221.20158546</td></tr>\n",
       "\t<tr><th scope=row>Ghir_D02G002560</th><td>  6.4228777</td><td>  1.8093051</td><td> 4.6135727</td><td> -2.80426759</td></tr>\n",
       "\t<tr><th scope=row>Ghir_D02G002590</th><td> 14.4988157</td><td> 10.0518272</td><td> 4.4469885</td><td>  5.60483873</td></tr>\n",
       "\t<tr><th scope=row>Ghir_D02G002600</th><td>154.4744178</td><td>147.2922756</td><td> 7.1821423</td><td>140.11013331</td></tr>\n",
       "\t<tr><th scope=row>Ghir_D02G002570</th><td> 36.9667353</td><td> 34.9834098</td><td> 1.9833255</td><td> 33.00008427</td></tr>\n",
       "\t<tr><th scope=row>Ghir_D02G002580</th><td>  1.7201272</td><td>  0.9532862</td><td> 0.7668409</td><td>  0.18644530</td></tr>\n",
       "\t<tr><th scope=row>Ghir_D02G002630</th><td> 41.8796902</td><td> 10.7402103</td><td>31.1394800</td><td>-20.39926967</td></tr>\n",
       "\t<tr><th scope=row>Ghir_D02G002650</th><td>158.4066910</td><td>157.1050874</td><td> 1.3016036</td><td>155.80348382</td></tr>\n",
       "\t<tr><th scope=row>Ghir_D02G002720</th><td> 10.6808096</td><td>  2.5875487</td><td> 8.0932609</td><td> -5.50571221</td></tr>\n",
       "\t<tr><th scope=row>Ghir_D02G002800</th><td> 32.7742011</td><td> 20.5782619</td><td>12.1959392</td><td>  8.38232275</td></tr>\n",
       "\t<tr><th scope=row>Ghir_D02G002780</th><td>  0.2780546</td><td>  0.1088714</td><td> 0.1691833</td><td> -0.06031190</td></tr>\n",
       "</tbody>\n",
       "</table>\n"
      ],
      "text/latex": [
       "A data.frame: 9234 × 4\n",
       "\\begin{tabular}{r|llll}\n",
       "  & kTotal & kWithin & kOut & kDiff\\\\\n",
       "  & <dbl> & <dbl> & <dbl> & <dbl>\\\\\n",
       "\\hline\n",
       "\tGhir\\_A01G000010 &  56.0298206 &  51.91082974 &  4.1189909 &  47.7918388\\\\\n",
       "\tGhir\\_A01G000030 &   0.3115014 &   0.10390397 &  0.2075974 &  -0.1036934\\\\\n",
       "\tGhir\\_A01G000050 &   5.4157133 &   1.03537839 &  4.3803349 &  -3.3449565\\\\\n",
       "\tGhir\\_A01G000040 &  73.2041877 &  71.19087388 &  2.0133138 &  69.1775600\\\\\n",
       "\tGhir\\_A01G000060 &   1.2863963 &   0.58813499 &  0.6982613 &  -0.1101263\\\\\n",
       "\tGhir\\_A01G000070 &   2.1559187 &   1.35488511 &  0.8010336 &   0.5538516\\\\\n",
       "\tGhir\\_A01G000080 &   0.5014243 &   0.05016625 &  0.4512580 &  -0.4010918\\\\\n",
       "\tGhir\\_A01G000090 &   8.6331737 &   6.70493936 &  1.9282343 &   4.7767051\\\\\n",
       "\tGhir\\_A01G000100 & 183.4464228 & 181.27806751 &  2.1683553 & 179.1097122\\\\\n",
       "\tGhir\\_A01G000110 &  38.8690863 &  28.51409634 & 10.3549900 &  18.1591063\\\\\n",
       "\tGhir\\_A01G000120 &  10.7578079 &   3.37549970 &  7.3823082 &  -4.0068086\\\\\n",
       "\tGhir\\_A01G000130 &  76.0175909 &  60.88250815 & 15.1350827 &  45.7474254\\\\\n",
       "\tGhir\\_A01G000140 &   2.1050737 &   0.48276423 &  1.6223095 &  -1.1395452\\\\\n",
       "\tGhir\\_A01G000150 &  55.7064060 &   8.13498751 & 47.5714185 & -39.4364310\\\\\n",
       "\tGhir\\_A01G000170 &  61.8154940 &  41.10448479 & 20.7110092 &  20.3934755\\\\\n",
       "\tGhir\\_A01G000190 &  29.8227109 &  10.23377611 & 19.5889348 &  -9.3551587\\\\\n",
       "\tGhir\\_A01G000200 &  66.9088129 &  16.78844673 & 50.1203662 & -33.3319194\\\\\n",
       "\tGhir\\_A01G000210 & 157.6395535 & 147.21862211 & 10.4209313 & 136.7976908\\\\\n",
       "\tGhir\\_A01G000220 &   8.6799329 &   6.84103198 &  1.8389009 &   5.0021310\\\\\n",
       "\tGhir\\_A01G000230 &   3.5695982 &   1.71148283 &  1.8581154 &  -0.1466325\\\\\n",
       "\tGhir\\_A01G000420 &  41.7402821 &  35.41179150 &  6.3284906 &  29.0833009\\\\\n",
       "\tGhir\\_A01G000440 &  39.0386522 &  11.42787226 & 27.6107800 & -16.1829077\\\\\n",
       "\tGhir\\_A01G000450 &  75.7634732 &  62.56674708 & 13.1967262 &  49.3700209\\\\\n",
       "\tGhir\\_A01G000460 &   3.5323588 &   2.12736671 &  1.4049921 &   0.7223746\\\\\n",
       "\tGhir\\_A01G000480 &   1.2957320 &   0.27553270 &  1.0201993 &  -0.7446666\\\\\n",
       "\tGhir\\_A01G000490 &  48.4517932 &  16.27213410 & 32.1796591 & -15.9075250\\\\\n",
       "\tGhir\\_A01G000500 &  41.1386853 &  39.66015683 &  1.4785284 &  38.1816284\\\\\n",
       "\tGhir\\_A01G000510 &   4.5170038 &   3.41763145 &  1.0993723 &   2.3182591\\\\\n",
       "\tGhir\\_A01G000260 & 225.0688534 & 222.96491251 &  2.1039409 & 220.8609716\\\\\n",
       "\tGhir\\_A01G000270 &   8.6124737 &   8.41216202 &  0.2003117 &   8.2118503\\\\\n",
       "\t⋮ & ⋮ & ⋮ & ⋮ & ⋮\\\\\n",
       "\tGhir\\_D02G002030 &  10.1232324 &   9.4200532 &  0.7031792 &   8.71687407\\\\\n",
       "\tGhir\\_D02G002060 &  36.2009406 &  28.8341819 &  7.3667587 &  21.46742323\\\\\n",
       "\tGhir\\_D02G002080 &   6.7631677 &   3.8357335 &  2.9274343 &   0.90829922\\\\\n",
       "\tGhir\\_D02G002090 &   1.0314242 &   0.5059959 &  0.5254283 &  -0.01943248\\\\\n",
       "\tGhir\\_D02G002100 &   4.7402562 &   2.4877979 &  2.2524583 &   0.23533961\\\\\n",
       "\tGhir\\_D02G002110 &  11.9903030 &   4.9276123 &  7.0626907 &  -2.13507843\\\\\n",
       "\tGhir\\_D02G002340 &  23.7205322 &  16.7070189 &  7.0135134 &   9.69350548\\\\\n",
       "\tGhir\\_D02G002330 &   6.4188825 &   1.9717827 &  4.4470998 &  -2.47531705\\\\\n",
       "\tGhir\\_D02G002290 &   2.6376480 &   1.7390083 &  0.8986397 &   0.84036867\\\\\n",
       "\tGhir\\_D02G002300 &  10.8794793 &   6.1228734 &  4.7566059 &   1.36626745\\\\\n",
       "\tGhir\\_D02G002350 &  17.1955101 &  13.3131616 &  3.8823485 &   9.43081310\\\\\n",
       "\tGhir\\_D02G002400 & 230.7875302 & 221.4095121 &  9.3780180 & 212.03149411\\\\\n",
       "\tGhir\\_D02G002360 &  98.0786994 &  96.4971374 &  1.5815620 &  94.91557535\\\\\n",
       "\tGhir\\_D02G002380 &  32.3017576 &  28.5434297 &  3.7583278 &  24.78510187\\\\\n",
       "\tGhir\\_D02G002390 &   1.1824728 &   0.2953832 &  0.8870895 &  -0.59170631\\\\\n",
       "\tGhir\\_D02G002420 &  16.1671449 &   3.5858034 & 12.5813415 &  -8.99553808\\\\\n",
       "\tGhir\\_D02G002440 &   0.7717463 &   0.0186722 &  0.7530741 &  -0.73440187\\\\\n",
       "\tGhir\\_D02G002530 &  25.2053300 &  22.0837783 &  3.1215517 &  18.96222654\\\\\n",
       "\tGhir\\_D02G002430 &  14.6292929 &   4.1042912 & 10.5250017 &  -6.42071048\\\\\n",
       "\tGhir\\_D02G002550 & 232.6755027 & 226.9385441 &  5.7369586 & 221.20158546\\\\\n",
       "\tGhir\\_D02G002560 &   6.4228777 &   1.8093051 &  4.6135727 &  -2.80426759\\\\\n",
       "\tGhir\\_D02G002590 &  14.4988157 &  10.0518272 &  4.4469885 &   5.60483873\\\\\n",
       "\tGhir\\_D02G002600 & 154.4744178 & 147.2922756 &  7.1821423 & 140.11013331\\\\\n",
       "\tGhir\\_D02G002570 &  36.9667353 &  34.9834098 &  1.9833255 &  33.00008427\\\\\n",
       "\tGhir\\_D02G002580 &   1.7201272 &   0.9532862 &  0.7668409 &   0.18644530\\\\\n",
       "\tGhir\\_D02G002630 &  41.8796902 &  10.7402103 & 31.1394800 & -20.39926967\\\\\n",
       "\tGhir\\_D02G002650 & 158.4066910 & 157.1050874 &  1.3016036 & 155.80348382\\\\\n",
       "\tGhir\\_D02G002720 &  10.6808096 &   2.5875487 &  8.0932609 &  -5.50571221\\\\\n",
       "\tGhir\\_D02G002800 &  32.7742011 &  20.5782619 & 12.1959392 &   8.38232275\\\\\n",
       "\tGhir\\_D02G002780 &   0.2780546 &   0.1088714 &  0.1691833 &  -0.06031190\\\\\n",
       "\\end{tabular}\n"
      ],
      "text/markdown": [
       "\n",
       "A data.frame: 9234 × 4\n",
       "\n",
       "| <!--/--> | kTotal &lt;dbl&gt; | kWithin &lt;dbl&gt; | kOut &lt;dbl&gt; | kDiff &lt;dbl&gt; |\n",
       "|---|---|---|---|---|\n",
       "| Ghir_A01G000010 |  56.0298206 |  51.91082974 |  4.1189909 |  47.7918388 |\n",
       "| Ghir_A01G000030 |   0.3115014 |   0.10390397 |  0.2075974 |  -0.1036934 |\n",
       "| Ghir_A01G000050 |   5.4157133 |   1.03537839 |  4.3803349 |  -3.3449565 |\n",
       "| Ghir_A01G000040 |  73.2041877 |  71.19087388 |  2.0133138 |  69.1775600 |\n",
       "| Ghir_A01G000060 |   1.2863963 |   0.58813499 |  0.6982613 |  -0.1101263 |\n",
       "| Ghir_A01G000070 |   2.1559187 |   1.35488511 |  0.8010336 |   0.5538516 |\n",
       "| Ghir_A01G000080 |   0.5014243 |   0.05016625 |  0.4512580 |  -0.4010918 |\n",
       "| Ghir_A01G000090 |   8.6331737 |   6.70493936 |  1.9282343 |   4.7767051 |\n",
       "| Ghir_A01G000100 | 183.4464228 | 181.27806751 |  2.1683553 | 179.1097122 |\n",
       "| Ghir_A01G000110 |  38.8690863 |  28.51409634 | 10.3549900 |  18.1591063 |\n",
       "| Ghir_A01G000120 |  10.7578079 |   3.37549970 |  7.3823082 |  -4.0068086 |\n",
       "| Ghir_A01G000130 |  76.0175909 |  60.88250815 | 15.1350827 |  45.7474254 |\n",
       "| Ghir_A01G000140 |   2.1050737 |   0.48276423 |  1.6223095 |  -1.1395452 |\n",
       "| Ghir_A01G000150 |  55.7064060 |   8.13498751 | 47.5714185 | -39.4364310 |\n",
       "| Ghir_A01G000170 |  61.8154940 |  41.10448479 | 20.7110092 |  20.3934755 |\n",
       "| Ghir_A01G000190 |  29.8227109 |  10.23377611 | 19.5889348 |  -9.3551587 |\n",
       "| Ghir_A01G000200 |  66.9088129 |  16.78844673 | 50.1203662 | -33.3319194 |\n",
       "| Ghir_A01G000210 | 157.6395535 | 147.21862211 | 10.4209313 | 136.7976908 |\n",
       "| Ghir_A01G000220 |   8.6799329 |   6.84103198 |  1.8389009 |   5.0021310 |\n",
       "| Ghir_A01G000230 |   3.5695982 |   1.71148283 |  1.8581154 |  -0.1466325 |\n",
       "| Ghir_A01G000420 |  41.7402821 |  35.41179150 |  6.3284906 |  29.0833009 |\n",
       "| Ghir_A01G000440 |  39.0386522 |  11.42787226 | 27.6107800 | -16.1829077 |\n",
       "| Ghir_A01G000450 |  75.7634732 |  62.56674708 | 13.1967262 |  49.3700209 |\n",
       "| Ghir_A01G000460 |   3.5323588 |   2.12736671 |  1.4049921 |   0.7223746 |\n",
       "| Ghir_A01G000480 |   1.2957320 |   0.27553270 |  1.0201993 |  -0.7446666 |\n",
       "| Ghir_A01G000490 |  48.4517932 |  16.27213410 | 32.1796591 | -15.9075250 |\n",
       "| Ghir_A01G000500 |  41.1386853 |  39.66015683 |  1.4785284 |  38.1816284 |\n",
       "| Ghir_A01G000510 |   4.5170038 |   3.41763145 |  1.0993723 |   2.3182591 |\n",
       "| Ghir_A01G000260 | 225.0688534 | 222.96491251 |  2.1039409 | 220.8609716 |\n",
       "| Ghir_A01G000270 |   8.6124737 |   8.41216202 |  0.2003117 |   8.2118503 |\n",
       "| ⋮ | ⋮ | ⋮ | ⋮ | ⋮ |\n",
       "| Ghir_D02G002030 |  10.1232324 |   9.4200532 |  0.7031792 |   8.71687407 |\n",
       "| Ghir_D02G002060 |  36.2009406 |  28.8341819 |  7.3667587 |  21.46742323 |\n",
       "| Ghir_D02G002080 |   6.7631677 |   3.8357335 |  2.9274343 |   0.90829922 |\n",
       "| Ghir_D02G002090 |   1.0314242 |   0.5059959 |  0.5254283 |  -0.01943248 |\n",
       "| Ghir_D02G002100 |   4.7402562 |   2.4877979 |  2.2524583 |   0.23533961 |\n",
       "| Ghir_D02G002110 |  11.9903030 |   4.9276123 |  7.0626907 |  -2.13507843 |\n",
       "| Ghir_D02G002340 |  23.7205322 |  16.7070189 |  7.0135134 |   9.69350548 |\n",
       "| Ghir_D02G002330 |   6.4188825 |   1.9717827 |  4.4470998 |  -2.47531705 |\n",
       "| Ghir_D02G002290 |   2.6376480 |   1.7390083 |  0.8986397 |   0.84036867 |\n",
       "| Ghir_D02G002300 |  10.8794793 |   6.1228734 |  4.7566059 |   1.36626745 |\n",
       "| Ghir_D02G002350 |  17.1955101 |  13.3131616 |  3.8823485 |   9.43081310 |\n",
       "| Ghir_D02G002400 | 230.7875302 | 221.4095121 |  9.3780180 | 212.03149411 |\n",
       "| Ghir_D02G002360 |  98.0786994 |  96.4971374 |  1.5815620 |  94.91557535 |\n",
       "| Ghir_D02G002380 |  32.3017576 |  28.5434297 |  3.7583278 |  24.78510187 |\n",
       "| Ghir_D02G002390 |   1.1824728 |   0.2953832 |  0.8870895 |  -0.59170631 |\n",
       "| Ghir_D02G002420 |  16.1671449 |   3.5858034 | 12.5813415 |  -8.99553808 |\n",
       "| Ghir_D02G002440 |   0.7717463 |   0.0186722 |  0.7530741 |  -0.73440187 |\n",
       "| Ghir_D02G002530 |  25.2053300 |  22.0837783 |  3.1215517 |  18.96222654 |\n",
       "| Ghir_D02G002430 |  14.6292929 |   4.1042912 | 10.5250017 |  -6.42071048 |\n",
       "| Ghir_D02G002550 | 232.6755027 | 226.9385441 |  5.7369586 | 221.20158546 |\n",
       "| Ghir_D02G002560 |   6.4228777 |   1.8093051 |  4.6135727 |  -2.80426759 |\n",
       "| Ghir_D02G002590 |  14.4988157 |  10.0518272 |  4.4469885 |   5.60483873 |\n",
       "| Ghir_D02G002600 | 154.4744178 | 147.2922756 |  7.1821423 | 140.11013331 |\n",
       "| Ghir_D02G002570 |  36.9667353 |  34.9834098 |  1.9833255 |  33.00008427 |\n",
       "| Ghir_D02G002580 |   1.7201272 |   0.9532862 |  0.7668409 |   0.18644530 |\n",
       "| Ghir_D02G002630 |  41.8796902 |  10.7402103 | 31.1394800 | -20.39926967 |\n",
       "| Ghir_D02G002650 | 158.4066910 | 157.1050874 |  1.3016036 | 155.80348382 |\n",
       "| Ghir_D02G002720 |  10.6808096 |   2.5875487 |  8.0932609 |  -5.50571221 |\n",
       "| Ghir_D02G002800 |  32.7742011 |  20.5782619 | 12.1959392 |   8.38232275 |\n",
       "| Ghir_D02G002780 |   0.2780546 |   0.1088714 |  0.1691833 |  -0.06031190 |\n",
       "\n"
      ],
      "text/plain": [
       "                kTotal      kWithin      kOut       kDiff       \n",
       "Ghir_A01G000010  56.0298206  51.91082974  4.1189909  47.7918388 \n",
       "Ghir_A01G000030   0.3115014   0.10390397  0.2075974  -0.1036934 \n",
       "Ghir_A01G000050   5.4157133   1.03537839  4.3803349  -3.3449565 \n",
       "Ghir_A01G000040  73.2041877  71.19087388  2.0133138  69.1775600 \n",
       "Ghir_A01G000060   1.2863963   0.58813499  0.6982613  -0.1101263 \n",
       "Ghir_A01G000070   2.1559187   1.35488511  0.8010336   0.5538516 \n",
       "Ghir_A01G000080   0.5014243   0.05016625  0.4512580  -0.4010918 \n",
       "Ghir_A01G000090   8.6331737   6.70493936  1.9282343   4.7767051 \n",
       "Ghir_A01G000100 183.4464228 181.27806751  2.1683553 179.1097122 \n",
       "Ghir_A01G000110  38.8690863  28.51409634 10.3549900  18.1591063 \n",
       "Ghir_A01G000120  10.7578079   3.37549970  7.3823082  -4.0068086 \n",
       "Ghir_A01G000130  76.0175909  60.88250815 15.1350827  45.7474254 \n",
       "Ghir_A01G000140   2.1050737   0.48276423  1.6223095  -1.1395452 \n",
       "Ghir_A01G000150  55.7064060   8.13498751 47.5714185 -39.4364310 \n",
       "Ghir_A01G000170  61.8154940  41.10448479 20.7110092  20.3934755 \n",
       "Ghir_A01G000190  29.8227109  10.23377611 19.5889348  -9.3551587 \n",
       "Ghir_A01G000200  66.9088129  16.78844673 50.1203662 -33.3319194 \n",
       "Ghir_A01G000210 157.6395535 147.21862211 10.4209313 136.7976908 \n",
       "Ghir_A01G000220   8.6799329   6.84103198  1.8389009   5.0021310 \n",
       "Ghir_A01G000230   3.5695982   1.71148283  1.8581154  -0.1466325 \n",
       "Ghir_A01G000420  41.7402821  35.41179150  6.3284906  29.0833009 \n",
       "Ghir_A01G000440  39.0386522  11.42787226 27.6107800 -16.1829077 \n",
       "Ghir_A01G000450  75.7634732  62.56674708 13.1967262  49.3700209 \n",
       "Ghir_A01G000460   3.5323588   2.12736671  1.4049921   0.7223746 \n",
       "Ghir_A01G000480   1.2957320   0.27553270  1.0201993  -0.7446666 \n",
       "Ghir_A01G000490  48.4517932  16.27213410 32.1796591 -15.9075250 \n",
       "Ghir_A01G000500  41.1386853  39.66015683  1.4785284  38.1816284 \n",
       "Ghir_A01G000510   4.5170038   3.41763145  1.0993723   2.3182591 \n",
       "Ghir_A01G000260 225.0688534 222.96491251  2.1039409 220.8609716 \n",
       "Ghir_A01G000270   8.6124737   8.41216202  0.2003117   8.2118503 \n",
       "⋮               ⋮           ⋮            ⋮          ⋮           \n",
       "Ghir_D02G002030  10.1232324   9.4200532   0.7031792   8.71687407\n",
       "Ghir_D02G002060  36.2009406  28.8341819   7.3667587  21.46742323\n",
       "Ghir_D02G002080   6.7631677   3.8357335   2.9274343   0.90829922\n",
       "Ghir_D02G002090   1.0314242   0.5059959   0.5254283  -0.01943248\n",
       "Ghir_D02G002100   4.7402562   2.4877979   2.2524583   0.23533961\n",
       "Ghir_D02G002110  11.9903030   4.9276123   7.0626907  -2.13507843\n",
       "Ghir_D02G002340  23.7205322  16.7070189   7.0135134   9.69350548\n",
       "Ghir_D02G002330   6.4188825   1.9717827   4.4470998  -2.47531705\n",
       "Ghir_D02G002290   2.6376480   1.7390083   0.8986397   0.84036867\n",
       "Ghir_D02G002300  10.8794793   6.1228734   4.7566059   1.36626745\n",
       "Ghir_D02G002350  17.1955101  13.3131616   3.8823485   9.43081310\n",
       "Ghir_D02G002400 230.7875302 221.4095121   9.3780180 212.03149411\n",
       "Ghir_D02G002360  98.0786994  96.4971374   1.5815620  94.91557535\n",
       "Ghir_D02G002380  32.3017576  28.5434297   3.7583278  24.78510187\n",
       "Ghir_D02G002390   1.1824728   0.2953832   0.8870895  -0.59170631\n",
       "Ghir_D02G002420  16.1671449   3.5858034  12.5813415  -8.99553808\n",
       "Ghir_D02G002440   0.7717463   0.0186722   0.7530741  -0.73440187\n",
       "Ghir_D02G002530  25.2053300  22.0837783   3.1215517  18.96222654\n",
       "Ghir_D02G002430  14.6292929   4.1042912  10.5250017  -6.42071048\n",
       "Ghir_D02G002550 232.6755027 226.9385441   5.7369586 221.20158546\n",
       "Ghir_D02G002560   6.4228777   1.8093051   4.6135727  -2.80426759\n",
       "Ghir_D02G002590  14.4988157  10.0518272   4.4469885   5.60483873\n",
       "Ghir_D02G002600 154.4744178 147.2922756   7.1821423 140.11013331\n",
       "Ghir_D02G002570  36.9667353  34.9834098   1.9833255  33.00008427\n",
       "Ghir_D02G002580   1.7201272   0.9532862   0.7668409   0.18644530\n",
       "Ghir_D02G002630  41.8796902  10.7402103  31.1394800 -20.39926967\n",
       "Ghir_D02G002650 158.4066910 157.1050874   1.3016036 155.80348382\n",
       "Ghir_D02G002720  10.6808096   2.5875487   8.0932609  -5.50571221\n",
       "Ghir_D02G002800  32.7742011  20.5782619  12.1959392   8.38232275\n",
       "Ghir_D02G002780   0.2780546   0.1088714   0.1691833  -0.06031190"
      ]
     },
     "metadata": {},
     "output_type": "display_data"
    }
   ],
   "source": []
  },
  {
   "cell_type": "code",
   "execution_count": 40,
   "metadata": {
    "vscode": {
     "languageId": "r"
    }
   },
   "outputs": [
    {
     "data": {
      "image/png": "[encoded data removed]",
      "text/plain": [
       "Plot with title \" Eigengene adjacency heatmap\""
      ]
     },
     "metadata": {
      "image/png": {
       "height": 420,
       "width": 420
      }
     },
     "output_type": "display_data"
    }
   ],
   "source": [
    "# module eigengene, 可以绘制线图，作为每个模块的基因表达趋势的展示\n",
    "MEs = net$MEs\n",
    "\n",
    "### 不需要重新计算，改下列名字就好\n",
    "### 官方教程是重新计算的，起始可以不用这么麻烦\n",
    "MEs_col = MEs\n",
    "colnames(MEs_col) = paste0(\"ME\", labels2colors(\n",
    "  as.numeric(str_replace_all(colnames(MEs),\"ME\",\"\"))))\n",
    "MEs_col = orderMEs(MEs_col)\n",
    "\n",
    "# 根据基因间表达量进行聚类所得到的各模块间的相关性图\n",
    "# marDendro/marHeatmap 设置下、左、上、右的边距\n",
    "plotEigengeneNetworks(MEs_col, \"Eigengene adjacency heatmap\", \n",
    "                      marDendro = c(3,3,2,4),\n",
    "                      marHeatmap = c(3,4,2,2), plotDendrograms = T, \n",
    "                      xLabelsAngle = 90)"
   ]
  },
  {
   "cell_type": "code",
   "execution_count": 9,
   "metadata": {
    "vscode": {
     "languageId": "r"
    }
   },
   "outputs": [
    {
     "name": "stdout",
     "output_type": "stream",
     "text": [
      "Loading objects:\n",
      "  TOM\n"
     ]
    },
    {
     "name": "stderr",
     "output_type": "stream",
     "text": [
      "Warning message in min(dendro$height):\n",
      "\"no non-missing arguments to min; returning Inf\"\n",
      "Warning message in max(dendro$height):\n",
      "\"no non-missing arguments to max; returning -Inf\"\n",
      "Warning message in min(dendro$height):\n",
      "\"no non-missing arguments to min; returning Inf\"\n"
     ]
    },
    {
     "data": {
      "image/png": "[encoded data removed]",
      "text/plain": [
       "Plot with title \"Network heatmap plot, all genes\""
      ]
     },
     "metadata": {
      "image/png": {
       "height": 420,
       "width": 420
      }
     },
     "output_type": "display_data"
    }
   ],
   "source": [
    "# 如果采用分步计算，或设置的blocksize>=总基因数，直接load计算好的TOM结果\n",
    "# 否则需要再计算一遍，比较耗费时间\n",
    "# TOM = TOMsimilarityFromExpr(dataExpr, power=power, corType=corType, networkType=type)\n",
    "load(net$TOMFiles[1], verbose=T)\n",
    "\n",
    "## Loading objects:\n",
    "##   TOM\n",
    "\n",
    "TOM <- as.matrix(TOM)\n",
    "\n",
    "dissTOM = 1-TOM\n",
    "# Transform dissTOM with a power to make moderately strong \n",
    "# connections more visible in the heatmap\n",
    "plotTOM = dissTOM^7\n",
    "# Set diagonal to NA for a nicer plot\n",
    "diag(plotTOM) = NA\n",
    "# Call the plot function\n",
    "moduleColors <- labels2colors(net$colors)\n",
    "\n",
    "# 这一部分特别耗时，行列同时做层级聚类\n",
    "TOMplot(plotTOM, net$dendrograms, moduleColors, \n",
    "        main = \"Network heatmap plot, all genes\")"
   ]
  },
  {
   "cell_type": "code",
   "execution_count": 24,
   "metadata": {
    "vscode": {
     "languageId": "r"
    }
   },
   "outputs": [],
   "source": [
    "probes = colnames(df_Var_t)\n",
    "dimnames(TOM) <- list(probes, probes)\n",
    "\n",
    "# Export the network into edge and node list files Cytoscape can read\n",
    "# threshold 默认为0.5, 可以根据自己的需要调整，也可以都导出后在\n",
    "# cytoscape中再调整\n",
    "cyt = exportNetworkToCytoscape(TOM,\n",
    "             edgeFile = paste(\"J668_WGCNA\", \".edges.txt\", sep=\"\"),\n",
    "             nodeFile = paste(\"J668_WGCNA\", \".nodes.txt\", sep=\"\"),\n",
    "             weighted = TRUE, threshold = 0,\n",
    "             nodeNames = probes, nodeAttr = moduleColors)"
   ]
  }
 ],
 "metadata": {
  "kernelspec": {
   "display_name": "R",
   "language": "R",
   "name": "ir"
  },
  "language_info": {
   "codemirror_mode": "r",
   "file_extension": ".r",
   "mimetype": "text/x-r-source",
   "name": "R",
   "pygments_lexer": "r",
   "version": "4.2.1"
  },
  "orig_nbformat": 4,
  "vscode": {
   "interpreter": {
    "hash": "a0f669ea42a4dcea88d385f8f9b4c3d9b966e24234758831d1dbfdac925619a2"
   }
  }
 },
 "nbformat": 4,
 "nbformat_minor": 2
}
