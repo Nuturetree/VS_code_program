{
 "cells": [
  {
   "cell_type": "code",
   "execution_count": 2,
   "metadata": {
    "vscode": {
     "languageId": "r"
    }
   },
   "outputs": [],
   "source": [
    "## 分析同源基因对TPM的表达差异\n",
    "tissues <- c('anther', 'cotyledon','hypocotyl', 'leaf', 'ovule', 'petal', 'radicle', 'root', 'stem', 'stigma', 'fiber_10DPA', 'fiber_20DPA')\n",
    "\n",
    "for (t in tissues) {\n",
    "    input_f = paste(\"G:/Billfish/J668_multip_tissue_3D-genome/new_RNA_seq/homo_gene2/gene_bias/TPM/\", t, \"/\", t, \"_pairs_tpm.txt\", sep=\"\")\n",
    "    output_f = paste(\"G:/Billfish/J668_multip_tissue_3D-genome/new_RNA_seq/homo_gene2/gene_bias/TPM/\", t, \"/\", t, \"_pairs_tpm_t-test.txt\", sep=\"\")\n",
    "    df = read.table(input_f, sep=\"\\t\", header=T)\n",
    "    n <- c(1:nrow(df))\n",
    "    t_test <- rep(NA, nrow(df)) # 建立t检验的p值空间向量\n",
    "    p.w <- rep(NA, nrow(df)) # 秩和检验的p值空间向量\n",
    "    tpm_fc <- rep(NA, nrow(df)) # 差异倍数\n",
    "    for (i in n)\n",
    "    {\n",
    "        #print(as.numeric(df[i, 3:5]))\n",
    "        #print(as.numeric(df[i, 3:4]))\n",
    "        #print(rowMeans(df[i, 3:4], na.rm=TRUE))\n",
    "\n",
    "        # tpm_fc[i] <- (rowMeans(df[i, 3:4], na.rm=TRUE)+0.001)/(rowMeans(df[i, 5:6], na.rm=TRUE)+0.001)\n",
    "        # t_test[i] <- t.test(df[i,3:4], df[i,5:6])$p.value\n",
    "\n",
    "        tpm_fc[i] <- (rowMeans(df[i, 3:5], na.rm=TRUE)+0.001)/(rowMeans(df[i, 6:8], na.rm=TRUE)+0.001)\n",
    "        t_test[i] <- t.test(df[i, 3:5], df[i, 6:8])$p.value\n",
    "        \n",
    "        #tpm_fc[i] <- \n",
    "        #p.w[i] <- wilcox.test(as.numeric(df[i, 3:5]), as.numeric(df[i, 6:8]), exact=FALSE)$p.value   \n",
    "    }\n",
    "    fdr <- p.adjust(t_test, method='fdr', length(t_test))\n",
    "    df_result <- cbind(df, tpm_fc, t_test, fdr)\n",
    "    write.table(df_result, file=output_f, sep=\"\\t\", row.names=F)\n",
    "}"
   ]
  },
  {
   "cell_type": "code",
   "execution_count": 9,
   "metadata": {
    "vscode": {
     "languageId": "r"
    }
   },
   "outputs": [
    {
     "name": "stdout",
     "output_type": "stream",
     "text": [
      "             fromNode           toNode    weight\n",
      "0     Ghir_A01G004980  Ghir_A01G005700  0.054021\n",
      "1     Ghir_A01G004980  Ghir_A01G016550  0.064616\n",
      "2     Ghir_A01G004980  Ghir_A01G019680  0.074318\n",
      "3     Ghir_A01G004980  Ghir_A01G019690  0.067586\n",
      "4     Ghir_A01G004980  Ghir_A02G002460  0.060104\n",
      "...               ...              ...       ...\n",
      "9009  Ghir_A10G022380  Ghir_D09G018040  0.098983\n",
      "9010  Ghir_D03G012060  Ghir_D09G018040  0.056544\n",
      "9011  Ghir_A11G023430  Ghir_D11G020970  0.095210\n",
      "9012  Ghir_A11G034790  Ghir_D12G010150  0.053675\n",
      "9013  Ghir_A12G020940  Ghir_D04G003380  0.051400\n",
      "\n",
      "[17470 rows x 3 columns]\n"
     ]
    }
   ],
   "source": [
    "## 随机选择1000K个基因，并得到其WGCNA 互作强度\n",
    "import pandas as pd\n",
    "df = pd.read_csv(\"G:/Billfish/J668_multip_tissue_3D-genome/RNA_seq/Gh_gene_position.bed\", sep=\"\\t\")\n",
    "df_WGCNA = pd.read_csv(\"G:/Billfish/J668_multip_tissue_3D-genome/RNA_seq/WGCNA/J668_all_tissue_005.edges.txt\", sep=\"\\t\")\n",
    "df_1K = df.sample(100)[['GeneId']].copy()\n",
    "df_1K.columns = ['fromNode']\n",
    "df_a = pd.merge(df_WGCNA, df_1K, how='inner', on=['fromNode']).copy()\n",
    "df_1K.columns = ['toNode']\n",
    "df_b = pd.merge(df_WGCNA, df_1K, how='inner', on=['toNode']).copy()\n",
    "df_result = pd.concat([df_a, df_b], axis=0)\n",
    "df_result.drop_duplicates(inplace=True)\n",
    "print(df_result)"
   ]
  },
  {
   "cell_type": "code",
   "execution_count": 16,
   "metadata": {
    "vscode": {
     "languageId": "r"
    }
   },
   "outputs": [
    {
     "name": "stdout",
     "output_type": "stream",
     "text": [
      "Ghir_A01\n",
      "Ghir_A02\n",
      "Ghir_A03\n",
      "Ghir_A04\n",
      "Ghir_A05\n",
      "Ghir_A06\n",
      "Ghir_A07\n",
      "Ghir_A08\n",
      "Ghir_A09\n",
      "Ghir_A10\n",
      "Ghir_A11\n",
      "Ghir_A12\n",
      "Ghir_A13\n",
      "Ghir_D01\n",
      "Ghir_D02\n",
      "Ghir_D03\n",
      "Ghir_D04\n",
      "Ghir_D05\n",
      "Ghir_D06\n",
      "Ghir_D07\n",
      "Ghir_D08\n",
      "Ghir_D09\n",
      "Ghir_D10\n",
      "Ghir_D11\n",
      "Ghir_D12\n",
      "Ghir_D13\n"
     ]
    }
   ],
   "source": [
    "## 给每个基因打上区间和hic-pro tags标记\n",
    "import pandas as pd\n",
    "df_abs = pd.read_csv(\"G:/Billfish/J668_multip_tissue_3D-genome/RNA_seq/Gh_3K_abs.bed\", sep=\"\\t\", names = ['chrs', 'start', 'end', 'tags'])\n",
    "df_gene = pd.read_csv(\"G:/Billfish/J668_multip_tissue_3D-genome/RNA_seq/Gh_gene_position.bed\", sep=\"\\t\")\n",
    "chrom = ['Ghir_A01', 'Ghir_A02', 'Ghir_A03', 'Ghir_A04', 'Ghir_A05', 'Ghir_A06', 'Ghir_A07', 'Ghir_A08', 'Ghir_A09', 'Ghir_A10', 'Ghir_A11', 'Ghir_A12', 'Ghir_A13', \n",
    "         'Ghir_D01', 'Ghir_D02', 'Ghir_D03', 'Ghir_D04', 'Ghir_D05', 'Ghir_D06', 'Ghir_D07', 'Ghir_D08', 'Ghir_D09', 'Ghir_D10', 'Ghir_D11', 'Ghir_D12', 'Ghir_D13']\n",
    "## 给每个基因打上标签\n",
    "def gene_tags(df_tags, df_gene):\n",
    "    df_return = pd.DataFrame()\n",
    "    for index, row in df_tags.iterrows():\n",
    "        s, e, t = row['start'], row['end'], row['tags']\n",
    "        df_gene_tags = df_gene.query(\"start<=@e & end>=@s\").copy()\n",
    "        df_gene_tags['tags'] = [t]*df_gene_tags.shape[0]\n",
    "        df_return = pd.concat([df_return, df_gene_tags], axis=0)\n",
    "        #print(df_return)\n",
    "    df_return.drop_duplicates(keep='first', subset=['GeneId'], inplace=True)\n",
    "    return df_return\n",
    "df_result = pd.DataFrame()\n",
    "for c in chrom:\n",
    "    print(c)\n",
    "    df_gene_chr = df_gene.query(\"chrs==@c\").copy()\n",
    "    df_abs_chr = df_abs.query(\"chrs==@c\").copy()\n",
    "    df_tmp = gene_tags(df_abs_chr, df_gene_chr)\n",
    "    df_result = pd.concat([df_result, df_tmp], axis=0)\n",
    "\n"
   ]
  },
  {
   "cell_type": "code",
   "execution_count": 20,
   "metadata": {
    "vscode": {
     "languageId": "r"
    }
   },
   "outputs": [
    {
     "name": "stdout",
     "output_type": "stream",
     "text": [
      "151518\n"
     ]
    }
   ],
   "source": [
    "print(df_result.shape[0])\n",
    "df_result2 = df_result.drop_duplicates(keep='first', subset=['GeneId'])\n",
    "df_result2.to_csv(\"G:/Billfish/J668_multip_tissue_3D-genome/RNA_seq/Gh_3K_geneid.bed\", sep=\"\\t\", index=False)"
   ]
  }
 ],
 "metadata": {
  "kernelspec": {
   "display_name": "R",
   "language": "R",
   "name": "ir"
  },
  "language_info": {
   "codemirror_mode": "r",
   "file_extension": ".r",
   "mimetype": "text/x-r-source",
   "name": "R",
   "pygments_lexer": "r",
   "version": "4.2.2"
  },
  "orig_nbformat": 4,
  "vscode": {
   "interpreter": {
    "hash": "a0f669ea42a4dcea88d385f8f9b4c3d9b966e24234758831d1dbfdac925619a2"
   }
  }
 },
 "nbformat": 4,
 "nbformat_minor": 2
}
