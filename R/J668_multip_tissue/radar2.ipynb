{
 "cells": [
  {
   "cell_type": "code",
   "execution_count": 35,
   "metadata": {
    "vscode": {
     "languageId": "r"
    }
   },
   "outputs": [
    {
     "data": {
      "text/html": [
       "<style>\n",
       ".list-inline {list-style: none; margin:0; padding: 0}\n",
       ".list-inline>li {display: inline-block}\n",
       ".list-inline>li:not(:last-child)::after {content: \"\\00b7\"; padding: 0 .5ex}\n",
       "</style>\n",
       "<ol class=list-inline><li>'anther'</li><li>'ovule'</li><li>'root'</li><li>'radicle'</li><li>'leaf'</li><li>'hypocotyl'</li><li>'cotyledon'</li><li>'stem'</li><li>'fiber_10DPA'</li><li>'fiber_20DPA'</li><li>'petal'</li><li>'stigma'</li></ol>\n"
      ],
      "text/latex": [
       "\\begin{enumerate*}\n",
       "\\item 'anther'\n",
       "\\item 'ovule'\n",
       "\\item 'root'\n",
       "\\item 'radicle'\n",
       "\\item 'leaf'\n",
       "\\item 'hypocotyl'\n",
       "\\item 'cotyledon'\n",
       "\\item 'stem'\n",
       "\\item 'fiber\\_10DPA'\n",
       "\\item 'fiber\\_20DPA'\n",
       "\\item 'petal'\n",
       "\\item 'stigma'\n",
       "\\end{enumerate*}\n"
      ],
      "text/markdown": [
       "1. 'anther'\n",
       "2. 'ovule'\n",
       "3. 'root'\n",
       "4. 'radicle'\n",
       "5. 'leaf'\n",
       "6. 'hypocotyl'\n",
       "7. 'cotyledon'\n",
       "8. 'stem'\n",
       "9. 'fiber_10DPA'\n",
       "10. 'fiber_20DPA'\n",
       "11. 'petal'\n",
       "12. 'stigma'\n",
       "\n",
       "\n"
      ],
      "text/plain": [
       " [1] \"anther\"      \"ovule\"       \"root\"        \"radicle\"     \"leaf\"       \n",
       " [6] \"hypocotyl\"   \"cotyledon\"   \"stem\"        \"fiber_10DPA\" \"fiber_20DPA\"\n",
       "[11] \"petal\"       \"stigma\"     "
      ]
     },
     "metadata": {},
     "output_type": "display_data"
    },
    {
     "data": {
      "text/html": [
       "<style>\n",
       ".list-inline {list-style: none; margin:0; padding: 0}\n",
       ".list-inline>li {display: inline-block}\n",
       ".list-inline>li:not(:last-child)::after {content: \"\\00b7\"; padding: 0 .5ex}\n",
       "</style>\n",
       "<ol class=list-inline><li>'anther'</li><li>'ovule'</li><li>'root'</li><li>'radicle'</li><li>'leaf'</li><li>'hypocotyl'</li><li>'cotyledon'</li><li>'stem'</li><li>'fiber_10DPA'</li><li>'fiber_20DPA'</li><li>'petal'</li><li>'stigma'</li></ol>\n"
      ],
      "text/latex": [
       "\\begin{enumerate*}\n",
       "\\item 'anther'\n",
       "\\item 'ovule'\n",
       "\\item 'root'\n",
       "\\item 'radicle'\n",
       "\\item 'leaf'\n",
       "\\item 'hypocotyl'\n",
       "\\item 'cotyledon'\n",
       "\\item 'stem'\n",
       "\\item 'fiber\\_10DPA'\n",
       "\\item 'fiber\\_20DPA'\n",
       "\\item 'petal'\n",
       "\\item 'stigma'\n",
       "\\end{enumerate*}\n"
      ],
      "text/markdown": [
       "1. 'anther'\n",
       "2. 'ovule'\n",
       "3. 'root'\n",
       "4. 'radicle'\n",
       "5. 'leaf'\n",
       "6. 'hypocotyl'\n",
       "7. 'cotyledon'\n",
       "8. 'stem'\n",
       "9. 'fiber_10DPA'\n",
       "10. 'fiber_20DPA'\n",
       "11. 'petal'\n",
       "12. 'stigma'\n",
       "\n",
       "\n"
      ],
      "text/plain": [
       " [1] \"anther\"      \"ovule\"       \"root\"        \"radicle\"     \"leaf\"       \n",
       " [6] \"hypocotyl\"   \"cotyledon\"   \"stem\"        \"fiber_10DPA\" \"fiber_20DPA\"\n",
       "[11] \"petal\"       \"stigma\"     "
      ]
     },
     "metadata": {},
     "output_type": "display_data"
    },
    {
     "data": {
      "image/png": "[encoded data removed]",
      "text/plain": [
       "plot without title"
      ]
     },
     "metadata": {
      "image/png": {
       "height": 420,
       "width": 420
      }
     },
     "output_type": "display_data"
    }
   ],
   "source": [
    "setwd('G:/Billfish/J668_multip_tissue_3D-genome/HiC/TAD_new/TSG_TAD/TSG_TAD_TPM_median')\n",
    "library(ggplot2)\n",
    "df = read.csv(\"TSG_TAD_TPM_median.csv\")\n",
    "df <- within(df, tags<- factor(tags, levels = c('anther', 'ovule', 'root', 'radicle', 'leaf', 'hypocotyl', 'cotyledon', 'stem', 'fiber_10DPA', 'fiber_20DPA', 'petal', 'stigma')))\n",
    "with(df, levels(tags))\n",
    "df <- within(df, tissues<- factor(tissues, levels = c('anther', 'ovule', 'root', 'radicle', 'leaf', 'hypocotyl', 'cotyledon', 'stem', 'fiber_10DPA', 'fiber_20DPA', 'petal', 'stigma')))\n",
    "with(df, levels(tissues))\n",
    "\n",
    "fg<- ggplot(df,aes(tissues,median_value)) +                       \n",
    "     #geom_bar(aes(y=5.5,fill=tissues),stat=\"identity\",width=1,colour=\"white\",                 \n",
    "     #         alpha=0.5) +                                                                         \n",
    " \n",
    "     #geom_hline(yintercept=0.5, colour=\"#F97F08\",linetype=\"dashed\",alpha=0.5)+\n",
    "     #geom_hline(yintercept=1, colour=\"#F97F08\",linetype=\"dashed\",alpha=0.5)+\n",
    "     geom_hline(yintercept=2, colour=\"#F97F08\",linetype=\"dashed\",alpha=0.5)+ \n",
    "     #geom_hline(yintercept=3.5, colour=\"#F97F08\",linetype=\"dashed\",alpha=0.5)+\n",
    "     geom_hline(yintercept=4, colour=\"#F97F08\",linetype=\"dashed\",alpha=0.5)+\n",
    "     #geom_hline(yintercept=5.5, colour=\"#F97F08\", linetype='dashed', alpha=0.5)+\n",
    "     #geom_hline(yintercept=6, colour=\"#F97F08\", linetype='dashed', alpha=0.5)+           \n",
    "     geom_hline(yintercept=6, colour=\"black\")+           \n",
    "     geom_bar(stat=\"identity\",width=1,aes(fill=tissues),colour=\"black\") + \n",
    "     coord_polar() +                                                                      \n",
    "     #geom_label(aes(label=median_value,fill=tissues),size=2,color=\"white\",show.legend = FALSE)+     \n",
    "     # scale_fill_manual(values=c(\"Possession\" = \"#D70232\",                                  \n",
    "     #                            \"Attacking\" = \"#1A78CF\",\n",
    "     #                            \"Defending\" = \"#FF9300\")) +                                                              \n",
    "     # scale_y_continuous(limits = c(-10,100))+                                             \n",
    "     #labs(fill=\"\",                                                                       \n",
    "     #     caption = \"Data from StatsBomb via FBref\")+                             \n",
    "          #title=df_selected$Player[1])+                                           \n",
    "     #theme_minimal() +\n",
    "     facet_wrap(nrow=2, .~tags)+\n",
    "     theme(panel.background = element_blank(), \n",
    "             panel.grid = element_blank(),\n",
    "            panel.border = element_rect(fill=NA),\n",
    "               axis.title.y = element_blank(),\n",
    "               axis.title.x = element_blank(),\n",
    "               axis.text.y = element_blank(),\n",
    "               #axis.text.x = element_text(size = 6, angle = ),\n",
    "               axis.ticks = element_blank(),\n",
    "               panel.spacing = unit(0.05, \"cm\"),\n",
    "               legend.position = 'none',\n",
    "               axis.text.x = element_blank(),\n",
    "               plot.title = element_text(hjust=0.5),\n",
    "               plot.caption = element_text(hjust=0.5,size=6),\n",
    "               panel.grid.major = element_blank(), \n",
    "               panel.grid.minor = element_blank())+\n",
    "     scale_fill_manual(values=c(\"#2196F3\", \"#69A71E\", \"#E2AE09\", \"#E6191E\", \"#D95204\", \"#7571B2\", \"#E6298D\", \"#A6751B\", \"#A55CED\", \"#1E79B2\" , \"#607D8B\", \"#efdab4\"))\n",
    "fg\n",
    "ggsave(plot =fg, filename = 'TSG_TAD_TPM_median.pdf', height = 5, width = 6)"
   ]
  }
 ],
 "metadata": {
  "kernelspec": {
   "display_name": "R",
   "language": "R",
   "name": "ir"
  },
  "language_info": {
   "codemirror_mode": "r",
   "file_extension": ".r",
   "mimetype": "text/x-r-source",
   "name": "R",
   "pygments_lexer": "r",
   "version": "4.2.2"
  },
  "orig_nbformat": 4,
  "vscode": {
   "interpreter": {
    "hash": "a0f669ea42a4dcea88d385f8f9b4c3d9b966e24234758831d1dbfdac925619a2"
   }
  }
 },
 "nbformat": 4,
 "nbformat_minor": 2
}
