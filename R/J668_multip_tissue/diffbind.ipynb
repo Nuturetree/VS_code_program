{
 "cells": [
  {
   "cell_type": "code",
   "execution_count": 1,
   "metadata": {},
   "outputs": [
    {
     "data": {
      "text/plain": [
       "<colors>\n",
       "\u001b[30m\u001b[48;5;67m#4E79A7FF\u001b[49m\u001b[39m \u001b[30m\u001b[48;5;153m#A0CBE8FF\u001b[49m\u001b[39m \u001b[30m\u001b[48;5;215m#F28E2BFF\u001b[49m\u001b[39m \u001b[30m\u001b[48;5;222m#FFBE7DFF\u001b[49m\u001b[39m \u001b[30m\u001b[48;5;107m#59A14FFF\u001b[49m\u001b[39m \u001b[30m\u001b[48;5;150m#8CD17DFF\u001b[49m\u001b[39m \u001b[30m\u001b[48;5;179m#B6992DFF\u001b[49m\u001b[39m \u001b[30m\u001b[48;5;222m#F1CE63FF\u001b[49m\u001b[39m \u001b[30m\u001b[48;5;73m#499894FF\u001b[49m\u001b[39m \u001b[30m\u001b[48;5;152m#86BCB6FF\u001b[49m\u001b[39m \u001b[30m\u001b[48;5;210m#E15759FF\u001b[49m\u001b[39m \u001b[30m\u001b[48;5;217m#FF9D9AFF\u001b[49m\u001b[39m \u001b[37m\u001b[48;5;242m#79706EFF\u001b[49m\u001b[39m \u001b[30m\u001b[48;5;248m#BAB0ACFF\u001b[49m\u001b[39m \u001b[30m\u001b[48;5;175m#D37295FF\u001b[49m\u001b[39m \u001b[30m\u001b[48;5;224m#FABFD2FF\u001b[49m\u001b[39m \u001b[30m\u001b[48;5;175m#B07AA1FF\u001b[49m\u001b[39m \u001b[30m\u001b[48;5;182m#D4A6C8FF\u001b[49m\u001b[39m \u001b[30m\u001b[48;5;138m#9D7660FF\u001b[49m\u001b[39m \u001b[30m\u001b[48;5;223m#D7B5A6FF\u001b[49m\u001b[39m "
      ]
     },
     "metadata": {},
     "output_type": "display_data"
    }
   ],
   "source": [
    "library(paletteer) \n",
    "paletteer_d(\"ggthemes::Tableau_20\")"
   ]
  }
 ],
 "metadata": {
  "kernelspec": {
   "display_name": "Python 3.8.3 ('base')",
   "language": "python",
   "name": "python3"
  },
  "language_info": {
   "codemirror_mode": "r",
   "file_extension": ".r",
   "mimetype": "text/x-r-source",
   "name": "python",
   "pygments_lexer": "r",
   "version": "3.8.3"
  },
  "orig_nbformat": 4,
  "vscode": {
   "interpreter": {
    "hash": "a0f669ea42a4dcea88d385f8f9b4c3d9b966e24234758831d1dbfdac925619a2"
   }
  }
 },
 "nbformat": 4,
 "nbformat_minor": 2
}
