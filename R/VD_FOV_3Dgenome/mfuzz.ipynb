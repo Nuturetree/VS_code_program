{
 "cells": [
  {
   "cell_type": "code",
   "execution_count": 1,
   "metadata": {
    "vscode": {
     "languageId": "r"
    }
   },
   "outputs": [
    {
     "name": "stderr",
     "output_type": "stream",
     "text": [
      "载入需要的程辑包：Biobase\n",
      "\n",
      "载入需要的程辑包：BiocGenerics\n",
      "\n",
      "载入需要的程辑包：parallel\n",
      "\n",
      "\n",
      "载入程辑包：'BiocGenerics'\n",
      "\n",
      "\n",
      "The following objects are masked from 'package:parallel':\n",
      "\n",
      "    clusterApply, clusterApplyLB, clusterCall, clusterEvalQ,\n",
      "    clusterExport, clusterMap, parApply, parCapply, parLapply,\n",
      "    parLapplyLB, parRapply, parSapply, parSapplyLB\n",
      "\n",
      "\n",
      "The following objects are masked from 'package:stats':\n",
      "\n",
      "    IQR, mad, sd, var, xtabs\n",
      "\n",
      "\n",
      "The following objects are masked from 'package:base':\n",
      "\n",
      "    anyDuplicated, append, as.data.frame, basename, cbind, colnames,\n",
      "    dirname, do.call, duplicated, eval, evalq, Filter, Find, get, grep,\n",
      "    grepl, intersect, is.unsorted, lapply, Map, mapply, match, mget,\n",
      "    order, paste, pmax, pmax.int, pmin, pmin.int, Position, rank,\n",
      "    rbind, Reduce, rownames, sapply, setdiff, sort, table, tapply,\n",
      "    union, unique, unsplit, which.max, which.min\n",
      "\n",
      "\n",
      "Welcome to Bioconductor\n",
      "\n",
      "    Vignettes contain introductory material; view with\n",
      "    'browseVignettes()'. To cite Bioconductor, see\n",
      "    'citation(\"Biobase\")', and for packages 'citation(\"pkgname\")'.\n",
      "\n",
      "\n",
      "载入需要的程辑包：e1071\n",
      "\n",
      "\n",
      "载入程辑包：'DynDoc'\n",
      "\n",
      "\n",
      "The following object is masked from 'package:BiocGenerics':\n",
      "\n",
      "    path\n",
      "\n",
      "\n"
     ]
    },
    {
     "name": "stdout",
     "output_type": "stream",
     "text": [
      "0 genes excluded.\n",
      "9 genes excluded.\n"
     ]
    },
    {
     "data": {
      "image/png": "[encoded data removed]",
      "text/plain": [
       "plot without title"
      ]
     },
     "metadata": {
      "image/png": {
       "height": 420,
       "width": 420
      }
     },
     "output_type": "display_data"
    }
   ],
   "source": [
    "library(Mfuzz)\n",
    "setwd(\"G:/VD_FOV_3Dgenome/RNA_Seq/DEG/Go_terms/top34\")\n",
    "df = read.table(\"dynamic_diff_glr19_gene.txt\", sep='\\t',header=T, row.names=1)\n",
    "df_matrix = as.matrix(df)\n",
    "#df_matrix <- df_matrix[1:30,]\n",
    "#df_matrix\n",
    "df_data <- new('ExpressionSet', exprs=df_matrix)\n",
    "# # 处理 NA 值\n",
    "df_data <- filter.NA(df_data, thres=0.25)\n",
    "df_data <- fill.NA(df_data, mode = 'mean')\n",
    "# # #根据标准差去除样本间差异太小的基因\n",
    "df_data <- filter.std(df_data, min.std=0)\n",
    "# # # 标准化\n",
    "df_data <- standardise(df_data)\n",
    "# # # 定义聚类数量\n",
    "n <- 12\n",
    "# #评估出最佳的 m 值，防止随机数据聚类\n",
    "m <- mestimate(df_data)\n",
    "set.seed(123)\n",
    "cl <- mfuzz(df_data, c = n, m = m)\n",
    "mfuzz.plot(df_data, cl = cl, mfrow = c(3, 4), time.labels = seq(0, 7, 1))"
   ]
  },
  {
   "cell_type": "code",
   "execution_count": null,
   "metadata": {
    "vscode": {
     "languageId": "r"
    }
   },
   "outputs": [],
   "source": []
  }
 ],
 "metadata": {
  "kernelspec": {
   "display_name": "R",
   "language": "R",
   "name": "ir"
  },
  "language_info": {
   "codemirror_mode": "r",
   "file_extension": ".r",
   "mimetype": "text/x-r-source",
   "name": "R",
   "pygments_lexer": "r",
   "version": "4.1.2"
  },
  "orig_nbformat": 4
 },
 "nbformat": 4,
 "nbformat_minor": 2
}
