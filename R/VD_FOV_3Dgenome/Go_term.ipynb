{
 "cells": [
  {
   "cell_type": "code",
   "execution_count": null,
   "metadata": {
    "vscode": {
     "languageId": "r"
    }
   },
   "outputs": [],
   "source": [
    "## 分析组织特异性表达基因Go 富集分析\n",
    "rm=list(ls())\n",
    "setwd('G:/Billfish/VD_FOV_3Dgenome/RNA_Seq/DEG/time_go_term')\n",
    "library(clusterProfiler)\n",
    "library(org.At.tair.db)\n",
    "df <- read.table(\"all_diff_exp_gene.bed\", sep='\\t', header=T)\n",
    "#tissues <- c(\"anthers\", 'cotyledon', 'hypocotyl', 'leaf', 'petals', 'radicle', 'root', 'stem', 'stigma', 'ovules', 'fiber_5DPA', 'fiber_10DPA', 'fiber_20DPA')\n",
    "tissues <- c('Glr19_mock_Fov7', 'J668_mock_Fov7', 'J668_mock_v991', 'mock_Glr19_J668', 'Fov7_Glr19_J668')\n",
    "times <- c('1min' , '5min', '10min', '30min', '90min', '180min', '12h')\n",
    "for (ts in tissues){\n",
    "    for (t in times)\n",
    "    {\n",
    "        df_tissues = df[df$tags==ts & df$times==t, ]\n",
    "        #print(df_tissues)\n",
    "        output_f = paste(as.character(ts), \"_\", as.character(t), \"_GO.bed\", sep=\"\")\n",
    "        df_tissues_gid = df_tissues$TAIRID\n",
    "        ego = enrichGO(df_tissues_gid, OrgDb = \"org.At.tair.db\", keyType=\"TAIR\", ont = \"ALL\", pAdjustMethod = \"BH\", pvalueCutoff  = 0.01, qvalueCutoff  = 0.05, readable= TRUE)\n",
    "        write.table(summary(ego), output_f, sep='\\t', row.names=FALSE)\n",
    "    }\n",
    "}\n"
   ]
  },
  {
   "cell_type": "code",
   "execution_count": null,
   "metadata": {
    "vscode": {
     "languageId": "r"
    }
   },
   "outputs": [],
   "source": [
    "## 分析组织特异性表达基因Go 富集分析\n",
    "rm=list(ls())\n",
    "setwd('G:/Billfish/VD_FOV_3Dgenome/RNA_Seq/TAU/Go term')\n",
    "library(clusterProfiler)\n",
    "library(org.At.tair.db)\n",
    "df <- read.table(\"all_time_diff_gene_TAIR.bed\", sep='\\t', header=T)\n",
    "#tissues <- c(\"anthers\", 'cotyledon', 'hypocotyl', 'leaf', 'petals', 'radicle', 'root', 'stem', 'stigma', 'ovules', 'fiber_5DPA', 'fiber_10DPA', 'fiber_20DPA')\n",
    "tissues <- c('Glr19_mock_Fov7', 'J668_mock_Fov7', 'J668_mock_v991', 'mock_Glr19_J668', 'Fov7_Glr19_J668')\n",
    "times <- c('0min', '1min' , '5min', '10min', '30min', '90min', '180min', '12h')\n",
    "for (ts in tissues){\n",
    "    for (t in times)\n",
    "    {\n",
    "        df_tissues = df[df$tags==ts & df$times==t, ]\n",
    "        #print(df_tissues)\n",
    "        output_f = paste(as.character(ts), \"_\", as.character(t), \"_GO.bed\", sep=\"\")\n",
    "        df_tissues_gid = df_tissues$TAIRID\n",
    "        ego = enrichGO(df_tissues_gid, OrgDb = \"org.At.tair.db\", keyType=\"TAIR\", ont = \"ALL\", pAdjustMethod = \"BH\", pvalueCutoff  = 0.1, qvalueCutoff  = 0.1, readable= TRUE)\n",
    "        #ego = enrichGO(df_tissue_gid, OrgDb = \"org.At.tair.db\", keyType=\"TAIR\", ont = \"ALL\", pAdjustMethod = \"BH\", pvalueCutoff  = 0.01, qvalueCutoff  = 0.05, readable= TRUE)\n",
    "        write.table(summary(ego), output_f, sep='\\t', row.names=FALSE)\n",
    "    }\n",
    "}\n"
   ]
  },
  {
   "cell_type": "code",
   "execution_count": null,
   "metadata": {
    "vscode": {
     "languageId": "r"
    }
   },
   "outputs": [],
   "source": [
    "## 用clusterProfiler 来分析Go terms\n",
    "rm=list(ls())\n",
    "setwd('G:/Billfish/VD_FOV_3Dgenome/RNA_Seq/DEG/DEG_type/J668_Fov7_V991')\n",
    "library(clusterProfiler)\n",
    "library(org.At.tair.db)\n",
    "df <- read.table(\"J668_Fov7_V991_DEGtype.bed\", sep='\\t', header=T)\n",
    "#tissues <- c(\"anthers\", 'cotyledon', 'hypocotyl', 'leaf', 'petals', 'radicle', 'root', 'stem', 'stigma', 'ovules', 'fiber_5DPA', 'fiber_10DPA', 'fiber_20DPA')\n",
    "tissues <- c('BF_uniq', 'LT_uniq', 'Down_Down', 'Up_Up', 'opposite')\n",
    "times <- c( '1min' , '5min', '10min', '30min', '90min', '180min', '720min')\n",
    "for (ts in tissues){\n",
    "    for (t in times)\n",
    "    {\n",
    "        df_tissues = df[df$tags==ts & df$times==t, ]\n",
    "        #print(df_tissues)\n",
    "        output_f = paste(as.character(ts), \"_\", as.character(t), \"_GO.bed\", sep=\"\")\n",
    "        df_tissues_gid = df_tissues$TAIRID\n",
    "        ego = enrichGO(df_tissues_gid, OrgDb = \"org.At.tair.db\", keyType=\"TAIR\", ont = \"ALL\", pAdjustMethod = \"BH\", pvalueCutoff  = 0.01, qvalueCutoff  = 0.05, readable= TRUE)\n",
    "        write.table(summary(ego), output_f, sep='\\t', row.names=FALSE)\n",
    "    }\n",
    "}"
   ]
  },
  {
   "cell_type": "code",
   "execution_count": null,
   "metadata": {
    "vscode": {
     "languageId": "r"
    }
   },
   "outputs": [],
   "source": [
    "## 用clusterProfiler 来分析Go terms\n",
    "rm=list(ls())\n",
    "setwd('G:/Billfish/VD_FOV_3Dgenome/RNA_Seq/DEG/DEG_type/J668_Glr19_Fov7/Go_clusterprofiler')\n",
    "library(clusterProfiler)\n",
    "library(org.At.tair.db)\n",
    "#df <- read.table(\"J668_Fov7_V991_DEGtype.bed\", sep='\\t', header=T)\n",
    "tissues <- c('BF_uniq', 'LT_uniq', 'Down_Down', 'Up_Up', 'opposite')\n",
    "times <- c( '1min' , '5min', '10min', '30min', '90min', '180min', '720min')\n",
    "for (ts in tissues){\n",
    "    for (t in times)\n",
    "    {\n",
    "        input_f = paste(\"J668_Glr19_Fov7\", \"_\", as.character(t),\"_\", as.character(ts), \"_TAIR.bed\", sep=\"\")\n",
    "        df_tissues = read.table(input_f, sep='\\t', header=T)\n",
    "        output_f = paste(as.character(ts), \"_\", as.character(t), \"_GO.bed\", sep=\"\")\n",
    "        df_tissues_gid = df_tissues$TAIRID\n",
    "        ego = enrichGO(df_tissues_gid, OrgDb = \"org.At.tair.db\", keyType=\"TAIR\", ont = \"ALL\", pAdjustMethod = \"BH\", pvalueCutoff  = 0.01, qvalueCutoff  = 0.05, readable= TRUE)\n",
    "        write.table(summary(ego), output_f, sep='\\t', row.names=FALSE)\n",
    "    }\n",
    "}"
   ]
  },
  {
   "cell_type": "code",
   "execution_count": null,
   "metadata": {
    "vscode": {
     "languageId": "r"
    }
   },
   "outputs": [],
   "source": [
    "## 分析0min vs other time 间的差异表达基因的Go terms\n",
    "rm=list(ls())\n",
    "setwd('G:/Billfish/VD_FOV_3Dgenome/RNA_Seq/DEG/0min_DEG/')\n",
    "library(clusterProfiler)\n",
    "library(org.At.tair.db)\n",
    "types <- c('J668', 'Glr19')\n",
    "times <- list('1min', '5min', '10min', '30min', '90min', '180min', '720min')\n",
    "for (tp in types)\n",
    "{\n",
    "    for (t in times)\n",
    "    {\n",
    "        input_f = paste(tp, '/', t, '/', tp, '_0min_', t ,'_mock_DEG_TAIR.bed', sep=\"\")\n",
    "        output_f = paste( 'DEG_Go/', tp, '_0min_', t ,'_mock_GO.bed', sep=\"\")\n",
    "        df = read.table(input_f, sep='\\t', header=T)\n",
    "        df_gid = df$TAIRID\n",
    "        ego = enrichGO(df_gid, OrgDb = \"org.At.tair.db\", keyType=\"TAIR\", ont = \"ALL\", pAdjustMethod = \"BH\", pvalueCutoff  = 0.01, qvalueCutoff  = 0.05, readable= TRUE)\n",
    "        write.table(summary(ego), output_f, sep='\\t', row.names=FALSE)\n",
    "    }\n",
    "\n",
    "}"
   ]
  }
 ],
 "metadata": {
  "kernelspec": {
   "display_name": "R",
   "language": "R",
   "name": "ir"
  },
  "language_info": {
   "codemirror_mode": "r",
   "file_extension": ".r",
   "mimetype": "text/x-r-source",
   "name": "R",
   "pygments_lexer": "r",
   "version": "4.2.1"
  },
  "orig_nbformat": 4,
  "vscode": {
   "interpreter": {
    "hash": "a0f669ea42a4dcea88d385f8f9b4c3d9b966e24234758831d1dbfdac925619a2"
   }
  }
 },
 "nbformat": 4,
 "nbformat_minor": 2
}
