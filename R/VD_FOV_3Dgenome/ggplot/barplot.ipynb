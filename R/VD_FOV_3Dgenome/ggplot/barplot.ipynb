{
 "cells": [
  {
   "cell_type": "code",
   "execution_count": null,
   "metadata": {
    "vscode": {
     "languageId": "r"
    }
   },
   "outputs": [],
   "source": [
    "# 统计所有时期差异基因数目\n",
    "rm(list = ls())\n",
    "#options(repr.plot.width=2,repr.plot.height=2.5)\n",
    "setwd('G:/Billfish/VD_FOV_3Dgenome/RNA_Seq/TAU')\n",
    "library(ggplot2)\n",
    "library(ggpubr)\n",
    "df <- read.csv('all_time_diff_gene_number.bed', sep = '\\t', header = T)\n",
    "df <- within(df, time <- factor(time, levels = c(\"0min\", \"1min\", \"5min\", \"10min\", \"30min\", \"90min\", \"180min\", \"12h\")))\n",
    "with(df, levels(time))\n",
    "df <- within(df, tags <- factor(tags, levels = c(\"glr_mock_fov7\", \"j668_mock_fov7\", \"j668_mock_v991\", \"mock_glr_j668\", \"fov7_glr_j668\")))\n",
    "with(df, levels(tags))\n",
    "#fg <- ggplot(df, aes(x=down, y=time))+\n",
    "fg <- ggplot(df, aes(x=up, y=time))+\n",
    "geom_bar(stat = \"identity\", position = \"stack\")+\n",
    "labs(x=NULL, y='Proportion of eqtls')+\n",
    "facet_grid(tags~.)+\n",
    "coord_cartesian(xlim = c(0, 1200)) +\n",
    "theme(panel.background = element_blank(), \n",
    "     panel.grid = element_blank(),\n",
    "     axis.line=element_line(linetype=1,color=\"black\"),\n",
    "     axis.text=element_text(color=\"black\"),\n",
    "     legend.position='top',\n",
    "     axis.ticks.length = unit(0.25, 'cm')\n",
    "     )\n",
    "fg\n",
    "#ggsave(plot =fg, filename = 'all_time_diff_gene_number_down.pdf', height =5, width = 3)\n",
    "ggsave(plot =fg, filename = 'all_time_diff_gene_number_up.pdf', height =5, width = 3)\n"
   ]
  },
  {
   "cell_type": "code",
   "execution_count": 11,
   "metadata": {
    "vscode": {
     "languageId": "r"
    }
   },
   "outputs": [
    {
     "data": {
      "text/html": [
       "<style>\n",
       ".list-inline {list-style: none; margin:0; padding: 0}\n",
       ".list-inline>li {display: inline-block}\n",
       ".list-inline>li:not(:last-child)::after {content: \"\\00b7\"; padding: 0 .5ex}\n",
       "</style>\n",
       "<ol class=list-inline><li>'1min'</li><li>'5min'</li><li>'10min'</li><li>'30min'</li><li>'90min'</li><li>'180min'</li><li>'12h'</li></ol>\n"
      ],
      "text/latex": [
       "\\begin{enumerate*}\n",
       "\\item '1min'\n",
       "\\item '5min'\n",
       "\\item '10min'\n",
       "\\item '30min'\n",
       "\\item '90min'\n",
       "\\item '180min'\n",
       "\\item '12h'\n",
       "\\end{enumerate*}\n"
      ],
      "text/markdown": [
       "1. '1min'\n",
       "2. '5min'\n",
       "3. '10min'\n",
       "4. '30min'\n",
       "5. '90min'\n",
       "6. '180min'\n",
       "7. '12h'\n",
       "\n",
       "\n"
      ],
      "text/plain": [
       "[1] \"1min\"   \"5min\"   \"10min\"  \"30min\"  \"90min\"  \"180min\" \"12h\"   "
      ]
     },
     "metadata": {},
     "output_type": "display_data"
    },
    {
     "data": {
      "text/html": [
       "<style>\n",
       ".list-inline {list-style: none; margin:0; padding: 0}\n",
       ".list-inline>li {display: inline-block}\n",
       ".list-inline>li:not(:last-child)::after {content: \"\\00b7\"; padding: 0 .5ex}\n",
       "</style>\n",
       "<ol class=list-inline><li>'Glr19_mock_Fov7'</li><li>'J668_mock_Fov7'</li><li>'J668_mock_v991'</li><li>'mock_Glr19_J668'</li><li>'Fov7_Glr19_J668'</li></ol>\n"
      ],
      "text/latex": [
       "\\begin{enumerate*}\n",
       "\\item 'Glr19\\_mock\\_Fov7'\n",
       "\\item 'J668\\_mock\\_Fov7'\n",
       "\\item 'J668\\_mock\\_v991'\n",
       "\\item 'mock\\_Glr19\\_J668'\n",
       "\\item 'Fov7\\_Glr19\\_J668'\n",
       "\\end{enumerate*}\n"
      ],
      "text/markdown": [
       "1. 'Glr19_mock_Fov7'\n",
       "2. 'J668_mock_Fov7'\n",
       "3. 'J668_mock_v991'\n",
       "4. 'mock_Glr19_J668'\n",
       "5. 'Fov7_Glr19_J668'\n",
       "\n",
       "\n"
      ],
      "text/plain": [
       "[1] \"Glr19_mock_Fov7\" \"J668_mock_Fov7\"  \"J668_mock_v991\"  \"mock_Glr19_J668\"\n",
       "[5] \"Fov7_Glr19_J668\""
      ]
     },
     "metadata": {},
     "output_type": "display_data"
    },
    {
     "data": {
      "image/png": "[encoded data removed]",
      "text/plain": [
       "plot without title"
      ]
     },
     "metadata": {
      "image/png": {
       "height": 420,
       "width": 420
      }
     },
     "output_type": "display_data"
    }
   ],
   "source": [
    "# 统计所有相邻时期差异表达基因数目\n",
    "rm(list = ls())\n",
    "#options(repr.plot.width=2,repr.plot.height=2.5)\n",
    "setwd('G:/Billfish/VD_FOV_3Dgenome/RNA_Seq/DEG')\n",
    "library(ggplot2)\n",
    "library(ggpubr)\n",
    "df <- read.csv('all_diff_exp_gene_number.bed', sep = '\\t', header = T)\n",
    "df <- within(df, times <- factor(times, levels = c(\"1min\", \"5min\", \"10min\", \"30min\", \"90min\", \"180min\", \"12h\")))\n",
    "with(df, levels(times))\n",
    "df <- within(df, tags <- factor(tags, levels = c(\"Glr19_mock_Fov7\", \"J668_mock_Fov7\", \"J668_mock_v991\", \"mock_Glr19_J668\", \"Fov7_Glr19_J668\")))\n",
    "with(df, levels(tags))\n",
    "df_choose <- df[df$sig=='Down', ]\n",
    "#df_choose <- df[df$sig=='Up', ]\n",
    "\n",
    "#fg <- ggplot(df, aes(x=down, y=time))+\n",
    "fg <- ggplot(df_choose, aes(x=number, y=times))+\n",
    "geom_bar(stat = \"identity\", position = \"stack\")+\n",
    "labs(x=NULL, y='Proportion of eqtls')+\n",
    "facet_grid(tags~.)+\n",
    "coord_cartesian(xlim = c(0, 6200)) +\n",
    "theme(panel.background = element_blank(), \n",
    "     panel.grid = element_blank(),\n",
    "     axis.line=element_line(linetype=1,color=\"black\"),\n",
    "     axis.text=element_text(color=\"black\"),\n",
    "     legend.position='top',\n",
    "     axis.ticks.length = unit(0.25, 'cm')\n",
    "     )\n",
    "fg\n",
    "#ggsave(plot =fg, filename = 'all_diff_exp_gene_number_up.pdf', height =5, width = 3)\n",
    "ggsave(plot =fg, filename = 'all_diff_exp_gene_number_down.pdf', height =5, width = 3)\n"
   ]
  },
  {
   "cell_type": "code",
   "execution_count": 5,
   "metadata": {
    "vscode": {
     "languageId": "r"
    }
   },
   "outputs": [
    {
     "data": {
      "text/html": [
       "<style>\n",
       ".list-inline {list-style: none; margin:0; padding: 0}\n",
       ".list-inline>li {display: inline-block}\n",
       ".list-inline>li:not(:last-child)::after {content: \"\\00b7\"; padding: 0 .5ex}\n",
       "</style>\n",
       "<ol class=list-inline><li>'1min'</li><li>'5min'</li><li>'10min'</li><li>'30min'</li><li>'90min'</li><li>'180min'</li><li>'12h'</li></ol>\n"
      ],
      "text/latex": [
       "\\begin{enumerate*}\n",
       "\\item '1min'\n",
       "\\item '5min'\n",
       "\\item '10min'\n",
       "\\item '30min'\n",
       "\\item '90min'\n",
       "\\item '180min'\n",
       "\\item '12h'\n",
       "\\end{enumerate*}\n"
      ],
      "text/markdown": [
       "1. '1min'\n",
       "2. '5min'\n",
       "3. '10min'\n",
       "4. '30min'\n",
       "5. '90min'\n",
       "6. '180min'\n",
       "7. '12h'\n",
       "\n",
       "\n"
      ],
      "text/plain": [
       "[1] \"1min\"   \"5min\"   \"10min\"  \"30min\"  \"90min\"  \"180min\" \"12h\"   "
      ]
     },
     "metadata": {},
     "output_type": "display_data"
    },
    {
     "data": {
      "text/html": [
       "<style>\n",
       ".list-inline {list-style: none; margin:0; padding: 0}\n",
       ".list-inline>li {display: inline-block}\n",
       ".list-inline>li:not(:last-child)::after {content: \"\\00b7\"; padding: 0 .5ex}\n",
       "</style>\n",
       "<ol class=list-inline><li>'Glr19_mock_Fov7'</li><li>'J668_mock_Fov7'</li><li>'J668_mock_v991'</li><li>'mock_Glr19_J668'</li><li>'Fov7_Glr19_J668'</li></ol>\n"
      ],
      "text/latex": [
       "\\begin{enumerate*}\n",
       "\\item 'Glr19\\_mock\\_Fov7'\n",
       "\\item 'J668\\_mock\\_Fov7'\n",
       "\\item 'J668\\_mock\\_v991'\n",
       "\\item 'mock\\_Glr19\\_J668'\n",
       "\\item 'Fov7\\_Glr19\\_J668'\n",
       "\\end{enumerate*}\n"
      ],
      "text/markdown": [
       "1. 'Glr19_mock_Fov7'\n",
       "2. 'J668_mock_Fov7'\n",
       "3. 'J668_mock_v991'\n",
       "4. 'mock_Glr19_J668'\n",
       "5. 'Fov7_Glr19_J668'\n",
       "\n",
       "\n"
      ],
      "text/plain": [
       "[1] \"Glr19_mock_Fov7\" \"J668_mock_Fov7\"  \"J668_mock_v991\"  \"mock_Glr19_J668\"\n",
       "[5] \"Fov7_Glr19_J668\""
      ]
     },
     "metadata": {},
     "output_type": "display_data"
    },
    {
     "data": {
      "image/png": "[encoded data removed]",
      "text/plain": [
       "plot without title"
      ]
     },
     "metadata": {
      "image/png": {
       "height": 420,
       "width": 420
      }
     },
     "output_type": "display_data"
    }
   ],
   "source": [
    "# 统计所有相邻时期差异表达基因,并且具有组织特异性表达的基因\n",
    "rm(list = ls())\n",
    "#options(repr.plot.width=2,repr.plot.height=2.5)\n",
    "setwd('G:/Billfish/VD_FOV_3Dgenome/RNA_Seq/TAU/diff_exp_gene')\n",
    "library(ggplot2)\n",
    "library(ggpubr)\n",
    "df <- read.csv('all_time_diff_exp_gene_number.bed', sep = '\\t', header = T)\n",
    "df <- within(df, times <- factor(times, levels = c(\"1min\", \"5min\", \"10min\", \"30min\", \"90min\", \"180min\", \"12h\")))\n",
    "with(df, levels(times))\n",
    "df <- within(df, tags <- factor(tags, levels = c(\"Glr19_mock_Fov7\", \"J668_mock_Fov7\", \"J668_mock_v991\", \"mock_Glr19_J668\", \"Fov7_Glr19_J668\")))\n",
    "with(df, levels(tags))\n",
    "df_choose <- df[df$sig=='Down', ]\n",
    "#df_choose <- df[df$sig=='Up', ]\n",
    "\n",
    "#fg <- ggplot(df, aes(x=down, y=time))+\n",
    "fg <- ggplot(df_choose, aes(x=number, y=times))+\n",
    "geom_bar(stat = \"identity\", position = \"stack\")+\n",
    "labs(x=NULL, y='Proportion of eqtls')+\n",
    "facet_grid(tags~.)+\n",
    "coord_cartesian(xlim = c(0, 520)) +\n",
    "theme(panel.background = element_blank(), \n",
    "     panel.grid = element_blank(),\n",
    "     axis.line=element_line(linetype=1,color=\"black\"),\n",
    "     axis.text=element_text(color=\"black\"),\n",
    "     legend.position='top',\n",
    "     axis.ticks.length = unit(0.25, 'cm')\n",
    "     )\n",
    "fg\n",
    "#ggsave(plot =fg, filename = 'all_diff_exp_gene_number_up.pdf', height =5, width = 3)\n",
    "ggsave(plot =fg, filename = 'all_time_diff_exp_gene_number_Down.pdf', height =5, width = 3)"
   ]
  },
  {
   "cell_type": "code",
   "execution_count": 38,
   "metadata": {
    "vscode": {
     "languageId": "r"
    }
   },
   "outputs": [
    {
     "data": {
      "text/html": [
       "<style>\n",
       ".list-inline {list-style: none; margin:0; padding: 0}\n",
       ".list-inline>li {display: inline-block}\n",
       ".list-inline>li:not(:last-child)::after {content: \"\\00b7\"; padding: 0 .5ex}\n",
       "</style>\n",
       "<ol class=list-inline><li>'1 min'</li><li>'5 min'</li><li>'10 min'</li><li>'30 min'</li><li>'90 min'</li><li>'180 min'</li><li>'720 min'</li></ol>\n"
      ],
      "text/latex": [
       "\\begin{enumerate*}\n",
       "\\item '1 min'\n",
       "\\item '5 min'\n",
       "\\item '10 min'\n",
       "\\item '30 min'\n",
       "\\item '90 min'\n",
       "\\item '180 min'\n",
       "\\item '720 min'\n",
       "\\end{enumerate*}\n"
      ],
      "text/markdown": [
       "1. '1 min'\n",
       "2. '5 min'\n",
       "3. '10 min'\n",
       "4. '30 min'\n",
       "5. '90 min'\n",
       "6. '180 min'\n",
       "7. '720 min'\n",
       "\n",
       "\n"
      ],
      "text/plain": [
       "[1] \"1 min\"   \"5 min\"   \"10 min\"  \"30 min\"  \"90 min\"  \"180 min\" \"720 min\""
      ]
     },
     "metadata": {},
     "output_type": "display_data"
    },
    {
     "data": {
      "text/html": [
       "<style>\n",
       ".list-inline {list-style: none; margin:0; padding: 0}\n",
       ".list-inline>li {display: inline-block}\n",
       ".list-inline>li:not(:last-child)::after {content: \"\\00b7\"; padding: 0 .5ex}\n",
       "</style>\n",
       "<ol class=list-inline><li>'BF_uniq'</li><li>'LT_uniq'</li><li>'Up_Up'</li><li>'Down_Down'</li><li>'opposite'</li></ol>\n"
      ],
      "text/latex": [
       "\\begin{enumerate*}\n",
       "\\item 'BF\\_uniq'\n",
       "\\item 'LT\\_uniq'\n",
       "\\item 'Up\\_Up'\n",
       "\\item 'Down\\_Down'\n",
       "\\item 'opposite'\n",
       "\\end{enumerate*}\n"
      ],
      "text/markdown": [
       "1. 'BF_uniq'\n",
       "2. 'LT_uniq'\n",
       "3. 'Up_Up'\n",
       "4. 'Down_Down'\n",
       "5. 'opposite'\n",
       "\n",
       "\n"
      ],
      "text/plain": [
       "[1] \"BF_uniq\"   \"LT_uniq\"   \"Up_Up\"     \"Down_Down\" \"opposite\" "
      ]
     },
     "metadata": {},
     "output_type": "display_data"
    },
    {
     "data": {
      "image/png": "[encoded data removed]",
      "text/plain": [
       "plot without title"
      ]
     },
     "metadata": {
      "image/png": {
       "height": 420,
       "width": 420
      }
     },
     "output_type": "display_data"
    }
   ],
   "source": [
    "# 差异表达基因类型\n",
    "rm(list = ls())\n",
    "#options(repr.plot.width=2,repr.plot.height=2.5)\n",
    "setwd('G:/Billfish/VD_FOV_3Dgenome/RNA_Seq/DEG/DEG_type')\n",
    "library(ggplot2)\n",
    "library(ggpubr)\n",
    "df <- read.csv('DEG_type_number_J668_Fov7.bed', sep = '\\t', header = T)\n",
    "df <- within(df, times <- factor(times, levels = c(\"1 min\", \"5 min\", \"10 min\", \"30 min\", \"90 min\", \"180 min\", \"720 min\")))\n",
    "with(df, levels(times))\n",
    "df <- within(df, tags <- factor(tags, levels = c(\"BF_uniq\", \"LT_uniq\", \"Up_Up\", \"Down_Down\", 'opposite')))\n",
    "with(df, levels(tags))\n",
    "fg <- ggplot(df, aes(x=times, y=ratio, fill=tags))+\n",
    "facet_grid(.~sig)+\n",
    "geom_bar(stat = \"identity\", position = \"stack\", color = \"black\")+\n",
    "labs(x=NULL, y='Proportion of gene')+\n",
    "theme(panel.background = element_blank(), \n",
    "     panel.grid = element_blank(),\n",
    "     axis.line=element_line(linetype=1,color=\"black\"),\n",
    "     axis.text.x=element_text(color=\"black\", angle=315, hjust=0),\n",
    "     axis.text.y=element_text(color=\"black\"),\n",
    "     legend.position='top',\n",
    "     axis.ticks.length = unit(0.25, 'cm')\n",
    "     ) +\n",
    "     scale_fill_manual(values = c(\"#b3844f\", \"#F2A83BFF\", \"#8AC1D4FF\", \"#66C84DFF\", \"#DF89E8FF\"))\n",
    "fg\n",
    "ggsave(plot =fg, filename = 'DEG_type_number_J668_Fov7.pdf', height =4, width = 4)"
   ]
  },
  {
   "cell_type": "code",
   "execution_count": 65,
   "metadata": {
    "vscode": {
     "languageId": "r"
    }
   },
   "outputs": [
    {
     "data": {
      "text/html": [
       "<style>\n",
       ".list-inline {list-style: none; margin:0; padding: 0}\n",
       ".list-inline>li {display: inline-block}\n",
       ".list-inline>li:not(:last-child)::after {content: \"\\00b7\"; padding: 0 .5ex}\n",
       "</style>\n",
       "<ol class=list-inline><li>'1min'</li><li>'5min'</li><li>'10min'</li><li>'30min'</li><li>'90min'</li><li>'180min'</li><li>'720min'</li></ol>\n"
      ],
      "text/latex": [
       "\\begin{enumerate*}\n",
       "\\item '1min'\n",
       "\\item '5min'\n",
       "\\item '10min'\n",
       "\\item '30min'\n",
       "\\item '90min'\n",
       "\\item '180min'\n",
       "\\item '720min'\n",
       "\\end{enumerate*}\n"
      ],
      "text/markdown": [
       "1. '1min'\n",
       "2. '5min'\n",
       "3. '10min'\n",
       "4. '30min'\n",
       "5. '90min'\n",
       "6. '180min'\n",
       "7. '720min'\n",
       "\n",
       "\n"
      ],
      "text/plain": [
       "[1] \"1min\"   \"5min\"   \"10min\"  \"30min\"  \"90min\"  \"180min\" \"720min\""
      ]
     },
     "metadata": {},
     "output_type": "display_data"
    },
    {
     "data": {
      "text/html": [
       "<style>\n",
       ".list-inline {list-style: none; margin:0; padding: 0}\n",
       ".list-inline>li {display: inline-block}\n",
       ".list-inline>li:not(:last-child)::after {content: \"\\00b7\"; padding: 0 .5ex}\n",
       "</style>\n",
       "<ol class=list-inline><li>'Glr19_Fov7'</li><li>'J668_Fov7'</li><li>'J668_V991'</li><li>'J668_Glr19_F'</li><li>'Fov7_V991'</li><li>'J668_Glr19_M'</li></ol>\n"
      ],
      "text/latex": [
       "\\begin{enumerate*}\n",
       "\\item 'Glr19\\_Fov7'\n",
       "\\item 'J668\\_Fov7'\n",
       "\\item 'J668\\_V991'\n",
       "\\item 'J668\\_Glr19\\_F'\n",
       "\\item 'Fov7\\_V991'\n",
       "\\item 'J668\\_Glr19\\_M'\n",
       "\\end{enumerate*}\n"
      ],
      "text/markdown": [
       "1. 'Glr19_Fov7'\n",
       "2. 'J668_Fov7'\n",
       "3. 'J668_V991'\n",
       "4. 'J668_Glr19_F'\n",
       "5. 'Fov7_V991'\n",
       "6. 'J668_Glr19_M'\n",
       "\n",
       "\n"
      ],
      "text/plain": [
       "[1] \"Glr19_Fov7\"   \"J668_Fov7\"    \"J668_V991\"    \"J668_Glr19_F\" \"Fov7_V991\"   \n",
       "[6] \"J668_Glr19_M\""
      ]
     },
     "metadata": {},
     "output_type": "display_data"
    },
    {
     "data": {
      "image/png": "[encoded data removed]",
      "text/plain": [
       "plot without title"
      ]
     },
     "metadata": {
      "image/png": {
       "height": 420,
       "width": 420
      }
     },
     "output_type": "display_data"
    }
   ],
   "source": [
    "# 统计所有相邻时期差异表达基因,并且具有组织特异性表达的基因\n",
    "rm(list = ls())\n",
    "setwd('G:/Billfish/VD_FOV_3Dgenome/RNA_Seq/DEG')\n",
    "library(ggplot2)\n",
    "library(ggpubr)\n",
    "df <- read.csv('all_diff_exp_gene_number2.bed', sep = '\\t', header = T)\n",
    "df <- within(df, times <- factor(times, levels = c(\"1min\", \"5min\", \"10min\", \"30min\", \"90min\", \"180min\", \"720min\")))\n",
    "with(df, levels(times))\n",
    "df <- within(df, tags <- factor(tags, levels = c(\"Glr19_Fov7\", \"J668_Fov7\", \"J668_V991\", \"J668_Glr19_F\", \"Fov7_V991\", \"J668_Glr19_M\")))\n",
    "with(df, levels(tags))\n",
    "\n",
    "fg <- ggplot(df, aes(x=times, y=number, fill=tags))+\n",
    "geom_bar(stat = \"identity\", position = \"stack\", color=\"black\")+\n",
    "geom_line(aes(y=number, x=x_lab), size=0.5, color=\"#E64B35\")+\n",
    "geom_point(aes(y=number, x=times), size=2)+\n",
    "geom_text(aes(y=number, x=times, label=number, vjust=-0.7), size=3)+\n",
    "coord_cartesian(ylim = c(0, 15000)) +\n",
    "labs(x=NULL, y='Number of DEG')+\n",
    "facet_grid(tags~.)+\n",
    "theme(panel.background = element_blank(), \n",
    "     panel.grid = element_blank(),\n",
    "     axis.line=element_line(linetype=1,color=\"black\"),\n",
    "     axis.text=element_text(color=\"black\"),\n",
    "     legend.position='None',\n",
    "     axis.ticks.length = unit(0.25, 'cm')\n",
    "     )+\n",
    "scale_fill_manual(values=c('#D44827','#4157A6', '#9ECF80','#F38B8C','#8787C2','#F3943D' ))\n",
    "#scale_fill_manual(values=c('#654ABC', '#FF9A15', '#008080'))\n",
    "fg\n",
    "ggsave(plot =fg, filename = 'all_time_diff_exp_gene_number2.pdf', height =6, width = 5)"
   ]
  },
  {
   "cell_type": "code",
   "execution_count": 2,
   "metadata": {
    "vscode": {
     "languageId": "r"
    }
   },
   "outputs": [
    {
     "data": {
      "text/html": [
       "<style>\n",
       ".list-inline {list-style: none; margin:0; padding: 0}\n",
       ".list-inline>li {display: inline-block}\n",
       ".list-inline>li:not(:last-child)::after {content: \"\\00b7\"; padding: 0 .5ex}\n",
       "</style>\n",
       "<ol class=list-inline><li>'1min'</li><li>'5min'</li><li>'10min'</li><li>'30min'</li><li>'90min'</li><li>'180min'</li><li>'720min'</li></ol>\n"
      ],
      "text/latex": [
       "\\begin{enumerate*}\n",
       "\\item '1min'\n",
       "\\item '5min'\n",
       "\\item '10min'\n",
       "\\item '30min'\n",
       "\\item '90min'\n",
       "\\item '180min'\n",
       "\\item '720min'\n",
       "\\end{enumerate*}\n"
      ],
      "text/markdown": [
       "1. '1min'\n",
       "2. '5min'\n",
       "3. '10min'\n",
       "4. '30min'\n",
       "5. '90min'\n",
       "6. '180min'\n",
       "7. '720min'\n",
       "\n",
       "\n"
      ],
      "text/plain": [
       "[1] \"1min\"   \"5min\"   \"10min\"  \"30min\"  \"90min\"  \"180min\" \"720min\""
      ]
     },
     "metadata": {},
     "output_type": "display_data"
    },
    {
     "data": {
      "text/html": [
       "<style>\n",
       ".list-inline {list-style: none; margin:0; padding: 0}\n",
       ".list-inline>li {display: inline-block}\n",
       ".list-inline>li:not(:last-child)::after {content: \"\\00b7\"; padding: 0 .5ex}\n",
       "</style>\n",
       "<ol class=list-inline><li>'Glr19_mock-Glr19_Fov7'</li><li>'J668_Fov7-Glr19_Fov7'</li><li>'J668_mock-J668_Fov7'</li><li>'J668_mock-J668_V991'</li><li>'J668_Fov7-J668_V991'</li></ol>\n"
      ],
      "text/latex": [
       "\\begin{enumerate*}\n",
       "\\item 'Glr19\\_mock-Glr19\\_Fov7'\n",
       "\\item 'J668\\_Fov7-Glr19\\_Fov7'\n",
       "\\item 'J668\\_mock-J668\\_Fov7'\n",
       "\\item 'J668\\_mock-J668\\_V991'\n",
       "\\item 'J668\\_Fov7-J668\\_V991'\n",
       "\\end{enumerate*}\n"
      ],
      "text/markdown": [
       "1. 'Glr19_mock-Glr19_Fov7'\n",
       "2. 'J668_Fov7-Glr19_Fov7'\n",
       "3. 'J668_mock-J668_Fov7'\n",
       "4. 'J668_mock-J668_V991'\n",
       "5. 'J668_Fov7-J668_V991'\n",
       "\n",
       "\n"
      ],
      "text/plain": [
       "[1] \"Glr19_mock-Glr19_Fov7\" \"J668_Fov7-Glr19_Fov7\"  \"J668_mock-J668_Fov7\"  \n",
       "[4] \"J668_mock-J668_V991\"   \"J668_Fov7-J668_V991\"  "
      ]
     },
     "metadata": {},
     "output_type": "display_data"
    },
    {
     "data": {
      "image/png": "[encoded data removed]",
      "text/plain": [
       "plot without title"
      ]
     },
     "metadata": {
      "image/png": {
       "height": 420,
       "width": 420
      }
     },
     "output_type": "display_data"
    }
   ],
   "source": [
    "# 统计所有相邻时期差异表达基因,并且具有组织特异性表达的基因\n",
    "rm(list = ls())\n",
    "setwd('G:/Billfish/VD_FOV_3Dgenome/RNA_Seq_new/DEG')\n",
    "library(ggplot2)\n",
    "library(ggpubr)\n",
    "df <- read.csv('J668_Glr19_DEG_number.csv', header = T)\n",
    "df <- within(df, times <- factor(times, levels = c(\"1min\", \"5min\", \"10min\", \"30min\", \"90min\", \"180min\", \"720min\")))\n",
    "with(df, levels(times))\n",
    "df <- within(df, tags <- factor(tags, levels = c(\"Glr19_mock-Glr19_Fov7\", \"J668_Fov7-Glr19_Fov7\", \"J668_mock-J668_Fov7\", \"J668_mock-J668_V991\", \"J668_Fov7-J668_V991\")))\n",
    "with(df, levels(tags))\n",
    "\n",
    "fg <- ggplot(df, aes(x=times, y=number, fill=tags))+\n",
    "geom_bar(stat = \"identity\", position = \"stack\", color=\"black\")+\n",
    "geom_line(aes(y=number, x=x_lab), size=0.5, color=\"#E64B35\")+\n",
    "geom_point(aes(y=number, x=times), size=2)+\n",
    "geom_text(aes(y=number, x=times, label=number, vjust=-0.7), size=3)+\n",
    "coord_cartesian(ylim = c(0, 15000)) +\n",
    "labs(x=NULL, y='Number of DEG')+\n",
    "facet_grid(tags~.)+\n",
    "theme(panel.background = element_blank(), \n",
    "     panel.grid = element_blank(),\n",
    "     axis.line=element_line(linetype=1,color=\"black\"),\n",
    "     axis.text=element_text(color=\"black\"),\n",
    "     legend.position='None',\n",
    "     axis.ticks.length = unit(0.25, 'cm')\n",
    "     )+\n",
    "scale_fill_manual(values=c('#D44827','#4157A6', '#9ECF80','#F38B8C','#8787C2','#F3943D' ))\n",
    "#scale_fill_manual(values=c('#654ABC', '#FF9A15', '#008080'))\n",
    "fg\n",
    "ggsave(plot =fg, filename = 'J668_Glr19_DEG_number.pdf', height =4, width = 5)"
   ]
  },
  {
   "cell_type": "code",
   "execution_count": null,
   "metadata": {
    "vscode": {
     "languageId": "r"
    }
   },
   "outputs": [],
   "source": [
    "# 统计所有相邻时期差异表达基因,并且具有组织特异性表达的基因\n",
    "rm(list = ls())\n",
    "setwd('G:/Billfish/VD_FOV_3Dgenome/RNA_Seq/DEG')\n",
    "library(ggplot2)\n",
    "library(ggpubr)\n",
    "df <- read.csv('all_diff_exp_gene_number2.bed', sep = '\\t', header = T)\n",
    "df <- within(df, times <- factor(times, levels = c(\"1min\", \"5min\", \"10min\", \"30min\", \"90min\", \"180min\", \"720min\")))\n",
    "with(df, levels(times))\n",
    "df <- within(df, tags <- factor(tags, levels = c(\"Glr19_Fov7\", \"J668_Fov7\", \"J668_V991\", \"J668_Glr19_F\", \"Fov7_V991\", \"J668_Glr19_M\")))\n",
    "with(df, levels(tags))\n",
    "\n",
    "fg <- ggplot(df, aes(x=times, y=number, fill=tags))+\n",
    "geom_bar(stat = \"identity\", position = \"stack\", color=\"black\")+\n",
    "geom_line(aes(y=number, x=x_lab), size=0.5, color=\"#E64B35\")+\n",
    "geom_point(aes(y=number, x=times), size=2)+\n",
    "geom_text(aes(y=number, x=times, label=number, vjust=-0.7), size=3)+\n",
    "coord_cartesian(ylim = c(0, 15000)) +\n",
    "labs(x=NULL, y='Number of DEG')+\n",
    "facet_grid(tags~.)+\n",
    "theme(panel.background = element_blank(), \n",
    "     panel.grid = element_blank(),\n",
    "     axis.line=element_line(linetype=1,color=\"black\"),\n",
    "     axis.text=element_text(color=\"black\"),\n",
    "     legend.position='None',\n",
    "     axis.ticks.length = unit(0.25, 'cm')\n",
    "     )+\n",
    "scale_fill_manual(values=c('#D44827','#4157A6', '#9ECF80','#F38B8C','#8787C2','#F3943D' ))\n",
    "#scale_fill_manual(values=c('#654ABC', '#FF9A15', '#008080'))\n",
    "fg\n",
    "ggsave(plot =fg, filename = 'all_time_diff_exp_gene_number2.pdf', height =6, width = 5)"
   ]
  },
  {
   "cell_type": "code",
   "execution_count": 71,
   "metadata": {
    "vscode": {
     "languageId": "r"
    }
   },
   "outputs": [
    {
     "data": {
      "text/html": [
       "<style>\n",
       ".list-inline {list-style: none; margin:0; padding: 0}\n",
       ".list-inline>li {display: inline-block}\n",
       ".list-inline>li:not(:last-child)::after {content: \"\\00b7\"; padding: 0 .5ex}\n",
       "</style>\n",
       "<ol class=list-inline><li>'1min'</li><li>'5min'</li><li>'10min'</li><li>'30min'</li><li>'90min'</li><li>'180min'</li><li>'720min'</li></ol>\n"
      ],
      "text/latex": [
       "\\begin{enumerate*}\n",
       "\\item '1min'\n",
       "\\item '5min'\n",
       "\\item '10min'\n",
       "\\item '30min'\n",
       "\\item '90min'\n",
       "\\item '180min'\n",
       "\\item '720min'\n",
       "\\end{enumerate*}\n"
      ],
      "text/markdown": [
       "1. '1min'\n",
       "2. '5min'\n",
       "3. '10min'\n",
       "4. '30min'\n",
       "5. '90min'\n",
       "6. '180min'\n",
       "7. '720min'\n",
       "\n",
       "\n"
      ],
      "text/plain": [
       "[1] \"1min\"   \"5min\"   \"10min\"  \"30min\"  \"90min\"  \"180min\" \"720min\""
      ]
     },
     "metadata": {},
     "output_type": "display_data"
    },
    {
     "data": {
      "text/html": [
       "<style>\n",
       ".list-inline {list-style: none; margin:0; padding: 0}\n",
       ".list-inline>li {display: inline-block}\n",
       ".list-inline>li:not(:last-child)::after {content: \"\\00b7\"; padding: 0 .5ex}\n",
       "</style>\n",
       "<ol class=list-inline><li>'Glr19_Fov7'</li><li>'J668_Fov7'</li><li>'J668_V991'</li><li>'J668_Glr19_F'</li><li>'Fov7_V991'</li><li>'J668_Glr19_M'</li></ol>\n"
      ],
      "text/latex": [
       "\\begin{enumerate*}\n",
       "\\item 'Glr19\\_Fov7'\n",
       "\\item 'J668\\_Fov7'\n",
       "\\item 'J668\\_V991'\n",
       "\\item 'J668\\_Glr19\\_F'\n",
       "\\item 'Fov7\\_V991'\n",
       "\\item 'J668\\_Glr19\\_M'\n",
       "\\end{enumerate*}\n"
      ],
      "text/markdown": [
       "1. 'Glr19_Fov7'\n",
       "2. 'J668_Fov7'\n",
       "3. 'J668_V991'\n",
       "4. 'J668_Glr19_F'\n",
       "5. 'Fov7_V991'\n",
       "6. 'J668_Glr19_M'\n",
       "\n",
       "\n"
      ],
      "text/plain": [
       "[1] \"Glr19_Fov7\"   \"J668_Fov7\"    \"J668_V991\"    \"J668_Glr19_F\" \"Fov7_V991\"   \n",
       "[6] \"J668_Glr19_M\""
      ]
     },
     "metadata": {},
     "output_type": "display_data"
    },
    {
     "data": {
      "image/png": "[encoded data removed]",
      "text/plain": [
       "plot without title"
      ]
     },
     "metadata": {
      "image/png": {
       "height": 420,
       "width": 420
      }
     },
     "output_type": "display_data"
    }
   ],
   "source": [
    "# 统计所有相邻时期差异表达基因,并且具有组织特异性表达的基因\n",
    "rm(list = ls())\n",
    "setwd('G:/Billfish/VD_FOV_3Dgenome/RNA_Seq/DEG')\n",
    "library(ggplot2)\n",
    "library(ggpubr)\n",
    "df <- read.csv('all_DEG_N_subg.bed', sep = '\\t', header = T)\n",
    "df <- within(df, times <- factor(times, levels = c(\"1min\", \"5min\", \"10min\", \"30min\", \"90min\", \"180min\", \"720min\")))\n",
    "with(df, levels(times))\n",
    "df <- within(df, tags <- factor(tags, levels = c(\"Glr19_Fov7\", \"J668_Fov7\", \"J668_V991\", \"J668_Glr19_F\", \"Fov7_V991\", \"J668_Glr19_M\")))\n",
    "with(df, levels(tags))\n",
    "\n",
    "#df_choose <- df[df$subg=='At' & df$sigs=='Up', ]\n",
    "#df_choose <- df[df$subg=='At' & df$sigs=='Down', ]\n",
    "#df_choose <- df[df$subg=='Dt' & df$sigs=='Up', ]\n",
    "df_choose <- df[df$subg=='Dt' & df$sigs=='Down', ]\n",
    "\n",
    "\n",
    "fg <- ggplot(df_choose, aes(x=times, y=number, fill=tags))+\n",
    "geom_bar(stat = \"identity\", position = \"stack\", color=\"black\")+\n",
    "geom_line(aes(y=number, x=x_lab), size=0.5, color=\"#E64B35\")+\n",
    "geom_point(aes(y=number, x=times), size=2)+\n",
    "geom_text(aes(y=number, x=times, label=number, vjust=-0.7), size=3)+\n",
    "coord_cartesian(ylim = c(0, 4000)) +\n",
    "\n",
    "labs(x=NULL, y='Number of DEG')+\n",
    "facet_grid(tags~.)+\n",
    "theme(panel.background = element_blank(), \n",
    "     panel.grid = element_blank(),\n",
    "     axis.line=element_line(linetype=1,color=\"black\"),\n",
    "     axis.text=element_text(color=\"black\"),\n",
    "     legend.position='None',\n",
    "     axis.ticks.length = unit(0.25, 'cm')\n",
    "     )+\n",
    "scale_fill_manual(values=c('#D44827','#4157A6', '#9ECF80','#F38B8C','#8787C2','#F3943D' ))\n",
    "#scale_fill_manual(values=c('#654ABC', '#FF9A15', '#008080'))\n",
    "fg\n",
    "#ggsave(plot =fg, filename = 'At_Up_DEG.pdf', height =6, width = 5)\n",
    "#ggsave(plot =fg, filename = 'At_Down_DEG.pdf', height =6, width = 5)\n",
    "#ggsave(plot =fg, filename = 'Dt_Up_DEG.pdf', height =6, width = 5)\n",
    "ggsave(plot =fg, filename = 'Dt_Down_DEG.pdf', height =6, width = 5)\n",
    "\n",
    "\n"
   ]
  },
  {
   "cell_type": "code",
   "execution_count": 13,
   "metadata": {
    "vscode": {
     "languageId": "r"
    }
   },
   "outputs": [
    {
     "data": {
      "text/html": [
       "<style>\n",
       ".list-inline {list-style: none; margin:0; padding: 0}\n",
       ".list-inline>li {display: inline-block}\n",
       ".list-inline>li:not(:last-child)::after {content: \"\\00b7\"; padding: 0 .5ex}\n",
       "</style>\n",
       "<ol class=list-inline><li>'1 min'</li><li>'5 min'</li><li>'10 min'</li><li>'30 min'</li><li>'90 min'</li><li>'180 min'</li><li>'720 min'</li></ol>\n"
      ],
      "text/latex": [
       "\\begin{enumerate*}\n",
       "\\item '1 min'\n",
       "\\item '5 min'\n",
       "\\item '10 min'\n",
       "\\item '30 min'\n",
       "\\item '90 min'\n",
       "\\item '180 min'\n",
       "\\item '720 min'\n",
       "\\end{enumerate*}\n"
      ],
      "text/markdown": [
       "1. '1 min'\n",
       "2. '5 min'\n",
       "3. '10 min'\n",
       "4. '30 min'\n",
       "5. '90 min'\n",
       "6. '180 min'\n",
       "7. '720 min'\n",
       "\n",
       "\n"
      ],
      "text/plain": [
       "[1] \"1 min\"   \"5 min\"   \"10 min\"  \"30 min\"  \"90 min\"  \"180 min\" \"720 min\""
      ]
     },
     "metadata": {},
     "output_type": "display_data"
    },
    {
     "data": {
      "text/html": [
       "<style>\n",
       ".list-inline {list-style: none; margin:0; padding: 0}\n",
       ".list-inline>li {display: inline-block}\n",
       ".list-inline>li:not(:last-child)::after {content: \"\\00b7\"; padding: 0 .5ex}\n",
       "</style>\n",
       "<ol class=list-inline><li>'J668'</li><li>'Glr19'</li></ol>\n"
      ],
      "text/latex": [
       "\\begin{enumerate*}\n",
       "\\item 'J668'\n",
       "\\item 'Glr19'\n",
       "\\end{enumerate*}\n"
      ],
      "text/markdown": [
       "1. 'J668'\n",
       "2. 'Glr19'\n",
       "\n",
       "\n"
      ],
      "text/plain": [
       "[1] \"J668\"  \"Glr19\""
      ]
     },
     "metadata": {},
     "output_type": "display_data"
    },
    {
     "data": {
      "image/png": "[encoded data removed]",
      "text/plain": [
       "plot without title"
      ]
     },
     "metadata": {
      "image/png": {
       "height": 420,
       "width": 420
      }
     },
     "output_type": "display_data"
    }
   ],
   "source": [
    "## 0min 与其它时刻比较所包含的差异基因数目\n",
    "rm(list = ls())\n",
    "setwd('G:/Billfish/VD_FOV_3Dgenome/RNA_Seq/DEG/0min_DEG/DEG_number')\n",
    "library(ggplot2)\n",
    "library(ggpubr)\n",
    "df <- read.csv('J668_Glr19_0min_vs_other.bed', sep = '\\t', header = T)\n",
    "df <- within(df, times <- factor(times, levels = c(\"1 min\", \"5 min\", \"10 min\", \"30 min\", \"90 min\", \"180 min\", \"720 min\")))\n",
    "with(df, levels(times))\n",
    "df <- within(df, type <- factor(type, levels = c(\"J668\", \"Glr19\")))\n",
    "with(df, levels(type))\n",
    "fg <- ggplot(df, aes(x=times, y=number, fill=tags))+\n",
    "geom_bar(stat = \"identity\", position = \"stack\", color=\"black\")+\n",
    "labs(x=NULL, y='Number of DEG')+\n",
    "facet_grid(type~., scales = \"free\")+\n",
    "theme(panel.background = element_blank(), \n",
    "     panel.grid = element_blank(),\n",
    "     axis.line=element_line(linetype=1,color=\"black\"),\n",
    "     axis.text=element_text(color=\"black\"),\n",
    "     legend.position='top',\n",
    "     axis.ticks.length = unit(0.25, 'cm')\n",
    "     )+\n",
    "scale_fill_manual(values=c('#4157A6', '#D44827'))\n",
    "fg\n",
    "ggsave(plot =fg, filename = 'J668_Glr19_0min_vs_other.pdf', height =3, width = 4.5)"
   ]
  },
  {
   "cell_type": "code",
   "execution_count": 7,
   "metadata": {
    "vscode": {
     "languageId": "r"
    }
   },
   "outputs": [
    {
     "data": {
      "text/html": [
       "<style>\n",
       ".list-inline {list-style: none; margin:0; padding: 0}\n",
       ".list-inline>li {display: inline-block}\n",
       ".list-inline>li:not(:last-child)::after {content: \"\\00b7\"; padding: 0 .5ex}\n",
       "</style>\n",
       "<ol class=list-inline><li>'2 Kb'</li><li>'3 Kb'</li><li>'4 Kb'</li><li>'5 Kb'</li><li>'10 Kb'</li><li>'20 Kb'</li><li>'40 Kb'</li><li>'50 Kb'</li><li>'100 Kb'</li><li>'200 Kb'</li></ol>\n"
      ],
      "text/latex": [
       "\\begin{enumerate*}\n",
       "\\item '2 Kb'\n",
       "\\item '3 Kb'\n",
       "\\item '4 Kb'\n",
       "\\item '5 Kb'\n",
       "\\item '10 Kb'\n",
       "\\item '20 Kb'\n",
       "\\item '40 Kb'\n",
       "\\item '50 Kb'\n",
       "\\item '100 Kb'\n",
       "\\item '200 Kb'\n",
       "\\end{enumerate*}\n"
      ],
      "text/markdown": [
       "1. '2 Kb'\n",
       "2. '3 Kb'\n",
       "3. '4 Kb'\n",
       "4. '5 Kb'\n",
       "5. '10 Kb'\n",
       "6. '20 Kb'\n",
       "7. '40 Kb'\n",
       "8. '50 Kb'\n",
       "9. '100 Kb'\n",
       "10. '200 Kb'\n",
       "\n",
       "\n"
      ],
      "text/plain": [
       " [1] \"2 Kb\"   \"3 Kb\"   \"4 Kb\"   \"5 Kb\"   \"10 Kb\"  \"20 Kb\"  \"40 Kb\"  \"50 Kb\" \n",
       " [9] \"100 Kb\" \"200 Kb\""
      ]
     },
     "metadata": {},
     "output_type": "display_data"
    },
    {
     "data": {
      "image/png": "[encoded data removed]",
      "text/plain": [
       "plot without title"
      ]
     },
     "metadata": {
      "image/png": {
       "height": 420,
       "width": 420
      }
     },
     "output_type": "display_data"
    }
   ],
   "source": [
    "## 分析分辨率\n",
    "rm(list = ls())\n",
    "#options(repr.plot.width=2,repr.plot.height=2.5)\n",
    "setwd('G:/Billfish/VD_FOV_3Dgenome/HiC/statistics/resolution')\n",
    "library(ggplot2)\n",
    "library(ggpubr)\n",
    "library(paletteer)\n",
    "df <- read.csv('resolution.bed', sep = '\\t', header = T)\n",
    "# df <- within(df, samples <- factor(samples, levels = c('anthers', 'leaf', 'hypocotyl', 'cotyledon', 'root')))\n",
    "# with(df, levels(samples))\n",
    "df <- within(df, Binsize <- factor(Binsize, levels = c('2 Kb', '3 Kb', '4 Kb', '5 Kb', '10 Kb', '20 Kb', '40 Kb', '50 Kb', '100 Kb', '200 Kb')))\n",
    "with(df, levels(Binsize))\n",
    "#df <- within(df, samples <- factor(samples, levels = c('anthers', 'leaf', 'hypocotyl', 'cotyledon', 'stem', 'root', 'radicle', 'ovules', 'fiber_5DPA', 'fiber_10DPA', 'fiber_20DPA', 'petals', 'stigma')))\n",
    "#with(df, levels(samples))\n",
    "fg <- ggplot(df, aes(x=as.factor(Binsize), y=Score, fill=Samples)) +\n",
    "geom_bar(stat = \"identity\", position = \"dodge\", color=\"black\", size=0.1)+\n",
    "geom_hline(aes(yintercept=80), linetype=\"dashed\")+\n",
    "labs(x='Size of bin', y='Proportion of bin reads more than 1000 (%)')+\n",
    "facet_wrap(.~Samples)+\n",
    "#coord_cartesian(ylim = c(0, 8)) +\n",
    "theme(panel.background = element_blank(), \n",
    "     panel.grid = element_blank(),\n",
    "     axis.line=element_line(linetype=1,color=\"black\"),\n",
    "     legend.position='None',\n",
    "     axis.text.x = element_text(angle = 315, hjust = 0, color='black'),\n",
    "     axis.text.y = element_text(color='black'),\n",
    "     axis.ticks.length = unit(0.25, 'cm'),\n",
    "     axis.ticks = element_line(color='black')\n",
    "     )+\n",
    "     #scale_fill_manual(values = c(\"#2196F3\", \"#D95204\", \"#7571B2\", \"#E6298D\", \"#A6751B\", \"#69A71E\", \"#E2AE09\", \"#E6191E\", \"#1E79B2\", \"#df6b24\", '#A55CED', \"#607D8B\", \"#efdab4\"))\n",
    "     scale_fill_manual(values = c(\"#2196F3\", \"#D95204\", \"#7571B2\", \"#E6298D\",  \"#69A71E\"))\n",
    "\n",
    "fg\n",
    "ggsave(plot =fg, filename = 'resolution.pdf', height =6, width = 6)\n"
   ]
  },
  {
   "cell_type": "code",
   "execution_count": 21,
   "metadata": {
    "vscode": {
     "languageId": "r"
    }
   },
   "outputs": [
    {
     "data": {
      "text/html": [
       "<style>\n",
       ".list-inline {list-style: none; margin:0; padding: 0}\n",
       ".list-inline>li {display: inline-block}\n",
       ".list-inline>li:not(:last-child)::after {content: \"\\00b7\"; padding: 0 .5ex}\n",
       "</style>\n",
       "<ol class=list-inline><li>'0min'</li><li>'5min'</li><li>'10min'</li><li>'30min'</li><li>'180min'</li><li>'720min'</li></ol>\n"
      ],
      "text/latex": [
       "\\begin{enumerate*}\n",
       "\\item '0min'\n",
       "\\item '5min'\n",
       "\\item '10min'\n",
       "\\item '30min'\n",
       "\\item '180min'\n",
       "\\item '720min'\n",
       "\\end{enumerate*}\n"
      ],
      "text/markdown": [
       "1. '0min'\n",
       "2. '5min'\n",
       "3. '10min'\n",
       "4. '30min'\n",
       "5. '180min'\n",
       "6. '720min'\n",
       "\n",
       "\n"
      ],
      "text/plain": [
       "[1] \"0min\"   \"5min\"   \"10min\"  \"30min\"  \"180min\" \"720min\""
      ]
     },
     "metadata": {},
     "output_type": "display_data"
    },
    {
     "data": {
      "text/html": [
       "<style>\n",
       ".list-inline {list-style: none; margin:0; padding: 0}\n",
       ".list-inline>li {display: inline-block}\n",
       ".list-inline>li:not(:last-child)::after {content: \"\\00b7\"; padding: 0 .5ex}\n",
       "</style>\n",
       "<ol class=list-inline><li>'Jin668_V991'</li><li>'Jin668_Fov'</li><li>'glr4.8_Fov'</li></ol>\n"
      ],
      "text/latex": [
       "\\begin{enumerate*}\n",
       "\\item 'Jin668\\_V991'\n",
       "\\item 'Jin668\\_Fov'\n",
       "\\item 'glr4.8\\_Fov'\n",
       "\\end{enumerate*}\n"
      ],
      "text/markdown": [
       "1. 'Jin668_V991'\n",
       "2. 'Jin668_Fov'\n",
       "3. 'glr4.8_Fov'\n",
       "\n",
       "\n"
      ],
      "text/plain": [
       "[1] \"Jin668_V991\" \"Jin668_Fov\"  \"glr4.8_Fov\" "
      ]
     },
     "metadata": {},
     "output_type": "display_data"
    },
    {
     "data": {
      "text/html": [
       "<style>\n",
       ".list-inline {list-style: none; margin:0; padding: 0}\n",
       ".list-inline>li {display: inline-block}\n",
       ".list-inline>li:not(:last-child)::after {content: \"\\00b7\"; padding: 0 .5ex}\n",
       "</style>\n",
       "<ol class=list-inline><li>'B'</li><li>'A'</li></ol>\n"
      ],
      "text/latex": [
       "\\begin{enumerate*}\n",
       "\\item 'B'\n",
       "\\item 'A'\n",
       "\\end{enumerate*}\n"
      ],
      "text/markdown": [
       "1. 'B'\n",
       "2. 'A'\n",
       "\n",
       "\n"
      ],
      "text/plain": [
       "[1] \"B\" \"A\""
      ]
     },
     "metadata": {},
     "output_type": "display_data"
    },
    {
     "data": {
      "image/png": "[encoded data removed]",
      "text/plain": [
       "plot without title"
      ]
     },
     "metadata": {
      "image/png": {
       "height": 420,
       "width": 420
      }
     },
     "output_type": "display_data"
    }
   ],
   "source": [
    "## 分析A/B compartment 动态变化\n",
    "rm(list = ls())\n",
    "#options(repr.plot.width=2,repr.plot.height=2.5)\n",
    "setwd('G:/Billfish/VD_FOV_3Dgenome/HiC/compartment/rawdata')\n",
    "library(ggplot2)\n",
    "library(ggpubr)\n",
    "library(ggbreak)\n",
    "df <- read.csv('Jin668_Glr19_Fov7_V991_cpt_statistics.bed', sep = '\\t', header = T)\n",
    "df <- within(df, times <- factor(times, levels = c(\"0min\", \"5min\", \"10min\", \"30min\", \"180min\", \"720min\")))\n",
    "with(df, levels(times))\n",
    "df <- within(df, treatments <- factor(treatments, levels = c(\"Jin668_V991\", \"Jin668_Fov\", \"glr4.8_Fov\")))\n",
    "with(df, levels(treatments))\n",
    "df <- within(df, cpt <- factor(cpt, levels = c(\"B\", \"A\")))\n",
    "with(df, levels(cpt))\n",
    "fg <- ggplot(df, aes(x=times, y=number, fill=cpt))+\n",
    "facet_grid(.~treatments)+\n",
    "geom_bar(stat = \"identity\", position = \"fill\", color = \"black\")+\n",
    "labs(x=NULL, y='Proportion of gene')+\n",
    "theme(panel.background = element_blank(), \n",
    "    panel.grid = element_blank(),\n",
    "    axis.line=element_line(linetype=1,color=\"black\"),\n",
    "    axis.text.x=element_text(color=\"black\", angle=315, hjust=0),\n",
    "    axis.text.y=element_text(color=\"black\"),\n",
    "    legend.position='top',\n",
    "    axis.ticks.length = unit(0.25, 'cm'),\n",
    "    panel.spacing.x = unit(0.05, 'cm')\n",
    "    ) +\n",
    "    scale_fill_manual(values = c(\"#93AEC1\", \"#EC6A52\"))+\n",
    "    scale_y_break(c(0.1,0.4), scales=3)+\n",
    "    scale_y_break(c(0.45,0.9), scales=0.8)\n",
    "fg\n",
    "ggsave(plot =fg, filename = 'Jin668_Glr19_Fov7_V991_cpt_statistics.pdf', height =4, width = 4.5)"
   ]
  },
  {
   "cell_type": "code",
   "execution_count": 11,
   "metadata": {
    "vscode": {
     "languageId": "r"
    }
   },
   "outputs": [
    {
     "data": {
      "text/html": [
       "<style>\n",
       ".list-inline {list-style: none; margin:0; padding: 0}\n",
       ".list-inline>li {display: inline-block}\n",
       ".list-inline>li:not(:last-child)::after {content: \"\\00b7\"; padding: 0 .5ex}\n",
       "</style>\n",
       "<ol class=list-inline><li>'0min'</li><li>'5min'</li><li>'10min'</li><li>'30min'</li><li>'180min'</li><li>'720min'</li></ol>\n"
      ],
      "text/latex": [
       "\\begin{enumerate*}\n",
       "\\item '0min'\n",
       "\\item '5min'\n",
       "\\item '10min'\n",
       "\\item '30min'\n",
       "\\item '180min'\n",
       "\\item '720min'\n",
       "\\end{enumerate*}\n"
      ],
      "text/markdown": [
       "1. '0min'\n",
       "2. '5min'\n",
       "3. '10min'\n",
       "4. '30min'\n",
       "5. '180min'\n",
       "6. '720min'\n",
       "\n",
       "\n"
      ],
      "text/plain": [
       "[1] \"0min\"   \"5min\"   \"10min\"  \"30min\"  \"180min\" \"720min\""
      ]
     },
     "metadata": {},
     "output_type": "display_data"
    },
    {
     "data": {
      "text/html": [
       "<style>\n",
       ".list-inline {list-style: none; margin:0; padding: 0}\n",
       ".list-inline>li {display: inline-block}\n",
       ".list-inline>li:not(:last-child)::after {content: \"\\00b7\"; padding: 0 .5ex}\n",
       "</style>\n",
       "<ol class=list-inline><li>'Jin668_V991'</li><li>'Jin668_Fov'</li><li>'glr4.8_Fov'</li></ol>\n"
      ],
      "text/latex": [
       "\\begin{enumerate*}\n",
       "\\item 'Jin668\\_V991'\n",
       "\\item 'Jin668\\_Fov'\n",
       "\\item 'glr4.8\\_Fov'\n",
       "\\end{enumerate*}\n"
      ],
      "text/markdown": [
       "1. 'Jin668_V991'\n",
       "2. 'Jin668_Fov'\n",
       "3. 'glr4.8_Fov'\n",
       "\n",
       "\n"
      ],
      "text/plain": [
       "[1] \"Jin668_V991\" \"Jin668_Fov\"  \"glr4.8_Fov\" "
      ]
     },
     "metadata": {},
     "output_type": "display_data"
    },
    {
     "data": {
      "text/html": [
       "<style>\n",
       ".list-inline {list-style: none; margin:0; padding: 0}\n",
       ".list-inline>li {display: inline-block}\n",
       ".list-inline>li:not(:last-child)::after {content: \"\\00b7\"; padding: 0 .5ex}\n",
       "</style>\n",
       "<ol class=list-inline><li>'B'</li><li>'A'</li></ol>\n"
      ],
      "text/latex": [
       "\\begin{enumerate*}\n",
       "\\item 'B'\n",
       "\\item 'A'\n",
       "\\end{enumerate*}\n"
      ],
      "text/markdown": [
       "1. 'B'\n",
       "2. 'A'\n",
       "\n",
       "\n"
      ],
      "text/plain": [
       "[1] \"B\" \"A\""
      ]
     },
     "metadata": {},
     "output_type": "display_data"
    },
    {
     "data": {
      "image/png": "[encoded data removed]",
      "text/plain": [
       "plot without title"
      ]
     },
     "metadata": {
      "image/png": {
       "height": 420,
       "width": 420
      }
     },
     "output_type": "display_data"
    }
   ],
   "source": [
    "## 分析A/B compartment 动态变化\n",
    "rm(list = ls())\n",
    "#options(repr.plot.width=2,repr.plot.height=2.5)\n",
    "setwd('G:/Billfish/VD_FOV_3Dgenome/HiC/compartment/gene_location_AB_cpt')\n",
    "library(ggplot2)\n",
    "library(ggpubr)\n",
    "library(ggbreak)\n",
    "df <- read.csv('Jin668_Gbin_cpt_statistics.bed', sep = '\\t', header = T)\n",
    "df <- within(df, times <- factor(times, levels = c(\"0min\", \"5min\", \"10min\", \"30min\", \"180min\", \"720min\")))\n",
    "with(df, levels(times))\n",
    "df <- within(df, treatments <- factor(treatments, levels = c(\"Jin668_V991\", \"Jin668_Fov\", \"glr4.8_Fov\")))\n",
    "with(df, levels(treatments))\n",
    "df <- within(df, cpt <- factor(cpt, levels = c(\"B\", \"A\")))\n",
    "with(df, levels(cpt))\n",
    "fg <- ggplot(df, aes(x=times, y=number, fill=cpt))+\n",
    "facet_grid(.~treatments)+\n",
    "geom_bar(stat = \"identity\", position = \"fill\", color = \"black\")+\n",
    "labs(x=NULL, y='Proportion of gene')+\n",
    "theme(panel.background = element_blank(), \n",
    "    panel.grid = element_blank(),\n",
    "    axis.line=element_line(linetype=1,color=\"black\"),\n",
    "    axis.text.x=element_text(color=\"black\", angle=315, hjust=0),\n",
    "    axis.text.y=element_text(color=\"black\"),\n",
    "    legend.position='top',\n",
    "    axis.ticks.length = unit(0.25, 'cm'),\n",
    "    panel.spacing.x = unit(0.05, 'cm')\n",
    "    ) +\n",
    "    scale_fill_manual(values = c(\"#93AEC1\", \"#EC6A52\"))+\n",
    "    scale_y_break(c(0.1,0.55), scales=3)+\n",
    "    scale_y_break(c(0.6,0.9), scales=0.8)\n",
    "fg\n",
    "ggsave(plot =fg, filename = 'Jin668_Gbin_cpt_statistics.bed.pdf', height =4, width = 4.5)"
   ]
  },
  {
   "cell_type": "code",
   "execution_count": 14,
   "metadata": {
    "vscode": {
     "languageId": "r"
    }
   },
   "outputs": [
    {
     "data": {
      "text/html": [
       "<style>\n",
       ".list-inline {list-style: none; margin:0; padding: 0}\n",
       ".list-inline>li {display: inline-block}\n",
       ".list-inline>li:not(:last-child)::after {content: \"\\00b7\"; padding: 0 .5ex}\n",
       "</style>\n",
       "<ol class=list-inline><li>'0min'</li><li>'5min'</li><li>'10min'</li><li>'30min'</li><li>'180min'</li><li>'720min'</li></ol>\n"
      ],
      "text/latex": [
       "\\begin{enumerate*}\n",
       "\\item '0min'\n",
       "\\item '5min'\n",
       "\\item '10min'\n",
       "\\item '30min'\n",
       "\\item '180min'\n",
       "\\item '720min'\n",
       "\\end{enumerate*}\n"
      ],
      "text/markdown": [
       "1. '0min'\n",
       "2. '5min'\n",
       "3. '10min'\n",
       "4. '30min'\n",
       "5. '180min'\n",
       "6. '720min'\n",
       "\n",
       "\n"
      ],
      "text/plain": [
       "[1] \"0min\"   \"5min\"   \"10min\"  \"30min\"  \"180min\" \"720min\""
      ]
     },
     "metadata": {},
     "output_type": "display_data"
    },
    {
     "data": {
      "text/html": [
       "<style>\n",
       ".list-inline {list-style: none; margin:0; padding: 0}\n",
       ".list-inline>li {display: inline-block}\n",
       ".list-inline>li:not(:last-child)::after {content: \"\\00b7\"; padding: 0 .5ex}\n",
       "</style>\n",
       "<ol class=list-inline><li>'Jin668_V991'</li><li>'Jin668_Fov'</li><li>'glr4.8_Fov'</li></ol>\n"
      ],
      "text/latex": [
       "\\begin{enumerate*}\n",
       "\\item 'Jin668\\_V991'\n",
       "\\item 'Jin668\\_Fov'\n",
       "\\item 'glr4.8\\_Fov'\n",
       "\\end{enumerate*}\n"
      ],
      "text/markdown": [
       "1. 'Jin668_V991'\n",
       "2. 'Jin668_Fov'\n",
       "3. 'glr4.8_Fov'\n",
       "\n",
       "\n"
      ],
      "text/plain": [
       "[1] \"Jin668_V991\" \"Jin668_Fov\"  \"glr4.8_Fov\" "
      ]
     },
     "metadata": {},
     "output_type": "display_data"
    },
    {
     "data": {
      "image/png": "[encoded data removed]",
      "text/plain": [
       "plot without title"
      ]
     },
     "metadata": {
      "image/png": {
       "height": 420,
       "width": 420
      }
     },
     "output_type": "display_data"
    }
   ],
   "source": [
    "## 统计IS 所鉴定出的TAD boundaries数目\n",
    "## 分析A/B compartment 动态变化\n",
    "rm(list = ls())\n",
    "#options(repr.plot.width=2,repr.plot.height=2.5)\n",
    "setwd('G:/Billfish/VD_FOV_3Dgenome/HiC/TAD/IS/rawdata')\n",
    "library(ggplot2)\n",
    "library(ggpubr)\n",
    "library(ggbreak)\n",
    "df <- read.csv('Jin668_Glr19_Fov7_V991_IS_boundary_statistics.csv', header = T)\n",
    "df <- within(df, times <- factor(times, levels = c(\"0min\", \"5min\", \"10min\", \"30min\", \"180min\", \"720min\")))\n",
    "with(df, levels(times))\n",
    "df <- within(df, treatments <- factor(treatments, levels = c(\"Jin668_V991\", \"Jin668_Fov\", \"glr4.8_Fov\")))\n",
    "with(df, levels(treatments))\n",
    "fg <- ggplot(df, aes(x=times, y=number, fill = times))+\n",
    "facet_grid(.~treatments)+\n",
    "geom_bar(stat = \"identity\", position = \"dodge\", color = \"black\")+\n",
    "labs(x=NULL, y='number of TAD boundaries')+\n",
    "theme(panel.background = element_blank(), \n",
    "    panel.grid = element_blank(),\n",
    "    axis.line=element_line(linetype=1,color=\"black\"),\n",
    "    axis.text.x=element_text(color=\"black\", angle=315, hjust=0),\n",
    "    axis.text.y=element_text(color=\"black\"),\n",
    "    legend.position='None',\n",
    "    axis.ticks.length = unit(0.25, 'cm'),\n",
    "    panel.spacing.x = unit(0.05, 'cm')\n",
    "    ) +\n",
    "    scale_y_break(c(10000,20000), scales=5)+\n",
    "    scale_fill_manual(values=c(\"#FFE6B7FF\", \"#FFD06FFF\", \"#F7AA58FF\", \"#EF8A47FF\", \"#E76254FF\", \"#F84848FF\"))\n",
    "fg\n",
    "ggsave(plot =fg, filename = 'Jin668_Glr19_Fov7_V991_IS_boundary_statistics.pdf', height =4, width = 4.5)\n"
   ]
  },
  {
   "cell_type": "code",
   "execution_count": 2,
   "metadata": {
    "vscode": {
     "languageId": "r"
    }
   },
   "outputs": [
    {
     "data": {
      "text/html": [
       "<style>\n",
       ".list-inline {list-style: none; margin:0; padding: 0}\n",
       ".list-inline>li {display: inline-block}\n",
       ".list-inline>li:not(:last-child)::after {content: \"\\00b7\"; padding: 0 .5ex}\n",
       "</style>\n",
       "<ol class=list-inline><li>'0min'</li><li>'5min'</li><li>'10min'</li><li>'30min'</li><li>'180min'</li><li>'720min'</li></ol>\n"
      ],
      "text/latex": [
       "\\begin{enumerate*}\n",
       "\\item '0min'\n",
       "\\item '5min'\n",
       "\\item '10min'\n",
       "\\item '30min'\n",
       "\\item '180min'\n",
       "\\item '720min'\n",
       "\\end{enumerate*}\n"
      ],
      "text/markdown": [
       "1. '0min'\n",
       "2. '5min'\n",
       "3. '10min'\n",
       "4. '30min'\n",
       "5. '180min'\n",
       "6. '720min'\n",
       "\n",
       "\n"
      ],
      "text/plain": [
       "[1] \"0min\"   \"5min\"   \"10min\"  \"30min\"  \"180min\" \"720min\""
      ]
     },
     "metadata": {},
     "output_type": "display_data"
    },
    {
     "data": {
      "text/html": [
       "<style>\n",
       ".list-inline {list-style: none; margin:0; padding: 0}\n",
       ".list-inline>li {display: inline-block}\n",
       ".list-inline>li:not(:last-child)::after {content: \"\\00b7\"; padding: 0 .5ex}\n",
       "</style>\n",
       "<ol class=list-inline><li>'Jin668_V991'</li><li>'Jin668_Fov'</li><li>'glr4.8_Fov'</li></ol>\n"
      ],
      "text/latex": [
       "\\begin{enumerate*}\n",
       "\\item 'Jin668\\_V991'\n",
       "\\item 'Jin668\\_Fov'\n",
       "\\item 'glr4.8\\_Fov'\n",
       "\\end{enumerate*}\n"
      ],
      "text/markdown": [
       "1. 'Jin668_V991'\n",
       "2. 'Jin668_Fov'\n",
       "3. 'glr4.8_Fov'\n",
       "\n",
       "\n"
      ],
      "text/plain": [
       "[1] \"Jin668_V991\" \"Jin668_Fov\"  \"glr4.8_Fov\" "
      ]
     },
     "metadata": {},
     "output_type": "display_data"
    },
    {
     "data": {
      "image/png": "[encoded data removed]",
      "text/plain": [
       "plot without title"
      ]
     },
     "metadata": {
      "image/png": {
       "height": 420,
       "width": 420
      }
     },
     "output_type": "display_data"
    }
   ],
   "source": [
    "## 统计HiTAD 所鉴定出的TAD boundaries数目\n",
    "rm(list = ls())\n",
    "#options(repr.plot.width=2,repr.plot.height=2.5)\n",
    "setwd('G:/Billfish/VD_FOV_3Dgenome/HiC/TAD/HiTAD/rawdata')\n",
    "library(ggplot2)\n",
    "library(ggpubr)\n",
    "library(ggbreak)\n",
    "df <- read.csv('Jin668_Glr19_Fov7_V991_statistics.bed', header = T, sep=\"\\t\")\n",
    "df <- within(df, times <- factor(times, levels = c(\"0min\", \"5min\", \"10min\", \"30min\", \"180min\", \"720min\")))\n",
    "with(df, levels(times))\n",
    "df <- within(df, treatments <- factor(treatments, levels = c(\"Jin668_V991\", \"Jin668_Fov\", \"glr4.8_Fov\")))\n",
    "with(df, levels(treatments))\n",
    "fg <- ggplot(df, aes(x=times, y=number, fill = times))+\n",
    "facet_grid(.~treatments)+\n",
    "geom_bar(stat = \"identity\", position = \"dodge\", color = \"black\")+\n",
    "labs(x=NULL, y='number of TAD boundaries')+\n",
    "theme(panel.background = element_blank(), \n",
    "    panel.grid = element_blank(),\n",
    "    axis.line=element_line(linetype=1,color=\"black\"),\n",
    "    axis.text.x=element_text(color=\"black\", angle=315, hjust=0),\n",
    "    axis.text.y=element_text(color=\"black\"),\n",
    "    legend.position='None',\n",
    "    axis.ticks.length = unit(0.25, 'cm'),\n",
    "    panel.spacing.x = unit(0.05, 'cm')\n",
    "    ) +\n",
    "    scale_y_break(c(1000,8000), scales=5)+\n",
    "    scale_fill_manual(values=c(\"#FFE6B7FF\", \"#FFD06FFF\", \"#F7AA58FF\", \"#EF8A47FF\", \"#E76254FF\", \"#F84848FF\"))\n",
    "fg\n",
    "ggsave(plot =fg, filename = 'Jin668_Glr19_Fov7_V991_statistics.pdf', height =4, width = 4.5)\n"
   ]
  },
  {
   "cell_type": "code",
   "execution_count": 22,
   "metadata": {
    "vscode": {
     "languageId": "r"
    }
   },
   "outputs": [
    {
     "data": {
      "text/html": [
       "<style>\n",
       ".list-inline {list-style: none; margin:0; padding: 0}\n",
       ".list-inline>li {display: inline-block}\n",
       ".list-inline>li:not(:last-child)::after {content: \"\\00b7\"; padding: 0 .5ex}\n",
       "</style>\n",
       "<ol class=list-inline><li>'0min'</li><li>'5min'</li><li>'10min'</li><li>'30min'</li><li>'180min'</li><li>'720min'</li></ol>\n"
      ],
      "text/latex": [
       "\\begin{enumerate*}\n",
       "\\item '0min'\n",
       "\\item '5min'\n",
       "\\item '10min'\n",
       "\\item '30min'\n",
       "\\item '180min'\n",
       "\\item '720min'\n",
       "\\end{enumerate*}\n"
      ],
      "text/markdown": [
       "1. '0min'\n",
       "2. '5min'\n",
       "3. '10min'\n",
       "4. '30min'\n",
       "5. '180min'\n",
       "6. '720min'\n",
       "\n",
       "\n"
      ],
      "text/plain": [
       "[1] \"0min\"   \"5min\"   \"10min\"  \"30min\"  \"180min\" \"720min\""
      ]
     },
     "metadata": {},
     "output_type": "display_data"
    },
    {
     "data": {
      "text/html": [
       "<style>\n",
       ".list-inline {list-style: none; margin:0; padding: 0}\n",
       ".list-inline>li {display: inline-block}\n",
       ".list-inline>li:not(:last-child)::after {content: \"\\00b7\"; padding: 0 .5ex}\n",
       "</style>\n",
       "<ol class=list-inline><li>'Jin668_V991'</li><li>'Jin668_Fov'</li><li>'glr4.8_Fov'</li></ol>\n"
      ],
      "text/latex": [
       "\\begin{enumerate*}\n",
       "\\item 'Jin668\\_V991'\n",
       "\\item 'Jin668\\_Fov'\n",
       "\\item 'glr4.8\\_Fov'\n",
       "\\end{enumerate*}\n"
      ],
      "text/markdown": [
       "1. 'Jin668_V991'\n",
       "2. 'Jin668_Fov'\n",
       "3. 'glr4.8_Fov'\n",
       "\n",
       "\n"
      ],
      "text/plain": [
       "[1] \"Jin668_V991\" \"Jin668_Fov\"  \"glr4.8_Fov\" "
      ]
     },
     "metadata": {},
     "output_type": "display_data"
    },
    {
     "data": {
      "image/png": "[encoded data removed]",
      "text/plain": [
       "plot without title"
      ]
     },
     "metadata": {
      "image/png": {
       "height": 420,
       "width": 420
      }
     },
     "output_type": "display_data"
    }
   ],
   "source": [
    "## 统计chromosight 所鉴定出的loop数目\n",
    "rm(list = ls())\n",
    "setwd('G:/Billfish/VD_FOV_3Dgenome/HiC/loop/rawdata/chromosight')\n",
    "library(ggplot2)\n",
    "library(ggpubr)\n",
    "library(ggbreak)\n",
    "df <- read.csv('Jin668_Glr19_chromsight_statistics.csv', header = T)\n",
    "df <- within(df, times <- factor(times, levels = c(\"0min\", \"5min\", \"10min\", \"30min\", \"180min\", \"720min\")))\n",
    "with(df, levels(times))\n",
    "df <- within(df, treatments <- factor(treatments, levels = c(\"Jin668_V991\", \"Jin668_Fov\", \"glr4.8_Fov\")))\n",
    "with(df, levels(treatments))\n",
    "fg <- ggplot(df, aes(x=times, y=number, fill = times))+\n",
    "facet_grid(.~treatments)+\n",
    "geom_bar(stat = \"identity\", position = \"dodge\", color = \"black\")+\n",
    "labs(x=NULL, y='number of loops')+\n",
    "theme(panel.background = element_blank(), \n",
    "    panel.grid = element_blank(),\n",
    "    axis.line=element_line(linetype=1,color=\"black\"),\n",
    "    axis.text.x=element_text(color=\"black\", angle=315, hjust=0),\n",
    "    axis.text.y=element_text(color=\"black\"),\n",
    "    legend.position='None',\n",
    "    axis.ticks.length = unit(0.25, 'cm'),\n",
    "    panel.spacing.x = unit(0.05, 'cm')\n",
    "    ) +\n",
    "    scale_y_break(c(10000,80000), scales=5)+\n",
    "    scale_fill_manual(values=c(\"#FFE6B7FF\", \"#FFD06FFF\", \"#F7AA58FF\", \"#EF8A47FF\", \"#E76254FF\", \"#F84848FF\"))\n",
    "fg\n",
    "ggsave(plot =fg, filename = 'Jin668_Glr19_chromsight_statistics.pdf', height =4, width = 4.5)"
   ]
  },
  {
   "cell_type": "code",
   "execution_count": 21,
   "metadata": {
    "vscode": {
     "languageId": "r"
    }
   },
   "outputs": [
    {
     "data": {
      "text/html": [
       "<style>\n",
       ".list-inline {list-style: none; margin:0; padding: 0}\n",
       ".list-inline>li {display: inline-block}\n",
       ".list-inline>li:not(:last-child)::after {content: \"\\00b7\"; padding: 0 .5ex}\n",
       "</style>\n",
       "<ol class=list-inline><li>'0min'</li><li>'5min'</li><li>'10min'</li><li>'30min'</li><li>'180min'</li><li>'720min'</li></ol>\n"
      ],
      "text/latex": [
       "\\begin{enumerate*}\n",
       "\\item '0min'\n",
       "\\item '5min'\n",
       "\\item '10min'\n",
       "\\item '30min'\n",
       "\\item '180min'\n",
       "\\item '720min'\n",
       "\\end{enumerate*}\n"
      ],
      "text/markdown": [
       "1. '0min'\n",
       "2. '5min'\n",
       "3. '10min'\n",
       "4. '30min'\n",
       "5. '180min'\n",
       "6. '720min'\n",
       "\n",
       "\n"
      ],
      "text/plain": [
       "[1] \"0min\"   \"5min\"   \"10min\"  \"30min\"  \"180min\" \"720min\""
      ]
     },
     "metadata": {},
     "output_type": "display_data"
    },
    {
     "data": {
      "text/html": [
       "<style>\n",
       ".list-inline {list-style: none; margin:0; padding: 0}\n",
       ".list-inline>li {display: inline-block}\n",
       ".list-inline>li:not(:last-child)::after {content: \"\\00b7\"; padding: 0 .5ex}\n",
       "</style>\n",
       "<ol class=list-inline><li>'Jin668_V991'</li><li>'Jin668_Fov'</li><li>'glr4.8_Fov'</li></ol>\n"
      ],
      "text/latex": [
       "\\begin{enumerate*}\n",
       "\\item 'Jin668\\_V991'\n",
       "\\item 'Jin668\\_Fov'\n",
       "\\item 'glr4.8\\_Fov'\n",
       "\\end{enumerate*}\n"
      ],
      "text/markdown": [
       "1. 'Jin668_V991'\n",
       "2. 'Jin668_Fov'\n",
       "3. 'glr4.8_Fov'\n",
       "\n",
       "\n"
      ],
      "text/plain": [
       "[1] \"Jin668_V991\" \"Jin668_Fov\"  \"glr4.8_Fov\" "
      ]
     },
     "metadata": {},
     "output_type": "display_data"
    },
    {
     "data": {
      "image/png": "[encoded data removed]",
      "text/plain": [
       "plot without title"
      ]
     },
     "metadata": {
      "image/png": {
       "height": 420,
       "width": 420
      }
     },
     "output_type": "display_data"
    }
   ],
   "source": [
    "## 统计chromosight 所鉴定出的loop数目\n",
    "rm(list = ls())\n",
    "setwd('G:/Billfish/VD_FOV_3Dgenome/HiC/loop/rawdata/chromosight')\n",
    "library(ggplot2)\n",
    "library(ggpubr)\n",
    "library(ggbreak)\n",
    "df <- read.csv('Jin668_Glr19_GL_chromsight_statistics.csv', header = T)\n",
    "df <- within(df, times <- factor(times, levels = c(\"0min\", \"5min\", \"10min\", \"30min\", \"180min\", \"720min\")))\n",
    "with(df, levels(times))\n",
    "df <- within(df, treatments <- factor(treatments, levels = c(\"Jin668_V991\", \"Jin668_Fov\", \"glr4.8_Fov\")))\n",
    "with(df, levels(treatments))\n",
    "fg <- ggplot(df, aes(x=times, y=number, fill = times))+\n",
    "facet_grid(.~treatments)+\n",
    "geom_bar(stat = \"identity\", position = \"dodge\", color = \"black\")+\n",
    "labs(x=NULL, y='number of gene loops')+\n",
    "theme(panel.background = element_blank(), \n",
    "    panel.grid = element_blank(),\n",
    "    axis.line=element_line(linetype=1,color=\"black\"),\n",
    "    axis.text.x=element_text(color=\"black\", angle=315, hjust=0),\n",
    "    axis.text.y=element_text(color=\"black\"),\n",
    "    legend.position='None',\n",
    "    axis.ticks.length = unit(0.25, 'cm'),\n",
    "    panel.spacing.x = unit(0.05, 'cm')\n",
    "    ) +\n",
    "    scale_y_break(c(2000,8000), scales=5)+\n",
    "    scale_fill_manual(values=c(\"#FFE6B7FF\", \"#FFD06FFF\", \"#F7AA58FF\", \"#EF8A47FF\", \"#E76254FF\", \"#F84848FF\"))\n",
    "fg\n",
    "ggsave(plot =fg, filename = 'Jin668_Glr19_GL_chromsight_statistics.pdf', height =4, width = 4.5)"
   ]
  },
  {
   "cell_type": "code",
   "execution_count": 24,
   "metadata": {
    "vscode": {
     "languageId": "r"
    }
   },
   "outputs": [
    {
     "data": {
      "text/html": [
       "<style>\n",
       ".list-inline {list-style: none; margin:0; padding: 0}\n",
       ".list-inline>li {display: inline-block}\n",
       ".list-inline>li:not(:last-child)::after {content: \"\\00b7\"; padding: 0 .5ex}\n",
       "</style>\n",
       "<ol class=list-inline><li>'0min'</li><li>'5min'</li><li>'10min'</li><li>'30min'</li><li>'180min'</li><li>'720min'</li></ol>\n"
      ],
      "text/latex": [
       "\\begin{enumerate*}\n",
       "\\item '0min'\n",
       "\\item '5min'\n",
       "\\item '10min'\n",
       "\\item '30min'\n",
       "\\item '180min'\n",
       "\\item '720min'\n",
       "\\end{enumerate*}\n"
      ],
      "text/markdown": [
       "1. '0min'\n",
       "2. '5min'\n",
       "3. '10min'\n",
       "4. '30min'\n",
       "5. '180min'\n",
       "6. '720min'\n",
       "\n",
       "\n"
      ],
      "text/plain": [
       "[1] \"0min\"   \"5min\"   \"10min\"  \"30min\"  \"180min\" \"720min\""
      ]
     },
     "metadata": {},
     "output_type": "display_data"
    },
    {
     "data": {
      "text/html": [
       "<style>\n",
       ".list-inline {list-style: none; margin:0; padding: 0}\n",
       ".list-inline>li {display: inline-block}\n",
       ".list-inline>li:not(:last-child)::after {content: \"\\00b7\"; padding: 0 .5ex}\n",
       "</style>\n",
       "<ol class=list-inline><li>'Jin668_V991'</li><li>'Jin668_Fov'</li><li>'glr4.8_Fov'</li></ol>\n"
      ],
      "text/latex": [
       "\\begin{enumerate*}\n",
       "\\item 'Jin668\\_V991'\n",
       "\\item 'Jin668\\_Fov'\n",
       "\\item 'glr4.8\\_Fov'\n",
       "\\end{enumerate*}\n"
      ],
      "text/markdown": [
       "1. 'Jin668_V991'\n",
       "2. 'Jin668_Fov'\n",
       "3. 'glr4.8_Fov'\n",
       "\n",
       "\n"
      ],
      "text/plain": [
       "[1] \"Jin668_V991\" \"Jin668_Fov\"  \"glr4.8_Fov\" "
      ]
     },
     "metadata": {},
     "output_type": "display_data"
    },
    {
     "data": {
      "image/png": "[encoded data removed]",
      "text/plain": [
       "plot without title"
      ]
     },
     "metadata": {
      "image/png": {
       "height": 420,
       "width": 420
      }
     },
     "output_type": "display_data"
    }
   ],
   "source": [
    "## 统计mustache 所鉴定出的loop数目\n",
    "rm(list = ls())\n",
    "setwd('G:/Billfish/VD_FOV_3Dgenome/HiC/loop/rawdata/mustache')\n",
    "library(ggplot2)\n",
    "library(ggpubr)\n",
    "library(ggbreak)\n",
    "df <- read.csv('Jin668_Glr19_mustache_statistics.csv', header = T)\n",
    "df <- within(df, times <- factor(times, levels = c(\"0min\", \"5min\", \"10min\", \"30min\", \"180min\", \"720min\")))\n",
    "with(df, levels(times))\n",
    "df <- within(df, treatments <- factor(treatments, levels = c(\"Jin668_V991\", \"Jin668_Fov\", \"glr4.8_Fov\")))\n",
    "with(df, levels(treatments))\n",
    "fg <- ggplot(df, aes(x=times, y=number, fill = times))+\n",
    "facet_grid(.~treatments)+\n",
    "geom_bar(stat = \"identity\", position = \"dodge\", color = \"black\")+\n",
    "labs(x=NULL, y='number of loops')+\n",
    "theme(panel.background = element_blank(), \n",
    "    panel.grid = element_blank(),\n",
    "    axis.line=element_line(linetype=1,color=\"black\"),\n",
    "    axis.text.x=element_text(color=\"black\", angle=315, hjust=0),\n",
    "    axis.text.y=element_text(color=\"black\"),\n",
    "    legend.position='None',\n",
    "    axis.ticks.length = unit(0.25, 'cm'),\n",
    "    panel.spacing.x = unit(0.05, 'cm')\n",
    "    ) +\n",
    "    scale_y_break(c(10000,80000), scales=5)+\n",
    "    scale_fill_manual(values=c(\"#FFE6B7FF\", \"#FFD06FFF\", \"#F7AA58FF\", \"#EF8A47FF\", \"#E76254FF\", \"#F84848FF\"))\n",
    "fg\n",
    "ggsave(plot =fg, filename = 'Jin668_Glr19_mustache_statistics.pdf', height =4, width = 4.5)"
   ]
  },
  {
   "cell_type": "code",
   "execution_count": 27,
   "metadata": {
    "vscode": {
     "languageId": "r"
    }
   },
   "outputs": [
    {
     "data": {
      "text/html": [
       "<style>\n",
       ".list-inline {list-style: none; margin:0; padding: 0}\n",
       ".list-inline>li {display: inline-block}\n",
       ".list-inline>li:not(:last-child)::after {content: \"\\00b7\"; padding: 0 .5ex}\n",
       "</style>\n",
       "<ol class=list-inline><li>'0min'</li><li>'5min'</li><li>'10min'</li><li>'30min'</li><li>'180min'</li><li>'720min'</li></ol>\n"
      ],
      "text/latex": [
       "\\begin{enumerate*}\n",
       "\\item '0min'\n",
       "\\item '5min'\n",
       "\\item '10min'\n",
       "\\item '30min'\n",
       "\\item '180min'\n",
       "\\item '720min'\n",
       "\\end{enumerate*}\n"
      ],
      "text/markdown": [
       "1. '0min'\n",
       "2. '5min'\n",
       "3. '10min'\n",
       "4. '30min'\n",
       "5. '180min'\n",
       "6. '720min'\n",
       "\n",
       "\n"
      ],
      "text/plain": [
       "[1] \"0min\"   \"5min\"   \"10min\"  \"30min\"  \"180min\" \"720min\""
      ]
     },
     "metadata": {},
     "output_type": "display_data"
    },
    {
     "data": {
      "text/html": [
       "<style>\n",
       ".list-inline {list-style: none; margin:0; padding: 0}\n",
       ".list-inline>li {display: inline-block}\n",
       ".list-inline>li:not(:last-child)::after {content: \"\\00b7\"; padding: 0 .5ex}\n",
       "</style>\n",
       "<ol class=list-inline><li>'Jin668_V991'</li><li>'Jin668_Fov'</li><li>'glr4.8_Fov'</li></ol>\n"
      ],
      "text/latex": [
       "\\begin{enumerate*}\n",
       "\\item 'Jin668\\_V991'\n",
       "\\item 'Jin668\\_Fov'\n",
       "\\item 'glr4.8\\_Fov'\n",
       "\\end{enumerate*}\n"
      ],
      "text/markdown": [
       "1. 'Jin668_V991'\n",
       "2. 'Jin668_Fov'\n",
       "3. 'glr4.8_Fov'\n",
       "\n",
       "\n"
      ],
      "text/plain": [
       "[1] \"Jin668_V991\" \"Jin668_Fov\"  \"glr4.8_Fov\" "
      ]
     },
     "metadata": {},
     "output_type": "display_data"
    },
    {
     "data": {
      "image/png": "[encoded data removed]",
      "text/plain": [
       "plot without title"
      ]
     },
     "metadata": {
      "image/png": {
       "height": 420,
       "width": 420
      }
     },
     "output_type": "display_data"
    }
   ],
   "source": [
    "## 统计chromosight 所鉴定出的loop数目\n",
    "rm(list = ls())\n",
    "setwd('G:/Billfish/VD_FOV_3Dgenome/HiC/loop/rawdata/mustache')\n",
    "library(ggplot2)\n",
    "library(ggpubr)\n",
    "library(ggbreak)\n",
    "df <- read.csv('Jin668_Glr19_GL_mustache_statistics.csv', header = T)\n",
    "df <- within(df, times <- factor(times, levels = c(\"0min\", \"5min\", \"10min\", \"30min\", \"180min\", \"720min\")))\n",
    "with(df, levels(times))\n",
    "df <- within(df, treatments <- factor(treatments, levels = c(\"Jin668_V991\", \"Jin668_Fov\", \"glr4.8_Fov\")))\n",
    "with(df, levels(treatments))\n",
    "fg <- ggplot(df, aes(x=times, y=number, fill = times))+\n",
    "facet_grid(.~treatments)+\n",
    "geom_bar(stat = \"identity\", position = \"dodge\", color = \"black\")+\n",
    "labs(x=NULL, y='number of gene loops')+\n",
    "theme(panel.background = element_blank(), \n",
    "    panel.grid = element_blank(),\n",
    "    axis.line=element_line(linetype=1,color=\"black\"),\n",
    "    axis.text.x=element_text(color=\"black\", angle=315, hjust=0),\n",
    "    axis.text.y=element_text(color=\"black\"),\n",
    "    legend.position='None',\n",
    "    axis.ticks.length = unit(0.25, 'cm'),\n",
    "    panel.spacing.x = unit(0.05, 'cm')\n",
    "    ) +\n",
    "    scale_y_break(c(2000,8000), scales=5)+\n",
    "    scale_fill_manual(values=c(\"#FFE6B7FF\", \"#FFD06FFF\", \"#F7AA58FF\", \"#EF8A47FF\", \"#E76254FF\", \"#F84848FF\"))\n",
    "fg\n",
    "ggsave(plot =fg, filename = 'Jin668_Glr19_GL_mustache_statistics.pdf', height =4, width = 4.5)"
   ]
  },
  {
   "cell_type": "code",
   "execution_count": 47,
   "metadata": {
    "vscode": {
     "languageId": "r"
    }
   },
   "outputs": [
    {
     "data": {
      "text/html": [
       "<style>\n",
       ".list-inline {list-style: none; margin:0; padding: 0}\n",
       ".list-inline>li {display: inline-block}\n",
       ".list-inline>li:not(:last-child)::after {content: \"\\00b7\"; padding: 0 .5ex}\n",
       "</style>\n",
       "<ol class=list-inline><li>'0min'</li><li>'5min'</li><li>'10min'</li><li>'30min'</li><li>'180min'</li><li>'720min'</li></ol>\n"
      ],
      "text/latex": [
       "\\begin{enumerate*}\n",
       "\\item '0min'\n",
       "\\item '5min'\n",
       "\\item '10min'\n",
       "\\item '30min'\n",
       "\\item '180min'\n",
       "\\item '720min'\n",
       "\\end{enumerate*}\n"
      ],
      "text/markdown": [
       "1. '0min'\n",
       "2. '5min'\n",
       "3. '10min'\n",
       "4. '30min'\n",
       "5. '180min'\n",
       "6. '720min'\n",
       "\n",
       "\n"
      ],
      "text/plain": [
       "[1] \"0min\"   \"5min\"   \"10min\"  \"30min\"  \"180min\" \"720min\""
      ]
     },
     "metadata": {},
     "output_type": "display_data"
    },
    {
     "data": {
      "text/html": [
       "<style>\n",
       ".list-inline {list-style: none; margin:0; padding: 0}\n",
       ".list-inline>li {display: inline-block}\n",
       ".list-inline>li:not(:last-child)::after {content: \"\\00b7\"; padding: 0 .5ex}\n",
       "</style>\n",
       "<ol class=list-inline><li>'Jin668_V991'</li><li>'Jin668_Fov'</li><li>'glr4.8_Fov'</li></ol>\n"
      ],
      "text/latex": [
       "\\begin{enumerate*}\n",
       "\\item 'Jin668\\_V991'\n",
       "\\item 'Jin668\\_Fov'\n",
       "\\item 'glr4.8\\_Fov'\n",
       "\\end{enumerate*}\n"
      ],
      "text/markdown": [
       "1. 'Jin668_V991'\n",
       "2. 'Jin668_Fov'\n",
       "3. 'glr4.8_Fov'\n",
       "\n",
       "\n"
      ],
      "text/plain": [
       "[1] \"Jin668_V991\" \"Jin668_Fov\"  \"glr4.8_Fov\" "
      ]
     },
     "metadata": {},
     "output_type": "display_data"
    },
    {
     "data": {
      "image/png": "[encoded data removed]",
      "text/plain": [
       "plot without title"
      ]
     },
     "metadata": {
      "image/png": {
       "height": 420,
       "width": 420
      }
     },
     "output_type": "display_data"
    }
   ],
   "source": [
    "## 统计fithic 所鉴定出的loop数目\n",
    "rm(list = ls())\n",
    "setwd('G:/Billfish/VD_FOV_3Dgenome/HiC/loop/rawdata/fithic')\n",
    "library(ggplot2)\n",
    "library(ggpubr)\n",
    "library(ggbreak)\n",
    "df <- read.csv('Jin668_Glr19_fithic_statistics.csv', header = T)\n",
    "df <- within(df, times <- factor(times, levels = c(\"0min\", \"5min\", \"10min\", \"30min\", \"180min\", \"720min\")))\n",
    "with(df, levels(times))\n",
    "df <- within(df, treatments <- factor(treatments, levels = c(\"Jin668_V991\", \"Jin668_Fov\", \"glr4.8_Fov\")))\n",
    "with(df, levels(treatments))\n",
    "fg <- ggplot(df, aes(x=times, y=number, fill = times))+\n",
    "facet_grid(.~treatments)+\n",
    "geom_bar(stat = \"identity\", position = \"dodge\", color = \"black\")+\n",
    "labs(x=NULL, y='number of loops')+\n",
    "theme(panel.background = element_blank(), \n",
    "    panel.grid = element_blank(),\n",
    "    axis.line=element_line(linetype=1,color=\"black\"),\n",
    "    axis.text.x=element_text(color=\"black\", angle=315, hjust=0),\n",
    "    axis.text.y=element_text(color=\"black\"),\n",
    "    legend.position='None',\n",
    "    axis.ticks.length = unit(0.25, 'cm'),\n",
    "    panel.spacing.x = unit(0.05, 'cm')\n",
    "    ) +\n",
    "    scale_y_break(c(10000,200000), scales=5)+\n",
    "    scale_fill_manual(values=c(\"#FFE6B7FF\", \"#FFD06FFF\", \"#F7AA58FF\", \"#EF8A47FF\", \"#E76254FF\", \"#F84848FF\"))\n",
    "fg\n",
    "ggsave(plot =fg, filename = 'Jin668_Glr19_fithic_statistics.pdf', height =4, width = 4.5)"
   ]
  },
  {
   "cell_type": "code",
   "execution_count": 49,
   "metadata": {
    "vscode": {
     "languageId": "r"
    }
   },
   "outputs": [
    {
     "data": {
      "text/html": [
       "<style>\n",
       ".list-inline {list-style: none; margin:0; padding: 0}\n",
       ".list-inline>li {display: inline-block}\n",
       ".list-inline>li:not(:last-child)::after {content: \"\\00b7\"; padding: 0 .5ex}\n",
       "</style>\n",
       "<ol class=list-inline><li>'0min'</li><li>'5min'</li><li>'10min'</li><li>'30min'</li><li>'180min'</li><li>'720min'</li></ol>\n"
      ],
      "text/latex": [
       "\\begin{enumerate*}\n",
       "\\item '0min'\n",
       "\\item '5min'\n",
       "\\item '10min'\n",
       "\\item '30min'\n",
       "\\item '180min'\n",
       "\\item '720min'\n",
       "\\end{enumerate*}\n"
      ],
      "text/markdown": [
       "1. '0min'\n",
       "2. '5min'\n",
       "3. '10min'\n",
       "4. '30min'\n",
       "5. '180min'\n",
       "6. '720min'\n",
       "\n",
       "\n"
      ],
      "text/plain": [
       "[1] \"0min\"   \"5min\"   \"10min\"  \"30min\"  \"180min\" \"720min\""
      ]
     },
     "metadata": {},
     "output_type": "display_data"
    },
    {
     "data": {
      "text/html": [
       "<style>\n",
       ".list-inline {list-style: none; margin:0; padding: 0}\n",
       ".list-inline>li {display: inline-block}\n",
       ".list-inline>li:not(:last-child)::after {content: \"\\00b7\"; padding: 0 .5ex}\n",
       "</style>\n",
       "<ol class=list-inline><li>'Jin668_V991'</li><li>'Jin668_Fov'</li><li>'glr4.8_Fov'</li></ol>\n"
      ],
      "text/latex": [
       "\\begin{enumerate*}\n",
       "\\item 'Jin668\\_V991'\n",
       "\\item 'Jin668\\_Fov'\n",
       "\\item 'glr4.8\\_Fov'\n",
       "\\end{enumerate*}\n"
      ],
      "text/markdown": [
       "1. 'Jin668_V991'\n",
       "2. 'Jin668_Fov'\n",
       "3. 'glr4.8_Fov'\n",
       "\n",
       "\n"
      ],
      "text/plain": [
       "[1] \"Jin668_V991\" \"Jin668_Fov\"  \"glr4.8_Fov\" "
      ]
     },
     "metadata": {},
     "output_type": "display_data"
    },
    {
     "data": {
      "image/png": "[encoded data removed]",
      "text/plain": [
       "plot without title"
      ]
     },
     "metadata": {
      "image/png": {
       "height": 420,
       "width": 420
      }
     },
     "output_type": "display_data"
    }
   ],
   "source": [
    "## 统计fithic 所鉴定出的loop数目\n",
    "rm(list = ls())\n",
    "setwd('G:/Billfish/VD_FOV_3Dgenome/HiC/loop/rawdata/fithic')\n",
    "library(ggplot2)\n",
    "library(ggpubr)\n",
    "library(ggbreak)\n",
    "df <- read.csv('Jin668_Glr19_GL_fithic_statistics.csv', header = T)\n",
    "df <- within(df, times <- factor(times, levels = c(\"0min\", \"5min\", \"10min\", \"30min\", \"180min\", \"720min\")))\n",
    "with(df, levels(times))\n",
    "df <- within(df, treatments <- factor(treatments, levels = c(\"Jin668_V991\", \"Jin668_Fov\", \"glr4.8_Fov\")))\n",
    "with(df, levels(treatments))\n",
    "fg <- ggplot(df, aes(x=times, y=number, fill = times))+\n",
    "facet_grid(.~treatments)+\n",
    "geom_bar(stat = \"identity\", position = \"dodge\", color = \"black\")+\n",
    "labs(x=NULL, y='number of gene loops')+\n",
    "theme(panel.background = element_blank(), \n",
    "    panel.grid = element_blank(),\n",
    "    axis.line=element_line(linetype=1,color=\"black\"),\n",
    "    axis.text.x=element_text(color=\"black\", angle=315, hjust=0),\n",
    "    axis.text.y=element_text(color=\"black\"),\n",
    "    legend.position='None',\n",
    "    axis.ticks.length = unit(0.25, 'cm'),\n",
    "    panel.spacing.x = unit(0.05, 'cm')\n",
    "    ) +\n",
    "    scale_y_break(c(2000,8000), scales=5)+\n",
    "    scale_fill_manual(values=c(\"#FFE6B7FF\", \"#FFD06FFF\", \"#F7AA58FF\", \"#EF8A47FF\", \"#E76254FF\", \"#F84848FF\"))\n",
    "fg\n",
    "ggsave(plot =fg, filename = 'Jin668_Glr19_GL_fithic_statistics.pdf', height =4, width = 4.5)"
   ]
  },
  {
   "cell_type": "code",
   "execution_count": null,
   "metadata": {
    "vscode": {
     "languageId": "r"
    }
   },
   "outputs": [],
   "source": [
    "## 分析sub compartment的占比\n",
    "rm(list = ls())\n",
    "#options(repr.plot.width=2,repr.plot.height=2.5)\n",
    "setwd('G:/Billfish/VD_FOV_3Dgenome/HiC/subcpt/rawdata')\n",
    "library(ggplot2)\n",
    "library(ggpubr)\n",
    "library(paletteer)\n",
    "df <- read.csv('J668_tissues_subcpt_sta.bed', sep = '\\t', header = T)\n",
    "df <- within(df, tissues <- factor(tissues, levels = c('Anther', 'Ovule', 'Root', 'Radicle', 'Leaf', 'Hypocotyl', 'Cotyledon', 'Stem',  'Fiber_10DPA', 'Fiber_20DPA', 'Petal', 'Stigma')))\n",
    "with(df, levels(tissues))\n",
    "df <- within(df, tags <- factor(tags, levels = c('B1', 'B2', 'B3', 'B4', 'A4', 'A3', 'A2', 'A1')))\n",
    "with(df, levels(tags))\n",
    "fg <- ggplot(df, aes(x=tissues, y=ratio*100, fill=tags)) +\n",
    "geom_bar(stat = \"identity\", position = \"stack\", color=\"black\", size=0.2)+\n",
    "labs(x=NULL, y='Proportion of sub-compartment')+\n",
    "#facet_grid(.~days)+\n",
    "#coord_cartesian(ylim = c(0, 8)) +\n",
    "theme(panel.background = element_blank(), \n",
    "     panel.grid = element_blank(),\n",
    "     panel.border = element_rect(fill=NA),\n",
    "     axis.line=element_line(linetype=1,color=\"black\", size=0.25),\n",
    "     legend.position='top',\n",
    "     axis.text.x = element_text(angle = 315, hjust = 0, color='black'),\n",
    "     axis.text.y = element_text(color='black'),\n",
    "     axis.ticks.length = unit(0.25, 'cm'),\n",
    "     axis.ticks = element_line(color='black', size=0.25),\n",
    "     legend.key.size = unit(10, \"pt\")\n",
    "     )+\n",
    "     #scale_fill_paletteer_d(\"dichromat::BluetoOrange_8\")\n",
    "     scale_fill_manual(values = c('#257D98', '#38B2A3', '#67DBA5', '#B0F2BC', '#ECDA9A', '#F3AD6A', '#F97B57', '#EE4D5A'))\n",
    "fg\n",
    "ggsave(plot =fg, filename = 'J668_tissues_subcpt_sta.pdf', height =3.5, width = 3)\n",
    "#ggsave(plot =fg, filename = 'J668_tissues_subcpt_sta_adjust.pdf', height =3.5, width = 3)\n"
   ]
  },
  {
   "cell_type": "code",
   "execution_count": 44,
   "metadata": {
    "vscode": {
     "languageId": "r"
    }
   },
   "outputs": [
    {
     "data": {
      "text/html": [
       "<style>\n",
       ".list-inline {list-style: none; margin:0; padding: 0}\n",
       ".list-inline>li {display: inline-block}\n",
       ".list-inline>li:not(:last-child)::after {content: \"\\00b7\"; padding: 0 .5ex}\n",
       "</style>\n",
       "<ol class=list-inline><li>'0min'</li><li>'5min'</li><li>'10min'</li><li>'30min'</li><li>'180min'</li><li>'720min'</li></ol>\n"
      ],
      "text/latex": [
       "\\begin{enumerate*}\n",
       "\\item '0min'\n",
       "\\item '5min'\n",
       "\\item '10min'\n",
       "\\item '30min'\n",
       "\\item '180min'\n",
       "\\item '720min'\n",
       "\\end{enumerate*}\n"
      ],
      "text/markdown": [
       "1. '0min'\n",
       "2. '5min'\n",
       "3. '10min'\n",
       "4. '30min'\n",
       "5. '180min'\n",
       "6. '720min'\n",
       "\n",
       "\n"
      ],
      "text/plain": [
       "[1] \"0min\"   \"5min\"   \"10min\"  \"30min\"  \"180min\" \"720min\""
      ]
     },
     "metadata": {},
     "output_type": "display_data"
    },
    {
     "data": {
      "text/html": [
       "<style>\n",
       ".list-inline {list-style: none; margin:0; padding: 0}\n",
       ".list-inline>li {display: inline-block}\n",
       ".list-inline>li:not(:last-child)::after {content: \"\\00b7\"; padding: 0 .5ex}\n",
       "</style>\n",
       "<ol class=list-inline><li>'Jin668_V991'</li><li>'Jin668_Fov'</li><li>'glr4.8_Fov'</li></ol>\n"
      ],
      "text/latex": [
       "\\begin{enumerate*}\n",
       "\\item 'Jin668\\_V991'\n",
       "\\item 'Jin668\\_Fov'\n",
       "\\item 'glr4.8\\_Fov'\n",
       "\\end{enumerate*}\n"
      ],
      "text/markdown": [
       "1. 'Jin668_V991'\n",
       "2. 'Jin668_Fov'\n",
       "3. 'glr4.8_Fov'\n",
       "\n",
       "\n"
      ],
      "text/plain": [
       "[1] \"Jin668_V991\" \"Jin668_Fov\"  \"glr4.8_Fov\" "
      ]
     },
     "metadata": {},
     "output_type": "display_data"
    },
    {
     "data": {
      "image/png": "[encoded data removed]",
      "text/plain": [
       "plot without title"
      ]
     },
     "metadata": {
      "image/png": {
       "height": 420,
       "width": 420
      }
     },
     "output_type": "display_data"
    }
   ],
   "source": [
    "## 绘制分辨率图\n",
    "rm(list = ls())\n",
    "setwd('G:/Billfish/VD_FOV_3Dgenome/HiC/resolution')\n",
    "library(ggplot2)\n",
    "library(ggpubr)\n",
    "library(ggbreak)\n",
    "#df <- read.csv('result_old.txt', sep=\"\\t\", header = T)\n",
    "df <- read.csv('result.txt', sep=\"\\t\", header = T)\n",
    "\n",
    "df <- within(df, times <- factor(times, levels = c(\"0min\", \"5min\", \"10min\", \"30min\", \"180min\", \"720min\")))\n",
    "with(df, levels(times))\n",
    "df <- within(df, treatments <- factor(treatments, levels = c( \"Jin668_V991\", \"Jin668_Fov\", \"glr4.8_Fov\")))\n",
    "with(df, levels(treatments))\n",
    "fg <- ggplot(df, aes(x=times, y=ratio, fill = times))+\n",
    "facet_grid(.~treatments)+\n",
    "geom_bar(stat = \"identity\", position = \"dodge\", color = \"black\")+\n",
    "geom_hline(aes(yintercept=80), linetype=\"dashed\")+\n",
    "labs(x=NULL, y='proporation of bins')+\n",
    "theme(panel.background = element_blank(), \n",
    "    panel.grid = element_blank(),\n",
    "    axis.line=element_line(linetype=1,color=\"black\"),\n",
    "    axis.text.x=element_text(color=\"black\", angle=315, hjust=0),\n",
    "    axis.text.y=element_text(color=\"black\"),\n",
    "    legend.position='None',\n",
    "    axis.ticks.length = unit(0.25, 'cm'),\n",
    "    panel.spacing.x = unit(0.05, 'cm')\n",
    "    ) +\n",
    "    scale_fill_manual(values=c(\"#FFE6B7FF\", \"#FFD06FFF\", \"#F7AA58FF\", \"#EF8A47FF\", \"#E76254FF\", \"#F84848FF\"))+\n",
    "    scale_y_continuous(breaks=seq(0,100,20), limits=c(0,100))\n",
    "fg\n",
    "ggsave(plot =fg, filename = 'result.pdf', height =4, width = 4.5)"
   ]
  },
  {
   "cell_type": "code",
   "execution_count": 7,
   "metadata": {
    "vscode": {
     "languageId": "r"
    }
   },
   "outputs": [
    {
     "data": {
      "text/html": [
       "<style>\n",
       ".list-inline {list-style: none; margin:0; padding: 0}\n",
       ".list-inline>li {display: inline-block}\n",
       ".list-inline>li:not(:last-child)::after {content: \"\\00b7\"; padding: 0 .5ex}\n",
       "</style>\n",
       "<ol class=list-inline><li>'0min'</li><li>'5min'</li><li>'10min'</li><li>'30min'</li><li>'180min'</li><li>'720min'</li></ol>\n"
      ],
      "text/latex": [
       "\\begin{enumerate*}\n",
       "\\item '0min'\n",
       "\\item '5min'\n",
       "\\item '10min'\n",
       "\\item '30min'\n",
       "\\item '180min'\n",
       "\\item '720min'\n",
       "\\end{enumerate*}\n"
      ],
      "text/markdown": [
       "1. '0min'\n",
       "2. '5min'\n",
       "3. '10min'\n",
       "4. '30min'\n",
       "5. '180min'\n",
       "6. '720min'\n",
       "\n",
       "\n"
      ],
      "text/plain": [
       "[1] \"0min\"   \"5min\"   \"10min\"  \"30min\"  \"180min\" \"720min\""
      ]
     },
     "metadata": {},
     "output_type": "display_data"
    },
    {
     "data": {
      "text/html": [
       "<style>\n",
       ".list-inline {list-style: none; margin:0; padding: 0}\n",
       ".list-inline>li {display: inline-block}\n",
       ".list-inline>li:not(:last-child)::after {content: \"\\00b7\"; padding: 0 .5ex}\n",
       "</style>\n",
       "<ol class=list-inline><li>'Jin668_V991'</li><li>'Jin668_Fov'</li><li>'glr4.8_Fov'</li></ol>\n"
      ],
      "text/latex": [
       "\\begin{enumerate*}\n",
       "\\item 'Jin668\\_V991'\n",
       "\\item 'Jin668\\_Fov'\n",
       "\\item 'glr4.8\\_Fov'\n",
       "\\end{enumerate*}\n"
      ],
      "text/markdown": [
       "1. 'Jin668_V991'\n",
       "2. 'Jin668_Fov'\n",
       "3. 'glr4.8_Fov'\n",
       "\n",
       "\n"
      ],
      "text/plain": [
       "[1] \"Jin668_V991\" \"Jin668_Fov\"  \"glr4.8_Fov\" "
      ]
     },
     "metadata": {},
     "output_type": "display_data"
    },
    {
     "data": {
      "text/html": [
       "<style>\n",
       ".list-inline {list-style: none; margin:0; padding: 0}\n",
       ".list-inline>li {display: inline-block}\n",
       ".list-inline>li:not(:last-child)::after {content: \"\\00b7\"; padding: 0 .5ex}\n",
       "</style>\n",
       "<ol class=list-inline><li>'B1'</li><li>'B2'</li><li>'B3'</li><li>'B4'</li><li>'A4'</li><li>'A3'</li><li>'A2'</li><li>'A1'</li></ol>\n"
      ],
      "text/latex": [
       "\\begin{enumerate*}\n",
       "\\item 'B1'\n",
       "\\item 'B2'\n",
       "\\item 'B3'\n",
       "\\item 'B4'\n",
       "\\item 'A4'\n",
       "\\item 'A3'\n",
       "\\item 'A2'\n",
       "\\item 'A1'\n",
       "\\end{enumerate*}\n"
      ],
      "text/markdown": [
       "1. 'B1'\n",
       "2. 'B2'\n",
       "3. 'B3'\n",
       "4. 'B4'\n",
       "5. 'A4'\n",
       "6. 'A3'\n",
       "7. 'A2'\n",
       "8. 'A1'\n",
       "\n",
       "\n"
      ],
      "text/plain": [
       "[1] \"B1\" \"B2\" \"B3\" \"B4\" \"A4\" \"A3\" \"A2\" \"A1\""
      ]
     },
     "metadata": {},
     "output_type": "display_data"
    },
    {
     "data": {
      "image/png": "[encoded data removed]",
      "text/plain": [
       "plot without title"
      ]
     },
     "metadata": {
      "image/png": {
       "height": 420,
       "width": 420
      }
     },
     "output_type": "display_data"
    }
   ],
   "source": [
    "## 统计chromosight 所鉴定出的loop数目\n",
    "rm(list = ls())\n",
    "setwd('G:/Billfish/VD_FOV_3Dgenome/HiC/subcpt/rawdata')\n",
    "library(ggplot2)\n",
    "library(ggpubr)\n",
    "library(ggbreak)\n",
    "df <- read.csv('J668_Glr19_Fov7_V991_subcpt_sta.csv', header = T)\n",
    "df <- within(df, times <- factor(times, levels = c(\"0min\", \"5min\", \"10min\", \"30min\", \"180min\", \"720min\")))\n",
    "with(df, levels(times))\n",
    "df <- within(df, treatments <- factor(treatments, levels = c(\"Jin668_V991\", \"Jin668_Fov\", \"glr4.8_Fov\")))\n",
    "with(df, levels(treatments))\n",
    "df <- within(df, subcpt <- factor(subcpt, levels = c('B1', 'B2', 'B3', 'B4', 'A4', 'A3', 'A2', 'A1')))\n",
    "with(df, levels(subcpt))\n",
    "fg <- ggplot(df, aes(x=times, y=number, fill = subcpt))+\n",
    "facet_grid(.~treatments)+\n",
    "geom_bar(stat = \"identity\", position = \"fill\", color = \"black\")+\n",
    "labs(x=NULL, y='number of loops')+\n",
    "theme(panel.background = element_blank(), \n",
    "    panel.grid = element_blank(),\n",
    "    axis.line=element_line(linetype=1,color=\"black\"),\n",
    "    axis.text.x=element_text(color=\"black\", angle=315, hjust=0),\n",
    "    axis.text.y=element_text(color=\"black\"),\n",
    "    legend.position='None',\n",
    "    axis.ticks.length = unit(0.25, 'cm'),\n",
    "    panel.spacing.x = unit(0.05, 'cm')\n",
    "    )+\n",
    "    scale_fill_manual(values=c('#257D98', '#38B2A3', '#67DBA5', '#B0F2BC', '#ECDA9A', '#F3AD6A', '#F97B57', '#EE4D5A'))\n",
    "fg\n",
    "ggsave(plot =fg, filename = 'J668_Glr19_Fov7_V991_subcpt_sta.pdf', height =4, width = 4.5)"
   ]
  },
  {
   "cell_type": "code",
   "execution_count": 11,
   "metadata": {
    "vscode": {
     "languageId": "r"
    }
   },
   "outputs": [
    {
     "data": {
      "text/html": [
       "<style>\n",
       ".list-inline {list-style: none; margin:0; padding: 0}\n",
       ".list-inline>li {display: inline-block}\n",
       ".list-inline>li:not(:last-child)::after {content: \"\\00b7\"; padding: 0 .5ex}\n",
       "</style>\n",
       "<ol class=list-inline><li>'0min'</li><li>'5min'</li><li>'10min'</li><li>'30min'</li><li>'180min'</li><li>'720min'</li></ol>\n"
      ],
      "text/latex": [
       "\\begin{enumerate*}\n",
       "\\item '0min'\n",
       "\\item '5min'\n",
       "\\item '10min'\n",
       "\\item '30min'\n",
       "\\item '180min'\n",
       "\\item '720min'\n",
       "\\end{enumerate*}\n"
      ],
      "text/markdown": [
       "1. '0min'\n",
       "2. '5min'\n",
       "3. '10min'\n",
       "4. '30min'\n",
       "5. '180min'\n",
       "6. '720min'\n",
       "\n",
       "\n"
      ],
      "text/plain": [
       "[1] \"0min\"   \"5min\"   \"10min\"  \"30min\"  \"180min\" \"720min\""
      ]
     },
     "metadata": {},
     "output_type": "display_data"
    },
    {
     "data": {
      "image/png": "[encoded data removed]",
      "text/plain": [
       "plot without title"
      ]
     },
     "metadata": {
      "image/png": {
       "height": 420,
       "width": 420
      }
     },
     "output_type": "display_data"
    }
   ],
   "source": [
    "## 统计分析差异的peaks数目,\n",
    "rm(list = ls())\n",
    "setwd('G:/Billfish/VD_FOV_3Dgenome/Cut_tag/rawdata/diffpeaks')\n",
    "library(ggplot2)\n",
    "library(ggpubr)\n",
    "library(ggbreak)\n",
    "library(dplyr)\n",
    "df <- read.csv('J668_diff_strain.csv', header = T)\n",
    "df <- within(df, times <- factor(times, levels = c(\"0min\", \"5min\", \"10min\", \"30min\", \"180min\", \"720min\")))\n",
    "with(df, levels(times))\n",
    "df_edgeR <- filter(df, methods=='deseq2')\n",
    "fg <- ggplot(df_edgeR, aes(x=times, y=number, fill = tags))+\n",
    "facet_grid(sample3~chip)+\n",
    "geom_bar(stat = \"identity\", position = \"dodge\", color = \"black\")+\n",
    "labs(x=NULL, y='number of different peaks')+\n",
    "theme(panel.background = element_blank(), \n",
    "    panel.grid = element_blank(),\n",
    "    axis.line=element_line(linetype=1,color=\"black\"),\n",
    "    axis.text.x=element_text(color=\"black\", angle=315, hjust=0),\n",
    "    axis.text.y=element_text(color=\"black\"),\n",
    "    legend.position='top',\n",
    "    axis.ticks.length = unit(0.25, 'cm'),\n",
    "    panel.spacing.x = unit(0.05, 'cm')\n",
    "    )+\n",
    "    scale_fill_manual(values=c('#257D98',  '#EE4D5A'))\n",
    "fg\n",
    "ggsave(plot =fg, filename = 'J668_diff_strain.pdf', height =4, width = 4.5)"
   ]
  },
  {
   "cell_type": "code",
   "execution_count": 14,
   "metadata": {
    "vscode": {
     "languageId": "r"
    }
   },
   "outputs": [
    {
     "data": {
      "text/html": [
       "<style>\n",
       ".list-inline {list-style: none; margin:0; padding: 0}\n",
       ".list-inline>li {display: inline-block}\n",
       ".list-inline>li:not(:last-child)::after {content: \"\\00b7\"; padding: 0 .5ex}\n",
       "</style>\n",
       "<ol class=list-inline><li>'0min-5min'</li><li>'5min-10min'</li><li>'10min-30min'</li><li>'30min-180min'</li><li>'180min-720min'</li></ol>\n"
      ],
      "text/latex": [
       "\\begin{enumerate*}\n",
       "\\item '0min-5min'\n",
       "\\item '5min-10min'\n",
       "\\item '10min-30min'\n",
       "\\item '30min-180min'\n",
       "\\item '180min-720min'\n",
       "\\end{enumerate*}\n"
      ],
      "text/markdown": [
       "1. '0min-5min'\n",
       "2. '5min-10min'\n",
       "3. '10min-30min'\n",
       "4. '30min-180min'\n",
       "5. '180min-720min'\n",
       "\n",
       "\n"
      ],
      "text/plain": [
       "[1] \"0min-5min\"     \"5min-10min\"    \"10min-30min\"   \"30min-180min\" \n",
       "[5] \"180min-720min\""
      ]
     },
     "metadata": {},
     "output_type": "display_data"
    },
    {
     "data": {
      "image/png": "[encoded data removed]",
      "text/plain": [
       "plot without title"
      ]
     },
     "metadata": {
      "image/png": {
       "height": 420,
       "width": 420
      }
     },
     "output_type": "display_data"
    }
   ],
   "source": [
    "## 统计分析差异的peaks数目, 不同时间点比较\n",
    "rm(list = ls())\n",
    "setwd('G:/Billfish/VD_FOV_3Dgenome/Cut_tag/rawdata/diffpeaks')\n",
    "library(ggplot2)\n",
    "library(ggpubr)\n",
    "library(ggbreak)\n",
    "library(dplyr)\n",
    "df <- read.csv('J668_diff_time.csv', header = T)\n",
    "df <- within(df, times <- factor(times, levels = c(\"0min-5min\", \"5min-10min\", \"10min-30min\", \"30min-180min\", \"180min-720min\")))\n",
    "with(df, levels(times))\n",
    "df_edgeR <- filter(df, methods=='deseq2')\n",
    "fg <- ggplot(df_edgeR, aes(x=times, y=number, fill = tags))+\n",
    "facet_grid(samples~chip)+\n",
    "geom_bar(stat = \"identity\", position = \"dodge\", color = \"black\")+\n",
    "labs(x=NULL, y='number of different peaks')+\n",
    "theme(panel.background = element_blank(), \n",
    "    panel.grid = element_blank(),\n",
    "    axis.line=element_line(linetype=1,color=\"black\"),\n",
    "    axis.text.x=element_text(color=\"black\", angle=315, hjust=0),\n",
    "    axis.text.y=element_text(color=\"black\"),\n",
    "    legend.position='top',\n",
    "    axis.ticks.length = unit(0.25, 'cm'),\n",
    "    panel.spacing.x = unit(0.05, 'cm')\n",
    "    )+\n",
    "    scale_fill_manual(values=c('#257D98',  '#EE4D5A'))\n",
    "fg\n",
    "ggsave(plot =fg, filename = 'J668_diff_time.pdf', height =4, width = 4.5)"
   ]
  },
  {
   "cell_type": "code",
   "execution_count": 8,
   "metadata": {
    "vscode": {
     "languageId": "r"
    }
   },
   "outputs": [
    {
     "data": {
      "text/html": [
       "<style>\n",
       ".list-inline {list-style: none; margin:0; padding: 0}\n",
       ".list-inline>li {display: inline-block}\n",
       ".list-inline>li:not(:last-child)::after {content: \"\\00b7\"; padding: 0 .5ex}\n",
       "</style>\n",
       "<ol class=list-inline><li>'0min'</li><li>'5min'</li><li>'10min'</li><li>'30min'</li><li>'180min'</li><li>'720min'</li></ol>\n"
      ],
      "text/latex": [
       "\\begin{enumerate*}\n",
       "\\item '0min'\n",
       "\\item '5min'\n",
       "\\item '10min'\n",
       "\\item '30min'\n",
       "\\item '180min'\n",
       "\\item '720min'\n",
       "\\end{enumerate*}\n"
      ],
      "text/markdown": [
       "1. '0min'\n",
       "2. '5min'\n",
       "3. '10min'\n",
       "4. '30min'\n",
       "5. '180min'\n",
       "6. '720min'\n",
       "\n",
       "\n"
      ],
      "text/plain": [
       "[1] \"0min\"   \"5min\"   \"10min\"  \"30min\"  \"180min\" \"720min\""
      ]
     },
     "metadata": {},
     "output_type": "display_data"
    },
    {
     "data": {
      "image/png": "[encoded data removed]",
      "text/plain": [
       "plot without title"
      ]
     },
     "metadata": {
      "image/png": {
       "height": 420,
       "width": 420
      }
     },
     "output_type": "display_data"
    }
   ],
   "source": [
    "## 统计分析cut tags peaks数目\n",
    "rm(list = ls())\n",
    "setwd('G:/Billfish/VD_FOV_3Dgenome/Cut_tag/rawdata/peaks_number')\n",
    "library(ggplot2)\n",
    "library(ggpubr)\n",
    "library(ggbreak)\n",
    "library(dplyr)\n",
    "df <- read.csv('J668_glr48_peaks_data.csv', header = T)\n",
    "df <- within(df, time <- factor(time, levels = c(\"0min\", \"5min\", \"10min\", \"30min\", \"180min\", \"720min\")))\n",
    "with(df, levels(time))\n",
    "fg <- ggplot(df, aes(x=time, y=IDR))+\n",
    "facet_grid(tags~chip_tag)+\n",
    "geom_bar(stat = \"identity\", position = \"dodge\", color = \"black\")+\n",
    "labs(x=NULL, y='number of peaks')+\n",
    "theme(panel.background = element_blank(), \n",
    "    panel.grid = element_blank(),\n",
    "    axis.line=element_line(linetype=1,color=\"black\"),\n",
    "    axis.text.x=element_text(color=\"black\", angle=315, hjust=0),\n",
    "    axis.text.y=element_text(color=\"black\"),\n",
    "    legend.position='top',\n",
    "    axis.ticks.length = unit(0.25, 'cm'),\n",
    "    panel.spacing.x = unit(0.05, 'cm')\n",
    "    )+\n",
    "    scale_fill_manual(values=c('#257D98',  '#EE4D5A'))\n",
    "fg\n",
    "ggsave(plot =fg, filename = 'J668_glr48_peaks_data.pdf', height =4, width = 4.5)"
   ]
  },
  {
   "cell_type": "code",
   "execution_count": 18,
   "metadata": {
    "vscode": {
     "languageId": "r"
    }
   },
   "outputs": [
    {
     "data": {
      "text/html": [
       "<style>\n",
       ".list-inline {list-style: none; margin:0; padding: 0}\n",
       ".list-inline>li {display: inline-block}\n",
       ".list-inline>li:not(:last-child)::after {content: \"\\00b7\"; padding: 0 .5ex}\n",
       "</style>\n",
       "<ol class=list-inline><li>'0min'</li><li>'1min'</li><li>'5min'</li><li>'10min'</li><li>'30min'</li><li>'90min'</li><li>'180min'</li><li>'720min'</li></ol>\n"
      ],
      "text/latex": [
       "\\begin{enumerate*}\n",
       "\\item '0min'\n",
       "\\item '1min'\n",
       "\\item '5min'\n",
       "\\item '10min'\n",
       "\\item '30min'\n",
       "\\item '90min'\n",
       "\\item '180min'\n",
       "\\item '720min'\n",
       "\\end{enumerate*}\n"
      ],
      "text/markdown": [
       "1. '0min'\n",
       "2. '1min'\n",
       "3. '5min'\n",
       "4. '10min'\n",
       "5. '30min'\n",
       "6. '90min'\n",
       "7. '180min'\n",
       "8. '720min'\n",
       "\n",
       "\n"
      ],
      "text/plain": [
       "[1] \"0min\"   \"1min\"   \"5min\"   \"10min\"  \"30min\"  \"90min\"  \"180min\" \"720min\""
      ]
     },
     "metadata": {},
     "output_type": "display_data"
    },
    {
     "data": {
      "text/html": [
       "<style>\n",
       ".list-inline {list-style: none; margin:0; padding: 0}\n",
       ".list-inline>li {display: inline-block}\n",
       ".list-inline>li:not(:last-child)::after {content: \"\\00b7\"; padding: 0 .5ex}\n",
       "</style>\n",
       "<ol class=list-inline><li>'J668_mock'</li><li>'J668_Fov7'</li><li>'J668_V991'</li><li>'Glr19_mock'</li><li>'Glr19_Fov7'</li></ol>\n"
      ],
      "text/latex": [
       "\\begin{enumerate*}\n",
       "\\item 'J668\\_mock'\n",
       "\\item 'J668\\_Fov7'\n",
       "\\item 'J668\\_V991'\n",
       "\\item 'Glr19\\_mock'\n",
       "\\item 'Glr19\\_Fov7'\n",
       "\\end{enumerate*}\n"
      ],
      "text/markdown": [
       "1. 'J668_mock'\n",
       "2. 'J668_Fov7'\n",
       "3. 'J668_V991'\n",
       "4. 'Glr19_mock'\n",
       "5. 'Glr19_Fov7'\n",
       "\n",
       "\n"
      ],
      "text/plain": [
       "[1] \"J668_mock\"  \"J668_Fov7\"  \"J668_V991\"  \"Glr19_mock\" \"Glr19_Fov7\""
      ]
     },
     "metadata": {},
     "output_type": "display_data"
    },
    {
     "data": {
      "image/png": "[encoded data removed]",
      "text/plain": [
       "plot without title"
      ]
     },
     "metadata": {
      "image/png": {
       "height": 420,
       "width": 420
      }
     },
     "output_type": "display_data"
    }
   ],
   "source": [
    "## 统计分析cut tags peaks数目\n",
    "rm(list = ls())\n",
    "setwd('G:/Billfish/VD_FOV_3Dgenome/RNA_Seq_new')\n",
    "library(ggplot2)\n",
    "library(ggpubr)\n",
    "library(ggbreak)\n",
    "library(dplyr)\n",
    "df <- read.csv('Jin668_glr48_Fov_V991_expG.csv', header = T)\n",
    "df <- within(df, times <- factor(times, levels = c(\"0min\", '1min', \"5min\", \"10min\", \"30min\", '90min', \"180min\", \"720min\")))\n",
    "with(df, levels(times))\n",
    "df <- within(df, sample <- factor(sample, levels = c(\"J668_mock\", 'J668_Fov7', \"J668_V991\", \"Glr19_mock\", \"Glr19_Fov7\")))\n",
    "with(df, levels(sample))\n",
    "fg <- ggplot(df, aes(x=times, y=number))+\n",
    "facet_grid(.~sample)+\n",
    "geom_bar(stat = \"identity\", position = \"dodge\", color = \"black\")+\n",
    "labs(x=NULL, y='number of peaks')+\n",
    "theme(panel.background = element_blank(), \n",
    "    panel.grid = element_blank(),\n",
    "    axis.line=element_line(linetype=1,color=\"black\"),\n",
    "    axis.text.x=element_text(color=\"black\", angle=315, hjust=0),\n",
    "    axis.text.y=element_text(color=\"black\"),\n",
    "    legend.position='top',\n",
    "    axis.ticks.length = unit(0.25, 'cm'),\n",
    "    panel.spacing.x = unit(0.05, 'cm')\n",
    "    )+\n",
    "    scale_fill_manual(values=c('#257D98',  '#EE4D5A'))+\n",
    "    scale_y_break(breaks=c(1000,40000), scales=5)\n",
    "fg\n",
    "ggsave(plot =fg, filename = 'Jin668_glr48_Fov_V991_expG.pdf', height =4, width = 8)"
   ]
  }
 ],
 "metadata": {
  "kernelspec": {
   "display_name": "R",
   "language": "R",
   "name": "ir"
  },
  "language_info": {
   "codemirror_mode": "r",
   "file_extension": ".r",
   "mimetype": "text/x-r-source",
   "name": "R",
   "pygments_lexer": "r",
   "version": "4.2.2"
  },
  "orig_nbformat": 4,
  "vscode": {
   "interpreter": {
    "hash": "a0f669ea42a4dcea88d385f8f9b4c3d9b966e24234758831d1dbfdac925619a2"
   }
  }
 },
 "nbformat": 4,
 "nbformat_minor": 2
}
