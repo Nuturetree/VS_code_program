{
 "cells": [
  {
   "cell_type": "code",
   "execution_count": null,
   "metadata": {
    "vscode": {
     "languageId": "r"
    }
   },
   "outputs": [],
   "source": [
    "##注释差异的ATAC peaks\n",
    "tissues = c(\"anther\", 'ovule', 'radicle', 'hypocotyl', 'fiber_10DPA', 'fiber_20DPA', 'petal', 'stigma')\n",
    "library(GenomicFeatures)\n",
    "library(ChIPseeker)\n",
    "spombe <- makeTxDbFromGFF(\"G:/Billfish/J668_multip_tissue_3D-genome/Genome/Ghirsutum_gene_model_noscaf.gff3\") ## Gff3 convert TxDb\n",
    "for (i in seq(7))\n",
    "{\n",
    "    for (j in seq(i+1, 8))\n",
    "    {\n",
    "        input_f = paste(\"G:/Billfish/J668_multip_tissue_3D-genome/ATAC/diffpeaks/rawdata/\", tissues[i], \"_\", tissues[j], \"_\", 'deseq2_edgeR_sig_merge.bed', sep=\"\")\n",
    "        print(input_f)\n",
    "        output_f = paste(\"G:/Billfish/J668_multip_tissue_3D-genome/ATAC/diffpeaks/gene/\", tissues[i], \"_\", tissues[j], \"_\", 'annotation_gene.bed', sep=\"\")\n",
    "        peaks <-  readPeakFile(input_f)\n",
    "        peakAnno <- annotatePeak(peaks, TxDb=spombe, tssRegion=c(-2000,2000)) ## annotation peaks\n",
    "        df <- as.data.frame(peakAnno)\n",
    "        write.table(df, output_f, row.names=FALSE)\n",
    "    }\n",
    "}"
   ]
  },
  {
   "cell_type": "code",
   "execution_count": null,
   "metadata": {
    "vscode": {
     "languageId": "r"
    }
   },
   "outputs": [],
   "source": [
    "## peaks 注释整体流程，单样本\n",
    "library(GenomicFeatures)\n",
    "library(ChIPseeker)\n",
    "spombe <- makeTxDbFromGFF(\"G:/Billfish/J668_multip_tissue_3D-genome/Genome/Jin668.gff3\") ## Gff3 convert TxDb\n",
    "input_f = paste(\"G:/Billfish/VD_FOV_3Dgenome/Cut_tag/rawdata/diffpeaks/J668_V991/H3K27ac/J668_V991_0min_J668_V991_5min_deseq2_sig.bed\", sep=\"\" )\n",
    "output_f = paste(\"G:/Billfish/VD_FOV_3Dgenome/Cut_tag/rawdata/diffpeaks/J668_V991/H3K27ac/J668_V991_0min_J668_V991_5min_peaks_annotation.bed\", sep=\"\")\n",
    "peaks <-  readPeakFile(input_f)\n",
    "peakAnno <- annotatePeak(peaks, TxDb=spombe, tssRegion=c(-3000,3000)) ## annotation peaks\n",
    "df <- as.data.frame(peakAnno)\n",
    "write.table(df, output_f, row.names=FALSE)\n"
   ]
  },
  {
   "cell_type": "code",
   "execution_count": null,
   "metadata": {
    "vscode": {
     "languageId": "r"
    }
   },
   "outputs": [],
   "source": [
    "## peaks 注释整体流程，单样本\n",
    "library(GenomicFeatures)\n",
    "library(ChIPseeker)\n",
    "spombe <- makeTxDbFromGFF(\"G:/Billfish/J668_multip_tissue_3D-genome/Genome/Jin668.gff3\") ## Gff3 convert TxDb\n",
    "input_f = paste(\"G:/Billfish/VD_FOV_3Dgenome/Cut_tag/rawdata/diffpeaks/J668_V991/H3K27me3/J668_V991_0min_J668_V991_5min_deseq2_sig.bed\", sep=\"\" )\n",
    "output_f = paste(\"G:/Billfish/VD_FOV_3Dgenome/Cut_tag/rawdata/diffpeaks/J668_V991/H3K27me3/J668_V991_0min_J668_V991_5min_peaks_annotation.bed\", sep=\"\")\n",
    "peaks <-  readPeakFile(input_f)\n",
    "peakAnno <- annotatePeak(peaks, TxDb=spombe, tssRegion=c(-3000,3000)) ## annotation peaks\n",
    "df <- as.data.frame(peakAnno)\n",
    "write.table(df, output_f, row.names=FALSE)\n"
   ]
  },
  {
   "cell_type": "code",
   "execution_count": null,
   "metadata": {
    "vscode": {
     "languageId": "r"
    }
   },
   "outputs": [],
   "source": [
    "library(GenomicFeatures)\n",
    "library(ChIPseeker)\n",
    "spombe <- makeTxDbFromGFF(\"G:/Billfish/J668_multip_tissue_3D-genome/Genome/Jin668.gff3\") ## Gff3 convert TxDb\n",
    "H3K27ac_input = paste(\"G:/Billfish/VD_FOV_3Dgenome/Cut_tag/rawdata/diffpeaks/J668_V991/H3K27ac/J668_V991_0min_J668_V991_5min_deseq2_sig.bed\", sep=\"\" )\n",
    "H3K27me3_input = paste(\"G:/Billfish/VD_FOV_3Dgenome/Cut_tag/rawdata/diffpeaks/J668_V991/H3K27me3/J668_V991_0min_J668_V991_5min_deseq2_sig.bed\", sep=\"\" )\n",
    "df_H3K27ac <- readPeakFile(H3K27ac_input)\n",
    "df_H3K27me3 <- readPeakFile(H3K27me3_input)\n",
    "peaks_list <- list(df_H3K27ac, df_H3K27me3)\n",
    "x <- lapply(peaks_list, annotatePeak, tssRegion=c(-3000, 3000), TxDb=spombe)\n",
    "library(ggplot2)\n",
    "p <- plotAnnoBar(x)\n",
    "ggsave(plot =p, filename = 'G:/Billfish/VD_FOV_3Dgenome/Cut_tag/rawdata/diffpeaks/J668_V991/J668_V991_0min_5min.pdf', height =4, width = 8)\n",
    "\n",
    "genes <- lapply(x, function(i) \n",
    "    as.data.frame(i)$geneId)\n",
    "vennplot(genes[2:6], by='Vennerable')\n"
   ]
  },
  {
   "cell_type": "code",
   "execution_count": 11,
   "metadata": {
    "vscode": {
     "languageId": "r"
    }
   },
   "outputs": [
    {
     "name": "stderr",
     "output_type": "stream",
     "text": [
      "Warning message in vennplot(genes[1:2], by = \"Vennerable\"):\n",
      "\"input is not a named list, set the name automatically to Set1 Set2\"\n"
     ]
    },
    {
     "data": {
      "text/html": [
       "<strong>png:</strong> 2"
      ],
      "text/latex": [
       "\\textbf{png:} 2"
      ],
      "text/markdown": [
       "**png:** 2"
      ],
      "text/plain": [
       "png \n",
       "  2 "
      ]
     },
     "metadata": {},
     "output_type": "display_data"
    }
   ],
   "source": [
    "genes <- lapply(x, function(i) \n",
    "    as.data.frame(i)$geneId)\n",
    "pdf(\"G:/Billfish/VD_FOV_3Dgenome/Cut_tag/rawdata/diffpeaks/J668_V991/J668_V991_0_5min_diffpeaks_gene.pdf\")\n",
    "vennplot(genes[1:2], by='Vennerable')\n",
    "dev.off()"
   ]
  }
 ],
 "metadata": {
  "kernelspec": {
   "display_name": "R",
   "language": "R",
   "name": "ir"
  },
  "language_info": {
   "codemirror_mode": "r",
   "file_extension": ".r",
   "mimetype": "text/x-r-source",
   "name": "R",
   "pygments_lexer": "r",
   "version": "4.2.2"
  },
  "orig_nbformat": 4
 },
 "nbformat": 4,
 "nbformat_minor": 2
}
