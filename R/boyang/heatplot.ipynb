{
 "cells": [
  {
   "cell_type": "code",
   "execution_count": 14,
   "metadata": {
    "vscode": {
     "languageId": "r"
    }
   },
   "outputs": [
    {
     "data": {
      "text/html": [
       "<style>\n",
       ".list-inline {list-style: none; margin:0; padding: 0}\n",
       ".list-inline>li {display: inline-block}\n",
       ".list-inline>li:not(:last-child)::after {content: \"\\00b7\"; padding: 0 .5ex}\n",
       "</style>\n",
       "<ol class=list-inline><li>'RW'</li><li>'SD'</li><li>'MD'</li><li>'ID'</li></ol>\n"
      ],
      "text/latex": [
       "\\begin{enumerate*}\n",
       "\\item 'RW'\n",
       "\\item 'SD'\n",
       "\\item 'MD'\n",
       "\\item 'ID'\n",
       "\\end{enumerate*}\n"
      ],
      "text/markdown": [
       "1. 'RW'\n",
       "2. 'SD'\n",
       "3. 'MD'\n",
       "4. 'ID'\n",
       "\n",
       "\n"
      ],
      "text/plain": [
       "[1] \"RW\" \"SD\" \"MD\" \"ID\""
      ]
     },
     "metadata": {},
     "output_type": "display_data"
    },
    {
     "data": {
      "image/png": "[encoded data removed]",
      "text/plain": [
       "plot without title"
      ]
     },
     "metadata": {
      "image/png": {
       "height": 420,
       "width": 420
      }
     },
     "output_type": "display_data"
    }
   ],
   "source": [
    "### 绘制AB compartment 转化热图\n",
    "setwd('G:/Billfish/boyang/HiC/compartment/100k/cworld/dynamic_cpt')\n",
    "library(ggplot2)\n",
    "AB_data <- read.csv('all_sample_dynamic_change.bed', sep = '\\t', header = T)\n",
    "AB_data <- within(AB_data, variable <- factor(variable, levels = c(\"RW\", \"SD\", \"MD\", \"ID\")))\n",
    "with(AB_data, levels(variable)) \n",
    "# AB_data <- within(AB_data, sigs <- factor(sigs, levels = c(\"AB\", \"ABA\", \"BA\", \"BAB\")))\n",
    "# with(AB_data, levels(sigs)) \n",
    "\n",
    "\n",
    "p <- ggplot(AB_data, aes(y=variable, x=x_lab))+\n",
    "    #geom_raster(aes(fill=status))+\n",
    "  geom_tile(aes(fill=value))+\n",
    "  facet_grid(tags~.)+\n",
    "  theme(panel.background = element_blank(),axis.line = element_line(colour=\"black\"))+\n",
    "  theme(axis.ticks.x = element_blank())+\n",
    "  theme(axis.ticks.y = element_blank())+\n",
    "  theme(axis.title.y=element_blank())+\n",
    "  theme(axis.title.x=element_blank())+\n",
    "  theme(legend.position=\"none\")+\n",
    "  #theme(legend = 'none')+\n",
    "  scale_fill_manual(values=c(\"#F26513\", \"#f0eaae\"))\n",
    "p\n",
    "ggsave(plot =p, filename = 'all_sample_dynamic_change.pdf', height = 2.3, width = 4,  dpi = 300)"
   ]
  },
  {
   "cell_type": "code",
   "execution_count": 4,
   "metadata": {
    "vscode": {
     "languageId": "r"
    }
   },
   "outputs": [
    {
     "data": {
      "text/html": [
       "<style>\n",
       ".list-inline {list-style: none; margin:0; padding: 0}\n",
       ".list-inline>li {display: inline-block}\n",
       ".list-inline>li:not(:last-child)::after {content: \"\\00b7\"; padding: 0 .5ex}\n",
       "</style>\n",
       "<ol class=list-inline><li>'RW'</li><li>'SD'</li><li>'MD'</li><li>'ID'</li></ol>\n"
      ],
      "text/latex": [
       "\\begin{enumerate*}\n",
       "\\item 'RW'\n",
       "\\item 'SD'\n",
       "\\item 'MD'\n",
       "\\item 'ID'\n",
       "\\end{enumerate*}\n"
      ],
      "text/markdown": [
       "1. 'RW'\n",
       "2. 'SD'\n",
       "3. 'MD'\n",
       "4. 'ID'\n",
       "\n",
       "\n"
      ],
      "text/plain": [
       "[1] \"RW\" \"SD\" \"MD\" \"ID\""
      ]
     },
     "metadata": {},
     "output_type": "display_data"
    },
    {
     "data": {
      "image/png": "[encoded data removed]",
      "text/plain": [
       "plot without title"
      ]
     },
     "metadata": {
      "image/png": {
       "height": 420,
       "width": 420
      }
     },
     "output_type": "display_data"
    }
   ],
   "source": [
    "### 绘制AB compartment 转化热图\n",
    "setwd('G:/Billfish/boyang/HiC/compartment/100k/cworld/dynamic_cpt')\n",
    "library(ggplot2)\n",
    "AB_data <- read.csv('all_sample_dynamic_change_At.bed', sep = '\\t', header = T)\n",
    "AB_data <- within(AB_data, variable <- factor(variable, levels = c(\"RW\", \"SD\", \"MD\", \"ID\")))\n",
    "with(AB_data, levels(variable)) \n",
    "# AB_data <- within(AB_data, sigs <- factor(sigs, levels = c(\"AB\", \"ABA\", \"BA\", \"BAB\")))\n",
    "# with(AB_data, levels(sigs)) \n",
    "\n",
    "\n",
    "p <- ggplot(AB_data, aes(y=variable, x=x_lab))+\n",
    "    #geom_raster(aes(fill=status))+\n",
    "  geom_tile(aes(fill=value))+\n",
    "  facet_grid(tags~.)+\n",
    "  theme(panel.background = element_blank(),axis.line = element_line(colour=\"black\"))+\n",
    "  theme(axis.ticks.x = element_blank())+\n",
    "  theme(axis.ticks.y = element_blank())+\n",
    "  theme(axis.title.y=element_blank())+\n",
    "  theme(axis.title.x=element_blank())+\n",
    "  theme(legend.position=\"none\")+\n",
    "  #theme(legend = 'none')+\n",
    "  scale_fill_manual(values=c(\"#F26513\", \"#f0eaae\"))\n",
    "p\n",
    "ggsave(plot =p, filename = 'all_sample_dynamic_change_At.pdf', height = 2.3, width = 4,  dpi = 300)"
   ]
  },
  {
   "cell_type": "code",
   "execution_count": 3,
   "metadata": {
    "vscode": {
     "languageId": "r"
    }
   },
   "outputs": [
    {
     "data": {
      "text/html": [
       "<style>\n",
       ".list-inline {list-style: none; margin:0; padding: 0}\n",
       ".list-inline>li {display: inline-block}\n",
       ".list-inline>li:not(:last-child)::after {content: \"\\00b7\"; padding: 0 .5ex}\n",
       "</style>\n",
       "<ol class=list-inline><li>'RW'</li><li>'SD'</li><li>'MD'</li><li>'ID'</li></ol>\n"
      ],
      "text/latex": [
       "\\begin{enumerate*}\n",
       "\\item 'RW'\n",
       "\\item 'SD'\n",
       "\\item 'MD'\n",
       "\\item 'ID'\n",
       "\\end{enumerate*}\n"
      ],
      "text/markdown": [
       "1. 'RW'\n",
       "2. 'SD'\n",
       "3. 'MD'\n",
       "4. 'ID'\n",
       "\n",
       "\n"
      ],
      "text/plain": [
       "[1] \"RW\" \"SD\" \"MD\" \"ID\""
      ]
     },
     "metadata": {},
     "output_type": "display_data"
    },
    {
     "data": {
      "image/png": "[encoded data removed]",
      "text/plain": [
       "plot without title"
      ]
     },
     "metadata": {
      "image/png": {
       "height": 420,
       "width": 420
      }
     },
     "output_type": "display_data"
    }
   ],
   "source": [
    "### 绘制AB compartment 转化热图\n",
    "setwd('G:/Billfish/boyang/HiC/compartment/100k/cworld/dynamic_cpt')\n",
    "library(ggplot2)\n",
    "AB_data <- read.csv('all_sample_dynamic_change_Dt.bed', sep = '\\t', header = T)\n",
    "AB_data <- within(AB_data, variable <- factor(variable, levels = c(\"RW\", \"SD\", \"MD\", \"ID\")))\n",
    "with(AB_data, levels(variable)) \n",
    "# AB_data <- within(AB_data, sigs <- factor(sigs, levels = c(\"AB\", \"ABA\", \"BA\", \"BAB\")))\n",
    "# with(AB_data, levels(sigs)) \n",
    "\n",
    "\n",
    "p <- ggplot(AB_data, aes(y=variable, x=x_lab))+\n",
    "    #geom_raster(aes(fill=status))+\n",
    "  geom_tile(aes(fill=value))+\n",
    "  facet_grid(tags~.)+\n",
    "  theme(panel.background = element_blank(),axis.line = element_line(colour=\"black\"))+\n",
    "  theme(axis.ticks.x = element_blank())+\n",
    "  theme(axis.ticks.y = element_blank())+\n",
    "  theme(axis.title.y=element_blank())+\n",
    "  theme(axis.title.x=element_blank())+\n",
    "  theme(legend.position=\"none\")+\n",
    "  #theme(legend = 'none')+\n",
    "  scale_fill_manual(values=c(\"#F26513\", \"#f0eaae\"))\n",
    "p\n",
    "ggsave(plot =p, filename = 'all_sample_dynamic_change_Dt.pdf', height = 2.3, width = 4,  dpi = 300)"
   ]
  }
 ],
 "metadata": {
  "kernelspec": {
   "display_name": "R",
   "language": "R",
   "name": "ir"
  },
  "language_info": {
   "codemirror_mode": "r",
   "file_extension": ".r",
   "mimetype": "text/x-r-source",
   "name": "R",
   "pygments_lexer": "r",
   "version": "4.2.1"
  },
  "orig_nbformat": 4
 },
 "nbformat": 4,
 "nbformat_minor": 2
}
