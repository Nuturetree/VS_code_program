{
 "cells": [
  {
   "cell_type": "code",
   "execution_count": 4,
   "metadata": {
    "vscode": {
     "languageId": "r"
    }
   },
   "outputs": [
    {
     "name": "stderr",
     "output_type": "stream",
     "text": [
      "Warning message in summary(ego):\n",
      "\"summary method to convert the object to data.frame is deprecated, please use as.data.frame instead.\"\n"
     ]
    }
   ],
   "source": [
    "## 分析纤维发育时期特异性高表达基因的Go term (5DPA)\n",
    "rm=list(ls())\n",
    "setwd('G:/Billfish/boyang/HiC/compartment/100k/cworld/switch_compartment/GO')\n",
    "library(clusterProfiler)\n",
    "library(org.At.tair.db)\n",
    "df <- read.table(\"7dRW_8dRW_BA_TAIRID.bed\", sep='\\t', header=T)\n",
    "#tissues <- c(\"anthers\", 'cotyledon', 'hypocotyl', 'leaf', 'petals', 'radicle', 'root', 'stem', 'stigma', 'ovules', 'fiber_5DPA', 'fiber_10DPA', 'fiber_20DPA')\n",
    "df_gid = df$TAIR_ID\n",
    "ego = enrichGO(df_gid, OrgDb = \"org.At.tair.db\", keyType=\"TAIR\", ont = \"ALL\", pAdjustMethod = \"BH\", pvalueCutoff  = 0.1, qvalueCutoff  = 0.05, readable= TRUE)\n",
    "write.table(summary(ego), \"7dRW_8dRW_BA_GO.bed\", sep='\\t', row.names=FALSE)"
   ]
  }
 ],
 "metadata": {
  "kernelspec": {
   "display_name": "R",
   "language": "R",
   "name": "ir"
  },
  "language_info": {
   "codemirror_mode": "r",
   "file_extension": ".r",
   "mimetype": "text/x-r-source",
   "name": "R",
   "pygments_lexer": "r",
   "version": "4.2.1"
  },
  "orig_nbformat": 4,
  "vscode": {
   "interpreter": {
    "hash": "a0f669ea42a4dcea88d385f8f9b4c3d9b966e24234758831d1dbfdac925619a2"
   }
  }
 },
 "nbformat": 4,
 "nbformat_minor": 2
}
