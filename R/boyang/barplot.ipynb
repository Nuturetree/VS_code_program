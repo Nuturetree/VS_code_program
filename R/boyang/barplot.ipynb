{
 "cells": [
  {
   "cell_type": "code",
   "execution_count": 2,
   "metadata": {
    "vscode": {
     "languageId": "r"
    }
   },
   "outputs": [
    {
     "data": {
      "text/html": [
       "<style>\n",
       ".list-inline {list-style: none; margin:0; padding: 0}\n",
       ".list-inline>li {display: inline-block}\n",
       ".list-inline>li:not(:last-child)::after {content: \"\\00b7\"; padding: 0 .5ex}\n",
       "</style>\n",
       "<ol class=list-inline><li>'7cRW'</li><li>'7cSD'</li><li>'7cMD'</li><li>'7cID'</li><li>'7dRW'</li><li>'7dSD'</li><li>'7dMD'</li><li>'7dID'</li><li>'8cRW'</li><li>'8cSD'</li><li>'8cMD'</li><li>'8cID'</li><li>'8dRW'</li><li>'8dSD'</li><li>'8dMD'</li><li>'8dID'</li></ol>\n"
      ],
      "text/latex": [
       "\\begin{enumerate*}\n",
       "\\item '7cRW'\n",
       "\\item '7cSD'\n",
       "\\item '7cMD'\n",
       "\\item '7cID'\n",
       "\\item '7dRW'\n",
       "\\item '7dSD'\n",
       "\\item '7dMD'\n",
       "\\item '7dID'\n",
       "\\item '8cRW'\n",
       "\\item '8cSD'\n",
       "\\item '8cMD'\n",
       "\\item '8cID'\n",
       "\\item '8dRW'\n",
       "\\item '8dSD'\n",
       "\\item '8dMD'\n",
       "\\item '8dID'\n",
       "\\end{enumerate*}\n"
      ],
      "text/markdown": [
       "1. '7cRW'\n",
       "2. '7cSD'\n",
       "3. '7cMD'\n",
       "4. '7cID'\n",
       "5. '7dRW'\n",
       "6. '7dSD'\n",
       "7. '7dMD'\n",
       "8. '7dID'\n",
       "9. '8cRW'\n",
       "10. '8cSD'\n",
       "11. '8cMD'\n",
       "12. '8cID'\n",
       "13. '8dRW'\n",
       "14. '8dSD'\n",
       "15. '8dMD'\n",
       "16. '8dID'\n",
       "\n",
       "\n"
      ],
      "text/plain": [
       " [1] \"7cRW\" \"7cSD\" \"7cMD\" \"7cID\" \"7dRW\" \"7dSD\" \"7dMD\" \"7dID\" \"8cRW\" \"8cSD\"\n",
       "[11] \"8cMD\" \"8cID\" \"8dRW\" \"8dSD\" \"8dMD\" \"8dID\""
      ]
     },
     "metadata": {},
     "output_type": "display_data"
    },
    {
     "data": {
      "text/html": [
       "<style>\n",
       ".list-inline {list-style: none; margin:0; padding: 0}\n",
       ".list-inline>li {display: inline-block}\n",
       ".list-inline>li:not(:last-child)::after {content: \"\\00b7\"; padding: 0 .5ex}\n",
       "</style>\n",
       "<ol class=list-inline><li>'B'</li><li>'A'</li></ol>\n"
      ],
      "text/latex": [
       "\\begin{enumerate*}\n",
       "\\item 'B'\n",
       "\\item 'A'\n",
       "\\end{enumerate*}\n"
      ],
      "text/markdown": [
       "1. 'B'\n",
       "2. 'A'\n",
       "\n",
       "\n"
      ],
      "text/plain": [
       "[1] \"B\" \"A\""
      ]
     },
     "metadata": {},
     "output_type": "display_data"
    },
    {
     "data": {
      "image/png": "[encoded data removed]",
      "text/plain": [
       "plot without title"
      ]
     },
     "metadata": {
      "image/png": {
       "height": 360,
       "width": 600
      }
     },
     "output_type": "display_data"
    }
   ],
   "source": [
    "# 分析 compartment 所占比例 （100 kb）\n",
    "## 分析动态compartment 区间占比，合并的数据, cooltools 鉴定结果, 40K\n",
    "rm(list = ls())\n",
    "options(repr.plot.width=10,repr.plot.height=6)\n",
    "setwd('G:/Billfish/boyang/HiC/compartment/100k/cworld')\n",
    "library(ggplot2)\n",
    "library(ggpubr)\n",
    "library(ggbreak)\n",
    "df <- read.csv('boyang_all_cpt_number.bed', sep = '\\t', header = T)\n",
    "df <- within(df, tags <- factor(tags, levels = c(\"7cRW\", \"7cSD\", \"7cMD\", \"7cID\", \"7dRW\", \"7dSD\", \"7dMD\", \"7dID\", \"8cRW\", \"8cSD\", \"8cMD\", \"8cID\", \"8dRW\", \"8dSD\", \"8dMD\", \"8dID\")))\n",
    "with(df, levels(tags))\n",
    "df <- within(df, cpt <- factor(cpt, levels = c(\"B\", \"A\")))\n",
    "with(df, levels(cpt))\n",
    "fg <- ggplot(df, aes(x=ratio*100, y=tags, fill=cpt)) +\n",
    "geom_bar(stat = \"identity\", position = \"stack\", color=\"black\", size=0.3)+\n",
    "labs(x='Proportion of A/B compartment', y=NULL)+\n",
    "#facet_grid(.~days)+\n",
    "#coord_cartesian(ylim = c(0, 8)) +\n",
    "theme(panel.background = element_blank(), \n",
    "     panel.grid = element_blank(),\n",
    "     axis.line=element_line(linetype=1,color=\"black\"),\n",
    "     legend.position='top',\n",
    "     #axis.text.x = element_text(angle = 315, hjust = 0, color='black'),\n",
    "     axis.text = element_text(size=9, color='black'),\n",
    "     axis.title = element_text(size=11, color='black'),\n",
    "     axis.ticks.length = unit(0.25, 'cm'),\n",
    "     legend.key.size = unit(10,\"pt\")\n",
    "     )+\n",
    "scale_fill_manual(values=c('#14447E', '#CA2B1A'))+\n",
    "scale_x_break(c(10,40))+\n",
    "scale_x_break(c(60,90)) \n",
    "fg\n",
    "ggsave(plot =fg, filename = 'boyang_all_cpt_number.pdf', height =3, width = 3.5)"
   ]
  },
  {
   "cell_type": "code",
   "execution_count": 7,
   "metadata": {
    "vscode": {
     "languageId": "r"
    }
   },
   "outputs": [
    {
     "data": {
      "text/html": [
       "<style>\n",
       ".list-inline {list-style: none; margin:0; padding: 0}\n",
       ".list-inline>li {display: inline-block}\n",
       ".list-inline>li:not(:last-child)::after {content: \"\\00b7\"; padding: 0 .5ex}\n",
       "</style>\n",
       "<ol class=list-inline><li>'7dID'</li><li>'7cID'</li><li>'7dMD'</li><li>'7cMD'</li><li>'7dSD'</li><li>'7cSD'</li><li>'7dRW'</li><li>'7cRW'</li><li>'8dID'</li><li>'8cID'</li><li>'8dMD'</li><li>'8cMD'</li><li>'8dSD'</li><li>'8cSD'</li><li>'8dRW'</li><li>'8cRW'</li></ol>\n"
      ],
      "text/latex": [
       "\\begin{enumerate*}\n",
       "\\item '7dID'\n",
       "\\item '7cID'\n",
       "\\item '7dMD'\n",
       "\\item '7cMD'\n",
       "\\item '7dSD'\n",
       "\\item '7cSD'\n",
       "\\item '7dRW'\n",
       "\\item '7cRW'\n",
       "\\item '8dID'\n",
       "\\item '8cID'\n",
       "\\item '8dMD'\n",
       "\\item '8cMD'\n",
       "\\item '8dSD'\n",
       "\\item '8cSD'\n",
       "\\item '8dRW'\n",
       "\\item '8cRW'\n",
       "\\end{enumerate*}\n"
      ],
      "text/markdown": [
       "1. '7dID'\n",
       "2. '7cID'\n",
       "3. '7dMD'\n",
       "4. '7cMD'\n",
       "5. '7dSD'\n",
       "6. '7cSD'\n",
       "7. '7dRW'\n",
       "8. '7cRW'\n",
       "9. '8dID'\n",
       "10. '8cID'\n",
       "11. '8dMD'\n",
       "12. '8cMD'\n",
       "13. '8dSD'\n",
       "14. '8cSD'\n",
       "15. '8dRW'\n",
       "16. '8cRW'\n",
       "\n",
       "\n"
      ],
      "text/plain": [
       " [1] \"7dID\" \"7cID\" \"7dMD\" \"7cMD\" \"7dSD\" \"7cSD\" \"7dRW\" \"7cRW\" \"8dID\" \"8cID\"\n",
       "[11] \"8dMD\" \"8cMD\" \"8dSD\" \"8cSD\" \"8dRW\" \"8cRW\""
      ]
     },
     "metadata": {},
     "output_type": "display_data"
    },
    {
     "data": {
      "text/html": [
       "<style>\n",
       ".list-inline {list-style: none; margin:0; padding: 0}\n",
       ".list-inline>li {display: inline-block}\n",
       ".list-inline>li:not(:last-child)::after {content: \"\\00b7\"; padding: 0 .5ex}\n",
       "</style>\n",
       "<ol class=list-inline><li>'B'</li><li>'A'</li></ol>\n"
      ],
      "text/latex": [
       "\\begin{enumerate*}\n",
       "\\item 'B'\n",
       "\\item 'A'\n",
       "\\end{enumerate*}\n"
      ],
      "text/markdown": [
       "1. 'B'\n",
       "2. 'A'\n",
       "\n",
       "\n"
      ],
      "text/plain": [
       "[1] \"B\" \"A\""
      ]
     },
     "metadata": {},
     "output_type": "display_data"
    },
    {
     "data": {
      "text/html": [
       "<style>\n",
       ".list-inline {list-style: none; margin:0; padding: 0}\n",
       ".list-inline>li {display: inline-block}\n",
       ".list-inline>li:not(:last-child)::after {content: \"\\00b7\"; padding: 0 .5ex}\n",
       "</style>\n",
       "<ol class=list-inline><li>'8d'</li><li>'8c'</li><li>'7d'</li><li>'7c'</li></ol>\n"
      ],
      "text/latex": [
       "\\begin{enumerate*}\n",
       "\\item '8d'\n",
       "\\item '8c'\n",
       "\\item '7d'\n",
       "\\item '7c'\n",
       "\\end{enumerate*}\n"
      ],
      "text/markdown": [
       "1. '8d'\n",
       "2. '8c'\n",
       "3. '7d'\n",
       "4. '7c'\n",
       "\n",
       "\n"
      ],
      "text/plain": [
       "[1] \"8d\" \"8c\" \"7d\" \"7c\""
      ]
     },
     "metadata": {},
     "output_type": "display_data"
    },
    {
     "data": {
      "text/html": [
       "<style>\n",
       ".list-inline {list-style: none; margin:0; padding: 0}\n",
       ".list-inline>li {display: inline-block}\n",
       ".list-inline>li:not(:last-child)::after {content: \"\\00b7\"; padding: 0 .5ex}\n",
       "</style>\n",
       "<ol class=list-inline><li>'ID'</li><li>'MD'</li><li>'SD'</li><li>'RW'</li></ol>\n"
      ],
      "text/latex": [
       "\\begin{enumerate*}\n",
       "\\item 'ID'\n",
       "\\item 'MD'\n",
       "\\item 'SD'\n",
       "\\item 'RW'\n",
       "\\end{enumerate*}\n"
      ],
      "text/markdown": [
       "1. 'ID'\n",
       "2. 'MD'\n",
       "3. 'SD'\n",
       "4. 'RW'\n",
       "\n",
       "\n"
      ],
      "text/plain": [
       "[1] \"ID\" \"MD\" \"SD\" \"RW\""
      ]
     },
     "metadata": {},
     "output_type": "display_data"
    },
    {
     "data": {
      "image/png": "[encoded data removed]",
      "text/plain": [
       "plot without title"
      ]
     },
     "metadata": {
      "image/png": {
       "height": 360,
       "width": 600
      }
     },
     "output_type": "display_data"
    }
   ],
   "source": [
    "# 分析 compartment 所占比例 （100 kb）\n",
    "## 分析动态compartment 区间占比，合并的数据, cooltools 鉴定结果, 40K\n",
    "rm(list = ls())\n",
    "options(repr.plot.width=10,repr.plot.height=6)\n",
    "setwd('G:/Billfish/boyang/HiC/compartment/100k/cworld')\n",
    "library(ggplot2)\n",
    "library(ggpubr)\n",
    "library(ggbreak)\n",
    "df <- read.csv('boyang_all_cpt_atdt_number.bed', sep = '\\t', header = T)\n",
    "df <- within(df, tags <- factor(tags, levels = c(\"7dID\", \"7cID\", \"7dMD\", \"7cMD\", \"7dSD\", \"7cSD\", \"7dRW\", \"7cRW\", \"8dID\", \"8cID\", \"8dMD\", \"8cMD\", \"8dSD\", \"8cSD\", \"8dRW\", \"8cRW\")))\n",
    "with(df, levels(tags))\n",
    "df <- within(df, cpt <- factor(cpt, levels = c(\"B\", \"A\")))\n",
    "with(df, levels(cpt))\n",
    "df <- within(df, sig <- factor(sig, levels = c(\"8d\", \"8c\", \"7d\", \"7c\")))\n",
    "with(df, levels(sig))\n",
    "df <- within(df, time <- factor(time, levels = c(\"ID\", 'MD', \"SD\", 'RW')))\n",
    "with(df, levels(time))\n",
    "df_At = df[df$subg=='At', ]\n",
    "fg <- ggplot(df_At) +\n",
    "geom_bar(stat = \"identity\", position = \"stack\", color=\"black\", size=0.3, aes(y=ratio*100, x=time, fill=cpt))+\n",
    "geom_point(aes(y=center*100, x=time), size=2)+\n",
    "geom_line(aes(y=center*100, x=x_lab), size=0.5, color=\"#CEF09D\")+\n",
    "labs(y='Proportion of A/B compartment', x=NULL)+\n",
    "facet_grid(sig~.)+\n",
    "coord_cartesian(ylim = c(43, 60)) +\n",
    "theme(panel.background = element_blank(), \n",
    "     panel.grid = element_blank(),\n",
    "     axis.line=element_line(linetype=1,color=\"black\"),\n",
    "     legend.position='top',\n",
    "     axis.text = element_text(size=9, color='black'),\n",
    "     axis.title = element_text(size=11, color='black'),\n",
    "     axis.ticks.length = unit(0.25, 'cm'),\n",
    "     legend.key.size = unit(10,\"pt\")\n",
    "     )+\n",
    "scale_fill_manual(values=c('#14447E', '#CA2B1A'))\n",
    "# scale_x_break(c(10,40))+\n",
    "# scale_x_break(c(60,90)) \n",
    "fg\n",
    "ggsave(plot =fg, filename = 'boyang_all_cpt_number_at.pdf', height =3, width = 3.5)"
   ]
  },
  {
   "cell_type": "code",
   "execution_count": 5,
   "metadata": {
    "vscode": {
     "languageId": "r"
    }
   },
   "outputs": [
    {
     "data": {
      "text/html": [
       "<style>\n",
       ".list-inline {list-style: none; margin:0; padding: 0}\n",
       ".list-inline>li {display: inline-block}\n",
       ".list-inline>li:not(:last-child)::after {content: \"\\00b7\"; padding: 0 .5ex}\n",
       "</style>\n",
       "<ol class=list-inline><li>'7dID'</li><li>'7cID'</li><li>'7dMD'</li><li>'7cMD'</li><li>'7dSD'</li><li>'7cSD'</li><li>'7dRW'</li><li>'7cRW'</li><li>'8dID'</li><li>'8cID'</li><li>'8dMD'</li><li>'8cMD'</li><li>'8dSD'</li><li>'8cSD'</li><li>'8dRW'</li><li>'8cRW'</li></ol>\n"
      ],
      "text/latex": [
       "\\begin{enumerate*}\n",
       "\\item '7dID'\n",
       "\\item '7cID'\n",
       "\\item '7dMD'\n",
       "\\item '7cMD'\n",
       "\\item '7dSD'\n",
       "\\item '7cSD'\n",
       "\\item '7dRW'\n",
       "\\item '7cRW'\n",
       "\\item '8dID'\n",
       "\\item '8cID'\n",
       "\\item '8dMD'\n",
       "\\item '8cMD'\n",
       "\\item '8dSD'\n",
       "\\item '8cSD'\n",
       "\\item '8dRW'\n",
       "\\item '8cRW'\n",
       "\\end{enumerate*}\n"
      ],
      "text/markdown": [
       "1. '7dID'\n",
       "2. '7cID'\n",
       "3. '7dMD'\n",
       "4. '7cMD'\n",
       "5. '7dSD'\n",
       "6. '7cSD'\n",
       "7. '7dRW'\n",
       "8. '7cRW'\n",
       "9. '8dID'\n",
       "10. '8cID'\n",
       "11. '8dMD'\n",
       "12. '8cMD'\n",
       "13. '8dSD'\n",
       "14. '8cSD'\n",
       "15. '8dRW'\n",
       "16. '8cRW'\n",
       "\n",
       "\n"
      ],
      "text/plain": [
       " [1] \"7dID\" \"7cID\" \"7dMD\" \"7cMD\" \"7dSD\" \"7cSD\" \"7dRW\" \"7cRW\" \"8dID\" \"8cID\"\n",
       "[11] \"8dMD\" \"8cMD\" \"8dSD\" \"8cSD\" \"8dRW\" \"8cRW\""
      ]
     },
     "metadata": {},
     "output_type": "display_data"
    },
    {
     "data": {
      "text/html": [
       "<style>\n",
       ".list-inline {list-style: none; margin:0; padding: 0}\n",
       ".list-inline>li {display: inline-block}\n",
       ".list-inline>li:not(:last-child)::after {content: \"\\00b7\"; padding: 0 .5ex}\n",
       "</style>\n",
       "<ol class=list-inline><li>'B'</li><li>'A'</li></ol>\n"
      ],
      "text/latex": [
       "\\begin{enumerate*}\n",
       "\\item 'B'\n",
       "\\item 'A'\n",
       "\\end{enumerate*}\n"
      ],
      "text/markdown": [
       "1. 'B'\n",
       "2. 'A'\n",
       "\n",
       "\n"
      ],
      "text/plain": [
       "[1] \"B\" \"A\""
      ]
     },
     "metadata": {},
     "output_type": "display_data"
    },
    {
     "data": {
      "text/html": [
       "<style>\n",
       ".list-inline {list-style: none; margin:0; padding: 0}\n",
       ".list-inline>li {display: inline-block}\n",
       ".list-inline>li:not(:last-child)::after {content: \"\\00b7\"; padding: 0 .5ex}\n",
       "</style>\n",
       "<ol class=list-inline><li>'8d'</li><li>'8c'</li><li>'7d'</li><li>'7c'</li></ol>\n"
      ],
      "text/latex": [
       "\\begin{enumerate*}\n",
       "\\item '8d'\n",
       "\\item '8c'\n",
       "\\item '7d'\n",
       "\\item '7c'\n",
       "\\end{enumerate*}\n"
      ],
      "text/markdown": [
       "1. '8d'\n",
       "2. '8c'\n",
       "3. '7d'\n",
       "4. '7c'\n",
       "\n",
       "\n"
      ],
      "text/plain": [
       "[1] \"8d\" \"8c\" \"7d\" \"7c\""
      ]
     },
     "metadata": {},
     "output_type": "display_data"
    },
    {
     "data": {
      "text/html": [
       "<style>\n",
       ".list-inline {list-style: none; margin:0; padding: 0}\n",
       ".list-inline>li {display: inline-block}\n",
       ".list-inline>li:not(:last-child)::after {content: \"\\00b7\"; padding: 0 .5ex}\n",
       "</style>\n",
       "<ol class=list-inline><li>'ID'</li><li>'MD'</li><li>'SD'</li><li>'RW'</li></ol>\n"
      ],
      "text/latex": [
       "\\begin{enumerate*}\n",
       "\\item 'ID'\n",
       "\\item 'MD'\n",
       "\\item 'SD'\n",
       "\\item 'RW'\n",
       "\\end{enumerate*}\n"
      ],
      "text/markdown": [
       "1. 'ID'\n",
       "2. 'MD'\n",
       "3. 'SD'\n",
       "4. 'RW'\n",
       "\n",
       "\n"
      ],
      "text/plain": [
       "[1] \"ID\" \"MD\" \"SD\" \"RW\""
      ]
     },
     "metadata": {},
     "output_type": "display_data"
    },
    {
     "data": {
      "image/png": "[encoded data removed]",
      "text/plain": [
       "plot without title"
      ]
     },
     "metadata": {
      "image/png": {
       "height": 360,
       "width": 600
      }
     },
     "output_type": "display_data"
    }
   ],
   "source": [
    "# 分析 compartment 所占比例 （100 kb）\n",
    "## 分析动态compartment 区间占比，合并的数据, cooltools 鉴定结果, 40K\n",
    "rm(list = ls())\n",
    "options(repr.plot.width=10,repr.plot.height=6)\n",
    "setwd('G:/Billfish/boyang/HiC/compartment/100k/cworld')\n",
    "library(ggplot2)\n",
    "library(ggpubr)\n",
    "library(ggbreak)\n",
    "df <- read.csv('boyang_all_cpt_atdt_number.bed', sep = '\\t', header = T)\n",
    "df <- within(df, tags <- factor(tags, levels = c(\"7dID\", \"7cID\", \"7dMD\", \"7cMD\", \"7dSD\", \"7cSD\", \"7dRW\", \"7cRW\", \"8dID\", \"8cID\", \"8dMD\", \"8cMD\", \"8dSD\", \"8cSD\", \"8dRW\", \"8cRW\")))\n",
    "with(df, levels(tags))\n",
    "df <- within(df, cpt <- factor(cpt, levels = c(\"B\", \"A\")))\n",
    "with(df, levels(cpt))\n",
    "df <- within(df, sig <- factor(sig, levels = c(\"8d\", \"8c\", \"7d\", \"7c\")))\n",
    "with(df, levels(sig))\n",
    "df <- within(df, time <- factor(time, levels = c(\"ID\", 'MD', \"SD\", 'RW')))\n",
    "with(df, levels(time))\n",
    "df_Dt = df[df$subg=='Dt', ]\n",
    "fg <- ggplot(df_Dt) +\n",
    "geom_bar(stat = \"identity\", position = \"stack\", color=\"black\", size=0.3, aes(y=ratio*100, x=time, fill=cpt))+\n",
    "geom_point(aes(y=center*100, x=time), size=2)+\n",
    "geom_line(aes(y=center*100, x=x_lab), size=0.5, color=\"#CEF09D\")+\n",
    "labs(y='Proportion of A/B compartment', x=NULL)+\n",
    "facet_grid(sig~.)+\n",
    "coord_cartesian(ylim = c(43, 60)) +\n",
    "theme(panel.background = element_blank(), \n",
    "     panel.grid = element_blank(),\n",
    "     axis.line=element_line(linetype=1,color=\"black\"),\n",
    "     legend.position='top',\n",
    "     #axis.text.x = element_text(angle = 315, hjust = 0, color='black'),\n",
    "     axis.text = element_text(size=9, color='black'),\n",
    "     axis.title = element_text(size=11, color='black'),\n",
    "     axis.ticks.length = unit(0.25, 'cm'),\n",
    "     legend.key.size = unit(10,\"pt\")\n",
    "     )+\n",
    "scale_fill_manual(values=c('#14447E', '#CA2B1A'))\n",
    "# scale_x_break(c(10,40))+\n",
    "# scale_x_break(c(60,90)) \n",
    "fg\n",
    "ggsave(plot =fg, filename = 'boyang_all_cpt_number_dt.pdf', height =3, width = 3.5)"
   ]
  },
  {
   "cell_type": "code",
   "execution_count": 6,
   "metadata": {
    "vscode": {
     "languageId": "r"
    }
   },
   "outputs": [
    {
     "data": {
      "text/html": [
       "<style>\n",
       ".list-inline {list-style: none; margin:0; padding: 0}\n",
       ".list-inline>li {display: inline-block}\n",
       ".list-inline>li:not(:last-child)::after {content: \"\\00b7\"; padding: 0 .5ex}\n",
       "</style>\n",
       "<ol class=list-inline><li>'7dID'</li><li>'7cID'</li><li>'7dMD'</li><li>'7cMD'</li><li>'7dSD'</li><li>'7cSD'</li><li>'7dRW'</li><li>'7cRW'</li><li>'8dID'</li><li>'8cID'</li><li>'8dMD'</li><li>'8cMD'</li><li>'8dSD'</li><li>'8cSD'</li><li>'8dRW'</li><li>'8cRW'</li></ol>\n"
      ],
      "text/latex": [
       "\\begin{enumerate*}\n",
       "\\item '7dID'\n",
       "\\item '7cID'\n",
       "\\item '7dMD'\n",
       "\\item '7cMD'\n",
       "\\item '7dSD'\n",
       "\\item '7cSD'\n",
       "\\item '7dRW'\n",
       "\\item '7cRW'\n",
       "\\item '8dID'\n",
       "\\item '8cID'\n",
       "\\item '8dMD'\n",
       "\\item '8cMD'\n",
       "\\item '8dSD'\n",
       "\\item '8cSD'\n",
       "\\item '8dRW'\n",
       "\\item '8cRW'\n",
       "\\end{enumerate*}\n"
      ],
      "text/markdown": [
       "1. '7dID'\n",
       "2. '7cID'\n",
       "3. '7dMD'\n",
       "4. '7cMD'\n",
       "5. '7dSD'\n",
       "6. '7cSD'\n",
       "7. '7dRW'\n",
       "8. '7cRW'\n",
       "9. '8dID'\n",
       "10. '8cID'\n",
       "11. '8dMD'\n",
       "12. '8cMD'\n",
       "13. '8dSD'\n",
       "14. '8cSD'\n",
       "15. '8dRW'\n",
       "16. '8cRW'\n",
       "\n",
       "\n"
      ],
      "text/plain": [
       " [1] \"7dID\" \"7cID\" \"7dMD\" \"7cMD\" \"7dSD\" \"7cSD\" \"7dRW\" \"7cRW\" \"8dID\" \"8cID\"\n",
       "[11] \"8dMD\" \"8cMD\" \"8dSD\" \"8cSD\" \"8dRW\" \"8cRW\""
      ]
     },
     "metadata": {},
     "output_type": "display_data"
    },
    {
     "data": {
      "text/html": [
       "<style>\n",
       ".list-inline {list-style: none; margin:0; padding: 0}\n",
       ".list-inline>li {display: inline-block}\n",
       ".list-inline>li:not(:last-child)::after {content: \"\\00b7\"; padding: 0 .5ex}\n",
       "</style>\n",
       "<ol class=list-inline><li>'B'</li><li>'A'</li></ol>\n"
      ],
      "text/latex": [
       "\\begin{enumerate*}\n",
       "\\item 'B'\n",
       "\\item 'A'\n",
       "\\end{enumerate*}\n"
      ],
      "text/markdown": [
       "1. 'B'\n",
       "2. 'A'\n",
       "\n",
       "\n"
      ],
      "text/plain": [
       "[1] \"B\" \"A\""
      ]
     },
     "metadata": {},
     "output_type": "display_data"
    },
    {
     "data": {
      "text/html": [
       "<style>\n",
       ".list-inline {list-style: none; margin:0; padding: 0}\n",
       ".list-inline>li {display: inline-block}\n",
       ".list-inline>li:not(:last-child)::after {content: \"\\00b7\"; padding: 0 .5ex}\n",
       "</style>\n",
       "<ol class=list-inline><li>'8d'</li><li>'8c'</li><li>'7d'</li><li>'7c'</li></ol>\n"
      ],
      "text/latex": [
       "\\begin{enumerate*}\n",
       "\\item '8d'\n",
       "\\item '8c'\n",
       "\\item '7d'\n",
       "\\item '7c'\n",
       "\\end{enumerate*}\n"
      ],
      "text/markdown": [
       "1. '8d'\n",
       "2. '8c'\n",
       "3. '7d'\n",
       "4. '7c'\n",
       "\n",
       "\n"
      ],
      "text/plain": [
       "[1] \"8d\" \"8c\" \"7d\" \"7c\""
      ]
     },
     "metadata": {},
     "output_type": "display_data"
    },
    {
     "data": {
      "text/html": [
       "<style>\n",
       ".list-inline {list-style: none; margin:0; padding: 0}\n",
       ".list-inline>li {display: inline-block}\n",
       ".list-inline>li:not(:last-child)::after {content: \"\\00b7\"; padding: 0 .5ex}\n",
       "</style>\n",
       "<ol class=list-inline><li>'ID'</li><li>'MD'</li><li>'SD'</li><li>'RW'</li></ol>\n"
      ],
      "text/latex": [
       "\\begin{enumerate*}\n",
       "\\item 'ID'\n",
       "\\item 'MD'\n",
       "\\item 'SD'\n",
       "\\item 'RW'\n",
       "\\end{enumerate*}\n"
      ],
      "text/markdown": [
       "1. 'ID'\n",
       "2. 'MD'\n",
       "3. 'SD'\n",
       "4. 'RW'\n",
       "\n",
       "\n"
      ],
      "text/plain": [
       "[1] \"ID\" \"MD\" \"SD\" \"RW\""
      ]
     },
     "metadata": {},
     "output_type": "display_data"
    },
    {
     "data": {
      "image/png": "[encoded data removed]",
      "text/plain": [
       "plot without title"
      ]
     },
     "metadata": {
      "image/png": {
       "height": 360,
       "width": 600
      }
     },
     "output_type": "display_data"
    }
   ],
   "source": [
    "# 分析 compartment 所占比例 （At subgenome, 100 kb）\n",
    "## 分析动态compartment 区间占比，合并的数据, cooltools 鉴定结果, 40K\n",
    "rm(list = ls())\n",
    "options(repr.plot.width=10,repr.plot.height=6)\n",
    "setwd('G:/Billfish/boyang/HiC/compartment/100k/cworld')\n",
    "library(ggplot2)\n",
    "library(ggpubr)\n",
    "library(ggbreak)\n",
    "df <- read.csv('boyang_all_cpt_number.bed', sep = '\\t', header = T)\n",
    "df <- within(df, tags <- factor(tags, levels = c(\"7dID\", \"7cID\", \"7dMD\", \"7cMD\", \"7dSD\", \"7cSD\", \"7dRW\", \"7cRW\", \"8dID\", \"8cID\", \"8dMD\", \"8cMD\", \"8dSD\", \"8cSD\", \"8dRW\", \"8cRW\")))\n",
    "with(df, levels(tags))\n",
    "df <- within(df, cpt <- factor(cpt, levels = c(\"B\", \"A\")))\n",
    "with(df, levels(cpt))\n",
    "df <- within(df, sig <- factor(sig, levels = c(\"8d\", \"8c\", \"7d\", \"7c\")))\n",
    "with(df, levels(sig))\n",
    "df <- within(df, time <- factor(time, levels = c(\"ID\", 'MD', \"SD\", 'RW')))\n",
    "with(df, levels(time))\n",
    "\n",
    "fg <- ggplot(df) +\n",
    "geom_bar(stat = \"identity\", position = \"stack\", color=\"black\", size=0.3, aes(y=ratio*100, x=time, fill=cpt))+\n",
    "geom_point(aes(y=center*100, x=time), size=2)+\n",
    "geom_line(aes(y=center*100, x=x_lab), size=0.5, color=\"#CEF09D\")+\n",
    "labs(y='Proportion of A/B compartment', x=NULL)+\n",
    "facet_grid(sig~.)+\n",
    "coord_cartesian(ylim = c(43, 60)) +\n",
    "theme(panel.background = element_blank(), \n",
    "     panel.grid = element_blank(),\n",
    "     axis.line=element_line(linetype=1,color=\"black\"),\n",
    "     legend.position='top',\n",
    "     #axis.text.x = element_text(angle = 315, hjust = 0, color='black'),\n",
    "     axis.text = element_text(color='black'),\n",
    "     axis.ticks.length = unit(0.25, 'cm'),\n",
    "     legend.key.size = unit(10,\"pt\")\n",
    "     )+\n",
    "scale_fill_manual(values=c('#14447E', '#CA2B1A'))\n",
    "# scale_x_break(c(10,40))+\n",
    "# scale_x_break(c(60,90)) \n",
    "fg\n",
    "ggsave(plot =fg, filename = 'boyang_all_cpt_number2.pdf', height =3, width = 3.5)"
   ]
  },
  {
   "cell_type": "code",
   "execution_count": 14,
   "metadata": {
    "vscode": {
     "languageId": "r"
    }
   },
   "outputs": [
    {
     "data": {
      "text/html": [
       "<style>\n",
       ".list-inline {list-style: none; margin:0; padding: 0}\n",
       ".list-inline>li {display: inline-block}\n",
       ".list-inline>li:not(:last-child)::after {content: \"\\00b7\"; padding: 0 .5ex}\n",
       "</style>\n",
       "<ol class=list-inline><li>'ZY007_At'</li><li>'ZY007_Dt'</li><li>'ZY168_At'</li><li>'ZY168_Dt'</li></ol>\n"
      ],
      "text/latex": [
       "\\begin{enumerate*}\n",
       "\\item 'ZY007\\_At'\n",
       "\\item 'ZY007\\_Dt'\n",
       "\\item 'ZY168\\_At'\n",
       "\\item 'ZY168\\_Dt'\n",
       "\\end{enumerate*}\n"
      ],
      "text/markdown": [
       "1. 'ZY007_At'\n",
       "2. 'ZY007_Dt'\n",
       "3. 'ZY168_At'\n",
       "4. 'ZY168_Dt'\n",
       "\n",
       "\n"
      ],
      "text/plain": [
       "[1] \"ZY007_At\" \"ZY007_Dt\" \"ZY168_At\" \"ZY168_Dt\""
      ]
     },
     "metadata": {},
     "output_type": "display_data"
    },
    {
     "data": {
      "text/html": [
       "<style>\n",
       ".list-inline {list-style: none; margin:0; padding: 0}\n",
       ".list-inline>li {display: inline-block}\n",
       ".list-inline>li:not(:last-child)::after {content: \"\\00b7\"; padding: 0 .5ex}\n",
       "</style>\n",
       "<ol class=list-inline><li>'ID'</li><li>'MD'</li><li>'SD'</li><li>'RW'</li></ol>\n"
      ],
      "text/latex": [
       "\\begin{enumerate*}\n",
       "\\item 'ID'\n",
       "\\item 'MD'\n",
       "\\item 'SD'\n",
       "\\item 'RW'\n",
       "\\end{enumerate*}\n"
      ],
      "text/markdown": [
       "1. 'ID'\n",
       "2. 'MD'\n",
       "3. 'SD'\n",
       "4. 'RW'\n",
       "\n",
       "\n"
      ],
      "text/plain": [
       "[1] \"ID\" \"MD\" \"SD\" \"RW\""
      ]
     },
     "metadata": {},
     "output_type": "display_data"
    },
    {
     "data": {
      "image/png": "[encoded data removed]",
      "text/plain": [
       "plot without title"
      ]
     },
     "metadata": {
      "image/png": {
       "height": 360,
       "width": 600
      }
     },
     "output_type": "display_data"
    }
   ],
   "source": [
    "# 分析 A compartment 变化\n",
    "rm(list = ls())\n",
    "options(repr.plot.width=10,repr.plot.height=6)\n",
    "setwd('G:/Billfish/boyang/HiC/compartment/100k/cworld')\n",
    "library(ggplot2)\n",
    "library(ggpubr)\n",
    "library(ggbreak)\n",
    "df <- read.csv('A_compartment_change.bed', sep = '\\t', header = T)\n",
    "df <- within(df, tags <- factor(tags, levels = c(\"ZY007_At\", \"ZY007_Dt\", \"ZY168_At\", \"ZY168_Dt\")))\n",
    "with(df, levels(tags))\n",
    "df <- within(df, time <- factor(time, levels = c(\"ID\", 'MD', \"SD\", 'RW')))\n",
    "with(df, levels(time))\n",
    "\n",
    "fg <- ggplot(df) +\n",
    "geom_bar(stat = \"identity\", position = \"stack\", color=\"black\", size=0.3, aes(y=A_cpt/10, x=time))+\n",
    "labs(y='The differentiation of A compartment between drought and control', x=NULL)+\n",
    "facet_grid(tags~.)+\n",
    "#coord_cartesian(ylim = c(43, 60)) +\n",
    "theme(panel.background = element_blank(), \n",
    "     panel.grid = element_blank(),\n",
    "     axis.line=element_line(linetype=1,color=\"black\"),\n",
    "     legend.position='top',\n",
    "     #axis.text.x = element_text(angle = 315, hjust = 0, color='black'),\n",
    "     axis.text = element_text(color='black'),\n",
    "     axis.ticks.length = unit(0.25, 'cm'),\n",
    "     legend.key.size = unit(10,\"pt\")\n",
    "     )\n",
    "fg\n",
    "ggsave(plot =fg, filename = 'A_compartment_change.pdf', height =3, width = 3.5)"
   ]
  },
  {
   "cell_type": "code",
   "execution_count": 3,
   "metadata": {
    "vscode": {
     "languageId": "r"
    }
   },
   "outputs": [
    {
     "data": {
      "text/html": [
       "<style>\n",
       ".list-inline {list-style: none; margin:0; padding: 0}\n",
       ".list-inline>li {display: inline-block}\n",
       ".list-inline>li:not(:last-child)::after {content: \"\\00b7\"; padding: 0 .5ex}\n",
       "</style>\n",
       "<ol class=list-inline><li>'7cID'</li><li>'7cMD'</li><li>'7cSD'</li><li>'7cRW'</li><li>'7dID'</li><li>'7dMD'</li><li>'7dSD'</li><li>'7dRW'</li><li>'8cID'</li><li>'8cMD'</li><li>'8cSD'</li><li>'8cRW'</li><li>'8dID'</li><li>'8dMD'</li><li>'8dSD'</li><li>'8dRW'</li></ol>\n"
      ],
      "text/latex": [
       "\\begin{enumerate*}\n",
       "\\item '7cID'\n",
       "\\item '7cMD'\n",
       "\\item '7cSD'\n",
       "\\item '7cRW'\n",
       "\\item '7dID'\n",
       "\\item '7dMD'\n",
       "\\item '7dSD'\n",
       "\\item '7dRW'\n",
       "\\item '8cID'\n",
       "\\item '8cMD'\n",
       "\\item '8cSD'\n",
       "\\item '8cRW'\n",
       "\\item '8dID'\n",
       "\\item '8dMD'\n",
       "\\item '8dSD'\n",
       "\\item '8dRW'\n",
       "\\end{enumerate*}\n"
      ],
      "text/markdown": [
       "1. '7cID'\n",
       "2. '7cMD'\n",
       "3. '7cSD'\n",
       "4. '7cRW'\n",
       "5. '7dID'\n",
       "6. '7dMD'\n",
       "7. '7dSD'\n",
       "8. '7dRW'\n",
       "9. '8cID'\n",
       "10. '8cMD'\n",
       "11. '8cSD'\n",
       "12. '8cRW'\n",
       "13. '8dID'\n",
       "14. '8dMD'\n",
       "15. '8dSD'\n",
       "16. '8dRW'\n",
       "\n",
       "\n"
      ],
      "text/plain": [
       " [1] \"7cID\" \"7cMD\" \"7cSD\" \"7cRW\" \"7dID\" \"7dMD\" \"7dSD\" \"7dRW\" \"8cID\" \"8cMD\"\n",
       "[11] \"8cSD\" \"8cRW\" \"8dID\" \"8dMD\" \"8dSD\" \"8dRW\""
      ]
     },
     "metadata": {},
     "output_type": "display_data"
    },
    {
     "data": {
      "text/html": [
       "<style>\n",
       ".list-inline {list-style: none; margin:0; padding: 0}\n",
       ".list-inline>li {display: inline-block}\n",
       ".list-inline>li:not(:last-child)::after {content: \"\\00b7\"; padding: 0 .5ex}\n",
       "</style>\n",
       "<ol class=list-inline><li>'At'</li><li>'Dt'</li></ol>\n"
      ],
      "text/latex": [
       "\\begin{enumerate*}\n",
       "\\item 'At'\n",
       "\\item 'Dt'\n",
       "\\end{enumerate*}\n"
      ],
      "text/markdown": [
       "1. 'At'\n",
       "2. 'Dt'\n",
       "\n",
       "\n"
      ],
      "text/plain": [
       "[1] \"At\" \"Dt\""
      ]
     },
     "metadata": {},
     "output_type": "display_data"
    },
    {
     "data": {
      "image/png": "[encoded data removed]",
      "text/plain": [
       "plot without title"
      ]
     },
     "metadata": {
      "image/png": {
       "height": 360,
       "width": 600
      }
     },
     "output_type": "display_data"
    }
   ],
   "source": [
    "## 统计所鉴定出的A/B compartment占据整个染色体的长度\n",
    "rm(list = ls())\n",
    "options(repr.plot.width=10,repr.plot.height=6)\n",
    "setwd('G:/Billfish/boyang/HiC/compartment/100k/cworld')\n",
    "library(ggplot2)\n",
    "library(ggpubr)\n",
    "library(ggbreak)\n",
    "df <- read.csv('boyang_cpt_length.bed', sep = '\\t', header = T)\n",
    "df <- within(df, tags <- factor(tags, levels = c( \"7cID\",  \"7cMD\", \"7cSD\", \"7cRW\", \"7dID\",  \"7dMD\", \"7dSD\", \"7dRW\", \"8cID\",  \"8cMD\", \"8cSD\", \"8cRW\", \"8dID\", \"8dMD\", \"8dSD\", \"8dRW\")))\n",
    "with(df, levels(tags))\n",
    "df <- within(df, subg <- factor(subg, levels = c(\"At\", \"Dt\")))\n",
    "with(df, levels(subg))\n",
    "fg <- ggplot(df, aes(y= tags, x=length, fill=sig)) +\n",
    "geom_bar(stat = \"identity\", position = \"stack\", color=\"black\", size=0.3)+\n",
    "#geom_point(aes(y=center*100, x=time), size=2)+\n",
    "#geom_line(aes(y=center*100, x=x_lab), size=0.5, color=\"#CEF09D\")+\n",
    "labs(x='Length of compartment (Mb)', y=NULL)+\n",
    "facet_grid(subg~.)+\n",
    "coord_cartesian(xlim = c(0, 1500)) +\n",
    "theme(panel.background = element_blank(), \n",
    "     panel.grid = element_blank(),\n",
    "     axis.line=element_line(linetype=1,color=\"black\"),\n",
    "     legend.position=c(0.8, 0.2),\n",
    "     #axis.text.x = element_text(angle = 315, hjust = 0, color='black'),\n",
    "     axis.text = element_text(color='black', size=8),\n",
    "     axis.ticks.length = unit(0.25, 'cm'),\n",
    "     #legend.key.size = unit(6,\"pt\")\n",
    "     )+\n",
    "scale_fill_manual(values=c( '#A5C6DC', '#3881B8','#F8ADA7', '#EE2D2C'))\n",
    "fg\n",
    "ggsave(plot =fg, filename = 'compartment_length.pdf', height =3.5, width = 3.5)"
   ]
  },
  {
   "cell_type": "code",
   "execution_count": 20,
   "metadata": {
    "vscode": {
     "languageId": "r"
    }
   },
   "outputs": [
    {
     "data": {
      "text/html": [
       "<style>\n",
       ".list-inline {list-style: none; margin:0; padding: 0}\n",
       ".list-inline>li {display: inline-block}\n",
       ".list-inline>li:not(:last-child)::after {content: \"\\00b7\"; padding: 0 .5ex}\n",
       "</style>\n",
       "<ol class=list-inline><li>'AA'</li><li>'BB'</li><li>'AB'</li><li>'BA'</li><li>'ABA'</li><li>'BAB'</li></ol>\n"
      ],
      "text/latex": [
       "\\begin{enumerate*}\n",
       "\\item 'AA'\n",
       "\\item 'BB'\n",
       "\\item 'AB'\n",
       "\\item 'BA'\n",
       "\\item 'ABA'\n",
       "\\item 'BAB'\n",
       "\\end{enumerate*}\n"
      ],
      "text/markdown": [
       "1. 'AA'\n",
       "2. 'BB'\n",
       "3. 'AB'\n",
       "4. 'BA'\n",
       "5. 'ABA'\n",
       "6. 'BAB'\n",
       "\n",
       "\n"
      ],
      "text/plain": [
       "[1] \"AA\"  \"BB\"  \"AB\"  \"BA\"  \"ABA\" \"BAB\""
      ]
     },
     "metadata": {},
     "output_type": "display_data"
    },
    {
     "data": {
      "image/png": "[encoded data removed]",
      "text/plain": [
       "plot without title"
      ]
     },
     "metadata": {
      "image/png": {
       "height": 360,
       "width": 600
      }
     },
     "output_type": "display_data"
    }
   ],
   "source": [
    "## 分析动态和稳定的compartment 所占据的比例\n",
    "rm(list = ls())\n",
    "options(repr.plot.width=10,repr.plot.height=6)\n",
    "setwd('G:/Billfish/boyang/HiC/compartment/100k/cworld/dynamic_cpt')\n",
    "library(ggplot2)\n",
    "library(ggpubr)\n",
    "library(ggbreak)\n",
    "df <- read.csv('all_sample_dynamic_cpt.bed', sep = '\\t', header = T)\n",
    "df <- within(df, sigs <- factor(sigs, levels = c(\"AA\", \"BB\", \"AB\", \"BA\", \"ABA\", \"BAB\")))\n",
    "with(df, levels(sigs))\n",
    "fg <- ggplot(df, aes(y= tags, x=number, fill=sigs)) +\n",
    "geom_bar(stat = \"identity\", position = \"stack\", color=\"black\", size=0.3)+\n",
    "#geom_point(aes(y=center*100, x=time), size=2)+\n",
    "#geom_line(aes(y=center*100, x=x_lab), size=0.5, color=\"#CEF09D\")+\n",
    "labs(x='Length of compartment (Mb)', y=NULL)+\n",
    "#facet_grid(subg~.)+\n",
    "#coord_cartesian(xlim = c(0, 1500)) +\n",
    "theme(panel.background = element_blank(), \n",
    "     panel.grid = element_blank(),\n",
    "     axis.line=element_line(linetype=1,color=\"black\"),\n",
    "     legend.position='top',\n",
    "     #axis.text.x = element_text(angle = 315, hjust = 0, color='black'),\n",
    "     axis.text = element_text(color='black', size=8),\n",
    "     axis.ticks.length = unit(0.25, 'cm'),\n",
    "     #legend.key.size = unit(6,\"pt\")\n",
    "     )+\n",
    "scale_fill_manual(values=c('#BC3837', '#5AA2C1', '#B49343', '#33815A', '#F58142', '#798F2D'))\n",
    "fg\n",
    "ggsave(plot =fg, filename = 'all_sample_dynamic_cpt.pdf', height =3.5, width = 3.5)"
   ]
  },
  {
   "cell_type": "code",
   "execution_count": 21,
   "metadata": {
    "vscode": {
     "languageId": "r"
    }
   },
   "outputs": [
    {
     "data": {
      "text/html": [
       "<style>\n",
       ".list-inline {list-style: none; margin:0; padding: 0}\n",
       ".list-inline>li {display: inline-block}\n",
       ".list-inline>li:not(:last-child)::after {content: \"\\00b7\"; padding: 0 .5ex}\n",
       "</style>\n",
       "<ol class=list-inline><li>'AA'</li><li>'BB'</li><li>'AB'</li><li>'BA'</li><li>'ABA'</li><li>'BAB'</li></ol>\n"
      ],
      "text/latex": [
       "\\begin{enumerate*}\n",
       "\\item 'AA'\n",
       "\\item 'BB'\n",
       "\\item 'AB'\n",
       "\\item 'BA'\n",
       "\\item 'ABA'\n",
       "\\item 'BAB'\n",
       "\\end{enumerate*}\n"
      ],
      "text/markdown": [
       "1. 'AA'\n",
       "2. 'BB'\n",
       "3. 'AB'\n",
       "4. 'BA'\n",
       "5. 'ABA'\n",
       "6. 'BAB'\n",
       "\n",
       "\n"
      ],
      "text/plain": [
       "[1] \"AA\"  \"BB\"  \"AB\"  \"BA\"  \"ABA\" \"BAB\""
      ]
     },
     "metadata": {},
     "output_type": "display_data"
    },
    {
     "data": {
      "image/png": "[encoded data removed]",
      "text/plain": [
       "plot without title"
      ]
     },
     "metadata": {
      "image/png": {
       "height": 360,
       "width": 600
      }
     },
     "output_type": "display_data"
    }
   ],
   "source": [
    "## 分析动态和稳定的compartment 所占据的比例\n",
    "rm(list = ls())\n",
    "options(repr.plot.width=10,repr.plot.height=6)\n",
    "setwd('G:/Billfish/boyang/HiC/compartment/100k/cworld/dynamic_cpt')\n",
    "library(ggplot2)\n",
    "library(ggpubr)\n",
    "library(ggbreak)\n",
    "df <- read.csv('all_sample_dynamic_cpt_subg.bed', sep = '\\t', header = T)\n",
    "df <- within(df, sigs <- factor(sigs, levels = c(\"AA\", \"BB\", \"AB\", \"BA\", \"ABA\", \"BAB\")))\n",
    "with(df, levels(sigs))\n",
    "fg <- ggplot(df, aes(y= tags, x=number, fill=sigs)) +\n",
    "geom_bar(stat = \"identity\", position = \"stack\", color=\"black\", size=0.3)+\n",
    "#geom_point(aes(y=center*100, x=time), size=2)+\n",
    "#geom_line(aes(y=center*100, x=x_lab), size=0.5, color=\"#CEF09D\")+\n",
    "labs(x='Length of compartment (Mb)', y=NULL)+\n",
    "facet_grid(subg~.)+\n",
    "#coord_cartesian(xlim = c(0, 1500)) +\n",
    "theme(panel.background = element_blank(), \n",
    "     panel.grid = element_blank(),\n",
    "     axis.line=element_line(linetype=1,color=\"black\"),\n",
    "     legend.position='top',\n",
    "     #axis.text.x = element_text(angle = 315, hjust = 0, color='black'),\n",
    "     axis.text = element_text(color='black', size=8),\n",
    "     axis.ticks.length = unit(0.25, 'cm'),\n",
    "     #legend.key.size = unit(6,\"pt\")\n",
    "     )+\n",
    "scale_fill_manual(values=c('#BC3837', '#5AA2C1', '#B49343', '#33815A', '#F58142', '#798F2D'))\n",
    "fg\n",
    "ggsave(plot =fg, filename = 'all_sample_dynamic_cpt_subg.pdf', height =3.5, width = 3.5)"
   ]
  },
  {
   "cell_type": "code",
   "execution_count": 23,
   "metadata": {
    "vscode": {
     "languageId": "r"
    }
   },
   "outputs": [
    {
     "data": {
      "text/html": [
       "<style>\n",
       ".list-inline {list-style: none; margin:0; padding: 0}\n",
       ".list-inline>li {display: inline-block}\n",
       ".list-inline>li:not(:last-child)::after {content: \"\\00b7\"; padding: 0 .5ex}\n",
       "</style>\n",
       "<ol class=list-inline><li>'7cID_8cID'</li><li>'7cMD_8cMD'</li><li>'7cSD_8cSD'</li><li>'7cRW_8cRW'</li><li>'7dID_8dID'</li><li>'7dMD_8dMD'</li><li>'7dSD_8dSD'</li><li>'7dRW_8dRW'</li></ol>\n"
      ],
      "text/latex": [
       "\\begin{enumerate*}\n",
       "\\item '7cID\\_8cID'\n",
       "\\item '7cMD\\_8cMD'\n",
       "\\item '7cSD\\_8cSD'\n",
       "\\item '7cRW\\_8cRW'\n",
       "\\item '7dID\\_8dID'\n",
       "\\item '7dMD\\_8dMD'\n",
       "\\item '7dSD\\_8dSD'\n",
       "\\item '7dRW\\_8dRW'\n",
       "\\end{enumerate*}\n"
      ],
      "text/markdown": [
       "1. '7cID_8cID'\n",
       "2. '7cMD_8cMD'\n",
       "3. '7cSD_8cSD'\n",
       "4. '7cRW_8cRW'\n",
       "5. '7dID_8dID'\n",
       "6. '7dMD_8dMD'\n",
       "7. '7dSD_8dSD'\n",
       "8. '7dRW_8dRW'\n",
       "\n",
       "\n"
      ],
      "text/plain": [
       "[1] \"7cID_8cID\" \"7cMD_8cMD\" \"7cSD_8cSD\" \"7cRW_8cRW\" \"7dID_8dID\" \"7dMD_8dMD\"\n",
       "[7] \"7dSD_8dSD\" \"7dRW_8dRW\""
      ]
     },
     "metadata": {},
     "output_type": "display_data"
    },
    {
     "data": {
      "image/png": "[encoded data removed]",
      "text/plain": [
       "plot without title"
      ]
     },
     "metadata": {
      "image/png": {
       "height": 360,
       "width": 600
      }
     },
     "output_type": "display_data"
    }
   ],
   "source": [
    "## A/B compartment 转变区间所能包含的基因数量\n",
    "rm(list = ls())\n",
    "options(repr.plot.width=10,repr.plot.height=6)\n",
    "setwd('G:/Billfish/boyang/HiC/compartment/100k/cworld/switch_compartment')\n",
    "library(ggplot2)\n",
    "library(ggpubr)\n",
    "library(ggbreak)\n",
    "df <- read.csv('all_switch_region_gene_format.bed', sep = '\\t', header = T)\n",
    "# df_environment <- df[df$sigs=='environments', ]\n",
    "# df_environment <- within(df_environment, tags <- factor(tags, levels = c(\"7cID_7dID\",  \"7cMD_7dMD\", \"7cSD_7dSD\", \"7cRW_7dRW\", \"8cID_8dID\",  \"8cMD_8dMD\", \"8cSD_8dSD\", \"8cRW_8dRW\")))\n",
    "# with(df_environment, levels(tags))\n",
    "\n",
    "df_environment <- df[df$sigs=='species', ]\n",
    "df_environment <- within(df_environment, tags <- factor(tags, levels = c(\"7cID_8cID\",  \"7cMD_8cMD\", \"7cSD_8cSD\", \"7cRW_8cRW\", \"7dID_8dID\",  \"7dMD_8dMD\", \"7dSD_8dSD\", \"7dRW_8dRW\")))\n",
    "with(df_environment, levels(tags))\n",
    "\n",
    "fg <- ggplot(df_environment, aes(y= tags, x=number, fill=cpt)) +\n",
    "geom_bar(stat = \"identity\", position = \"stack\", color=\"black\", size=0.3)+\n",
    "#geom_point(aes(y=center*100, x=time), size=2)+\n",
    "#geom_line(aes(y=center*100, x=x_lab), size=0.5, color=\"#CEF09D\")+\n",
    "labs(x='Number of genes', y=NULL)+\n",
    "#facet_grid(.~sigs)+\n",
    "#coord_cartesian(xlim = c(0, 1500)) +\n",
    "theme(panel.background = element_blank(), \n",
    "     panel.grid = element_blank(),\n",
    "     axis.line=element_line(linetype=1,color=\"black\"),\n",
    "     legend.position='top',\n",
    "     #axis.text.x = element_text(angle = 315, hjust = 0, color='black'),\n",
    "     axis.text = element_text(color='black', size=8),\n",
    "     axis.ticks.length = unit(0.25, 'cm'),\n",
    "     #legend.key.size = unit(6,\"pt\")\n",
    "     )+\n",
    "#scale_fill_manual(values=c( '#A5C6DC', '#3881B8','#F8ADA7', '#EE2D2C'))\n",
    "scale_fill_manual(values=c( '#3881B8', '#EE2D2C'))\n",
    "fg\n",
    " ggsave(plot =fg, filename = 'all_switch_region_gene_species.pdf', height =3.5, width = 5)\n",
    "#ggsave(plot =fg, filename = 'all_switch_region_gene_environment.pdf', height =3.5, width = 5)"
   ]
  },
  {
   "cell_type": "code",
   "execution_count": 14,
   "metadata": {
    "vscode": {
     "languageId": "r"
    }
   },
   "outputs": [
    {
     "data": {
      "text/html": [
       "<style>\n",
       ".list-inline {list-style: none; margin:0; padding: 0}\n",
       ".list-inline>li {display: inline-block}\n",
       ".list-inline>li:not(:last-child)::after {content: \"\\00b7\"; padding: 0 .5ex}\n",
       "</style>\n",
       "<ol class=list-inline><li>'7cID_7dID'</li><li>'7cMD_7dMD'</li><li>'7cSD_7dSD'</li><li>'7cRW_7dRW'</li><li>'8cID_8dID'</li><li>'8cMD_8dMD'</li><li>'8cSD_8dSD'</li><li>'8cRW_8dRW'</li></ol>\n"
      ],
      "text/latex": [
       "\\begin{enumerate*}\n",
       "\\item '7cID\\_7dID'\n",
       "\\item '7cMD\\_7dMD'\n",
       "\\item '7cSD\\_7dSD'\n",
       "\\item '7cRW\\_7dRW'\n",
       "\\item '8cID\\_8dID'\n",
       "\\item '8cMD\\_8dMD'\n",
       "\\item '8cSD\\_8dSD'\n",
       "\\item '8cRW\\_8dRW'\n",
       "\\end{enumerate*}\n"
      ],
      "text/markdown": [
       "1. '7cID_7dID'\n",
       "2. '7cMD_7dMD'\n",
       "3. '7cSD_7dSD'\n",
       "4. '7cRW_7dRW'\n",
       "5. '8cID_8dID'\n",
       "6. '8cMD_8dMD'\n",
       "7. '8cSD_8dSD'\n",
       "8. '8cRW_8dRW'\n",
       "\n",
       "\n"
      ],
      "text/plain": [
       "[1] \"7cID_7dID\" \"7cMD_7dMD\" \"7cSD_7dSD\" \"7cRW_7dRW\" \"8cID_8dID\" \"8cMD_8dMD\"\n",
       "[7] \"8cSD_8dSD\" \"8cRW_8dRW\""
      ]
     },
     "metadata": {},
     "output_type": "display_data"
    },
    {
     "data": {
      "image/png": "[encoded data removed]",
      "text/plain": [
       "plot without title"
      ]
     },
     "metadata": {
      "image/png": {
       "height": 360,
       "width": 600
      }
     },
     "output_type": "display_data"
    }
   ],
   "source": [
    "## A/B compartment 转变区间所能包含的基因数量\n",
    "rm(list = ls())\n",
    "options(repr.plot.width=10,repr.plot.height=6)\n",
    "setwd('G:/Billfish/boyang/HiC/compartment/100k/cworld/switch_compartment')\n",
    "library(ggplot2)\n",
    "library(ggpubr)\n",
    "library(ggbreak)\n",
    "df <- read.csv('all_switch_region_density_format.bed', sep = '\\t', header = T)\n",
    "\n",
    "df_environment <- df[df$sigs=='environments', ]\n",
    "df_environment <- within(df_environment, tags <- factor(tags, levels = c(\"7cID_7dID\",  \"7cMD_7dMD\", \"7cSD_7dSD\", \"7cRW_7dRW\", \"8cID_8dID\",  \"8cMD_8dMD\", \"8cSD_8dSD\", \"8cRW_8dRW\")))\n",
    "with(df_environment, levels(tags))\n",
    "\n",
    "# df_environment <- df[df$sigs=='species', ]\n",
    "# df_environment <- within(df_environment, tags <- factor(tags, levels = c(\"7cID_8cID\",  \"7cMD_8cMD\", \"7cSD_8cSD\", \"7cRW_8cRW\", \"7dID_8dID\",  \"7dMD_8dMD\", \"7dSD_8dSD\", \"7dRW_8dRW\")))\n",
    "# with(df_environment, levels(tags))\n",
    "\n",
    "fg <- ggplot(df_environment, aes(y= tags, x=density, fill=cpt)) +\n",
    "geom_bar(stat = \"identity\", position = \"dodge\", color=\"black\", size=0.3)+\n",
    "#geom_point(aes(y=center*100, x=time), size=2)+\n",
    "#geom_line(aes(y=center*100, x=x_lab), size=0.5, color=\"#CEF09D\")+\n",
    "labs(x='Genes number / Mb', y=NULL)+\n",
    "#facet_grid(.~sigs)+\n",
    "#coord_cartesian(xlim = c(0, 1500)) +\n",
    "theme(panel.background = element_blank(), \n",
    "     panel.grid = element_blank(),\n",
    "     axis.line=element_line(linetype=1,color=\"black\"),\n",
    "     legend.position='top',\n",
    "     #axis.text.x = element_text(angle = 315, hjust = 0, color='black'),\n",
    "     axis.text = element_text(color='black', size=12),\n",
    "     axis.ticks.length = unit(0.25, 'cm'),\n",
    "     axis.title = element_text(size=16)\n",
    "     #legend.key.size = unit(6,\"pt\")\n",
    "     )+\n",
    "#scale_fill_manual(values=c( '#A5C6DC', '#3881B8','#F8ADA7', '#EE2D2C'))\n",
    "scale_fill_manual(values=c( '#3881B8', '#EE2D2C'))\n",
    "fg\n",
    "#ggsave(plot =fg, filename = 'all_switch_region_density_species.pdf', height =3.5, width = 5)\n",
    "ggsave(plot =fg, filename = 'all_switch_region_density_environment.pdf', height =3.5, width = 5)"
   ]
  }
 ],
 "metadata": {
  "kernelspec": {
   "display_name": "R",
   "language": "R",
   "name": "ir"
  },
  "language_info": {
   "codemirror_mode": "r",
   "file_extension": ".r",
   "mimetype": "text/x-r-source",
   "name": "R",
   "pygments_lexer": "r",
   "version": "4.2.1"
  },
  "orig_nbformat": 4,
  "vscode": {
   "interpreter": {
    "hash": "a0f669ea42a4dcea88d385f8f9b4c3d9b966e24234758831d1dbfdac925619a2"
   }
  }
 },
 "nbformat": 4,
 "nbformat_minor": 2
}
