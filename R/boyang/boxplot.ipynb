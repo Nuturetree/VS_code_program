{
 "cells": [
  {
   "cell_type": "code",
   "execution_count": 72,
   "metadata": {
    "vscode": {
     "languageId": "r"
    }
   },
   "outputs": [
    {
     "data": {
      "text/html": [
       "<style>\n",
       ".list-inline {list-style: none; margin:0; padding: 0}\n",
       ".list-inline>li {display: inline-block}\n",
       ".list-inline>li:not(:last-child)::after {content: \"\\00b7\"; padding: 0 .5ex}\n",
       "</style>\n",
       "<ol class=list-inline><li>'7c'</li><li>'7d'</li><li>'8c'</li><li>'8d'</li></ol>\n"
      ],
      "text/latex": [
       "\\begin{enumerate*}\n",
       "\\item '7c'\n",
       "\\item '7d'\n",
       "\\item '8c'\n",
       "\\item '8d'\n",
       "\\end{enumerate*}\n"
      ],
      "text/markdown": [
       "1. '7c'\n",
       "2. '7d'\n",
       "3. '8c'\n",
       "4. '8d'\n",
       "\n",
       "\n"
      ],
      "text/plain": [
       "[1] \"7c\" \"7d\" \"8c\" \"8d\""
      ]
     },
     "metadata": {},
     "output_type": "display_data"
    },
    {
     "data": {
      "text/html": [
       "<style>\n",
       ".list-inline {list-style: none; margin:0; padding: 0}\n",
       ".list-inline>li {display: inline-block}\n",
       ".list-inline>li:not(:last-child)::after {content: \"\\00b7\"; padding: 0 .5ex}\n",
       "</style>\n",
       "<ol class=list-inline><li>'ID'</li><li>'MD'</li><li>'SD'</li><li>'RW'</li></ol>\n"
      ],
      "text/latex": [
       "\\begin{enumerate*}\n",
       "\\item 'ID'\n",
       "\\item 'MD'\n",
       "\\item 'SD'\n",
       "\\item 'RW'\n",
       "\\end{enumerate*}\n"
      ],
      "text/markdown": [
       "1. 'ID'\n",
       "2. 'MD'\n",
       "3. 'SD'\n",
       "4. 'RW'\n",
       "\n",
       "\n"
      ],
      "text/plain": [
       "[1] \"ID\" \"MD\" \"SD\" \"RW\""
      ]
     },
     "metadata": {},
     "output_type": "display_data"
    },
    {
     "name": "stderr",
     "output_type": "stream",
     "text": [
      "notch went outside hinges. Try setting notch=FALSE.\n",
      "\n",
      "notch went outside hinges. Try setting notch=FALSE.\n",
      "\n",
      "notch went outside hinges. Try setting notch=FALSE.\n",
      "\n",
      "notch went outside hinges. Try setting notch=FALSE.\n",
      "\n"
     ]
    },
    {
     "data": {
      "image/png": "[encoded data removed]",
      "text/plain": [
       "plot without title"
      ]
     },
     "metadata": {
      "image/png": {
       "height": 210,
       "width": 210
      }
     },
     "output_type": "display_data"
    }
   ],
   "source": [
    "## short 和long 相互作用 所占据比例\n",
    "options(repr.plot.width=3.5,repr.plot.height=3.5)\n",
    "rm(list = ls())\n",
    "setwd('G:/Billfish/boyang/HiC/compartment/100k/cworld/SVL')\n",
    "library(ggplot2)\n",
    "library(ggpubr)\n",
    "library(reshape2)\n",
    "df <- read.csv('7d_7c_8d_8c_SVL.txt', sep = '\\t', header = T)\n",
    "df_long <- melt(df, id.vars = c('chrs', 'tags'))\n",
    "tg <- list(c('ID', 'MD'), c('MD', 'SD'), c('SD','RW'))\n",
    "df_long <- within(df_long, tags <- factor(tags, levels = c(\"7c\", \"7d\", \"8c\", \"8d\")))\n",
    "with(df_long, levels(tags))\n",
    "df_long <- within(df_long, variable <- factor(variable, levels = c(\"ID\", \"MD\", \"SD\", \"RW\")))\n",
    "with(df_long, levels(variable))\n",
    "# df_A <- df_long[df_long$subg=='At', ]\n",
    "# print(df_A)\n",
    "fg <- ggplot(df_long,aes(x=variable, y=value))+\n",
    "geom_violin(trim=F, aes(fill=tags))+\n",
    "geom_boxplot( outlier.colour = NA, notch=TRUE, width=0.5)+\n",
    "labs(x=NULL, y='Short/Long concat')+\n",
    "facet_grid(.~tags)+\n",
    "#coord_cartesian(ylim = c(0, 0.35)) +\n",
    "theme(panel.background = element_blank(), \n",
    "     panel.grid = element_blank(),\n",
    "     axis.line=element_line(linetype=1,color=\"black\"),\n",
    "     legend.position='none',\n",
    "     axis.ticks.length = unit(0.25, 'cm')\n",
    "     )+\n",
    "geom_signif(comparisons = tg, step_increase = 0.1,test =t.test, tip_length=0.01, textsize = 2)+\n",
    "scale_fill_manual(values=c('#A5C6DC', \"#3881B8\",\"#F8ADA7\", \"#EE2D2C\" ))\n",
    "fg\n",
    "ggsave(plot =fg, filename = '7d_7c_8d_8c_SVL.pdf', height =3.5, width = 4)\n",
    "# #ggsave(plot =fg, filename = '100k_subg_rich.pdf', height =3.5, width = 3,  dpi = 300)"
   ]
  },
  {
   "cell_type": "code",
   "execution_count": 34,
   "metadata": {
    "vscode": {
     "languageId": "r"
    }
   },
   "outputs": [
    {
     "data": {
      "text/html": [
       "<style>\n",
       ".list-inline {list-style: none; margin:0; padding: 0}\n",
       ".list-inline>li {display: inline-block}\n",
       ".list-inline>li:not(:last-child)::after {content: \"\\00b7\"; padding: 0 .5ex}\n",
       "</style>\n",
       "<ol class=list-inline><li>'7cID'</li><li>'7cMD'</li><li>'7cSD'</li><li>'7cRW'</li><li>'7dID'</li><li>'7dMD'</li><li>'7dSD'</li><li>'7dRW'</li><li>'8cID'</li><li>'8cMD'</li><li>'8cSD'</li><li>'8cRW'</li><li>'8dID'</li><li>'8dMD'</li><li>'8dSD'</li><li>'8dRW'</li></ol>\n"
      ],
      "text/latex": [
       "\\begin{enumerate*}\n",
       "\\item '7cID'\n",
       "\\item '7cMD'\n",
       "\\item '7cSD'\n",
       "\\item '7cRW'\n",
       "\\item '7dID'\n",
       "\\item '7dMD'\n",
       "\\item '7dSD'\n",
       "\\item '7dRW'\n",
       "\\item '8cID'\n",
       "\\item '8cMD'\n",
       "\\item '8cSD'\n",
       "\\item '8cRW'\n",
       "\\item '8dID'\n",
       "\\item '8dMD'\n",
       "\\item '8dSD'\n",
       "\\item '8dRW'\n",
       "\\end{enumerate*}\n"
      ],
      "text/markdown": [
       "1. '7cID'\n",
       "2. '7cMD'\n",
       "3. '7cSD'\n",
       "4. '7cRW'\n",
       "5. '7dID'\n",
       "6. '7dMD'\n",
       "7. '7dSD'\n",
       "8. '7dRW'\n",
       "9. '8cID'\n",
       "10. '8cMD'\n",
       "11. '8cSD'\n",
       "12. '8cRW'\n",
       "13. '8dID'\n",
       "14. '8dMD'\n",
       "15. '8dSD'\n",
       "16. '8dRW'\n",
       "\n",
       "\n"
      ],
      "text/plain": [
       " [1] \"7cID\" \"7cMD\" \"7cSD\" \"7cRW\" \"7dID\" \"7dMD\" \"7dSD\" \"7dRW\" \"8cID\" \"8cMD\"\n",
       "[11] \"8cSD\" \"8cRW\" \"8dID\" \"8dMD\" \"8dSD\" \"8dRW\""
      ]
     },
     "metadata": {},
     "output_type": "display_data"
    },
    {
     "data": {
      "image/png": "[encoded data removed]",
      "text/plain": [
       "plot without title"
      ]
     },
     "metadata": {
      "image/png": {
       "height": 420,
       "width": 420
      }
     },
     "output_type": "display_data"
    }
   ],
   "source": [
    "## short 和long 相互作用 所占据比例\n",
    "#options(repr.plot.width=3.5,repr.plot.height=3.5)\n",
    "rm(list = ls())\n",
    "setwd('G:/Billfish/boyang/HiC/compartment/100k/cworld')\n",
    "library(ggplot2)\n",
    "library(ggpubr)\n",
    "library(reshape2)\n",
    "df <- read.csv('J668_ABcpt_all_gene_fpkm.bed',  header = T)\n",
    "df <- within(df, Sample <- factor(Sample, levels = c(\"7cID\", \"7cMD\", \"7cSD\", \"7cRW\", '7dID', '7dMD', '7dSD', '7dRW', \"8cID\", \"8cMD\", \"8cSD\", \"8cRW\", '8dID', '8dMD', '8dSD', '8dRW')))\n",
    "with(df, levels(Sample))\n",
    "tg <- list(c('A', 'B'))\n",
    "fg <- ggplot(df,aes(x=ABcpt, y=log2(FPKM+1), fill=ABcpt))+\n",
    "stat_boxplot(geom='errorbar')+\n",
    "geom_boxplot( outlier.colour = NA, notch=TRUE)+\n",
    "labs(x=NULL, y='log2(FPKM+1)')+\n",
    "coord_cartesian(ylim = c(0, 8)) +\n",
    "facet_grid(.~Sample)+\n",
    "theme(panel.background = element_blank(), \n",
    "     panel.grid = element_blank(),\n",
    "     axis.line=element_line(linetype=1,color=\"black\"),\n",
    "     legend.position='none',\n",
    "     axis.ticks.length = unit(0.25, 'cm'),\n",
    "     panel.spacing.x = unit(0.1, \"cm\"),\n",
    "     axis.text.x = element_text(size=14, color=\"black\"),\n",
    "     axis.text.y = element_text(size=14, color=\"black\"),\n",
    "     axis.title.y = element_text(size=18)\n",
    "     )+\n",
    "geom_signif(comparisons = tg, step_increase = 0.1,test =t.test, tip_length=0.01, textsize = 2, y_position=7, map_signif_level = T)+\n",
    "scale_fill_manual(values=c( '#CA2B1A' ,'#14447E'))\n",
    "fg\n",
    "ggsave(plot =fg, filename = 'J668_ABcpt_all_gene_fpkm.pdf', height =6, width = 8)\n"
   ]
  }
 ],
 "metadata": {
  "kernelspec": {
   "display_name": "R",
   "language": "R",
   "name": "ir"
  },
  "language_info": {
   "codemirror_mode": "r",
   "file_extension": ".r",
   "mimetype": "text/x-r-source",
   "name": "R",
   "pygments_lexer": "r",
   "version": "4.2.1"
  },
  "orig_nbformat": 4
 },
 "nbformat": 4,
 "nbformat_minor": 2
}
