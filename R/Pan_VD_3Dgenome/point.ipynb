{
 "cells": [
  {
   "cell_type": "code",
   "execution_count": 8,
   "metadata": {},
   "outputs": [
    {
     "data": {
      "image/png": "[encoded data removed]",
      "text/plain": [
       "plot without title"
      ]
     },
     "metadata": {
      "image/png": {
       "height": 360,
       "width": 360
      }
     },
     "output_type": "display_data"
    }
   ],
   "source": [
    "#分析136份黄萎病的PCA\n",
    "rm(list = ls())\n",
    "options(repr.plot.width=6,repr.plot.height=6)\n",
    "setwd('F:/Pan_VD_3Dgenome/SNP/PCA')\n",
    "library(ggplot2)\n",
    "library(ggpubr)\n",
    "df <- read.csv('VD_136_snp_pca.eigenvec', sep = ' ', header = T)\n",
    "#head(df)\n",
    "fg <- ggplot(df, aes(x=pca1, y=pca2))+\n",
    "geom_point()+\n",
    "labs(x=NULL, y=NULL)+\n",
    "theme(panel.background = element_blank(), \n",
    "      panel.grid = element_blank(),\n",
    "      axis.line=element_line(linetype=1,color=\"black\"),\n",
    "      #legend.position=c(0.25, 0.7),\n",
    "      axis.ticks.length = unit(0.5, 'cm'),\n",
    "      axis.text = element_text(size = 16)\n",
    "     )+\n",
    "#scale_color_gradient(low=\"#F0AB97\",  high=\"red\")+\n",
    "scale_size_area(max_size = 10)\n",
    "fg\n",
    "ggsave(plot =fg, filename = 'VD_136_snp_pca.pdf', height =6, width = 6)\n"
   ]
  },
  {
   "cell_type": "code",
   "execution_count": null,
   "metadata": {},
   "outputs": [],
   "source": []
  }
 ],
 "metadata": {
  "kernelspec": {
   "display_name": "R",
   "language": "R",
   "name": "ir"
  },
  "language_info": {
   "codemirror_mode": "r",
   "file_extension": ".r",
   "mimetype": "text/x-r-source",
   "name": "R",
   "pygments_lexer": "r",
   "version": "4.1.2"
  },
  "orig_nbformat": 4
 },
 "nbformat": 4,
 "nbformat_minor": 2
}
