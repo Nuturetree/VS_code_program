{
 "cells": [
  {
   "cell_type": "code",
   "execution_count": 7,
   "metadata": {},
   "outputs": [
    {
     "data": {
      "text/html": [
       "<strong>png:</strong> 2"
      ],
      "text/latex": [
       "\\textbf{png:} 2"
      ],
      "text/markdown": [
       "**png:** 2"
      ],
      "text/plain": [
       "png \n",
       "  2 "
      ]
     },
     "metadata": {},
     "output_type": "display_data"
    }
   ],
   "source": [
    "pdf(\"enhancer_type.pdf\")\n",
    "setwd(\"F:/TM-1_leaf_3D-genome/enhancer\")\n",
    "info = c(6381, 8026, 8728)\n",
    "names = c('at_uniq', 'dt_uniq', 'homo')\n",
    "cols = c(\"#f6416c\",\"#00b8a9\",\"#ffde7d\")\n",
    "enhancer <- pie(info, labels=names, col=cols)\n",
    "dev.off()\n"
   ]
  },
  {
   "cell_type": "code",
   "execution_count": 10,
   "metadata": {},
   "outputs": [
    {
     "data": {
      "text/html": [
       "<strong>png:</strong> 2"
      ],
      "text/latex": [
       "\\textbf{png:} 2"
      ],
      "text/markdown": [
       "**png:** 2"
      ],
      "text/plain": [
       "png \n",
       "  2 "
      ]
     },
     "metadata": {},
     "output_type": "display_data"
    }
   ],
   "source": [
    "pdf(\"homo_enhancer_type.pdf\")\n",
    "setwd(\"F:/TM-1_leaf_3D-genome/enhancer\")\n",
    "info = c(144, 8584)\n",
    "names = c('at_uniq', 'dt_uniq', 'homo')\n",
    "cols = c(\"#f85f73\",\"#fbe8d3\")\n",
    "enhancer <- pie(info, labels=names, col=cols)\n",
    "dev.off()"
   ]
  }
 ],
 "metadata": {
  "kernelspec": {
   "display_name": "R",
   "language": "R",
   "name": "ir"
  },
  "language_info": {
   "codemirror_mode": "r",
   "file_extension": ".r",
   "mimetype": "text/x-r-source",
   "name": "R",
   "pygments_lexer": "r",
   "version": "4.1.1"
  },
  "orig_nbformat": 4
 },
 "nbformat": 4,
 "nbformat_minor": 2
}
