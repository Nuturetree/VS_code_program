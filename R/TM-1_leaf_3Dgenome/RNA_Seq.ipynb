{
 "cells": [
  {
   "cell_type": "code",
   "execution_count": 9,
   "metadata": {},
   "outputs": [],
   "source": [
    "df <- read.csv('F:/TM-1_leaf_3D-genome/RNA_Seq/bias/all_hg_expression_bias.txt', sep='\\t', header=T)\n",
    "FDR <- p.adjust(df$pvalue, method='BH')\n",
    "df$FDR <- FDR\n",
    "write.table(df, 'F:/TM-1_leaf_3D-genome/RNA_Seq/bias/all_hg_expression_bias.txt', sep='\\t')\n"
   ]
  },
  {
   "cell_type": "code",
   "execution_count": 18,
   "metadata": {},
   "outputs": [
    {
     "data": {
      "text/plain": [
       "\n",
       "\tPearson's Chi-squared test with Yates' continuity correction\n",
       "\n",
       "data:  ab\n",
       "X-squared = 1.786, df = 1, p-value = 0.1814\n"
      ]
     },
     "metadata": {},
     "output_type": "display_data"
    }
   ],
   "source": [
    "## 染色体跳跃的同源基因的bias 于非未跳跃的同源基因bias之间的比较\n",
    "at = c(181, 932)\n",
    "dt = c(3673, 21211)\n",
    "ab <- data.frame(at, dt)\n",
    "chisq.test(ab)"
   ]
  }
 ],
 "metadata": {
  "kernelspec": {
   "display_name": "R",
   "language": "R",
   "name": "ir"
  },
  "language_info": {
   "codemirror_mode": "r",
   "file_extension": ".r",
   "mimetype": "text/x-r-source",
   "name": "R",
   "pygments_lexer": "r",
   "version": "4.1.2"
  },
  "orig_nbformat": 4
 },
 "nbformat": 4,
 "nbformat_minor": 2
}
