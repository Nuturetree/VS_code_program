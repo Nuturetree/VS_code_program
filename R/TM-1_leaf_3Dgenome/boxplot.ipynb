{
 "cells": [
  {
   "cell_type": "code",
   "execution_count": 24,
   "metadata": {
    "vscode": {
     "languageId": "r"
    }
   },
   "outputs": [
    {
     "name": "stderr",
     "output_type": "stream",
     "text": [
      "Coordinate system already present. Adding new coordinate system, which will replace the existing one.\n",
      "\n"
     ]
    },
    {
     "data": {
      "image/png": "[encoded data removed]",
      "text/plain": [
       "plot without title"
      ]
     },
     "metadata": {
      "image/png": {
       "height": 420,
       "width": 420
      }
     },
     "output_type": "display_data"
    }
   ],
   "source": [
    "## 同源基因表达差异，染色体内和染色体间的比较\n",
    "##比较J85和J98网络中保守的和动态的基因表达量\n",
    "rm(list = ls())\n",
    "setwd('F:/TM-1_leaf_3D-genome/RNA_Seq/bias/loop/')\n",
    "library(ggplot2)\n",
    "library(ggpubr)\n",
    "compaired <- list(c('Homo_chr','NonHomo_chr'))\n",
    "df <- read.csv('gene_loop_bias_tags.txt', sep = '\\t', header = T)\n",
    "fg <- ggplot(df, aes(x=tags, y=log2FC, fill=tags))+\n",
    "geom_boxplot(outlier.colour = NA, notch=FALSE, width=1.5)+\n",
    "labs(x=NULL, y='log2(At_FPKM/Dt_FPKM)')+\n",
    "facet_grid(Bias~.)+\n",
    "coord_cartesian(ylim = c(-11, 13)) +\n",
    "theme(panel.background = element_blank(), \n",
    "     panel.grid = element_blank(),\n",
    "     axis.line=element_line(linetype=1,color=\"black\"),\n",
    "     legend.position='none',\n",
    "     axis.ticks.length = unit(0.25, 'cm'),\n",
    "     axis.text = element_text(color='black'),\n",
    "     #axis.text.x = element_text(angle = 315, hjust = 0),\n",
    "     )+\n",
    "geom_signif(comparisons = compaired, step_increase = 0.05,test =t.test, tip_length=0.01,  y_position=c(11), textsize = 2)+\n",
    "scale_fill_manual(values=c('#FDC2B1', \"#AAF0D1\"))+\n",
    "coord_flip()\n",
    "fg\n",
    "ggsave(plot =fg, filename = 'gene_loop_bias_tags.pdf', height =2, width = 3)"
   ]
  },
  {
   "cell_type": "code",
   "execution_count": 36,
   "metadata": {
    "vscode": {
     "languageId": "r"
    }
   },
   "outputs": [
    {
     "data": {
      "text/html": [
       "<style>\n",
       ".list-inline {list-style: none; margin:0; padding: 0}\n",
       ".list-inline>li {display: inline-block}\n",
       ".list-inline>li:not(:last-child)::after {content: \"\\00b7\"; padding: 0 .5ex}\n",
       "</style>\n",
       "<ol class=list-inline><li>'inactive'</li><li>'active'</li><li>'atac_inactive'</li><li>'atac_active'</li></ol>\n"
      ],
      "text/latex": [
       "\\begin{enumerate*}\n",
       "\\item 'inactive'\n",
       "\\item 'active'\n",
       "\\item 'atac\\_inactive'\n",
       "\\item 'atac\\_active'\n",
       "\\end{enumerate*}\n"
      ],
      "text/markdown": [
       "1. 'inactive'\n",
       "2. 'active'\n",
       "3. 'atac_inactive'\n",
       "4. 'atac_active'\n",
       "\n",
       "\n"
      ],
      "text/plain": [
       "[1] \"inactive\"      \"active\"        \"atac_inactive\" \"atac_active\"  "
      ]
     },
     "metadata": {},
     "output_type": "display_data"
    },
    {
     "data": {
      "image/png": "[encoded data removed]",
      "text/plain": [
       "plot without title"
      ]
     },
     "metadata": {
      "image/png": {
       "height": 420,
       "width": 420
      }
     },
     "output_type": "display_data"
    }
   ],
   "source": [
    "## 分析不同的非基因区域的修饰对于基因表达的影响\n",
    "rm(list = ls())\n",
    "setwd('F:/TM-1_leaf_3D-genome/ChIP/peaks')\n",
    "library(ggplot2)\n",
    "library(ggpubr)\n",
    "compaired <- list(c('atac_active','atac_inactive'), c(\"active\", \"inactive\"), c('atac_active', 'active'), c('atac_inactive', 'inactive'))\n",
    "df <- read.csv('gene_enhancer_regulation_promoter_2k.txt', sep = '\\t', header = T)\n",
    "#df <- within(df, tags <- factor(tags, levels = c(\"atac_active\", \"atac_inactive\", \"active\", \"inactive\")))\n",
    "df <- within(df, tags <- factor(tags, levels = c(\"inactive\", \"active\", \"atac_inactive\", \"atac_active\")))\n",
    "with(df, levels(tags))\n",
    "#df\n",
    "fg <- ggplot(df, aes(x=tags, y=log2(fpkm+1), fill=tags))+\n",
    "geom_violin()+\n",
    "geom_boxplot(outlier.colour = NA, notch=FALSE, width=0.25, fill='white')+\n",
    "labs(x=NULL, y='log2(FPKM+1)')+\n",
    "#facet_grid(Bias~.)+\n",
    "#coord_cartesian(ylim = c(0, 10)) +\n",
    "theme(panel.background = element_blank(), \n",
    "     panel.grid = element_blank(),\n",
    "     axis.line=element_line(linetype=1,color=\"black\"),\n",
    "     legend.position='none',\n",
    "     axis.ticks.length = unit(0.25, 'cm'),\n",
    "     axis.text = element_text(color='black'),\n",
    "     #axis.text.x = element_text(angle = 315, hjust = 0)\n",
    "     )+\n",
    "geom_signif(comparisons = compaired, step_increase = 0.05,test =wilcox.test, tip_length=0.01,  y_position=c(8.5), textsize = 2)+\n",
    "#scale_fill_manual(values=c('#F36D52','#FCC11D','#F5CBD9', \"#9FD9CD\"))+\n",
    "scale_fill_manual(values=c(\"#9FD9CD\", '#F5CBD9', '#FCC11D', '#F36D52'))+\n",
    "coord_flip(ylim = c(0, 10))\n",
    "fg\n",
    "ggsave(plot =fg, filename = 'gene_enhancer_regulation_promoter_2k.pdf', height =2, width = 3)"
   ]
  },
  {
   "cell_type": "code",
   "execution_count": 1,
   "metadata": {
    "vscode": {
     "languageId": "r"
    }
   },
   "outputs": [
    {
     "data": {
      "image/png": "[encoded data removed]",
      "text/plain": [
       "plot without title"
      ]
     },
     "metadata": {
      "image/png": {
       "height": 420,
       "width": 420
      }
     },
     "output_type": "display_data"
    },
    {
     "ename": "",
     "evalue": "",
     "output_type": "error",
     "traceback": [
      "\u001b[1;31mThe Kernel crashed while executing code in the the current cell or a previous cell. Please review the code in the cell(s) to identify a possible cause of the failure. Click <a href='https://aka.ms/vscodeJupyterKernelCrash'>here</a> for more info. View Jupyter <a href='command:jupyter.viewOutput'>log</a> for further details."
     ]
    }
   ],
   "source": [
    "###分析subcompartment所包含基因的表达水平\n",
    "rm(list = ls())\n",
    "#setwd('F:/TM-1_leaf_3D-genome/HiC/cpt/CALDER/40K')\n",
    "setwd('F:/TM-1_leaf_3D-genome/HiC/cpt/CALDER/20K')\n",
    "library(ggplot2)\n",
    "library(ggpubr)\n",
    "compaired <- list( c('B21', 'B22'),  c('B12', 'B21'), c('B11', 'B12'), c('A22', 'B11'), c('A21', 'A22'), c('A12','A21'), c('A11','A12'))\n",
    "#df <- read.csv('TM1_40K_gene_scpt.txt', sep = '\\t', header = T)\n",
    "df <- read.csv('TM1_20K_gene_scpt.txt', sep = '\\t', header = T)\n",
    "df_need <- df[df$tags!='no_tags', ]\n",
    "fg <- ggplot(df_need, aes(x=tags, y=log2(level+0.001), fill=tags))+\n",
    "geom_violin()+\n",
    "#geom_boxplot(outlier.colour = NA, notch=FALSE)+\n",
    "labs(x=NULL, y='log2(FPKM+0.001)')+\n",
    "#facet_grid(Bias~.)+\n",
    "#coord_cartesian(ylim = c(-11, 13)) +\n",
    "theme(panel.background = element_blank(), \n",
    "     panel.grid = element_blank(),\n",
    "     axis.line=element_line(linetype=1,color=\"black\"),\n",
    "     legend.position='none',\n",
    "     axis.ticks.length = unit(0.25, 'cm'),\n",
    "     axis.text = element_text(color='black')\n",
    "     #axis.text.x = element_text(angle = 315, hjust = 0),\n",
    "     )+\n",
    "geom_signif(comparisons = compaired, step_increase = 0.02,test =wilcox.test, tip_length=0.01,  y_position=c(11), textsize = 2)+\n",
    "scale_fill_manual(values=c(\"#FF0000\",\"#FF4848\",\"#FF9191\",\"#FFDADA\",\"#DADAFF\",\"#9191FF\",\"#4848FF\",\"#0000FF\", \"#FF0007\"))+\n",
    "coord_flip()\n",
    "\n",
    "fg\n",
    "ggsave(plot =fg, filename = 'TM1_40K_gene_scpt.pdf', height =3, width = 3)"
   ]
  },
  {
   "cell_type": "code",
   "execution_count": 14,
   "metadata": {
    "vscode": {
     "languageId": "r"
    }
   },
   "outputs": [
    {
     "name": "stderr",
     "output_type": "stream",
     "text": [
      "Warning message in file(file, \"rt\"):\n",
      "\"无法打开文件'test': No such file or directory\"\n"
     ]
    },
    {
     "ename": "ERROR",
     "evalue": "Error in file(file, \"rt\"): 无法打开链结\n",
     "output_type": "error",
     "traceback": [
      "Error in file(file, \"rt\"): 无法打开链结\nTraceback:\n",
      "1. read.csv(\"test\", sep = \"\\t\", header = T)",
      "2. read.table(file = file, header = header, sep = sep, quote = quote, \n .     dec = dec, fill = fill, comment.char = comment.char, ...)",
      "3. file(file, \"rt\")"
     ]
    }
   ],
   "source": [
    "###分析subcompartment所包含基因的表达水平\n",
    "rm(list = ls())\n",
    "#setwd('F:/TM-1_leaf_3D-genome/HiC/cpt/CALDER/40K')\n",
    "#setwd('F:/TM-1_leaf_3D-genome/Proe-C_HiC/TAD/Cliques/method2')\n",
    "library(ggplot2)\n",
    "df <- read.csv('test', sep = '\\t', header = T)\n",
    "fg <- ggplot(df, aes(x=tag, y=test/1000))+\n",
    "#geom_violin()+\n",
    "coord_cartesian(ylim = c(0, 500)) +\n",
    "geom_boxplot(outlier.colour = NA, notch=FALSE)+\n",
    "labs(x=NULL, y='log2(FPKM+0.001)')+\n",
    "#facet_grid(Bias~.)+\n",
    "#coord_cartesian(ylim = c(-11, 13)) +\n",
    "theme(panel.background = element_blank(), \n",
    "     panel.grid = element_blank(),\n",
    "     axis.line=element_line(linetype=1,color=\"black\"),\n",
    "     legend.position='none',\n",
    "     axis.ticks.length = unit(0.25, 'cm'),\n",
    "     axis.text = element_text(color='black')\n",
    "     #axis.text.x = element_text(angle = 315, hjust = 0),\n",
    "     )+\n",
    "     \n",
    "fg\n"
   ]
  },
  {
   "cell_type": "code",
   "execution_count": 20,
   "metadata": {
    "vscode": {
     "languageId": "r"
    }
   },
   "outputs": [
    {
     "data": {
      "image/png": "[encoded data removed]",
      "text/plain": [
       "plot without title"
      ]
     },
     "metadata": {
      "image/png": {
       "height": 420,
       "width": 420
      }
     },
     "output_type": "display_data"
    }
   ],
   "source": [
    "## 分析TAD cliques 所包含的基因表达量\n",
    "rm(list = ls())\n",
    "setwd('F:/TM-1_leaf_3D-genome/HiC/TAD/Cliques/method2')\n",
    "library(ggplot2)\n",
    "library(ggpubr)\n",
    "df <- read.csv('all_TAD_cliques_gene_fpkm.txt', sep = '\\t', header = T)\n",
    "df_need <- df[df$cliques>2,]\n",
    "compaired <- list(c('3', '4'),  c('4', '5'), c('5', '6'), c('6', '7'))\n",
    "fg <- ggplot(df_need, aes(x=as.factor(cliques), y=log2(FPKM+0.01), fill=cliques))+\n",
    "geom_boxplot(outlier.colour = NA, notch=FALSE)+\n",
    "labs(x=NULL, y='log2(FPKM+0.001)')+\n",
    "theme(panel.background = element_blank(), \n",
    "     panel.grid = element_blank(),\n",
    "     axis.line=element_line(linetype=1),\n",
    "     legend.position='none',\n",
    "     axis.ticks.length = unit(0.25, 'cm'),\n",
    "     axis.text = element_text(color='black')\n",
    "     ) + \n",
    "     scale_fill_gradient(low = \"#FFDE86\",high = \"#FA453E\")+\n",
    "     geom_signif(comparisons = compaired, step_increase = 0.02,test =wilcox.test, tip_length=0.01, textsize = 2)\n",
    "fg\n",
    "ggsave(plot =fg, filename = 'all_TAD_cliques_gene_fpkm.pdf', height =3.5, width = 3)"
   ]
  },
  {
   "cell_type": "code",
   "execution_count": 14,
   "metadata": {
    "vscode": {
     "languageId": "r"
    }
   },
   "outputs": [
    {
     "data": {
      "text/html": [
       "<style>\n",
       ".list-inline {list-style: none; margin:0; padding: 0}\n",
       ".list-inline>li {display: inline-block}\n",
       ".list-inline>li:not(:last-child)::after {content: \"\\00b7\"; padding: 0 .5ex}\n",
       "</style>\n",
       "<ol class=list-inline><li>'3.0'</li><li>'4.0'</li><li>'5.0'</li><li>'6.0'</li><li>'7.0'</li><li>'8.0'</li><li>'9.0'</li><li>'10.0'</li><li>'11.0'</li><li>'12.0'</li><li>'13.0'</li><li>'14.0'</li><li>'15.0'</li><li>'16.0'</li><li>'17.0'</li><li>'18.0'</li><li>'19.0'</li><li>'20.0'</li><li>'21.0'</li><li>'22.0'</li><li>'&gt;22'</li></ol>\n"
      ],
      "text/latex": [
       "\\begin{enumerate*}\n",
       "\\item '3.0'\n",
       "\\item '4.0'\n",
       "\\item '5.0'\n",
       "\\item '6.0'\n",
       "\\item '7.0'\n",
       "\\item '8.0'\n",
       "\\item '9.0'\n",
       "\\item '10.0'\n",
       "\\item '11.0'\n",
       "\\item '12.0'\n",
       "\\item '13.0'\n",
       "\\item '14.0'\n",
       "\\item '15.0'\n",
       "\\item '16.0'\n",
       "\\item '17.0'\n",
       "\\item '18.0'\n",
       "\\item '19.0'\n",
       "\\item '20.0'\n",
       "\\item '21.0'\n",
       "\\item '22.0'\n",
       "\\item '>22'\n",
       "\\end{enumerate*}\n"
      ],
      "text/markdown": [
       "1. '3.0'\n",
       "2. '4.0'\n",
       "3. '5.0'\n",
       "4. '6.0'\n",
       "5. '7.0'\n",
       "6. '8.0'\n",
       "7. '9.0'\n",
       "8. '10.0'\n",
       "9. '11.0'\n",
       "10. '12.0'\n",
       "11. '13.0'\n",
       "12. '14.0'\n",
       "13. '15.0'\n",
       "14. '16.0'\n",
       "15. '17.0'\n",
       "16. '18.0'\n",
       "17. '19.0'\n",
       "18. '20.0'\n",
       "19. '21.0'\n",
       "20. '22.0'\n",
       "21. '&gt;22'\n",
       "\n",
       "\n"
      ],
      "text/plain": [
       " [1] \"3.0\"  \"4.0\"  \"5.0\"  \"6.0\"  \"7.0\"  \"8.0\"  \"9.0\"  \"10.0\" \"11.0\" \"12.0\"\n",
       "[11] \"13.0\" \"14.0\" \"15.0\" \"16.0\" \"17.0\" \"18.0\" \"19.0\" \"20.0\" \"21.0\" \"22.0\"\n",
       "[21] \">22\" "
      ]
     },
     "metadata": {},
     "output_type": "display_data"
    },
    {
     "data": {
      "image/png": "[encoded data removed]",
      "text/plain": [
       "plot without title"
      ]
     },
     "metadata": {
      "image/png": {
       "height": 420,
       "width": 420
      }
     },
     "output_type": "display_data"
    }
   ],
   "source": [
    "## 分析TAD cliques 所包含的基因表达量\n",
    "rm(list = ls())\n",
    "setwd('F:/TM-1_leaf_3D-genome/Pore-C/TAD/TAD_cliques/chr')\n",
    "library(ggplot2)\n",
    "library(ggpubr)\n",
    "df <- read.csv('PoreC_cliques_gene.txt', sep = '\\t', header = T)\n",
    "#df_need <- df[df$cliques>2&df$cliques<23,]\n",
    "df_need <- df[df$cliques>2&df$cliques<23,]\n",
    "compaired <- list(c('3', '22'))\n",
    "df_need <- within(df_need, cliques2 <- factor(cliques2, levels = c('3.0', '4.0', '5.0', '6.0', '7.0', '8.0', '9.0', '10.0', '11.0', '12.0', '13.0', '14.0', '15.0', '16.0', '17.0', '18.0', '19.0', '20.0', '21.0', '22.0', '>22')))\n",
    "with(df_need, levels(cliques2))\n",
    "fg <- ggplot(df_need, aes(x=as.factor(cliques), y=log2(FPKM+0.01), fill=cliques))+\n",
    "geom_boxplot(outlier.colour = NA, notch=FALSE)+\n",
    "labs(x=NULL, y='log2(FPKM+0.01)')+\n",
    "theme(panel.background = element_blank(), \n",
    "     panel.grid = element_blank(),\n",
    "     axis.line=element_line(linetype=1),\n",
    "     legend.position='none',\n",
    "     axis.ticks.length = unit(0.25, 'cm'),\n",
    "     axis.text = element_text(color='black')\n",
    "     ) + \n",
    "     scale_fill_gradient(low = \"#FFDE86\",high = \"#FA453E\")+\n",
    "     geom_signif(comparisons = compaired, step_increase = 0.02,test =wilcox.test, tip_length=0.01, textsize = 2)\n",
    "fg\n",
    "ggsave(plot =fg, filename = 'PoreC_cliques_gene.pdf', height =3.5, width = 3.5)"
   ]
  },
  {
   "cell_type": "code",
   "execution_count": 13,
   "metadata": {
    "vscode": {
     "languageId": "r"
    }
   },
   "outputs": [
    {
     "data": {
      "image/png": "[encoded data removed]",
      "text/plain": [
       "plot without title"
      ]
     },
     "metadata": {
      "image/png": {
       "height": 420,
       "width": 420
      }
     },
     "output_type": "display_data"
    }
   ],
   "source": [
    "## 分析不同类型的loop对于基因表达的影响\n",
    "rm(list = ls())\n",
    "setwd(\"F:/TM-1_leaf_3D-genome/HiC/loop/gene_loop/GG-GN\")\n",
    "library(ggplot2)\n",
    "library(ggpubr)\n",
    "df <- read.csv(\"gene_loop_tag.txt\", sep = \"\\t\", header = T)\n",
    "compaired <- list(c(\"G-G\", \"G-N\"), c(\"G-N\", \"Not loop\"), c(\"G-G\", \"Not loop\"))\n",
    "# df <- within(df, sig <- factor(sig, levels = c(\"Not loop\", \"G-N\", \"G-G\")))\n",
    "# with(df, levels(sig))\n",
    "#fg <- ggplot(df, aes(x = log2(FPKM + 0.01), y = sig, fill = sig)) +\n",
    "fg <- ggplot(df, aes(x = sig, y = log2(FPKM + 0.01), fill = sig)) +\n",
    "geom_boxplot(outlier.colour = NA, notch = FALSE) +\n",
    "facet_grid(.~subg) +\n",
    "labs(y = \"log2(FPKM+0.01)\", x = NULL) +\n",
    "theme(panel.background = element_blank(),\n",
    "     panel.grid = element_blank(),\n",
    "     axis.line = element_line(linetype = 1),\n",
    "     legend.position = \"none\",\n",
    "     axis.ticks.length = unit(0.25, \"cm\"),\n",
    "     axis.text = element_text(color = \"black\"),\n",
    "     axis.text.x = element_text(angle = 315, hjust=0)\n",
    "     ) +\n",
    "     scale_fill_manual(values = c(\"#df6b24\", \"#2d7382\", \"#efdab4\")) +\n",
    "     geom_signif(comparisons = compaired, step_increase = 0.02,test =wilcox.test, tip_length=0.01, textsize = 2, y_position=10, annotations=c(\"***\", \"***\", \"***\"))\n",
    "fg\n",
    "ggsave(plot =fg, filename = 'gene_loop_tag.pdf', height =4, width = 3.5)"
   ]
  },
  {
   "cell_type": "code",
   "execution_count": 11,
   "metadata": {
    "vscode": {
     "languageId": "r"
    }
   },
   "outputs": [
    {
     "data": {
      "image/png": "[encoded data removed]",
      "text/plain": [
       "plot without title"
      ]
     },
     "metadata": {
      "image/png": {
       "height": 420,
       "width": 420
      }
     },
     "output_type": "display_data"
    }
   ],
   "source": [
    "## 分析不同类型的loop对于基因表达的影响\n",
    "rm(list = ls())\n",
    "setwd(\"H:/TM-1_leaf_3D-genome/HiC/loop/loop_3k/gene/loop_type\")\n",
    "library(ggplot2)\n",
    "library(ggpubr)\n",
    "df <- read.csv(\"three_loop_gene.txt\", sep = \"\\t\", header = T)\n",
    "compaired <- list(c(\"G-G\", \"G-N\"), c(\"G-N\", \"Not loop\"), c(\"G-G\", \"Not loop\"))\n",
    "# df <- within(df, sig <- factor(sig, levels = c(\"Not loop\", \"G-N\", \"G-G\")))\n",
    "# with(df, levels(sig))\n",
    "#fg <- ggplot(df, aes(x = log2(FPKM + 0.01), y = sig, fill = sig)) +\n",
    "fg <- ggplot(df, aes(x = tags, y = log2(FPKM + 0.01), fill = tags)) +\n",
    "geom_boxplot(outlier.colour = NA, notch = FALSE) +\n",
    "facet_grid(.~subg) +\n",
    "labs(y = \"log2(FPKM+0.01)\", x = NULL) +\n",
    "theme(panel.background = element_blank(),\n",
    "     panel.grid = element_blank(),\n",
    "     axis.line = element_line(linetype = 1),\n",
    "     legend.position = \"none\",\n",
    "     axis.ticks.length = unit(0.25, \"cm\"),\n",
    "     axis.text = element_text(color = \"black\"),\n",
    "     axis.text.x = element_text(angle = 315, hjust=0)\n",
    "     ) +\n",
    "     scale_fill_manual(values = c(\"#df6b24\", \"#2d7382\", \"#efdab4\")) +\n",
    "     geom_signif(comparisons = compaired, step_increase = 0.02,test =wilcox.test, tip_length=0.01, textsize = 2, y_position=11, annotations=c(\"***\", \"***\", \"***\"))\n",
    "fg\n",
    "ggsave(plot =fg, filename = 'three_loop_gene.pdf', height =4, width = 3.5)"
   ]
  },
  {
   "cell_type": "code",
   "execution_count": 7,
   "metadata": {
    "vscode": {
     "languageId": "r"
    }
   },
   "outputs": [
    {
     "data": {
      "image/png": "[encoded data removed]",
      "text/plain": [
       "plot without title"
      ]
     },
     "metadata": {
      "image/png": {
       "height": 420,
       "width": 420
      }
     },
     "output_type": "display_data"
    }
   ],
   "source": [
    "## 同源基因表达差异，染色体内和染色体间的比较\n",
    "##比较J85和J98网络中保守的和动态的基因表达量\n",
    "rm(list = ls())\n",
    "setwd('G:/TM-1_leaf_3D-genome/HiC/loop/loop_3k/CREs/homo_gene_cres/diff_cres')\n",
    "library(ggplot2)\n",
    "library(ggpubr)\n",
    "compaired <- list(c('At','Dt'))\n",
    "df <- read.csv('diff_cres_gene_fpkm.txt', sep = '\\t', header = T)\n",
    "fg <- ggplot(df, aes(x=subg, y=log2(fpkm+0.01), fill=subg))+\n",
    "geom_boxplot(outlier.colour = NA, notch=FALSE, width=1.5)+\n",
    "labs(x=NULL, y='log2(At_FPKM/Dt_FPKM)')+\n",
    "facet_grid(.~tags)+\n",
    "coord_cartesian(ylim = c(-11, 13)) +\n",
    "theme(panel.background = element_blank(), \n",
    "     panel.grid = element_blank(),\n",
    "     axis.line=element_line(linetype=1,color=\"black\"),\n",
    "     legend.position='none',\n",
    "     axis.ticks.length = unit(0.25, 'cm'),\n",
    "     axis.text = element_text(color='black'),\n",
    "     #axis.text.x = element_text(angle = 315, hjust = 0),\n",
    "     )+\n",
    "geom_signif(comparisons = compaired, step_increase = 0.05,test =t.test, tip_length=0.01, textsize = 2)+\n",
    "scale_fill_manual(values=c('#FDC2B1', \"#AAF0D1\"))\n",
    "fg\n",
    "#ggsave(plot =fg, filename = 'gene_loop_bias_tags.pdf', height =2, width = 3)"
   ]
  },
  {
   "cell_type": "code",
   "execution_count": 14,
   "metadata": {
    "vscode": {
     "languageId": "r"
    }
   },
   "outputs": [
    {
     "name": "stderr",
     "output_type": "stream",
     "text": [
      "\u001b[1m\u001b[22mCoordinate system already present. Adding new coordinate system, which will\n",
      "replace the existing one.\n"
     ]
    },
    {
     "data": {
      "image/png": "[encoded data removed]",
      "text/plain": [
       "plot without title"
      ]
     },
     "metadata": {
      "image/png": {
       "height": 420,
       "width": 420
      }
     },
     "output_type": "display_data"
    }
   ],
   "source": [
    "## 分析TAD 内部和TAD 边界出基因的表达水平\n",
    "rm(list = ls())\n",
    "setwd('G:/Billfish/TM-1_leaf_3D-genome/HiC/TAD')\n",
    "library(ggplot2)\n",
    "library(ggpubr)\n",
    "compaired <- list(c('boundary','center'))\n",
    "df <- read.csv('TAD_boundary_center_gene.txt', sep = '\\t', header = T)\n",
    "fg <- ggplot(df, aes(x=tags, y=log2(FPKM+0.01), fill=tags))+\n",
    "stat_boxplot(geom = \"errorbar\",width=0.25)+\n",
    "geom_boxplot(outlier.colour = NA, notch=FALSE)+\n",
    "labs(x=NULL, y='log2(FPKM+0.01)')+\n",
    "facet_grid(subg~.)+\n",
    "coord_cartesian(ylim = c(-11, 13)) +\n",
    "theme(panel.background = element_blank(), \n",
    "     panel.grid = element_blank(),\n",
    "     axis.line=element_line(linetype=1,color=\"black\"),\n",
    "     legend.position='none',\n",
    "     axis.ticks.length = unit(0.25, 'cm'),\n",
    "     axis.text = element_text(color='black'),\n",
    "     #axis.text.x = element_text(angle = 315, hjust = 0),\n",
    "     )+\n",
    "geom_signif(comparisons = compaired, step_increase = 0.05,test =t.test, tip_length=0.01, textsize = 2)+\n",
    "scale_fill_manual(values=c('#F78C2F', \"#769976\"))+\n",
    "coord_flip()\n",
    "fg\n",
    "ggsave(plot =fg, filename = 'TAD_boundary_center_gene.pdf', height =2, width = 3)"
   ]
  }
 ],
 "metadata": {
  "kernelspec": {
   "display_name": "R",
   "language": "R",
   "name": "ir"
  },
  "language_info": {
   "codemirror_mode": "r",
   "file_extension": ".r",
   "mimetype": "text/x-r-source",
   "name": "R",
   "pygments_lexer": "r",
   "version": "4.2.2"
  },
  "orig_nbformat": 4,
  "vscode": {
   "interpreter": {
    "hash": "a0f669ea42a4dcea88d385f8f9b4c3d9b966e24234758831d1dbfdac925619a2"
   }
  }
 },
 "nbformat": 4,
 "nbformat_minor": 2
}
