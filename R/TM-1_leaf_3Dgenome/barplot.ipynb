{
 "cells": [
  {
   "cell_type": "code",
   "execution_count": 55,
   "metadata": {
    "vscode": {
     "languageId": "r"
    }
   },
   "outputs": [
    {
     "data": {
      "text/html": [
       "<style>\n",
       ".list-inline {list-style: none; margin:0; padding: 0}\n",
       ".list-inline>li {display: inline-block}\n",
       ".list-inline>li:not(:last-child)::after {content: \"\\00b7\"; padding: 0 .5ex}\n",
       "</style>\n",
       "<ol class=list-inline><li>'2'</li><li>'3'</li><li>'4'</li><li>'5-6'</li><li>'7-11'</li><li>'12-21'</li><li>'22-50'</li><li>'&gt;50'</li></ol>\n"
      ],
      "text/latex": [
       "\\begin{enumerate*}\n",
       "\\item '2'\n",
       "\\item '3'\n",
       "\\item '4'\n",
       "\\item '5-6'\n",
       "\\item '7-11'\n",
       "\\item '12-21'\n",
       "\\item '22-50'\n",
       "\\item '>50'\n",
       "\\end{enumerate*}\n"
      ],
      "text/markdown": [
       "1. '2'\n",
       "2. '3'\n",
       "3. '4'\n",
       "4. '5-6'\n",
       "5. '7-11'\n",
       "6. '12-21'\n",
       "7. '22-50'\n",
       "8. '&gt;50'\n",
       "\n",
       "\n"
      ],
      "text/plain": [
       "[1] \"2\"     \"3\"     \"4\"     \"5-6\"   \"7-11\"  \"12-21\" \"22-50\" \">50\"  "
      ]
     },
     "metadata": {},
     "output_type": "display_data"
    },
    {
     "data": {
      "text/html": [
       "<style>\n",
       ".list-inline {list-style: none; margin:0; padding: 0}\n",
       ".list-inline>li {display: inline-block}\n",
       ".list-inline>li:not(:last-child)::after {content: \"\\00b7\"; padding: 0 .5ex}\n",
       "</style>\n",
       "<ol class=list-inline><li>'#FFCB9F'</li><li>'#FCAB7C'</li><li>'#F98C5A'</li><li>'#F66C38'</li><li>'#F55D27'</li><li>'#F55D27'</li><li>'#F55D27'</li><li>'#F55D27'</li></ol>\n"
      ],
      "text/latex": [
       "\\begin{enumerate*}\n",
       "\\item '\\#FFCB9F'\n",
       "\\item '\\#FCAB7C'\n",
       "\\item '\\#F98C5A'\n",
       "\\item '\\#F66C38'\n",
       "\\item '\\#F55D27'\n",
       "\\item '\\#F55D27'\n",
       "\\item '\\#F55D27'\n",
       "\\item '\\#F55D27'\n",
       "\\end{enumerate*}\n"
      ],
      "text/markdown": [
       "1. '#FFCB9F'\n",
       "2. '#FCAB7C'\n",
       "3. '#F98C5A'\n",
       "4. '#F66C38'\n",
       "5. '#F55D27'\n",
       "6. '#F55D27'\n",
       "7. '#F55D27'\n",
       "8. '#F55D27'\n",
       "\n",
       "\n"
      ],
      "text/plain": [
       "[1] \"#FFCB9F\" \"#FCAB7C\" \"#F98C5A\" \"#F66C38\" \"#F55D27\" \"#F55D27\" \"#F55D27\"\n",
       "[8] \"#F55D27\""
      ]
     },
     "metadata": {},
     "output_type": "display_data"
    },
    {
     "data": {
      "image/png": "[encoded data removed]",
      "text/plain": [
       "plot without title"
      ]
     },
     "metadata": {
      "image/png": {
       "height": 420,
       "width": 420
      }
     },
     "output_type": "display_data"
    }
   ],
   "source": [
    "## pore-c concatemer\n",
    "rm(list = ls())\n",
    "#options(repr.plot.width=2,repr.plot.height=2.5)\n",
    "setwd('F:/TM-1_leaf_3D-genome/Pore-C/concatemer')\n",
    "library(ggplot2)\n",
    "library(ggpubr)\n",
    "library(RColorBrewer)\n",
    "df <- read.csv('concatemer.txt', sep = '\\t', header = T)\n",
    "#df <- within(df, order <- factor(order, levels = c(\">50\", \"22-50\", \"12-21\", \"7-11\", \"5-6\", \"4\", \"3\", \"2\")))\n",
    "df <- within(df, order <- factor(order, levels = c(\"2\", \"3\", \"4\", \"5-6\", \"7-11\", \"12-21\", \"22-50\", \">50\")))\n",
    "with(df, levels(order))\n",
    "cols<-c('#FFCB9F', '#F55D27', '#F55D27')\n",
    "pal<-colorRampPalette(cols)\n",
    "mycolors<-pal(nrow(df))\n",
    "mycolors\n",
    "fg <- ggplot(df, aes(x=as.factor(order), y=number/1000, fill=order))+\n",
    "geom_bar(stat = \"identity\", position = \"stack\", color = \"black\")+\n",
    "labs(x=NULL, y='Number of concatemer*1000')+\n",
    "theme(panel.background = element_blank(), \n",
    "     panel.grid = element_blank(),\n",
    "     axis.line=element_line(linetype=1,color=\"black\"),\n",
    "     legend.position='none',\n",
    "     axis.ticks.length = unit(0.25, 'cm')\n",
    "     )+\n",
    "scale_fill_manual(values=mycolors)+\n",
    "coord_flip()\n",
    "fg\n",
    "ggsave(plot =fg, filename = 'concatemer.pdf', height =3, width = 3.5)"
   ]
  },
  {
   "cell_type": "code",
   "execution_count": 33,
   "metadata": {
    "vscode": {
     "languageId": "r"
    }
   },
   "outputs": [
    {
     "name": "stderr",
     "output_type": "stream",
     "text": [
      "Warning message:\n",
      "\"Removed 13 rows containing missing values (position_stack).\"\n",
      "Warning message:\n",
      "\"Removed 13 rows containing missing values (position_stack).\"\n"
     ]
    },
    {
     "data": {
      "image/png": "[encoded data removed]",
      "text/plain": [
       "plot without title"
      ]
     },
     "metadata": {
      "image/png": {
       "height": 420,
       "width": 420
      }
     },
     "output_type": "display_data"
    }
   ],
   "source": [
    "### 绘制TM-1 leaf Pore-C 和 Hic TAD cliques\n",
    "### 分析酶切片段合理性\n",
    "setwd('F:/TM-1_leaf_3D-genome/Proe-C_HiC/TAD/Cliques/method1')\n",
    "library(ggplot2)\n",
    "library(readxl)\n",
    "library(ggpubr)\n",
    "rm=list(ls())\n",
    "df = read.csv('Pore-C_Hi-C_cliques.txt', sep = '\\t', header = T)\n",
    "cliques <- df[df$cliques_size>2,]\n",
    "abcom_gene <- ggplot(data= cliques) +   \n",
    "  geom_bar(aes(x=cliques_size, y = PoreC_number),stat='identity',position='stack', color = \"black\", alpha=0.8, fill='#7F7F7F', size=0.1)  +\n",
    "  geom_bar(aes(x=cliques_size, y = HiC_number), color='red', stat='identity',position='stack', alpha=0.4,fill= 'red', size =0.1)+\n",
    "  labs(x='Size of cliques',y='number of TAD cliques',fill=NULL) +   #不要标签\n",
    "  #coord_cartesian(ylim = c(0,1500000))+\n",
    "  #scale_y_continuous(breaks = c(0, 500000, 1000000, 1500000))+\n",
    "  theme(\n",
    "    axis.line=element_line(linetype=1,color=\"black\"), #设置Y轴线\n",
    "    panel.background = element_blank(), #去掉背景色\n",
    "    panel.grid.major =element_blank(), #去掉竖立网格线\n",
    "    panel.grid.minor = element_blank() ,#去掉横向网格线\n",
    "    legend.position = 'top',\n",
    "    legend.key.size = unit(10, 'pt'),\n",
    "    axis.ticks.length = unit(0.2,'cm')\n",
    "  ) \n",
    "abcom_gene\n",
    "ggsave(plot =abcom_gene, filename = \"Pore-C_Hi-C_cliques.pdf\", height =4, width = 4)"
   ]
  },
  {
   "cell_type": "code",
   "execution_count": 2,
   "metadata": {
    "vscode": {
     "languageId": "r"
    }
   },
   "outputs": [
    {
     "name": "stderr",
     "output_type": "stream",
     "text": [
      "Warning message:\n",
      "\"Removed 23 rows containing missing values (position_stack).\"\n",
      "Warning message:\n",
      "\"Removed 23 rows containing missing values (position_stack).\"\n"
     ]
    },
    {
     "data": {
      "image/png": "[encoded data removed]",
      "text/plain": [
       "plot without title"
      ]
     },
     "metadata": {
      "image/png": {
       "height": 420,
       "width": 420
      }
     },
     "output_type": "display_data"
    }
   ],
   "source": [
    "### 绘制TM-1 leaf Pore-C 和 Hic TAD cliques\n",
    "### 分析酶切片段合理性\n",
    "setwd('F:/TM-1_leaf_3D-genome/Proe-C_HiC/TAD/Cliques/method3')\n",
    "library(ggplot2)\n",
    "library(readxl)\n",
    "library(ggpubr)\n",
    "rm=list(ls())\n",
    "df = read.csv('Pore-C_Hi-C_cliques.txt', sep = '\\t', header = T)\n",
    "cliques <- df[df$cliques_size>2,]\n",
    "abcom_gene <- ggplot(data= cliques) +   \n",
    "  geom_bar(aes(x=cliques_size, y = PoreC_number),stat='identity',position='stack', color = \"black\", alpha=0.8, fill='#7F7F7F', size=0.1)  +\n",
    "  geom_bar(aes(x=cliques_size, y = HiC_number), color='red', stat='identity',position='stack', alpha=0.4,fill= 'red', size =0.1)+\n",
    "  labs(x='Size of cliques',y='number of TAD cliques',fill=NULL) +   #不要标签\n",
    "  #coord_cartesian(ylim = c(0,1500000))+\n",
    "  #scale_y_continuous(breaks = c(0, 500000, 1000000, 1500000))+\n",
    "  theme(\n",
    "    axis.line=element_line(linetype=1,color=\"black\"), #设置Y轴线\n",
    "    panel.background = element_blank(), #去掉背景色\n",
    "    panel.grid.major =element_blank(), #去掉竖立网格线\n",
    "    panel.grid.minor = element_blank() ,#去掉横向网格线\n",
    "    legend.position = 'top',\n",
    "    legend.key.size = unit(10, 'pt'),\n",
    "    axis.ticks.length = unit(0.2,'cm')\n",
    "  ) \n",
    "abcom_gene\n",
    "ggsave(plot =abcom_gene, filename = \"Pore-C_Hi-C_cliques.pdf\", height =4, width = 4)"
   ]
  },
  {
   "cell_type": "code",
   "execution_count": 2,
   "metadata": {
    "vscode": {
     "languageId": "r"
    }
   },
   "outputs": [
    {
     "name": "stderr",
     "output_type": "stream",
     "text": [
      "Warning message:\n",
      "\"Removed 23 rows containing missing values (position_stack).\"\n",
      "Warning message:\n",
      "\"Removed 23 rows containing missing values (position_stack).\"\n"
     ]
    },
    {
     "data": {
      "image/png": "[encoded data removed]",
      "text/plain": [
       "plot without title"
      ]
     },
     "metadata": {
      "image/png": {
       "height": 420,
       "width": 420
      }
     },
     "output_type": "display_data"
    }
   ],
   "source": [
    "### 绘制TM-1 leaf Pore-C 和 Hic TAD cliques\n",
    "### 分析酶切片段合理性\n",
    "setwd('F:/TM-1_leaf_3D-genome/Proe-C_HiC/TAD/Cliques/method3')\n",
    "library(ggplot2)\n",
    "library(readxl)\n",
    "library(ggpubr)\n",
    "rm=list(ls())\n",
    "df = read.csv('Pore-C_Hi-C_cliques.txt', sep = '\\t', header = T)\n",
    "cliques <- df[df$cliques_size>2,]\n",
    "abcom_gene <- ggplot(data= cliques) +   \n",
    "  geom_bar(aes(x=cliques_size, y = PoreC_number),stat='identity',position='stack', color = \"black\", alpha=0.8, fill='#7F7F7F', size=0.1)  +\n",
    "  geom_bar(aes(x=cliques_size, y = HiC_number), color='red', stat='identity',position='stack', alpha=0.4,fill= 'red', size =0.1)+\n",
    "  labs(x='Size of cliques',y='number of TAD cliques',fill=NULL) +   #不要标签\n",
    "  #coord_cartesian(ylim = c(0,1500000))+\n",
    "  #scale_y_continuous(breaks = c(0, 500000, 1000000, 1500000))+\n",
    "  theme(\n",
    "    axis.line=element_line(linetype=1,color=\"black\"), #设置Y轴线\n",
    "    panel.background = element_blank(), #去掉背景色\n",
    "    panel.grid.major =element_blank(), #去掉竖立网格线\n",
    "    panel.grid.minor = element_blank() ,#去掉横向网格线\n",
    "    legend.position = 'top',\n",
    "    legend.key.size = unit(10, 'pt'),\n",
    "    axis.ticks.length = unit(0.2,'cm')\n",
    "  ) \n",
    "abcom_gene\n",
    "ggsave(plot =abcom_gene, filename = \"Pore-C_Hi-C_cliques.pdf\", height =4, width = 4)"
   ]
  },
  {
   "cell_type": "code",
   "execution_count": 41,
   "metadata": {
    "vscode": {
     "languageId": "r"
    }
   },
   "outputs": [
    {
     "data": {
      "text/html": [
       "<style>\n",
       ".list-inline {list-style: none; margin:0; padding: 0}\n",
       ".list-inline>li {display: inline-block}\n",
       ".list-inline>li:not(:last-child)::after {content: \"\\00b7\"; padding: 0 .5ex}\n",
       "</style>\n",
       "<ol class=list-inline><li>'200 K'</li><li>'100 K'</li><li>'40 K'</li><li>'20 K'</li><li>'10 K'</li><li>'5 K'</li><li>'3 K'</li><li>'2 K'</li></ol>\n"
      ],
      "text/latex": [
       "\\begin{enumerate*}\n",
       "\\item '200 K'\n",
       "\\item '100 K'\n",
       "\\item '40 K'\n",
       "\\item '20 K'\n",
       "\\item '10 K'\n",
       "\\item '5 K'\n",
       "\\item '3 K'\n",
       "\\item '2 K'\n",
       "\\end{enumerate*}\n"
      ],
      "text/markdown": [
       "1. '200 K'\n",
       "2. '100 K'\n",
       "3. '40 K'\n",
       "4. '20 K'\n",
       "5. '10 K'\n",
       "6. '5 K'\n",
       "7. '3 K'\n",
       "8. '2 K'\n",
       "\n",
       "\n"
      ],
      "text/plain": [
       "[1] \"200 K\" \"100 K\" \"40 K\"  \"20 K\"  \"10 K\"  \"5 K\"   \"3 K\"   \"2 K\"  "
      ]
     },
     "metadata": {},
     "output_type": "display_data"
    },
    {
     "data": {
      "image/png": "[encoded data removed]",
      "text/plain": [
       "plot without title"
      ]
     },
     "metadata": {
      "image/png": {
       "height": 420,
       "width": 420
      }
     },
     "output_type": "display_data"
    }
   ],
   "source": [
    "## 分析HiC 和Pore-C 的不同情况下的分辨率， 绘制蝴蝶图\n",
    "library(ggplot2)\n",
    "library(grid)\n",
    "setwd(\"H:/TM-1_leaf_3D-genome/Proe-C_HiC/resolution\")\n",
    "df = read.csv(\"TM-1_pore_C_bin_resolution.txt\", sep=\"\\t\", header=T)\n",
    "df <- within(df,  names<- factor(names, levels = c(\"200 K\", \"100 K\", \"40 K\", \"20 K\", \"10 K\", \"5 K\", \"3 K\", \"2 K\")))\n",
    "with(df, levels(names))\n",
    "df_hic <- df[df$tags==\"Hi-C\",]\n",
    "df_PoreC <- df[df$tags==\"Pore-C\",]\n",
    "abcom_gene <- ggplot(data= df_hic) +\n",
    "#abcom_gene <- ggplot(data= df_PoreC) +\n",
    "  geom_bar(aes(x=ratio, y = names),stat='identity',position='stack', color = \"#000000\", alpha=0.8, fill='#ffbb91', size=0.1)  +\n",
    "  #geom_bar(aes(x=ratio, y = names),stat='identity',position='stack', color = \"#000000\", alpha=0.8, fill='#64958f', size=0.1)  +\n",
    "  geom_vline(aes(xintercept=80), linetype=\"dashed\")+\n",
    "  labs(x=NULL,y=NULL,fill=NULL) +   #不要标签\n",
    "  #coord_cartesian(ylim = c(0,1500000))+\n",
    "  scale_x_continuous(breaks = c(0, 20, 40, 60, 80, 100))+\n",
    "  theme(\n",
    "    axis.line=element_line(linetype=1,color=\"black\"), #设置Y轴线\n",
    "    panel.background = element_blank(), #去掉背景色\n",
    "    panel.grid.major =element_blank(), #去掉竖立网格线\n",
    "    panel.grid.minor = element_blank() ,#去掉横向网格线\n",
    "    legend.position = 'top',\n",
    "    legend.key.size = unit(10, 'pt'),\n",
    "    axis.ticks.length = unit(0.2,'cm')\n",
    "  )\n",
    "abcom_gene\n",
    "ggsave(plot =abcom_gene, filename = \"Hi-C_resolution.pdf\", height =2.5, width = 3.5)\n",
    "#ggsave(plot =abcom_gene, filename = \"Pore-C_resolution.pdf\", height =2.5, width = 3.5)\n",
    "\n"
   ]
  },
  {
   "cell_type": "code",
   "execution_count": 12,
   "metadata": {
    "vscode": {
     "languageId": "r"
    }
   },
   "outputs": [
    {
     "data": {
      "text/html": [
       "<style>\n",
       ".list-inline {list-style: none; margin:0; padding: 0}\n",
       ".list-inline>li {display: inline-block}\n",
       ".list-inline>li:not(:last-child)::after {content: \"\\00b7\"; padding: 0 .5ex}\n",
       "</style>\n",
       "<ol class=list-inline><li>'N-N loop'</li><li>'G-N loop'</li><li>'G-G loop'</li></ol>\n"
      ],
      "text/latex": [
       "\\begin{enumerate*}\n",
       "\\item 'N-N loop'\n",
       "\\item 'G-N loop'\n",
       "\\item 'G-G loop'\n",
       "\\end{enumerate*}\n"
      ],
      "text/markdown": [
       "1. 'N-N loop'\n",
       "2. 'G-N loop'\n",
       "3. 'G-G loop'\n",
       "\n",
       "\n"
      ],
      "text/plain": [
       "[1] \"N-N loop\" \"G-N loop\" \"G-G loop\""
      ]
     },
     "metadata": {},
     "output_type": "display_data"
    },
    {
     "data": {
      "image/png": "[encoded data removed]",
      "text/plain": [
       "plot without title"
      ]
     },
     "metadata": {
      "image/png": {
       "height": 420,
       "width": 420
      }
     },
     "output_type": "display_data"
    }
   ],
   "source": [
    "## 分析不同类型的loop 锚点所包含active 组蛋白修饰的比例\n",
    "rm(list = ls())\n",
    "setwd(\"G:/TM-1_leaf_3D-genome/HiC/loop/loop_3k/gene/H3K27ac_H3K4me3\")\n",
    "library(ggplot2)\n",
    "library(ggpubr)\n",
    "df <- read.csv(\"loop_anchors_active_histone_ratio.txt\", sep = \"\\t\", header = T)\n",
    "#compaired <- list(c(\"G-G\", \"G-N\"), c(\"G-N\", \"Not loop\"), c(\"G-G\", \"Not loop\"))\n",
    "df <- within(df, tags <- factor(tags, levels = c(\"N-N loop\", \"G-N loop\", \"G-G loop\")))\n",
    "with(df, levels(tags))\n",
    "#fg <- ggplot(df, aes(x = log2(FPKM + 0.01), y = sig, fill = sig)) +\n",
    "fg <- ggplot(df, aes(x = ratio, y = tags, fill = tags)) +\n",
    "geom_bar(stat='identity',position='stack', color='black') +\n",
    "facet_grid(subg~.) +\n",
    "labs(x = \"Proporation of activate histone\", y = NULL) +\n",
    "theme(panel.background = element_blank(),\n",
    "     panel.grid = element_blank(),\n",
    "     axis.line = element_line(linetype = 1),\n",
    "     legend.position = \"none\",\n",
    "     axis.ticks.length = unit(0.25, \"cm\"),\n",
    "     axis.text = element_text(color = \"black\")\n",
    "     #axis.text.x = element_text(angle = 315, hjust=0)\n",
    "     ) +\n",
    "     scale_fill_manual(values = c(\"#efdab4\", \"#2d7382\", \"#df6b24\")) \n",
    "    # geom_signif(comparisons = compaired, step_increase = 0.02,test =wilcox.test, tip_length=0.01, textsize = 2, y_position=11, annotations=c(\"***\", \"***\", \"***\"))\n",
    "fg\n",
    "ggsave(plot =fg, filename = 'loop_anchor_active_histone.pdf', height =3.5, width = 4.5)"
   ]
  }
 ],
 "metadata": {
  "kernelspec": {
   "display_name": "R",
   "language": "R",
   "name": "ir"
  },
  "language_info": {
   "codemirror_mode": "r",
   "file_extension": ".r",
   "mimetype": "text/x-r-source",
   "name": "R",
   "pygments_lexer": "r",
   "version": "4.1.2"
  },
  "orig_nbformat": 4
 },
 "nbformat": 4,
 "nbformat_minor": 2
}
