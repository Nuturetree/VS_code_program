{
 "cells": [
  {
   "cell_type": "code",
   "execution_count": 21,
   "metadata": {
    "vscode": {
     "languageId": "r"
    }
   },
   "outputs": [
    {
     "name": "stderr",
     "output_type": "stream",
     "text": [
      "`geom_smooth()` using formula 'y ~ x'\n",
      "\n",
      "`geom_smooth()` using formula 'y ~ x'\n",
      "\n"
     ]
    },
    {
     "data": {
      "image/png": "[encoded data removed]",
      "text/plain": [
       "plot without title"
      ]
     },
     "metadata": {
      "image/png": {
       "height": 420,
       "width": 420
      }
     },
     "output_type": "display_data"
    }
   ],
   "source": [
    "### the relationship of pca between HiC and Pore-c \n",
    "rm(list=ls())\n",
    "setwd('F:/TM-1_leaf_3D-genome/Pore-C/cpt')\n",
    "library(ggplot2)\n",
    "library(ggpubr)\n",
    "PCA <- read.csv('pca1_hic_pore-c_A10.txt', sep = '\\t', header = T)\n",
    "loop <- ggplot(PCA, aes(x=hic_normal, y=porec_normal)) +\n",
    "  geom_point( size = 1, color='#6A736F')+\n",
    "  geom_smooth(method = 'lm', se = F, color = 'red')+\n",
    "  stat_cor(data=PCA, method = \"spearman\")+\n",
    "  labs(x='Hi-C', y='Pore-C') +   #不要标签\n",
    "  #geom_smooth(se = FALSE) +\n",
    "  #facet_grid(days~.)+\n",
    "  coord_cartesian(xlim = c(-1,1), ylim = c(-1, 1))+\n",
    "  #scale_x_continuous(breaks = seq(3,11))+\n",
    "  #scale_y_continuous(breaks = c(0, 2, 1))+\n",
    "  theme(\n",
    "    panel.background = element_blank(), #去掉背景色\n",
    "    panel.grid.major = element_blank(), #去掉网格\n",
    "    panel.grid.minor = element_blank(),\n",
    "    axis.line=element_line(linetype=1,color=\"black\"),  #添加轴线   \n",
    "    axis.text=element_text(size=8,angle=0,color=\"Black\"), #设置轴字体\n",
    "    legend.text = element_text(size=6),\n",
    "    legend.title = element_text(size=6),\n",
    "    axis.title =element_text(size=10), #设置标签字体\n",
    "    legend.position=c(0.9,0.9), #调整图例,\n",
    "    axis.ticks.length = unit(0.25, 'cm')\n",
    "  )\n",
    "loop\n",
    "ggsave(plot =loop, filename = 'pac1_HiC_pore-c_A10.pdf', height = 4, width = 4,  dpi = 300)"
   ]
  },
  {
   "cell_type": "code",
   "execution_count": 24,
   "metadata": {
    "vscode": {
     "languageId": "r"
    }
   },
   "outputs": [
    {
     "name": "stderr",
     "output_type": "stream",
     "text": [
      "`geom_smooth()` using formula 'y ~ x'\n",
      "\n"
     ]
    },
    {
     "data": {
      "image/png": "[encoded data removed]",
      "text/plain": [
       "plot without title"
      ]
     },
     "metadata": {
      "image/png": {
       "height": 420,
       "width": 420
      }
     },
     "output_type": "display_data"
    }
   ],
   "source": [
    "### the relationship of insulation score between HiC and Pore-c \n",
    "rm(list=ls())\n",
    "setwd('F:/TM-1_leaf_3D-genome/Pore-C/TAD/is_relevance')\n",
    "library(ggplot2)\n",
    "library(ggpubr)\n",
    "PCA <- read.csv('is_hic_porec_A04.bed', sep = '\\t', header = T)\n",
    "loop <- ggplot(PCA, aes(x=hic_normal, y=porec_normal)) +\n",
    "  geom_point( size = 1, color='#6A736F')+\n",
    "  geom_smooth(method = 'lm', se = F, color = 'red')+\n",
    "  stat_cor(data=PCA, method = \"spearman\")+\n",
    "  labs(x='Hi-C', y='Pore-C') +   #不要标签\n",
    "  coord_cartesian(xlim = c(-1,1), ylim = c(-1, 1))+\n",
    "  theme(\n",
    "    panel.background = element_blank(), #去掉背景色\n",
    "    panel.grid.major = element_blank(), #去掉网格\n",
    "    panel.grid.minor = element_blank(),\n",
    "    axis.line=element_line(linetype=1,color=\"black\"),  #添加轴线   \n",
    "    axis.text=element_text(size=8,angle=0,color=\"Black\"), #设置轴字体\n",
    "    legend.text = element_text(size=6),\n",
    "    legend.title = element_text(size=6),\n",
    "    axis.title =element_text(size=10), #设置标签字体\n",
    "    legend.position=c(0.9,0.9), #调整图例,\n",
    "    axis.ticks.length = unit(0.25, 'cm')\n",
    "  )\n",
    "loop\n",
    "#ggsave(plot =loop, filename = 'is_hic_porec_A04.pdf', height = 4, width = 4,  dpi = 300)"
   ]
  },
  {
   "cell_type": "code",
   "execution_count": 8,
   "metadata": {
    "vscode": {
     "languageId": "r"
    }
   },
   "outputs": [
    {
     "data": {
      "text/html": [
       "<style>\n",
       ".dl-inline {width: auto; margin:0; padding: 0}\n",
       ".dl-inline>dt, .dl-inline>dd {float: none; width: auto; display: inline-block}\n",
       ".dl-inline>dt::after {content: \":\\0020\"; padding-right: .5ex}\n",
       ".dl-inline>dt:not(:first-of-type) {padding-left: .5ex}\n",
       "</style><dl class=dl-inline><dt>H3K4me3</dt><dd>13448</dd><dt>H3K9me3</dt><dd>297</dd><dt>H3K27me3</dt><dd>3853</dd><dt>H3K36me3</dt><dd>4533</dd></dl>\n"
      ],
      "text/latex": [
       "\\begin{description*}\n",
       "\\item[H3K4me3] 13448\n",
       "\\item[H3K9me3] 297\n",
       "\\item[H3K27me3] 3853\n",
       "\\item[H3K36me3] 4533\n",
       "\\end{description*}\n"
      ],
      "text/markdown": [
       "H3K4me3\n",
       ":   13448H3K9me3\n",
       ":   297H3K27me3\n",
       ":   3853H3K36me3\n",
       ":   4533\n",
       "\n"
      ],
      "text/plain": [
       " H3K4me3  H3K9me3 H3K27me3 H3K36me3 \n",
       "   13448      297     3853     4533 "
      ]
     },
     "metadata": {},
     "output_type": "display_data"
    },
    {
     "data": {
      "text/html": [
       "<style>\n",
       ".dl-inline {width: auto; margin:0; padding: 0}\n",
       ".dl-inline>dt, .dl-inline>dd {float: none; width: auto; display: inline-block}\n",
       ".dl-inline>dt::after {content: \":\\0020\"; padding-right: .5ex}\n",
       ".dl-inline>dt:not(:first-of-type) {padding-left: .5ex}\n",
       "</style><dl class=dl-inline><dt>Exp High</dt><dd>6540</dd><dt>Exp Medium</dt><dd>6011</dd><dt>Exp Low</dt><dd>8684</dd></dl>\n"
      ],
      "text/latex": [
       "\\begin{description*}\n",
       "\\item[Exp High] 6540\n",
       "\\item[Exp Medium] 6011\n",
       "\\item[Exp Low] 8684\n",
       "\\end{description*}\n"
      ],
      "text/markdown": [
       "Exp High\n",
       ":   6540Exp Medium\n",
       ":   6011Exp Low\n",
       ":   8684\n",
       "\n"
      ],
      "text/plain": [
       "  Exp High Exp Medium    Exp Low \n",
       "      6540       6011       8684 "
      ]
     },
     "metadata": {},
     "output_type": "display_data"
    },
    {
     "data": {
      "text/html": [
       "21196"
      ],
      "text/latex": [
       "21196"
      ],
      "text/markdown": [
       "21196"
      ],
      "text/plain": [
       "[1] 21196"
      ]
     },
     "metadata": {},
     "output_type": "display_data"
    }
   ],
   "source": [
    "library(GeneOverlap)\n",
    "data(GeneOverlap)\n",
    "#hESC.RNASeq.list$\"Exp High\"\n",
    "sapply(hESC.ChIPSeq.list, length)\n",
    "sapply(hESC.RNASeq.list, length)\n",
    "gs.RNASeq"
   ]
  },
  {
   "cell_type": "code",
   "execution_count": null,
   "metadata": {
    "vscode": {
     "languageId": "r"
    }
   },
   "outputs": [],
   "source": [
    "## "
   ]
  },
  {
   "cell_type": "markdown",
   "metadata": {},
   "source": []
  }
 ],
 "metadata": {
  "kernelspec": {
   "display_name": "R",
   "language": "R",
   "name": "ir"
  },
  "language_info": {
   "codemirror_mode": "r",
   "file_extension": ".r",
   "mimetype": "text/x-r-source",
   "name": "R",
   "pygments_lexer": "r",
   "version": "4.2.1"
  },
  "orig_nbformat": 4
 },
 "nbformat": 4,
 "nbformat_minor": 2
}
