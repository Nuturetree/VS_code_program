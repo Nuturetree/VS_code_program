{
 "cells": [
  {
   "cell_type": "code",
   "execution_count": 10,
   "metadata": {
    "vscode": {
     "languageId": "r"
    }
   },
   "outputs": [
    {
     "data": {
      "text/html": [
       "<style>\n",
       ".list-inline {list-style: none; margin:0; padding: 0}\n",
       ".list-inline>li {display: inline-block}\n",
       ".list-inline>li:not(:last-child)::after {content: \"\\00b7\"; padding: 0 .5ex}\n",
       "</style>\n",
       "<ol class=list-inline><li>'H3K27me3'</li><li>'H3K4me3'</li><li>'H3K27ac'</li><li>'ATAC'</li></ol>\n"
      ],
      "text/latex": [
       "\\begin{enumerate*}\n",
       "\\item 'H3K27me3'\n",
       "\\item 'H3K4me3'\n",
       "\\item 'H3K27ac'\n",
       "\\item 'ATAC'\n",
       "\\end{enumerate*}\n"
      ],
      "text/markdown": [
       "1. 'H3K27me3'\n",
       "2. 'H3K4me3'\n",
       "3. 'H3K27ac'\n",
       "4. 'ATAC'\n",
       "\n",
       "\n"
      ],
      "text/plain": [
       "[1] \"H3K27me3\" \"H3K4me3\"  \"H3K27ac\"  \"ATAC\"    "
      ]
     },
     "metadata": {},
     "output_type": "display_data"
    },
    {
     "data": {
      "image/png": "[encoded data removed]",
      "text/plain": [
       "plot without title"
      ]
     },
     "metadata": {
      "image/png": {
       "height": 420,
       "width": 420
      }
     },
     "output_type": "display_data"
    }
   ],
   "source": [
    "## 分析不同的CREs修饰对于基因表达的影响\n",
    "rm(list = ls())\n",
    "setwd('G:/TM-1_leaf_3D-genome/HiC/loop/loop_3k/CREs')\n",
    "library(ggplot2)\n",
    "library(ggpubr)\n",
    "compaired <- list(c(\"H3K27me3\", \"H3K4me3\"), c(\"H3K4me3\", \"H3K27ac\"), c(\"H3K27ac\", \"ATAC\"))\n",
    "df <- read.csv('CRE_regulated_gene_fpkm.txt', sep = '\\t', header = T)\n",
    "#df <- within(df, tags <- factor(tags, levels = c(\"atac_active\", \"atac_inactive\", \"active\", \"inactive\")))\n",
    "df <- within(df, tags <- factor(tags, levels = c(\"H3K27me3\", \"H3K4me3\", \"H3K27ac\", \"ATAC\")))\n",
    "with(df, levels(tags))\n",
    "#df\n",
    "fg <- ggplot(df, aes(x=log2(FPKM+0.01), y=tags, fill=tags))+\n",
    "geom_violin()+\n",
    "geom_boxplot(outlier.colour = NA, notch=FALSE, width=0.25, fill='white')+\n",
    "labs(x='log2(FPKM+0.01)', y=NULL)+\n",
    "#facet_grid(Bias~.)+\n",
    "#coord_cartesian(xlim = c(0, 10)) +\n",
    "theme(panel.background = element_blank(), \n",
    "     panel.grid = element_blank(),\n",
    "     axis.line=element_line(linetype=1,color=\"black\"),\n",
    "     legend.position='none',\n",
    "     axis.ticks.length = unit(0.25, 'cm'),\n",
    "     axis.text = element_text(color='black'),\n",
    "     #axis.text.x = element_text(angle = 315, hjust = 0)\n",
    "     )+\n",
    "geom_signif(comparisons = compaired, step_increase = 0.05,test =wilcox.test, tip_length=0.01, textsize = 2)+\n",
    "#scale_fill_manual(values=c('#F36D52','#FCC11D','#F5CBD9', \"#9FD9CD\"))+\n",
    "scale_fill_manual(values=c(\"#9FD9CD\", '#F5CBD9', '#FCC11D', '#F36D52'))\n",
    "fg\n",
    "ggsave(plot =fg, filename = 'CRE_regulated_gene_fpkm.pdf', height =2, width = 3)"
   ]
  }
 ],
 "metadata": {
  "kernelspec": {
   "display_name": "R",
   "language": "R",
   "name": "ir"
  },
  "language_info": {
   "codemirror_mode": "r",
   "file_extension": ".r",
   "mimetype": "text/x-r-source",
   "name": "R",
   "pygments_lexer": "r",
   "version": "4.1.2"
  },
  "orig_nbformat": 4
 },
 "nbformat": 4,
 "nbformat_minor": 2
}
