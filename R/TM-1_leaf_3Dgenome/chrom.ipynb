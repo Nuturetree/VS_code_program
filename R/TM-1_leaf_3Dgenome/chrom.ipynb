{
 "cells": [
  {
   "cell_type": "code",
   "execution_count": 9,
   "metadata": {},
   "outputs": [],
   "source": [
    "setwd(\"F:/TM-1_leaf_3D-genome/Ghir\")\n",
    "library(RIdeogram)\n",
    "library(readxl)\n",
    "chr_data <- read_xlsx(\"Ghir_chrom.xlsx\")\n",
    "gene_data <- read_xlsx(\"Ghir_1Mb_gene_density.xlsx\")\n",
    "ideogram(karyotype = chr_data, overlaid = gene_data, colorset1 = c(\"#60ece5\",  \"#f15107\" ))\n",
    "convertSVG(\"chromosome.svg\", device = \"png\")\n"
   ]
  }
 ],
 "metadata": {
  "kernelspec": {
   "display_name": "R",
   "language": "R",
   "name": "ir"
  },
  "language_info": {
   "codemirror_mode": "r",
   "file_extension": ".r",
   "mimetype": "text/x-r-source",
   "name": "R",
   "pygments_lexer": "r",
   "version": "4.1.1"
  },
  "orig_nbformat": 4
 },
 "nbformat": 4,
 "nbformat_minor": 2
}
