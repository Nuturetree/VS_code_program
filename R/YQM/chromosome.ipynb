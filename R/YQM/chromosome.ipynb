{
 "cells": [
  {
   "cell_type": "code",
   "execution_count": 6,
   "metadata": {
    "vscode": {
     "languageId": "r"
    }
   },
   "outputs": [
    {
     "name": "stderr",
     "output_type": "stream",
     "text": [
      "Warning message:\n",
      "\"Unknown or uninitialised column: `y8`.\"\n",
      "Warning message:\n",
      "\"Unknown or uninitialised column: `y7`.\"\n",
      "Warning message:\n",
      "\"Unknown or uninitialised column: `y3`.\"\n",
      "Warning message:\n",
      "\"Unknown or uninitialised column: `y4`.\"\n"
     ]
    }
   ],
   "source": [
    "setwd('G:/Billfish/杂事/YQM')\n",
    "require(RIdeogram)\n",
    "library(readxl)\n",
    "chr_data = read_xlsx('chrom_Gh_ZD.xlsx')\n",
    "#gene_data = read_xlsx('gene_density.xlsx')\n",
    "ab_data = read_xlsx('all_site.xlsx')\n",
    "ideogram(karyotype = chr_data, label = ab_data, label_type=\"marker\")\n",
    "convertSVG(\"chromosome.svg\", device = \"png\")"
   ]
  },
  {
   "cell_type": "code",
   "execution_count": 1,
   "metadata": {
    "vscode": {
     "languageId": "r"
    }
   },
   "outputs": [
    {
     "name": "stderr",
     "output_type": "stream",
     "text": [
      "Loading required package: RIdeogram\n",
      "\n",
      "Warning message:\n",
      "\"Unknown or uninitialised column: `y8`.\"\n",
      "Warning message:\n",
      "\"Unknown or uninitialised column: `y7`.\"\n",
      "Warning message:\n",
      "\"Unknown or uninitialised column: `y3`.\"\n",
      "Warning message:\n",
      "\"Unknown or uninitialised column: `y4`.\"\n"
     ]
    }
   ],
   "source": [
    "setwd('G:/Billfish/Trivia/yuanhang')\n",
    "require(RIdeogram)\n",
    "library(readxl)\n",
    "chr_data = read_xlsx('chrom_Gh_ZD.xlsx')\n",
    "#gene_data = read_xlsx('gene_density.xlsx')\n",
    "ab_data = read_xlsx('geneid.xlsx')\n",
    "ideogram(karyotype = chr_data, label = ab_data, label_type=\"marker\")\n",
    "convertSVG(\"chromosome.svg\", device = \"png\")"
   ]
  },
  {
   "cell_type": "code",
   "execution_count": 16,
   "metadata": {
    "vscode": {
     "languageId": "r"
    }
   },
   "outputs": [
    {
     "name": "stderr",
     "output_type": "stream",
     "text": [
      "Warning message:\n",
      "\"Unknown or uninitialised column: `y8`.\"\n",
      "Warning message:\n",
      "\"Unknown or uninitialised column: `y7`.\"\n",
      "Warning message:\n",
      "\"Unknown or uninitialised column: `y3`.\"\n",
      "Warning message:\n",
      "\"Unknown or uninitialised column: `y4`.\"\n"
     ]
    }
   ],
   "source": [
    "setwd('G:/Billfish/Trivia/zgyang')\n",
    "require(RIdeogram)\n",
    "library(readxl)\n",
    "chr_data = read_xlsx('chrom_Gh_NAU.xlsx')\n",
    "#gene_data = read_xlsx('gene_density.xlsx')\n",
    "ab_data = read_xlsx('SNP.xlsx')\n",
    "ideogram(karyotype = chr_data, label = ab_data, label_type=\"marker\")\n",
    "convertSVG(\"chromosome.svg\", device = \"png\")"
   ]
  }
 ],
 "metadata": {
  "kernelspec": {
   "display_name": "R",
   "language": "R",
   "name": "ir"
  },
  "language_info": {
   "codemirror_mode": "r",
   "file_extension": ".r",
   "mimetype": "text/x-r-source",
   "name": "R",
   "pygments_lexer": "r",
   "version": "4.2.2"
  },
  "orig_nbformat": 4,
  "vscode": {
   "interpreter": {
    "hash": "a0f669ea42a4dcea88d385f8f9b4c3d9b966e24234758831d1dbfdac925619a2"
   }
  }
 },
 "nbformat": 4,
 "nbformat_minor": 2
}
