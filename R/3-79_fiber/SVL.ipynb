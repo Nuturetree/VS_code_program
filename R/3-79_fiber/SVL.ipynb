{
 "cells": [
  {
   "cell_type": "code",
   "execution_count": 29,
   "metadata": {},
   "outputs": [
    {
     "data": {
      "text/html": [
       "<style>\n",
       ".list-inline {list-style: none; margin:0; padding: 0}\n",
       ".list-inline>li {display: inline-block}\n",
       ".list-inline>li:not(:last-child)::after {content: \"\\00b7\"; padding: 0 .5ex}\n",
       "</style>\n",
       "<ol class=list-inline><li>'0DPA'</li><li>'5DPA'</li><li>'10DPA'</li><li>'20DPA'</li></ol>\n"
      ],
      "text/latex": [
       "\\begin{enumerate*}\n",
       "\\item '0DPA'\n",
       "\\item '5DPA'\n",
       "\\item '10DPA'\n",
       "\\item '20DPA'\n",
       "\\end{enumerate*}\n"
      ],
      "text/markdown": [
       "1. '0DPA'\n",
       "2. '5DPA'\n",
       "3. '10DPA'\n",
       "4. '20DPA'\n",
       "\n",
       "\n"
      ],
      "text/plain": [
       "[1] \"0DPA\"  \"5DPA\"  \"10DPA\" \"20DPA\""
      ]
     },
     "metadata": {},
     "output_type": "display_data"
    },
    {
     "data": {
      "text/html": [
       "<table class=\"dataframe\">\n",
       "<caption>A data.frame: 6 × 6</caption>\n",
       "<thead>\n",
       "\t<tr><th></th><th scope=col>chr</th><th scope=col>contact</th><th scope=col>tags</th><th scope=col>days</th><th scope=col>position</th><th scope=col>sigs</th></tr>\n",
       "\t<tr><th></th><th scope=col>&lt;chr&gt;</th><th scope=col>&lt;dbl&gt;</th><th scope=col>&lt;chr&gt;</th><th scope=col>&lt;fct&gt;</th><th scope=col>&lt;chr&gt;</th><th scope=col>&lt;chr&gt;</th></tr>\n",
       "</thead>\n",
       "<tbody>\n",
       "\t<tr><th scope=row>1</th><td>Gbar_A01</td><td>8627794</td><td>short</td><td>0DPA</td><td>one</td><td>poor</td></tr>\n",
       "\t<tr><th scope=row>2</th><td>Gbar_A02</td><td>8430029</td><td>short</td><td>0DPA</td><td>one</td><td>poor</td></tr>\n",
       "\t<tr><th scope=row>3</th><td>Gbar_A03</td><td>5052239</td><td>short</td><td>0DPA</td><td>one</td><td>poor</td></tr>\n",
       "\t<tr><th scope=row>4</th><td>Gbar_A04</td><td>4081523</td><td>short</td><td>0DPA</td><td>one</td><td>poor</td></tr>\n",
       "\t<tr><th scope=row>5</th><td>Gbar_A05</td><td>6589322</td><td>short</td><td>0DPA</td><td>one</td><td>poor</td></tr>\n",
       "\t<tr><th scope=row>6</th><td>Gbar_A06</td><td>6747113</td><td>short</td><td>0DPA</td><td>one</td><td>poor</td></tr>\n",
       "</tbody>\n",
       "</table>\n"
      ],
      "text/latex": [
       "A data.frame: 6 × 6\n",
       "\\begin{tabular}{r|llllll}\n",
       "  & chr & contact & tags & days & position & sigs\\\\\n",
       "  & <chr> & <dbl> & <chr> & <fct> & <chr> & <chr>\\\\\n",
       "\\hline\n",
       "\t1 & Gbar\\_A01 & 8627794 & short & 0DPA & one & poor\\\\\n",
       "\t2 & Gbar\\_A02 & 8430029 & short & 0DPA & one & poor\\\\\n",
       "\t3 & Gbar\\_A03 & 5052239 & short & 0DPA & one & poor\\\\\n",
       "\t4 & Gbar\\_A04 & 4081523 & short & 0DPA & one & poor\\\\\n",
       "\t5 & Gbar\\_A05 & 6589322 & short & 0DPA & one & poor\\\\\n",
       "\t6 & Gbar\\_A06 & 6747113 & short & 0DPA & one & poor\\\\\n",
       "\\end{tabular}\n"
      ],
      "text/markdown": [
       "\n",
       "A data.frame: 6 × 6\n",
       "\n",
       "| <!--/--> | chr &lt;chr&gt; | contact &lt;dbl&gt; | tags &lt;chr&gt; | days &lt;fct&gt; | position &lt;chr&gt; | sigs &lt;chr&gt; |\n",
       "|---|---|---|---|---|---|---|\n",
       "| 1 | Gbar_A01 | 8627794 | short | 0DPA | one | poor |\n",
       "| 2 | Gbar_A02 | 8430029 | short | 0DPA | one | poor |\n",
       "| 3 | Gbar_A03 | 5052239 | short | 0DPA | one | poor |\n",
       "| 4 | Gbar_A04 | 4081523 | short | 0DPA | one | poor |\n",
       "| 5 | Gbar_A05 | 6589322 | short | 0DPA | one | poor |\n",
       "| 6 | Gbar_A06 | 6747113 | short | 0DPA | one | poor |\n",
       "\n"
      ],
      "text/plain": [
       "  chr      contact tags  days position sigs\n",
       "1 Gbar_A01 8627794 short 0DPA one      poor\n",
       "2 Gbar_A02 8430029 short 0DPA one      poor\n",
       "3 Gbar_A03 5052239 short 0DPA one      poor\n",
       "4 Gbar_A04 4081523 short 0DPA one      poor\n",
       "5 Gbar_A05 6589322 short 0DPA one      poor\n",
       "6 Gbar_A06 6747113 short 0DPA one      poor"
      ]
     },
     "metadata": {},
     "output_type": "display_data"
    },
    {
     "data": {
      "image/png": "[encoded data removed]",
      "text/plain": [
       "plot without title"
      ]
     },
     "metadata": {
      "image/png": {
       "height": 210,
       "width": 210
      }
     },
     "output_type": "display_data"
    }
   ],
   "source": [
    "## 分析rich region 和poor region的compartness \n",
    "options(repr.plot.width=3.5,repr.plot.height=3.5)\n",
    "rm(list = ls())\n",
    "setwd('F:/fiber/airticle/GB_modification/SVL')\n",
    "library(ggplot2)\n",
    "library(ggpubr)\n",
    "df <- read.csv('all_day_poor_rich_SVL_new.txt', sep = '\\t', header = T)\n",
    "df <- within(df, days <- factor(days, levels = c(\"0DPA\", \"5DPA\", \"10DPA\", \"20DPA\")))\n",
    "with(df, levels(days))\n",
    "head(df)\n",
    "tg <- list(c('short', 'long'))\n",
    "fg <- ggplot(df, aes(x=tags, y=log2(contact), fill=tags))+\n",
    "geom_violin()+\n",
    "geom_boxplot(outlier.colour = NA, notch=FALSE, width=0.2, color = 'white')+\n",
    "labs(x=NULL, y='log2(contacts)')+\n",
    "facet_grid(sigs~days, scales = \"free\")+\n",
    "coord_cartesian(ylim = c(10, 25)) +\n",
    "theme(panel.background = element_blank(), \n",
    "     panel.grid = element_blank(),\n",
    "     axis.line=element_line(linetype=1,color=\"black\"),\n",
    "     legend.position='none',\n",
    "     axis.ticks.length = unit(0.25, 'cm')\n",
    "     )+\n",
    "geom_signif(comparisons = tg, step_increase = 0.1,test =wilcox.test, tip_length=0.05, y_position=c(20), textsize = 2)+\n",
    "scale_fill_manual(values=c('#f2ab91', \"#98b2ba\"))\n",
    "fg\n",
    "ggsave(plot =fg, filename = '100k_subg_poor.pdf', height =4, width = 4,  dpi = 300)"
   ]
  },
  {
   "cell_type": "code",
   "execution_count": null,
   "metadata": {},
   "outputs": [],
   "source": []
  }
 ],
 "metadata": {
  "kernelspec": {
   "display_name": "R",
   "language": "R",
   "name": "ir"
  },
  "language_info": {
   "codemirror_mode": "r",
   "file_extension": ".r",
   "mimetype": "text/x-r-source",
   "name": "R",
   "pygments_lexer": "r",
   "version": "4.1.2"
  },
  "orig_nbformat": 4
 },
 "nbformat": 4,
 "nbformat_minor": 2
}
