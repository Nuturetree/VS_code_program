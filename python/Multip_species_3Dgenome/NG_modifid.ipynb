{
 "cells": [
  {
   "cell_type": "code",
   "execution_count": 3,
   "metadata": {},
   "outputs": [
    {
     "name": "stdout",
     "output_type": "stream",
     "text": [
      "    tags species   days  number\n",
      "0   Acpt     J85  12DPA   35979\n",
      "1   Acpt     J85  20DPA   35238\n",
      "2   Acpt     J85   4DPA   35355\n",
      "3   Acpt     J98  12DPA   36009\n",
      "4   Acpt     J98  20DPA   36157\n",
      "5   Acpt     J98   4DPA   35674\n",
      "6   Bcpt     J85  12DPA    5227\n",
      "7   Bcpt     J85  20DPA    6004\n",
      "8   Bcpt     J85   4DPA    5903\n",
      "9   Bcpt     J98  12DPA    5213\n",
      "10  Bcpt     J98  20DPA    5041\n",
      "11  Bcpt     J98   4DPA    5557\n"
     ]
    }
   ],
   "source": [
    "import pandas as pd\n",
    "df = pd.read_csv(\"F:/Multip_species_3Dgenome/Hi-C/TAD/cpt/J85_J98_ABcpt_gene.txt\", sep=\"\\t\")\n",
    "df['number'] = [1]*df.shape[0]\n",
    "df2 = df.groupby(['tags', 'species', 'days'], as_index=False)['number'].sum()\n",
    "print(df2)"
   ]
  },
  {
   "cell_type": "code",
   "execution_count": 4,
   "metadata": {},
   "outputs": [
    {
     "name": "stdout",
     "output_type": "stream",
     "text": [
      "        tags species   days  number\n",
      "0   boundary     J85  12DPA    2690\n",
      "1   boundary     J85  20DPA    2578\n",
      "2   boundary     J85   4DPA    2584\n",
      "3   boundary     J98  12DPA    2609\n",
      "4   boundary     J98  20DPA    2622\n",
      "5   boundary     J98   4DPA    2261\n",
      "6     center     J85  12DPA    1285\n",
      "7     center     J85  20DPA    1180\n",
      "8     center     J85   4DPA    1148\n",
      "9     center     J98  12DPA    1293\n",
      "10    center     J98  20DPA    1324\n",
      "11    center     J98   4DPA    1144\n"
     ]
    }
   ],
   "source": [
    "import pandas as pd\n",
    "df = pd.read_csv(\"F:\\Multip_species_3Dgenome/Hi-C/TAD/boundary_center/J85_J98_TAD_boundary_center_gene.txt\", sep=\"\\t\")\n",
    "df['number'] = [1]*df.shape[0]\n",
    "df2 = df.groupby(['tags', 'species', 'days'], as_index=False)['number'].sum()\n",
    "print(df2)"
   ]
  }
 ],
 "metadata": {
  "kernelspec": {
   "display_name": "Python 3.8.3 ('base')",
   "language": "python",
   "name": "python3"
  },
  "language_info": {
   "codemirror_mode": {
    "name": "ipython",
    "version": 3
   },
   "file_extension": ".py",
   "mimetype": "text/x-python",
   "name": "python",
   "nbconvert_exporter": "python",
   "pygments_lexer": "ipython3",
   "version": "3.8.3"
  },
  "orig_nbformat": 4,
  "vscode": {
   "interpreter": {
    "hash": "a0f669ea42a4dcea88d385f8f9b4c3d9b966e24234758831d1dbfdac925619a2"
   }
  }
 },
 "nbformat": 4,
 "nbformat_minor": 2
}
