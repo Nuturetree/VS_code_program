{
 "cells": [
  {
   "cell_type": "code",
   "execution_count": 8,
   "metadata": {},
   "outputs": [],
   "source": [
    "import pandas as pd\n",
    "df_cpt = pd.read_csv(\"F:/Multip_species_3Dgenome/J85_J98_cpt_uniq2.txt\", names=['GeneId'], sep=\"\\t\")\n",
    "df_4DPA = pd.read_csv(\"F:/Multip_species_3Dgenome/4DPA_diff_exp_gene.txt\", names=['GeneId', 'J85', 'J98'], sep=\"\\t\")\n",
    "df_12DPA = pd.read_csv(\"F:/Multip_species_3Dgenome/12DPA_diff_exp_gene.txt\", names=['GeneId', 'J85', 'J98'], sep=\"\\t\")\n",
    "df_20DPA = pd.read_csv(\"F:/Multip_species_3Dgenome/20DPA_diff_exp_gene.txt\", names=['GeneId', 'J85', 'J98'], sep=\"\\t\")\n",
    "\n",
    "df_4DPA_cpt = pd.merge(df_cpt, df_4DPA, how='inner', on=['GeneId'])\n",
    "df_12DPA_cpt = pd.merge(df_cpt, df_12DPA, how='inner', on=['GeneId'])\n",
    "df_20DPA_cpt = pd.merge(df_cpt, df_20DPA, how='inner', on=['GeneId'])\n",
    "\n",
    "df_4DPA_cpt.to_csv(\"df_4DPA_cpt.txt\", sep='\\t', index=False)\n",
    "df_12DPA_cpt.to_csv(\"df_12DPA_cpt.txt\", sep='\\t', index=False)\n",
    "df_20DPA_cpt.to_csv(\"df_20DPA_cpt.txt\", sep='\\t', index=False)\n",
    "\n"
   ]
  },
  {
   "cell_type": "code",
   "execution_count": 9,
   "metadata": {},
   "outputs": [],
   "source": [
    "import pandas as pd\n",
    "df_cpt = pd.read_csv(\"F:/Multip_species_3Dgenome/J85_J98_TAD_uniq2.txt\", names=['GeneId'], sep=\"\\t\")\n",
    "df_4DPA = pd.read_csv(\"F:/Multip_species_3Dgenome/4DPA_diff_exp_gene.txt\", names=['GeneId', 'J85', 'J98'], sep=\"\\t\")\n",
    "df_12DPA = pd.read_csv(\"F:/Multip_species_3Dgenome/12DPA_diff_exp_gene.txt\", names=['GeneId', 'J85', 'J98'], sep=\"\\t\")\n",
    "df_20DPA = pd.read_csv(\"F:/Multip_species_3Dgenome/20DPA_diff_exp_gene.txt\", names=['GeneId', 'J85', 'J98'], sep=\"\\t\")\n",
    "\n",
    "df_4DPA_cpt = pd.merge(df_cpt, df_4DPA, how='inner', on=['GeneId'])\n",
    "df_12DPA_cpt = pd.merge(df_cpt, df_12DPA, how='inner', on=['GeneId'])\n",
    "df_20DPA_cpt = pd.merge(df_cpt, df_20DPA, how='inner', on=['GeneId'])\n",
    "\n",
    "df_4DPA_cpt.to_csv(\"df_4DPA_tad.txt\", sep='\\t', index=False)\n",
    "df_12DPA_cpt.to_csv(\"df_12DPA_tad.txt\", sep='\\t', index=False)\n",
    "df_20DPA_cpt.to_csv(\"df_20DPA_tad.txt\", sep='\\t', index=False)"
   ]
  },
  {
   "cell_type": "code",
   "execution_count": 10,
   "metadata": {},
   "outputs": [],
   "source": [
    "import pandas as pd\n",
    "df_cpt = pd.read_csv(\"F:/Multip_species_3Dgenome/J85_J98_loop_uniq.txt\", names=['GeneId'], sep=\"\\t\")\n",
    "df_4DPA = pd.read_csv(\"F:/Multip_species_3Dgenome/4DPA_diff_exp_gene.txt\", names=['GeneId', 'J85', 'J98'], sep=\"\\t\")\n",
    "df_12DPA = pd.read_csv(\"F:/Multip_species_3Dgenome/12DPA_diff_exp_gene.txt\", names=['GeneId', 'J85', 'J98'], sep=\"\\t\")\n",
    "df_20DPA = pd.read_csv(\"F:/Multip_species_3Dgenome/20DPA_diff_exp_gene.txt\", names=['GeneId', 'J85', 'J98'], sep=\"\\t\")\n",
    "\n",
    "df_4DPA_cpt = pd.merge(df_cpt, df_4DPA, how='inner', on=['GeneId'])\n",
    "df_12DPA_cpt = pd.merge(df_cpt, df_12DPA, how='inner', on=['GeneId'])\n",
    "df_20DPA_cpt = pd.merge(df_cpt, df_20DPA, how='inner', on=['GeneId'])\n",
    "\n",
    "df_4DPA_cpt.to_csv(\"df_4DPA_loop.txt\", sep='\\t', index=False)\n",
    "df_12DPA_cpt.to_csv(\"df_12DPA_loop.txt\", sep='\\t', index=False)\n",
    "df_20DPA_cpt.to_csv(\"df_20DPA_loop.txt\", sep='\\t', index=False)"
   ]
  },
  {
   "cell_type": "code",
   "execution_count": 1,
   "metadata": {},
   "outputs": [
    {
     "data": {
      "text/plain": [
       "'1.4.0'"
      ]
     },
     "execution_count": 1,
     "metadata": {},
     "output_type": "execute_result"
    }
   ],
   "source": [
    "import torch\n",
    "torch.__version__"
   ]
  }
 ],
 "metadata": {
  "kernelspec": {
   "display_name": "Python 3.8.3 ('base')",
   "language": "python",
   "name": "python3"
  },
  "language_info": {
   "codemirror_mode": {
    "name": "ipython",
    "version": 3
   },
   "file_extension": ".py",
   "mimetype": "text/x-python",
   "name": "python",
   "nbconvert_exporter": "python",
   "pygments_lexer": "ipython3",
   "version": "3.8.3"
  },
  "orig_nbformat": 4,
  "vscode": {
   "interpreter": {
    "hash": "a0f669ea42a4dcea88d385f8f9b4c3d9b966e24234758831d1dbfdac925619a2"
   }
  }
 },
 "nbformat": 4,
 "nbformat_minor": 2
}
