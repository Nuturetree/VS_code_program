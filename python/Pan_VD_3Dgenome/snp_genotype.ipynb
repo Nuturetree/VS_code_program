{
 "cells": [
  {
   "cell_type": "code",
   "execution_count": 23,
   "metadata": {},
   "outputs": [
    {
     "name": "stdout",
     "output_type": "stream",
     "text": [
      "               CHROM    POS ID REF ALT 1_16_1_PE400 1_16_3_PE400 1_16_5_PE400  \\\n",
      "0  tig00000314_pilon  31129  .   G   A          0/0          0/0          0/0   \n",
      "1  tig00000314_pilon  31352  .   T   C          0/0          0/0          0/0   \n",
      "2  tig00000314_pilon  31425  .   A   G          0/0          0/0          0/0   \n",
      "3  tig00000314_pilon  31504  .   C   T          0/0          0/0          0/0   \n",
      "4  tig00000314_pilon  31568  .   A   G          0/0          0/0          0/0   \n",
      "5  tig00000314_pilon  31714  .   G   A          0/0          0/0          0/0   \n",
      "6  tig00000314_pilon  31750  .   C   T          0/0          0/0          0/0   \n",
      "7  tig00000315_pilon  20001  .   G   A          0/0          0/0          0/0   \n",
      "8  tig00000315_pilon  20002  .   C   T          0/0          0/0          0/0   \n",
      "\n",
      "  13_1a_PE400 13_1d_PE400  ... 8_d1_PE400 8_d2_PE400 8_e1_PE400 8_e2_PE400  \\\n",
      "0         0/0         0/0  ...        0/0        0/0        0/0        0/0   \n",
      "1         0/0         0/0  ...        0/0        0/0        0/0        0/0   \n",
      "2         0/0         0/0  ...        0/0        0/0        0/0        0/0   \n",
      "3         0/0         0/0  ...        0/0        0/0        0/0        0/0   \n",
      "4         0/0         0/0  ...        0/0        0/0        0/0        0/0   \n",
      "5         0/0         0/0  ...        0/0        0/0        0/0        0/0   \n",
      "6         0/0         0/0  ...        0/0        0/0        0/0        0/0   \n",
      "7         0/0         0/0  ...        0/0        0/0        0/0        0/0   \n",
      "8         0/0         0/0  ...        0/0        0/0        0/0        0/0   \n",
      "\n",
      "  HN_1_PE400 HN_3_PE400 HN_4_PE400 HN_6_PE400 HN_7_PE400 V9_PE400  \n",
      "0        0/0        0/0        0/0        0/0        0/0      0/0  \n",
      "1        0/0        0/0        0/0        0/0        0/0      0/0  \n",
      "2        0/0        0/0        0/0        0/0        0/0      0/0  \n",
      "3        0/0        0/0        0/0        0/0        0/0      0/0  \n",
      "4        0/0        0/0        0/0        0/0        0/0      0/0  \n",
      "5        0/0        0/0        0/0        0/0        0/0      0/0  \n",
      "6        0/0        0/0        0/0        0/0        0/0      0/0  \n",
      "7        0/0        0/0        0/0        0/0        0/0      0/0  \n",
      "8        0/0        0/0        0/0        0/0        0/0      0/0  \n",
      "\n",
      "[9 rows x 141 columns]\n"
     ]
    }
   ],
   "source": [
    "import pandas as pd\n",
    "df = pd.read_csv('test.txt', sep='\\t')\n",
    "df_sample = df.iloc[:, 9:].copy()\n",
    "df_result = df[['CHROM', 'POS', 'ID', 'REF', 'ALT']].copy()\n",
    "ncol = df_sample.shape[1]\n",
    "for i in range(ncol):\n",
    "    genometype = df_sample.iloc[:,i].str.split(\":\", 1).str[0]\n",
    "    df_result.loc[:,df_sample.iloc[:,i].name] = genometype\n",
    "print(df_result)\n"
   ]
  }
 ],
 "metadata": {
  "interpreter": {
   "hash": "68d7e64a8ef1e11c6d28b945075670502b4996810cedadb5f7222a36b8861f26"
  },
  "kernelspec": {
   "display_name": "Python 3.8.3 64-bit ('base': conda)",
   "language": "python",
   "name": "python3"
  },
  "language_info": {
   "codemirror_mode": {
    "name": "ipython",
    "version": 3
   },
   "file_extension": ".py",
   "mimetype": "text/x-python",
   "name": "python",
   "nbconvert_exporter": "python",
   "pygments_lexer": "ipython3",
   "version": "3.8.3"
  },
  "orig_nbformat": 4
 },
 "nbformat": 4,
 "nbformat_minor": 2
}
