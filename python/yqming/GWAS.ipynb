{
 "cells": [
  {
   "cell_type": "code",
   "execution_count": 39,
   "metadata": {},
   "outputs": [],
   "source": [
    "## 分析筛选GWAS 位点\n",
    "import pandas as pd\n",
    "import numpy as np\n",
    "## 筛选过阈值点的, 并且确定对应区间\n",
    "def top_point_region(df, size):\n",
    "    df_true_point = df.query(\"p_score<=0.000001\")[['chr', 'ps']].copy()\n",
    "    df_true_point['start'] = df_true_point['ps'] - size\n",
    "    df_true_point['end'] = df_true_point['ps'] + size\n",
    "    #print(df_true_point)\n",
    "    return df_true_point\n",
    "## 确定区间范围所包含的snp 位点\n",
    "def region_snp(df, c, s, e):\n",
    "    #print(c, s, e)\n",
    "    df = df.query(\"chr==@c & ps>= @s & ps<=@e\").copy()\n",
    "    #print(df)\n",
    "    return df\n",
    "## 判断位点是否连续\n",
    "def if_continus(df):\n",
    "    df['log10p'] = df['p_score'].apply(np.log10)\n",
    "    df['log10p_negative'] = -df['log10p']\n",
    "    #print(df.head())\n",
    "    n = 0 \n",
    "    for i in np.arange(0, 6, 0.6):\n",
    "        a, b = i, i+0.5\n",
    "        df_tmp = df.query(\"log10p_negative>=@a & log10p_negative<=@b\").copy()\n",
    "        if df_tmp.shape[0]>0:\n",
    "            n += 1\n",
    "    #print(n)\n",
    "    if n >= 8:\n",
    "        df['tags'] = ['continue']*df.shape[0]\n",
    "    else:\n",
    "        df['tags'] = ['No_continue']*df.shape[0]\n",
    "    return df\n",
    "\n",
    "## 根据对应区间筛选对应snp位点\n",
    "def all_region_snp(df_ps, df_snp):\n",
    "    df_return = pd.DataFrame()\n",
    "    k = 0\n",
    "    for index, row in df_ps.iterrows():\n",
    "        ps_n = \"ps_{}\".format(k)\n",
    "        c, s, e = row['chr'], row['start'], row['end']\n",
    "        df_tmp = region_snp(df_snp, c, s, e) # 选择区间\n",
    "        df_tmp = if_continus(df_tmp) # 确定区间是否连续，打上标签\n",
    "        df_tmp['ps_n'] = [ps_n]*df_tmp.shape[0] # 打上位置标签\n",
    "        df_return = pd.concat([df_return, df_tmp], axis=0) # \n",
    "        k = k+1\n",
    "        #print(df_tmp)\n",
    "    return df_return\n",
    "\n",
    "# ## 分析确定有哪些snp位点是可用的, D3\n",
    "df_result = pd.DataFrame()\n",
    "for i in range(1, 102):\n",
    "    input_f = \"G:/Billfish/VS_code_program/python/yqming/test_data/D3_output/gemma_{}.assoc.txt\".format(i)\n",
    "    df = pd.read_csv(input_f, sep=\"\\t\")\n",
    "    df_top_snp = top_point_region(df, 200000) ## 确定顶点区域\n",
    "    df_choose_snp_region = all_region_snp(df_top_snp, df) # 选择连续的区间\n",
    "    df_choose_snp_region['t_tags'] = [\"gemma_{}\".format(i)]*df_choose_snp_region.shape[0]\n",
    "    df_result = pd.concat([df_result, df_choose_snp_region], axis=0)\n",
    "df_result.to_csv(\"G:/Billfish/VS_code_program/python/yqming/test_data/D3_output/D3_SNP_result.bed\", sep=\"\\t\", index=False)\n",
    "\n",
    "## 分析确定有哪些snp位点是可用的, D12\n",
    "# df_result = pd.DataFrame()\n",
    "# for i in range(1, 102):\n",
    "#     input_f = \"G:/Billfish/VS_code_program/python/yqming/test_data/D12_output/gemma_{}.assoc.txt\".format(i)\n",
    "#     df = pd.read_csv(input_f, sep=\"\\t\")\n",
    "#     df_top_snp = top_point_region(df, 200000) ## 确定顶点区域\n",
    "#     df_choose_snp_region = all_region_snp(df_top_snp, df) # 选择连续的区间\n",
    "#     df_choose_snp_region['t_tags'] = [\"gemma_{}\".format(i)]*df_choose_snp_region.shape[0]\n",
    "#     df_result = pd.concat([df_result, df_choose_snp_region], axis=0)\n",
    "# df_result.to_csv(\"G:/Billfish/VS_code_program/python/yqming/test_data/D12_output/D12_SNP_result.bed\", sep=\"\\t\", index=False)\n"
   ]
  },
  {
   "cell_type": "code",
   "execution_count": 41,
   "metadata": {},
   "outputs": [
    {
     "name": "stdout",
     "output_type": "stream",
     "text": [
      "       ps_n      tags  number\n",
      "0      ps_0  continue       1\n",
      "1      ps_1  continue       1\n",
      "2     ps_10  continue       1\n",
      "3    ps_100  continue       1\n",
      "4    ps_101  continue       1\n",
      "..      ...       ...     ...\n",
      "843   ps_95  continue       1\n",
      "844   ps_96  continue       1\n",
      "845   ps_97  continue       1\n",
      "846   ps_98  continue       1\n",
      "847   ps_99  continue       1\n",
      "\n",
      "[848 rows x 3 columns]\n"
     ]
    }
   ],
   "source": [
    "df = pd.read_csv(\"G:/Billfish/VS_code_program/python/yqming/test_data/D12_output/D12_SNP_result.bed\", sep=\"\\t\")\n",
    "df_choose = df.query(\"tags=='continue'\").copy()\n",
    "df_choose.to_csv(\"G:/Billfish/VS_code_program/python/yqming/test_data/D12_output/D12_SNP_result_continue.bed\", sep=\"\\t\")\n",
    "df_choose['number'] = [1]*df_choose.shape[0]\n",
    "df_choose.drop_duplicates(keep='first', subset=['ps_n', 'tags'], inplace=True)\n",
    "df_sta = df_choose.groupby(by=['ps_n', 'tags'], as_index=False)['number'].sum()\n",
    "print(df_sta)"
   ]
  },
  {
   "cell_type": "code",
   "execution_count": 43,
   "metadata": {},
   "outputs": [],
   "source": [
    "## 去除重复信息\n",
    "import pandas as pd\n",
    "df = pd.read_csv(\"G:/Billfish/VS_code_program/python/yqming/test_data/D3_output/D3_SNP_result_continue.bed\", sep=\"\\t\")\n",
    "df.drop_duplicates(keep='first', subset=['chr','rs', 'ps'], inplace=True)\n",
    "df.to_csv(\"G:/Billfish/VS_code_program/python/yqming/test_data/D3_output/D3_SNP_result_continue_norepeat.bed\", sep=\"\\t\", index=False)"
   ]
  },
  {
   "cell_type": "code",
   "execution_count": null,
   "metadata": {},
   "outputs": [],
   "source": []
  }
 ],
 "metadata": {
  "kernelspec": {
   "display_name": "Python 3.8.3 ('base')",
   "language": "python",
   "name": "python3"
  },
  "language_info": {
   "codemirror_mode": {
    "name": "ipython",
    "version": 3
   },
   "file_extension": ".py",
   "mimetype": "text/x-python",
   "name": "python",
   "nbconvert_exporter": "python",
   "pygments_lexer": "ipython3",
   "version": "3.8.3"
  },
  "orig_nbformat": 4,
  "vscode": {
   "interpreter": {
    "hash": "a0f669ea42a4dcea88d385f8f9b4c3d9b966e24234758831d1dbfdac925619a2"
   }
  }
 },
 "nbformat": 4,
 "nbformat_minor": 2
}
