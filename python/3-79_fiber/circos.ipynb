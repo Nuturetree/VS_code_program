{
 "cells": [
  {
   "cell_type": "code",
   "execution_count": 6,
   "metadata": {},
   "outputs": [],
   "source": [
    "### 构建A/B compartment tracks\n",
    "import pandas as pd\n",
    "for d in ['0day', '5day', '10day', '20day']:\n",
    "    inpf = \"F:/fiber/compartment/hicexplorer/iced/script/pca1_40k_{0}_new2.bedgraph\".format(d)\n",
    "    A_outf = \"F:/fiber/airticle/GB_modification/circos/data/{0}_Acompartment.txt\".format(d)\n",
    "    B_outf = \"F:/fiber/airticle/GB_modification/circos/data/{0}_Bcompartment.txt\".format(d)\n",
    "    df = pd.read_csv(inpf, sep='\\t', names= ['c', 's', 'e', 'pca', 'tags'])\n",
    "    df_a = df.query(\"pca>0\").copy()\n",
    "    df_b = df.query(\"pca<0\").copy()\n",
    "    df_a.to_csv(A_outf, sep='\\t', index=False, columns=['c', 's', 'e', 'pca'], header=False)\n",
    "    df_b.to_csv(B_outf, sep='\\t', index=False, columns=['c', 's', 'e', 'pca'], header=False)"
   ]
  },
  {
   "cell_type": "code",
   "execution_count": 2,
   "metadata": {},
   "outputs": [],
   "source": [
    "### 构建同源基因对的track\n",
    "import pandas as pd\n",
    "df = pd.read_csv('F:/programe_python/homo_gene_two_fpkm.gff3', sep='\\t')\n",
    "chrs = ['Gbar_A01', 'Gbar_A02', 'Gbar_A03', 'Gbar_A04', 'Gbar_A05', 'Gbar_A06', 'Gbar_A07', 'Gbar_A08', 'Gbar_A09', 'Gbar_A10', 'Gbar_A11', 'Gbar_A12', 'Gbar_A13','Gbar_D01', 'Gbar_D02', 'Gbar_D03', 'Gbar_D04', 'Gbar_D05', 'Gbar_D06', 'Gbar_D07', 'Gbar_D08', 'Gbar_D09', 'Gbar_D10', 'Gbar_D11', 'Gbar_D12', 'Gbar_D13']\n",
    "for c in chrs:\n",
    "    df_chr = df.query(\"chr_name_at == @c\").copy()\n",
    "    out_f = \"F:/fiber/airticle/GB_modification/circos/data/{0}.txt\".format(c)\n",
    "    df_chr.to_csv(out_f, sep=\"\\t\", index=False, header=False, columns = ['chr_name_at', 'start_at', 'end_at', 'chr_name_dt', 'start_dt', 'end_dt'])\n"
   ]
  }
 ],
 "metadata": {
  "interpreter": {
   "hash": "68d7e64a8ef1e11c6d28b945075670502b4996810cedadb5f7222a36b8861f26"
  },
  "kernelspec": {
   "display_name": "Python 3.8.3 64-bit ('base': conda)",
   "language": "python",
   "name": "python3"
  },
  "language_info": {
   "codemirror_mode": {
    "name": "ipython",
    "version": 3
   },
   "file_extension": ".py",
   "mimetype": "text/x-python",
   "name": "python",
   "nbconvert_exporter": "python",
   "pygments_lexer": "ipython3",
   "version": "3.8.3"
  },
  "orig_nbformat": 4
 },
 "nbformat": 4,
 "nbformat_minor": 2
}
