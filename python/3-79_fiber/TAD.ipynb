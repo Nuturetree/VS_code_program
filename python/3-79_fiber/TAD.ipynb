{
 "cells": [
  {
   "cell_type": "code",
   "execution_count": 13,
   "metadata": {},
   "outputs": [],
   "source": [
    "# expand TAD boundary to TAD boundary region\n",
    "import pandas as pd\n",
    "df = pd.read_csv(\n",
    "    'F:/fiber/airticle/GB_modification/dynamic_3Dgenome_gene/all_uniq_tadboundary.txt', sep='\\t')\n",
    "df['start'] = df['boundary'] - 80000\n",
    "df['end'] = df['boundary'] + 80000\n",
    "df.to_csv(\"F:/fiber/airticle/GB_modification/dynamic_3Dgenome_gene/all_uniq_tadboundary_160K.txt\",\n",
    "          sep='\\t', columns=['chr', 'start', 'end'], header=False, index=False)\n"
   ]
  },
  {
   "cell_type": "code",
   "execution_count": 7,
   "metadata": {},
   "outputs": [],
   "source": [
    "# all non-redundant differentially expressed genes between adjacent periods\n",
    "df = pd.read_csv(\n",
    "    'F:/fiber/RNA_seq/1_1/diff_gene/all_diff_exp_gene_up_down.txt', sep='\\t')\n",
    "df.drop_duplicates(keep='first', subset=['GeneId'], inplace=True)\n",
    "df.to_csv('F:/fiber/RNA_seq/1_1/diff_gene/all_uniq_diff_exp_gene_up_down.txt',\n",
    "          sep='\\t', columns=['GeneId'], index=False)\n"
   ]
  },
  {
   "cell_type": "code",
   "execution_count": 15,
   "metadata": {},
   "outputs": [
    {
     "name": "stdout",
     "output_type": "stream",
     "text": [
      "               GeneId\n",
      "0     Gbar_A01G000680\n",
      "1     Gbar_A01G000690\n",
      "2     Gbar_A01G001950\n",
      "3     Gbar_A01G002030\n",
      "4     Gbar_A01G002040\n",
      "...               ...\n",
      "3412  Gbar_D13G024660\n",
      "3413  Gbar_D13G024780\n",
      "3414  Gbar_D13G024790\n",
      "3415  Gbar_D13G024810\n",
      "3416  Gbar_D13G024840\n",
      "\n",
      "[3417 rows x 1 columns]\n"
     ]
    }
   ],
   "source": [
    "## The differentialyy expressed genes located in temporal dynamice TAD boundary\n",
    "#df_boundary_gene = pd.read_csv('F:/fiber/airticle/GB_modification/dynamic_3Dgenome_gene/all_uniq_bounday_gene.txt', sep='\\t')\n",
    "df_boundary_gene = pd.read_csv('F:/fiber/airticle/GB_modification/dynamic_3Dgenome_gene/all_uniq_bounday_gene_160K.txt', sep='\\t')\n",
    "df_diff_gene = pd.read_csv(\"F:/fiber/airticle/GB_modification/dynamic_3Dgenome_gene/all_uniq_diff_exp_gene_up_down.txt\", sep='\\t')\n",
    "df_difftad_diffgene = pd.merge(df_boundary_gene, df_diff_gene, how='inner', on=['GeneId'])\n",
    "df_difftad_diffgene.to_csv(\"F:/fiber/airticle/GB_modification/dynamic_3Dgenome_gene/all_3Ddiff_expdiff_gene_160K.txt\", sep='\\t', index=False, header=False)\n",
    "print(df_difftad_diffgene)"
   ]
  },
  {
   "cell_type": "code",
   "execution_count": 16,
   "metadata": {},
   "outputs": [
    {
     "name": "stdout",
     "output_type": "stream",
     "text": [
      "8548.967778737382\n"
     ]
    }
   ],
   "source": []
  }
 ],
 "metadata": {
  "interpreter": {
   "hash": "68d7e64a8ef1e11c6d28b945075670502b4996810cedadb5f7222a36b8861f26"
  },
  "kernelspec": {
   "display_name": "Python 3.8.3 64-bit ('base': conda)",
   "language": "python",
   "name": "python3"
  },
  "language_info": {
   "codemirror_mode": {
    "name": "ipython",
    "version": 3
   },
   "file_extension": ".py",
   "mimetype": "text/x-python",
   "name": "python",
   "nbconvert_exporter": "python",
   "pygments_lexer": "ipython3",
   "version": "3.8.3"
  },
  "orig_nbformat": 4
 },
 "nbformat": 4,
 "nbformat_minor": 2
}
