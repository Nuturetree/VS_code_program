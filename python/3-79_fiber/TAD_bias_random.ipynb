{
 "cells": [
  {
   "cell_type": "code",
   "execution_count": 1,
   "metadata": {},
   "outputs": [
    {
     "name": "stdout",
     "output_type": "stream",
     "text": [
      "6970\n",
      "6552\n",
      "6700\n",
      "5960\n"
     ]
    }
   ],
   "source": [
    "### 分析各个bias的基因由TAD 边界引起的或者是随机引起的数目\n",
    "import pandas as pd\n",
    "df = pd.read_csv(\"F:/fiber/RNA_seq/fpkm_bias/005_2/at_boundary_dt_inter.txt\", sep='\\t')\n",
    "for d in [\"0DPA\", '5DPA', '10DPA', '20DPA']:\n",
    "    df_day = df.query(\"days == @d\")\n",
    "    print(df_day.shape[0])"
   ]
  }
 ],
 "metadata": {
  "interpreter": {
   "hash": "68d7e64a8ef1e11c6d28b945075670502b4996810cedadb5f7222a36b8861f26"
  },
  "kernelspec": {
   "display_name": "Python 3.8.3 64-bit ('base': conda)",
   "language": "python",
   "name": "python3"
  },
  "language_info": {
   "codemirror_mode": {
    "name": "ipython",
    "version": 3
   },
   "file_extension": ".py",
   "mimetype": "text/x-python",
   "name": "python",
   "nbconvert_exporter": "python",
   "pygments_lexer": "ipython3",
   "version": "3.8.3"
  },
  "orig_nbformat": 4
 },
 "nbformat": 4,
 "nbformat_minor": 2
}
