{
 "cells": [
  {
   "cell_type": "code",
   "execution_count": 2,
   "metadata": {},
   "outputs": [],
   "source": [
    "### 统计富集区和贫瘠区的互作衰减系数（ide）\n",
    "import pandas as pd\n",
    "chrs = ['Gbar_A01', 'Gbar_A02', 'Gbar_A03', 'Gbar_A04', 'Gbar_A05', 'Gbar_A06', 'Gbar_A07', 'Gbar_A08', 'Gbar_A09', 'Gbar_A10', 'Gbar_A11', 'Gbar_A12', 'Gbar_A13','Gbar_D01', 'Gbar_D02', 'Gbar_D03', 'Gbar_D04', 'Gbar_D05', 'Gbar_D06', 'Gbar_D07', 'Gbar_D08', 'Gbar_D09', 'Gbar_D10', 'Gbar_D11', 'Gbar_D12', 'Gbar_D13']\n",
    "df_one = pd.DataFrame()\n",
    "df_two = pd.DataFrame()\n",
    "for d in ['0DPA', '5DPA', '10DPA', '20DPA']:\n",
    "    df_poor = pd.DataFrame()\n",
    "    df_rich = pd.DataFrame()\n",
    "    for i in ['poor', 'rich']:\n",
    "        for c in chrs:\n",
    "            for j in ['one', 'two']:\n",
    "                df = pd.read_csv(\"./IDE/{0}/{1}_{2}_{3}_IDE.txt\".format(d, c, i, j), sep='\\t')\n",
    "                df.rename({'ide':c+\"_\"+j}, inplace=True, axis=1)\n",
    "                if i == 'poor':\n",
    "                    if df_poor.shape[0] == 0:\n",
    "                        df_poor = df.copy()\n",
    "                    else:\n",
    "                        df_poor = pd.merge(df_poor, df, how='inner', on=['bins'])\n",
    "                else:\n",
    "                    if df_rich.shape[0] == 0:\n",
    "                        df_rich = df.copy()\n",
    "                    else:\n",
    "                        df_rich = pd.merge(df_rich, df, how='inner', on=['bins'])\n",
    "    df_poor['days'] = [d]*df_poor.shape[0]\n",
    "    df_rich['days'] = [d]*df_rich.shape[0]\n",
    "    df_one = df_one.append(df_poor, ignore_index=True)\n",
    "    df_two = df_two.append(df_rich, ignore_index=True)\n",
    "df_one.to_csv(\"Poor_region_ide.txt\", sep='\\t', index=False)\n",
    "df_two.to_csv(\"Rich_region_ide.txt\", sep='\\t', index=False)"
   ]
  },
  {
   "cell_type": "code",
   "execution_count": 8,
   "metadata": {},
   "outputs": [],
   "source": [
    "## 将所有的IDE互作除以每个时期的总reads数目\n",
    "#df = pd.read_csv('F:/fiber/airticle/GB_modification/IDE/Poor_region_ide.txt', sep='\\t')\n",
    "df = pd.read_csv('F:/fiber/airticle/GB_modification/IDE/Rich_region_ide.txt', sep='\\t')\n",
    "for index, row in df.iterrows():\n",
    "    D = row['days']\n",
    "    values = row['average']\n",
    "    if D == '0DPA':\n",
    "        ide = values/648412213\n",
    "    elif D == '5DPA':\n",
    "        ide = values/653616636\n",
    "    elif D == '10DPA':\n",
    "        ide = values/645884731\n",
    "    else:\n",
    "        ide = values/650657033\n",
    "    df.loc[index, 'ide'] = ide\n",
    "#df.to_csv('F:/fiber/airticle/GB_modification/IDE/Poor_region_ide_adjust.txt', sep='\\t', index=False)\n",
    "df.to_csv('F:/fiber/airticle/GB_modification/IDE/Rich_region_ide_adjust.txt', sep='\\t', index=False)\n"
   ]
  }
 ],
 "metadata": {
  "interpreter": {
   "hash": "68d7e64a8ef1e11c6d28b945075670502b4996810cedadb5f7222a36b8861f26"
  },
  "kernelspec": {
   "display_name": "Python 3.8.3 64-bit ('base': conda)",
   "language": "python",
   "name": "python3"
  },
  "language_info": {
   "codemirror_mode": {
    "name": "ipython",
    "version": 3
   },
   "file_extension": ".py",
   "mimetype": "text/x-python",
   "name": "python",
   "nbconvert_exporter": "python",
   "pygments_lexer": "ipython3",
   "version": "3.8.3"
  },
  "orig_nbformat": 4
 },
 "nbformat": 4,
 "nbformat_minor": 2
}
