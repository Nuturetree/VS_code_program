{
 "cells": [
  {
   "cell_type": "code",
   "execution_count": 8,
   "metadata": {},
   "outputs": [],
   "source": [
    "## statistic the genes included in the dynamic loop anchors\n",
    "import pandas as pd\n",
    "df = pd.read_csv('F:/fiber/loop/fithic/pass2/0005_10-05_3/loop_gene/DPA_loop_contain_genes.txt', sep='\\t')\n",
    "df_0_5DPA = df.query(\"days == '0 DPA' | days == '5 DPA'\")\n",
    "df_5_10DPA = df.query(\"days == '5 DPA' | days == '10 DPA'\")\n",
    "df_10_20DPA = df.query(\"days == '10 DPA' | days == '20 DPA'\")\n",
    "## the genes \n",
    "df_0_5DPA_dynamic_genes = df_0_5DPA.drop_duplicates(keep=False, subset=['chr_name_s', 'start_s', 'end_s', 'chr_name_e', 'start_e', 'end_e'])[['GeneId_s', 'GeneId_e']].to_numpy()\n",
    "df_5_10DPA_dynamic_genes = df_5_10DPA.drop_duplicates(keep=False, subset=['chr_name_s', 'start_s', 'end_s', 'chr_name_e', 'start_e', 'end_e'])[['GeneId_s', 'GeneId_e']].to_numpy()\n",
    "df_10_20DPA_dynamic_genes = df_10_20DPA.drop_duplicates(keep=False, subset=['chr_name_s', 'start_s', 'end_s', 'chr_name_e', 'start_e', 'end_e'])[['GeneId_s', 'GeneId_e']].to_numpy()\n",
    "## trans format\n",
    "df_0_5DPA_genes = pd.DataFrame(df_0_5DPA_dynamic_genes.reshape(-1,1), columns=['GeneId']).drop_duplicates(keep='first')\n",
    "df_5_10DPA_genes = pd.DataFrame(df_5_10DPA_dynamic_genes.reshape(-1,1), columns=['GeneId']).drop_duplicates(keep='first')\n",
    "df_10_20DPA_genes = pd.DataFrame(df_10_20DPA_dynamic_genes.reshape(-1,1), columns=['GeneId']).drop_duplicates(keep='first')"
   ]
  },
  {
   "cell_type": "code",
   "execution_count": 12,
   "metadata": {},
   "outputs": [],
   "source": [
    "## differential genes linked with dynamic loops\n",
    "df_dynamic_loop_genes = df_0_5DPA_genes.append([df_5_10DPA_genes, df_10_20DPA_genes], ignore_index=True).drop_duplicates(keep='first')\n",
    "df_diff_gene = pd.read_csv('F:/fiber/airticle/GB_modification/dynamic_3Dgenome_gene/all_uniq_diff_exp_gene_up_down.txt', sep='\\t')\n",
    "df_dynamic_loop_diff_gene = pd.merge(df_dynamic_loop_genes, df_diff_gene, how='inner', on=['GeneId'])\n",
    "df_dynamic_loop_diff_gene.to_csv(\"F:/fiber/airticle/GB_modification/dynamic_3Dgenome_gene/loop_dynamic_diff_gene.txt\", sep='\\t', index=False, header=False)\n",
    "\n"
   ]
  }
 ],
 "metadata": {
  "interpreter": {
   "hash": "68d7e64a8ef1e11c6d28b945075670502b4996810cedadb5f7222a36b8861f26"
  },
  "kernelspec": {
   "display_name": "Python 3.8.3 64-bit ('base': conda)",
   "language": "python",
   "name": "python3"
  },
  "language_info": {
   "codemirror_mode": {
    "name": "ipython",
    "version": 3
   },
   "file_extension": ".py",
   "mimetype": "text/x-python",
   "name": "python",
   "nbconvert_exporter": "python",
   "pygments_lexer": "ipython3",
   "version": "3.8.3"
  },
  "orig_nbformat": 4
 },
 "nbformat": 4,
 "nbformat_minor": 2
}
