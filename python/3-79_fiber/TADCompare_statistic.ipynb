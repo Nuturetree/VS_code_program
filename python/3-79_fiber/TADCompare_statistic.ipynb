{
 "cells": [
  {
   "cell_type": "code",
   "execution_count": 1,
   "metadata": {},
   "outputs": [],
   "source": [
    "## TADCompare, 分析统计两个相邻时期的保守的TAD boundary和特异的TAD boundary所占比例\n",
    "import pandas as pd\n",
    "import matplotlib as mp\n",
    "days = ['0DPA_5DPA', '5DPA_10DPA', '10DPA_20DPA', '0DPA_10DPA', '0DPA_20DPA', '5DPA_20DPA']\n",
    "chrs = ['Gbar_A01', 'Gbar_A02', 'Gbar_A03', 'Gbar_A04', 'Gbar_A05', 'Gbar_A06', 'Gbar_A07', 'Gbar_A08', 'Gbar_A09', 'Gbar_A10', 'Gbar_A11', 'Gbar_A12', 'Gbar_A13',\n",
    "         'Gbar_D01', 'Gbar_D02', 'Gbar_D03', 'Gbar_D04', 'Gbar_D05', 'Gbar_D06', 'Gbar_D07', 'Gbar_D08', 'Gbar_D09', 'Gbar_D10', 'Gbar_D11', 'Gbar_D12', 'Gbar_D13']\n",
    "df_tmp = pd.DataFrame()\n",
    "## 将所有boundary都统计进来\n",
    "for d in days:\n",
    "    for c in chrs:\n",
    "        input_f = \"F:/fiber/airticle/GB_modification/TADCompare/{0}/{1}_TADcompare.bed\".format(d, c)\n",
    "        df_inp = pd.read_csv(input_f, sep='\\t')\n",
    "        df_inp['days'] = [d]*df_inp.shape[0]\n",
    "        df_inp['chrs'] = [c]*df_inp.shape[0]\n",
    "        df_tmp = df_tmp.append(df_inp, ignore_index=True)\n",
    "## 分析各个时期保守和特异的TAD的数量\n",
    "df_out = df_tmp.groupby(by=['Differential', 'days'], as_index=False)['Boundary'].count()\n",
    "df_out.to_csv('F:/fiber/airticle/GB_modification/TADCompare/dynamic_species_boundary_statistic.txt', sep='\\t', index=False)\n",
    "df_tmp.to_csv('F:/fiber/airticle/GB_modification/TADCompare/dynamic_species_boundary.txt', sep='\\t', index=False)"
   ]
  },
  {
   "cell_type": "code",
   "execution_count": 7,
   "metadata": {},
   "outputs": [],
   "source": [
    "## 将两个相邻时期的动态TAD boundary选出来\n",
    "import pandas as pd\n",
    "chrs = ['Gbar_A01', 'Gbar_A02', 'Gbar_A03', 'Gbar_A04', 'Gbar_A05', 'Gbar_A06', 'Gbar_A07', 'Gbar_A08', 'Gbar_A09', 'Gbar_A10', 'Gbar_A11', 'Gbar_A12', 'Gbar_A13',\n",
    "         'Gbar_D01', 'Gbar_D02', 'Gbar_D03', 'Gbar_D04', 'Gbar_D05', 'Gbar_D06', 'Gbar_D07', 'Gbar_D08', 'Gbar_D09', 'Gbar_D10', 'Gbar_D11', 'Gbar_D12', 'Gbar_D13']\n",
    "for d in ['0DPA_5DPA', '5DPA_10DPA', '10DPA_20DPA']:\n",
    "    df_tmp = pd.DataFrame()\n",
    "    for c in chrs:\n",
    "        inpf = \"F:/fiber/airticle/GB_modification/TADCompare/{0}/{1}_TADcompare.bed\".format(d, c)\n",
    "        df_inf = pd.read_csv(inpf, sep='\\t')\n",
    "        df_diff = df_inf.query(\"Type != 'Non-Differential'\").copy()\n",
    "        df_diff['chr'] = [c]*df_diff.shape[0]\n",
    "        df_diff['start'] = df_diff['Boundary'] - 80000\n",
    "        df_diff['end'] = df_diff['Boundary'] + 80000\n",
    "        df_diff = df_diff[['chr', 'start', 'end']]\n",
    "        df_tmp = df_tmp.append(df_diff, ignore_index=True)\n",
    "        df_tmp['start'] = df_tmp['start'].map(int)\n",
    "        df_tmp['end'] = df_tmp['end'].map(int)\n",
    "    df_tmp.to_csv(\"F:/fiber/airticle/GB_modification/TADCompare/{0}_dynamic_boundary.txt\".format(d), sep='\\t', index=False, header=False)"
   ]
  }
 ],
 "metadata": {
  "kernelspec": {
   "display_name": "Python 3",
   "language": "python",
   "name": "python3"
  },
  "language_info": {
   "codemirror_mode": {
    "name": "ipython",
    "version": 3
   },
   "file_extension": ".py",
   "mimetype": "text/x-python",
   "name": "python",
   "nbconvert_exporter": "python",
   "pygments_lexer": "ipython3",
   "version": "3.8.3"
  }
 },
 "nbformat": 4,
 "nbformat_minor": 4
}
