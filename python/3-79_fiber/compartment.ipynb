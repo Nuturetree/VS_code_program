{
 "cells": [
  {
   "cell_type": "code",
   "execution_count": 2,
   "metadata": {},
   "outputs": [
    {
     "name": "stdout",
     "output_type": "stream",
     "text": [
      "504 530 921 552 1099 1165\n"
     ]
    }
   ],
   "source": [
    "### 将compartment 划分为时期，转换格式compartment\n",
    "import pandas as pd\n",
    "df = pd.read_csv(\"F:/fiber/airticle/GB_modification/chip_dynamic_compartment/rawdata/compart_change.txt\", sep='\\t')\n",
    "#print(df)\n",
    "# 0 DPA\n",
    "df_0DPA_5DPA_aTob = df.query(\"DPA0==1 & DPA5==-1\")\n",
    "df_0DPA_5DPA_bToa = df.query(\"DPA0==-1 & DPA5==1\")\n",
    "# 5 DPA\n",
    "df_5DPA_10DPA_aTob = df.query(\"DPA5==1 & DPA10==-1\")\n",
    "df_5DPA_10DPA_bToa = df.query(\"DPA5==-1 & DPA10==1\")\n",
    "# 10 DPA\n",
    "df_10DPA_20DPA_aTob = df.query(\"DPA10==1 & DPA20==-1\")\n",
    "df_10DPA_20DPA_bToa = df.query(\"DPA10==-1 & DPA20==1\")\n",
    "#df_0DPA_5DPA_aTob.to_csv(\"F:/fiber/airticle/GB_modification/chip_dynamic_compartment/0_5DPA_aTob.txt\", sep='\\t', index=False, header=False, columns = ['chr', 'start', 'end'])\n",
    "#df_0DPA_5DPA_bToa.to_csv(\"F:/fiber/airticle/GB_modification/chip_dynamic_compartment/0_5DPA_bToa.txt\", sep='\\t', index=False, header=False, columns = ['chr', 'start', 'end'])\n",
    "#df_5DPA_10DPA_aTob.to_csv(\"F:/fiber/airticle/GB_modification/chip_dynamic_compartment/5_10DPA_aTob.txt\", sep='\\t', index=False, header=False, columns = ['chr', 'start', 'end'])\n",
    "#df_5DPA_10DPA_bToa.to_csv(\"F:/fiber/airticle/GB_modification/chip_dynamic_compartment/5_10DPA_bToa.txt\", sep='\\t', index=False, header=False, columns = ['chr', 'start', 'end'])\n",
    "#df_10DPA_20DPA_aTob.to_csv(\"F:/fiber/airticle/GB_modification/chip_dynamic_compartment/10_20DPA_aTob.txt\", sep='\\t', index=False, header=False, columns = ['chr', 'start', 'end'])\n",
    "#df_10DPA_20DPA_bToa.to_csv(\"F:/fiber/airticle/GB_modification/chip_dynamic_compartment/10_20DPA_bToa.txt\", sep='\\t', index=False, header=False, columns = ['chr', 'start', 'end'])\n",
    "print(df_0DPA_5DPA_aTob.shape[0], df_0DPA_5DPA_bToa.shape[0], df_5DPA_10DPA_aTob.shape[0], df_5DPA_10DPA_bToa.shape[0], df_10DPA_20DPA_aTob.shape[0],df_10DPA_20DPA_bToa.shape[0])"
   ]
  },
  {
   "cell_type": "code",
   "execution_count": null,
   "metadata": {},
   "outputs": [],
   "source": [
    "# 分析时期中的A compartment 和B compartment 变化过程中\n",
    "import pandas as pd\n",
    "df = pd.read_csv(\n",
    "    'F:/fiber/airticle/GB_modification/chip_dynamic_compartment/pca1_all_day.txt', sep='\\t')\n",
    "# 0DPA\n",
    "df_0DPA_A = df.query(\"DPA0==1\")\n",
    "df_0DPA_B = df.query(\"DPA0==-1\")\n",
    "# 5DPA\n",
    "df_5DPA_A = df.query(\"DPA5==1\")\n",
    "df_5DPA_B = df.query(\"DPA5==-1\")\n",
    "# 10DPA\n",
    "df_10DPA_A = df.query(\"DPA10==1\")\n",
    "df_10DPA_B = df.query(\"DPA10==-1\")\n",
    "# 20 DPA\n",
    "df_20DPA_A = df.query(\"DPA20==1\")\n",
    "df_20DPA_B = df.query(\"DPA20==-1\")\n",
    "# df_0DPA_A.to_csv(\"F:/fiber/airticle/GB_modification/chip_dynamic_compartment/0D_Acpt.txt\", sep='\\t', columns = ['c', 's', 'e'], header=False, index=False)\n",
    "# df_0DPA_B.to_csv(\"F:/fiber/airticle/GB_modification/chip_dynamic_compartment/0D_Bcpt.txt\", sep='\\t', columns = ['c', 's', 'e'], header=False, index=False)\n",
    "# df_5DPA_A.to_csv(\"F:/fiber/airticle/GB_modification/chip_dynamic_compartment/5D_Acpt.txt\", sep='\\t', columns = ['c', 's', 'e'], header=False, index=False)\n",
    "# df_5DPA_B.to_csv(\"F:/fiber/airticle/GB_modification/chip_dynamic_compartment/5D_Bcpt.txt\", sep='\\t', columns = ['c', 's', 'e'], header=False, index=False)\n",
    "# df_10DPA_A.to_csv(\"F:/fiber/airticle/GB_modification/chip_dynamic_compartment/10D_Acpt.txt\", sep='\\t', columns = ['c', 's', 'e'], header=False, index=False)\n",
    "# df_10DPA_B.to_csv(\"F:/fiber/airticle/GB_modification/chip_dynamic_compartment/10D_Bcpt.txt\", sep='\\t', columns = ['c', 's', 'e'], header=False, index=False)\n",
    "# df_20DPA_A.to_csv(\"F:/fiber/airticle/GB_modification/chip_dynamic_compartment/20D_Acpt.txt\", sep='\\t', columns = ['c', 's', 'e'], header=False, index=False)\n",
    "# df_20DPA_B.to_csv(\"F:/fiber/airticle/GB_modification/chip_dynamic_compartment/20D_Bcpt.txt\", sep='\\t', columns = ['c', 's', 'e'], header=False, index=False)\n"
   ]
  },
  {
   "cell_type": "code",
   "execution_count": null,
   "metadata": {},
   "outputs": [],
   "source": [
    "def huang():\n",
    "    \"\"\"[summary]\n",
    "\n",
    "    \"\"\""
   ]
  },
  {
   "cell_type": "code",
   "execution_count": 10,
   "metadata": {},
   "outputs": [
    {
     "name": "stdout",
     "output_type": "stream",
     "text": [
      "     Type     Shape  Chr     Start       End   color\n",
      "88   BtoA  triangle  D06  12200000  12240000  6a3d9a\n",
      "89   BtoA  triangle  D06  12280000  12320000  6a3d9a\n",
      "90   BtoA  triangle  D06  12480000  12520000  6a3d9a\n",
      "91   BtoA  triangle  D06  12560000  12600000  6a3d9a\n",
      "92   BtoA  triangle  D06  21360000  21400000  6a3d9a\n",
      "93   BtoA  triangle  D06  21440000  21480000  6a3d9a\n",
      "259  AtoB       box  D06  17080000  17120000  33a02c\n",
      "260  AtoB       box  D06  17120000  17160000  33a02c\n",
      "261  AtoB       box  D06  17640000  17680000  33a02c\n",
      "262  AtoB       box  D06  17680000  17720000  33a02c\n"
     ]
    }
   ],
   "source": [
    "### 将Chr_D06: 5-25Mb 范围内A/B compartment转换区间挑选出来\n",
    "import pandas as pd\n",
    "df = pd.read_excel('F:/fiber/compartment/hicexplorer/iced/AB compartment  conversion mode/bins/0-5D_AB_trans.xlsx')\n",
    "df_0_25M = df.query(\"Chr=='D06' & Start>=5000000 & End<=25000000\").copy()\n",
    "print(df_0_25M)\n",
    "df_0_25M.to_excel(\"F:/fiber/compartment/hicexplorer/iced/AB compartment  conversion mode/Chr06_5_25M/0-5D_AB_trans.xlsx\", index=False)"
   ]
  }
 ],
 "metadata": {
  "kernelspec": {
   "display_name": "Python 3",
   "language": "python",
   "name": "python3"
  },
  "language_info": {
   "codemirror_mode": {
    "name": "ipython",
    "version": 3
   },
   "file_extension": ".py",
   "mimetype": "text/x-python",
   "name": "python",
   "nbconvert_exporter": "python",
   "pygments_lexer": "ipython3",
   "version": "3.8.3"
  }
 },
 "nbformat": 4,
 "nbformat_minor": 4
}
