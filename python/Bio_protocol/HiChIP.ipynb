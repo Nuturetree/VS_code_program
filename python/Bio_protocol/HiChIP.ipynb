{
 "cells": [
  {
   "cell_type": "code",
   "execution_count": 7,
   "metadata": {},
   "outputs": [],
   "source": [
    "chr_dic = {'chr1':248956422, 'chr2':242193529, 'chr3':198295559, 'chr4':190214555, 'chr5':181538259, 'chr6':170805979, 'chr7':159345973, 'chr8':145138636}\n",
    "start, end = 0, 0\n",
    "fp = open(\"G:/bioprotocol/HiChIP/GM12878/example/HiChIP_example.sh\", 'w')\n",
    "for key in chr_dic.keys():\n",
    "    value = chr_dic[key]\n",
    "    while end <= value:\n",
    "        start = end\n",
    "        end = end + 200000\n",
    "        line = \"sh plot_loop.sh {0} {1} {2} ./figure/{3}_{1}.pdf\".format(key, start, end, key)\n",
    "        print(line, file=fp)\n",
    "    #start, end = 0, 0\n",
    "fp.close()\n"
   ]
  }
 ],
 "metadata": {
  "kernelspec": {
   "display_name": "Python 3.8.3 ('base')",
   "language": "python",
   "name": "python3"
  },
  "language_info": {
   "codemirror_mode": {
    "name": "ipython",
    "version": 3
   },
   "file_extension": ".py",
   "mimetype": "text/x-python",
   "name": "python",
   "nbconvert_exporter": "python",
   "pygments_lexer": "ipython3",
   "version": "3.8.3"
  },
  "orig_nbformat": 4,
  "vscode": {
   "interpreter": {
    "hash": "a0f669ea42a4dcea88d385f8f9b4c3d9b966e24234758831d1dbfdac925619a2"
   }
  }
 },
 "nbformat": 4,
 "nbformat_minor": 2
}
