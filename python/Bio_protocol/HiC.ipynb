{
 "cells": [
  {
   "cell_type": "code",
   "execution_count": 3,
   "metadata": {},
   "outputs": [],
   "source": [
    "## the input file pygenometracks \n",
    "import pandas as pd\n",
    "df_5DPA = pd.read_csv(\"G:/fiber/loop/fithic/pass2/0005_10-05_3/loop_gene/5DPA_loop_contain_genes.txt\", sep='\\t')\n",
    "#df_PE_gene = pd.DataFrame(columns = ['chr', 'start', 'end', 'geneid'])\n",
    "df_PE_gene = df_5DPA.query(\"GeneId_e=='0'\")[['chr_name_s', 'start_s', 'end_s', 'GeneId_s']].copy()\n",
    "df_EP_gene = df_5DPA.query(\"GeneId_s=='0'\")[['chr_name_e', 'start_e', 'end_e', 'GeneId_e']].copy()\n",
    "df_PE_gene.columns = ['chr', 'start', 'end', 'GeneId']\n",
    "df_EP_gene.columns = ['chr', 'start', 'end', 'GeneId']\n",
    "df_all_PE_gene = df_PE_gene.append(df_EP_gene, ignore_index=True)\n",
    "df_all_exp_gene = pd.read_csv('G:/fiber/RNA_seq/1_1/5DPA_expression_gene.txt', sep='\\t')\n",
    "df_all_exp_PE_gene = pd.merge(df_PE_gene, df_all_exp_gene, how='inner', on=['GeneId'])\n",
    "\n",
    "fp = open(\"G:/bioprotocol/HiC/379/plot_exp_gene_loop.sh\", 'w')\n",
    "for index, row in df_all_exp_PE_gene.iterrows():\n",
    "    line = \"sh plot_loop.sh {0} {1} {2} ./figure/{3}.pdf\".format(row[0], row[1]-100000, row[2]+100000, row[3])\n",
    "    print(line, file=fp)\n",
    "fp.close()\n",
    "\n",
    "\n",
    "    \n"
   ]
  }
 ],
 "metadata": {
  "interpreter": {
   "hash": "68d7e64a8ef1e11c6d28b945075670502b4996810cedadb5f7222a36b8861f26"
  },
  "kernelspec": {
   "display_name": "Python 3.8.3 ('base')",
   "language": "python",
   "name": "python3"
  },
  "language_info": {
   "codemirror_mode": {
    "name": "ipython",
    "version": 3
   },
   "file_extension": ".py",
   "mimetype": "text/x-python",
   "name": "python",
   "nbconvert_exporter": "python",
   "pygments_lexer": "ipython3",
   "version": "3.8.3"
  },
  "orig_nbformat": 4
 },
 "nbformat": 4,
 "nbformat_minor": 2
}
