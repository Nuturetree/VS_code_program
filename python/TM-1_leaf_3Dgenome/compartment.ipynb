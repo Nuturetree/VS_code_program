{
 "cells": [
  {
   "cell_type": "code",
   "execution_count": 2,
   "metadata": {},
   "outputs": [],
   "source": [
    "import pandas as pd\n",
    "import sys\n",
    "def subcompartment_chr_adjust(df, tags):\n",
    "    if tags == 'need_adjust':\n",
    "        df_A11 = df.query(\"tags=='#0000FF'\").copy()[['c', 's', 'e']]\n",
    "        df_A12 = df.query(\"tags=='#4848FF'\").copy()[['c', 's', 'e']]\n",
    "        df_A21 = df.query(\"tags=='#9191FF'\").copy()[['c', 's', 'e']]\n",
    "        df_A22 = df.query(\"tags=='#DADAFF'\").copy()[['c', 's', 'e']]\n",
    "        df_B11 = df.query(\"tags=='#FFDADA'\").copy()[['c', 's', 'e']]\n",
    "        df_B12 = df.query(\"tags=='#FF9191'\").copy()[['c', 's', 'e']]\n",
    "        df_B21 = df.query(\"tags=='#FF4848'\").copy()[['c', 's', 'e']]\n",
    "        df_B22 = df.query(\"tags=='#FF0000'\").copy()[['c', 's', 'e']]\n",
    "    else:\n",
    "        df_A11 = df.query(\"tags=='#FF0000'\").copy()[['c', 's', 'e']]\n",
    "        df_A12 = df.query(\"tags=='#FF4848'\").copy()[['c', 's', 'e']]\n",
    "        df_A21 = df.query(\"tags=='#FF9191'\").copy()[['c', 's', 'e']]\n",
    "        df_A22 = df.query(\"tags=='#FFDADA'\").copy()[['c', 's', 'e']]\n",
    "        df_B11 = df.query(\"tags=='#DADAFF'\").copy()[['c', 's', 'e']]\n",
    "        df_B12 = df.query(\"tags=='#9191FF'\").copy()[['c', 's', 'e']]\n",
    "        df_B21 = df.query(\"tags=='#4848FF'\").copy()[['c', 's', 'e']]\n",
    "        df_B22 = df.query(\"tags=='#0000FF'\").copy()[['c', 's', 'e']]\n",
    "    df_A11['tags'] = ['A11']*df_A11.shape[0]\n",
    "    df_A12['tags'] = ['A12']*df_A12.shape[0]\n",
    "    df_A21['tags'] = ['A21']*df_A21.shape[0]\n",
    "    df_A22['tags'] = ['A22']*df_A22.shape[0]\n",
    "    df_B11['tags'] = ['B11']*df_B11.shape[0]\n",
    "    df_B12['tags'] = ['B12']*df_B12.shape[0]\n",
    "    df_B21['tags'] = ['B21']*df_B21.shape[0]\n",
    "    df_B22['tags'] = ['B22']*df_B22.shape[0]\n",
    "    df_return = df_A11.append([df_A12, df_A21, df_A22, df_B11, df_B12, df_B21, df_B22], ignore_index=True)\n",
    "    return df_return\n",
    "def subcompartment_adjust(df, adjust_chrs):\n",
    "    all_chr = set(df['c'].tolist())\n",
    "    df_return = pd.DataFrame()\n",
    "    #! Determine if a change in direction is required\n",
    "    for c in all_chr:\n",
    "        df_chr = df.query(\"c==@c\").copy()\n",
    "        if c in adjust_chrs:\n",
    "            tags = 'need_adjust'\n",
    "        else:\n",
    "            tags = 'not_need_adjust'\n",
    "        df_tmp = subcompartment_chr_adjust(df_chr, tags)\n",
    "        if df_return.shape[0] == 0:\n",
    "            df_return = df_tmp.copy()\n",
    "        else:\n",
    "            df_return = df_return.append(df_tmp, ignore_index=False)\n",
    "    return df_return     \n",
    "# df = pd.read_csv('TM1_40K_subcompartments.bed', sep='\\t', names=['c', 's', 'e', 'sigs', 'a', 'b', 'f', 'd', 'tags'])\n",
    "# adjust_chr = ['chr1', 'chr3', 'chr5', 'chr13', 'chr14', 'chr15', 'chr16', 'chr17', 'chr18', 'chr19', 'chr20', 'chr21']\n",
    "# df_result = subcompartment_adjust(df, adjust_chr)\n",
    "# df_result.sort_values(by=['c', 's'], inplace=True)\n",
    "# df_result.to_csv('TM1_40K_subcompartments_adjust.bed', sep='\\t', index=False)"
   ]
  },
  {
   "cell_type": "code",
   "execution_count": 6,
   "metadata": {},
   "outputs": [
    {
     "name": "stdout",
     "output_type": "stream",
     "text": [
      "tags\n",
      "A11        32230\n",
      "A12        15483\n",
      "A21         6119\n",
      "A22         3494\n",
      "B11         2510\n",
      "B12         2142\n",
      "B21         1734\n",
      "B22         1062\n",
      "no_tags     4127\n",
      "Name: c, dtype: int64\n"
     ]
    }
   ],
   "source": [
    "df = pd.read_csv('F:/3D_genome analysis pipeline/HiC/test_data/TM1_40K_gene_scpt.txt', sep='\\t')\n",
    "print(df.groupby(by=['tags'])['c'].count())"
   ]
  },
  {
   "cell_type": "code",
   "execution_count": 3,
   "metadata": {},
   "outputs": [
    {
     "name": "stdout",
     "output_type": "stream",
     "text": [
      "Ghir_A01 117757855\n",
      "Ghir_A02 108092100\n",
      "Ghir_A03 113059412\n",
      "Ghir_A04 85149810\n",
      "Ghir_A05 109419610\n",
      "Ghir_A06 124056332\n",
      "Ghir_A07 97782242\n",
      "Ghir_A08 122376713\n",
      "Ghir_A09 82102766\n",
      "Ghir_A10 114851205\n",
      "Ghir_A11 123212122\n",
      "Ghir_A12 107672493\n",
      "Ghir_A13 108376418\n",
      "Ghir_D01 63209094\n",
      "Ghir_D02 69838496\n",
      "Ghir_D03 52700144\n",
      "Ghir_D04 56430500\n",
      "Ghir_D05 62933208\n",
      "Ghir_D06 66869448\n",
      "Ghir_D07 59257364\n",
      "Ghir_D08 69039221\n",
      "Ghir_D09 52819285\n",
      "Ghir_D10 68005838\n",
      "Ghir_D11 72942580\n",
      "Ghir_D12 62694377\n",
      "Ghir_D13 63343036\n"
     ]
    }
   ],
   "source": [
    "## 构造绘制A/B compartment的文件\n",
    "chrs = {'Ghir_A01': 117757855, 'Ghir_A02':108092100, 'Ghir_A03':113059412, 'Ghir_A04':85149810, 'Ghir_A05':109419610, 'Ghir_A06':124056332, \n",
    "        'Ghir_A07':97782242, 'Ghir_A08':122376713, 'Ghir_A09':82102766, 'Ghir_A10':114851205, 'Ghir_A11':123212122, 'Ghir_A12':107672493, 'Ghir_A13':108376418, \n",
    "        'Ghir_D01':63209094, 'Ghir_D02':69838496, 'Ghir_D03':52700144, 'Ghir_D04':56430500, 'Ghir_D05':62933208, 'Ghir_D06':66869448,\n",
    "        'Ghir_D07':59257364, 'Ghir_D08':69039221, 'Ghir_D09':52819285, 'Ghir_D10':68005838, 'Ghir_D11':72942580, 'Ghir_D12':62694377, 'Ghir_D13':63343036}\n",
    "for key, values in chrs.items():\n",
    "    print(key, values)"
   ]
  },
  {
   "cell_type": "code",
   "execution_count": 22,
   "metadata": {},
   "outputs": [],
   "source": [
    "## 将pca1 归一化到-1，1之间\n",
    "from sklearn import preprocessing\n",
    "import pandas as pd\n",
    "import numpy as np\n",
    "df = pd.read_csv(\"F:/TM-1_leaf_3D-genome/Pore-C/cpt/pca1_hic_pore-c_A10.txt\", sep='\\t')\n",
    "pca = df[['PoreC', 'HiC']].to_numpy()\n",
    "pca_normal = preprocessing.MaxAbsScaler().fit_transform(pca)\n",
    "df_pca = pd.DataFrame(pca_normal)\n",
    "df_pca.columns = ['porec_normal', 'hic_normal']\n",
    "df_return = pd.concat([df, df_pca], axis = 1)\n",
    "df_return.to_csv('F:/TM-1_leaf_3D-genome/Pore-C/cpt/pca1_hic_pore-c_A10.txt', sep='\\t', index = False)"
   ]
  },
  {
   "cell_type": "code",
   "execution_count": 37,
   "metadata": {},
   "outputs": [
    {
     "name": "stdout",
     "output_type": "stream",
     "text": [
      "[[-4.83494532]\n",
      " [-6.15687341]\n",
      " [-1.73060866]\n",
      " ...\n",
      " [ 0.4651784 ]\n",
      " [ 0.2943377 ]\n",
      " [ 0.31886002]]\n",
      "0.23106433816951896\n",
      "-1.0\n"
     ]
    }
   ],
   "source": [
    "## 将insulation score 归一化\n",
    "from sklearn import preprocessing\n",
    "import pandas as pd\n",
    "import numpy as np\n",
    "df = pd.read_csv(\"F:/TM-1_leaf_3D-genome/Pore-C/TAD/is_relevance/is_hic_porec_A04.bed\", sep='\\t')\n",
    "pca = df['porec'].to_numpy()\n",
    "pca1 = pca.reshape(-1,1)\n",
    "print(pca1)\n",
    "pca = df[['porec', 'hic']].to_numpy()\n",
    "df_pca = pd.DataFrame(pca_normal)\n",
    "df_pca.columns = ['porec_normal', 'hic_normal']\n",
    "df_return = pd.concat([df, df_pca], axis = 1)\n",
    "df_return.dropna(inplace=True, how='any')\n",
    "df_return.to_csv('F:/TM-1_leaf_3D-genome/Pore-C/TAD/is_relevance/is_hic_porec_A04.bed', sep='\\t', index = False)"
   ]
  },
  {
   "cell_type": "code",
   "execution_count": 8,
   "metadata": {},
   "outputs": [
    {
     "name": "stdout",
     "output_type": "stream",
     "text": [
      "        sigs   tags      length\n",
      "0       Hi-C  A_cpt   960208246\n",
      "1       Hi-C  B_cpt  1273571419\n",
      "2       Hi-C   None      200000\n",
      "3  HiC_PoreC  A_cpt   938631631\n",
      "4  HiC_PoreC  B_cpt  1294757364\n",
      "5  HiC_PoreC   None      100000\n",
      "6     Pore-C  A_cpt   967563292\n",
      "7     Pore-C  B_cpt  1266028233\n",
      "8     Pore-C   None      400000\n"
     ]
    }
   ],
   "source": [
    "## 统计分析A/B compartment 占比\n",
    "import pandas as pd\n",
    "df_hic = pd.read_csv('F:/TM-1_leaf_3D-genome/Proe-C_HiC/cpt/HiC_compartment_length_ration.txt', sep='\\t', names=['length', 'ratio', 'tags'])\n",
    "df_porec = pd.read_csv('F:/TM-1_leaf_3D-genome/Proe-C_HiC/cpt/PoreC_compartment_length_ration.txt', sep='\\t', names=['length', 'ratio', 'tags'])\n",
    "df_hic_porec = pd.read_csv('F:/TM-1_leaf_3D-genome/Proe-C_HiC/cpt/HiC_PoreC_cpt_length_ration.txt', sep='\\t', names=['length', 'ratio', 'tags'])\n",
    "df_hic['sigs'] = ['Hi-C']*df_hic.shape[0]\n",
    "df_porec['sigs'] = ['Pore-C']*df_porec.shape[0]\n",
    "df_hic_porec['sigs'] = ['HiC_PoreC']*df_hic_porec.shape[0]\n",
    "df = df_hic.append([df_porec, df_hic_porec], ignore_index=True)\n",
    "df_ratio = df.groupby(by=['sigs', 'tags'], as_index=False)['ratio'].agg('mean')\n",
    "df_length = df.groupby(by=['sigs', 'tags'], as_index=False)['length'].agg('sum')\n",
    "print(df_length)\n",
    "df_ratio.to_csv('F:/TM-1_leaf_3D-genome/Proe-C_HiC/cpt/compartment_ratio.txt', sep='\\t', index=False)\n",
    "df_length.to_csv('F:/TM-1_leaf_3D-genome/Proe-C_HiC/cpt/compartment_length.txt', sep='\\t', index=False)\n"
   ]
  },
  {
   "cell_type": "code",
   "execution_count": 22,
   "metadata": {},
   "outputs": [],
   "source": [
    "## 将HiC 和 poreC 所鉴定的 有差异的A/B compartment 选出来\n",
    "import pandas as pd\n",
    "df_hic = pd.read_csv('F:/TM-1_leaf_3D-genome/Proe-C_HiC/cpt/diff_compartment/TM1_HiC_compartment.bdg', sep='\\t', names=['c', 's', 'e', 'hic_pca1'])\n",
    "df_porec = pd.read_csv('F:/TM-1_leaf_3D-genome/Proe-C_HiC/cpt/diff_compartment/TM1_PoreC_compartment.bdg', sep='\\t', names=['c', 's', 'e', 'porec_pca1'])\n",
    "df_hic_porec = pd.read_csv('F:/TM-1_leaf_3D-genome/Proe-C_HiC/cpt/diff_compartment/TM1_HiC_PoreC_compartment.bdg', sep='\\t', names=['c', 's', 'e', 'hic_porec_pca1'])\n",
    "df_atac = pd.read_csv('F:/TM-1_leaf_3D-genome/Proe-C_HiC/cpt/diff_compartment/TM1_100k_ATAC_peaks.txt', sep='\\t', names=['c', 's', 'e', 'atac'])\n",
    "df_h3k27ac = pd.read_csv('F:/TM-1_leaf_3D-genome/Proe-C_HiC/cpt/diff_compartment/TM1_100k_H3K27ac_peaks.txt', sep='\\t', names=['c', 's', 'e', 'H3K27ac'])\n",
    "df_h3k27me3 = pd.read_csv('F:/TM-1_leaf_3D-genome/Proe-C_HiC/cpt/diff_compartment/TM1_100k_H3k27me3_peaks.txt', sep='\\t', names=['c', 's', 'e','H3K27me3'])\n",
    "df_h3k4me3 = pd.read_csv('F:/TM-1_leaf_3D-genome/Proe-C_HiC/cpt/diff_compartment/TM1_100k_H3K4me3_peaks.txt', sep='\\t', names=['c', 's', 'e', 'H3K4me3'])\n",
    "df_one = pd.merge(df_hic, df_porec, how=\"inner\", on=['c', 's', 'e'])\n",
    "df_two = pd.merge(df_one, df_hic_porec, how='inner', on=['c', 's', 'e'])\n",
    "df_three = pd.merge(df_two, df_atac, how='inner', on=['c', 's', 'e'])\n",
    "df_four = pd.merge(df_three, df_h3k27ac, how='inner', on=['c', 's', 'e'])\n",
    "df_five = pd.merge(df_four, df_h3k27me3, how='inner', on=['c', 's', 'e'])\n",
    "df_six = pd.merge(df_five,df_h3k4me3, how='inner', on=['c', 's', 'e'])\n",
    "df_six.to_csv(\"F:/TM-1_leaf_3D-genome/Proe-C_HiC/cpt/diff_compartment/all_compartment_chip.txt\", sep='\\t', index=False)\n",
    "df_AtoB = df_six.query(\"hic_pca1>0 & porec_pca1>0 & hic_porec_pca1<0 & atac==0 & H3K27ac==0 & H3K4me3==0 & H3K27me3>0\")\n",
    "df_AtoB.to_csv('F:/TM-1_leaf_3D-genome/Proe-C_HiC/cpt/diff_compartment/AtoB_truechip.txt', sep='\\t', index=False)\n",
    "df_BtoA = df_six.query(\"hic_pca1<0 & porec_pca1<0 & hic_porec_pca1>0 & atac>0 & H3K27ac>0 & H3K4me3>0 & H3K27me3==0\")\n",
    "df_BtoA.to_csv('F:/TM-1_leaf_3D-genome/Proe-C_HiC/cpt/diff_compartment/BtoA_truechip.txt', sep='\\t', index=False)"
   ]
  },
  {
   "cell_type": "code",
   "execution_count": 23,
   "metadata": {},
   "outputs": [],
   "source": [
    "df_AtoB = df_six.query(\"hic_pca1>0 & porec_pca1>0 & hic_porec_pca1<0\")\n",
    "df_BtoA = df_six.query(\"hic_pca1<0 & porec_pca1<0 & hic_porec_pca1>0\")\n",
    "df_AtoB.to_csv(\"F:/TM-1_leaf_3D-genome/Proe-C_HiC/cpt/diff_compartment/AtoB.txt\", sep=\"\\t\", header=False, index=False)\n",
    "df_BtoA.to_csv(\"F:/TM-1_leaf_3D-genome/Proe-C_HiC/cpt/diff_compartment/BtoA.txt\", sep=\"\\t\", header=False, index=False)\n"
   ]
  },
  {
   "cell_type": "code",
   "execution_count": null,
   "metadata": {},
   "outputs": [],
   "source": [
    "## convert cworld compartment to fan-c compartment\n",
    "import pandas as pd\n",
    "import sys\n",
    "input_f = sys.argv[1]\n",
    "output_f = sys.argv[2]\n",
    "df = pd.read_csv(input_f, sep='\\t', names=['c', 's', 'e','pca1'])\n",
    "df['ab'] = df['pca1'].apply(lambda x: \"A\" if x>0 else \"B\")\n",
    "df['zero'] = [\".\"]*df.shape[0]\n",
    "df.to_csv(output_f, sep='\\t', index=False, header=False)"
   ]
  },
  {
   "cell_type": "code",
   "execution_count": null,
   "metadata": {},
   "outputs": [],
   "source": [
    "## conver ChIA-PET loop To arcs loop\n",
    "import pandas as pd\n",
    "import sys\n",
    "input_f = sys.argv[1]\n",
    "output_f = sys.argv[2]\n",
    "df = pd.read_csv(input_f, sep='\\t', names=['c1', 's1', 'e1', 'c2', 's2', 'e2', 'one', 'two', 'three', 'four', 'five'])\n",
    "df['mid1'] = (df['e1'] - df['s1'])/2 + df['s1']\n",
    "df['mid2'] = (df['e2'] - df['s2'])/2 + df['s2']\n",
    "df['mid1'] = df['mid1'].astype(int)\n",
    "df['mid2'] = df['mid2'].astype(int)\n",
    "df['mid1_1'] = df['mid1'] + 1\n",
    "df['mid2_1'] = df['mid2'] + 1\n",
    "df['values'] = [1]*df.shape[0]\n",
    "df.to_csv(output_f, sep='\\t', index=False, header=False, columns=['c1', 'mid1', 'mid1_1', 'mid2', 'mid2_1', 'values'])\n"
   ]
  },
  {
   "cell_type": "code",
   "execution_count": null,
   "metadata": {},
   "outputs": [],
   "source": [
    "## conver ChIA-PET loop To arcs loop bin\n",
    "import pandas as pd\n",
    "import sys\n",
    "binf = sys.argv[1]\n",
    "loopf = sys.argv[2]\n",
    "outf = sys.argv[3]\n",
    "df_loop = pd.read_csv(loopf, sep='\\t', names=['c1','s1', 'e1','c2','s2', 'e2'])\n",
    "df_bin = pd.read_csv(binf, sep='\\t', names=['c', 's', 'e'])\n",
    "\n",
    "def toBin(df_loop, df_bin):\n",
    "    df_one = pd.DataFrame()\n",
    "    for index, row in df_bin.iterrows():\n",
    "        c, s, e = row['c'], row['s'], row['e']\n",
    "        df_tmp = df_loop.query(\"c1==@c & s1<=@e & e1>=@s\").copy()\n",
    "        df_tmp['s1_copy'] = [s]*df_tmp.shape[0]\n",
    "        df_tmp['e1_copy'] = [e]*df_tmp.shape[0]\n",
    "        df_one = df_one.append(df_tmp, ignore_index=True)\n",
    "    df_one = df_one[['c1', 's1_copy', 'e1_copy', 'c2', 's2', 'e2']]\n",
    "    df_two = pd.DataFrame()\n",
    "    for index, row in df_bin.iterrows():\n",
    "        c, s, e = row['c'], row['s'], row['e']\n",
    "        df_tmp = df_one.query(\"c2==@c & s2<=@e & e2>=@s\").copy()\n",
    "        df_tmp['s2_copy'] = [s]*df_tmp.shape[0]\n",
    "        df_tmp['e2_copy'] = [e]*df_tmp.shape[0]\n",
    "        df_two = df_two.append(df_tmp, ignore_index=True)\n",
    "    df_two = df_two[['c1', 's1_copy', 'e1_copy', 'c2', 's2_copy', 'e2_copy']]\n",
    "    return df_two\n",
    "chrs = ['Ghir_A01', 'Ghir_A02', 'Ghir_A03', 'Ghir_A04', 'Ghir_A05', 'Ghir_A06', 'Ghir_A07', 'Ghir_A08', 'Ghir_A09', 'Ghir_A10', 'Ghir_A11', 'Ghir_A12', 'Ghir_A13', 'Ghir_D01', 'Ghir_D02', 'Ghir_D03', 'Ghir_D04', 'Ghir_D05', 'Ghir_D06', 'Ghir_D07', 'Ghir_D08', 'Ghir_D09', 'Ghir_D10', 'Ghir_D11', 'Ghir_D12', 'Ghir_D13']\n",
    "df_result = pd.DataFrame()\n",
    "for c in chrs:\n",
    "    df_loop_chr = df_loop.query(\"c1==@c\").copy()\n",
    "    df_bin_chr = df_bin.query(\"c==@c\").copy()\n",
    "    df_tmp = toBin(df_loop, df_bin)\n",
    "    df_result = df_result.append(df_tmp, ignore_index=True)\n",
    "df_result.to_csv(outf, sep='\\t', index=False, header=False)\n"
   ]
  },
  {
   "cell_type": "code",
   "execution_count": 5,
   "metadata": {},
   "outputs": [
    {
     "name": "stdout",
     "output_type": "stream",
     "text": [
      "0.9298528161767995\n"
     ]
    }
   ],
   "source": [
    "## 分析HiC 和PoreC 所鉴定出的A/B compartment 的overlap\n",
    "import pandas as pd\n",
    "df_hic = pd.read_csv(\"F:/TM-1_leaf_3D-genome/HiC/cpt/cworld/100kb/TM1_HiC_compartment.bdg\", sep=\"\\t\", names=['c', 's', 'e', 'hic'])\n",
    "df_porec = pd.read_csv(\"F:/TM-1_leaf_3D-genome/HiC/cpt/cworld/100kb/TM1_PoreC_compartment.bdg\", sep=\"\\t\", names=['c', 's', 'e', 'porec'])\n",
    "df_hic_porec = pd.merge(df_hic, df_porec, how='outer', on=['c', 's', 'e'])\n",
    "df_overlap = df_hic_porec.query(\"(hic>0&porec>0)|(hic<0&porec<0)\")\n",
    "print(df_overlap.shape[0]/df_hic_porec.shape[0])\n"
   ]
  }
 ],
 "metadata": {
  "interpreter": {
   "hash": "68d7e64a8ef1e11c6d28b945075670502b4996810cedadb5f7222a36b8861f26"
  },
  "kernelspec": {
   "display_name": "Python 3.8.3 64-bit ('base': conda)",
   "language": "python",
   "name": "python3"
  },
  "language_info": {
   "codemirror_mode": {
    "name": "ipython",
    "version": 3
   },
   "file_extension": ".py",
   "mimetype": "text/x-python",
   "name": "python",
   "nbconvert_exporter": "python",
   "pygments_lexer": "ipython3",
   "version": "3.7.6"
  },
  "orig_nbformat": 4
 },
 "nbformat": 4,
 "nbformat_minor": 2
}
