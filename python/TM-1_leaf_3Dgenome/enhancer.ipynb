{
 "cells": [
  {
   "cell_type": "code",
   "execution_count": null,
   "metadata": {},
   "outputs": [],
   "source": [
    "## 将Dt 亚组区间转换为3Kb 大小\n",
    "import pandas as pd\n",
    "import sys\n",
    "homo_f = sys.argv[1]\n",
    "input_f = sys.argv[2]\n",
    "output_f = sys.argv[3]\n",
    "df_homo = pd.read_csv(homo_f, sep='\\t', names=['c1', 's1', 'e1', 'c2', 's2', 'e2'])\n",
    "df_inpf = pd.read_csv(input_f, sep='\\t', names=['c', 's', 'e'])\n",
    "df_homo_copy = df_homo.copy()\n",
    "for index, row in df_homo.iterrows():\n",
    "    c_dt, s_dt, e_dt = row['c2'], row['s2'], row['e2']\n",
    "    print(c_dt, s_dt, e_dt)\n",
    "    df_tmp = df_inpf.query(\"s<=@e_dt & e>=@s_dt\").copy()\n",
    "    print(df_tmp)\n",
    "    df_tmp.reset_index(drop=True, inplace=True)\n",
    "    if df_tmp.shape[0] == 1:\n",
    "        df_homo_copy.loc[index, 'c3'] = df_tmp.loc[0, 'c']\n",
    "        df_homo_copy.loc[index, 's3'] = df_tmp.loc[0, 's'] \n",
    "        df_homo_copy.loc[index, 'e3'] = df_tmp.loc[0, 'e']\n",
    "        print(df_tmp.loc[0,:])\n",
    "    else:\n",
    "        for index2, row2 in df_tmp.iterrows():\n",
    "            s_tmp, e_tmp = row2['s'], row2['e']\n",
    "            df_tmp.loc[index2, 'length'] = min([e_tmp, e_dt]) - max([s_tmp, s_dt])\n",
    "        print(df_tmp)\n",
    "        df_tmp.sort_values(by=['length'], ascending=False, inplace=True)\n",
    "        df_tmp.reset_index(drop=True, inplace=True)\n",
    "        df_homo_copy.loc[index, 'c3'] = df_tmp.loc[0, 'c']\n",
    "        df_homo_copy.loc[index, 's3'] = df_tmp.loc[0, 's'] \n",
    "        df_homo_copy.loc[index, 'e3'] = df_tmp.loc[0, 'e']\n",
    "        print(df_tmp.loc[0,:])\n",
    "df_homo_copy['s3'] = df_homo_copy['s3'].astype(int) \n",
    "df_homo_copy['e3'] = df_homo_copy['e3'].astype(int) \n",
    "df_homo_copy.to_csv(output_f, sep=\"\\t\", index=False)\n"
   ]
  },
  {
   "cell_type": "code",
   "execution_count": 9,
   "metadata": {},
   "outputs": [],
   "source": [
    "## 选择染色体内的同源区域\n",
    "import pandas as pd\n",
    "import sys\n",
    "import re\n",
    "input_f = sys.argv[1]\n",
    "output_f = sys.argv[2]\n",
    "df = pd.read_csv(input_f, sep='\\t')\n",
    "pattern = r'[0-9]+'\n",
    "df['at_id'] = df['c1'].str.findall(pattern)\n",
    "df['dt_id'] = df['c3'].str.findall(pattern)\n",
    "df_result = df.query(\"at_id == dt_id\")\n",
    "df_result.to_csv(output_f, sep='\\t', index=False)\n"
   ]
  },
  {
   "cell_type": "code",
   "execution_count": null,
   "metadata": {},
   "outputs": [],
   "source": [
    "## 给loop 连接的非基因区域打上enhancer 标签\n",
    "import pandas as pd\n",
    "df_loop = pd.read_csv(\"F:/TM-1_leaf_3D-genome/HiC/loop/gene_loop_new/all_nogene_genes_loop.txt\", sep='\\t', names=['c', 's', 'e', 'geneid', 'fpkm'])\n",
    "df_enhancer = pd.read_csv(\"F:/TM-1_leaf_3D-genome/HiC/loop/gene_loop_new/enhancer/all_At_Dt_homo_enhaner.txt\", sep='\\t', names=['c', 's', 'e'])\n",
    "print(df_loop)\n",
    "print(df_enhancer)\n",
    "df_result = pd.merge(df_loop, df_enhancer, how='inner', on=['c', 's', 'e'])\n",
    "print(df_result)\n"
   ]
  },
  {
   "cell_type": "code",
   "execution_count": null,
   "metadata": {},
   "outputs": [],
   "source": [
    "## 分析loop 所能包含的基因\n",
    "import pandas as pd\n",
    "import sys\n",
    "gene_f = sys.argv[1]\n",
    "loop_f = sys.argv[2]\n",
    "output_f = sys.argv[3]\n",
    "df_gene = pd.read_csv(gene_f, sep='\\t')\n",
    "df_loop = pd.read_csv(loop_f, sep='\\t')\n",
    "df_result = pd.DataFrame(columns = ['c1', 's1', 'e1', 'gid1', 'c2', 's2', 'e2', 'gid2', 'tags'])\n",
    "for index, row in df_loop.interrows():\n",
    "    c1,s1,e1,c2,s2,e2 = row['c1'], row['s1'], row['e1'], row['c2'], row['s2'], row['e2']\n",
    "    df_gene_one_tmp = df_gene.query(\"@s1<=e & @e1>=s\").copy()\n",
    "    df_gene_two_tmp = df_gene.query(\"@s2<=e & @e2>=s\").copy()\n",
    "    ## GG 注释\n",
    "    if df_gene_one_tmp.shape[0]>0 & df_gene_two_tmp.shape[0]>0:\n",
    "        gid1, gid2 = df_gene_one_tmp['geneid'].tolist(), df_gene_two_tmp['geneid'].tolist()\n",
    "        for i in gid1:\n",
    "            for j in gid2:\n",
    "                df_result.loc[df_result.shape[0], :] = [c1, s1, e1, i, c2, s2, e2, j, 'GG']\n",
    "    ## GN 注释\n",
    "    elif df_gene_one_tmp.shape[0]>0 & df_gene_two_tmp.shape[0]==0:\n",
    "        gid1 = df_gene_one_tmp['geneid'].tolist()\n",
    "        for i in gid1:\n",
    "            df_result.loc[df_result.shape[0], :] = [c1, s1, e1, i, c2, s2, e2, 'nogene', 'GN']\n",
    "    ## NG 注释\n",
    "    elif df_gene_one_tmp.shape[0]==0 & df_gene_two_tmp.shape[0]>0:\n",
    "        gid2 = df_gene_two_tmp['geneid'].tolist()\n",
    "        for j in gid2:\n",
    "            df_result.loc[df_result.shape[0], :] = [c1, s1, e1, 'nogene', c2, s2, e2, j, 'NG']\n",
    "    ## NN 注释\n",
    "    else:\n",
    "        df_result.loc[df_result.shape[0], :] = [c1, s1, e1, 'nogene', c2, s2, e2, 'nogene', 'NN']\n",
    "df_result.to_csv(output_f, sep='\\t', index=False)"
   ]
  },
  {
   "cell_type": "code",
   "execution_count": null,
   "metadata": {},
   "outputs": [],
   "source": [
    "## 分析同源enhancer数目\n",
    "\n",
    "import pandas as pd\n",
    "import sys\n",
    "\n",
    "at_f = sys.argv[1]\n",
    "dt_f = sys.argv[2]\n",
    "at_dt_f = sys.argv[3]\n",
    "output_f = sys.argv[4]\n",
    "\n",
    "df_at = pd.read_csv(at_f, sep='\\t', names=['c1', 's1', 'e1'])\n",
    "df_dt = pd.read_csv(dt_f, sep='\\t', names=['c2', 's2', 'e2'])\n",
    "df_at_dt = pd.read_csv(at_dt_f, sep='\\t')\n",
    "\n",
    "df_one = pd.merge(df_at_dt, df_at, how='inner', on=['c1', 's1', 'e1'])\n",
    "df_two = pd.merge(df_one, df_dt, how='inner', on=['c2', 's2', 'e2'])\n",
    "\n",
    "df_two.to_csv(output_f, sep='\\t', index=False)\n"
   ]
  },
  {
   "cell_type": "code",
   "execution_count": null,
   "metadata": {},
   "outputs": [],
   "source": [
    "## 分析同源基因和同源enhancer 之间的联系\n",
    "import pandas as pd\n",
    "import sys\n",
    "input_f1 = sys.argv[1]\n",
    "input_f2 = sys.argv[2]\n",
    "output_f = sys.argv[3]\n",
    "df1 = pd.read_csv(input_f1, sep=\"\\t\", names=['c1', 's1', 'e1', 't1', 'c2', 's2', 'e2', 'geneid' ])\n",
    "df2 = pd.read_csv(input_f2, sep=\"\\t\", names=['c', 's', 'e', 'geneid'])\n",
    "df_result = pd.merge(df1, df2, how='inner', on=['geneid'])\n",
    "df_result.to_csv(output_f, sep=\"\\t\", index=False, columns=['c1', 's1', 'e1', 't1', 'c2', 's2', 'e2', 'geneid'], header=False)"
   ]
  },
  {
   "cell_type": "code",
   "execution_count": null,
   "metadata": {},
   "outputs": [],
   "source": [
    "## 分析enhancer - gene At-Dt亚组相同的loop\n",
    "import pandas as pd\n",
    "import sys\n",
    "GN_loop = sys.argv[1]\n",
    "HNs = sys.argv[2]\n",
    "HGs = sys.argv[3]\n",
    "output_f = sys.argv[4]\n",
    "df_gn = pd.read_csv(GN_loop, sep=\"\\t\", names=['N', 'G'])\n",
    "df_hn = pd.read_csv(HNs, sep='\\t', names=['N', 'N1'])\n",
    "df_hg = pd.reac_csv(HGs, sep='\\t', naems=['G', 'G1'])\n",
    "\n",
    "df_hn2 = df_hn[['N1', 'N']].copy()\n",
    "df_hn2.columns =['N', 'N1']\n",
    "df_hg2 = df_hg[['G1', 'G']].copy()\n",
    "df_hg2.columns =['G', 'G1']\n",
    "\n",
    "df_hn = df_hn.append(df_hn2, ignore_index=True)\n",
    "df_hg = df_hg.append(df_hg2, ignore_index=True)\n",
    "\n",
    "df_one = pd.merge(df_gn, df_hn, how='inner', on=['N'])\n",
    "df_two = pd.merge(df_one, df_hg, how='inner', on=['G'])\n",
    "df_two['tags'] = [1]*df_two.shape[0]\n",
    "df_result = df_two.grouby(['N', 'N1', 'G', 'G1'], as_index-False)['tags'].sum()"
   ]
  },
  {
   "cell_type": "code",
   "execution_count": 3,
   "metadata": {},
   "outputs": [
    {
     "name": "stdout",
     "output_type": "stream",
     "text": [
      "   b  a\n",
      "0  3  1\n",
      "1  4  2\n",
      "2  5  3\n"
     ]
    }
   ],
   "source": [
    "import pandas as pd\n",
    "df = pd.DataFrame({'a':[1,2,3], 'b':[3,4,5]})\n",
    "df2 = df[['b','a']]\n",
    "print(df2)"
   ]
  }
 ],
 "metadata": {
  "interpreter": {
   "hash": "9c91df8a30f2ca0588df6ae5802e19be614d84a80266001c42d6a0fb9a071694"
  },
  "kernelspec": {
   "display_name": "Python 3.7.6 ('base')",
   "language": "python",
   "name": "python3"
  },
  "language_info": {
   "codemirror_mode": {
    "name": "ipython",
    "version": 3
   },
   "file_extension": ".py",
   "mimetype": "text/x-python",
   "name": "python",
   "nbconvert_exporter": "python",
   "pygments_lexer": "ipython3",
   "version": "3.7.6"
  },
  "orig_nbformat": 4
 },
 "nbformat": 4,
 "nbformat_minor": 2
}
