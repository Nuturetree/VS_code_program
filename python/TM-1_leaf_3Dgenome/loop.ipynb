{
 "cells": [
  {
   "cell_type": "code",
   "execution_count": 72,
   "metadata": {},
   "outputs": [],
   "source": [
    "### 分析有哪些loop的锚点区包含基因\n",
    "import pandas as pd\n",
    "def gene_loop(l1, df1, l2, df2):\n",
    "    df_result = pd.DataFrame(columns = ['c1', 's1', 'e1', 't1', 'g1', 'c2', 's2', 'e2', 't2', 'g2'])\n",
    "    if df1.shape[0] == 0:\n",
    "        geneid1 = ['nogene']\n",
    "    else:\n",
    "        geneid1 = df1['gid'].tolist()\n",
    "    if df2.shape[0] == 0:\n",
    "        geneid2 = ['nogene']\n",
    "    else:\n",
    "        geneid2 = df2['gid'].tolist()\n",
    "    #print(geneid1, geneid2)\n",
    "    for g1 in geneid1:\n",
    "        for g2 in geneid2:\n",
    "            gene_loop_list = l1 + [g1] + l2 + [g2]\n",
    "            df_result.loc[df_result.shape[0], :] = gene_loop_list\n",
    "    #print(df_result)\n",
    "    return df_result\n",
    "\n",
    "df_loop = pd.read_csv('F:/TM-1_leaf_3D-genome/HiC/loop/gene_loop_new/intra_loop_10_0005_bin_gtags.txt', sep='\\t', names=['c1', 's1', 'e1', 'c2', 's2', 'e2', 't1', 't2'])\n",
    "#df_loop = pd.read_csv('F:/TM-1_leaf_3D-genome/HiC/loop/gene_loop_new/test.txt', sep='\\t', names=['c1', 's1', 'e1', 'c2', 's2', 'e2', 't1', 't2'])\n",
    "df_gene = pd.read_csv('F:/TM-1_leaf_3D-genome/RNA_Seq/TM-1_allgene_promoter_FPKM.txt', sep='\\t', names=['c', 's', 'e', 'gid', 'fpkm'])\n",
    "chrs = ['Ghir_A01', 'Ghir_A02', 'Ghir_A03', 'Ghir_A04', 'Ghir_A05', 'Ghir_A06', 'Ghir_A07', 'Ghir_A08', 'Ghir_A09', 'Ghir_A10', 'Ghir_A11', 'Ghir_A12', 'Ghir_A13', 'Ghir_D01', 'Ghir_D02', 'Ghir_D03', 'Ghir_D04', 'Ghir_D05', 'Ghir_D06', 'Ghir_D07', 'Ghir_D08', 'Ghir_D09', 'Ghir_D10', 'Ghir_D11', 'Ghir_D12', 'Ghir_D13']\n",
    "df_result = pd.DataFrame()\n",
    "for cs in chrs:\n",
    "    df_loop_chr = df_loop.query(\"c1==@cs\").copy()\n",
    "    df_gene_chr = df_gene.query(\"c==@cs\").copy()\n",
    "    for index, row in df_loop_chr.iterrows():\n",
    "        c1, s1, e1, c2, s2, e2, t1, t2 = row['c1'], row['s1'], row['e1'], row['c2'], row['s2'], row['e2'], row['t1'], row['t2']\n",
    "        df_tmp1 = df_gene.query(\"c==@c1 & s<=@e1 & e>=@s1\").copy()\n",
    "        df_tmp2 = df_gene.query(\"c==@c2 & s<=@e2 & e>=@s2\").copy()\n",
    "        #print(df_tmp1)\n",
    "        #print(df_tmp2)\n",
    "        l1 = [c1, s1, e1, t1]\n",
    "        l2 = [c2, s2, e2, t2]\n",
    "        df_tmp = gene_loop(l1, df_tmp1, l2, df_tmp2)\n",
    "        if df_result.shape[0] == 0:\n",
    "            df_result = df_tmp\n",
    "        else:\n",
    "            df_result = df_result.append(df_tmp, ignore_index=True)\n",
    "df_result.to_csv('F:/TM-1_leaf_3D-genome/HiC/loop/gene_loop_new/all_loop_geneid.txt', sep='\\t', index=False)\n"
   ]
  },
  {
   "cell_type": "code",
   "execution_count": 73,
   "metadata": {},
   "outputs": [],
   "source": [
    "## 给基因id 添加上表达量标签\n",
    "df_fpkm = pd.read_csv('F:/TM-1_leaf_3D-genome/RNA_Seq/TM-1_allgene_FPKM.txt', sep='\\t')\n",
    "df_loop = pd.read_csv('F:/TM-1_leaf_3D-genome/HiC/loop/gene_loop_new/all_loop_geneid.txt', sep='\\t')\n",
    "df_id_fpkm = df_fpkm[['Geneid', 'FPKM']].copy()\n",
    "df_id_fpkm.columns = ['g1', 'fpkm1']\n",
    "df_geneid = pd.merge(df_loop, df_id_fpkm, how='left', on='g1')\n",
    "df_id_fpkm.columns = ['g2', 'fpkm2']\n",
    "df_geneid = pd.merge(df_geneid, df_id_fpkm, how='left', on='g2')\n",
    "df_geneid.to_csv('F:/TM-1_leaf_3D-genome/HiC/loop/gene_loop_new/all_loop_geneid_fpkm.txt', sep='\\t', index=False)"
   ]
  },
  {
   "cell_type": "code",
   "execution_count": 78,
   "metadata": {},
   "outputs": [],
   "source": [
    "## 将loop 整理为前面是非基因区域，后面是基因区域格式\n",
    "import pandas as pd\n",
    "def nogene_gene(df):\n",
    "    df_GN = df.query(\"(t1=='G' & t2=='N') | (t1=='N' & t2=='G')\").copy()\n",
    "    #print(df_GN)\n",
    "    df_result = pd.DataFrame(columns=['c', 's', 'e', 'gid', 'FPKM'])\n",
    "    for index, row in df_GN.iterrows():\n",
    "        c1, s1, e1, c2, s2, e2, gid1, gid2, fpkm1, fpkm2 = row['c1'], row['s1'], row['e1'], row['c2'], row['s2'], row['e2'], row['g1'], row['g2'], row['fpkm1'], row['fpkm2']\n",
    "        #print(gid1, gid2)\n",
    "        if gid1 == \"nogene\":\n",
    "            df_result.loc[df_result.shape[0], :] = [c1, s1, e1, gid2, fpkm2]\n",
    "        else:\n",
    "            df_result.loc[df_result.shape[0], :] = [c2, s2, e2, gid1, fpkm1]\n",
    "    #print(df_result)\n",
    "    return df_result\n",
    "df = pd.read_csv('F:/TM-1_leaf_3D-genome/HiC/loop/gene_loop_new/all_loop_geneid_fpkm.txt', sep='\\t')\n",
    "df_result = nogene_gene(df)\n",
    "df_result.to_csv('F:/TM-1_leaf_3D-genome/HiC/loop/gene_loop_new/all_nogene_genes_loop.txt', sep='\\t', index=False, header=False)  "
   ]
  },
  {
   "cell_type": "code",
   "execution_count": null,
   "metadata": {},
   "outputs": [],
   "source": [
    "## 分析bias 基因有多少具有loop分布差异\n",
    "import pandas as pd\n",
    "df_gene = pd.read_csv('F:/TM-1_leaf_3D-genome/RNA_Seq/bias/all_bias_expression.txt', sep='\\t')\n",
    "df_loop_anchors = pd.read_csv('F:/TM-1_leaf_3D-genome/HiC/loop/intra_loopanchors_10_0005_bin.txt', sep='\\t', names = ['chr', 'start', 'end'])\n",
    "df_gene['at_s'] = df_gene['Start_at'] - 3000\n",
    "df_gene['at_e'] = df_gene['End_at'] + 500\n",
    "df_gene['dt_s'] = df_gene['Start_dt'] - 3000\n",
    "df_gene['dt_e'] = df_gene['End_dt'] + 500\n",
    "for index, row in df_gene.iterrows():\n",
    "    chr_at, start_at, end_at, chr_dt, start_dt, end_dt = row['Chr_at'], row['at_s'], row['at_e'], row['Chr_dt'], row['dt_s'], row['dt_e']\n",
    "    #print(chr_at, start_at, end_at)\n",
    "    loop_anchors_number_at = df_loop_anchors.query('chr==@chr_at & start <= @end_at & end >= @start_at').shape[0]\n",
    "    #print(df_loop_anchors.query('chr==@chr_at & start <= @end_at & end >= @start_at'))\n",
    "    #print(loop_anchors_number_at)\n",
    "    loop_anchors_number_dt = df_loop_anchors.query('chr==@chr_dt & start <= @end_dt & end >= @start_dt').shape[0]\n",
    "    df_gene.loc[index, 'at_anchor'] = loop_anchors_number_at\n",
    "    df_gene.loc[index, 'dt_anchor'] = loop_anchors_number_dt\n",
    "df_gene['At_Dt_anchor'] = df_gene['at_anchor'] - df_gene['dt_anchor']\n",
    "df_bias = df_gene.query(\"(Bias=='biasA' & At_Dt_anchor>0) | (Bias=='biasD' & At_Dt_anchor<0)\").copy()\n",
    "df_bias.to_csv('F:/TM-1_leaf_3D-genome/RNA_Seq/bias/loop/gene_bias_loop_bias.txt', sep='\\t', index=False)\n"
   ]
  },
  {
   "cell_type": "code",
   "execution_count": 4,
   "metadata": {},
   "outputs": [],
   "source": [
    "## 分析bias基因同时满足loop 差异的同源基因对在chip修饰水平上的差异\n",
    "import pandas as pd\n",
    "df = pd.read_csv('F:/TM-1_leaf_3D-genome/RNA_Seq/bias/loop/gene_loop_bias_tags.txt', sep='\\t')\n",
    "df_h3k4me3 = pd.read_csv('F:/TM-1_leaf_3D-genome/ChIP/peaks/TM1_H3K4me3_Rep3_peaks.narrowPeak', sep='\\t', names=['chr', 'start', 'end'])\n",
    "df_h3k27ac = pd.read_csv('F:/TM-1_leaf_3D-genome/ChIP/peaks/TM1_H3K27ac_Rep1_peaks.narrowPeak', sep='\\t', names=['chr', 'start', 'end'])\n",
    "#df_h3k27ac = pd.read_csv('F:/TM-1_leaf_3D-genome/ChIP/peaks/TM1_H3K9ac_Rep1_peaks.narrowPeak', sep='\\t', names=['chr', 'start', 'end'])\n",
    "## h3k4me3\n",
    "for index, row in df.iterrows():\n",
    "    at_c, at_s, at_e = row['Chr_at'], row['at_s'], row['at_e']\n",
    "    dt_c, dt_s, dt_e = row['Chr_dt'], row['dt_s'], row['dt_e']\n",
    "    df_at_tmp = df_h3k4me3.query(\"chr==@at_c & start <= @at_e & end >= @at_s\")\n",
    "    df_dt_tmp = df_h3k4me3.query(\"chr==@dt_c & start <= @dt_e & end >= @dt_s\")\n",
    "    if df_at_tmp.shape[0]:\n",
    "        df.loc[index, 'at_k4me3'] = 'Y'\n",
    "    else:\n",
    "        df.loc[index, 'at_k4me3'] = 'N'\n",
    "    if df_dt_tmp.shape[0]:\n",
    "        df.loc[index, 'dt_k4me3']  = 'Y'\n",
    "    else:\n",
    "        df.loc[index, 'dt_k4me3'] = 'N'\n",
    "## h3k27ac\n",
    "for index, row in df.iterrows():\n",
    "    at_c, at_s, at_e = row['Chr_at'], row['at_s'], row['at_e']\n",
    "    dt_c, dt_s, dt_e = row['Chr_dt'], row['dt_s'], row['dt_e']\n",
    "    df_at_tmp = df_h3k27ac.query(\"chr==@at_c & start <= @at_e & end >= @at_s\")\n",
    "    df_dt_tmp = df_h3k27ac.query(\"chr==@dt_c & start <= @dt_e & end >= @dt_s\")\n",
    "    if df_at_tmp.shape[0]:\n",
    "        df.loc[index, 'at_k27ac'] = 'Y'\n",
    "    else:\n",
    "        df.loc[index, 'at_k27ac'] = 'N'\n",
    "    if df_dt_tmp.shape[0]:\n",
    "        df.loc[index, 'dt_k27ac']  = 'Y'\n",
    "    else:\n",
    "        df.loc[index, 'dt_k27ac'] = 'N'\n",
    "## h3k9me2\n",
    "df.to_csv(\"F:/TM-1_leaf_3D-genome/RNA_Seq/bias/chip/bias_gene_loop_H3k4me3_H3k27ac.txt\", sep='\\t', index=False)"
   ]
  },
  {
   "cell_type": "code",
   "execution_count": 10,
   "metadata": {},
   "outputs": [],
   "source": [
    "## 筛选符合要求的同源基因对，符合要求指，BiasA，At的loop更多，同时At有H3K4me3和H3K27ac的修饰\n",
    "import pandas as pd\n",
    "df = pd.read_csv('F:/TM-1_leaf_3D-genome/RNA_Seq/bias/chip/bias_gene_loop_H3k4me3_H3k27ac.txt', sep='\\t')\n",
    "df_out = df.query(\"(At_Dt_anchor<0 & dt_k27ac =='Y' & dt_k4me3=='Y' & at_k27ac=='N' & at_k4me3=='N')| (At_Dt_anchor>0 & at_k27ac =='Y' & at_k4me3=='Y' & dt_k27ac =='N' & dt_k4me3=='N')\")\n",
    "df_out.to_csv('F:/TM-1_leaf_3D-genome/RNA_Seq/bias/chip/bias_gene_loop_H3k4me3_H3k27ac_needed.txt', sep='\\t', index=False)"
   ]
  },
  {
   "cell_type": "code",
   "execution_count": 15,
   "metadata": {},
   "outputs": [],
   "source": [
    "## 将所有符合要求的同源基因对，写成能够作图的样子，并作图\n",
    "import pandas as pd\n",
    "df = pd.read_csv('F:/TM-1_leaf_3D-genome/RNA_Seq/bias/chip/bias_gene_loop_H3k4me3_H3k27ac_needed.txt', sep='\\t')\n",
    "fp = open(\"F:/TM-1_leaf_3D-genome/RNA_Seq/bias/chip/figure/plot_all_homo_gene.sh\", 'w')\n",
    "for index, row in df.iterrows():\n",
    "    at_chr, dt_chr, at_s, at_e, dt_s, dt_e, at_id = row['Chr_at'], row['Chr_dt'], row['at_s'], row['at_e'], row['dt_s'], row['dt_e'], row['Geneid_at']\n",
    "    at_s, at_e, dt_s, dt_e = at_s - 100000, at_e + 100000, dt_s - 100000, dt_e + 100000\n",
    "    #line_at = \"bsub -q high -e %J.err -o %J.out -R span[hosts=1] -J {3} 'pyGenomeTracks --tracks loop.ini --region {0}:{1}-{2} -o figure/{3}_at.pdf'\".format(at_chr, at_s, at_e, at_id)\n",
    "    #line_dt = \"bsub -q high -e %J.err -o %J.out -R span[hosts=1] -J {3} 'pyGenomeTracks --tracks loop.ini --region {0}:{1}-{2} -o figure/{3}_dt.pdf'\".format(dt_chr, dt_s, dt_e, at_id)\n",
    "    line_at = \"bsub -q high -e %J.err -o %J.out -R span[hosts=1] -J {3} 'sh plot_loop.sh {0} {1} {2} figure/{3}_at.pdf'\".format(at_chr, at_s, at_e, at_id)\n",
    "    line_dt = \"bsub -q high -e %J.err -o %J.out -R span[hosts=1] -J {3} 'sh plot_loop.sh {0} {1} {2} figure/{3}_dt.pdf'\".format(dt_chr, dt_s, dt_e, at_id)\n",
    "    print(line_at, file = fp)\n",
    "    print(line_dt, file = fp)\n",
    "fp.close()\n"
   ]
  },
  {
   "cell_type": "code",
   "execution_count": 16,
   "metadata": {},
   "outputs": [
    {
     "name": "stdout",
     "output_type": "stream",
     "text": [
      "             c1       s1       e1        c2       s2       e2\n",
      "11012  Ghir_A03  4100000  4105000  Ghir_A03  4160000  4165000\n",
      "11028  Ghir_A03  4160000  4165000  Ghir_A03  4225000  4230000\n",
      "11029  Ghir_A03  4160000  4165000  Ghir_A03  4230000  4235000\n",
      "11030  Ghir_A03  4160000  4165000  Ghir_A03  4325000  4330000\n",
      "11031  Ghir_A03  4165000  4170000  Ghir_A03  4225000  4230000\n",
      "11032  Ghir_A03  4165000  4170000  Ghir_A03  4240000  4245000\n",
      "11033  Ghir_A03  4165000  4170000  Ghir_A03  4255000  4260000\n",
      "11034  Ghir_A03  4165000  4170000  Ghir_A03  4295000  4300000\n",
      "11035  Ghir_A03  4165000  4170000  Ghir_A03  4300000  4305000\n",
      "4100000 4330000\n",
      "            Geneid_at  Start_at   End_at        Geneid_dt  Start_dt    End_dt\n",
      "3269  Ghir_A03G002690   4096356  4100534  Ghir_D03G016310  49072934  49077153\n",
      "3270  Ghir_A03G002700   4103517  4106328  Ghir_D03G016300  49063622  49064188\n",
      "3271  Ghir_A03G002720   4161885  4165291  Ghir_D03G016280  49047132  49050437\n",
      "3272  Ghir_A03G002730   4176018  4176221  Ghir_D03G016270  48993185  48993388\n",
      "3273  Ghir_A03G002740   4178574  4178774  Ghir_D03G016260  48990865  48991065\n",
      "3274  Ghir_A03G002770   4227776  4229769  Ghir_D03G016250  48984490  48986268\n",
      "3275  Ghir_A03G002780   4230170  4233670  Ghir_D03G016240  48980617  48984063\n",
      "3276  Ghir_A03G002810   4248681  4255819  Ghir_D03G016220  48965193  48971970\n",
      "3277  Ghir_A03G002820   4277009  4278810  Ghir_D03G016210  48946953  48948125\n",
      "3278  Ghir_A03G002830   4291318  4292033  Ghir_D03G016200  48933079  48933954\n",
      "3279  Ghir_A03G002840   4304557  4315625  Ghir_D02G010440  24439097  24451584\n",
      "3280  Ghir_A03G002850   4312676  4315591  Ghir_D03G016180  48915601  48917392\n",
      "3281  Ghir_A03G002860   4320629  4327176  Ghir_D03G016170  48903824  48909549\n"
     ]
    }
   ],
   "source": [
    "## 分析At亚组和Dt亚组的同源区段（同源基因）\n",
    "import pandas as pd\n",
    "df = pd.read_csv('F:/TM-1_leaf_3D-genome/HiC/loop/intra_loop_10_0005_bin.txt', sep='\\t', names=['c1', 's1', 'e1', 'c2', 's2', 'e2'])\n",
    "chrs, start, end = 'Ghir_A03', 4158885, 4165791 ## loop example Ghir_A03G002720\n",
    "#chrs, start, end = 'Ghir_A03', 19480000, 19860000   ## TAD example\n",
    "df_result = df.query(\"(c1==@chrs & s1<=@end & e1>=@start) | (c2==@chrs & s2<=@end & e2>=@start)\")\n",
    "print(df_result)\n",
    "min_position = min(df_result[['s1', 'e1', 's2', 'e2']].min().tolist())\n",
    "max_position = max(df_result[['s1', 'e1', 's2', 'e2']].max().tolist())\n",
    "print(min_position, max_position)\n",
    "df_gene_pairs = pd.read_csv('F:/TM-1_leaf_3D-genome/RNA_Seq/all_hg_expression.txt', sep='\\t')\n",
    "genes = df_gene_pairs.query(\"Chr_at==@chrs & Start_at<=@max_position & End_at >= @min_position\")[['Geneid_at', 'Start_at', 'End_at', 'Geneid_dt', 'Start_dt', 'End_dt']]\n",
    "print(genes)"
   ]
  },
  {
   "cell_type": "code",
   "execution_count": 161,
   "metadata": {},
   "outputs": [
    {
     "name": "stdout",
     "output_type": "stream",
     "text": [
      "          tags  Chr_at\n",
      "0     Homo_chr     932\n",
      "1  NonHomo_chr     181\n"
     ]
    }
   ],
   "source": [
    "## 给同源基因打上染色体对的标签\n",
    "import pandas as pd\n",
    "import re\n",
    "import seaborn as sns\n",
    "import numpy as np\n",
    "pattern = re.compile(r'\\d+')\n",
    "df = pd.read_csv('F:/TM-1_leaf_3D-genome/RNA_Seq/bias/loop/gene_bias_loop_bias.txt', sep='\\t')\n",
    "for index, row in df.iterrows():\n",
    "    at_chr, dt_chr = row['Chr_at'], row['Chr_dt']\n",
    "    at_N, dt_N = pattern.findall(at_chr), pattern.findall(dt_chr)\n",
    "    if at_N == dt_N:\n",
    "        df.loc[index, 'tags'] = 'Homo_chr'\n",
    "    else:\n",
    "        df.loc[index, 'tags'] = 'NonHomo_chr'\n",
    "df.fillna(0, inplace=True)\n",
    "print(df.groupby('tags', as_index=False)['Chr_at'].count())\n",
    "df['log2FC'] = df['FC'].apply(np.log2)\n",
    "df.to_csv('F:/TM-1_leaf_3D-genome/RNA_Seq/bias/loop/gene_loop_bias_tags.txt', sep='\\t', index=False)"
   ]
  },
  {
   "cell_type": "code",
   "execution_count": 160,
   "metadata": {},
   "outputs": [
    {
     "name": "stdout",
     "output_type": "stream",
     "text": [
      "p-value annotation legend:\n",
      "      ns: p <= 1.00e+00\n",
      "       *: 1.00e-02 < p <= 5.00e-02\n",
      "      **: 1.00e-03 < p <= 1.00e-02\n",
      "     ***: 1.00e-04 < p <= 1.00e-03\n",
      "    ****: p <= 1.00e-04\n",
      "\n",
      "biasD_Homo_chr vs. biasD_NonHomo_chr: Mann-Whitney-Wilcoxon test two-sided, P_val:3.249e-03 U_stat=1.237e+04\n",
      "biasA_Homo_chr vs. biasA_NonHomo_chr: Mann-Whitney-Wilcoxon test two-sided, P_val:2.660e-02 U_stat=3.114e+04\n"
     ]
    },
    {
     "data": {
      "image/png": "[encoded data removed]",
      "text/plain": [
       "<Figure size 432x288 with 1 Axes>"
      ]
     },
     "metadata": {
      "needs_background": "light"
     },
     "output_type": "display_data"
    }
   ],
   "source": [
    "import matplotlib.pyplot as plt\n",
    "from statannotations.Annotator import Annotator\n",
    "plt.xlim(-15, 15)\n",
    "#plt.figure(figsize=(4,3))\n",
    "ax = sns.boxplot(x=\"Bias\", y=\"log2FC\",hue=\"tags\", data=df,order=['biasA', 'biasD'], width=0.5, notch=True)\n",
    "ax.set_ylabel(\"log2(At_FPKM/Dt_FPKM))\")\n",
    "ax.set_aspect(0.05)\n",
    "#ax = sns.violinplot(x=\"Bias\", y=\"log2FC\",hue=\"tags\", data=df)\n",
    "box_pairs = [(('biasA', 'Homo_chr'), ('biasA', 'NonHomo_chr')),\n",
    "         (('biasD', 'Homo_chr'), ('biasD', 'NonHomo_chr'))]\n",
    "annotator = Annotator(ax, pairs=box_pairs, data=df, x=\"Bias\", y=\"log2FC\", hue=\"tags\", order=['biasA', 'biasD'])\n",
    "annotator.configure(test='Mann-Whitney', text_format='star')\n",
    "annotator.apply_and_annotate()\n",
    "scatter_fig = ax.get_figure()\n",
    "scatter_fig.savefig(\"F:/TM-1_leaf_3D-genome/RNA_Seq/bias/loop/chr_homogene.pdf\")"
   ]
  },
  {
   "cell_type": "code",
   "execution_count": 68,
   "metadata": {},
   "outputs": [
    {
     "name": "stdout",
     "output_type": "stream",
     "text": [
      "p-value annotation legend:\n",
      "      ns: p <= 1.00e+00\n",
      "       *: 1.00e-02 < p <= 5.00e-02\n",
      "      **: 1.00e-03 < p <= 1.00e-02\n",
      "     ***: 1.00e-04 < p <= 1.00e-03\n",
      "    ****: p <= 1.00e-04\n",
      "\n",
      "biasD_Y vs. biasD_N: Mann-Whitney-Wilcoxon test two-sided, P_val:5.416e-02 U_stat=1.148e+04\n",
      "biasA_Y vs. biasA_N: Mann-Whitney-Wilcoxon test two-sided, P_val:1.002e-01 U_stat=3.247e+04\n"
     ]
    },
    {
     "data": {
      "text/plain": [
       "(<matplotlib.axes._subplots.AxesSubplot at 0x2ab9df0a850>,\n",
       " [<statannotations.Annotation.Annotation at 0x2ab9ce77250>,\n",
       "  <statannotations.Annotation.Annotation at 0x2ab9df0a2b0>])"
      ]
     },
     "execution_count": 68,
     "metadata": {},
     "output_type": "execute_result"
    },
    {
     "data": {
      "image/png": "[encoded data removed]",
      "text/plain": [
       "<Figure size 432x288 with 1 Axes>"
      ]
     },
     "metadata": {
      "needs_background": "light"
     },
     "output_type": "display_data"
    }
   ],
   "source": [
    "ax = sns.boxplot(x='Bias', y='At_Dt_anchor', hue=\"tags\", data=df)\n",
    "#plt.ylim(-20, 20)\n",
    "annotator = Annotator(ax, pairs=box_pairs, data=df, x=\"Bias\", y=\"At_Dt_anchor\", hue=\"tags\")\n",
    "annotator.configure(test='Mann-Whitney', text_format='star', loc='outside')\n",
    "annotator.apply_and_annotate()"
   ]
  },
  {
   "cell_type": "code",
   "execution_count": 56,
   "metadata": {},
   "outputs": [
    {
     "name": "stdout",
     "output_type": "stream",
     "text": [
      "  tags  Chr_at\n",
      "0    N    3673\n",
      "1    Y   21211\n"
     ]
    }
   ],
   "source": [
    "df = pd.read_csv('F:/TM-1_leaf_3D-genome/RNA_Seq/all_hg_expression.txt', sep='\\t')\n",
    "def YN(dataf):\n",
    "    pattern = re.compile(r'\\d+')\n",
    "    YN_data = []\n",
    "    for index, row in dataf.iterrows():\n",
    "        at_chr, dt_chr = row['Chr_at'], row['Chr_dt']\n",
    "        at_N, dt_N = pattern.findall(at_chr), pattern.findall(dt_chr)\n",
    "        if at_N == dt_N:\n",
    "            YN_data.append('Y')\n",
    "        else:\n",
    "            YN_data.append('N')\n",
    "    return YN_data\n",
    "df['tags'] = YN(df)\n",
    "print(df.groupby('tags', as_index=False)['Chr_at'].count())"
   ]
  },
  {
   "cell_type": "code",
   "execution_count": 169,
   "metadata": {},
   "outputs": [],
   "source": [
    "## 将loop转换为arcs格式\n",
    "import pandas as pd\n",
    "df_loop = pd.read_csv('F:/TM-1_leaf_3D-genome/HiC/loop/intra_loop_10_0005_bin.txt', sep='\\t', names=['chr1', 's1', 'e1', 'chr2', 's2', 'e2'])\n",
    "df_loop['c1'] = df_loop['s1'] + 2500\n",
    "df_loop['c11'] = df_loop['c1'] + 1\n",
    "df_loop['c2'] = df_loop['s2'] + 2500\n",
    "df_loop['c22'] = df_loop['c2'] + 1\n",
    "df_loop['tags'] = [1]*df_loop.shape[0]\n",
    "df_loop.to_csv('F:/TM-1_leaf_3D-genome/HiC/loop/intra_loop_10_0005_bin.arcs', sep='\\t', columns=['chr1', 'c1', 'c11', 'chr2', 'c2', 'c22', 'tags'], header=False, index=False)"
   ]
  },
  {
   "cell_type": "code",
   "execution_count": 3,
   "metadata": {},
   "outputs": [],
   "source": [
    "## 将loop 整理为前面是非基因区域，后面是基因区域格式\n",
    "import pandas as pd\n",
    "def nogene_gene(df):\n",
    "    df_intra = df.query(\"tags == 'intra' & sig == 'GN'\").copy()\n",
    "    df_result = pd.DataFrame(columns=['c', 's', 'e', 'gid', 'FPKM'])\n",
    "    for index, row in df_intra.iterrows():\n",
    "        c1, s1, e1, c2, s2, e2, gid1, gid2, fpkm1, fpkm2 = row['Chr_s'], row['S_s'], row['S_e'], row['Chr_e'], row['E_s'], row['E_e'], row['Geneid_s'], row['Geneid_e'], row['FPKM_s'], row['FPKM_e']\n",
    "        if gid1 == \"not-gene\":\n",
    "            df_result.loc[df_result.shape[0], :] = [c1, s1, e1, gid2, fpkm2]\n",
    "        else:\n",
    "            df_result.loc[df_result.shape[0], :] = [c2, s2, e2, gid1, fpkm1]\n",
    "    #print(df_result)\n",
    "    return df_result\n",
    "df = pd.read_csv('F:/TM-1_leaf_3D-genome/HiC/loop/gene_loop/all_loop_genes_interaction_tags.txt', sep='\\t')\n",
    "df_result = nogene_gene(df)\n",
    "df_result.to_csv('F:/TM-1_leaf_3D-genome/HiC/loop/gene_loop/all_nogene_genes_loop.txt', sep='\\t', index=False, header=False)  "
   ]
  },
  {
   "cell_type": "code",
   "execution_count": 17,
   "metadata": {},
   "outputs": [],
   "source": [
    "## 给非编码区打上chip的标签\n",
    "import pandas as pd\n",
    "def peaks_expansion(df, size):\n",
    "    df['s2'] = df['s'] - size\n",
    "    df['e2'] = df['e'] + size\n",
    "    df_result = df[['c', 's2', 'e2', 'tags']].copy()\n",
    "    df_result.columns = ['c', 's', 'e', 'tags']\n",
    "    return df_result\n",
    "def peaks_id(df):\n",
    "    all_peaks = []\n",
    "    for index, row in df.iterrows():\n",
    "        peaks     = row['tags'].split('_')\n",
    "        all_peaks = all_peaks + peaks\n",
    "    result_peaks = \"_\".join(sorted(list(set(all_peaks)))) \n",
    "    #print(result_peaks) \n",
    "    return result_peaks \n",
    "def nogene_peaks(df_nogene, df_peaks):\n",
    "    df_result = pd.DataFrame(columns = ['c', 's', 'e', 'gid', 'fpkm', 'peaks'])\n",
    "    chrs = ['Ghir_A01', 'Ghir_A02', 'Ghir_A03', 'Ghir_A04', 'Ghir_A05', 'Ghir_A06', 'Ghir_A07', 'Ghir_A08', 'Ghir_A09', 'Ghir_A10', 'Ghir_A11', 'Ghir_A12', 'Ghir_A13', 'Ghir_D01', 'Ghir_D02', 'Ghir_D03', 'Ghir_D04', 'Ghir_D05', 'Ghir_D06', 'Ghir_D07', 'Ghir_D08', 'Ghir_D09', 'Ghir_D10', 'Ghir_D11', 'Ghir_D12', 'Ghir_D13']\n",
    "    for cs in chrs:\n",
    "        df_nogene_chr = df_nogene.query('c == @cs').copy()\n",
    "        df_peaks_chr  = df_peaks.query('c == @cs').copy()\n",
    "        for index, row in df_nogene_chr.iterrows():\n",
    "            c, s, e, gid, fpkm = row['c'], row['s'], row['e'], row['gid'], row['fpkm']\n",
    "            df_tmp = df_peaks_chr.query('c == @c & s <= @e & e >= @e')\n",
    "            if df_tmp.shape[0] > 0:\n",
    "                peaks_tag = peaks_id(df_tmp)\n",
    "                #print(peaks_tag)\n",
    "                #print(df_tmp)\n",
    "                #print([c, s, e, gid, fpkm, peaks_tag])\n",
    "                df_result.loc[df_result.shape[0], :] = [c, s, e, gid, fpkm, peaks_tag]\n",
    "            else:\n",
    "                df_result.loc[df_result.shape[0], :] = [c, s, e, gid, fpkm, \"non_peaks\"]\n",
    "    return df_result\n",
    "#df_nogene = pd.read_csv('F:/TM-1_leaf_3D-genome/HiC/loop/gene_loop/all_nogene_genes_loop.txt', sep='\\t', names = ['c', 's', 'e', 'gid', 'fpkm']) \n",
    "df_nogene = pd.read_csv('F:/TM-1_leaf_3D-genome/HiC/loop/gene_loop_new/all_nogene_genes_loop.txt', sep='\\t', names = ['c', 's', 'e', 'gid', 'fpkm']) \n",
    "df_peaks = pd.read_csv('F:/TM-1_leaf_3D-genome/ChIP/peaks/all_peaks_enhancer.txt', sep='\\t', names=['c', 's', 'e', 'tags'])\n",
    "#!* peaks 左右扩张2kb\n",
    "df_peaks_2k = peaks_expansion(df_peaks, 2000) \n",
    "#df_result = nogene_peaks(df_nogene, df_peaks)\n",
    "df_result = nogene_peaks(df_nogene, df_peaks_2k)\n",
    "#print(df_result)\n",
    "## 修改列标签\n",
    "df_need = df_result.query(\"peaks != 'non_peaks'\").copy()\n",
    "df_need['tags'] = df_need['peaks'].apply(lambda x: \"atac_active\" if (\"atac\" in x and \"k27me3\" not in x) else ( \"atac_inactive\" if (\"atac\" in x and \"k27me3\" in x) else (\"active\" if (\"atac\" not in x and \"k27me3\" not in x) else \"inactive\")))\n",
    "#df_need['tags'] = df_need['peaks'].apply(lambda x: \"atac_inactive\" if (x == \"atac_k27me3\") else ( \"atac_active\" if (\"atac\" in x and \"k27me3\" not in x) else (\"inactive\" if (x == \"k27me3\" ) else \"active\")))\n",
    "#df_need.to_csv('F:/TM-1_leaf_3D-genome/ChIP/peaks/gene_enhancer_regulation_promoter.txt', sep='\\t', index=False)\n",
    "df_need.to_csv('F:/TM-1_leaf_3D-genome/ChIP/peaks/gene_enhancer_regulation_promoter_2k.txt', sep='\\t', index=False)"
   ]
  },
  {
   "cell_type": "code",
   "execution_count": 18,
   "metadata": {},
   "outputs": [
    {
     "name": "stdout",
     "output_type": "stream",
     "text": [
      "                  c     s     e   gid  fpkm  peaks\n",
      "tags                                              \n",
      "active          930   930   930   930   930    930\n",
      "atac_active    2397  2397  2397  2397  2397   2397\n",
      "atac_inactive   806   806   806   806   806    806\n",
      "inactive       4259  4259  4259  4259  4259   4259\n"
     ]
    }
   ],
   "source": [
    "print(df_need.groupby(by=['tags']).count())"
   ]
  },
  {
   "cell_type": "code",
   "execution_count": 19,
   "metadata": {},
   "outputs": [],
   "source": [
    "## 分析同源基因对之间在非基因区域 loop修饰情况的差异\n",
    "import pandas as pd\n",
    "df_loop = pd.read_csv(\"F:/TM-1_leaf_3D-genome/ChIP/peaks/gene_enhancer_regulation_promoter_2k.txt\", sep=\"\\t\")\n",
    "df_hg = pd.read_csv(\"F:/TM-1_leaf_3D-genome/RNA_Seq/all_homo_gene_pairs_position.txt\", sep=\"\\t\")\n",
    "for index, row in df_hg.iterrows():\n",
    "    at_gid, dt_gid = row['geneid_at'], row['geneid_dt']\n",
    "    df_tmp_at = df_loop.query(\"gid == @at_gid\")\n",
    "    df_tmp_dt = df_loop.query(\"gid == @dt_gid\")\n",
    "    if df_tmp_at.shape[0]:\n",
    "        df_hg.loc[index, \"at_tags\"] = df_tmp_at['peaks'].tolist()[0]\n",
    "    else:\n",
    "        df_hg.loc[index, \"at_tags\"] = 'zero'\n",
    "    if df_tmp_dt.shape[0]:\n",
    "        df_hg.loc[index, \"dt_tags\"] = df_tmp_dt['peaks'].tolist()[0]\n",
    "    else:\n",
    "        df_hg.loc[index, \"dt_tags\"] = 'zero'\n",
    "df_result = df_hg.query(\"~(at_tags=='zero'|dt_tags=='zero')\")\n",
    "df_result.to_csv('F:/TM-1_leaf_3D-genome/ChIP/peaks/hg_nogeneregion_peaks_2k.txt', sep='\\t', index = False)"
   ]
  },
  {
   "cell_type": "code",
   "execution_count": 20,
   "metadata": {},
   "outputs": [],
   "source": [
    "## 分析这些具有chip peaks 修饰的基因 能发生bias的基因数目\n",
    "df_loop = pd.read_csv('F:/TM-1_leaf_3D-genome/ChIP/peaks/hg_nogeneregion_peaks_2k.txt', sep=\"\\t\")\n",
    "df_gene = pd.read_csv('F:/TM-1_leaf_3D-genome/RNA_Seq/bias/all_bias_expression.txt', sep=\"\\t\")\n",
    "df_gene_pairs = df_gene[['Geneid_at', 'Geneid_dt', 'FPKM_at', 'FPKM_dt', 'Bias']]\n",
    "df_gene_pairs.columns = ['geneid_at', 'geneid_dt', 'fpkm_at', 'fpkm_dt', 'bias']\n",
    "df_result = pd.merge(df_loop, df_gene_pairs, how='inner', on=['geneid_at', 'geneid_dt'])\n",
    "df_result.to_csv(\"F:/TM-1_leaf_3D-genome/ChIP/peaks/hg_nogeneregion_peaks_2k_bias.txt\", sep='\\t', index=False)"
   ]
  },
  {
   "cell_type": "code",
   "execution_count": 35,
   "metadata": {},
   "outputs": [],
   "source": [
    "#print(df_result.columns)\n",
    "df_active_inactive = df_result.query(\"(at_tags=='k27me3' & ~dt_tags.str.contains('k27me3') & bias=='biasD') | (dt_tags=='k27me3' & ~at_tags.str.contains('k27me3') & bias=='biasA')\", engine='python')\n",
    "#print(df_active_inactive)\n",
    "df_active_inactive.to_csv('F:/TM-1_leaf_3D-genome/ChIP/peaks/hg_nogeneregion_peaks_2k_bias_t.txt', sep='\\t',index=False)"
   ]
  },
  {
   "cell_type": "code",
   "execution_count": 41,
   "metadata": {},
   "outputs": [],
   "source": [
    "## 生成能够作图的配置文件\n",
    "import pandas as pd\n",
    "df = pd.read_csv('F:/TM-1_leaf_3D-genome/ChIP/peaks/hg_nogeneregion_peaks_2k_bias_t.txt', sep='\\t')\n",
    "fp = open(\"F:/TM-1_leaf_3D-genome/ChIP/peaks/plot_peaks_example.txt\", 'w')\n",
    "for index, row in df.iterrows():\n",
    "    gid, c1, s1, e1, c2, s2, e2 = row['geneid_at'], row['chr_at'], row['start_at']-200000, row['end_at']+200000, row['chr_dt'], row['start_dt']-200000, row['end_dt']+200000\n",
    "    #line_at = \"sh plot_loop.sh {0} {1} {2} {3}_at.pdf\".format(c1, s1, e1, gid)\n",
    "    #line_dt = \"sh plot_loop.sh {0} {1} {2} {3}_dt.pdf\".format(c2, s2, e2, gid)\n",
    "    line_at = \"bsub -q q2680v2 -e %J.err -o %J.out -R span[hosts=1] -J plot 'pyGenomeTracks --tracks loop.ini --region {0}:{1}-{2} -o peaks_figure/{3}_at.pdf'\".format(c1, s1, e1, gid)\n",
    "    line_dt = \"bsub -q q2680v2 -e %J.err -o %J.out -R span[hosts=1] -J plot 'pyGenomeTracks --tracks loop.ini --region {0}:{1}-{2} -o peaks_figure/{3}_dt.pdf'\".format(c2, s2, e2, gid)\n",
    "    print(line_at, file=fp)\n",
    "    print(line_dt, file=fp)\n",
    "fp.close()"
   ]
  },
  {
   "cell_type": "code",
   "execution_count": 44,
   "metadata": {},
   "outputs": [
    {
     "data": {
      "text/plain": [
       "['g++', 'LINE/line.cpp', '-o', 'LINE/line-lgsl', '-lgslcblas', '-lpthread']"
      ]
     },
     "execution_count": 44,
     "metadata": {},
     "output_type": "execute_result"
    }
   ],
   "source": [
    "compile_command = (\"g++ LINE/line.cpp -o LINE/line\" \"-lgsl -lgslcblas -lpthread\")\n",
    "compile_command.split()"
   ]
  },
  {
   "cell_type": "code",
   "execution_count": 2,
   "metadata": {},
   "outputs": [
    {
     "name": "stdout",
     "output_type": "stream",
     "text": [
      "31047 40035 121415\n"
     ]
    }
   ],
   "source": [
    "## 3K 分辨率下有多少loop 是G-G, 有多少loop是G-N，有多少loop 是N-N\n",
    "import pandas as pd\n",
    "df = pd.read_csv(\"G:/TM-1_leaf_3D-genome/HiC/loop/loop_3k/gene/all_loop_gene.txt\", sep=\"\\t\")\n",
    "df_GG = df.query(\"tags=='GG'\").copy()\n",
    "df_GN = df.query(\"tags=='GN' | tags=='NG'\").copy()\n",
    "df_NN = df.query(\"tags=='NN'\").copy()\n",
    "df_GG.drop_duplicates(keep='first', subset=['c1', 's1', 'e1', 'c2', 's2', 'e2'], inplace=True)\n",
    "df_GN.drop_duplicates(keep='first', subset=['c1', 's1', 'e1', 'c2', 's2', 'e2'], inplace=True)\n",
    "df_NN.drop_duplicates(keep='first', subset=['c1', 's1', 'e1', 'c2', 's2', 'e2'], inplace=True)\n",
    "print(df_GG.shape[0], df_GN.shape[0], df_NN.shape[0])"
   ]
  },
  {
   "cell_type": "code",
   "execution_count": 5,
   "metadata": {},
   "outputs": [
    {
     "name": "stdout",
     "output_type": "stream",
     "text": [
      "32577 49952 110418\n"
     ]
    }
   ],
   "source": [
    "## 统计分析所有loop anchors\n",
    "def loopToloopanchor(df_tmp):\n",
    "    df_anchor1 = df_tmp[['c1', 's1', 'e1']]\n",
    "    df_anchor2 = df_tmp[['c2', 's2', 'e2']]\n",
    "    df_anchor1.columns = ['c', 's', 'e']\n",
    "    df_anchor2.columns = ['c', 's', 'e']\n",
    "    df = df_anchor1.append(df_anchor2, ignore_index=True)\n",
    "    df.drop_duplicates(keep='first', inplace=True)\n",
    "    return df\n",
    "df_GG_anchor = loopToloopanchor(df_GG)\n",
    "df_GN_anchor = loopToloopanchor(df_GN)\n",
    "df_NN_anchor = loopToloopanchor(df_NN)\n",
    "print(df_GG_anchor.shape[0], df_GN_anchor.shape[0], df_NN_anchor.shape[0])\n",
    "df_GG_anchor.to_csv(\"G:/TM-1_leaf_3D-genome/HiC/loop/loop_3k/gene/all_GG_anchor.txt\", sep='\\t', index=False)\n",
    "df_GN_anchor.to_csv(\"G:/TM-1_leaf_3D-genome/HiC/loop/loop_3k/gene/all_GN_anchor.txt\", sep='\\t', index=False)\n",
    "df_NN_anchor.to_csv(\"G:/TM-1_leaf_3D-genome/HiC/loop/loop_3k/gene/all_NN_anchor.txt\", sep='\\t', index=False)\n"
   ]
  },
  {
   "cell_type": "code",
   "execution_count": 9,
   "metadata": {},
   "outputs": [
    {
     "name": "stdout",
     "output_type": "stream",
     "text": [
      "0.4587285508180618\n",
      "0.21917040358744394\n",
      "0.017270734843956602\n"
     ]
    }
   ],
   "source": [
    "## 统计分析不同类型loop的锚点位置被活性组蛋白修饰的数量，比例\n",
    "#! GG\n",
    "df_GG_H3K27ac = pd.read_csv(\"G:/TM-1_leaf_3D-genome/HiC/loop/loop_3k/gene/H3K27ac_H3K4me3/GG_anchor_H3K27ac.txt\", sep='\\t', names=['chr', 'start', 'end', 'H3K27ac_tags'])\n",
    "df_GG_H3K4me3 = pd.read_csv(\"G:/TM-1_leaf_3D-genome/HiC/loop/loop_3k/gene/H3K27ac_H3K4me3/GG_anchor_H3K4me3.txt\", sep='\\t', names=['chr', 'start', 'end', 'H3K4me3_tags'])\n",
    "df_GG_active = pd.merge(df_GG_H3K27ac, df_GG_H3K4me3, how='outer', on=['chr', 'start', 'end'])\n",
    "print(df_GG_active.shape[0]/df_GG_anchor.shape[0])\n",
    "\n",
    "#! GN\n",
    "df_GN_H3K27ac = pd.read_csv(\"G:/TM-1_leaf_3D-genome/HiC/loop/loop_3k/gene/H3K27ac_H3K4me3/GN_anchor_H3K27ac.txt\", sep='\\t', names=['chr', 'start', 'end', 'H3K27ac_tags'])\n",
    "df_GN_H3K4me3 = pd.read_csv(\"G:/TM-1_leaf_3D-genome/HiC/loop/loop_3k/gene/H3K27ac_H3K4me3/GN_anchor_H3K4me3.txt\", sep='\\t', names=['chr', 'start', 'end', 'H3K4me3_tags'])\n",
    "df_GN_active = pd.merge(df_GN_H3K27ac, df_GN_H3K4me3, how='outer', on=['chr', 'start', 'end'])\n",
    "print(df_GN_active.shape[0]/df_GN_anchor.shape[0])\n",
    "\n",
    "#! NN\n",
    "df_NN_H3K27ac = pd.read_csv(\"G:/TM-1_leaf_3D-genome/HiC/loop/loop_3k/gene/H3K27ac_H3K4me3/NN_anchor_H3K27ac.txt\", sep='\\t', names=['chr', 'start', 'end', 'H3K27ac_tags'])\n",
    "df_NN_H3K4me3 = pd.read_csv(\"G:/TM-1_leaf_3D-genome/HiC/loop/loop_3k/gene/H3K27ac_H3K4me3/NN_anchor_H3K4me3.txt\", sep='\\t', names=['chr', 'start', 'end', 'H3K4me3_tags'])\n",
    "df_NN_active = pd.merge(df_NN_H3K27ac, df_NN_H3K4me3, how='outer', on=['chr', 'start', 'end'])\n",
    "print(df_NN_active.shape[0]/df_NN_anchor.shape[0])"
   ]
  },
  {
   "cell_type": "code",
   "execution_count": 18,
   "metadata": {},
   "outputs": [
    {
     "name": "stdout",
     "output_type": "stream",
     "text": [
      "0.4656129407411323\n",
      "8808 10109\n",
      "0.22544321190388417\n",
      "6727 23112\n",
      "0.01755491159548108\n",
      "1254 70179\n",
      "0.449194729136164\n",
      "6136 7524\n",
      "0.20986426689205986\n",
      "4221 15892\n",
      "0.01675003206361421\n",
      "653 38332\n"
     ]
    }
   ],
   "source": [
    "## 分析两个亚基因组的修饰比例\n",
    "for i in ['Ghir_A', 'Ghir_D']:\n",
    "    ## GG\n",
    "    df_GG_subgenome = df_GG_anchor.query(\"c.str.contains(@i)\", engine='python')\n",
    "    df_GG_active_subgenome = df_GG_active.query(\"chr.str.contains(@i)\", engine='python')\n",
    "    print(df_GG_active_subgenome.shape[0]/df_GG_subgenome.shape[0])\n",
    "    print(df_GG_active_subgenome.shape[0], df_GG_subgenome.shape[0]-df_GG_active_subgenome.shape[0])\n",
    "    ## GN\n",
    "    df_GN_subgenome = df_GN_anchor.query(\"c.str.contains(@i)\", engine='python')\n",
    "    df_GN_active_subgenome = df_GN_active.query(\"chr.str.contains(@i)\", engine='python')\n",
    "    print(df_GN_active_subgenome.shape[0]/df_GN_subgenome.shape[0])\n",
    "    print(df_GN_active_subgenome.shape[0], df_GN_subgenome.shape[0]-df_GN_active_subgenome.shape[0])\n",
    "    ## NN\n",
    "    df_NN_subgenome = df_NN_anchor.query(\"c.str.contains(@i)\", engine='python')\n",
    "    df_NN_active_subgenome = df_NN_active.query(\"chr.str.contains(@i)\", engine='python')\n",
    "    print(df_NN_active_subgenome.shape[0]/df_NN_subgenome.shape[0])\n",
    "    print(df_NN_active_subgenome.shape[0], df_NN_subgenome.shape[0]-df_NN_active_subgenome.shape[0])\n"
   ]
  }
 ],
 "metadata": {
  "interpreter": {
   "hash": "68d7e64a8ef1e11c6d28b945075670502b4996810cedadb5f7222a36b8861f26"
  },
  "kernelspec": {
   "display_name": "Python 3.8.3 64-bit ('base': conda)",
   "language": "python",
   "name": "python3"
  },
  "language_info": {
   "codemirror_mode": {
    "name": "ipython",
    "version": 3
   },
   "file_extension": ".py",
   "mimetype": "text/x-python",
   "name": "python",
   "nbconvert_exporter": "python",
   "pygments_lexer": "ipython3",
   "version": "3.8.3"
  },
  "orig_nbformat": 4
 },
 "nbformat": 4,
 "nbformat_minor": 2
}
