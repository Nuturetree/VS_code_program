{
 "cells": [
  {
   "cell_type": "code",
   "execution_count": null,
   "metadata": {},
   "outputs": [],
   "source": [
    "## 计算同源基因对之间的P—values (T-test)\n",
    "import pandas as pd\n",
    "from scipy import stats\n",
    "#df_hg = pd.read_csv('F:/TM-1_leaf_3D-genome/RNA_Seq/Ghir_all_homo_gene_pairs.txt', sep='\\t', columns=['At', 'Dt'])\n",
    "df_heg = pd.read_csv('F:/TM-1_leaf_3D-genome/RNA_Seq/all_hg_expression.txt', sep='\\t')\n",
    "pv_list = []\n",
    "for i, r in df_heg.iterrows():\n",
    "    rep1 = r[['FPKM_at_rep1', 'FPKM_at_rep2']].copy()\n",
    "    rep2 = r[['FPKM_dt_rep1', 'FPKM_dt_rep2']].copy()\n",
    "    p_value = stats.ttest_rel(rep1, rep2)\n",
    "    pv_list.append(p_value[1])\n",
    "    #df_heg.loc[i, 'pvalue'] = p_value\n",
    "df_heg['pvalue'] = pv_list\n",
    "df_heg['pvalue'].fillna(0, inplace=True)\n",
    "df_heg.to_csv('F:/TM-1_leaf_3D-genome/RNA_Seq/bias/all_hg_expression_bias.txt', sep='\\t', index=False, columns=['Geneid_at','Chr_at', 'Start_at', 'End_at', 'Geneid_dt', 'Chr_dt', 'Start_dt', 'End_dt', 'FPKM_at', 'FPKM_dt', 'pvalue'])"
   ]
  },
  {
   "cell_type": "code",
   "execution_count": 42,
   "metadata": {},
   "outputs": [
    {
     "name": "stdout",
     "output_type": "stream",
     "text": [
      "    Bias  Geneid_at\n",
      "0  biasA       1270\n",
      "1  biasD       1616\n"
     ]
    }
   ],
   "source": [
    "## 分析同源基因表达bias |Flod change|>=2 & pvalue<= 0.05\n",
    "import pandas as pd\n",
    "df = pd.read_csv('F:/TM-1_leaf_3D-genome/RNA_Seq/bias/all_hg_expression_bias.txt', sep='\\t')\n",
    "df['FC'] = (df['FPKM_at']+0.001)/(df['FPKM_dt']+0.001)\n",
    "df_bias = df.query('(FC>=2|FC<=0.5)&pvalue<=0.05').copy()\n",
    "df_bias['Bias'] = df_bias['FC'].apply(lambda x: 'biasA' if x>=2 else 'biasD')\n",
    "df_bias.to_csv('F:/TM-1_leaf_3D-genome/RNA_Seq/bias/all_bias_expression.txt', sep='\\t', index=False)\n",
    "df_tmp = df_bias.groupby('Bias', as_index=False)['Geneid_at'].count()\n",
    "print(df_tmp)\n"
   ]
  },
  {
   "cell_type": "code",
   "execution_count": 16,
   "metadata": {},
   "outputs": [],
   "source": [
    "## 所有差异表达基因 绘制loop 互作图\n",
    "import pandas as pd\n",
    "df = pd.read_csv('F:/TM-1_leaf_3D-genome/RNA_Seq/all_hg_expression.txt', sep='\\t')\n",
    "df['diff'] = (df['FPKM_at']+0.1)/(df['FPKM_dt']+0.1)\n",
    "df_diff = df.query(\"(diff>=4 | diff<=0.25) & (FPKM_at>=1| FPKM_dt>=1) & Chr_at.str.contains('Ghir') & Chr_dt.str.contains('Ghir')\", engine='python')\n",
    "fp = open(\"F:/TM-1_leaf_3D-genome/RNA_Seq/diff_exp_gene/plot_diff_gene.sh\", 'w')\n",
    "for index, row in df_diff.iterrows():\n",
    "    if row['diff'] >= 4:\n",
    "        line_at = \"sh plot_loop.sh {0} {1} {2} diff_gene/a_{3}_{4}_at.pdf\".format(row['Chr_at'], row['Start_at']-200000, row['End_at']+200000, row['Geneid_at'], row['Geneid_dt'])\n",
    "        line_dt = \"sh plot_loop.sh {0} {1} {2} diff_gene/a_{3}_{4}_dt.pdf\".format(row['Chr_dt'], row['Start_dt']-200000, row['End_dt']+200000, row['Geneid_at'], row['Geneid_dt'])\n",
    "    else:\n",
    "        line_at = \"sh plot_loop.sh {0} {1} {2} diff_gene/d_{3}_{4}_at.pdf\".format(row['Chr_at'], row['Start_at']-200000, row['End_at']+200000, row['Geneid_at'], row['Geneid_dt'])\n",
    "        line_dt = \"sh plot_loop.sh {0} {1} {2} diff_gene/d_{3}_{4}_dt.pdf\".format(row['Chr_dt'], row['Start_dt']-200000, row['End_dt']+200000, row['Geneid_at'], row['Geneid_dt'])\n",
    "    print(line_at, file=fp)\n",
    "    print(line_dt, file=fp)\n",
    "fp.close()\n"
   ]
  },
  {
   "cell_type": "code",
   "execution_count": 5,
   "metadata": {},
   "outputs": [],
   "source": [
    "### 分析同源基因在TAD 上的分布差异\n",
    "import pandas as pd\n",
    "df_hg_position = pd.read_csv(\"F:/TM-1_leaf_3D-genome/RNA_Seq/all_homo_gene_position.txt\", sep=\"\\t\", names=['c', 's', 'e', 'GeneId'])\n",
    "df_TAD = pd.read_csv(\"F:/TM-1_leaf_3D-genome/HiC/TAD/TADLib/TM-1_TADLib_tad_20K_2M_choosed.bed\", sep=\"\\t\", names=['c', 's', 'e', 'order'])\n",
    "all_chrs = ['Ghir_A01', 'Ghir_A02', 'Ghir_A03', 'Ghir_A04', 'Ghir_A05', 'Ghir_A06', 'Ghir_A07', 'Ghir_A08', 'Ghir_A09', 'Ghir_A10', 'Ghir_A11', 'Ghir_A12', 'Ghir_A13', 'Ghir_D01', 'Ghir_D02', 'Ghir_D03', 'Ghir_D04', 'Ghir_D05', 'Ghir_D06', 'Ghir_D07', 'Ghir_D08', 'Ghir_D09', 'Ghir_D10', 'Ghir_D11', 'Ghir_D12', 'Ghir_D13']\n",
    "df_tmp = pd.DataFrame()\n",
    "for c in all_chrs:\n",
    "    df_hg_chr = df_hg_position.query(\"c==@c\").copy()\n",
    "    df_tad_chr = df_TAD.query(\"c==@c\").copy()\n",
    "    for index, row in df_tad_chr.iterrows():\n",
    "        s, e = row['s'], row['e']\n",
    "        start1, end1 = s, s+40000\n",
    "        start2, end2 = e-40000, e\n",
    "        start3, end3 = s+40000, e-40000\n",
    "        #print(start1, end1, start2, end2, start3, end3)\n",
    "        df_tmp1 = df_hg_chr.query(\"s<=@end1 & e>=@start1\")[['c', 's', 'e', 'GeneId']].copy()\n",
    "        df_tmp2 = df_hg_chr.query(\"s<=@end2 & e>=@start2\")[['c', 's', 'e', 'GeneId']].copy()\n",
    "        df_tmp3 = df_hg_chr.query(\"s<=@end3 & e>=@start3\")[['c', 's', 'e', 'GeneId']].copy()\n",
    "        #print(df_tmp1)\n",
    "        #print(df_tmp2)\n",
    "        #print(df_tmp3)\n",
    "        df_tmp1['tags'] = ['boundary']*df_tmp1.shape[0]\n",
    "        df_tmp2['tags'] = ['boundary']*df_tmp2.shape[0]\n",
    "        df_tmp3['tags'] = ['center']*df_tmp3.shape[0]\n",
    "        df_tmp = df_tmp.append([df_tmp1, df_tmp2, df_tmp3], ignore_index=True)\n",
    "df_hg_pair = pd.read_csv(\"F:/TM-1_leaf_3D-genome/RNA_Seq/all_homo_gene_pairs_position.txt\", sep=\"\\t\")\n",
    "df_tmp.drop_duplicates(keep='first', subset=['c', 's', 'e', 'GeneId'], inplace=True)\n",
    "df_tmp_at = df_tmp.query(\"c.str.contains('Ghir_A')\", engine=\"python\").copy()\n",
    "df_tmp_dt = df_tmp.query(\"c.str.contains('Ghir_D')\", engine=\"python\").copy()\n",
    "df_tmp_at.columns = ['chr_at', 'start_at', 'end_at', 'geneid_at', 'tags_at']\n",
    "df_tmp_dt.columns = ['chr_dt', 'start_dt', 'end_dt', 'geneid_dt', 'tags_dt']\n",
    "df_one = pd.merge(df_hg_pair, df_tmp_at, how='outer', on=['chr_at', 'start_at', 'end_at', 'geneid_at'])\n",
    "df_result = pd.merge(df_one, df_tmp_dt, how='outer', on=['chr_dt', 'start_dt', 'end_dt', 'geneid_dt'])\n",
    "df_result.to_csv(\"F:/TM-1_leaf_3D-genome/HiC/TAD/TADLib/gene_position/hg_TAD_position.txt\", sep='\\t', index=False)\n",
    "\n"
   ]
  },
  {
   "cell_type": "code",
   "execution_count": 3,
   "metadata": {},
   "outputs": [],
   "source": [
    "df_result = pd.merge(df_one, df_tmp_dt, how='outer', on=['chr_dt', 'start_dt', 'end_dt', 'geneid_dt'])\n",
    "df_result.to_csv(\"F:/TM-1_leaf_3D-genome/HiC/TAD/TADLib/gene_position/hg_TAD_position.txt\", sep='\\t', index=False)"
   ]
  },
  {
   "cell_type": "code",
   "execution_count": 6,
   "metadata": {},
   "outputs": [
    {
     "name": "stdout",
     "output_type": "stream",
     "text": [
      "9115\n"
     ]
    }
   ],
   "source": [
    "df_result.dropna(inplace=True)\n",
    "df_boundary_center = df_result.query(\"tags_at!=tags_dt\")\n",
    "print(df_boundary_center.shape[0])"
   ]
  },
  {
   "cell_type": "code",
   "execution_count": 8,
   "metadata": {},
   "outputs": [
    {
     "name": "stdout",
     "output_type": "stream",
     "text": [
      "1088\n"
     ]
    }
   ],
   "source": [
    "## 分析有多少差异表达基因 位于TAD boundary和TAD center 位置\n",
    "\n",
    "df_gene_bias = pd.read_csv(\"F:/TM-1_leaf_3D-genome/RNA_Seq/bias/all_bias_expression.txt\", sep='\\t')\n",
    "df_gene_bias_id = df_gene_bias[['Geneid_at', 'Geneid_dt']]\n",
    "df_gene_bias_id.columns = ['geneid_at', 'geneid_dt']\n",
    "df_boundary_center_id = df_boundary_center[['geneid_at', 'geneid_dt']]\n",
    "df_diff_TAD_diff_gene = pd.merge(df_boundary_center_id, df_gene_bias_id, how='inner')\n",
    "print(df_diff_TAD_diff_gene.shape[0])"
   ]
  }
 ],
 "metadata": {
  "interpreter": {
   "hash": "68d7e64a8ef1e11c6d28b945075670502b4996810cedadb5f7222a36b8861f26"
  },
  "kernelspec": {
   "display_name": "Python 3.8.3 64-bit ('base': conda)",
   "language": "python",
   "name": "python3"
  },
  "language_info": {
   "codemirror_mode": {
    "name": "ipython",
    "version": 3
   },
   "file_extension": ".py",
   "mimetype": "text/x-python",
   "name": "python",
   "nbconvert_exporter": "python",
   "pygments_lexer": "ipython3",
   "version": "3.7.6"
  },
  "orig_nbformat": 4
 },
 "nbformat": 4,
 "nbformat_minor": 2
}
