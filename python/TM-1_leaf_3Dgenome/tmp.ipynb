{
 "cells": [
  {
   "cell_type": "code",
   "execution_count": 5,
   "metadata": {},
   "outputs": [],
   "source": [
    "## 选择A10 染色体互作TAD 互作 cliques\n",
    "import pandas as pd\n",
    "df = pd.read_csv('F:/TM-1_leaf_3D-genome/Pore-C/TAD/TAD_cliques/Pore_C_TAD_50_005_node.txt', sep='\\t', names=['source', 'target', 'weight'])\n",
    "df_chr5 = df.query(\"source.str.contains('D01')\", engine='python')\n",
    "df_chr5.to_csv(\"F:/TM-1_leaf_3D-genome/Pore-C/TAD/TAD_cliques/Pore_C_TAD_50_005_node_D01.txt\", sep='\\t', index=False)"
   ]
  },
  {
   "cell_type": "code",
   "execution_count": 6,
   "metadata": {},
   "outputs": [],
   "source": [
    "import pandas as pd\n",
    "df = pd.read_csv('F:/TM-1_leaf_3D-genome/HiC/TAD/Cliques/method2/TM1_leaf_TAD_node.txt', sep='\\t', names=['source', 'target', 'weight'])\n",
    "df_chr5 = df.query(\"source.str.contains('D01')\", engine='python')\n",
    "df_chr5.to_csv(\"F:/TM-1_leaf_3D-genome/HiC/TAD/Cliques/method2/TM1_leaf_TAD_node_D01.txt\", sep='\\t', index=False)"
   ]
  },
  {
   "cell_type": "code",
   "execution_count": 10,
   "metadata": {},
   "outputs": [],
   "source": [
    "## 选择A10 compartment 的pca1 值\n",
    "# import pandas as pd\n",
    "# df = pd.read_csv('F:/TM-1_leaf_3D-genome/Pore-C/cpt/pac1_HiC_pore-c_normalization.txt', sep='\\t')\n",
    "# df_chr10 = df.query(\"c.str.contains('A10')\", engine='python')\n",
    "# df_chr10.to_csv(\"F:/TM-1_leaf_3D-genome/Pore-C/cpt/pca1_hic_pore-c_normalization_A10.txt\", sep='\\t', index=False)'\n",
    "\n",
    "import pandas as pd\n",
    "df = pd.read_csv('F:/TM-1_leaf_3D-genome/Pore-C/cpt/pac1_HiC_pore-c.txt', sep='\\t')\n",
    "df_chr10 = df.query(\"c.str.contains('A10')\", engine='python')\n",
    "df_chr10.to_csv(\"F:/TM-1_leaf_3D-genome/Pore-C/cpt/pca1_hic_pore-c_A10.txt\", sep='\\t', index=False)"
   ]
  },
  {
   "cell_type": "code",
   "execution_count": 12,
   "metadata": {},
   "outputs": [],
   "source": [
    "## 选择A04 insolution score 的值\n",
    "import pandas as pd\n",
    "df = pd.read_csv('F:/TM-1_leaf_3D-genome/Pore-C/TAD/is_relevance/is_hic_porec.bed', sep='\\t')\n",
    "df_chr04 = df.query(\"c.str.contains('A04')\", engine='python')\n",
    "df_chr04.to_csv(\"F:/TM-1_leaf_3D-genome/Pore-C/TAD/is_relevance/is_hic_porec_A04.bed\", sep='\\t',index=False)"
   ]
  },
  {
   "cell_type": "code",
   "execution_count": null,
   "metadata": {},
   "outputs": [],
   "source": [
    "import pandas as pd\n",
    "import sys\n",
    "input_f = sys.argv[1]\n",
    "output_f = sys.argv[2]\n",
    "df = pd.read.csv(input_f, sep=\"\\t\", names=['c', 's', 'e'])\n",
    "df_out = df.groupby(by=['c', 's'], as_index=False)['e'].agg(\"sum\")\n",
    "df_out.to_csv(output_f, sep=\"\\t\", index=False, header=False)"
   ]
  },
  {
   "cell_type": "code",
   "execution_count": 26,
   "metadata": {},
   "outputs": [],
   "source": [
    "## 数据格式转换\n",
    "import pandas as pd\n",
    "names = 'F:/Multip_species_3Dgenome/Hi-C/eqtl_loop/Chr05_example/juicebox/J85_4DPA_Chr05_90700000_90760000_loop'\n",
    "#names = 'F:/Multip_species_3Dgenome/Hi-C/eqtl_loop/Chr05_example/juicebox/J85_12DPA_Chr05_90700000_90760000_loop'\n",
    "#names = 'F:/Multip_species_3Dgenome/Hi-C/eqtl_loop/Chr05_example/juicebox/J85_20DPA_Chr05_90700000_90760000_loop'\n",
    "#names = 'F:/Multip_species_3Dgenome/Hi-C/eqtl_loop/Chr05_example/juicebox/J98_4DPA_Chr05_90700000_90760000_loop'\n",
    "#names = 'F:/Multip_species_3Dgenome/Hi-C/eqtl_loop/Chr05_example/juicebox/J98_12DPA_Chr05_90700000_90760000_loop'\n",
    "#names = 'F:/Multip_species_3Dgenome/Hi-C/eqtl_loop/Chr05_example/juicebox/J98_20DPA_Chr05_90700000_90760000_loop'\n",
    "\n",
    "input_f = names + \".arcs\"\n",
    "output_f = names + \".bedpe\"\n",
    "df = pd.read_csv(input_f, sep = \"\\t\", names = ['c1', 's1', 'e1', 'c2', 's2', 'e2', 't'])\n",
    "df['z1'] = df['s1'] - 2500\n",
    "df['k1'] = df['s1'] + 2500\n",
    "df['z2'] = df['s2'] - 2500\n",
    "df['k2'] = df['s2'] + 2500\n",
    "df['one'] = ['.']*df.shape[0]\n",
    "df['two'] = ['.']*df.shape[0]\n",
    "df['three'] = ['.']*df.shape[0]\n",
    "df['four'] = ['.']*df.shape[0]\n",
    "df['five'] = ['255,255,170']*df.shape[0]\n",
    "df_out = df[['c1','z1','k1','c2','z2','k2','one','two','three','four', 'five']].copy()\n",
    "df_tmp = pd.DataFrame([{'c1':'Chr05', 'z1':'90700000', 'k1':'90760000','c2':'Chr05', 'z2':'90700000', 'k2':'90760000', 'one': '.', 'two':'.', 'three':'.', 'four': '.', 'five':'255,255,170'}])\n",
    "df_out = df_out.append(df_tmp, ignore_index=True)\n",
    "#df_out.iloc[df_out.shape[0]] = ['Chr05', '90700000', '90760000', 'Chr05', '90700000', '90760000', '.', '.', '.', '255,126,170']\n",
    "df_out.to_csv(output_f, sep='\\t',index=False)\n"
   ]
  },
  {
   "cell_type": "code",
   "execution_count": 54,
   "metadata": {},
   "outputs": [
    {
     "data": {
      "image/png": "[encoded data removed]",
      "text/plain": [
       "<Figure size 576x288 with 1 Axes>"
      ]
     },
     "metadata": {
      "needs_background": "light"
     },
     "output_type": "display_data"
    }
   ],
   "source": [
    "import pandas as pd\n",
    "import numpy as np\n",
    "import matplotlib.pyplot as plt\n",
    "fig = plt.figure(figsize=[8,4])\n",
    "#ax = fig.add_subplot(121)\n",
    "mu, sigma = 0, 1 # mean and standard deviation 正态分布（Normal distribution）又名高斯分布（Gaussian distribution）\n",
    "# 若随机变量X服从一个数学期望为μ、标准方差为σ2的高斯分布，记为：X∼N(μ,σ2), 正态分布的期望值μ决定了其位置，其标准差σ决定了分布的幅度。\n",
    "# 我们通常所说的标准正态分布是μ = 0,σ = 1的正态分布（见右图中绿色曲线）。\n",
    "\n",
    "\n",
    "s = np.random.normal(mu, sigma, 100000)\n",
    "abs(mu - np.mean(s)) < 0.01\n",
    "abs(sigma - np.std(s, ddof=1)) < 0.01\n",
    "\n",
    "#count, bins, ignored = plt.hist(s, 300, density=True) # hist　是　Plot a histogram.　柱状图的意思\n",
    "count, bins, ignored = plt.hist(s, 300, density=True)\n",
    "\n",
    "x = bins\n",
    "y = 1/(sigma * np.sqrt(2 * np.pi)) * np.exp( - (bins - mu)**2 / (2 * sigma**2) )\n",
    "\n",
    "c = plt.plot(x, y, linewidth=1, color='r')\n",
    "ax.add_callback(c)\n",
    "\n",
    "\n",
    "mu, sigma = 20,2 # mean and standard deviation 正态分布（Normal distribution）又名高斯分布（Gaussian distribution）\n",
    "# 若随机变量X服从一个数学期望为μ、标准方差为σ2的高斯分布，记为：X∼N(μ,σ2), 正态分布的期望值μ决定了其位置，其标准差σ决定了分布的幅度。\n",
    "# 我们通常所说的标准正态分布是μ = 0,σ = 1的正态分布（见右图中绿色曲线）。\n",
    "s = np.random.normal(mu, sigma, 100000)\n",
    "#count, bins, ignored = plt.hist(s, 300, density=True) # hist　是　Plot a histogram.　柱状图的意思\n",
    "count, bins, ignored = plt.hist(s, 300, density=True)\n",
    "x = bins\n",
    "y = 1/(sigma * np.sqrt(2 * np.pi)) * np.exp( - (bins - mu)**2 / (2 * sigma**2) )\n",
    "z = plt.plot(x, y, linewidth=1, color='r')\n",
    "ax.add_callback(z)\n",
    "\n",
    "\n",
    "mu, sigma = 35,1.2 # mean and standard deviation 正态分布（Normal distribution）又名高斯分布（Gaussian distribution）\n",
    "# 若随机变量X服从一个数学期望为μ、标准方差为σ2的高斯分布，记为：X∼N(μ,σ2), 正态分布的期望值μ决定了其位置，其标准差σ决定了分布的幅度。\n",
    "# 我们通常所说的标准正态分布是μ = 0,σ = 1的正态分布（见右图中绿色曲线）。\n",
    "s = np.random.normal(mu, sigma, 100000)\n",
    "#count, bins, ignored = plt.hist(s, 300, density=True) # hist　是　Plot a histogram.　柱状图的意思\n",
    "count, bins, ignored = plt.hist(s, 300, density=True)\n",
    "x = bins\n",
    "y = 1/(sigma * np.sqrt(2 * np.pi)) * np.exp( - (bins - mu)**2 / (2 * sigma**2) )\n",
    "h = plt.plot(x, y, linewidth=1, color='r')\n",
    "ax.add_callback(h)\n",
    "\n",
    "mu, sigma = 90,3 # mean and standard deviation 正态分布（Normal distribution）又名高斯分布（Gaussian distribution）\n",
    "# 若随机变量X服从一个数学期望为μ、标准方差为σ2的高斯分布，记为：X∼N(μ,σ2), 正态分布的期望值μ决定了其位置，其标准差σ决定了分布的幅度。\n",
    "# 我们通常所说的标准正态分布是μ = 0,σ = 1的正态分布（见右图中绿色曲线）。\n",
    "s = np.random.normal(mu, sigma, 100000)\n",
    "#count, bins, ignored = plt.hist(s, 300, density=True) # hist　是　Plot a histogram.　柱状图的意思\n",
    "count, bins, ignored = plt.hist(s, 300, density=True)\n",
    "x = bins\n",
    "y = 1/(sigma * np.sqrt(2 * np.pi)) * np.exp( - (bins - mu)**2 / (2 * sigma**2) )\n",
    "k = plt.plot(x, y, linewidth=1, color='r')\n",
    "ax.add_callback(k)\n",
    "mu, sigma = 60,1.5 # mean and standard deviation 正态分布（Normal distribution）又名高斯分布（Gaussian distribution）\n",
    "# 若随机变量X服从一个数学期望为μ、标准方差为σ2的高斯分布，记为：X∼N(μ,σ2), 正态分布的期望值μ决定了其位置，其标准差σ决定了分布的幅度。\n",
    "# 我们通常所说的标准正态分布是μ = 0,σ = 1的正态分布（见右图中绿色曲线）。\n",
    "s = np.random.normal(mu, sigma, 100000)\n",
    "#count, bins, ignored = plt.hist(s, 300, density=True) # hist　是　Plot a histogram.　柱状图的意思\n",
    "count, bins, ignored = plt.hist(s, 300, density=True)\n",
    "x = bins\n",
    "y = 1/(sigma * np.sqrt(2 * np.pi)) * np.exp( - (bins - mu)**2 / (2 * sigma**2) )\n",
    "k = plt.plot(x, y, linewidth=1, color='r')\n",
    "ax.add_callback(k)\n",
    "ax.annotate(\"\",\n",
    "            xy=(1, 0),\n",
    "            xytext=(20, 0),\n",
    "            size=20, va=\"center\", ha=\"center\",\n",
    "            arrowprops=dict(color='#373331',\n",
    "                            arrowstyle=\"simple\",\n",
    "                            connectionstyle=\"arc3,rad=0.4\",\n",
    "                            )\n",
    "            )\n",
    "plt.savefig('test.pdf')"
   ]
  },
  {
   "cell_type": "code",
   "execution_count": 2,
   "metadata": {},
   "outputs": [],
   "source": [
    "import pandas as pd\n",
    "df = pd.read_csv(\"F:\\TM-1_leaf_3D-genome\\Pore-C\\TAD\\TAD_interaction\\Pore_C_TAD_50_005_anchor.txt\", sep='\\t')\n",
    "df_a = df.query(\"chrs.str.contains('Ghir_A')\", engine=\"python\")\n",
    "df_d = df.query(\"chrs.str.contains('Ghir_D')\", engine=\"python\")\n",
    "df_a.to_csv(\"At.txt\", sep='\\t', index=False)\n",
    "df_d.to_csv(\"Dt.txt\", sep='\\t', index=False)\n",
    "\n"
   ]
  },
  {
   "cell_type": "code",
   "execution_count": 39,
   "metadata": {},
   "outputs": [
    {
     "name": "stderr",
     "output_type": "stream",
     "text": [
      "D:\\software\\anaconda3\\lib\\site-packages\\ipykernel_launcher.py:6: SettingWithCopyWarning: \n",
      "A value is trying to be set on a copy of a slice from a DataFrame\n",
      "\n",
      "See the caveats in the documentation: https://pandas.pydata.org/pandas-docs/stable/user_guide/indexing.html#returning-a-view-versus-a-copy\n",
      "  \n"
     ]
    }
   ],
   "source": [
    "## LJ\n",
    "#-*- coding: utf-8 -*-\n",
    "import pandas as pd\n",
    "df = pd.read_csv(\"F:/Lj/68763.89元 基础设施2021年下半年办公用品供货清单含办公室2022 02 11.txt\", sep='\\t', encoding=\"gbk\")\n",
    "df_2 = df[['商品名称','单位']]\n",
    "df_2.drop_duplicates(keep='first', inplace=True, subset=['商品名称'])\n",
    "df_2.to_csv(\"F:/Lj/result2.txt\", sep=\"\\t\", index=False, encoding=\"gbk\")\n",
    "#print(df['含税小计元'].sum())\n",
    "#df_group = df.groupby([\"商品名称\", \"单价\", \"含增值税单价\"], as_index=False)[\"数量\", \"含税小计元\"].sum()\n",
    "#print(df_group['含税小计元'].sum())\n",
    "#df_group.to_csv(\"F:/Lj/result.txt\", sep=\"\\t\", index=False, encoding=\"gbk\")"
   ]
  },
  {
   "cell_type": "code",
   "execution_count": 44,
   "metadata": {},
   "outputs": [],
   "source": [
    "df_result1 = pd.read_csv(\"F:/Lj/result2.txt\", sep='\\t', encoding=\"gbk\")\n",
    "df_resutl2 = pd.read_csv(\"F:/Lj/result.txt\", sep='\\t', encoding=\"gbk\")\n",
    "df = pd.merge(df_result1, df_resutl2, how='outer',on=['商品名称'])\n",
    "df.to_csv(\"F:/Lj/result3.txt\", sep='\\t', encoding='gbk')\n",
    "\n"
   ]
  }
 ],
 "metadata": {
  "interpreter": {
   "hash": "68d7e64a8ef1e11c6d28b945075670502b4996810cedadb5f7222a36b8861f26"
  },
  "kernelspec": {
   "display_name": "Python 3.8.3 ('base')",
   "language": "python",
   "name": "python3"
  },
  "language_info": {
   "codemirror_mode": {
    "name": "ipython",
    "version": 3
   },
   "file_extension": ".py",
   "mimetype": "text/x-python",
   "name": "python",
   "nbconvert_exporter": "python",
   "pygments_lexer": "ipython3",
   "version": "3.7.6"
  },
  "orig_nbformat": 4
 },
 "nbformat": 4,
 "nbformat_minor": 2
}
