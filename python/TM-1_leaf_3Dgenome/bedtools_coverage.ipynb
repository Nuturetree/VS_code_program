{
 "cells": [
  {
   "cell_type": "code",
   "execution_count": null,
   "metadata": {},
   "outputs": [],
   "source": [
    "## region tags\n",
    "class bedtools_py:\n",
    "    def __init__(self, df, df_target):\n",
    "        self.df = df.copy()\n",
    "        self.df_target = df_target.copy()\n",
    "    def coverage(self):\n",
    "        for index, row in self.df.interrows():\n",
    "            c, s, e = row['c'], row['s'], row['e']\n",
    "            df_tmp = self.df_target.query(\"c==@c\" & \"s<=@e\" & \"e>=@s\")\n",
    "            if df_tmp.shape[0]>0:\n",
    "                tags = df_tmp.iloc[0, 'tags']\n",
    "                self.df.loc[index, 'tags'] = tags\n",
    "            else:\n",
    "                self.df.loc[index, 'tags'] = 'no_tags'\n",
    "        return self.df"
   ]
  }
 ],
 "metadata": {
  "language_info": {
   "name": "python"
  },
  "orig_nbformat": 4
 },
 "nbformat": 4,
 "nbformat_minor": 2
}
