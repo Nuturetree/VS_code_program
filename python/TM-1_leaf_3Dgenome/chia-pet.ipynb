{
 "cells": [
  {
   "cell_type": "code",
   "execution_count": null,
   "metadata": {},
   "outputs": [],
   "source": [
    "## 将10 行loop 整理好\n",
    "import pandas as pd\n",
    "import sys\n",
    "input_f = sys.argv[1]\n",
    "output_f = sys.argv[2]\n",
    "fp = open(output_f, 'w')\n",
    "df = pd.read_csv(input_f, sep='\\t', names=['c1', 's1', 'e1', 'c2', 's2', 'e2', 'one', 'two'])\n",
    "all_chrs = ['Ghir_A01', 'Ghir_A02', 'Ghir_A03', 'Ghir_A04', 'Ghir_A05', 'Ghir_A06', 'Ghir_A07', 'Ghir_A08', 'Ghir_A09', 'Ghir_A10', 'Ghir_A11', 'Ghir_A12', 'Ghir_A13', 'Ghir_D01', 'Ghir_D02', 'Ghir_D03', 'Ghir_D04', 'Ghir_D05', 'Ghir_D06', 'Ghir_D07', 'Ghir_D08', 'Ghir_D09', 'Ghir_D10', 'Ghir_D11', 'Ghir_D12', 'Ghir_D13']\n",
    "for c in all_chrs: \n",
    "    df_chr = df.query(\"c1 == @c\")\n",
    "    for i in range(0, df_chr.shape[0], 10):\n",
    "        j = i + 9\n",
    "        if j > df_chr.shape[0]:\n",
    "            j = df_chr.shape[0]\n",
    "        df_tmp = df.iloc[i:j,]\n",
    "        chrs = df.loc[i, 'c1']\n",
    "        min_values = min(df_tmp[['s1', 'e1', 's2', 'e2']].min())\n",
    "        max_values = max(df_tmp[['s1', 'e1', 's2', 'e2']].max())\n",
    "        line = \"sh plot_loop.sh {0} {1} {2} {0}-{1}-{2}.pdf\".format(chrs, min_values, max_values)\n",
    "        print(line, file=fp)\n",
    "fp.close()\n",
    "\n",
    "    "
   ]
  },
  {
   "cell_type": "code",
   "execution_count": 34,
   "metadata": {},
   "outputs": [],
   "source": [
    "import pandas as pd\n",
    "import sys\n",
    "input_f = sys.argv[1]\n",
    "output_f = sys.argv[2]\n",
    "df = pd.read_csv(input_f, sep='\\t', names=['bin1', 'bin2', 'values'])\n",
    "for index, row in df.iterrows():\n",
    "    b1, b2, v = row['bin1'], row['bin2'], row['v']\n",
    "    if b1 == b2:\n",
    "        v2 = v/2\n",
    "        df.loc[index, 'values'] = v2\n",
    "df.to_csv(output_f, sep='\\t', header=False, index=False)"
   ]
  },
  {
   "cell_type": "code",
   "execution_count": 25,
   "metadata": {},
   "outputs": [
    {
     "name": "stdout",
     "output_type": "stream",
     "text": [
      "1\n"
     ]
    }
   ],
   "source": [
    "data = {'Name':[1, 2, 3, 4],'Age':[28,34,29,42]}\n",
    "df = pd.DataFrame(data) # 这里设定了 index 个数要和列表长度一致\n",
    "#print(df.iloc[0:2,])\n",
    "print(min(df.min()))"
   ]
  }
 ],
 "metadata": {
  "interpreter": {
   "hash": "68d7e64a8ef1e11c6d28b945075670502b4996810cedadb5f7222a36b8861f26"
  },
  "kernelspec": {
   "display_name": "Python 3.8.3 ('base')",
   "language": "python",
   "name": "python3"
  },
  "language_info": {
   "codemirror_mode": {
    "name": "ipython",
    "version": 3
   },
   "file_extension": ".py",
   "mimetype": "text/x-python",
   "name": "python",
   "nbconvert_exporter": "python",
   "pygments_lexer": "ipython3",
   "version": "3.8.3"
  },
  "orig_nbformat": 4
 },
 "nbformat": 4,
 "nbformat_minor": 2
}
