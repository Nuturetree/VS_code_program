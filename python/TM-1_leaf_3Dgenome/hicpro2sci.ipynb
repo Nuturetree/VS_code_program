{
 "cells": [
  {
   "cell_type": "code",
   "execution_count": null,
   "metadata": {},
   "outputs": [],
   "source": [
    "## convert hicpro result to sci input format\n",
    "import pandas as pd\n",
    "import sys\n",
    "mtx_f = sys.argv[1]\n",
    "bed_f = sys.argv[2]\n",
    "out_f = sys.argv[3]\n",
    "df_mtx = pd.read_csv(mtx_f, sep='\\t', names=['bin1', 'bin2', 'reads'])\n",
    "df_bed = pd.read_csv(bed_f, sep='\\t', names=['c1', 's1', 'e1', 'bin1'])\n",
    "df_one = pd.merge(df_mtx, df_bed, how='left', on='bin1')\n",
    "df_bed.columns = ['c2', 's2', 'e2', 'bin2']\n",
    "df_two = pd.merge(df_one, df_bed, how='left', on='bin2')\n",
    "df_two.to_csv(out_f, sep='\\t', index=False, columns=['c1', 's1', 'c2', 'e2', 'reads'], header=False)"
   ]
  },
  {
   "cell_type": "code",
   "execution_count": 2,
   "metadata": {},
   "outputs": [
    {
     "name": "stdout",
     "output_type": "stream",
     "text": [
      "1\n",
      "2\n",
      "3\n",
      "4\n",
      "5\n",
      "6\n",
      "7\n",
      "8\n",
      "9\n",
      "10\n",
      "11\n",
      "12\n",
      "13\n",
      "14\n",
      "15\n",
      "16\n",
      "17\n",
      "18\n",
      "19\n",
      "20\n",
      "21\n",
      "22\n",
      "23\n",
      "24\n",
      "25\n",
      "26\n"
     ]
    }
   ],
   "source": [
    "## choose A, D subgenome\n",
    "import pandas as pd\n",
    "df = pd.read_csv('rawdata_100000_sci.bed', sep='\\t', names=['c1', 's1','e1', 'c2', 's2','e2','reads'])\n",
    "df_at = pd.DataFrame()\n",
    "df_dt = pd.DataFrame()\n",
    "for i in range(1,27,1):\n",
    "    chrn = \"chr\"+srt(i)\n",
    "    df_tmp = df.query(\"c1==@chrn & c2==@chrn\").copy()\n",
    "    if i <14:\n",
    "        if df_at.shape[0]==0:\n",
    "            df_at = df_tmp.copy()\n",
    "        else:\n",
    "            df_at = df_at.append(df_tmp, ignore_index=True)\n",
    "    else:\n",
    "        if df_dt.shape[0]==0:\n",
    "            df_dt = df_tmp.copy()\n",
    "        else:\n",
    "            df_dt = df_dt.append(df_tmp, ignore_index=True)\n",
    "df_at.to_csv(\"rawdata_100000_sci_at.bed\", sep='\\t', header=False, index=False)\n",
    "df_dt.to_csv(\"rawdata_100000_sci_dt.bed\", sep='\\t', header=False, index=False)\n"
   ]
  }
 ],
 "metadata": {
  "interpreter": {
   "hash": "68d7e64a8ef1e11c6d28b945075670502b4996810cedadb5f7222a36b8861f26"
  },
  "kernelspec": {
   "display_name": "Python 3.8.3 64-bit ('base': conda)",
   "language": "python",
   "name": "python3"
  },
  "language_info": {
   "codemirror_mode": {
    "name": "ipython",
    "version": 3
   },
   "file_extension": ".py",
   "mimetype": "text/x-python",
   "name": "python",
   "nbconvert_exporter": "python",
   "pygments_lexer": "ipython3",
   "version": "3.8.3"
  },
  "orig_nbformat": 4
 },
 "nbformat": 4,
 "nbformat_minor": 2
}
