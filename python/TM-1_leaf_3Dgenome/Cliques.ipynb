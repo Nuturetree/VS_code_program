{
 "cells": [
  {
   "cell_type": "code",
   "execution_count": 12,
   "metadata": {},
   "outputs": [],
   "source": [
    "## 分析互作cliques\n",
    "import networkx as nx\n",
    "import pandas as pd\n",
    "def find_cliques(input_f, output_f):\n",
    "    graphics = nx.read_edgelist(input_f)\n",
    "    cliques = nx.find_cliques(graphics)\n",
    "    df_tmp = pd.DataFrame(columns=['cliques_size'])\n",
    "    for i in cliques:\n",
    "        #print(i)\n",
    "        df_tmp.loc[df_tmp.shape[0]] = [len(i)]\n",
    "    df_tmp['number'] = [1]*df_tmp.shape[0]\n",
    "    df_output = df_tmp.groupby(by=['cliques_size'], as_index=False)['number'].agg(sum)\n",
    "    df_output.to_csv(output_f, sep='\\t', index=False)"
   ]
  },
  {
   "cell_type": "code",
   "execution_count": null,
   "metadata": {},
   "outputs": [],
   "source": [
    "## 分析Pore-C 酶切片段互作cliques\n",
    "find_cliques('F:/TM-1_leaf_3D-genome/Pore-C/cliques/1Kb/Pore-C_frag_1K_node_3_005.txt', \"F:/TM-1_leaf_3D-genome/Pore-C/cliques/1Kb/Pore-C_frag_1K_node_3_005_cliques.txt\")"
   ]
  },
  {
   "cell_type": "code",
   "execution_count": 16,
   "metadata": {},
   "outputs": [],
   "source": [
    "## 分析Pore-C 酶切片段互作cliques\n",
    "find_cliques('F:/TM-1_leaf_3D-genome/Pore-C/TAD/TAD_cliques/Pore_C_TAD_50_005_node1.txt', \"F:/TM-1_leaf_3D-genome/Pore-C/TAD/TAD_cliques/Pore_C_TAD_50_005_cliques.txt\")"
   ]
  },
  {
   "cell_type": "code",
   "execution_count": 105,
   "metadata": {},
   "outputs": [
    {
     "name": "stdout",
     "output_type": "stream",
     "text": [
      "242477\n"
     ]
    }
   ],
   "source": [
    "## 分析Hi-C TAD 片段互作cliques\n",
    "find_cliques('F:/TM-1_leaf_3D-genome/Pore-C/TAD/TAD_cliques/Pore_C_TAD_20_0005_node1.txt', \"F:/TM-1_leaf_3D-genome/Pore-C/TAD/TAD_cliques/Pore_C_TAD_20_0005_cliques.txt\")"
   ]
  },
  {
   "cell_type": "code",
   "execution_count": null,
   "metadata": {},
   "outputs": [],
   "source": [
    "## 分析Hi-C TAD 片段互作cliques\n",
    "find_cliques('F:/TM-1_leaf_3D-genome/HiC/TAD/Cliques/method1/Hi-C_TAD_100_0005_node1.txt', \"F:/TM-1_leaf_3D-genome/HiC/TAD/Cliques/Hi-C_TAD_100_0005_cliques.txt\")"
   ]
  },
  {
   "cell_type": "code",
   "execution_count": 4,
   "metadata": {},
   "outputs": [],
   "source": [
    "## 分析Hi-C TAD 片段互作 cliques 方法2\n",
    "find_cliques('F:/TM-1_leaf_3D-genome/Proe-C_HiC/TAD/Cliques/method2/TM1_leaf_TAD_node1.txt', \"F:/TM-1_leaf_3D-genome/Proe-C_HiC/TAD/Cliques/method2/TAD_loop_interactions_cliques.txt\")\n"
   ]
  },
  {
   "cell_type": "code",
   "execution_count": 8,
   "metadata": {},
   "outputs": [],
   "source": [
    "## 分析Hi-C 酶切片段互作 cliques\n",
    "find_cliques('F:/TM-1_leaf_3D-genome/HiC/fragment/cliques/TM1_leaf_HiC_fragment_interaction_3_005_node1.txt', \"F:/TM-1_leaf_3D-genome/HiC/fragment/cliques/TM1_leaf_HiC_fragment_interaction_3_005_cliques.txt\")"
   ]
  },
  {
   "cell_type": "code",
   "execution_count": 46,
   "metadata": {},
   "outputs": [],
   "source": [
    "find_cliques('F:/TM-1_leaf_3D-genome/Pore-C/TAD/TAD_cliques/Pore_C_TAD_50_005_node_A05_cliques_edg.txt', \"F:/TM-1_leaf_3D-genome/Pore-C/TAD/TAD_cliques/Pore_C_TAD_50_005_node_A05_cliques.txt\")"
   ]
  },
  {
   "cell_type": "code",
   "execution_count": null,
   "metadata": {},
   "outputs": [],
   "source": [
    "## 将TAD 互作的片段 进行权重标准化\n",
    "import pandas as pd\n",
    "import sys\n",
    "TAD = sys.argv[1]\n",
    "TAD_I = sys.argv[2]\n",
    "out_f = sys.argv[3]\n",
    "df_tad = pd.read_csv(TAD, sep=\"\\t\")\n",
    "df_tadi = pd.read_csv(TAD_I, sep=\"\\t\", names=['source', 'target', 'number'])\n",
    "df_tad['tags'] = (df_tad['e'] - df_tad['s'])/2 + df_tad['s']\n",
    "df_tad['tags'] = df_tad['tags'].astype(chr)\n",
    "df_tad['size'] = df_tad['e'] - df_tad['s']\n",
    "df_tad['tags2'] = df_tad['chr'] + \"-\" + df_tad['tags'] \n",
    "df_tad_out = df_tad[['tags2', 'size']].copy()\n",
    "df_tad_out.columns = ['source', 'source_size']\n",
    "df_tad_tmp = pd.merge(df_tadi, df_tad_out, how='inner', on=['source'])\n",
    "df_tad_out.columns = ['target', 'target_size']\n",
    "df_tad_new = pd.merge(df_tad_out, df_tad_tmp, how='inner', on=['target'])\n",
    "df_tad_new['weight'] = (df_tad_new['number'].map(float)/(df_tad_new['source_size'].map(float)*df_tad_new['target_size'].map(float)))*100\n",
    "df_tad_new.to_csv(out_f, sep='\\t', index=False)\n",
    "\n"
   ]
  },
  {
   "cell_type": "code",
   "execution_count": null,
   "metadata": {},
   "outputs": [],
   "source": [
    "## analysis TAD-TAD interaction \n",
    "import pandas as pd\n",
    "import sys\n",
    "tad_f = sys.argv[1]\n",
    "loop_f = sys.argv[2]\n",
    "output_f = sys.argv[3]\n",
    "df_tad = pd.read_csv(tad_f, sep='\\t', names=['c', 's', 'e'])\n",
    "df_loop = pd.read_csv(loop_f, sep='\\t', names=['c1', 'site1', 'c2', 'site2', 'numbers'])\n",
    "## tad tags\n",
    "def tad_tad_interaction(df_tad, df_loop):\n",
    "    df_tad['tags'] = df_tad['c'] + \"-\" + df_tad['s'].map(str)\n",
    "    df_tmp1 = pd.DataFrame()\n",
    "    for index, row in df_tad.iterrows():\n",
    "        c, s, e, t = row['c'], row['s'], row['e'], row['tags']\n",
    "        df_loop_tmp = df_loop.query(\"c1==@c & site1>=@s & site2<=@e\")\n",
    "        df_loop_tmp['tags1'] = [t]*df_loop_tmp.shape[0]\n",
    "        df_tmp1 = df_tmp1.append(df_loop_tmp, ignore_index=True)\n",
    "    df_tmp2 = pd.DataFrame()\n",
    "    for index, row in df_tad.iterrows():\n",
    "        c, s, e, t = row['c'], row['s'], row['e'], row['tags']\n",
    "        df_loop_tmp2 = df_tmp1.query(\"c2==@c & site2>=@s & site2<=@e\")\n",
    "        df_loop_tmp2['tags2'] = [t]*df_loop_tmp2.shape[0]\n",
    "        df_tmp2 = df_tmp2.append(df_tmp2, ignore_index=True)\n",
    "    df_out_tmp = df_tmp2[['tags1', 'tags2', 'numbers']]\n",
    "    df_out = df_out_tmp.groupby(by=['tags1', 'tags2'], as_index=False)['number'].agg(sum)\n",
    "    return df_out\n"
   ]
  },
  {
   "cell_type": "code",
   "execution_count": 48,
   "metadata": {},
   "outputs": [],
   "source": [
    "## 选择cliques >=3 的互作\n",
    "import networkx as nx\n",
    "import pandas as pd\n",
    "import itertools\n",
    "def cliques_interaction(input_f):\n",
    "    graphics = nx.read_edgelist(input_f)\n",
    "    cliques = nx.find_cliques(graphics)\n",
    "    list_tmp = []\n",
    "    for i in cliques:\n",
    "        if len(i)>2:\n",
    "            k = sorted(i)\n",
    "            #print(k)\n",
    "            one_tmp = list(itertools.combinations(k, 2))\n",
    "            list_tmp = list_tmp+one_tmp\n",
    "    df_output = pd.DataFrame(list_tmp)\n",
    "    df_output.drop_duplicates(keep='first', inplace=True)\n",
    "    return df_output\n",
    "    #df_output.to_csv(output_f, sep='\\t', index=False)\n",
    "    "
   ]
  },
  {
   "cell_type": "code",
   "execution_count": 59,
   "metadata": {},
   "outputs": [],
   "source": [
    "## 分析HiC TAD片段互作 cliques\n",
    "df_TAD_cliques = cliques_interaction('F:/TM-1_leaf_3D-genome/HiC/TAD/Cliques/method2/TM1_leaf_TAD_node_D01-1.txt')\n",
    "df_TAD_cliques.columns = ['source', 'target']\n",
    "df_TAD_weigth = pd.read_csv('F:/TM-1_leaf_3D-genome/HiC/TAD/Cliques/method2/TM1_leaf_TAD_node_D01.txt', sep='\\t')\n",
    "#print(df_TAD_weigth)\n",
    "df_out = pd.merge(df_TAD_weigth, df_TAD_cliques, how='inner', on=('source', 'target'))\n",
    "df_out.to_csv('F:/TM-1_leaf_3D-genome/HiC/TAD/Cliques/method2/TM1_leaf_TAD_node_D01_cliques_edg.txt', sep='\\t', index=False)"
   ]
  },
  {
   "cell_type": "code",
   "execution_count": 61,
   "metadata": {},
   "outputs": [],
   "source": [
    "## 分析Pore-C TAD 片段互作cliques\n",
    "df_TAD_cliques = cliques_interaction('F:/TM-1_leaf_3D-genome/Pore-C/TAD/TAD_cliques/Pore_C_TAD_50_005_node_D01-1.txt')\n",
    "df_TAD_cliques.columns = ['source', 'target']\n",
    "df_TAD_weigth = pd.read_csv('F:/TM-1_leaf_3D-genome/Pore-C/TAD/TAD_cliques/Pore_C_TAD_50_005_node_D01.txt', sep='\\t')\n",
    "#print(df_TAD_weigth)\n",
    "df_out = pd.merge(df_TAD_weigth, df_TAD_cliques, how='inner', on=('source', 'target'))\n",
    "df_out.to_csv('F:/TM-1_leaf_3D-genome/Pore-C/TAD/TAD_cliques/Pore_C_TAD_50_005_node_D01_cliques_edg.txt', sep='\\t', index=False) "
   ]
  },
  {
   "cell_type": "code",
   "execution_count": 97,
   "metadata": {},
   "outputs": [],
   "source": [
    "## tad 互作节点最高的度, 以及节点的大小\n",
    "def cliques_node(input_f, output_f):\n",
    "    graphics = nx.read_edgelist(input_f)\n",
    "    cliques = nx.node_clique_number(graphics)\n",
    "    df = pd.DataFrame.from_dict(cliques, orient='index', columns=['cliques'])\n",
    "    df = df.reset_index().rename(columns = {'index':'tad_id'})\n",
    "    df = df.query(\"cliques>2\")\n",
    "    df_tags = pd.read_csv('F:/TM-1_leaf_3D-genome/HiC/TAD/TADLib/TM-1_TADLib_tad_20K_2M_choosed.bed', sep='\\t', names=['c', 's', 'e', 'a'])\n",
    "    df_tags['mid'] = (df_tags['e']-df_tags['s'])/2 + df_tags['s']\n",
    "    df_tags['mid'] = df_tags['mid'].astype(int)\n",
    "    df_tags['mid'] = df_tags['mid'].astype(str)\n",
    "    df_tags['tad_id'] = df_tags['c'] + '-' + df_tags['mid']\n",
    "    df_tags['size'] = (df_tags['e'] - df_tags['s'])/1000\n",
    "    df_tags['size'] = df_tags['size'].astype(int)\n",
    "    df_tags = df_tags[['tad_id', 'size']].copy()\n",
    "    #print(df_tags)\n",
    "    df_out = pd.merge(df, df_tags, how='inner', on=['tad_id'])\n",
    "    df_out.to_csv(output_f, sep='\\t', index=False)"
   ]
  },
  {
   "cell_type": "code",
   "execution_count": 98,
   "metadata": {},
   "outputs": [],
   "source": [
    "## 对Pore-C 节点打上标签\n",
    "cliques_node('F:/TM-1_leaf_3D-genome/Pore-C/TAD/TAD_cliques/Pore_C_TAD_50_005_node_A05-1.txt', 'F:/TM-1_leaf_3D-genome/Pore-C/TAD/TAD_cliques/Pore_C_TAD_50_005_node_A05_cliques_node.txt')"
   ]
  },
  {
   "cell_type": "code",
   "execution_count": 99,
   "metadata": {},
   "outputs": [],
   "source": [
    "## 对Hi-C 的节点打上标签\n",
    "cliques_node('F:/TM-1_leaf_3D-genome/HiC/TAD/Cliques/method2/TM1_leaf_TAD_node_A05-1.txt', 'F:/TM-1_leaf_3D-genome/HiC/TAD/Cliques/method2/TM1_leaf_TAD_node_A05_cliques_node.txt')"
   ]
  },
  {
   "cell_type": "code",
   "execution_count": 22,
   "metadata": {},
   "outputs": [],
   "source": [
    "## tad 互作节点最高的度, 以及TAD 的位置\n",
    "import pandas as pd\n",
    "import networkx as nx\n",
    "def cliques_node_TAD(input_f, output_f):\n",
    "    graphics = nx.read_edgelist(input_f)\n",
    "    cliques = nx.node_clique_number(graphics)\n",
    "    #print(cliques)\n",
    "    df = pd.DataFrame.from_dict(cliques, orient='index', columns=['cliques'])\n",
    "    df = df.reset_index().rename(columns = {'index':'tad_id'})\n",
    "    df = df.query(\"cliques>2\")\n",
    "    df_tags = pd.read_csv('F:/TM-1_leaf_3D-genome/HiC/TAD/TADLib/TM-1_TADLib_tad_20K_2M_choosed.bed', sep='\\t', names=['c', 's', 'e', 'a'])\n",
    "    df_tags['mid'] = (df_tags['e']-df_tags['s'])/2 + df_tags['s']\n",
    "    df_tags['mid'] = df_tags['mid'].astype(int)\n",
    "    df_tags['mid'] = df_tags['mid'].astype(str)\n",
    "    df_tags['tad_id'] = df_tags['c'] + '-' + df_tags['mid']\n",
    "    df_tags['size'] = (df_tags['e'] - df_tags['s'])/1000\n",
    "    df_tags['size'] = df_tags['size'].astype(int)\n",
    "    #df_tags = df_tags[['tad_id', 'size']].copy()\n",
    "    #print(df_tags)\n",
    "    df_out = pd.merge(df, df_tags, how='inner', on=['tad_id'])\n",
    "    df_out.to_csv(output_f, sep='\\t', index=False, columns=['tad_id', 'c', 's', 'e', 'cliques'])"
   ]
  },
  {
   "cell_type": "code",
   "execution_count": null,
   "metadata": {},
   "outputs": [],
   "source": [
    "## hic cliques\n",
    "cliques_node_TAD('F:\\TM-1_leaf_3D-genome\\HiC\\TAD\\Cliques\\method2\\TM1_leaf_TAD_node-1.txt', 'F:\\TM-1_leaf_3D-genome\\HiC\\TAD\\Cliques\\method2\\TM1_leaf_TAD_node_cliques.txt')"
   ]
  },
  {
   "cell_type": "code",
   "execution_count": 23,
   "metadata": {},
   "outputs": [],
   "source": [
    "## porec cliques\n",
    "cliques_node_TAD('F:/TM-1_leaf_3D-genome/Pore-C/TAD/TAD_cliques/Pore_C_TAD_50_005_node1.txt', 'F:/TM-1_leaf_3D-genome/Pore-C/TAD/TAD_cliques/Pore_C_TAD_50_005_node_cliques.txt')"
   ]
  },
  {
   "cell_type": "code",
   "execution_count": 20,
   "metadata": {},
   "outputs": [
    {
     "name": "stdout",
     "output_type": "stream",
     "text": [
      "PoreC和HiC相同的TAD cliques 数目: 227\n"
     ]
    }
   ],
   "source": [
    "df_tad = pd.read_csv('F:\\TM-1_leaf_3D-genome\\HiC\\TAD\\Cliques\\method2\\TM1_leaf_TAD_node_cliques.txt', sep='\\t')\n",
    "df_porec = pd.read_csv('F:/TM-1_leaf_3D-genome/Pore-C/TAD/TAD_cliques/Pore_C_TAD_50_005_node_cliques.txt', sep='\\t')\n",
    "df_tad_porec = df_tad.append(df_porec, ignore_index=True)\n",
    "df_tad_porec_nodup = df_tad_porec.drop_duplicates(keep='first')\n",
    "print(\"PoreC和HiC相同的TAD cliques 数目: {}\".format(df_tad_porec.shape[0]-df_tad_porec_nodup.shape[0]))"
   ]
  },
  {
   "cell_type": "code",
   "execution_count": 24,
   "metadata": {},
   "outputs": [],
   "source": [
    "## 给基因打上cliques 的标签\n",
    "def gene_cliques(gene_f, cliques_f, output_f):\n",
    "    df_gene    = pd.read_csv(gene_f, sep='\\t')\n",
    "    df_cliques = pd.read_csv(cliques_f, sep='\\t')\n",
    "    df_result  = pd.DataFrame()\n",
    "    for index, row in df_cliques.iterrows():\n",
    "        c, s, e, n = row['c'], row['s'], row['e'], int(row['cliques'])\n",
    "        df_tmp = df_gene.query(\"Chr==@c & Start<=@e & End>=@s\").copy()\n",
    "        df_tmp['cliques'] = [n]*df_tmp.shape[0]\n",
    "        df_result = df_result.append(df_tmp, ignore_index=True)\n",
    "    df_result.to_csv(output_f, sep='\\t',  index=False)"
   ]
  },
  {
   "cell_type": "code",
   "execution_count": 30,
   "metadata": {},
   "outputs": [],
   "source": [
    "## 计算HiC 不同TAD cliques 所包含基因的表达量\n",
    "gene_cliques('F:/TM-1_leaf_3D-genome/RNA_Seq/TM-1_allgene_FPKM_TPM.txt', 'F:/TM-1_leaf_3D-genome/HiC/TAD/Cliques/method2/TM1_leaf_TAD_node_cliques.txt', 'F:/TM-1_leaf_3D-genome/HiC/TAD/Cliques/method2/all_TAD_cliques_gene_fpkm_max.txt') "
   ]
  },
  {
   "cell_type": "code",
   "execution_count": 25,
   "metadata": {},
   "outputs": [],
   "source": [
    "## 计算PoreC 不同TAD cliques 所包含基因的表达量\n",
    "gene_cliques('F:/TM-1_leaf_3D-genome/RNA_Seq/TM-1_allgene_FPKM_TPM.txt', 'F:/TM-1_leaf_3D-genome/Pore-C/TAD/TAD_cliques/Pore_C_TAD_50_005_node_cliques.txt', 'F:/TM-1_leaf_3D-genome/Pore-C/TAD/TAD_cliques/Pore_C_TAD_50_005_node_cliques_fpkm.txt') \n"
   ]
  },
  {
   "cell_type": "code",
   "execution_count": 26,
   "metadata": {},
   "outputs": [
    {
     "name": "stdout",
     "output_type": "stream",
     "text": [
      "           hic porec  Geneid\n",
      "0            3     3     403\n",
      "1            3     4     745\n",
      "2            3     5     869\n",
      "3            3     6     963\n",
      "4            3     7    1457\n",
      "..         ...   ...     ...\n",
      "138  nocliques    23      24\n",
      "139  nocliques    24      16\n",
      "140  nocliques    25       9\n",
      "141  nocliques    28       3\n",
      "142  nocliques    30       4\n",
      "\n",
      "[143 rows x 3 columns]\n"
     ]
    }
   ],
   "source": [
    "## 分析porc 和hic TAD 最大cliques 所能够包含基因的动态变化\n",
    "import pandas as pd\n",
    "df_hic = pd.read_csv('F:/TM-1_leaf_3D-genome/HiC/TAD/Cliques/method2/all_TAD_cliques_gene_fpkm_max.txt', sep='\\t')\n",
    "# print(df_hic.shape[0])\n",
    "df_hic.sort_values(by='cliques', inplace=True)\n",
    "df_hic.drop_duplicates(keep='last', inplace=True, subset=['Geneid'])\n",
    "df_porec = pd.read_csv(\"F:/TM-1_leaf_3D-genome/Pore-C/TAD/TAD_cliques/Pore_C_TAD_50_005_node_cliques_fpkm.txt\", sep='\\t')\n",
    "df_porec.drop_duplicates(keep='last', inplace=True, subset=['Geneid'])\n",
    "df_porec.drop_duplicates(keep='first', inplace=True, subset=['Geneid'])\n",
    "df_gene = pd.read_csv('F:/TM-1_leaf_3D-genome/RNA_Seq/TM-1_allgene_FPKM_TPM.txt', sep='\\t')\n",
    "df_hic_new = df_hic[['Geneid', 'cliques']].copy()\n",
    "df_hic_new.columns = ['Geneid', 'hic']\n",
    "df_porec_new = df_porec[['Geneid', 'cliques']].copy()\n",
    "df_porec_new.columns = ['Geneid', 'porec']\n",
    "df_gene = df_gene[['Chr', 'Geneid']].copy()\n",
    "df_hic_gene = pd.merge(df_gene, df_hic_new, how='left', on=['Geneid'])\n",
    "df_hic_porec_gene = pd.merge(df_hic_gene, df_porec_new, how='left', on=['Geneid'])\n",
    "df_need = df_hic_porec_gene.query(\"Chr.str.contains('Ghir')\", engine=\"python\").copy()\n",
    "df_need.fillna(\"nocliques\", inplace=True)\n",
    "df_result = df_need.query(\"~(hic=='nocliques' & porec=='nocliques')\")\n",
    "df_result = df_result.groupby(by=['hic', 'porec'], as_index=False)['Geneid'].count()\n",
    "print(df_result)\n",
    "df_nocliques = df_result.query(\"porec=='nocliques'\").copy()\n",
    "df_number = df_result.query(\"porec!='nocliques'\").copy()\n",
    "df_number['porec2'] = df_number['porec'].apply(lambda x: \">22\" if x>22 else x)\n",
    "df_result = df_number.append(df_nocliques)\n",
    "df_result.fillna('nocliques', inplace=True)\n",
    "df_result['porec'] = df_result['porec2']\n",
    "df_result.to_csv(\"F:/TM-1_leaf_3D-genome/Proe-C_HiC/TAD/Cliques/gene/PoreC_HiC_gene_dynamic.txt\", sep='\\t', index=False, columns=['hic', 'porec', 'Geneid'])"
   ]
  },
  {
   "cell_type": "code",
   "execution_count": 27,
   "metadata": {},
   "outputs": [],
   "source": [
    "#分析TAD cliques 所包含的基因，可考虑重复TAD 具有不同cliques情况\n",
    "import pandas as pd\n",
    "import networkx as nx\n",
    "## 统计TAD 互作的cliques 数目\n",
    "def Cliques_TAD(input_f):\n",
    "    graphics = nx.read_edgelist(input_f)\n",
    "    cliques = nx.find_cliques(graphics)\n",
    "    df_tmp = pd.DataFrame(columns=['tad_id', 'cliques'])\n",
    "    for c in cliques:\n",
    "        clqs = len(c)\n",
    "        for i in c:\n",
    "            #print(i, clqs)\n",
    "            df_tmp.loc[df_tmp.shape[0]] = [i, clqs]\n",
    "        else:\n",
    "            continue\n",
    "    df_tmp.drop_duplicates(keep='first', inplace=True)\n",
    "    print(df_tmp.shape[0])\n",
    "    return df_tmp\n",
    "## 将TADid 与TAD 位置结合起来\n",
    "def TAD_position(df):\n",
    "    df_tags = pd.read_csv('F:/TM-1_leaf_3D-genome/HiC/TAD/TADLib/TM-1_TADLib_tad_20K_2M_choosed.bed', sep='\\t', names=['c', 's', 'e', 'a'])\n",
    "    df_tags['mid'] = (df_tags['e']-df_tags['s'])/2 + df_tags['s']\n",
    "    df_tags['mid'] = df_tags['mid'].astype(int)\n",
    "    df_tags['mid'] = df_tags['mid'].astype(str)\n",
    "    df_tags['tad_id'] = df_tags['c'] + '-' + df_tags['mid']\n",
    "    df_out = pd.merge(df, df_tags, how='inner', on=['tad_id'])\n",
    "    return df_out\n",
    "\n",
    "## 分析TAD 所包含的基因，并且给基因打上cliques的标签\n",
    "# hic\n",
    "def gene_cliques(df):\n",
    "    df_gene    = pd.read_csv('F:/TM-1_leaf_3D-genome/RNA_Seq/TM-1_allgene_FPKM_TPM.txt', sep='\\t')\n",
    "    df_cliques = df\n",
    "    df_result  = pd.DataFrame()\n",
    "    for index, row in df_cliques.iterrows():\n",
    "        c, s, e, n = row['c'], row['s'], row['e'], int(row['cliques'])\n",
    "        df_tmp = df_gene.query(\"Chr==@c & Start<=@e & End>=@s\").copy()\n",
    "        df_tmp['cliques'] = [n]*df_tmp.shape[0]\n",
    "        df_result = df_result.append(df_tmp, ignore_index=True)\n",
    "    return df_result\n",
    "## porec \n",
    "def gene_cliques2(df, df_gene):\n",
    "    #df_gene    = pd.read_csv('F:/TM-1_leaf_3D-genome/RNA_Seq/TM-1_allgene_FPKM_TPM.txt', sep='\\t')\n",
    "    df_cliques = df\n",
    "    df_result  = pd.DataFrame()\n",
    "    for index, row in df_cliques.iterrows():\n",
    "        c, s, e, n = row['c'], row['s'], row['e'], int(row['cliques'])\n",
    "        df_tmp = df_gene.query(\"Chr==@c & Start<=@e & End>=@s\").copy()\n",
    "        df_tmp['cliques'] = [n]*df_tmp.shape[0]\n",
    "        df_result = df_result.append(df_tmp, ignore_index=True)\n",
    "    return df_result\n",
    "## 整理所有脚本\n",
    "def TAD_cliques_gene(input_f, gene_df, output_f):\n",
    "    tad_cliques_tag = Cliques_TAD(input_f)\n",
    "    tad_cliques_position = TAD_position(tad_cliques_tag)\n",
    "    #tad_cliques_gene = gene_cliques(tad_cliques_position, gene_df) ## Hi-C\n",
    "    tad_cliques_gene = gene_cliques2(tad_cliques_position, gene_df) ## PoreC\n",
    "    tad_cliques_gene.drop_duplicates(keep='first', inplace=True)\n",
    "    tad_cliques_gene.to_csv(output_f, sep='\\t', index=False)\n"
   ]
  },
  {
   "cell_type": "code",
   "execution_count": 14,
   "metadata": {},
   "outputs": [],
   "source": [
    "## TAD cliques 所包含的基因\n",
    "TAD_cliques_gene(\"F:/TM-1_leaf_3D-genome/HiC/TAD/Cliques/method2/TM1_leaf_TAD_node-1.txt\", \"F:/TM-1_leaf_3D-genome/HiC/TAD/Cliques/method2/all_TAD_cliques_gene_fpkm.txt\")"
   ]
  },
  {
   "cell_type": "code",
   "execution_count": 34,
   "metadata": {},
   "outputs": [
    {
     "name": "stdout",
     "output_type": "stream",
     "text": [
      "F:/TM-1_leaf_3D-genome/Pore-C/TAD/TAD_cliques/chr/Ghir_A01_cliques_gene.txt\n",
      "F:/TM-1_leaf_3D-genome/Pore-C/TAD/TAD_cliques/chr/Ghir_A02_cliques_gene.txt\n",
      "F:/TM-1_leaf_3D-genome/Pore-C/TAD/TAD_cliques/chr/Ghir_A03_cliques_gene.txt\n",
      "F:/TM-1_leaf_3D-genome/Pore-C/TAD/TAD_cliques/chr/Ghir_A04_cliques_gene.txt\n",
      "F:/TM-1_leaf_3D-genome/Pore-C/TAD/TAD_cliques/chr/Ghir_A05_cliques_gene.txt\n",
      "F:/TM-1_leaf_3D-genome/Pore-C/TAD/TAD_cliques/chr/Ghir_A06_cliques_gene.txt\n",
      "F:/TM-1_leaf_3D-genome/Pore-C/TAD/TAD_cliques/chr/Ghir_A07_cliques_gene.txt\n",
      "F:/TM-1_leaf_3D-genome/Pore-C/TAD/TAD_cliques/chr/Ghir_A08_cliques_gene.txt\n",
      "F:/TM-1_leaf_3D-genome/Pore-C/TAD/TAD_cliques/chr/Ghir_A09_cliques_gene.txt\n",
      "F:/TM-1_leaf_3D-genome/Pore-C/TAD/TAD_cliques/chr/Ghir_A10_cliques_gene.txt\n",
      "F:/TM-1_leaf_3D-genome/Pore-C/TAD/TAD_cliques/chr/Ghir_A11_cliques_gene.txt\n",
      "F:/TM-1_leaf_3D-genome/Pore-C/TAD/TAD_cliques/chr/Ghir_A12_cliques_gene.txt\n",
      "F:/TM-1_leaf_3D-genome/Pore-C/TAD/TAD_cliques/chr/Ghir_A13_cliques_gene.txt\n",
      "F:/TM-1_leaf_3D-genome/Pore-C/TAD/TAD_cliques/chr/Ghir_D01_cliques_gene.txt\n",
      "F:/TM-1_leaf_3D-genome/Pore-C/TAD/TAD_cliques/chr/Ghir_D02_cliques_gene.txt\n",
      "F:/TM-1_leaf_3D-genome/Pore-C/TAD/TAD_cliques/chr/Ghir_D03_cliques_gene.txt\n",
      "F:/TM-1_leaf_3D-genome/Pore-C/TAD/TAD_cliques/chr/Ghir_D04_cliques_gene.txt\n",
      "F:/TM-1_leaf_3D-genome/Pore-C/TAD/TAD_cliques/chr/Ghir_D05_cliques_gene.txt\n",
      "F:/TM-1_leaf_3D-genome/Pore-C/TAD/TAD_cliques/chr/Ghir_D06_cliques_gene.txt\n",
      "F:/TM-1_leaf_3D-genome/Pore-C/TAD/TAD_cliques/chr/Ghir_D07_cliques_gene.txt\n",
      "F:/TM-1_leaf_3D-genome/Pore-C/TAD/TAD_cliques/chr/Ghir_D08_cliques_gene.txt\n",
      "F:/TM-1_leaf_3D-genome/Pore-C/TAD/TAD_cliques/chr/Ghir_D09_cliques_gene.txt\n",
      "F:/TM-1_leaf_3D-genome/Pore-C/TAD/TAD_cliques/chr/Ghir_D10_cliques_gene.txt\n",
      "F:/TM-1_leaf_3D-genome/Pore-C/TAD/TAD_cliques/chr/Ghir_D11_cliques_gene.txt\n",
      "F:/TM-1_leaf_3D-genome/Pore-C/TAD/TAD_cliques/chr/Ghir_D12_cliques_gene.txt\n",
      "F:/TM-1_leaf_3D-genome/Pore-C/TAD/TAD_cliques/chr/Ghir_D13_cliques_gene.txt\n"
     ]
    }
   ],
   "source": [
    "## 分析PoreC 的TAD cliques 所能够包含的基因\n",
    "##! 将PoreC TAD 互作划分为单条染色体互作， 并根据单条染色体来分析所包含的基因\n",
    "import pandas as pd\n",
    "df = pd.read_csv(\"F:/TM-1_leaf_3D-genome/Pore-C/TAD/TAD_cliques/Pore_C_TAD_50_005_node1.txt\", names=['source', 'target'], sep='\\t')\n",
    "df_gene = pd.read_csv('F:/TM-1_leaf_3D-genome/RNA_Seq/TM-1_allgene_FPKM_TPM.txt', sep='\\t')\n",
    "chrs = ['Ghir_A01', 'Ghir_A02', 'Ghir_A03', 'Ghir_A04', 'Ghir_A05', 'Ghir_A06', 'Ghir_A07', 'Ghir_A08', 'Ghir_A09', 'Ghir_A10', 'Ghir_A11', 'Ghir_A12', 'Ghir_A13', 'Ghir_D01', 'Ghir_D02', 'Ghir_D03', 'Ghir_D04', 'Ghir_D05', 'Ghir_D06', 'Ghir_D07', 'Ghir_D08', 'Ghir_D09', 'Ghir_D10', 'Ghir_D11', 'Ghir_D12', 'Ghir_D13']\n",
    "for c in chrs:\n",
    "    input_f = \"F:/TM-1_leaf_3D-genome/Pore-C/TAD/TAD_cliques/chr/{}.txt\".format(c)\n",
    "    output_f = \"F:/TM-1_leaf_3D-genome/Pore-C/TAD/TAD_cliques/chr/{}_cliques_gene.txt\".format(c)\n",
    "    df_chr = df.query(\"source.str.contains(@c)\", engine='python')\n",
    "    df_chr.to_csv(input_f, sep='\\t',index=False, header=False)\n",
    "    df_gene_chr = df_gene.query(\"Chr.str.contains(@c)\", engine='python')\n",
    "    #print(df_chr)\n",
    "    TAD_cliques_gene(input_f, df_gene_chr, output_f)\n",
    "#! 文件合并\n",
    "df_tmp = pd.DataFrame()\n",
    "for c in chrs:\n",
    "    input_f = \"F:/TM-1_leaf_3D-genome/Pore-C/TAD/TAD_cliques/chr/{}_cliques_gene.txt\".format(c)\n",
    "    print(input_f)\n",
    "    df = pd.read_csv(input_f, sep='\\t')\n",
    "    df_tmp = df_tmp.append(df, ignore_index=True)\n",
    "df_tmp.drop_duplicates(keep='first', inplace=True)\n",
    "df_tmp['cliques2'] = df_tmp['cliques'].apply(lambda x: \">22\" if x>22 else x)\n",
    "df_tmp.to_csv(\"F:/TM-1_leaf_3D-genome/Pore-C/TAD/TAD_cliques/chr/PoreC_cliques_gene.txt\", sep='\\t', index=False)\n"
   ]
  },
  {
   "cell_type": "code",
   "execution_count": 38,
   "metadata": {},
   "outputs": [],
   "source": [
    "#! 分析TAD cliques与A/B compartment 占比间的关系\n",
    "import pandas as pd\n",
    "import networkx as nx\n",
    "def Cliques_TAD(cliques, n_cliques):\n",
    "    cliques_tad = []\n",
    "    for c in cliques:\n",
    "        clqs = len(c)\n",
    "        if clqs == n_cliques:\n",
    "            cliques_tad = cliques_tad + c\n",
    "    df_return = pd.DataFrame({\"tad_id\":cliques_tad})\n",
    "    return df_return\n",
    "def TAD_position(df):\n",
    "    df_tags = pd.read_csv('F:/TM-1_leaf_3D-genome/HiC/TAD/TADLib/TM-1_TADLib_tad_20K_2M_choosed.bed', sep='\\t', names=['c', 's', 'e', 'a'])\n",
    "    df_tags['mid'] = (df_tags['e']-df_tags['s'])/2 + df_tags['s']\n",
    "    df_tags['mid'] = df_tags['mid'].astype(int)\n",
    "    df_tags['mid'] = df_tags['mid'].astype(str)\n",
    "    df_tags['tad_id'] = df_tags['c'] + '-' + df_tags['mid']\n",
    "    df_out = pd.merge(df, df_tags, how='inner', on=['tad_id'])\n",
    "    return df_out\n"
   ]
  },
  {
   "cell_type": "code",
   "execution_count": 8,
   "metadata": {},
   "outputs": [
    {
     "name": "stdout",
     "output_type": "stream",
     "text": [
      "    cliques ABcpt        size\n",
      "0         3  Acpt   186680000\n",
      "1         3  Bcpt   210540000\n",
      "2         4  Acpt   274300000\n",
      "3         4  Bcpt   314700000\n",
      "4         5  Acpt   360460000\n",
      "5         5  Bcpt   425540000\n",
      "6         6  Acpt   418740000\n",
      "7         6  Bcpt   509700000\n",
      "8         7  Acpt   465140000\n",
      "9         7  Bcpt   614640000\n",
      "10        8  Acpt   510460000\n",
      "11        8  Bcpt   676180000\n",
      "12        9  Acpt   546520000\n",
      "13        9  Bcpt   767660000\n",
      "14       10  Acpt   562900000\n",
      "15       10  Bcpt   841940000\n",
      "16       11  Acpt   572980000\n",
      "17       11  Bcpt   940220000\n",
      "18       12  Acpt   542960000\n",
      "19       12  Bcpt   978620000\n",
      "20       13  Acpt   473040000\n",
      "21       13  Bcpt   992880000\n",
      "22       14  Acpt   439240000\n",
      "23       14  Bcpt  1016300000\n",
      "24       15  Acpt   357280000\n",
      "25       15  Bcpt   993520000\n",
      "26       16  Acpt   287380000\n",
      "27       16  Bcpt   931000000\n",
      "28       17  Acpt   200100000\n",
      "29       17  Bcpt   829020000\n",
      "30       18  Acpt   178580000\n",
      "31       18  Bcpt   740440000\n",
      "32       19  Acpt   133980000\n",
      "33       19  Bcpt   611120000\n",
      "34       20  Acpt   110040000\n",
      "35       20  Bcpt   523300000\n",
      "36       21  Acpt    84040000\n",
      "37       21  Bcpt   462000000\n",
      "38       22  Acpt    54880000\n",
      "39       22  Bcpt   357960000\n",
      "40       23  Acpt    23900000\n",
      "41       23  Bcpt   236980000\n",
      "42       24  Acpt    17680000\n",
      "43       24  Bcpt   163140000\n",
      "44       25  Acpt    11240000\n",
      "45       25  Bcpt    83500000\n",
      "46       26  Acpt     5520000\n",
      "47       26  Bcpt    22620000\n",
      "48       27  Acpt     5520000\n",
      "49       27  Bcpt    22660000\n",
      "50       28  Acpt     4700000\n",
      "51       28  Bcpt    21840000\n",
      "52       29  Acpt     2700000\n",
      "53       29  Bcpt    19660000\n",
      "54       30  Acpt     1940000\n",
      "55       30  Bcpt    18900000\n"
     ]
    }
   ],
   "source": [
    "## 分析AB compartment 与TAD 占比关系\n",
    "import pandas as pd\n",
    "df = pd.read_csv('F:/TM-1_leaf_3D-genome/Pore-C/TAD/TAD_cliques/ABcpt/PoreC_all_TAD_cliques_abcpt.txt ', sep='\\t', names=['c', 's', 'e', 'cliques',  'ABcpt'])\n",
    "df['size'] = df['e'] - df['s']\n",
    "df_return = df.groupby(by=['cliques', 'ABcpt'], as_index=False)['size'].sum()\n",
    "print(df_return)\n",
    "df_return.to_csv('F:/TM-1_leaf_3D-genome/Pore-C/TAD/TAD_cliques/ABcpt/PoreC_cliques_AB_cpt_ratio.txt', sep='\\t', index=False)"
   ]
  },
  {
   "cell_type": "code",
   "execution_count": 2,
   "metadata": {},
   "outputs": [
    {
     "name": "stdout",
     "output_type": "stream",
     "text": [
      "2336\n",
      "2348\n",
      "2132\n",
      "1727\n",
      "2127\n",
      "2431\n",
      "2012\n",
      "2094\n",
      "1625\n",
      "2297\n",
      "2537\n",
      "2223\n",
      "2101\n",
      "1493\n",
      "1524\n",
      "1125\n",
      "1187\n",
      "1375\n",
      "1376\n",
      "1214\n",
      "1392\n",
      "962\n",
      "1499\n",
      "1681\n",
      "1229\n",
      "1313\n"
     ]
    }
   ],
   "source": [
    "## 分析每个TAD所能够参与的所有cliques\n",
    "#分析TAD cliques 所包含的基因，可考虑重复TAD 具有不同cliques情况\n",
    "import pandas as pd\n",
    "import networkx as nx\n",
    "## 统计TAD 互作的cliques 数目\n",
    "def Cliques_TAD(input_f):\n",
    "    graphics = nx.read_edgelist(input_f)\n",
    "    cliques = nx.find_cliques(graphics)\n",
    "    df_tmp = pd.DataFrame(columns=['tad_id', 'cliques'])\n",
    "    for c in cliques:\n",
    "        clqs = len(c)\n",
    "        for i in c:\n",
    "            #print(i, clqs)\n",
    "            df_tmp.loc[df_tmp.shape[0]] = [i, clqs]\n",
    "        else:\n",
    "            continue\n",
    "    df_tmp.drop_duplicates(keep='first', inplace=True)\n",
    "    print(df_tmp.shape[0])\n",
    "    return df_tmp\n",
    "## 将TADid 与TAD 位置结合起来\n",
    "def TAD_position(df):\n",
    "    df_tags = pd.read_csv('F:/TM-1_leaf_3D-genome/HiC/TAD/TADLib/TM-1_TADLib_tad_20K_2M_choosed.bed', sep='\\t', names=['c', 's', 'e', 'a'])\n",
    "    df_tags['mid'] = (df_tags['e']-df_tags['s'])/2 + df_tags['s']\n",
    "    df_tags['mid'] = df_tags['mid'].astype(int)\n",
    "    df_tags['mid'] = df_tags['mid'].astype(str)\n",
    "    df_tags['tad_id'] = df_tags['c'] + '-' + df_tags['mid']\n",
    "    df_out = pd.merge(df, df_tags, how='inner', on=['tad_id'])\n",
    "    return df_out\n",
    "chrs = ['Ghir_A01', 'Ghir_A02', 'Ghir_A03', 'Ghir_A04', 'Ghir_A05', 'Ghir_A06', 'Ghir_A07', 'Ghir_A08', 'Ghir_A09', 'Ghir_A10', 'Ghir_A11', 'Ghir_A12', 'Ghir_A13', 'Ghir_D01', 'Ghir_D02', 'Ghir_D03', 'Ghir_D04', 'Ghir_D05', 'Ghir_D06', 'Ghir_D07', 'Ghir_D08', 'Ghir_D09', 'Ghir_D10', 'Ghir_D11', 'Ghir_D12', 'Ghir_D13']\n",
    "for c in chrs:\n",
    "    input_f = \"F:/TM-1_leaf_3D-genome/Pore-C/TAD/TAD_cliques/chr/{}.txt\".format(c)\n",
    "    output_f = \"F:/TM-1_leaf_3D-genome/Pore-C/TAD/TAD_cliques/chr/{}_cliques.txt\".format(c)\n",
    "    TAD_cliques_tags = Cliques_TAD(input_f)\n",
    "    df_result = TAD_position(TAD_cliques_tags)\n",
    "    df_result.to_csv(output_f, sep='\\t', index=False, header=False, columns = ['c', 's', 'e', 'cliques'])"
   ]
  },
  {
   "cell_type": "code",
   "execution_count": 5,
   "metadata": {},
   "outputs": [],
   "source": [
    "## 合并单条染色体所有的TAD cliques\n",
    "import pandas as pd\n",
    "chrs = ['Ghir_A01', 'Ghir_A02', 'Ghir_A03', 'Ghir_A04', 'Ghir_A05', 'Ghir_A06', 'Ghir_A07', 'Ghir_A08', 'Ghir_A09', 'Ghir_A10', 'Ghir_A11', 'Ghir_A12', 'Ghir_A13', 'Ghir_D01', 'Ghir_D02', 'Ghir_D03', 'Ghir_D04', 'Ghir_D05', 'Ghir_D06', 'Ghir_D07', 'Ghir_D08', 'Ghir_D09', 'Ghir_D10', 'Ghir_D11', 'Ghir_D12', 'Ghir_D13']\n",
    "df_tmp = pd.DataFrame()\n",
    "for c in chrs:\n",
    "    input_f =  \"F:/TM-1_leaf_3D-genome/Pore-C/TAD/TAD_cliques/chr/{}_cliques.txt\".format(c)\n",
    "    df_chr = pd.read_csv(input_f, sep='\\t', names =['c', 's', 'e', 'cliques'])\n",
    "    df_tmp = df_tmp.append(df_chr, ignore_index=True)\n",
    "df_tmp = df_tmp.query(\"cliques>2\")\n",
    "df_tmp.to_csv(\"F:/TM-1_leaf_3D-genome/Pore-C/TAD/TAD_cliques/chr/PoreC_all_TAD_cliques.txt\", sep='\\t', index=False, header=False)"
   ]
  },
  {
   "cell_type": "code",
   "execution_count": 12,
   "metadata": {},
   "outputs": [],
   "source": [
    "## 给cliques 打上标签\n",
    "chrs = ['Ghir_A01', 'Ghir_A02', 'Ghir_A03', 'Ghir_A04', 'Ghir_A05', 'Ghir_A06', 'Ghir_A07', 'Ghir_A08', 'Ghir_A09', 'Ghir_A10', 'Ghir_A11', 'Ghir_A12', 'Ghir_A13', 'Ghir_D01', 'Ghir_D02', 'Ghir_D03', 'Ghir_D04', 'Ghir_D05', 'Ghir_D06', 'Ghir_D07', 'Ghir_D08', 'Ghir_D09', 'Ghir_D10', 'Ghir_D11', 'Ghir_D12', 'Ghir_D13']\n",
    "for c in chrs:\n",
    "    input_f =   \"F:/TM-1_leaf_3D-genome/Pore-C/TAD/TAD_cliques/chr/{}_cliques.txt\".format(c)\n",
    "    df_chr = pd.read_csv(input_f, sep='\\t', names =['c', 's', 'e', 'cliques'])\n",
    "    df_chr['tags'] = df_chr['cliques'].apply(lambda x: \"a\" if 3<=x<=7 else ( \"b\" if 8<=x<=12 else (\"c\" if 13<=x<=17 else (\"d\" if 18<=x<=22 else \"e\"))))\n",
    "    output_f = \"F:/TM-1_leaf_3D-genome/Pore-C/TAD/TAD_cliques/chr/{}_cliques_tags.txt\".format(c)\n",
    "    df_chr.to_csv(output_f, sep=\"\\t\", index=False)"
   ]
  }
 ],
 "metadata": {
  "interpreter": {
   "hash": "68d7e64a8ef1e11c6d28b945075670502b4996810cedadb5f7222a36b8861f26"
  },
  "kernelspec": {
   "display_name": "Python 3.8.3 64-bit ('base': conda)",
   "language": "python",
   "name": "python3"
  },
  "language_info": {
   "codemirror_mode": {
    "name": "ipython",
    "version": 3
   },
   "file_extension": ".py",
   "mimetype": "text/x-python",
   "name": "python",
   "nbconvert_exporter": "python",
   "pygments_lexer": "ipython3",
   "version": "3.7.6"
  },
  "orig_nbformat": 4
 },
 "nbformat": 4,
 "nbformat_minor": 2
}
