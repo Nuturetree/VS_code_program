{
 "cells": [
  {
   "cell_type": "code",
   "execution_count": 4,
   "metadata": {},
   "outputs": [
    {
     "name": "stdout",
     "output_type": "stream",
     "text": [
      "          Geneid  FPKM\n",
      "tags                  \n",
      "ATAC        6683  6683\n",
      "H3K27ac     2713  2713\n",
      "H3K27me3    4193  4193\n",
      "H3K4me3     2317  2317\n"
     ]
    }
   ],
   "source": [
    "## 分析不同的CRE所调控的基因的表达水平\n",
    "import pandas as pd\n",
    "\n",
    "df_atac = pd.read_csv(\"G:/TM-1_leaf_3D-genome/HiC/loop/loop_3k/CREs/CRE_atac.txt\", sep=\"\\t\", names=['a', 'b','c','d','e','f', 'g', 'Geneid'])\n",
    "df_h3k4me3 = pd.read_csv(\"G:/TM-1_leaf_3D-genome/HiC/loop/loop_3k/CREs/CRE_h3k4me3.txt\", sep=\"\\t\", names=['a', 'b','c','d','e','f', 'g', 'Geneid'])\n",
    "df_h3k27ac = pd.read_csv(\"G:/TM-1_leaf_3D-genome/HiC/loop/loop_3k/CREs/CRE_h3k27ac.txt\", sep=\"\\t\", names=['a', 'b','c','d','e','f', 'g', 'Geneid'])\n",
    "df_h3k27me3 = pd.read_csv(\"G:/TM-1_leaf_3D-genome/HiC/loop/loop_3k/CREs/CRE_h3k27me3.txt\", sep=\"\\t\", names=['a', 'b','c','d','e','f', 'g', 'Geneid'])\n",
    "df_gene = pd.read_csv(\"G:/TM-1_leaf_3D-genome/RNA_Seq/TM-1_allgene_FPKM_TPM.txt\", sep='\\t')\n",
    "\n",
    "df_atac_gene = pd.merge(df_gene, df_atac, how='inner', on=['Geneid'])\n",
    "df_h3k4me3_gene = pd.merge(df_gene, df_h3k4me3, how='inner', on=['Geneid'])\n",
    "df_h3k27ac_gene = pd.merge(df_gene, df_h3k27ac, how='inner', on=['Geneid'])\n",
    "df_h3k27me3_gene = pd.merge(df_gene, df_h3k27me3, how='inner', on=['Geneid'])\n",
    "\n",
    "df_atac_gene = df_atac_gene[['Geneid', 'FPKM']]\n",
    "df_h3k4me3_gene = df_h3k4me3_gene[['Geneid', 'FPKM']]\n",
    "df_h3k27ac_gene = df_h3k27ac_gene[['Geneid', 'FPKM']]\n",
    "df_h3k27me3_gene = df_h3k27me3_gene[['Geneid', 'FPKM']]\n",
    "\n",
    "df_atac_gene['tags'] = ['ATAC']*df_atac_gene.shape[0]\n",
    "df_h3k4me3_gene['tags'] = ['H3K4me3']*df_h3k4me3_gene.shape[0]\n",
    "df_h3k27ac_gene['tags'] = ['H3K27ac']*df_h3k27ac_gene.shape[0]\n",
    "df_h3k27me3_gene['tags'] = ['H3K27me3']*df_h3k27me3_gene.shape[0]\n",
    "\n",
    "df_result = df_atac_gene.append([df_h3k4me3_gene, df_h3k27ac_gene, df_h3k27me3_gene], ignore_index=True)\n",
    "df_result.drop_duplicates(keep='first', inplace=True)\n",
    "print(df_result.groupby(by=['tags']).count())\n",
    "df_result.to_csv(\"G:/TM-1_leaf_3D-genome/HiC/loop/loop_3k/CREs/CRE_regulated_gene_fpkm.txt\", sep='\\t', index=False)"
   ]
  },
  {
   "cell_type": "code",
   "execution_count": 21,
   "metadata": {},
   "outputs": [],
   "source": [
    "## 分析CRE调控基因表达的差异\n",
    "import pandas as pd\n",
    "df_cre = pd.read_csv(\"G:/TM-1_leaf_3D-genome/HiC/loop/loop_3k/CREs/CRE_regulated_gene_fpkm.txt\", sep=\"\\t\")\n",
    "df_hg_pairs = pd.read_csv(\"G:/TM-1_leaf_3D-genome/RNA_Seq/all_homo_gene_pairs_position.txt\", sep=\"\\t\")\n",
    "df_hg_pairs_id = df_hg_pairs[['geneid_at', 'geneid_dt']].copy()\n",
    "df_gene_all_cre = pd.DataFrame(columns = ['geneid', 'cres'])\n",
    "for index, row in df_cre.iterrows():\n",
    "    g_name = row['Geneid']\n",
    "    tags_list = \"-\".join(sorted(df_cre.query(\"Geneid==@g_name\")['tags'].tolist()))\n",
    "    df_gene_all_cre.loc[df_gene_all_cre.shape[0], ] = [g_name, tags_list]\n",
    "df_gene_all_cre.drop_duplicates(keep='first', inplace=True)\n",
    "df_at_cre = df_gene_all_cre.query(\"geneid.str.contains('Ghir_A')\", engine='python')\n",
    "df_dt_cre = df_gene_all_cre.query(\"geneid.str.contains('Ghir_D')\", engine='python')\n",
    "df_at_cre.columns = ['geneid_at', 'cres_at']\n",
    "df_dt_cre.columns = ['geneid_dt', 'cres_dt']\n",
    "df_one = pd.merge(df_hg_pairs_id, df_at_cre, how='left', on=['geneid_at'])\n",
    "df_result = pd.merge(df_one, df_dt_cre, how='left', on=['geneid_dt'])\n",
    "df_result.fillna(\"no_cres\", inplace=True)\n",
    "df_result.to_csv(\"G:/TM-1_leaf_3D-genome/HiC/loop/loop_3k/CREs/homo_gene_cres/all_homo_gene_cre_tags.txt\", sep=\"\\t\", index=False)\n"
   ]
  },
  {
   "cell_type": "code",
   "execution_count": 61,
   "metadata": {},
   "outputs": [
    {
     "name": "stdout",
     "output_type": "stream",
     "text": [
      "5977\n"
     ]
    }
   ],
   "source": [
    "## 分析有多少同源基因对受到不同的CREs调控差异， 将CREs 分为两类，1是有H3K27me3 修饰，另一类是没有H3K27me3修饰的，以此来分析调控差异\n",
    "import pandas as pd\n",
    "df = pd.read_csv(\"G:/TM-1_leaf_3D-genome/HiC/loop/loop_3k/CREs/homo_gene_cres/all_homo_gene_cre_tags.txt\", sep='\\t')\n",
    "#df_diff_cre_hg = df.query(\"((cres_at.str.contains('H3K27me3')) & (~cres_dt.str.contains('H3K27me3'))) | ((~cres_at.str.contains('H3K27me3')) & (cres_dt.str.contains('H3K27me3')))\", engine='python')\n",
    "df_diff_cre_hg = df.query(\"cres_at!=cres_dt\", engine='python')\n",
    "#df_diff_cre_hg = df.query(\"(cres_at=='H3K27me3' & cres_dt!='H3K27me3') | (cres_at!='H3K27me3' & cres_dt=='H3K27me3')\", engine='python')\n",
    "df_diff_cre_hg.to_csv(\"G:/TM-1_leaf_3D-genome/HiC/loop/loop_3k/CREs/homo_gene_cres/diff_cres/all_homo_gene_diff_cre.txt\", sep='\\t', index=False)\n",
    "print(df_diff_cre_hg.shape[0])"
   ]
  },
  {
   "cell_type": "code",
   "execution_count": 59,
   "metadata": {},
   "outputs": [
    {
     "name": "stdout",
     "output_type": "stream",
     "text": [
      "716\n"
     ]
    }
   ],
   "source": [
    "## 分析这些差异的CRE修饰影响了多少同源基因发生bias表达\n",
    "df_bias_gene = pd.read_csv(\"G:/TM-1_leaf_3D-genome/RNA_Seq/bias/all_bias_expression.txt\", sep=\"\\t\")\n",
    "df_bias_gene.rename(columns = {'Geneid_at':'geneid_at', 'Geneid_dt':'geneid_dt'}, inplace=True)\n",
    "df_diff_cre_bias_gene = pd.merge(df_bias_gene, df_diff_cre_hg, how='inner', on=['geneid_at', 'geneid_dt'])\n",
    "print(df_diff_cre_bias_gene.shape[0])"
   ]
  },
  {
   "cell_type": "code",
   "execution_count": 64,
   "metadata": {},
   "outputs": [
    {
     "name": "stdout",
     "output_type": "stream",
     "text": [
      "[43, 52, 43, 41, 33, 44, 46, 40, 49, 37, 49, 52, 48, 37, 35, 40, 40, 37, 47, 44, 42, 32, 36, 40, 47, 44, 43, 34, 46, 45, 42, 43, 40, 47, 42, 32, 45, 37, 33, 40, 37, 45, 41, 41, 37, 36, 33, 39, 36, 40, 50, 45, 49, 48, 36, 45, 40, 34, 54, 50, 44, 43, 45, 42, 44, 40, 48, 48, 44, 40, 38, 40, 42, 41, 39, 49, 41, 49, 38, 42, 35, 49, 53, 34, 47, 32, 58, 43, 40, 38, 54, 37, 31, 34, 34, 45, 36, 39, 41, 35]\n",
      "41.75\n"
     ]
    }
   ],
   "source": [
    "## 分析随机选择的基因是否会与cres不同的修饰间存在差异\n",
    "import pandas as pd\n",
    "from numpy import *\n",
    "df_homo_gene = pd.read_csv(\"G:/TM-1_leaf_3D-genome/RNA_Seq/all_homo_gene_pairs_position.txt\", sep=\"\\t\")\n",
    "df_bias_gene = pd.read_csv(\"G:/TM-1_leaf_3D-genome/RNA_Seq/bias/all_bias_expression.txt\", sep=\"\\t\")\n",
    "df_bias_gene.rename(columns = {'Geneid_at':'geneid_at', 'Geneid_dt':'geneid_dt'}, inplace=True)\n",
    "df_cres_gene = pd.read_csv(\"G:/TM-1_leaf_3D-genome/HiC/loop/loop_3k/CREs/homo_gene_cres/diff_cres/all_homo_gene_diff_cre.txt\", sep=\"\\t\")\n",
    "sums = []\n",
    "for i in range(100):\n",
    "    df_sample_gene = df_homo_gene.sample(n=1458, replace=False, axis=0)\n",
    "    df_sample_bias_gene = pd.merge(df_sample_gene, df_bias_gene, how='inner', on=['geneid_at', 'geneid_dt'])\n",
    "    df_diff_cres_gene_bias = pd.merge(df_sample_bias_gene, df_cres_gene, how='inner', on=['geneid_at', 'geneid_dt'])\n",
    "    sums.append(df_diff_cres_gene_bias.shape[0])\n",
    "print(sums)\n",
    "print(mean(sums))"
   ]
  },
  {
   "cell_type": "code",
   "execution_count": 55,
   "metadata": {},
   "outputs": [
    {
     "name": "stdout",
     "output_type": "stream",
     "text": [
      "               geneid        fpkm         tags subg\n",
      "0     Ghir_A01G000380    1.336266  activate_at   At\n",
      "1     Ghir_A01G003790    0.232375  activate_at   At\n",
      "2     Ghir_A01G004050    1.135771  activate_dt   At\n",
      "3     Ghir_A01G004110    0.000000  activate_at   At\n",
      "4     Ghir_A01G004130    0.936799  activate_dt   At\n",
      "...               ...         ...          ...  ...\n",
      "2911  Ghir_D13G022800    7.390208  activate_dt   Dt\n",
      "2912  Ghir_D13G025580  114.581490  activate_dt   Dt\n",
      "2913  Ghir_D13G025590    2.203940  activate_dt   Dt\n",
      "2914  Ghir_D03G006480    0.000000  activate_at   Dt\n",
      "2915  Ghir_D13G010850    3.922005  activate_at   Dt\n",
      "\n",
      "[2916 rows x 4 columns]\n"
     ]
    }
   ],
   "source": [
    "# 由于bias 表达是质变，即需要达到某个人为设定的标准则视为它能够被认为发生了bias表达， \n",
    "# 而我们来分析这个不同修饰所能够引起的同源基因对上表达量的差异是否显著来分析复杂的CRE调控关系对于基因表达的影响\n",
    "import pandas as pd\n",
    "df_hg_cres = pd.read_csv('G:/TM-1_leaf_3D-genome/HiC/loop/loop_3k/CREs/homo_gene_cres/all_homo_gene_cre_tags.txt', sep='\\t')\n",
    "df_hg_at_activate = df_hg_cres.query(\"(cres_at!='H3K27me3' & cres_dt=='H3K27me3')\", engine='python').copy()\n",
    "df_hg_dt_activate = df_hg_cres.query(\"(cres_at=='H3K27me3' & cres_dt!='H3K27me3')\", engine='python').copy()\n",
    "\n",
    "df_hg_at_activate['at_sigs'] = ['activate_at']*df_hg_at_activate.shape[0]\n",
    "df_hg_at_activate['dt_sigs'] = ['activate_at']*df_hg_at_activate.shape[0]\n",
    "\n",
    "df_hg_dt_activate['at_sigs'] = ['activate_dt']*df_hg_dt_activate.shape[0]\n",
    "df_hg_dt_activate['dt_sigs'] = ['activate_dt']*df_hg_dt_activate.shape[0]\n",
    "\n",
    "df_hg_at_dt_activate = df_hg_at_activate.append(df_hg_dt_activate, ignore_index=True)\n",
    "#print(df_hg_at_dt_activate)\n",
    "df_hg_at = df_hg_at_dt_activate[['geneid_at', 'at_sigs']]\n",
    "df_hg_dt = df_hg_at_dt_activate[['geneid_dt', 'dt_sigs']]\n",
    "\n",
    "df_hg_fpkm = pd.read_csv('G:/TM-1_leaf_3D-genome/RNA_Seq/all_hg_expression.txt', sep='\\t')\n",
    "df_hg_fpkm = df_hg_fpkm[['Geneid_at', 'FPKM_at', 'Geneid_dt', 'FPKM_dt']].copy()\n",
    "df_hg_fpkm.columns = ['geneid_at', 'fpkm_at', 'geneid_dt', 'fpkm_dt']\n",
    "df_one = pd.merge(df_hg_fpkm, df_hg_at, how='left', on=['geneid_at'])\n",
    "df_two = pd.merge(df_one, df_hg_dt, how='left', on=['geneid_dt'])\n",
    "df_two.dropna(inplace=True)\n",
    "\n",
    "df_at = df_two[['geneid_at', 'fpkm_at', 'at_sigs']].copy()\n",
    "df_dt = df_two[['geneid_dt', 'fpkm_dt', 'dt_sigs']].copy()\n",
    "\n",
    "df_at.columns = ['geneid', 'fpkm', 'tags']\n",
    "df_dt.columns = ['geneid', 'fpkm', 'tags']\n",
    "df_result = df_at.append(df_dt, ignore_index=True)\n",
    "\n",
    "for index, row in df_result.iterrows():\n",
    "    chrs = row['geneid']\n",
    "    if 'Ghir_A' in chrs:\n",
    "        subg = 'At'\n",
    "    else:\n",
    "        subg = 'Dt'\n",
    "    df_result.loc[index, 'subg'] = subg\n",
    "print(df_result)\n",
    "df_result.to_csv('G:/TM-1_leaf_3D-genome/HiC/loop/loop_3k/CREs/homo_gene_cres/diff_cres/diff_cres_gene_fpkm.txt', sep='\\t', index=False)\n",
    "\n"
   ]
  }
 ],
 "metadata": {
  "interpreter": {
   "hash": "68d7e64a8ef1e11c6d28b945075670502b4996810cedadb5f7222a36b8861f26"
  },
  "kernelspec": {
   "display_name": "Python 3.8.3 ('base')",
   "language": "python",
   "name": "python3"
  },
  "language_info": {
   "codemirror_mode": {
    "name": "ipython",
    "version": 3
   },
   "file_extension": ".py",
   "mimetype": "text/x-python",
   "name": "python",
   "nbconvert_exporter": "python",
   "pygments_lexer": "ipython3",
   "version": "3.8.3"
  },
  "orig_nbformat": 4
 },
 "nbformat": 4,
 "nbformat_minor": 2
}
