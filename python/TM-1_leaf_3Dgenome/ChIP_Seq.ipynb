{
 "cells": [
  {
   "cell_type": "code",
   "execution_count": 6,
   "metadata": {},
   "outputs": [
    {
     "name": "stdout",
     "output_type": "stream",
     "text": [
      "homo gene have ATAC homo peaks is: 10433\n",
      "homo gene have H3K27ac homo peaks is: 9257\n",
      "homo gene have H3K4me3 homo peaks is: 13906\n",
      "homo gene have H3K27me3 homo peaks is: 3912\n"
     ]
    }
   ],
   "source": [
    "#! analsis the peaks site in homo gene region\n",
    "import pandas as pd\n",
    "df_atac = pd.read_csv(\"G:/TM-1_leaf_3D-genome/ChIP/homo_gene_homo_peaks/homo_gene_ATAC_peaks.txt\", sep=\"\\t\", names=['GeneId', 'Tags'])\n",
    "df_H3K27ac = pd.read_csv(\"G:/TM-1_leaf_3D-genome/ChIP/homo_gene_homo_peaks/homo_gene_H3K27ac_peaks.txt\", sep=\"\\t\", names=['GeneId', 'Tags'])\n",
    "df_H3K27me3 = pd.read_csv(\"G:/TM-1_leaf_3D-genome/ChIP/homo_gene_homo_peaks/homo_gene_H3K27me3_peaks.txt\", sep=\"\\t\", names=['GeneId', 'Tags'])\n",
    "df_H3K4me3 = pd.read_csv(\"G:/TM-1_leaf_3D-genome/ChIP/homo_gene_homo_peaks/homo_gene_H3K4me3_peaks.txt\", sep=\"\\t\", names=['GeneId', 'Tags'])\n",
    "df_homo_gene_pairs = pd.read_csv(\"G:/TM-1_leaf_3D-genome/RNA_Seq/all_homo_gene_pairs_position.txt\", sep='\\t')\n",
    "df_hg_pairs_id = df_homo_gene_pairs[['geneid_at', 'geneid_dt']]\n",
    "def find_homo_peaks_site(df_chip, df_gene, tags):\n",
    "    output_f = \"G:/TM-1_leaf_3D-genome/ChIP/homo_gene_homo_peaks/{}_homo_peaks.txt\".format(tags)\n",
    "    df_chip_at = df_chip.query(\"GeneId.str.contains('Ghir_A')\", engine='python')\n",
    "    df_chip_dt = df_chip.query(\"GeneId.str.contains('Ghir_D')\", engine='python')\n",
    "    df_chip_at.columns = ['geneid_at', 'tags_at']\n",
    "    df_chip_dt.columns = ['geneid_dt', 'tags_dt']\n",
    "    df_one = pd.merge(df_gene, df_chip_at, how='left', on=['geneid_at'])\n",
    "    df_result = pd.merge(df_one, df_chip_dt, how='left', on=['geneid_dt'])\n",
    "    print(\"homo gene have {0} homo peaks is: {1}\".format(tags, df_result.query(\"tags_at==@tags & tags_dt==@tags\").shape[0]))\n",
    "    df_result.to_csv(output_f, sep='\\t', index=False)\n",
    "find_homo_peaks_site(df_atac, df_hg_pairs_id, 'ATAC')\n",
    "find_homo_peaks_site(df_H3K27ac, df_hg_pairs_id, 'H3K27ac')\n",
    "find_homo_peaks_site(df_H3K4me3, df_hg_pairs_id, 'H3K4me3')\n",
    "find_homo_peaks_site(df_H3K27me3, df_hg_pairs_id, 'H3K27me3')\n"
   ]
  },
  {
   "cell_type": "code",
   "execution_count": 2,
   "metadata": {},
   "outputs": [],
   "source": [
    "import pandas as pd\n",
    "df_chiapet = pd.DataFrame(columns=['tags'])\n",
    "df_chipseq = pd.DataFrame(columns=['tags'])\n",
    "for i in range(100):\n",
    "    df_chiapet.loc[df_chiapet.shape[0]] = i\n",
    "for i in range(82):\n",
    "    df_chipseq.loc[df_chipseq.shape[0]] =i\n",
    "df_chipseq.to_csv(\"G:/Billfish/TM-1_leaf_3D-genome/PBJ_modification/PBJ_20220527/chipseq.txt\", sep='\\t', index=False)\n",
    "df_chiapet.to_csv(\"G:/Billfish/TM-1_leaf_3D-genome/PBJ_modification/PBJ_20220527/chiapet.txt\", sep='\\t', index=False)\n"
   ]
  }
 ],
 "metadata": {
  "interpreter": {
   "hash": "a0f669ea42a4dcea88d385f8f9b4c3d9b966e24234758831d1dbfdac925619a2"
  },
  "kernelspec": {
   "display_name": "Python 3.8.3 ('base')",
   "language": "python",
   "name": "python3"
  },
  "language_info": {
   "codemirror_mode": {
    "name": "ipython",
    "version": 3
   },
   "file_extension": ".py",
   "mimetype": "text/x-python",
   "name": "python",
   "nbconvert_exporter": "python",
   "pygments_lexer": "ipython3",
   "version": "3.8.3"
  },
  "orig_nbformat": 4
 },
 "nbformat": 4,
 "nbformat_minor": 2
}
