{
 "cells": [
  {
   "cell_type": "code",
   "execution_count": 3,
   "metadata": {},
   "outputs": [],
   "source": [
    "# 将基因ID 与拟南芥ID 对应\n",
    "import pandas as pd \n",
    "df = pd.read_csv(\"G:/Billfish/boyang/HiC/compartment/100k/cworld/switch_compartment/GO/7dRW_8dRW_BA_geneid.bed\", sep=\"\\t\", names=['GeneId'])\n",
    "df_TAIR = pd.read_csv(\"G:/Billfish/J668_multip_tissue_3D-genome/RNA_seq/Gh_vs_Arabidopsis.txt\", sep=\"\\t\", names=['GeneId', 'TAIR_ID'])\n",
    "df_result = pd.merge(df, df_TAIR, how='left', on=['GeneId'])\n",
    "df_result.drop_duplicates(keep='first', inplace=True)\n",
    "df_result.to_csv(\"G:/Billfish/boyang/HiC/compartment/100k/cworld/switch_compartment/GO/7dRW_8dRW_BA_TAIRID.bed\", sep=\"\\t\", index=False)"
   ]
  },
  {
   "cell_type": "code",
   "execution_count": 3,
   "metadata": {},
   "outputs": [],
   "source": [
    "# 将宽数据转换为长数据\n",
    "import pandas as pd\n",
    "df = pd.read_csv(\"G:/Billfish/boyang/RNA_Seq/4_stage_FPKM.matrix\", sep=\"\\t\")\n",
    "df_long = pd.melt(df, id_vars=['GeneId'])\n",
    "df_long.columns = ['GeneId', 'Sample', 'FPKM']\n",
    "df_long.to_csv(\"G:/Billfish/boyang/RNA_Seq/4_stage_FPKM_long.csv\", index=False)"
   ]
  },
  {
   "cell_type": "code",
   "execution_count": 14,
   "metadata": {},
   "outputs": [],
   "source": [
    "## 分析A/B compartment所包含的基因及其表达水平\n",
    "import pandas as pd\n",
    "df_AB = pd.read_csv(\"G:/Billfish/boyang/HiC/compartment/100k/cworld/J668_ABcpt_all_gene.bed\",names=['GeneId', 'ABcpt', 'Sample'])\n",
    "df_gene = pd.read_csv(\"G:/Billfish/boyang/RNA_Seq/4_stage_FPKM_long.csv\")\n",
    "df_result = pd.merge(df_AB, df_gene, how='inner', on=['GeneId', 'Sample'])\n",
    "#df_result['sig'] = df_result['Sample'].apply(lambda x: \"7\" if '7' in str(x) else \"8\")\n",
    "df_result.to_csv(\"G:/Billfish/boyang/HiC/compartment/100k/cworld/J668_ABcpt_all_gene_fpkm.bed\", index=False)\n"
   ]
  }
 ],
 "metadata": {
  "kernelspec": {
   "display_name": "Python 3.8.3 ('base')",
   "language": "python",
   "name": "python3"
  },
  "language_info": {
   "codemirror_mode": {
    "name": "ipython",
    "version": 3
   },
   "file_extension": ".py",
   "mimetype": "text/x-python",
   "name": "python",
   "nbconvert_exporter": "python",
   "pygments_lexer": "ipython3",
   "version": "3.8.3"
  },
  "orig_nbformat": 4,
  "vscode": {
   "interpreter": {
    "hash": "a0f669ea42a4dcea88d385f8f9b4c3d9b966e24234758831d1dbfdac925619a2"
   }
  }
 },
 "nbformat": 4,
 "nbformat_minor": 2
}
