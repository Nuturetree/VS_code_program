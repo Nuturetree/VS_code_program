{
 "cells": [
  {
   "cell_type": "code",
   "execution_count": 14,
   "metadata": {},
   "outputs": [],
   "source": [
    "import pandas as pd\n",
    "df_7dID = pd.read_csv(\"G:/Billfish/boyang/HiC/compartment/100k/cworld/interaction_density/7dID_500K_A01.bed\", sep=\"\\t\", names=['chrs', 'number'])\n",
    "df_7dMD = pd.read_csv(\"G:/Billfish/boyang/HiC/compartment/100k/cworld/interaction_density/7dMD_500K_A01.bed\", sep=\"\\t\", names=['chrs', 'number'])\n",
    "df_7dSD = pd.read_csv(\"G:/Billfish/boyang/HiC/compartment/100k/cworld/interaction_density/7dSD_500K_A01.bed\", sep=\"\\t\", names=['chrs', 'number'])\n",
    "df_7dRW = pd.read_csv(\"G:/Billfish/boyang/HiC/compartment/100k/cworld/interaction_density/7dRW_500K_A01.bed\", sep=\"\\t\", names=['chrs', 'number'])\n",
    "df_7dID_500K = df_7dID.query(\"number <= 50000 & number >= 3000\").copy()\n",
    "df_7dMD_500K = df_7dMD.query(\"number <= 50000 & number >= 3000\").copy()\n",
    "df_7dSD_500K = df_7dSD.query(\"number <= 50000 & number >= 3000\").copy()\n",
    "df_7dRW_500K = df_7dRW.query(\"number <= 50000 & number >= 3000\").copy()\n",
    "\n",
    "df_7dID_500K['tags'] = ['7dID']*df_7dID_500K.shape[0]\n",
    "df_7dMD_500K['tags'] = ['7dMD']*df_7dMD_500K.shape[0]\n",
    "df_7dSD_500K['tags'] = ['7dSD']*df_7dSD_500K.shape[0]\n",
    "df_7dRW_500K['tags'] = ['7dRW']*df_7dRW_500K.shape[0]\n",
    "\n",
    "df_result = pd.concat([df_7dID_500K, df_7dMD_500K, df_7dSD_500K, df_7dRW_500K], axis=0)\n",
    "df_result.to_csv(\"G:/Billfish/boyang/HiC/compartment/100k/cworld/interaction_density/7d_100k.bed\", sep=\"\\t\", index=False)"
   ]
  },
  {
   "cell_type": "code",
   "execution_count": 5,
   "metadata": {},
   "outputs": [],
   "source": [
    "## 分析A/B compartment 所占基因，及其表达水平\n",
    "samp_bg = 'result.txt'\n",
    "temp_bg = 'test.txt'\n",
    "bg_handle = open(samp_bg, \"w\")\n",
    "with open(temp_bg) as temp_bg_handle:\n",
    "        for line in temp_bg_handle:\n",
    "               row = line.split(\"\\t\")\n",
    "               row[3] = (\"%.2f\" % float(row[3]))\n",
    "               add_line = \"{0}\\t{1}\\t{2}\\t{3}\\n\".format(row[0], row[1], row[2], row[3])\n",
    "               bg_handle.write(add_line)\n",
    "bg_handle.close()"
   ]
  }
 ],
 "metadata": {
  "kernelspec": {
   "display_name": "Python 3.8.3 ('base')",
   "language": "python",
   "name": "python3"
  },
  "language_info": {
   "codemirror_mode": {
    "name": "ipython",
    "version": 3
   },
   "file_extension": ".py",
   "mimetype": "text/x-python",
   "name": "python",
   "nbconvert_exporter": "python",
   "pygments_lexer": "ipython3",
   "version": "3.8.3"
  },
  "orig_nbformat": 4,
  "vscode": {
   "interpreter": {
    "hash": "a0f669ea42a4dcea88d385f8f9b4c3d9b966e24234758831d1dbfdac925619a2"
   }
  }
 },
 "nbformat": 4,
 "nbformat_minor": 2
}
