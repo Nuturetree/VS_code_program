{
 "cells": [
  {
   "cell_type": "code",
   "execution_count": 3,
   "metadata": {},
   "outputs": [
    {
     "name": "stdout",
     "output_type": "stream",
     "text": [
      "tags\n",
      "Conserved     3255\n",
      "Dynamic      79274\n",
      "NHanchor     38160\n",
      "NHloops      18851\n",
      "Name: number, dtype: int64\n"
     ]
    }
   ],
   "source": [
    "import pandas as pd\n",
    "df = pd.read_csv(\"G:/Billfish/J668_multip_tissue_3D-genome/HiC/loops/subg_loop_compare/loose/hypocotyl_subg_loop_compare.bed\", sep=\"\\t\")\n",
    "df['number'] = [1]*df.shape[0]\n",
    "df_result = df.groupby(by=['tags'], axis=False)['number'].sum()\n",
    "print(df_result)"
   ]
  },
  {
   "cell_type": "code",
   "execution_count": 4,
   "metadata": {},
   "outputs": [
    {
     "name": "stdout",
     "output_type": "stream",
     "text": [
      "tags\n",
      "Conserved      2919\n",
      "Dynamic       16635\n",
      "NHanchor     114525\n",
      "NHloops        5461\n",
      "Name: number, dtype: int64\n"
     ]
    }
   ],
   "source": [
    "import pandas as pd\n",
    "df = pd.read_csv(\"G:/Billfish/J668_multip_tissue_3D-genome/HiC/loops/subg_loop_compare/strict/hypocotyl_subg_loop_compare.bed\", sep=\"\\t\")\n",
    "df['number'] = [1]*df.shape[0]\n",
    "df_result = df.groupby(by=['tags'], axis=False)['number'].sum()\n",
    "print(df_result)"
   ]
  },
  {
   "cell_type": "code",
   "execution_count": null,
   "metadata": {},
   "outputs": [],
   "source": [
    "df = pd.re\n",
    "df_result['number'] = [1]*df_result.shape[0]\n",
    "df_result = df_result.groupby(by=['tags'], as_index=False)['number'].sum()\n",
    "print(df_result)"
   ]
  },
  {
   "cell_type": "code",
   "execution_count": 10,
   "metadata": {},
   "outputs": [
    {
     "name": "stdout",
     "output_type": "stream",
     "text": [
      "     chrom1  start1    end1    chrom2  start2    end2  tags1  tags2  \\\n",
      "0  Ghir_A01  267000  270000  Ghir_A01  327000  330000   Hbin   Hbin   \n",
      "1  Ghir_A01  369000  372000  Ghir_A01  459000  462000  NHbin   Hbin   \n",
      "2  Ghir_A01  399000  402000  Ghir_A01  435000  438000   Hbin   Hbin   \n",
      "3  Ghir_A01  450000  453000  Ghir_A01  498000  501000  NHbin  NHbin   \n",
      "4  Ghir_A01  642000  645000  Ghir_A01  741000  744000  NHbin  NHbin   \n",
      "\n",
      "   number1_pair  number2_pair      tags sig1 sig2  \n",
      "0           0.0           3.0   Dynamic    G    G  \n",
      "1           0.0           4.0  NHanchor    N    G  \n",
      "2           0.0           0.0   NHloops    N    G  \n",
      "3           0.0           0.0  NHanchor    N    G  \n",
      "4           0.0           0.0  NHanchor    N    N  \n"
     ]
    }
   ],
   "source": [
    "## \n",
    "import pandas as pd\n",
    "df_loop = pd.read_csv(\"G:/Billfish/J668_multip_tissue_3D-genome/HiC/loops/subg_loop_compare/loose/hypocotyl_subg_loop_compare.bed\", sep=\"\\t\")\n",
    "df_loop_type = pd.read_csv(\"G:/Billfish/J668_multip_tissue_3D-genome/HiC/loops/loop_type/J668_loop_type.bed\", sep=\"\\t\")\n",
    "df_hypocotyl_type = df_loop_type.query(\"tissues=='hypocotyl'\")[['chrom1', 'start1', 'end1', 'tags1', 'chrom2', 'start2', 'end2', 'tags2']].copy()\n",
    "df_hypocotyl_type.columns = ['chrom1', 'start1', 'end1', 'sig1', 'chrom2', 'start2', 'end2', 'sig2']\n",
    "df_result = pd.merge(df_loop, df_hypocotyl_type, how='inner', on=['chrom1', 'start1', 'end1', 'chrom2', 'start2', 'end2'])\n",
    "\n",
    "\n"
   ]
  }
 ],
 "metadata": {
  "kernelspec": {
   "display_name": "Python 3.8.3 ('base')",
   "language": "python",
   "name": "python3"
  },
  "language_info": {
   "codemirror_mode": {
    "name": "ipython",
    "version": 3
   },
   "file_extension": ".py",
   "mimetype": "text/x-python",
   "name": "python",
   "nbconvert_exporter": "python",
   "pygments_lexer": "ipython3",
   "version": "3.8.3"
  },
  "orig_nbformat": 4,
  "vscode": {
   "interpreter": {
    "hash": "a0f669ea42a4dcea88d385f8f9b4c3d9b966e24234758831d1dbfdac925619a2"
   }
  }
 },
 "nbformat": 4,
 "nbformat_minor": 2
}
