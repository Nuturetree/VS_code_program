{
 "cells": [
  {
   "cell_type": "code",
   "execution_count": 6,
   "metadata": {},
   "outputs": [
    {
     "name": "stdout",
     "output_type": "stream",
     "text": [
      "        tissues    sig  number\n",
      "7        anther  BiasA    3107\n",
      "4        anther  BiasD    3264\n",
      "15    cotyledon  BiasA    2757\n",
      "10    cotyledon  BiasD    2938\n",
      "8   fiber_10DPA  BiasA    3026\n",
      "5   fiber_10DPA  BiasD    3259\n",
      "9   fiber_20DPA  BiasA    2953\n",
      "6   fiber_20DPA  BiasD    3110\n",
      "17    hypocotyl  BiasA    2666\n",
      "14    hypocotyl  BiasD    2799\n",
      "21         leaf  BiasA    2521\n",
      "12         leaf  BiasD    2849\n",
      "23        ovule  BiasA    2256\n",
      "19        ovule  BiasD    2541\n",
      "3         petal  BiasA    3399\n",
      "1         petal  BiasD    3542\n",
      "22      radicle  BiasA    2449\n",
      "20      radicle  BiasD    2538\n",
      "18         root  BiasA    2609\n",
      "13         root  BiasD    2808\n",
      "16         stem  BiasA    2719\n",
      "11         stem  BiasD    2892\n",
      "2        stigma  BiasA    3424\n",
      "0        stigma  BiasD    3622\n",
      "24 70048\n"
     ]
    }
   ],
   "source": [
    "## 确认同源基因bias是否是可表达bias基因对\n",
    "import pandas as pd\n",
    "df = pd.read_csv(\"G:/Billfish/J668_multip_tissue_3D-genome/new_RNA_Seq/homo_gene2/gene_bias/all_tissue_bias_gene_pair.bed\", sep='\\t')\n",
    "df_exp = df.query(\"TPM_At/TPM_Dt>=2 | TPM_Dt/TPM_At>=2\")\n",
    "df_exp = df_exp.query(\"TPM_At>=0.5 | TPM_Dt>=0.5\")\n",
    "df = pd.DataFrame(df_exp[['tissues', 'sig']].value_counts(), columns=['number'])\n",
    "df.reset_index(inplace=True)\n",
    "df = df.sort_values(['tissues', 'sig'])\n",
    "print(df)\n",
    "print(df.shape[0], df_exp.shape[0])"
   ]
  },
  {
   "cell_type": "code",
   "execution_count": 10,
   "metadata": {},
   "outputs": [
    {
     "data": {
      "text/plain": [
       "Not     34264\n",
       "Down    17016\n",
       "Up      15496\n",
       "Name: sig, dtype: int64"
      ]
     },
     "execution_count": 10,
     "metadata": {},
     "output_type": "execute_result"
    }
   ],
   "source": [
    "df = pd.read_csv(\"G:/Billfish/J668_multip_tissue_3D-genome/new_RNA_Seq/DEG/tissue/J668_mutipTissues_DEG.csv\")\n",
    "df_anther_ovule = df.query(\"tags=='anther-ovule'\")\n",
    "df_anther_ovule['sig'].value_counts()"
   ]
  },
  {
   "cell_type": "code",
   "execution_count": 15,
   "metadata": {},
   "outputs": [],
   "source": [
    "df = pd.read_csv(\"G:/Billfish/J668_multip_tissue_3D-genome/new_RNA_Seq/DEG/tissue/J668_mutipTissues_DEG.csv\")\n",
    "df[['control', 'treatment']] = df['tags'].str.split('-', expand=True)\n",
    "df.rename(columns={\"sig\":'sigs'}, inplace=True)\n",
    "df.drop('tags', inplace=True, axis=1)\n",
    "df.to_csv(\"G:/Billfish/J668_multip_tissue_3D-genome/new_RNA_Seq/DEG/tissue/J668_mutipTissues_DEG.csv\", index=False)"
   ]
  },
  {
   "cell_type": "code",
   "execution_count": 3,
   "metadata": {},
   "outputs": [],
   "source": [
    "## 合并所有组织的ATAC peaks\n",
    "import pandas as pd\n",
    "tissues = ['anther', 'fiber_10DPA', 'fiber_20DPA', 'hypocotyl', 'ovule', 'petal', 'radicle', 'stigma']\n",
    "df = pd.DataFrame()\n",
    "for t in tissues:\n",
    "    input_f = \"G:/Billfish/J668_multip_tissue_3D-genome/ATAC/rawdata/{}_total_peaks_merge_BL.bed\".format(t)\n",
    "    df_tmp = pd.read_csv(input_f, sep=\"\\t\", names =['chorm', 'start', 'end'])\n",
    "    df_tmp['tissues'] = [t]*df_tmp.shape[0]\n",
    "    df = pd.concat([df, df_tmp], axis=0)\n",
    "df.to_csv(\"G:/Billfish/J668_multip_tissue_3D-genome/ATAC/rawdata/J668_total_peaks_merge_BL.csv\", index=False)"
   ]
  },
  {
   "cell_type": "code",
   "execution_count": 7,
   "metadata": {},
   "outputs": [],
   "source": [
    "## 合并所有组织的 H3K27ac\n",
    "import pandas as pd\n",
    "tissues = ['cotyledon', 'hypocotyl', 'ovule', 'radicle', 'root', 'stem', 'stigma']\n",
    "df = pd.DataFrame()\n",
    "for t in tissues:\n",
    "    input_f = \"G:/Billfish/J668_multip_tissue_3D-genome/Chip_Seq/peaks/{}_H3K27ac_remvBL.bed\".format(t)\n",
    "    df_tmp = pd.read_csv(input_f,  sep=\"\\t\", names=['chrom', 'start', 'end'])\n",
    "    df_tmp['tissues'] = [t]*df_tmp.shape[0]\n",
    "    df = pd.concat([df, df_tmp], axis=0)\n",
    "df.sort_values(by=['tissues', 'chrom', 'start'], inplace=True)\n",
    "df.to_csv(\"G:/Billfish/J668_multip_tissue_3D-genome/Chip_Seq/peaks/J668_H3K27ac_remvBL.csv\", index=False)"
   ]
  },
  {
   "cell_type": "code",
   "execution_count": 6,
   "metadata": {},
   "outputs": [],
   "source": [
    "## 合并所有组织的 H3K4me3\n",
    "import pandas as pd\n",
    "tissues = ['anther', 'cotyledon', 'hypocotyl', 'leaf', 'ovule', 'petal', 'radicle', 'stem', 'stigma']\n",
    "df = pd.DataFrame()\n",
    "for t in tissues:\n",
    "    input_f = \"G:/Billfish/J668_multip_tissue_3D-genome/Chip_Seq/peaks/{}_H3K4me3_remvBL.bed\".format(t)\n",
    "    df_tmp = pd.read_csv(input_f,  sep=\"\\t\", names=['chrom', 'start', 'end'])\n",
    "    df_tmp['tissues'] = [t]*df_tmp.shape[0]\n",
    "    df = pd.concat([df, df_tmp], axis=0)\n",
    "df.sort_values(by=['tissues', 'chrom', 'start'], inplace=True)\n",
    "df.to_csv(\"G:/Billfish/J668_multip_tissue_3D-genome/Chip_Seq/peaks/J668_H3K4me3_remvBL.csv\", index=False)\n"
   ]
  },
  {
   "cell_type": "code",
   "execution_count": 25,
   "metadata": {},
   "outputs": [
    {
     "name": "stdout",
     "output_type": "stream",
     "text": [
      "20755 50701 59528\n"
     ]
    }
   ],
   "source": [
    "## 合并所有组织多种修饰peaks所注释的基因\n",
    "import pandas as pd\n",
    "def peaks_geneid(tags):\n",
    "    df = pd.DataFrame()\n",
    "    if tags=='ATAC':\n",
    "        tissues = ['anther', 'fiber_10DPA', 'fiber_20DPA', 'hypocotyl', 'ovule', 'petal', 'radicle', 'stigma']\n",
    "        input_dir = \"G:/Billfish/J668_multip_tissue_3D-genome/ATAC/rawdata\"\n",
    "    elif tags=='H3K27ac':\n",
    "        tissues = ['cotyledon', 'hypocotyl', 'ovule', 'radicle', 'root', 'stem', 'stigma']\n",
    "        input_dir = \"G:/Billfish/J668_multip_tissue_3D-genome/Chip_Seq/peaks/annotation\"\n",
    "    else:\n",
    "        tissues = ['anther', 'cotyledon', 'hypocotyl', 'leaf', 'ovule', 'petal', 'radicle', 'stem', 'stigma']\n",
    "        input_dir = \"G:/Billfish/J668_multip_tissue_3D-genome/Chip_Seq/peaks/annotation\"\n",
    "    for t in tissues:\n",
    "        if tags == 'ATAC':\n",
    "            input_f = \"{0}/{1}_peaks_annotation.bed\".format(input_dir, t)\n",
    "        else:\n",
    "            input_f = \"{0}/{1}_{2}_peaks_annotation.bed\".format(input_dir, t, tags)\n",
    "        df_tmp = pd.read_csv(input_f, sep=\" \")\n",
    "        df = pd.concat([df, df_tmp], axis=0)\n",
    "    df_return = df[['geneId']].copy()\n",
    "    df_return.columns = [tags]\n",
    "    df_return.drop_duplicates(keep='first', inplace=True)\n",
    "    df_return.reset_index(drop=True, inplace=True)\n",
    "    return df_return\n",
    "df_ATAC = peaks_geneid('ATAC')\n",
    "df_H3K27ac = peaks_geneid(\"H3K27ac\")\n",
    "df_H3K4me3 = peaks_geneid(\"H3K4me3\")\n",
    "print(df_ATAC.shape[0], df_H3K27ac.shape[0], df_H3K4me3.shape[0])\n",
    "df_return = pd.concat([df_ATAC, df_H3K27ac, df_H3K4me3], axis=1, ignore_index=True)\n",
    "df_return.columns = ['ATAC', 'H3K27ac', 'H3K4me3']\n",
    "df_return.to_csv(\"G:/Billfish/J668_multip_tissue_3D-genome/ATAC_ChIP/J668_ATAC_H3K27ac_H3K4me3_peaks_annotation_gene.csv\", index=False)\n"
   ]
  },
  {
   "cell_type": "code",
   "execution_count": null,
   "metadata": {},
   "outputs": [],
   "source": [
    "import pandas as pd\n",
    "df = pd.read_csv(\"\")"
   ]
  },
  {
   "cell_type": "code",
   "execution_count": 10,
   "metadata": {},
   "outputs": [
    {
     "name": "stdout",
     "output_type": "stream",
     "text": [
      "第1段长度: 0.9303286876159645 厘米\n",
      "第2段长度: 1.558789428299053 厘米\n",
      "第3段长度: 0.7335070276064921 厘米\n",
      "第4段长度: 2.7130258354204657 厘米\n",
      "第5段长度: 0.4215133175786807 厘米\n",
      "第6段长度: 3.1788357034793435 厘米\n"
     ]
    }
   ],
   "source": []
  }
 ],
 "metadata": {
  "kernelspec": {
   "display_name": "Python 3.8.3 ('base')",
   "language": "python",
   "name": "python3"
  },
  "language_info": {
   "codemirror_mode": {
    "name": "ipython",
    "version": 3
   },
   "file_extension": ".py",
   "mimetype": "text/x-python",
   "name": "python",
   "nbconvert_exporter": "python",
   "pygments_lexer": "ipython3",
   "version": "3.8.3"
  },
  "orig_nbformat": 4,
  "vscode": {
   "interpreter": {
    "hash": "a0f669ea42a4dcea88d385f8f9b4c3d9b966e24234758831d1dbfdac925619a2"
   }
  }
 },
 "nbformat": 4,
 "nbformat_minor": 2
}
