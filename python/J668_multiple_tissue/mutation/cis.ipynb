{
 "cells": [
  {
   "cell_type": "code",
   "execution_count": 4,
   "metadata": {},
   "outputs": [
    {
     "data": {
      "text/plain": [
       "612.41"
      ]
     },
     "execution_count": 4,
     "metadata": {},
     "output_type": "execute_result"
    }
   ],
   "source": [
    "## 分析Cis 调控元件与优异变异间的联系，从趋势上来看，优异变异偏向于分布在cis元件附近\n",
    "import pandas as pd\n",
    "## 随机抽取假定cis元件位置，随机抽取假定的SNP位置，再计算二者overlap的数目\n",
    "def sample_cis_snp_overlap(N):\n",
    "    df = pd.DataFrame({'a':range(744678)})\n",
    "    overlap_bin = []\n",
    "    for i in range(N):\n",
    "        df_cis = df.sample(145210)\n",
    "        df_snp = df.sample(3139)\n",
    "        df_overlap = pd.merge(df_cis, df_snp, how='inner', on=['a'])\n",
    "        overlap_bin.append(df_overlap.shape[0])\n",
    "    cis_snp_overlap = sum(overlap_bin)/N\n",
    "    return cis_snp_overlap\n",
    "sample_cis_snp_overlap(100)"
   ]
  },
  {
   "cell_type": "code",
   "execution_count": 21,
   "metadata": {},
   "outputs": [],
   "source": [
    "## 将SNP转换为宽数据格式\n",
    "import pandas as pd\n",
    "df = pd.read_csv(\"G:/Billfish/J668_multip_tissue_3D-genome/mutation/QZY/superior_varition/Sup_Vari_Cis_header.bed\", sep=\"\\t\")\n",
    "for i in ['FE', 'FU', 'FL', 'FS']:\n",
    "    output_f = \"G:/Billfish/J668_multip_tissue_3D-genome/mutation/QZY/superior_varition/{}_SNP_in_Cis.bed\".format(i)\n",
    "    df_tmp = df.query(\"tags==@i\").copy()\n",
    "    df_tmp.to_csv(output_f, sep=\"\\t\", index=False)\n",
    "    df_tmp['SNP'] = df_tmp['chrom'].map(str) + \"-\" + df_tmp['SNP_start'].map(str) + \"-\" + df_tmp['SNP_end'].map(str)\n",
    "    df_tmp.set_index(\"SNP\", inplace=True)\n",
    "    df_tmp_T = df_tmp.T\n",
    "    df_tmp_T.drop(['chrom', 'SNP_start', 'SNP_end', 'tags'], axis=0, inplace=True)\n",
    "    df_tmp_T.to_csv(output_f, sep=\"\\t\")"
   ]
  },
  {
   "cell_type": "code",
   "execution_count": 39,
   "metadata": {},
   "outputs": [],
   "source": [
    "## 分析有利变异，1、统计，有多少栽培种和农家种发生了有利变异\n",
    "import pandas as pd\n",
    "def statistics_benefit_mutation():\n",
    "    df_name = pd.read_csv(\"G:/Billfish/J668_multip_tissue_3D-genome/mutation/QZY/superior_varition/tree_group.txt\", sep=\"\\t\", names=['sample', 'tags'])\n",
    "    for i in ['FE', 'FU', 'FL', 'FS']:\n",
    "        input_f = \"G:/Billfish/J668_multip_tissue_3D-genome/mutation/QZY/superior_varition/{}_SNP_in_Cis.bed\".format(i)\n",
    "        output_f = \"G:/Billfish/J668_multip_tissue_3D-genome/mutation/QZY/superior_varition/{}_SNP_in_Cis_statistics.bed\".format(i)\n",
    "        df = pd.read_csv(input_f, sep=\"\\t\")\n",
    "        ## 将宽数据转换为长数据\n",
    "        df_long = pd.melt(df, id_vars='sample')\n",
    "        ## 将所有的2替换为1， -1替换为0\n",
    "        old_tags = [2, -1]\n",
    "        new_tags = [1, 0]\n",
    "        df_long['value'].replace(old_tags, new_tags, inplace=True)\n",
    "        ## 给材料加上 农家种和栽培种的标签\n",
    "        df_long.columns = ['sample', 'snp', 'value']\n",
    "        df_long = pd.merge(df_long, df_name, how='inner', on=['sample'])\n",
    "        df_statistics = df_long.groupby(by=['tags', 'snp'], as_index=False)['value'].sum()\n",
    "        df_cultivar = df_statistics.query(\"tags=='cultivar'\").copy()\n",
    "        df_landrace = df_statistics.query(\"tags=='landrace'\").copy()\n",
    "        df_cultivar['ratio'] = df_cultivar['value']/3220\n",
    "        df_landrace['ratio'] = df_landrace['value']/332\n",
    "        df_return = pd.concat([df_cultivar, df_landrace], axis=0)\n",
    "        df_return.to_csv(output_f, sep=\"\\t\", index=False)\n",
    "statistics_benefit_mutation()"
   ]
  },
  {
   "cell_type": "code",
   "execution_count": 28,
   "metadata": {},
   "outputs": [
    {
     "name": "stdout",
     "output_type": "stream",
     "text": [
      "52\n"
     ]
    }
   ],
   "source": [
    "## 统计有利变异的数目\n",
    "import pandas as pd\n",
    "import numpy as np\n",
    "def SNP_number(df):\n",
    "    df = df.copy()\n",
    "    df_wide = df.pivot(columns='tags', index='snp', values='ratio')\n",
    "    df_wide['ratio'] = np.abs(np.log2(df_wide['cultivar']/df_wide['landrace']))\n",
    "    df_return = df_wide.query('ratio>1').copy()\n",
    "    return df_return\n",
    "df = pd.read_csv(\"G:/Billfish/J668_multip_tissue_3D-genome/mutation/QZY/superior_varition/FL_SNP_in_Cis_statistics.bed\", sep=\"\\t\")\n",
    "df_return = SNP_number(df)\n",
    "df_active = df_return.query(\"cultivar>landrace\")\n",
    "print(df_active.shape[0])"
   ]
  },
  {
   "cell_type": "code",
   "execution_count": 46,
   "metadata": {},
   "outputs": [
    {
     "name": "stdout",
     "output_type": "stream",
     "text": [
      "256\n",
      "161 95\n",
      "89\n",
      "52 37\n",
      "97\n",
      "52 45\n",
      "213\n",
      "106 107\n"
     ]
    }
   ],
   "source": [
    "## 统计有利变异的数目\n",
    "import pandas as pd\n",
    "import numpy as np\n",
    "def SNP_number(df):\n",
    "    df = df.copy()\n",
    "    df_wide = df.pivot(columns='tags', index='snp', values='ratio')\n",
    "    df_wide['ratio'] = np.abs(np.log2((df_wide['cultivar'])/(df_wide['landrace'])))\n",
    "    df_return = df_wide.query('ratio>1').copy()\n",
    "    print(df_return.shape[0])\n",
    "    df_active = df_return.query(\"cultivar>landrace\").copy()\n",
    "    df_deactive = df_return.query(\"cultivar<landrace\").copy()\n",
    "    print(df_active.shape[0], df_deactive.shape[0])\n",
    "    return df_return\n",
    "\n",
    "for i in ['FE', 'FU', 'FL', 'FS']:\n",
    "    input_f = \"G:/Billfish/J668_multip_tissue_3D-genome/mutation/QZY/superior_varition/{}_SNP_in_Cis_statistics.bed\".format(i)\n",
    "    output_f = \"G:/Billfish/J668_multip_tissue_3D-genome/mutation/QZY/superior_varition/{}_SNP_in_Cis_choosed.bed\".format(i)\n",
    "    df = pd.read_csv(input_f, sep=\"\\t\")\n",
    "    df_return = SNP_number(df)\n",
    "    df_return.to_csv(output_f, sep=\"\\t\")"
   ]
  }
 ],
 "metadata": {
  "kernelspec": {
   "display_name": "Python 3.8.3 ('base')",
   "language": "python",
   "name": "python3"
  },
  "language_info": {
   "codemirror_mode": {
    "name": "ipython",
    "version": 3
   },
   "file_extension": ".py",
   "mimetype": "text/x-python",
   "name": "python",
   "nbconvert_exporter": "python",
   "pygments_lexer": "ipython3",
   "version": "3.8.3"
  },
  "orig_nbformat": 4,
  "vscode": {
   "interpreter": {
    "hash": "a0f669ea42a4dcea88d385f8f9b4c3d9b966e24234758831d1dbfdac925619a2"
   }
  }
 },
 "nbformat": 4,
 "nbformat_minor": 2
}
