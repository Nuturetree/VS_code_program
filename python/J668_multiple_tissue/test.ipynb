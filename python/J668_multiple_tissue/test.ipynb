{
 "cells": [
  {
   "cell_type": "code",
   "execution_count": 3,
   "metadata": {},
   "outputs": [
    {
     "name": "stdout",
     "output_type": "stream",
     "text": [
      "18469 13115 5107\n"
     ]
    }
   ],
   "source": [
    "import pandas as pd\n",
    "import numpy as np\n",
    "df1 = pd.read_csv(\"G:/Billfish/J668_multip_tissue_3D-genome/RNA_seq/tissue_uniq_exp_gene/all_tissue_expgene_ge_2.txt\", sep='\\t')\n",
    "df2 = pd.read_csv(\"G:/Billfish/J668_multip_tissue_3D-genome/RNA_seq/cluster/gene_z_score_normalized_top20std.txt\", sep='\\t')\n",
    "df3 = pd.merge(df1, df2, how='inner', on='GeneId')\n",
    "print(df1.shape[0], df2.shape[0], df3.shape[0])"
   ]
  },
  {
   "cell_type": "code",
   "execution_count": 2,
   "metadata": {},
   "outputs": [
    {
     "name": "stdout",
     "output_type": "stream",
     "text": [
      "58410\n",
      "58410\n"
     ]
    }
   ],
   "source": [
    "import pandas as pd\n",
    "df = pd.read_csv(\"G:/Billfish/J668_multip_tissue_3D-genome/HiC/compartment/cworld/merge/different_compartment/all_diff_cpt_exp_SV.bed\", sep='\\t')\n",
    "print(df.shape[0])\n",
    "df.drop_duplicates(keep='first', inplace=True)\n",
    "print(df.shape[0])"
   ]
  },
  {
   "cell_type": "code",
   "execution_count": 20,
   "metadata": {},
   "outputs": [
    {
     "name": "stdout",
     "output_type": "stream",
     "text": [
      "G:/Billfish/J668_multip_tissue_3D-genome/HiC/compartment/cooltools/compartment/anther_cpt_cooltools.bed\n",
      "G:/Billfish/J668_multip_tissue_3D-genome/HiC/compartment/cooltools/compartment/cotyledon_cpt_cooltools.bed\n",
      "G:/Billfish/J668_multip_tissue_3D-genome/HiC/compartment/cooltools/compartment/ovule_cpt_cooltools.bed\n",
      "G:/Billfish/J668_multip_tissue_3D-genome/HiC/compartment/cooltools/compartment/fiber_5DPA_cpt_cooltools.bed\n",
      "G:/Billfish/J668_multip_tissue_3D-genome/HiC/compartment/cooltools/compartment/fiber_10DPA_cpt_cooltools.bed\n",
      "G:/Billfish/J668_multip_tissue_3D-genome/HiC/compartment/cooltools/compartment/fiber_20DPA_cpt_cooltools.bed\n",
      "G:/Billfish/J668_multip_tissue_3D-genome/HiC/compartment/cooltools/compartment/hypocotyl_cpt_cooltools.bed\n",
      "G:/Billfish/J668_multip_tissue_3D-genome/HiC/compartment/cooltools/compartment/leaf_cpt_cooltools.bed\n",
      "G:/Billfish/J668_multip_tissue_3D-genome/HiC/compartment/cooltools/compartment/petal_cpt_cooltools.bed\n",
      "G:/Billfish/J668_multip_tissue_3D-genome/HiC/compartment/cooltools/compartment/radicle_cpt_cooltools.bed\n",
      "G:/Billfish/J668_multip_tissue_3D-genome/HiC/compartment/cooltools/compartment/root_cpt_cooltools.bed\n",
      "G:/Billfish/J668_multip_tissue_3D-genome/HiC/compartment/cooltools/compartment/stem_cpt_cooltools.bed\n",
      "G:/Billfish/J668_multip_tissue_3D-genome/HiC/compartment/cooltools/compartment/stigma_cpt_cooltools.bed\n"
     ]
    }
   ],
   "source": [
    "## 多组织compartment 合并\n",
    "import pandas as pd\n",
    "samples = ['anther', 'cotyledon', 'ovule', 'fiber_5DPA', 'fiber_10DPA', 'fiber_20DPA', 'hypocotyl', 'leaf', 'petal', 'radicle', 'root', 'stem', 'stigma']\n",
    "df_result = pd.DataFrame()\n",
    "for s in samples:\n",
    "    col = ['chr', 'start', 'end', s]\n",
    "    input_f = \"G:/Billfish/J668_multip_tissue_3D-genome/HiC/compartment/cooltools/compartment/{}_cpt_cooltools.bed\".format(s)\n",
    "    print(input_f)\n",
    "    df_tmp = pd.read_csv(input_f, sep=\"\\t\")\n",
    "    df_tmp.fillna(0, inplace=True)\n",
    "    df_tmp.to_csv(input_f, sep='\\t', index=False, header=False)\n"
   ]
  },
  {
   "cell_type": "code",
   "execution_count": 3,
   "metadata": {},
   "outputs": [],
   "source": [
    "import pandas as pd\n",
    "df = pd.read_csv(\"G:/Billfish/J668_multip_tissue_3D-genome/HiC/compartment/cooltools/compartment/all_tissues_40k_compartment.txt\", sep=\"\\t\")\n",
    "#df['start'] = df['start'].map(int)\n",
    "#df.to_csv(\"G:/Billfish/J668_multip_tissue_3D-genome/HiC/compartment/cooltools/compartment/all_tissues_40k_compartment.txt\", sep=\"\\t\", index=False)\n",
    "df_at = df.query(\"chrom.str.contains('Ghir_A')\", engine=\"python\")\n",
    "df_dt = df.query(\"chrom.str.contains('Ghir_D')\", engine=\"python\")\n",
    "df_at.to_csv(\"G:/Billfish/J668_multip_tissue_3D-genome/HiC/compartment/cooltools/compartment/all_tissues_40k_at_compartment.txt\", sep='\\t', index=False)\n",
    "df_dt.to_csv(\"G:/Billfish/J668_multip_tissue_3D-genome/HiC/compartment/cooltools/compartment/all_tissues_40k_dt_compartment.txt\", sep='\\t', index=False)\n"
   ]
  },
  {
   "cell_type": "code",
   "execution_count": null,
   "metadata": {},
   "outputs": [],
   "source": [
    "import pandas as pd\n",
    "import dtale\n",
    "df = pd.read_csv(\"G:/Billfish/J668_multip_tissue_3D-genome/RNA_seq/reads/anthers/anthers_hg_reads.bed\", sep=\"\\t\")\n",
    "df.drop_duplicates(keep=False, subset='geneid_at', inplace=True)\n",
    "dtale.show(df)"
   ]
  },
  {
   "cell_type": "code",
   "execution_count": 8,
   "metadata": {},
   "outputs": [],
   "source": [
    "import pandas as pd\n",
    "df = pd.read_csv(\"G:/Billfish/J668_multip_tissue_3D-genome/Dt_blast_At.blast\", sep=\"\\t\", names = ['a', 'b', 'c', 'd', 'e', 'f', 'g', 'h', 'i', 'j', 'k', 'l'])\n",
    "df_result = df.query(\"a.str.contains('.1') and b.str.contains('.1')\", engine='python')\n",
    "df_result.to_csv(\"G:/Billfish/J668_multip_tissue_3D-genome/Dt_blast_At.blast\", sep=\"\\t\", index=False, header=False)"
   ]
  },
  {
   "cell_type": "code",
   "execution_count": 15,
   "metadata": {},
   "outputs": [
    {
     "name": "stdout",
     "output_type": "stream",
     "text": [
      "25633\n",
      "25631\n"
     ]
    }
   ],
   "source": [
    "df = pd.read_csv(\"G:/Billfish/J668_multip_tissue_3D-genome/RNA_seq/homo_gene2/At_blast_Dt.bed\", sep=\"\\t\")\n",
    "print(df.shape[0])\n",
    "df.drop_duplicates(keep=\"first\", inplace=True, subset=['Dt'])\n",
    "print(df.shape[0])\n",
    "df.to_csv(\"G:/Billfish/J668_multip_tissue_3D-genome/RNA_seq/homo_gene2/At_blast_Dt.bed\", sep=\"\\t\", index=False)\n"
   ]
  },
  {
   "cell_type": "code",
   "execution_count": 6,
   "metadata": {},
   "outputs": [],
   "source": [
    "import pandas as pd\n",
    "df = pd.read_csv('G:/Billfish/J668_multip_tissue_3D-genome/RNA_seq/PCA/J668_all_tissue_average_TPM.txt', sep=\"\\t\")\n",
    "tissues = ['anthers', 'cotyledon', 'ovules',  'hypocotyl', 'leaf', 'petals', 'radicle', 'root', 'stem', 'stigma', 'fiber_5DPA', 'fiber_10DPA', 'fiber_20DPA']\n",
    "df['sums'] = df[tissues].sum(axis=1)\n",
    "df_true = df.query(\"sums>0\").copy()\n",
    "out_columns = ['GeneId', 'anthers', 'cotyledon', 'ovules',  'hypocotyl', 'leaf', 'petals', 'radicle', 'root', 'stem', 'stigma', 'fiber_5DPA', 'fiber_10DPA', 'fiber_20DPA']\n",
    "df_true.to_csv(\"G:/Billfish/J668_multip_tissue_3D-genome/RNA_seq/PCA/J668_all_tissue_average_TPM_nozero.txt\", sep=\"\\t\", index=False, columns=out_columns)"
   ]
  },
  {
   "cell_type": "code",
   "execution_count": 12,
   "metadata": {},
   "outputs": [],
   "source": [
    "import pandas as pd\n",
    "df = pd.read_csv(\"G:/Billfish/J668_multip_tissue_3D-genome/RNA_seq/PCA/J668_all_tissue_TPM.txt\", sep=\"\\t\")\n",
    "tissues = ['anthers1', 'anthers2', 'anthers3', 'cotyledon1', 'cotyledon2', 'cotyledon3', 'ovules1', 'ovules2', 'ovules3', 'hypocotyl1', 'hypocotyl2', 'hypocotyl3', 'leaf1', 'leaf2', 'leaf3', 'petals1', 'petals2', 'petals3', 'radicle1', 'radicle2', 'radicle3', 'root1', 'root2', 'root3', 'stem1', 'stem2', 'stem3', 'stigma1', 'stigma2', 'stigma3', 'fiber_5DPA1', 'fiber_5DPA2',  'fiber_10DPA1', 'fiber_10DPA2', 'fiber_20DPA1', 'fiber_20DPA2']\n",
    "df['sums'] = df[tissues].sum(axis=1)\n",
    "df_true = df.query(\"sums>0\").copy()\n",
    "out_columns = ['GeneId', 'anthers1', 'anthers2', 'anthers3', 'cotyledon1', 'cotyledon2', 'cotyledon3', 'ovules1', 'ovules2', 'ovules3', 'hypocotyl1', 'hypocotyl2', 'hypocotyl3', 'leaf1', 'leaf2', 'leaf3', 'petals1', 'petals2', 'petals3', 'radicle1', 'radicle2', 'radicle3', 'root1', 'root2', 'root3', 'stem1', 'stem2', 'stem3', 'stigma1', 'stigma2', 'stigma3', 'fiber_5DPA1', 'fiber_5DPA2','fiber_10DPA1', 'fiber_10DPA2', 'fiber_20DPA1', 'fiber_20DPA2']\n",
    "df_true.to_csv(\"G:/Billfish/J668_multip_tissue_3D-genome/RNA_seq/PCA/J668_all_tissue_TPM_nozero.txt\", sep=\"\\t\", index=False, columns=out_columns)"
   ]
  },
  {
   "cell_type": "code",
   "execution_count": 3,
   "metadata": {},
   "outputs": [],
   "source": [
    "import pandas as pd\n",
    "chr_id = [1, 2, 3, 4, 5, 6, 7, 8, 9, 10, 11, 12, 13, 14, 15, 16, 17, 18, 19, 20, 21, 22, 23, 24, 25, 26]\n",
    "chr_n = ['Ghir_A01', 'Ghir_A02', 'Ghir_A03', 'Ghir_A04', 'Ghir_A05', 'Ghir_A06', 'Ghir_A07', 'Ghir_A08',\n",
    "     'Ghir_A09', 'Ghir_A10', 'Ghir_A11', 'Ghir_A12', 'Ghir_A13', 'Ghir_D01', 'Ghir_D02', 'Ghir_D03', 'Ghir_D04',\n",
    "      'Ghir_D05', 'Ghir_D06', 'Ghir_D07', 'Ghir_D08', 'Ghir_D09', 'Ghir_D10', 'Ghir_D11', 'Ghir_D12', 'Ghir_D13']\n",
    "df = pd.read_csv(\"G:/Billfish/J668_multip_tissue_3D-genome/HiC/loops/stigma_3000_abs.bed\", sep=\"\\t\", names=['chr', 'start', 'end', 'tags'])\n",
    "df.replace(chr_n, chr_id, inplace=True)\n",
    "df.to_csv(\"G:/Billfish/J668_multip_tissue_3D-genome/HiC/loops/3k_abs.bed\", sep='\\t', index=False)\n"
   ]
  },
  {
   "cell_type": "code",
   "execution_count": 10,
   "metadata": {},
   "outputs": [],
   "source": [
    "## 创建文件夹\n",
    "import pandas as pd\n",
    "tissues = ['anther',  'leaf', 'hypocotyl', 'cotyledon', 'stem', 'ovule', 'root', 'radicle',  'fiber_5DPA', 'fiber_10DPA', 'fiber_20DPA', 'petal',  'stigma',]\n",
    "mk_list = ['mkdir']\n",
    "for i in range(13):\n",
    "    for j in range(i+1, 13):\n",
    "        Dir = \"{0}_{1}\".format(tissues[i], tissues[j])\n",
    "        mk_list.append(Dir)\n",
    "df_result = pd.DataFrame({\"a\":mk_list})\n",
    "df_result = df_result.T\n",
    "df_result.to_csv(\"G:/Billfish/J668_multip_tissue_3D-genome/Chip_Seq/test/mkdir_f.bat\", sep=\"\\t\", index=False, header=False)"
   ]
  },
  {
   "cell_type": "code",
   "execution_count": 2,
   "metadata": {},
   "outputs": [
    {
     "name": "stdout",
     "output_type": "stream",
     "text": [
      "64456\n",
      "64456\n"
     ]
    }
   ],
   "source": [
    "import pandas as pd\n",
    "df = pd.read_csv(\"G:/Billfish/J668_multip_tissue_3D-genome/RNA_seq/reads/T_VS_T/result_TPM/Anther_Cotyledon_DEG.bed\", sep=\"\\t\")\n",
    "print(df.shape[0])\n",
    "df.drop_duplicates(keep='first', subset=['GeneId'], inplace=True)\n",
    "print(df.shape[0])"
   ]
  },
  {
   "cell_type": "code",
   "execution_count": 2,
   "metadata": {},
   "outputs": [],
   "source": [
    "import pandas as pd\n",
    "tissues = ['anthers',  'leaf', 'hypocotyl', 'cotyledon', 'stem', 'ovules', 'root', 'radicle',   'fiber_10DPA', 'fiber_20DPA', 'petals',  'stigma']\n",
    "tissues2 = ['Anther',  'Leaf', 'Hypocotyl', 'Cotyledon', 'Stem', 'Ovule', 'Root', 'Radicle',   'Fiber_10DPA', 'Fiber_20DPA', 'Petal',  'Stigma']\n",
    "df = pd.read_csv(\"G:/Billfish/J668_multip_tissue_3D-genome/RNA_seq/expression_gene/J668_all_tissue_average_TPM_long.txt\", sep=\"\\t\")\n",
    "df = df.query(\"tags!='fiber_5DPA'\")\n",
    "df['tags'].replace(tissues, tissues2, inplace=True)\n",
    "df.to_csv(\"G:/Billfish/J668_multip_tissue_3D-genome/RNA_seq/expression_gene/J668_all_tissue_average_TPM_long.txt\", sep=\"\\t\", index=False)"
   ]
  },
  {
   "cell_type": "code",
   "execution_count": 4,
   "metadata": {},
   "outputs": [],
   "source": [
    "import pandas as pd\n",
    "df = pd.read_csv(\"G:/Billfish/J668_multip_tissue_3D-genome/HiC/compartment/CALDER2/subcpt_biasAD/J668_subcpt_Bias_pair.bed\", sep=\"\\t\")\n",
    "df_new = df.query(\"tissues!='fiber_5DPA'\").copy()\n",
    "df_new.to_csv(\"G:/Billfish/J668_multip_tissue_3D-genome/HiC/compartment/CALDER2/subcpt_biasAD/J668_subcpt_Bias_pair.bed\", sep=\"\\t\", index=False)"
   ]
  },
  {
   "cell_type": "code",
   "execution_count": 7,
   "metadata": {},
   "outputs": [
    {
     "name": "stdout",
     "output_type": "stream",
     "text": [
      "4\n"
     ]
    },
    {
     "data": {
      "text/plain": [
       "6"
      ]
     },
     "execution_count": 7,
     "metadata": {},
     "output_type": "execute_result"
    }
   ],
   "source": [
    "import pandas as pd\n",
    "df = pd.DataFrame({\"A\":[1,3,4,5,6]})\n",
    "print(df['A'].idxmax())\n",
    "df.loc[df['A'].idxmax(), 'A']"
   ]
  },
  {
   "cell_type": "code",
   "execution_count": 11,
   "metadata": {},
   "outputs": [
    {
     "name": "stdout",
     "output_type": "stream",
     "text": [
      "                GeneId  number\n",
      "10767  Ghir_A05G024510      64\n"
     ]
    }
   ],
   "source": [
    "import pandas as pd\n",
    "df = pd.read_csv(\"G:/Billfish/J668_multip_tissue_3D-genome/new_RNA_Seq/RNA_Seq_data/J668_all_Tissue_TPM.csv\")\n",
    "df_id = df[['GeneId']].copy()\n",
    "df_id['number'] = [1]*df_id.shape[0]\n",
    "df_result = df_id.groupby(by = 'GeneId', as_index=False)['number'].sum()\n",
    "k = df_result.query(\"number>1\")\n",
    "print(k)\n"
   ]
  },
  {
   "cell_type": "code",
   "execution_count": null,
   "metadata": {},
   "outputs": [],
   "source": [
    "import sys\n",
    "import pandas as pd\n",
    "geneid = sys.argv[1]\n",
    "net = sys.argv[2]\n",
    "out = sys.argv[3]\n",
    "\n",
    "df_geneid = pd.read_csv(geneid, sep=\"\\t\", names=['source'])\n",
    "df_net = pd.read_csv(net, sep=\"\\t\", names=['source', 'target', 'weight'])\n",
    "df_a = pd.merge(df_geneid, df_net, how='inner', on=['source'])\n",
    "df_geneid.columns = ['target']\n",
    "df_result = pd.merge(df_a, df_net, how='inner', on=['weight'])\n",
    "df_result.to_csv(out, index=False)"
   ]
  },
  {
   "cell_type": "code",
   "execution_count": 23,
   "metadata": {},
   "outputs": [],
   "source": [
    "## 分析差异的 compartment\n",
    "import pandas as pd\n",
    "def diff_cpt(df):\n",
    "    tissues = ['anther', 'ovule', 'root', 'radicle', 'leaf', 'hypocotyl', 'cotyledon', 'stem', 'fiber_10DPA', 'fiber_20DPA', 'petal', 'stigma']\n",
    "    df_result = pd.DataFrame(columns=['tags', 'cpt_diffpeaks'])\n",
    "    for i in range(11):\n",
    "        tissues1 = tissues[i]\n",
    "        for j in range(i+1, 12):\n",
    "            tissues2 = tissues[j]\n",
    "            tissues_tags = \"{0}-{1}\".format(tissues1, tissues2)\n",
    "            df_tmp = df[[tissues1, tissues2]].copy()\n",
    "            df_need = df[df[tissues1] != df[tissues2]]\n",
    "            #print(df_need.head())\n",
    "            number = df_need.shape[0]\n",
    "            df_result.loc[df_result.shape[0], ] = [tissues_tags, number]\n",
    "    return df_result\n",
    "##差异的compartment \n",
    "df_cpt = pd.read_csv(\"G:/Billfish/J668_multip_tissue_3D-genome/HiC/compartment/cworld/100K/sta_dynamic_cpt/J668_compartment_wide.csv\")\n",
    "df_diff_cpt = diff_cpt(df_cpt)        \n",
    "df_diff_cpt.to_csv(\"G:/Billfish/J668_multip_tissue_3D-genome/test/J668_compartment_diff.csv\", index=False)\n",
    "##差异的sub-compartment\n",
    "df_subcpt = pd.read_csv(\"G:/Billfish/J668_multip_tissue_3D-genome/HiC/compartment/CALDER2/subcompartment/J668_allTissues_subcompartment_wide.bed\", sep=\"\\t\")\n",
    "df_diff_subcpt = diff_cpt(df_subcpt)\n",
    "df_diff_subcpt.to_csv(\"G:/Billfish/J668_multip_tissue_3D-genome/test/J668_subcpt_diff.csv\", index=False)\n"
   ]
  },
  {
   "cell_type": "code",
   "execution_count": 10,
   "metadata": {},
   "outputs": [
    {
     "name": "stdout",
     "output_type": "stream",
     "text": [
      "               tags diffloop_number\n",
      "0      anther-ovule          275074\n",
      "1       anther-root          283447\n",
      "2    anther-radicle          293800\n",
      "3       anther-leaf          281871\n",
      "4  anther-hypocotyl          257581\n"
     ]
    }
   ],
   "source": [
    "## 分析差异的loops \n",
    "import pandas as pd\n",
    "df = pd.read_csv(\"G:/Billfish/J668_multip_tissue_3D-genome/HiC/loops/final_loops/J668_all_loop.csv\")\n",
    "def diff_loop(df):\n",
    "    df = df.copy()\n",
    "    tissues = ['anther', 'ovule', 'root', 'radicle', 'leaf', 'hypocotyl', 'cotyledon', 'stem', 'fiber_10DPA', 'fiber_20DPA', 'petal', 'stigma']\n",
    "    df_return = pd.DataFrame(columns=['tags', 'diffloop_number'])\n",
    "    for i in range(11):\n",
    "        for j in range(i+1, 12):\n",
    "            tissues1, tissues2 = tissues[i], tissues[j]\n",
    "            df_tissues = df.query(\"tissues == @tissues1 | tissues == @tissues2\").copy()\n",
    "            df_tissues.drop_duplicates(keep=False, inplace=True)\n",
    "            tags_name = tissues1 + \"-\" + tissues2\n",
    "            df_return.loc[df_return.shape[0], ] = [tags_name, df_tissues.shape[0]]\n",
    "    print(df_return.head())\n",
    "    return df_return\n",
    "df_diff_loop = diff_loop(df)\n",
    "df_diff_loop.to_csv(\"G:/Billfish/J668_multip_tissue_3D-genome/test/J668_loop_diff.csv\", index=False)"
   ]
  },
  {
   "cell_type": "code",
   "execution_count": 4,
   "metadata": {},
   "outputs": [],
   "source": [
    "## 分析差异TAD boundary\n",
    "# 将TAD 合并\n",
    "tissues = ['anther', 'ovule', 'root', 'radicle', 'leaf', 'hypocotyl', 'cotyledon', 'stem', 'fiber_10DPA', 'fiber_20DPA', 'petal', 'stigma']\n",
    "df_all_TAD = pd.DataFrame()\n",
    "for t in tissues:\n",
    "    input_f = \"G:/Billfish/J668_multip_tissue_3D-genome/HiC/TAD_new/TAD_data/{}_choosed.bed\".format(t)\n",
    "    df_tissues = pd.read_csv(input_f, sep=\"\\t\")\n",
    "    df_tissues['tissues'] = [t]*df_tissues.shape[0]\n",
    "    df_all_TAD = pd.concat([df_all_TAD, df_tissues], axis=0)\n",
    "df_all_TAD.to_csv(\"G:/Billfish/J668_multip_tissue_3D-genome/HiC/TAD_new/TAD_data/J668_TAD_allTissues.csv\", index=False)"
   ]
  },
  {
   "cell_type": "code",
   "execution_count": 8,
   "metadata": {},
   "outputs": [],
   "source": [
    "## 找到所有TAD 边界\n",
    "tissues = ['anther', 'ovule', 'root', 'radicle', 'leaf', 'hypocotyl', 'cotyledon', 'stem', 'fiber_10DPA', 'fiber_20DPA', 'petal', 'stigma']\n",
    "df_a = df_all_TAD[['chr', 's', 'tissues']].copy()\n",
    "df_b = df_all_TAD[['chr', 'e', 'tissues']].copy()\n",
    "df_a.columns = ['Chr', 'boundary', 'tissues']\n",
    "df_b.columns = ['Chr', 'boundary', 'tissues']\n",
    "df_ab = pd.concat([df_a, df_b], axis=0)\n",
    "df_ab.drop_duplicates(keep='first', inplace=True)\n",
    "df_ab.to_csv(\"G:/Billfish/J668_multip_tissue_3D-genome/HiC/TAD_new/TAD_data/J668_TAD_boundary.csv\", index=False, sep=\"\\t\")"
   ]
  },
  {
   "cell_type": "code",
   "execution_count": 20,
   "metadata": {},
   "outputs": [
    {
     "name": "stdout",
     "output_type": "stream",
     "text": [
      "          chrom     start       end\n",
      "0      Ghir_A04   1104000   1107000\n",
      "1      Ghir_A04   1113000   1116000\n",
      "2      Ghir_A04   1284000   1287000\n",
      "3      Ghir_A04   5694000   5697000\n",
      "4      Ghir_A04  11541000  11544000\n",
      "...         ...       ...       ...\n",
      "39496  Ghir_D13  62865000  62868000\n",
      "39497  Ghir_D13  62922000  62925000\n",
      "39498  Ghir_D13  62925000  62928000\n",
      "39499  Ghir_D13  63126000  63129000\n",
      "39500  Ghir_D13  63309000  63312000\n",
      "\n",
      "[39043 rows x 3 columns]\n"
     ]
    }
   ],
   "source": [
    "df = pd.read_csv(\"G:/Billfish/J668_multip_tissue_3D-genome/HiC/loops/Cis-element/cis_gene_homo/J668_cis_hg_filter.bed\", sep=\"\\t\")\n",
    "df.drop_duplicates(keep='first', inplace=True)"
   ]
  },
  {
   "cell_type": "code",
   "execution_count": 37,
   "metadata": {},
   "outputs": [
    {
     "name": "stdout",
     "output_type": "stream",
     "text": [
      "所有与基因相关的loop数目： 403730\n",
      "给所有基因区打上基因标签，并统计数目： 465538\n",
      "给所有非基因区打上cis标签，并统计数目： 465538\n"
     ]
    }
   ],
   "source": [
    "## 分析loop差异所导致同源基因bias 表达的数目，分为三种类型，1、loop有无对于组织间差异表达基因的影响，2、loop 有无cis调控对于差异表达基因的影响，3、loop 调控方式改变对于差异表达基因影响\n",
    "import pandas as pd\n",
    "# 1、将所有与基因相关的loop打上 基因id和cis标签\n",
    "def loop_gene_tags(df_loop, df_gene, df_cis):\n",
    "    df_loop_G = df_loop.query(\"loop_type=='G-N' | loop_type=='G-G'\").copy()\n",
    "    ## 打上基因标签\n",
    "    print(\"所有与基因相关的loop数目：\", df_loop_G.shape[0])\n",
    "    df_gene.columns = ['chrom1', 'start1', 'end1', 'GeneId1']\n",
    "    df_a = pd.merge(df_loop_G, df_gene, how='left', on=['chrom1', 'start1', 'end1'])\n",
    "    df_gene.columns = ['chrom2', 'start2', 'end2', 'GeneId2']\n",
    "    df_ab = pd.merge(df_a, df_gene, how='left', on=['chrom2', 'start2', 'end2'])\n",
    "    print(\"给所有基因区打上基因标签，并统计数目：\", df_ab.shape[0])\n",
    "    ## 打上cis标签\n",
    "    df_cis['cis'] = ['Cis']*df_cis.shape[0]\n",
    "    df_cis.columns = ['chrom1', 'start1', 'end1', 'Cis1']\n",
    "    df_a = pd.merge(df_ab, df_cis, how='left', on=['chrom1', 'start1', 'end1'])\n",
    "    df_cis.columns = ['chrom2', 'start2', 'end2', 'Cis2']\n",
    "    df_ab = pd.merge(df_a, df_cis, how='left', on=['chrom2', 'start2', 'end2'])\n",
    "    print(\"给所有非基因区打上cis标签，并统计数目：\", df_ab.shape[0])\n",
    "    df_return = df_ab.copy()\n",
    "    df_return.fillna(\"NotElement\", inplace=True)\n",
    "    return df_return\n",
    "df_loop = pd.read_csv(\"G:/Billfish/J668_multip_tissue_3D-genome/HiC/loops/loop_type/J668_loop_type_all.csv\")\n",
    "df_loop.drop_duplicates(keep=False, subset=['chrom1', 'start1', 'end1', 'chrom2', 'start2', 'end2'], inplace=True)\n",
    "\n",
    "df_gene = pd.read_csv(\"G:/Billfish/J668_multip_tissue_3D-genome/HiC/loops/3kb_bin_gene.bed\", sep=\"\\t\", names=['chrom', 'start', 'end', 'GeneId'])\n",
    "df_cis = pd.read_csv(\"G:/Billfish/J668_multip_tissue_3D-genome/HiC/loops/Cis-element/cis_gene_homo/J668_cis_hg_filter.bed\", sep=\"\\t\")\n",
    "df_loop_gene_cis = loop_gene_tags(df_loop, df_gene, df_cis)\n",
    "df_loop_gene_cis.to_csv(\"G:/Billfish/J668_multip_tissue_3D-genome/HiC/loops/final_loops/J668_all_Tdiffloop_gene_cis.csv\", index=False)\n"
   ]
  },
  {
   "cell_type": "code",
   "execution_count": 51,
   "metadata": {},
   "outputs": [],
   "source": [
    "import pandas as pd\n",
    "\n",
    "## 统计基因锚点数\n",
    "def G_anchor(df):\n",
    "    df = df.copy()\n",
    "    df_a = df[['GeneId1', 'tissues']].copy()\n",
    "    df_b = df[['GeneId2', 'tissues']].copy()\n",
    "    df_a.columns = ['GeneId', 'tissues']\n",
    "    df_b.columns = ['GeneId', 'tissues']\n",
    "    df_ab = pd.concat([df_a, df_b], axis=0)\n",
    "    df_gene = df_ab.query(\"GeneId != 'NotElement'\").copy()\n",
    "    df_gene['number'] = [1]*df_gene.shape[0]\n",
    "    df_return = df_gene.groupby(by=['GeneId', 'tissues'], as_index=False)['number'].sum()\n",
    "    return df_return\n",
    "\n",
    "## 统计基因的cis 调控\n",
    "def G_cis(df):\n",
    "    df = df.copy()\n",
    "    df_a = df[['GeneId1', 'Cis1', 'tissues']].copy()\n",
    "    df_b = df[['GeneId1', 'Cis2', 'tissues']].copy()\n",
    "    df_c = df[['GeneId2', 'Cis1', 'tissues']].copy()\n",
    "    df_d = df[['GeneId2', 'Cis2', 'tissues']].copy()\n",
    "    df_a.columns = ['GeneId', 'Cis', 'tissues']\n",
    "    df_b.columns = ['GeneId', 'Cis', 'tissues']\n",
    "    df_c.columns = ['GeneId', 'Cis', 'tissues']\n",
    "    df_d.columns = ['GeneId', 'Cis', 'tissues']\n",
    "    df_abcd = pd.concat([df_a, df_b, df_c, df_d], axis=0)\n",
    "    df_gene_cis = df_abcd.query(\"GeneId!='NotElement' & Cis!='NotElement'\").copy()\n",
    "    df_gene_cis['number'] = [1]*df_gene_cis.shape[0]\n",
    "    df_gene_cis_status = df_gene_cis.groupby(by=['GeneId', 'tissues'], as_index=False)['number'].sum()\n",
    "    return df_gene_cis_status\n",
    "\n",
    "## 整理所有基因的id\n",
    "def All_tissues_id(df):\n",
    "    df = df[['GeneId']].copy()\n",
    "    tissues = ['anther', 'ovule', 'root', 'radicle', 'leaf', 'hypocotyl', 'cotyledon', 'stem', 'fiber_10DPA', 'fiber_20DPA', 'petal', 'stigma']\n",
    "    df_return = pd.DataFrame()\n",
    "    for t in tissues:\n",
    "        df['tissues'] = [t]*df.shape[0]\n",
    "        df_return = pd.concat([df_return, df], axis=0)\n",
    "    return df_return\n",
    "\n",
    "# 2、分析各基因的loop anchor 数目和cis 互作数目\n",
    "def Gene_anchor_cis_number(df, df_gene):\n",
    "    df, df_gene = df.copy(), df_gene.copy()\n",
    "    ## 分析各基因的loop anchor 数目\n",
    "    df_Gene_anchor = G_anchor(df)\n",
    "    ## 分析各基因的cis调控数目\n",
    "    df_Gene_cis = G_cis(df)\n",
    "    df_Gene_anchor = pd.merge(df_gene, df_Gene_anchor, how='left', on=['GeneId', 'tissues'])\n",
    "    df_Gene_cis = pd.merge(df_gene, df_Gene_cis, how='left', on=['GeneId', 'tissues'])\n",
    "    df_Gene_anchor.columns = ['GeneId', 'tissues', 'anchor']\n",
    "    df_Gene_cis.columns = ['GeneId', 'tissues', 'cis']\n",
    "    df_return = pd.merge(df_Gene_anchor, df_Gene_cis, how='inner', on=['GeneId', 'tissues'])\n",
    "    df_return.fillna(0, inplace=True)\n",
    "    return df_return\n",
    "\n",
    "# df_loop = pd.read_csv(\"G:/Billfish/J668_multip_tissue_3D-genome/HiC/loops/final_loops/J668_all_loop_gene_cis.csv\")\n",
    "# df_gene = pd.read_csv(\"G:/Billfish/J668_multip_tissue_3D-genome/new_RNA_Seq/all_gene_sorted.bed6\", sep=\"\\t\", names=['chrom', 'start', 'end', 'GeneId', 'a', 'b'])\n",
    "# df_gene = All_tissues_id(df_gene)\n",
    "# df_result = Gene_anchor_cis_number(df_loop, df_gene)\n",
    "# df_result.to_csv(\"G:/Billfish/J668_multip_tissue_3D-genome/HiC/loops/final_loops/J668_all_loop_gene_cis_statu.csv\", index=False)\n",
    "\n",
    "df_loop = pd.read_csv(\"G:/Billfish/J668_multip_tissue_3D-genome/HiC/loops/final_loops/J668_all_Tdiffloop_gene_cis.csv\")\n",
    "df_gene = pd.read_csv(\"G:/Billfish/J668_multip_tissue_3D-genome/new_RNA_Seq/all_gene_sorted.bed6\", sep=\"\\t\", names=['chrom', 'start', 'end', 'GeneId', 'a', 'b'])\n",
    "df_gene = All_tissues_id(df_gene)\n",
    "df_result = Gene_anchor_cis_number(df_loop, df_gene)\n",
    "df_result.to_csv(\"G:/Billfish/J668_multip_tissue_3D-genome/HiC/loops/final_loops/J668_all_Tdiffloop_gene_cis_statu.csv\", index=False)"
   ]
  },
  {
   "cell_type": "code",
   "execution_count": 62,
   "metadata": {},
   "outputs": [],
   "source": [
    "## 统计哪些是由于loop的有无，cis的有无，或是loop调控方式的差异所引起的\n",
    "import pandas as pd\n",
    "df = pd.read_csv(\"G:/Billfish/J668_multip_tissue_3D-genome/HiC/loops/final_loops/J668_all_loop_gene_cis_statu.csv\")\n",
    "df_DEG = pd.read_csv(\"G:/Billfish/J668_multip_tissue_3D-genome/new_RNA_Seq/DEG/tissue/J668_mutipTissues_DEG.csv\")\n",
    "## 分析基因的tags, 划分为cis，loop， loop diff\n",
    "def gene_tags(df1, df2):\n",
    "    df1, df2 = df1.copy(), df2.copy()\n",
    "    df1.columns = ['GeneId', 'tissues1', 'anchor1', 'cis1']\n",
    "    df2.columns = ['GeneId', 'tissues2', 'anchor2', 'cis2']\n",
    "    df = pd.merge(df1, df2, how='inner', on=['GeneId'])\n",
    "    df_loop_yn = df.query(\"(anchor1==0 & anchor2>0) | (anchor2==0 & anchor1>0)\").copy()\n",
    "    df_cis_yn = df.query(\"(cis1==0 & cis2>0) | (cis2==0 & cis1>0)\").copy()\n",
    "    df_loop_diff = df.query(\"anchor1>0 & anchor2>0 & anchor1 != anchor2\").copy()\n",
    "    # 给由各因素差异相关的基因打上标签\n",
    "    df_loop_yn['tags'] = ['loop_yn']*df_loop_yn.shape[0]\n",
    "    df_cis_yn['tags'] = ['cis_yn']*df_cis_yn.shape[0]\n",
    "    df_loop_diff['tags'] = ['loop_diff']*df_loop_diff.shape[0]\n",
    "    df_return = pd.concat([df_loop_yn, df_cis_yn, df_loop_diff], axis=0)\n",
    "    return df_return[['GeneId', 'tags']].copy()\n",
    "## 分析不同loop因素所引起的差异表达基因数目\n",
    "def Tiss_loop_DEG(df_tags, df_DEG):\n",
    "    df_tags, df_DEG = df_tags.copy(), df_DEG.copy()\n",
    "    df_DEG = df_DEG.query(\"sig != 'Not'\")[['GeneId']].copy()\n",
    "    df_DEG['sig'] = ['DEG']*df_DEG.shape[0]\n",
    "    ## 由不同loop类型所引起的差异表达基因\n",
    "    df_loop = pd.merge(df_tags, df_DEG, how='inner', on=['GeneId'])\n",
    "    df_loop['number'] = [1]*df_loop.shape[0]\n",
    "    #print(df_loop.head())\n",
    "    df_return = df_loop.groupby(by=['tags'], as_index=False)['number'].sum()\n",
    "    return df_return\n",
    "\n",
    "## 分析由不同的loop因素所能引起的差异表达基因数目\n",
    "def loop_DEG(df, df_DEG):\n",
    "    tissues = ['anther', 'ovule', 'root', 'radicle', 'leaf', 'hypocotyl', 'cotyledon', 'stem', 'fiber_10DPA', 'fiber_20DPA', 'petal', 'stigma']\n",
    "    df_return = pd.DataFrame()\n",
    "    for i in range(11):\n",
    "        for j in range(i+1, 12):\n",
    "            tissues1, tissues2 = tissues[i], tissues[j]\n",
    "            t_tags = \"{0}-{1}\".format(tissues1, tissues2)\n",
    "            df_T1 = df.query(\"tissues==@tissues1\").copy()\n",
    "            df_T2 = df.query(\"tissues==@tissues2\").copy()\n",
    "            df_gene_tags = gene_tags(df_T1, df_T2)\n",
    "            df_gene_DEG = df_DEG.query(\"tags==@t_tags\")\n",
    "            df_tmp = Tiss_loop_DEG(df_gene_tags, df_gene_DEG)\n",
    "            df_tmp['sigs'] = [t_tags]*df_tmp.shape[0]\n",
    "            df_return = pd.concat([df_return, df_tmp], axis=0)\n",
    "    return df_return\n",
    "## 计算对于不同组织间差异基因影响的比例\n",
    "def DEG_ratio(df, df_DEG):\n",
    "    df_DEG = df_DEG.query(\"sig != 'Not'\")[['tags']].copy()\n",
    "    df_DEG['total_number'] = [1]*df_DEG.shape[0]\n",
    "    df_DEG_number = df_DEG.groupby(by=['tags'], as_index=False)['total_number'].sum()\n",
    "    df_DEG_number.columns = ['sigs', 'total_number']\n",
    "    df_return = pd.merge(df, df_DEG_number, how='inner', on=['sigs'])\n",
    "    df_return['ratio'] = df_return['number']/df_return['total_number']\n",
    "    return df_return\n",
    "df_number = loop_DEG(df, df_DEG)\n",
    "df_result = DEG_ratio(df_number, df_DEG)\n",
    "df_result.to_csv(\"G:/Billfish/J668_multip_tissue_3D-genome/HiC/loops/Tissue_diffloop_gene/J668_TissDiffloop_gene.csv\", index=False)\n"
   ]
  },
  {
   "cell_type": "code",
   "execution_count": 66,
   "metadata": {},
   "outputs": [],
   "source": [
    "## 将长数据转换为宽数据\n",
    "import pandas as pd\n",
    "df = pd.read_csv(\"G:/Billfish/J668_multip_tissue_3D-genome/HiC/loops/Tissue_diffloop_gene/J668_TissDiffloop_gene.csv\")\n",
    "df = df[['tags', 'sigs', 'ratio']].copy()\n",
    "df_wide = df.pivot(index='sigs', columns='tags', values='ratio')\n",
    "df_wide.columns = [ 'cis', 'way', 'loop']\n",
    "df_wide.to_csv(\"G:/Billfish/J668_multip_tissue_3D-genome/HiC/loops/Tissue_diffloop_gene/J668_TissDiffloop_gene_wide.csv\")\n"
   ]
  },
  {
   "cell_type": "code",
   "execution_count": 21,
   "metadata": {},
   "outputs": [],
   "source": [
    "import pandas as pd\n",
    "df = pd.read_csv(\"G:/Billfish/J668_multip_tissue_3D-genome/HiC/compartment/CALDER2/subcompartment/J668_allTissues_subcompartment.bed\", sep=\"\\t\", names=['chrom', 'start', 'end', 'tags', 'sub-cpt', 'tissues'])\n",
    "tissues = ['anther', 'ovule', 'root', 'radicle', 'leaf', 'hypocotyl', 'cotyledon', 'stem', 'fiber_10DPA', 'fiber_20DPA', 'petal', 'stigma']\n",
    "df_wide = pd.DataFrame()\n",
    "for t in tissues:\n",
    "    df_tiss = df.query(\"tissues == @t\")[['chrom', 'start', 'end', 'sub-cpt']].copy()\n",
    "    df_tiss.columns = ['chrom', 'start', 'end', t]\n",
    "    if df_wide.shape[0] == 0 :\n",
    "        df_wide = df_tiss.copy()\n",
    "    else:\n",
    "        df_wide = pd.merge(df_wide, df_tiss, how='inner', on=['chrom', 'start', 'end'])\n",
    "df_wide.to_csv(\"G:/Billfish/J668_multip_tissue_3D-genome/HiC/compartment/CALDER2/subcompartment/J668_allTissues_subcompartment_wide.bed\", sep=\"\\t\", index=False)\n"
   ]
  },
  {
   "cell_type": "code",
   "execution_count": 7,
   "metadata": {},
   "outputs": [],
   "source": [
    "## 分析所有组织差异表达基因受到compartment、subcompartment、TAD 所影响的数目\n",
    "import pandas as pd\n",
    "## 调整组织差异表达基因数据格式，切分两个组织，选择组织间差异表达基因\n",
    "def TDEG(df):\n",
    "    df = df.copy()\n",
    "    df[['tissues1', 'tissues2']] = df['tags'].str.split(\"-\", expand=True)\n",
    "    df_DEG = df.query(\"sig=='Down' | sig=='Up'\").copy()\n",
    "    df_DEG['number'] = [1]*df_DEG.shape[0]\n",
    "    df_return1 = df_DEG.groupby(by=['tags'], as_index=False)['number'].sum()  ## 计算所有组织间差异表达基因的数目\n",
    "    df_return1.columns = ['tags', 'all_number']\n",
    "    df_return2 = df_DEG[['GeneId', 'sig', 'tags', 'tissues1', 'tissues2', 'number']]    \n",
    "    return df_return1, df_return2\n",
    "## 统计与差异compartment, sub_cpt, TAD相关的差异表达基因数目\n",
    "def DEG_diff3Dgenome(df_gene, df_cpt):\n",
    "    df_gene, df_cpt = df_gene.copy(), df_cpt.copy()\n",
    "    df_DEG_number, df_DEG = TDEG(df_gene)\n",
    "    df_cpt = df_cpt[['GeneId', 'tissues', 'cpt']].copy() ## 选择部分数据\n",
    "    df_cpt.columns = ['GeneId', 'tissues1', 'cpt1']\n",
    "    df_a = pd.merge(df_DEG, df_cpt, how='inner', on=['GeneId', 'tissues1']) ## 找到组织1基因的cpt状态\n",
    "    df_cpt.columns = ['GeneId', 'tissues2', 'cpt2'] \n",
    "    df_ab = pd.merge(df_a, df_cpt, how='inner', on=['GeneId', 'tissues2']) ## 找到组织1，2基因的cpt状态\n",
    "    df_DEG_cpt = df_ab.query(\"cpt1!=cpt2\").copy() ## 选择受cpt 影响的差异表达基因\n",
    "    df_cpt_number = df_DEG_cpt.groupby(by=['tags'], as_index=False)['number'].sum() ## 统计组织间受到差异compartment 影响的基因数目\n",
    "    df_cpt_ratio = pd.merge(df_DEG_number, df_cpt_number, how='inner', on=['tags'])\n",
    "    df_cpt_ratio['ratio'] = df_cpt_ratio['number']/df_cpt_ratio['all_number']\n",
    "    df_return = df_cpt_ratio\n",
    "    return df_return\n",
    "## 调整TAD数据结构\n",
    "def TAD_format(df):\n",
    "    df = df.copy()\n",
    "    old_tags = ['one', 'two', 'three', 'four', 'five']\n",
    "    new_tags = [0, 1, 1, 1, 0]\n",
    "    df['level'].replace(old_tags, new_tags, inplace=True)\n",
    "    df.columns = ['GeneId', 'cpt', 'tissues', 'TPM']\n",
    "    df_return = df[['GeneId', 'tissues', 'cpt']].copy()\n",
    "    return df_return \n",
    "df_gene = pd.read_csv(\"G:/Billfish/J668_multip_tissue_3D-genome/new_RNA_Seq/DEG/tissue/J668_mutipTissues_DEG.csv\")\n",
    "df_cpt = pd.read_csv(\"G:/Billfish/J668_multip_tissue_3D-genome/HiC/compartment/cworld/100K/WGCNA/J668_all_tissue_gene_cpt_status.csv\", names=['chrom', 'start', 'end', 'GeneId', 'tissues', 'cpt'])\n",
    "df_subcpt = pd.read_csv(\"G:/Billfish/J668_multip_tissue_3D-genome/HiC/compartment/CALDER2/subcompartment/J668_all_tissue_gene_subcpt_status.csv\", names=['chrom', 'start', 'end', 'GeneId', 'tissues', 'cpt'])\n",
    "df_TAD = pd.read_csv(\"G:/Billfish/J668_multip_tissue_3D-genome/HiC/TAD_new/TAD_quintiles/TAD_region_gene/J668_TAD_quintiles_gene_TPM.csv\")\n",
    "df_TAD = TAD_format(df_TAD)\n",
    "\n",
    "df_DEG_cpt = DEG_diff3Dgenome(df_gene, df_cpt)  ##受到compartment 所影响的差异表达基因概率\n",
    "df_DEG_subcpt = DEG_diff3Dgenome(df_gene, df_subcpt) ##受到subcompartment所影响的差异表达基因\n",
    "df_DEG_TAD = DEG_diff3Dgenome(df_gene, df_TAD) ##受到TAD所影响的差异表达基因\n",
    "#print(df_DEG_TAD.head())\n",
    "df_DEG_loop = pd.read_csv(\"G:/Billfish/J668_multip_tissue_3D-genome/HiC/loops/Tissue_diffloop_gene/J668_TissDiffloop_gene_wide.csv\")\n"
   ]
  },
  {
   "cell_type": "code",
   "execution_count": 6,
   "metadata": {},
   "outputs": [],
   "source": [
    "## 确定TAD 边界（20%范围）\n",
    "import pandas as pd\n",
    "tissues = ['anther', 'ovule', 'root', 'radicle', 'leaf', 'hypocotyl', 'cotyledon', 'stem', 'fiber_10DPA', 'fiber_20DPA', 'petal', 'stigma']\n",
    "for t in tissues:\n",
    "    df_tiss0 = pd.read_csv(\"G:/Billfish/J668_multip_tissue_3D-genome/HiC/TAD_new/TAD_quintiles/TAD_region/{}_TAD0.bed\".format(t), sep=\"\\t\", names=['chrom', 'start', 'end'])\n",
    "    df_tiss4 = pd.read_csv(\"G:/Billfish/J668_multip_tissue_3D-genome/HiC/TAD_new/TAD_quintiles/TAD_region/{}_TAD4.bed\".format(t), sep=\"\\t\", names=['chrom', 'start', 'end'])\n",
    "    df_tiss = pd.concat([df_tiss0, df_tiss4], axis=0)\n",
    "    output_f = \"G:/Billfish/J668_multip_tissue_3D-genome/test/TAD_20_boundary/{}_boundary.bed\".format(t)\n",
    "    df_tiss.to_csv(output_f, sep=\"\\t\", index=False, header=False)"
   ]
  },
  {
   "cell_type": "code",
   "execution_count": 8,
   "metadata": {},
   "outputs": [],
   "source": [
    "##整理数据成一套结果, 包含差异表达基因，差异的compartmet，subcompartment， TAD， loops , 以及各个因素所相关的差异表达基因\n",
    "df_diff_cpt = pd.read_csv(\"G:/Billfish/J668_multip_tissue_3D-genome/test/J668_compartment_diff.csv\")\n",
    "df_diff_subcpt = pd.read_csv(\"G:/Billfish/J668_multip_tissue_3D-genome/test/J668_subcpt_diff.csv\")\n",
    "df_diff_TAD = pd.read_csv(\"G:/Billfish/J668_multip_tissue_3D-genome/test/J668_TAD_diff.csv\")\n",
    "df_diff_loop = pd.read_csv(\"G:/Billfish/J668_multip_tissue_3D-genome/test/J668_loop_diff.csv\")\n",
    "\n",
    "# print(df_DEG_cpt.head(1))\n",
    "# print(df_DEG_subcpt.head(1))\n",
    "# print(df_DEG_TAD.head(1))\n",
    "# print(df_DEG_loop.head(1))\n",
    "\n",
    "# print(df_diff_cpt.head(1))\n",
    "# print(df_diff_subcpt.head(1))\n",
    "# print(df_diff_TAD.head(1))\n",
    "# print(df_diff_loop.head(1))\n",
    "\n",
    "## 合并所有数据\n",
    "def data_concat(df_cpt, df_subcpt, df_TAD, df_loop, df_cpt_DEG, df_subcpt_DEG, df_TAD_DEG, df_loop_DEG):\n",
    "    df_cpt.columns = ['tags', 'cpt']\n",
    "    df_subcpt.columns = ['tags', 'subcpt']\n",
    "    df_TAD.columns = ['tags', 'TAD']\n",
    "    df_loop.columns = ['tags', 'loop']\n",
    "    #choose columns\n",
    "    df_cpt_DEG = df_cpt_DEG[['tags', 'all_number', 'ratio']].copy()\n",
    "    df_subcpt_DEG = df_subcpt_DEG[['tags', 'ratio']].copy()\n",
    "    df_TAD_DEG = df_TAD_DEG[['tags', 'ratio']].copy()\n",
    "    # rename\n",
    "    df_cpt_DEG.columns =['tags', 'all_number', 'cpt_DEG']\n",
    "    df_subcpt_DEG.columns = ['tags', 'subcpt_DEG']\n",
    "    df_TAD_DEG.columns = ['tags', 'TAD_DEG']\n",
    "    df_loop_DEG.columns = ['tags', 'cis_DEG', 'loop_DEG', 'way_DEG']\n",
    "    # concat \n",
    "    df1 = pd.merge(df_cpt_DEG, df_subcpt_DEG, how='inner', on=['tags'])\n",
    "    df2 = pd.merge(df1, df_TAD_DEG, how='inner', on=['tags'])\n",
    "    df3 = pd.merge(df2, df_loop_DEG, how='inner', on=['tags'])\n",
    "    df4 = pd.merge(df3, df_cpt, how='inner', on=['tags'])\n",
    "    df5 = pd.merge(df4, df_subcpt, how='inner', on=['tags'])\n",
    "    df6 = pd.merge(df5, df_TAD, how='inner', on=['tags'])\n",
    "    df7 = pd.merge(df6, df_loop, how='inner', on=['tags'])\n",
    "    df_return = df7.copy()\n",
    "    #print(df_return)\n",
    "    return df_return\n",
    "\n",
    "df_result = data_concat(df_diff_cpt, df_diff_subcpt, df_diff_TAD, df_diff_loop, df_DEG_cpt, df_DEG_subcpt, df_DEG_TAD, df_DEG_loop)\n",
    "df_result.to_csv(\"G:/Billfish/J668_multip_tissue_3D-genome/test/J668_all_factors_influence_G_bias.csv\", columns=['tags', 'all_number', 'cpt', 'subcpt', 'TAD', 'loop', 'cpt_DEG', 'subcpt_DEG', 'TAD_DEG', 'cis_DEG', 'loop_DEG', 'way_DEG'], index=False)"
   ]
  },
  {
   "cell_type": "code",
   "execution_count": null,
   "metadata": {},
   "outputs": [],
   "source": [
    "## 分析两个ChIP-Seq，ATAC-Seq 对于两个亚基因组同源基因bias的影响\n",
    "import pandas as pd\n"
   ]
  },
  {
   "cell_type": "code",
   "execution_count": 10,
   "metadata": {},
   "outputs": [],
   "source": [
    "## 整理H3K27ac和H3K4me3以及ATAC-Seq的peaks启动子区域的注释\n",
    "## H3K4me3 \n",
    "import pandas as pd\n",
    "tissues_H3K27ac = ['cotyledon', 'hypocotyl', 'ovule', 'radicle', 'root', 'stem', 'stigma']\n",
    "tissues_H3K4me3 = ['anther', 'cotyledon', 'fiber_10DPA', 'hypocotyl', 'leaf', 'ovule', 'petal', 'radicle', 'stem', 'stigma']\n",
    "tissues_ATAC = ['anther', 'ovule', 'radicle', 'hypocotyl', 'fiber_10DPA', 'fiber_20DPA', 'petal', 'stigma']\n",
    "Chip_path = \"G:/Billfish/J668_multip_tissue_3D-genome/Chip_Seq/peaks/annotation\"\n",
    "ATAC_path = \"G:/Billfish/J668_multip_tissue_3D-genome/ATAC/rawdata\"\n",
    "## 输出文件\n",
    "H3K4me3_output = \"G:/Billfish/J668_multip_tissue_3D-genome/Chip_Seq/peaks/annotation/J668_H3K4me3_promoter_peaks.csv\"\n",
    "H3K27ac_output = \"G:/Billfish/J668_multip_tissue_3D-genome/Chip_Seq/peaks/annotation/J668_H3K27ac_promoter_peaks.csv\"\n",
    "ATAC_output = \"G:/Billfish/J668_multip_tissue_3D-genome/ATAC/rawdata/J668_ATAC_promoter_peaks.csv\"\n",
    "\n",
    "## 将不同组织，不同修饰，在基因启动子的修饰选出来\n",
    "def data_concat(inp_path, tags, tissues):\n",
    "    df_return = pd.DataFrame()\n",
    "    for t in tissues:\n",
    "        if tags == 'ATAC':\n",
    "            input_f = \"{0}/{1}_peaks_annotation.bed\".format(inp_path, t)\n",
    "        else:\n",
    "            input_f = \"{0}/{1}_{2}_peaks_annotation.bed\".format(inp_path, t, tags)\n",
    "        df = pd.read_csv(input_f, sep=\" \")\n",
    "        df_promoter = df.query(\"annotation.str.contains('Promoter')\", engine='python')[['seqnames', 'start', 'end', 'geneId']]\n",
    "        df_promoter['tissues'] = [t]*df_promoter.shape[0]\n",
    "        df_return = pd.concat([df_return, df_promoter], axis=0)\n",
    "    df_return.columns = ['chrom', 'start', 'end', 'GeneId', 'tissues']\n",
    "    return df_return\n",
    "## 不同修饰均选出来\n",
    "df_H3K4me3 = data_concat(Chip_path, 'H3K4me3', tissues_H3K4me3)\n",
    "df_H3K27ac = data_concat(Chip_path, 'H3K27ac', tissues_H3K27ac)\n",
    "df_ATAC = data_concat(ATAC_path, 'ATAC', tissues_ATAC)\n",
    "## 结果写入文件\n",
    "df_H3K4me3.to_csv(H3K4me3_output, index=False)\n",
    "df_H3K27ac.to_csv(H3K27ac_output, index=False)\n",
    "df_ATAC.to_csv(ATAC_output, index=False)\n"
   ]
  },
  {
   "cell_type": "code",
   "execution_count": 19,
   "metadata": {},
   "outputs": [
    {
     "name": "stdout",
     "output_type": "stream",
     "text": [
      "448626\n",
      "422163\n",
      "219054\n",
      "204579\n",
      "84247\n",
      "71582\n"
     ]
    }
   ],
   "source": [
    "## 将各基因包含H3K4me3，H3K27ac， ATAC 的修饰写出到test，并且去除重复\n",
    "import pandas as pd\n",
    "## H3K4me3\n",
    "df_H3K4me3 = pd.read_csv(\"G:/Billfish/J668_multip_tissue_3D-genome/Chip_Seq/peaks/annotation/J668_H3K4me3_promoter_peaks.csv\")\n",
    "df_H3K4me3['tags'] = ['H3K4me3']*df_H3K4me3.shape[0]\n",
    "print(df_H3K4me3.shape[0])\n",
    "df_H3K4me3.drop_duplicates(keep='first', inplace=True, subset=['GeneId', 'tissues'])\n",
    "print(df_H3K4me3.shape[0])\n",
    "df_H3K4me3.to_csv(\"G:/Billfish/J668_multip_tissue_3D-genome/test/hg/J668_H3K4me3_gene.csv\", index=False, columns =['GeneId', 'tissues', 'tags'], header=False)\n",
    "\n",
    "## H3K27ac\n",
    "df_H3K27ac = pd.read_csv(\"G:/Billfish/J668_multip_tissue_3D-genome/Chip_Seq/peaks/annotation/J668_H3K27ac_promoter_peaks.csv\")\n",
    "df_H3K27ac['tags'] = ['H3K27ac']*df_H3K27ac.shape[0]\n",
    "print(df_H3K27ac.shape[0])\n",
    "df_H3K27ac.drop_duplicates(keep='first', inplace=True, subset=['GeneId', 'tissues'])\n",
    "print(df_H3K27ac.shape[0])\n",
    "df_H3K27ac.to_csv(\"G:/Billfish/J668_multip_tissue_3D-genome/test/hg/J668_H3K27ac_gene.csv\", index=False, columns =['GeneId', 'tissues', 'tags'], header=False)\n",
    "\n",
    "## ATAC \n",
    "df_ATAC = pd.read_csv(\"G:/Billfish/J668_multip_tissue_3D-genome/ATAC/rawdata/J668_ATAC_promoter_peaks.csv\")\n",
    "df_ATAC['tags'] = ['ATAC']*df_ATAC.shape[0]\n",
    "print(df_ATAC.shape[0])\n",
    "df_ATAC.drop_duplicates(keep='first', inplace=True, subset=['GeneId', 'tissues'])\n",
    "print(df_ATAC.shape[0])\n",
    "df_ATAC.to_csv(\"G:/Billfish/J668_multip_tissue_3D-genome/test/hg/J668_ATAC_gene.csv\", index=False, columns =['GeneId', 'tissues', 'tags'], header=False)\n"
   ]
  },
  {
   "cell_type": "code",
   "execution_count": 52,
   "metadata": {},
   "outputs": [],
   "source": [
    "## 将compartment，sub-compartment，TAD 不同类型的也写到test/hg 中\n",
    "# compartment\n",
    "df_compartment = pd.read_csv(\"G:/Billfish/J668_multip_tissue_3D-genome/HiC/compartment/cworld/100K/WGCNA/J668_all_tissue_gene_cpt_status.csv\", names=['chrom', 'start', 'end', 'GeneId', 'tissues', 'tags'])\n",
    "df_compartment.to_csv(\"G:/Billfish/J668_multip_tissue_3D-genome/test/hg/J668_compartment_gene.csv\", index=False, header=False, columns=['GeneId', 'tissues', 'tags'])\n",
    "\n",
    "# subcompartment\n",
    "df_subcpt = pd.read_csv(\"G:/Billfish/J668_multip_tissue_3D-genome/HiC/compartment/CALDER2/subcompartment/J668_all_tissue_gene_subcpt_status.csv\", names=['chrom', 'start', 'end', 'GeneId', 'tissues', 'tags'])\n",
    "df_subcpt.to_csv(\"G:/Billfish/J668_multip_tissue_3D-genome/test/hg/J668_subcompartment.csv\", index=False, header=False, columns=['GeneId', 'tissues', 'tags'])\n",
    "\n",
    "# TAD \n",
    "df_TAD = pd.read_csv(\"G:/Billfish/J668_multip_tissue_3D-genome/HiC/TAD_new/TAD_quintiles/TAD_region_gene/J668_TAD_quintiles_gene_TPM.csv\")\n",
    "old_tags = ['one', 'two', 'three', 'four', 'five']\n",
    "new_tags = [0,1,2,2,0]\n",
    "df_TAD['level'].replace(old_tags, new_tags, inplace=True)\n",
    "df_TAD.columns = ['GeneId', 'tags', 'tissues', 'TPM']\n",
    "df_TAD.to_csv(\"G:/Billfish/J668_multip_tissue_3D-genome/test/hg/J668_TAD_gene.csv\", index=False, header=False, columns=['GeneId', 'tissues', 'tags'])\n",
    "\n",
    "## loop\n",
    "df_loop = pd.read_csv(\"G:/Billfish/J668_multip_tissue_3D-genome/HiC/loops/final_loops/J668_all_loop_gene_cis_statu.csv\")\n",
    "df_loop.to_csv(\"G:/Billfish/J668_multip_tissue_3D-genome/test/hg/J668_loop_gene.csv\", index=False)"
   ]
  },
  {
   "cell_type": "code",
   "execution_count": 1,
   "metadata": {},
   "outputs": [],
   "source": [
    "## 分析ChIP， ATAC-Seq， compartment, sub-compartment, TAD 其对于同源基因差异表达的影响\n",
    "import pandas as pd\n",
    "def hg_bias_factor(df_bias, df_factor, factor):\n",
    "    df_bias, df_factor = df_bias.copy(), df_factor.copy()\n",
    "    df_factor.columns = ['GeneId_At', 'tissues', 'tags_At']\n",
    "    df_a = pd.merge(df_bias, df_factor, how='left', on=['GeneId_At', 'tissues'])\n",
    "    df_factor.columns = ['GeneId_Dt', 'tissues', 'tags_Dt']\n",
    "    df_ab = pd.merge(df_a, df_factor, how='left', on=['GeneId_Dt', 'tissues'])\n",
    "    df_ab.fillna(\"notags\", inplace=True)\n",
    "    ## 去掉不受影响同源基因\n",
    "    df_choosed = df_ab.query(\"tags_At!='notags' | tags_Dt!='notags'\").copy() \n",
    "    df_return = df_choosed.query(\"tags_At != tags_Dt\").copy()\n",
    "    df_return['number'] = [1]*df_return.shape[0]\n",
    "    df_return = df_return.groupby(by=['tissues'], as_index=False)['number'].sum()\n",
    "    df_return.columns = ['tissues', factor]\n",
    "    df_return.sort_values(by=['tissues'], inplace=True)\n",
    "    return df_return\n",
    "## 分析loop 差异对于同源基因差异表达的影响\n",
    "def hg_bias_factor_loop(df_bias, df_factor):\n",
    "    df_bias, df_factor = df_bias.copy(), df_factor.copy()\n",
    "    df_bias['number'] = [1]*df_bias.shape[0]\n",
    "    df_factor['anchor_cis'] = df_factor['anchor'] + df_factor['cis']\n",
    "    df_factor.columns = ['GeneId_At', 'tissues', 'anchor_At', 'cis_At', 'anchor_cis_At']\n",
    "    df_a = pd.merge(df_bias, df_factor, how='left', on=['GeneId_At', 'tissues'])\n",
    "    df_factor.columns = ['GeneId_Dt', 'tissues', 'anchor_Dt', 'cis_Dt', 'anchor_cis_Dt']\n",
    "    df_ab = pd.merge(df_a, df_factor, how='left', on=['GeneId_Dt', 'tissues'])\n",
    "    df_anchor = df_ab.query(\"(anchor_cis_At==0 & anchor_cis_Dt>0) | (anchor_cis_Dt==0 & anchor_cis_At>0)\").copy()\n",
    "    df_cis = df_ab.query(\"(cis_At==0 & cis_Dt>0) | (cis_At>0 & cis_Dt==0)\").copy()\n",
    "    # 动态调控loops\n",
    "    df_dynamic = df_ab.query(\"(anchor_cis_At>0 & anchor_cis_Dt>0) & (anchor_cis_At != anchor_cis_Dt)\").copy()\n",
    "    # 总结所有\n",
    "    df_anchor_return = df_anchor.groupby(by=['tissues'], as_index=False)['number'].sum()\n",
    "    df_cis_return = df_cis.groupby(by=['tissues'], as_index=False)['number'].sum()\n",
    "    df_dynamic_return = df_dynamic.groupby(by=['tissues'], as_index=False)['number'].sum()\n",
    "    df_anchor_return.columns = ['tissues', 'anchor']\n",
    "    df_cis_return.columns = ['tissues', 'cis']\n",
    "    df_dynamic_return.columns = ['tissues', 'dynamic']\n",
    "    return df_anchor_return, df_cis_return, df_dynamic_return\n",
    "\n",
    "df_hbias = pd.read_csv(\"G:/Billfish/J668_multip_tissue_3D-genome/new_RNA_Seq/homo_gene2/gene_bias/all_tissue_bias_gene_pair.bed\", sep=\"\\t\")\n",
    "df_H3K4me3 = pd.read_csv(\"G:/Billfish/J668_multip_tissue_3D-genome/test/hg/J668_H3K4me3_gene.csv\", names=['GeneId', 'tissues', 'tags'])\n",
    "df_H3K27ac = pd.read_csv(\"G:/Billfish/J668_multip_tissue_3D-genome/test/hg/J668_H3K27ac_gene.csv\", names=['GeneId', 'tissues', 'tags'])\n",
    "df_ATAC = pd.read_csv(\"G:/Billfish/J668_multip_tissue_3D-genome/test/hg/J668_ATAC_gene.csv\", names=['GeneId', 'tissues', 'tags'])\n",
    "\n",
    "df_compartment = pd.read_csv(\"G:/Billfish/J668_multip_tissue_3D-genome/test/hg/J668_compartment_gene.csv\", names=['GeneId', 'tissues', 'tags'])\n",
    "df_subcpt = pd.read_csv(\"G:/Billfish/J668_multip_tissue_3D-genome/test/hg/J668_subcompartment_gene.csv\", names=['GeneId', 'tissues', 'tags'])\n",
    "df_TAD = pd.read_csv(\"G:/Billfish/J668_multip_tissue_3D-genome/test/hg/J668_TAD_gene.csv\", names=['GeneId', 'tissues', 'tags'])\n",
    "## 将TAD 边界和内部转换一下，因为之前划分了五等份，现在将之分为两种类型，边界和内部\n",
    "old_tags = [0, 1, 2]\n",
    "new_tags = [0, 1, 1]\n",
    "df_TAD.replace(old_tags, new_tags, inplace=True)\n",
    "\n",
    "df_loop = pd.read_csv(\"G:/Billfish/J668_multip_tissue_3D-genome/test/hg/J668_loop_gene.csv\")\n",
    "\n",
    "df_H3K4me3_statu = hg_bias_factor(df_hbias, df_H3K4me3, 'H3K4me3')\n",
    "df_H3K27ac_statu = hg_bias_factor(df_hbias, df_H3K27ac, 'H3K27ac')\n",
    "df_ATAC_statu = hg_bias_factor(df_hbias, df_ATAC, 'ATAC')\n",
    "df_cpt_statu = hg_bias_factor(df_hbias, df_compartment, 'compartment')\n",
    "df_subcpt_statu = hg_bias_factor(df_hbias, df_subcpt, 'subcompartment')\n",
    "df_TAD_statu = hg_bias_factor(df_hbias, df_TAD, 'TAD')\n",
    "\n",
    "df_anchor_statu, df_cis_statu, df_dynamic_statu = hg_bias_factor_loop(df_hbias, df_loop)\n",
    "\n",
    "## 分析各组织亚基因组不平衡表达基因数目\n",
    "df_hbias2 = df_hbias.copy()\n",
    "df_hbias2['number'] = [1]*df_hbias2.shape[0]\n",
    "df_hbias_statu = df_hbias2.groupby(by=['tissues'], as_index=False)['number'].sum()\n"
   ]
  },
  {
   "cell_type": "code",
   "execution_count": 2,
   "metadata": {},
   "outputs": [],
   "source": [
    "## 总结各因素对于同源基因bias的影响\n",
    "dfs = [df_hbias_statu, df_H3K4me3_statu, df_H3K27ac_statu, df_ATAC_statu, df_cpt_statu, df_subcpt_statu, df_TAD_statu, df_cis_statu,  df_anchor_statu, df_dynamic_statu]\n",
    "from functools import reduce\n",
    "final_df = reduce(lambda left,right: pd.merge(left,right,on= ['tissues'], how='outer'), dfs)\n",
    "final_df.to_csv(\"G:/Billfish/J668_multip_tissue_3D-genome/test/hg/J668_all_factor_influence_hgene_bias.csv\", index=False)"
   ]
  },
  {
   "cell_type": "code",
   "execution_count": null,
   "metadata": {},
   "outputs": [],
   "source": [
    "## 将各因素影响转换为长数据格式"
   ]
  }
 ],
 "metadata": {
  "interpreter": {
   "hash": "a0f669ea42a4dcea88d385f8f9b4c3d9b966e24234758831d1dbfdac925619a2"
  },
  "kernelspec": {
   "display_name": "Python 3.8.3 ('base')",
   "language": "python",
   "name": "python3"
  },
  "language_info": {
   "codemirror_mode": {
    "name": "ipython",
    "version": 3
   },
   "file_extension": ".py",
   "mimetype": "text/x-python",
   "name": "python",
   "nbconvert_exporter": "python",
   "pygments_lexer": "ipython3",
   "version": "3.8.3"
  },
  "orig_nbformat": 4
 },
 "nbformat": 4,
 "nbformat_minor": 2
}
