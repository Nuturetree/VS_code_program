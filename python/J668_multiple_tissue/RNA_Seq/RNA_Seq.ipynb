{
 "cells": [
  {
   "cell_type": "code",
   "execution_count": null,
   "metadata": {},
   "outputs": [],
   "source": [
    "import pandas as pd\n",
    "df = pd.read_csv(\"F:/J668_multip_tissue_3D-genome/RNA_seq/PCA/J668_all_tissue_FPKM.txt\", sep='\\t')\n",
    "dz = df.groupby(by=['GeneId'], as_index=False)['anthers1'].count()\n",
    "print(dz.query(\"anthers1==2\"))\n"
   ]
  },
  {
   "cell_type": "code",
   "execution_count": null,
   "metadata": {},
   "outputs": [],
   "source": [
    "## 将RNA_Seq数据整理为一个文件, 为做相关性分析\n",
    "samples = ['anthers', 'cotyledon', 'hypocotyl', 'leaf', 'ovules', 'petals', 'radicle', 'root', 'stem', 'stigma']\n",
    "df = pd.read_csv(\"G:/Billfish/J668_multip_tissue_3D-genome/RNA_seq/PCA/J668_all_tissue_TPM.txt\", sep='\\t')\n",
    "for s in samples:\n",
    "    input_f = \"G:/Billfish/J668_multip_tissue_3D-genome/RNA_seq/PCA/{}_rep3_FPKM_TPM.txt\".format(s)\n",
    "    tags = '{}3'.format(s)\n",
    "    df_tmp = pd.read_csv(input_f, sep='\\t', names=['GeneId', 'chr', 'start', 'end', 'FPKM', tags])\n",
    "    df_tmp = df_tmp[['GeneId', tags]].copy()\n",
    "    df = pd.merge(df, df_tmp, how='inner', on=['GeneId'])\n",
    "samples4 = ['anthers', 'hypocotyl']\n",
    "for s in samples4:\n",
    "    input_f = \"G:/Billfish/J668_multip_tissue_3D-genome/RNA_seq/PCA/{}_rep4_FPKM_TPM.txt\".format(s)\n",
    "    tags = '{}4'.format(s)\n",
    "    df_tmp = pd.read_csv(input_f, sep='\\t', names=['GeneId', 'chr', 'start', 'end', 'FPKM', tags])\n",
    "    df_tmp = df_tmp[['GeneId', tags]].copy()\n",
    "    df = pd.merge(df, df_tmp, how='inner', on=['GeneId'])\n",
    "df.to_csv(\"G:/Billfish/J668_multip_tissue_3D-genome/RNA_seq/PCA/J668_all_tissue_TPM.txt\", sep='\\t', index=False)"
   ]
  },
  {
   "cell_type": "code",
   "execution_count": 53,
   "metadata": {},
   "outputs": [
    {
     "name": "stdout",
     "output_type": "stream",
     "text": [
      "37 37\n"
     ]
    }
   ],
   "source": [
    "df = pd.read_csv(\"G:/Billfish/J668_multip_tissue_3D-genome/RNA_seq/PCA/J668_all_tissue_TPM.txt\", sep='\\t')\n",
    "out_tags = ['GeneId', 'anthers1', 'anthers2', 'anthers3', 'leaf1', 'leaf2', 'leaf3', 'hypocotyl1', 'hypocotyl2', 'hypocotyl3', 'cotyledon1', 'cotyledon2', 'cotyledon3', 'stem1', 'stem2', 'stem3', 'ovules1', 'ovules2','ovules3', 'root1', 'root2', 'root3',  'radicle1', 'radicle2', 'radicle3', 'fiber_5DPA1', 'fiber_5DPA2', 'fiber_10DPA1', 'fiber_10DPA2', 'fiber_20DPA1', 'fiber_20DPA2', 'petals1', 'petals2', 'petals3', 'stigma1', 'stigma2', 'stigma3']\n",
    "#print(len(df.columns), len(out_tags))\n",
    "df.to_csv(\"G:/Billfish/J668_multip_tissue_3D-genome/RNA_seq/PCA/J668_all_tissue_TPM.txt\", sep='\\t', index=False, columns=out_tags)"
   ]
  },
  {
   "cell_type": "code",
   "execution_count": 6,
   "metadata": {},
   "outputs": [],
   "source": [
    "import pandas as pd\n",
    "df = pd.read_csv('G:/J668_multip_tissue_3D-genome/RNA_seq/PCA/J668_all_tissue_average_TPM.txt', sep='\\t')\n",
    "df_gene = pd.read_csv(\"G:/TM-1_leaf_3D-genome/RNA_Seq/Ghir_all_gene_position.txt\", sep='\\t', names=['chr', 'start', 'end', 'GeneId'])\n",
    "df_result = pd.merge(df, df_gene, how='outer', on=['GeneId'])\n",
    "df_result.to_csv(\"G:/J668_multip_tissue_3D-genome/RNA_seq/PCA/J668_all_tissue_average_TPM1.txt\", sep='\\t', index=False)\n"
   ]
  },
  {
   "cell_type": "code",
   "execution_count": 9,
   "metadata": {},
   "outputs": [],
   "source": [
    "## 分析基因表达标准差\n",
    "import pandas as pd\n",
    "df = pd.read_csv(\"G:/Billfish/J668_multip_tissue_3D-genome/RNA_seq/expression_gene/J668_all_tissue_average_TPM.txt\", sep='\\t', index_col=0)\n",
    "df['std'] = df.std(axis=1)\n",
    "df.to_csv('G:/Billfish/J668_multip_tissue_3D-genome/RNA_seq/Standard_deviation/J668_all_tissue_average_TPM_std.txt', sep='\\t')"
   ]
  },
  {
   "cell_type": "code",
   "execution_count": 18,
   "metadata": {},
   "outputs": [],
   "source": [
    "## 统计非0标准差 前20%的基因数目\n",
    "df = pd.read_csv('G:/Billfish/J668_multip_tissue_3D-genome/RNA_seq/Standard_deviation/J668_all_tissue_average_TPM_std.txt', sep='\\t')\n",
    "#df_StdNoZore = df.query(\"std>0\").copy()\n",
    "## 通过计算得到前20% 的基因标准差要高于15.0423\n",
    "df_result = df.query(\"std>15.0423\")\n",
    "df_result.to_csv(\"G:/Billfish/J668_multip_tissue_3D-genome/RNA_seq/Standard_deviation/J668_all_tissue_average_TPM_top20std.txt\", sep='\\t', index=False)"
   ]
  },
  {
   "cell_type": "code",
   "execution_count": 19,
   "metadata": {},
   "outputs": [],
   "source": [
    "## 基因表达数据过滤以及标准化\n",
    "import pandas as pd\n",
    "import numpy as np\n",
    "df = pd.read_csv(\"G:/Billfish/J668_multip_tissue_3D-genome/RNA_seq/Standard_deviation/J668_all_tissue_average_TPM_top20std.txt\", sep=\"\\t\")\n",
    "## filter data according to standard deviation values\n",
    "df.set_index(['GeneId'], inplace=True)\n",
    "#df['std'] = df.std(axis=1)\n",
    "#df_std_mt05 = df.query(\"std>0.5\").copy()\n",
    "df.drop(['std'], axis=1, inplace=True)\n",
    "## Z-score standardisation for row\n",
    "df_result = pd.DataFrame()\n",
    "for i in range(df.shape[0]):\n",
    "    df_normal = df.iloc[[i]].apply(lambda x: (x-np.mean(x))/(np.std(x)), axis=1)\n",
    "    df_result = df_result.append(df_normal)\n",
    "df_result.to_csv(\"G:/Billfish/J668_multip_tissue_3D-genome/RNA_seq/cluster/gene_z_score_normalized_top20std.txt\", sep='\\t')"
   ]
  },
  {
   "cell_type": "code",
   "execution_count": 41,
   "metadata": {},
   "outputs": [],
   "source": [
    "## 对所有基因进行zcore标准化\n",
    "import pandas as pd\n",
    "import numpy as np\n",
    "df = pd.read_csv(\"G:/Billfish/J668_multip_tissue_3D-genome/RNA_seq/Standard_deviation/J668_all_tissue_average_TPM_std.txt\", sep='\\t')\n",
    "df.drop('std', inplace=True, axis=1)\n",
    "df.set_index(['GeneId'], inplace=True)\n",
    "df_result = pd.DataFrame()\n",
    "for i in range(df.shape[0]):\n",
    "    df_normal = df.iloc[[i]].apply(lambda x: (x-np.mean(x))/(np.std(x)), axis=1)\n",
    "    df_result = df_result.append(df_normal)\n",
    "df_result.to_csv(\"G:/Billfish/J668_multip_tissue_3D-genome/RNA_seq/Standard_deviation/J668_all_tissue_average_TPM_zscore.txt\", sep='\\t')"
   ]
  },
  {
   "cell_type": "code",
   "execution_count": null,
   "metadata": {},
   "outputs": [],
   "source": [
    "## 将TPM>=0.5 视为可表达\n",
    "import pandas as pd\n",
    "#df = pd.read_csv(\"G:/Billfish/J668_multip_tissue_3D-genome/RNA_seq/PCA/J668_all_tissue_average_TPM.txt\", sep='\\t')\n",
    "df = pd.read_csv(\"G:/Billfish/J668_multip_tissue_3D-genome/RNA_seq/standard_deviation/J668_all_tissue_average_TPM_top20std.txt\", sep='\\t')\n",
    "df_result = pd.DataFrame(columns=['number', 'samples'])\n",
    "samples = ['anthers', 'leaf', 'hypocotyl', 'cotyledon', 'stem', 'ovules', 'root', 'radicle', 'fiber_5DPA', 'fiber_10DPA', 'fiber_20DPA', 'petals', 'stigma']\n",
    "#samples = [ 'anthers1', 'anthers2', 'anthers3', 'leaf1', 'leaf2', 'leaf3', 'hypocotyl1', 'hypocotyl2', 'hypocotyl3', 'cotyledon1', 'cotyledon2', 'cotyledon3', 'stem1', 'stem2', 'stem3', 'ovules1', 'ovules2','ovules3', 'root1', 'root2', 'root3',  'radicle1', 'radicle2', 'radicle3', 'fiber_5DPA1', 'fiber_5DPA2', 'fiber_10DPA1', 'fiber_10DPA2', 'fiber_20DPA1', 'fiber_20DPA2', 'petals1', 'petals2', 'petals3', 'stigma1', 'stigma2', 'stigma3']\n",
    "for s in samples:\n",
    "    number = df[df[s]>=0.5].shape[0]\n",
    "    df_result.loc[df_result.shape[0]] =[number, s]\n",
    "    print(s, number)\n",
    "#df_result.to_csv(\"G:/Billfish/J668_multip_tissue_3D-genome/RNA_seq/expression_gene/all_tissue_TMPge0.5_number.txt\", sep='\\t', index=False)"
   ]
  },
  {
   "cell_type": "code",
   "execution_count": 15,
   "metadata": {},
   "outputs": [],
   "source": [
    "## Analysing the gene overlape between special go term and top20 std\n",
    "import pandas as pd\n",
    "df_gotissue = pd.read_csv(\"G:/Billfish/J668_multip_tissue_3D-genome/RNA_seq/cluster/tissu_go.txt\", sep='\\t', names=['GeneId'])\n",
    "df_gene = pd.read_csv(\"G:/Billfish/J668_multip_tissue_3D-genome/RNA_seq/cluster/gene_z_score_normalized_Top20std.txt\", sep='\\t')\n",
    "df_gene_id = pd.merge(df_gotissue, df_gene, how='inner', on='GeneId')\n",
    "df_gene_id.to_csv(\"G:/Billfish/J668_multip_tissue_3D-genome/RNA_seq/cluster/Regulators.txt\", sep='\\t', columns=['GeneId'], index=False)"
   ]
  },
  {
   "cell_type": "code",
   "execution_count": 5,
   "metadata": {},
   "outputs": [],
   "source": [
    "## lemon-tree聚类结果，选择基因, anthers\n",
    "import pandas as pd\n",
    "df_cluster = pd.read_csv(\"G:/Billfish/J668_multip_tissue_3D-genome/RNA_seq/cluster/cluster_anthers_geneid.txt\", sep='\\t', names=['GeneId'])\n",
    "df_gene = pd.read_csv(\"G:/Billfish/J668_multip_tissue_3D-genome/RNA_seq/PCA/J668_all_tissue_average_TPM.txt\", sep='\\t')\n",
    "df_result = pd.merge(df_cluster, df_gene, how='left', on='GeneId')\n",
    "df_result.to_csv(\"G:/Billfish/J668_multip_tissue_3D-genome/RNA_seq/cluster/J668_all_tissue_average_TPM_cluster_anthers.txt\", sep='\\t', index=False)"
   ]
  },
  {
   "cell_type": "code",
   "execution_count": 6,
   "metadata": {},
   "outputs": [],
   "source": [
    "## lemon-tree聚类结果，选择基因, leaf\n",
    "import pandas as pd\n",
    "df_cluster = pd.read_csv(\"G:/Billfish/J668_multip_tissue_3D-genome/RNA_seq/cluster/cluster_leaf_geneid.txt\", sep='\\t', names=['GeneId'])\n",
    "df_gene = pd.read_csv(\"G:/Billfish/J668_multip_tissue_3D-genome/RNA_seq/PCA/J668_all_tissue_average_TPM.txt\", sep='\\t')\n",
    "df_result = pd.merge(df_cluster, df_gene, how='left', on='GeneId')\n",
    "df_result.to_csv(\"G:/Billfish/J668_multip_tissue_3D-genome/RNA_seq/cluster/J668_all_tissue_average_TPM_cluster_leaf.txt\", sep='\\t', index=False)"
   ]
  },
  {
   "cell_type": "code",
   "execution_count": 6,
   "metadata": {},
   "outputs": [],
   "source": [
    "## 将lemon-tree 聚类结果转换为拟南芥ID对应\n",
    "import pandas as pd\n",
    "df_cluster = pd.read_csv(\"G:/Billfish/J668_multip_tissue_3D-genome/RNA_seq/cluster/tight_clusters.txt\", sep='\\t', names=['Gh_id', 'cluster_id'])\n",
    "df_geneid = pd.read_csv(\"G:/Billfish/J668_multip_tissue_3D-genome/RNA_seq/Gh_vs_Arabidopsis.txt\", sep='\\t', names=['Gh_id', 'Atha_id'])\n",
    "df_result = pd.merge(df_cluster, df_geneid, how='left',on=['Gh_id'])\n",
    "df_result.dropna(inplace=True)\n",
    "#print(df_result.dropna().shape[0])\n",
    "df_result.to_csv(\"G:/Billfish/J668_multip_tissue_3D-genome/RNA_seq/cluster/lemon-tree_clusters.txt\", sep='\\t', index=False)\n"
   ]
  },
  {
   "cell_type": "code",
   "execution_count": 25,
   "metadata": {},
   "outputs": [],
   "source": [
    "## 将批量lemon-tree 聚类结果转换为拟南芥ID对应\n",
    "samples = ['anthers', 'leaf', 'hypocotyl', 'cotyledon', 'stem', 'ovules', 'root', 'radicle', 'fiber_5DPA', 'fiber_10DPA', 'fiber_20DPA', 'petals', 'stigma', 'fiber_5DPA_10DPA']\n",
    "df_geneid = pd.read_csv(\"G:/Billfish/J668_multip_tissue_3D-genome/RNA_seq/Gh_vs_Arabidopsis.txt\", sep='\\t', names=['GeneId', 'Atha_id'])\n",
    "for s in samples:\n",
    "    input_f = \"G:/Billfish/J668_multip_tissue_3D-genome/RNA_seq/tissue_uniq_exp_gene/lemon_tree/{}/tight_clusters.txt\".format(s)\n",
    "    output_f = \"G:/Billfish/J668_multip_tissue_3D-genome/RNA_seq/tissue_uniq_exp_gene/lemon_tree/{}/lemon_clusters.txt\".format(s)\n",
    "    df_cluster = pd.read_csv(input_f, sep='\\t', names=['GeneId', 'cluster_id'])\n",
    "    df_result = pd.merge(df_cluster, df_geneid, how='left', on=['GeneId'])\n",
    "    df_result.dropna(inplace=True)\n",
    "    df_result.to_csv(output_f, sep='\\t', index=False)"
   ]
  },
  {
   "cell_type": "code",
   "execution_count": 49,
   "metadata": {},
   "outputs": [],
   "source": [
    "##  聚类结果转换为拟南芥ID对应\n",
    "df_geneid = pd.read_csv(\"G:/Billfish/J668_multip_tissue_3D-genome/RNA_seq/Gh_vs_Arabidopsis.txt\", sep='\\t', names=['GeneId', 'Atha_id'])\n",
    "for s in range(1,31):\n",
    "    input_f = \"G:/Billfish/J668_multip_tissue_3D-genome/RNA_seq/Mfuzz/cluster{}/tight_clusters.txt\".format(s)\n",
    "    output_f = \"G:/Billfish/J668_multip_tissue_3D-genome/RNA_seq/Mfuzz/cluster{}/lemon_clusters.txt\".format(s)\n",
    "    df_cluster = pd.read_csv(input_f, sep='\\t', names=['GeneId', 'cluster_id'])\n",
    "    df_result = pd.merge(df_cluster, df_geneid, how='left', on=['GeneId'])\n",
    "    df_result.dropna(inplace=True)\n",
    "    df_result.to_csv(output_f, sep='\\t', index=False)"
   ]
  },
  {
   "cell_type": "code",
   "execution_count": 9,
   "metadata": {},
   "outputs": [],
   "source": [
    "### 给基因表达水平打上分类的标签\n",
    "import pandas as pd\n",
    "df_cluster = pd.read_csv(\"G:/Billfish/J668_multip_tissue_3D-genome/RNA_seq/cluster/tight_clusters.txt\", sep='\\t', names=['GeneId', 'cluster_id'])\n",
    "df_geneid = pd.read_csv(\"G:/Billfish/J668_multip_tissue_3D-genome/RNA_seq/Standard_deviation/J668_all_tissue_average_TPM_top20std.txt\", sep='\\t')\n",
    "df_result = pd.merge(df_cluster, df_geneid, how='left',on=['GeneId'])\n",
    "df_result.dropna(inplace=True)\n",
    "#print(df_result.dropna().shape[0])\n",
    "df_result.to_csv(\"G:/Billfish/J668_multip_tissue_3D-genome/RNA_seq/cluster/lemon_cluster_TPM/lemon-tree_clusters_TPM.txt\", sep='\\t', index=False)\n"
   ]
  },
  {
   "cell_type": "code",
   "execution_count": 34,
   "metadata": {},
   "outputs": [],
   "source": [
    "### 对于clusterProfiler生成的Go文件调整格式\n",
    "for i in range(331):\n",
    "    input_f = \"G:/Billfish/J668_multip_tissue_3D-genome/RNA_seq/cluster/lemon_cluster_Go/lemon-tree_cluster_{}.txt\".format(i)\n",
    "    output_f = \"G:/Billfish/J668_multip_tissue_3D-genome/RNA_seq/cluster/lemon_cluster_Go/A_go_figure/lemon-tree_cluster_{}_go.txt\".format(i)\n",
    "    df = pd.read_csv(input_f, sep=\"\\t\")\n",
    "    df['gene_number'], df['total'] = df['GeneRatio'].str.split('/', 1).str[0], df['GeneRatio'].str.split('/', 1).str[1]\n",
    "    df['bioprocess'] = df['Description'].map(str) + \" (\" + df['ID'].map(str) + \")\"\n",
    "    df_BP = df.query(\"ONTOLOGY=='BP'\")\n",
    "    df_BP_out = df_BP[['bioprocess', 'gene_number', 'p.adjust']]\n",
    "    df_BP_out.columns = ['bioprocess', 'gene_number', 'FDR']\n",
    "    df_BP_out.to_csv(output_f, sep='\\t', index=False)\n",
    "    "
   ]
  },
  {
   "cell_type": "code",
   "execution_count": 30,
   "metadata": {},
   "outputs": [
    {
     "name": "stdout",
     "output_type": "stream",
     "text": [
      "18469\n",
      "263 18732\n"
     ]
    }
   ],
   "source": [
    "### 分析最高表达基因在组织中的分布\n",
    "import pandas as pd\n",
    "import numpy as np\n",
    "df = pd.read_csv(\"G:/Billfish/J668_multip_tissue_3D-genome/RNA_seq/PCA/J668_all_tissue_average_TPM.txt\", sep=\"\\t\")\n",
    "df_TPM = df.iloc[:, 1:].copy()\n",
    "# max gene expression and tissue name\n",
    "df['max_idx'] = df_TPM.idxmax(axis=1)\n",
    "df['max_val'] = df_TPM.max(axis=1)\n",
    "# second max gene expression and tissue name\n",
    "df_array = df_TPM.to_numpy() \n",
    "df_array[df_TPM.index, np.argmax(df_array, axis=1)] = 0 # replace max values\n",
    "df_array2 = pd.DataFrame(df_array, columns=df_TPM.columns.values.tolist()) # trans data format\n",
    "df['second_idx'] = df_array2.idxmax(axis=1)\n",
    "df['second_val'] = df_array2.max(axis=1)\n",
    "df['max_Division_second'] = (df['max_val']+0.01)/(df['second_val']+0.01)\n",
    "# three max gene expression and tissue name\n",
    "df_array[df_TPM.index, np.argmax(df_array, axis=1)] = 0 # replace max values\n",
    "df_array3 = pd.DataFrame(df_array, columns=df_TPM.columns.values.tolist()) # trans data format\n",
    "df['three_idx'] = df_array3.idxmax(axis=1)\n",
    "df['three_val'] = df_array3.max(axis=1)\n",
    "df['max_Division_three'] = (df['max_val']+0.01)/(df['three_val']+0.01)\n",
    "df['second_Division_three'] = (df['second_val']+0.01)/(df['three_val']+0.01)\n",
    "\n",
    "# filter data\n",
    "df_result1 = df.query(\"max_val>=0.5 & max_Division_second>=2\").copy()\n",
    "print(df_result1.shape[0])\n",
    "## 5DPA_10DPA\n",
    "df_5DPA_10DPA = df.query(\"(max_idx=='fiber_5DPA' & second_idx=='fiber_10DPA') | (max_idx=='fiber_10DPA' & second_idx=='fiber_5DPA')\")\n",
    "df_5DPA_10DPA_ture = df_5DPA_10DPA.query(\"second_val>=0.5 & max_Division_second<2 & second_Division_three>=2\").copy()\n",
    "df_result = df_result1.append(df_5DPA_10DPA_ture, ignore_index=True)\n",
    "df_result.drop_duplicates(keep='first', inplace=True)\n",
    "print(df_5DPA_10DPA_ture.shape[0], df_result.shape[0])\n",
    "df_result.to_csv(\"G:/billfish/J668_multip_tissue_3D-genome/RNA_seq/tissue_uniq_exp_gene/all_tissue_expgene_ge_2.txt\", sep='\\t', index=False)\n",
    "\n",
    "## 组织高表达基因及组织\n",
    "df_one = df_result1[['GeneId', 'max_idx', 'second_idx']]\n",
    "df_two = df_5DPA_10DPA_ture[['GeneId', 'max_idx', 'three_idx']]\n",
    "df_two.columns = ['GeneId', 'max_idx', 'second_idx']\n",
    "df_result2 = df_one.append(df_two, ignore_index=True)\n",
    "df_result2.to_csv(\"G:/Billfish/J668_multip_tissue_3D-genome/RNA_seq/tissue_uniq_exp_gene/DEGseq2/tissue_uique_high_expGene.txt\", sep='\\t', index=False)"
   ]
  },
  {
   "cell_type": "code",
   "execution_count": 24,
   "metadata": {},
   "outputs": [
    {
     "name": "stdout",
     "output_type": "stream",
     "text": [
      "26629\n"
     ]
    }
   ],
   "source": [
    "## 合并标准差Top和特异组织高表达基因, 并分类选出\n",
    "df1 = pd.read_csv(\"G:/Billfish/J668_multip_tissue_3D-genome/RNA_seq/tissue_uniq_exp_gene/DEGseq2/tissue_uique_high_expGene.txt\", sep='\\t')\n",
    "df2 = pd.read_csv(\"G:/Billfish/J668_multip_tissue_3D-genome/RNA_seq/cluster/gene_z_score_normalized_top20std.txt\", sep='\\t')\n",
    "df = pd.merge(df1, df2, how='outer', on=['GeneId'])\n",
    "print(df.shape[0])\n",
    "df_gene = pd.DataFrame(df['GeneId'])\n",
    "df_std = pd.read_csv('G:/Billfish/J668_multip_tissue_3D-genome/RNA_seq/Standard_deviation/J668_all_tissue_average_TPM_std.txt', sep='\\t')\n",
    "df_result = pd.merge(df_std, df_gene, how='inner', on=['GeneId'])\n",
    "## 把每个最高表达的一类基因选出来\n",
    "df_TPM = df_result.iloc[:, 1:].copy()\n",
    "df_result['max_idx'] = df_TPM.idxmax(axis=1)\n",
    "df_result['max_val'] = df_TPM.max(axis=1)\n",
    "samples = ['anthers', 'leaf', 'hypocotyl', 'cotyledon', 'stem', 'ovules', 'root', 'radicle', 'fiber_5DPA', 'fiber_10DPA', 'fiber_20DPA', 'petals', 'stigma']\n",
    "output_id = ['GeneId', 'anthers', 'leaf', 'hypocotyl', 'cotyledon', 'stem', 'ovules', 'root', 'radicle', 'fiber_5DPA', 'fiber_10DPA', 'fiber_20DPA', 'petals', 'stigma']\n",
    "for s in samples:\n",
    "    df_sample = df_result.query(\"max_idx==@s\")\n",
    "    output_f = \"G:/Billfish/J668_multip_tissue_3D-genome/RNA_seq/tissue_uniq_exp_gene/lemon_tree/{}_unique_high_exp.txt\".format(s)\n",
    "    df_sample.to_csv(output_f, sep='\\t', index=False, columns=output_id)\n"
   ]
  },
  {
   "cell_type": "code",
   "execution_count": 35,
   "metadata": {},
   "outputs": [],
   "source": [
    "## 分析组织特异性基因的特异化程度\n",
    "#! 1, 分析标准差在>=20% 的组织最大表达基因\n",
    "df_top20 = pd.read_csv(\"G:/Billfish/J668_multip_tissue_3D-genome/RNA_seq/cluster/gene_z_score_normalized_top20std.txt\", sep='\\t')\n",
    "df_TPM = df_top20.iloc[:, 1:].copy()\n",
    "# max gene expression and tissue name\n",
    "df_top20['max_idx'] = df_TPM.idxmax(axis=1)\n",
    "df_top20['max_val'] = df_TPM.max(axis=1)\n",
    "df_top20_gene = df_top20[['GeneId', 'max_idx']]\n",
    "#! 2, 合并组织特异高表达基因和top20基因\n",
    "df_uniq_tissue = pd.read_csv(\"G:/Billfish/J668_multip_tissue_3D-genome/RNA_seq/tissue_uniq_exp_gene/DEGseq2/tissue_uique_high_expGene.txt\", sep='\\t')\n",
    "df_uniq_tissue = df_uniq_tissue[['GeneId', 'max_idx']]\n",
    "df_all = df_top20_gene.append(df_uniq_tissue, ignore_index=True)\n",
    "df_all.drop_duplicates(keep='first', inplace=True)\n",
    "\n",
    "df_std =  pd.read_csv('G:/Billfish/J668_multip_tissue_3D-genome/RNA_seq/Standard_deviation/J668_all_tissue_average_TPM_std.txt', sep='\\t')\n",
    "df_result=pd.merge(df_all, df_std, how='left', on=['GeneId'])\n",
    "df_result.to_csv(\"G:/Billfish/J668_multip_tissue_3D-genome/RNA_seq/tissue_uniq_exp_gene/uniq_tissue_std/unique_tissue_exp_gene_std.txt\", sep='\\t', index=False, columns=['GeneId', 'max_idx', 'std'])\n"
   ]
  },
  {
   "cell_type": "code",
   "execution_count": 18,
   "metadata": {},
   "outputs": [],
   "source": [
    "## 对组织特异表达基因，进行标准化\n",
    "import pandas as pd\n",
    "import numpy as np\n",
    "samples = ['anthers', 'leaf', 'hypocotyl', 'cotyledon', 'stem', 'ovules', 'root', 'radicle', 'fiber_5DPA', 'fiber_10DPA', 'fiber_20DPA', 'petals', 'stigma']\n",
    "for s in samples:\n",
    "    input_f = \"G:/Billfish/J668_multip_tissue_3D-genome/RNA_seq/tissue_uniq_exp_gene/lemon_tree/{}_unique_high_exp.txt\".format(s)\n",
    "    output_f = \"G:/Billfish/J668_multip_tissue_3D-genome/RNA_seq/tissue_uniq_exp_gene/lemon_tree/{}_unique_high_exp_zscore.txt\".format(s)\n",
    "    df = pd.read_csv(input_f, sep='\\t')\n",
    "    ## filter data according to standard deviation values\n",
    "    df.set_index(['GeneId'], inplace=True)\n",
    "    df_result = pd.DataFrame()\n",
    "    for i in range(df.shape[0]):\n",
    "        df_normal = df.iloc[[i]].apply(lambda x: (x-np.mean(x))/(np.std(x)), axis=1)\n",
    "        df_result = df_result.append(df_normal)\n",
    "    df_result.to_csv(output_f, sep='\\t')"
   ]
  },
  {
   "cell_type": "code",
   "execution_count": 37,
   "metadata": {},
   "outputs": [],
   "source": [
    "### 将组织特异性表达基因区分开来，并与拟南芥ID对应\n",
    "import pandas as pd\n",
    "df = pd.read_csv(\"G:/billfish/J668_multip_tissue_3D-genome/RNA_seq/tissue_uniq_exp_gene/all_tissue_expgene_ge_2.txt\", sep='\\t')\n",
    "df_Atid = pd.read_csv(\"G:/Billfish/J668_multip_tissue_3D-genome/RNA_seq/Gh_vs_Arabidopsis.txt\", sep='\\t', names=['GeneId', 'AtId'])\n",
    "df_result = pd.merge(df, df_Atid, how='inner',on=['GeneId'])\n",
    "df_result.to_csv(\"G:/billfish/J668_multip_tissue_3D-genome/RNA_seq/tissue_uniq_exp_gene/all_tissue_expgene_ge_2_Atid.txt\", sep='\\t', index=False)"
   ]
  },
  {
   "cell_type": "code",
   "execution_count": 3,
   "metadata": {},
   "outputs": [
    {
     "name": "stdout",
     "output_type": "stream",
     "text": [
      "752 16950\n"
     ]
    }
   ],
   "source": [
    "## 针对5DPA 和10DPA 分析组织特异性\n",
    "import pandas as pd\n",
    "df = pd.read_csv('G:/Billfish/J668_multip_tissue_3D-genome/RNA_seq/tissue_uniq_exp_gene/all_tissue_expgene_ge_2_Atid.txt', sep='\\t')\n",
    "df_5DPA_10DPA = df.query(\"(max_idx=='fiber_5DPA' & second_idx=='fiber_10DPA') | (max_idx=='fiber_10DPA' & second_idx=='fiber_5DPA')\")\n",
    "#df_other = df.append(df_5DPA_10DPA, ignore_index=True)\n",
    "#df_other.drop_duplicates(keep=False, inplace=True)\n",
    "df_5DPA_10DPA_ture = df_5DPA_10DPA.query(\"max_val/three_val>=2\").copy()\n",
    "df_other_true = df.query(\"max_val/second_val>=2\").copy()\n",
    "print(df_5DPA_10DPA_ture.shape[0], df_other_true.shape[0])\n",
    "df_result = df_5DPA_10DPA_ture.append(df_other_true, ignore_index=True)\n",
    "df_result.drop_duplicates(keep='first', inplace=True)\n",
    "df_result.to_csv(\"G:/Billfish/J668_multip_tissue_3D-genome/RNA_seq/tissue_uniq_exp_gene/all_tissue_expgene_ge_2_Atid_fiber_5-10DPA.txt\", sep='\\t', index=False)"
   ]
  },
  {
   "cell_type": "code",
   "execution_count": 34,
   "metadata": {},
   "outputs": [],
   "source": [
    "### 对于clusterProfiler生成的Go文件调整格式\n",
    "samples = ['anthers', 'leaf', 'hypocotyl', 'cotyledon', 'stem', 'ovules', 'root', 'radicle', 'fiber_5DPA', 'fiber_10DPA', 'fiber_20DPA', 'petals', 'stigma']\n",
    "for i in samples:\n",
    "    input_f = \"G:/Billfish/J668_multip_tissue_3D-genome/RNA_seq/tissue_uniq_exp_gene/{}_Go.txt\".format(i)\n",
    "    output_f = \"G:/Billfish/J668_multip_tissue_3D-genome/RNA_seq/tissue_uniq_exp_gene/{}_Go2.txt\".format(i)\n",
    "    df = pd.read_csv(input_f, sep=\"\\t\")\n",
    "    df['gene_number'], df['total'] = df['GeneRatio'].str.split('/', 1).str[0], df['GeneRatio'].str.split('/', 1).str[1]\n",
    "    df['bioprocess'] = df['Description'].map(str) + \" (\" + df['ID'].map(str) + \")\"\n",
    "    df_BP = df.query(\"ONTOLOGY=='BP'\")\n",
    "    df_BP_out = df_BP[['bioprocess', 'gene_number', 'p.adjust']]\n",
    "    df_BP_out.columns = ['bioprocess', 'gene_number', 'FDR']\n",
    "    df_BP_out.to_csv(output_f, sep='\\t', index=False)\n",
    "    "
   ]
  },
  {
   "cell_type": "code",
   "execution_count": 46,
   "metadata": {},
   "outputs": [],
   "source": [
    "## 对Mfuzz 对多组织聚类出的结果进行筛选分析\n",
    "import pandas as pd\n",
    "df = pd.read_csv('G:/Billfish/J668_multip_tissue_3D-genome/RNA_seq/expression_gene/J668_all_tissue_average_TPM_mfuzz.txt', sep='\\t', names=['GeneId', 'clusterId'])\n",
    "df_zcore = pd.read_csv(\"G:/Billfish/J668_multip_tissue_3D-genome/RNA_seq/Standard_deviation/J668_all_tissue_average_TPM_zscore.txt\", sep='\\t')\n",
    "for i in range(1, 31):\n",
    "    output_name = \"G:/Billfish/J668_multip_tissue_3D-genome/RNA_seq/Mfuzz/Mfuzz_cluster{}_gene_zcore.txt\".format(i)\n",
    "    df_cluster = pd.DataFrame(df.query(\"clusterId==@i\")['GeneId'])\n",
    "    df_result = pd.merge(df_cluster, df_zcore, how='left', on=['GeneId'])\n",
    "    df_result.to_csv(output_name, sep='\\t', index=False)\n"
   ]
  },
  {
   "cell_type": "code",
   "execution_count": 7,
   "metadata": {},
   "outputs": [],
   "source": [
    "## 分析差异compartment， 单条染色体，可表达基因的比例\n",
    "import pandas as pd\n",
    "df = pd.read_csv(\"G:/Billfish/J668_multip_tissue_3D-genome/HiC/compartment/cworld/merge/different_compartment/exp_gene/all_diff_cpt_gene_Bcpt.bed\", sep='\\t', names = ['chr', 'start', 'end', 'GeneId', 'tissue', 'TPM', 'tags'])\n",
    "chrs = ['Ghir_A01', 'Ghir_A02', 'Ghir_A03', 'Ghir_A04', 'Ghir_A05', 'Ghir_A06', 'Ghir_A07', 'Ghir_A08', 'Ghir_A09', 'Ghir_A10', 'Ghir_A11', 'Ghir_A12', 'Ghir_A13', 'Ghir_D01', 'Ghir_D02', 'Ghir_D03', 'Ghir_D04', 'Ghir_D05', 'Ghir_D06', 'Ghir_D07', 'Ghir_D08', 'Ghir_D09', 'Ghir_D10', 'Ghir_D11', 'Ghir_D12', 'Ghir_D13']\n",
    "df_result = pd.DataFrame(columns = [\"total_gene\", \"exp_gene\", 'ratio', 'subg', 'tags'])\n",
    "for c in chrs:\n",
    "    df_chr = df.query(\"chr==@c\")\n",
    "    for i in range(14):\n",
    "        #print(i)\n",
    "        df_chr_tag = df_chr.query(\"tags==@i\")\n",
    "        #print(df_chr_tag)\n",
    "        df_chr_exp = df_chr_tag.query(\"TPM>=0.5\")\n",
    "        a, b, f, d, e = df_chr_tag.shape[0], df_chr_exp.shape[0], df_chr_exp.shape[0]/df_chr_tag.shape[0], c, i\n",
    "        df_result.loc[df_result.shape[0]] = [a,b,f,d,e]\n",
    "df_result.to_csv(\"G:/Billfish/J668_multip_tissue_3D-genome/HiC/compartment/cworld/merge/different_compartment/exp_gene/all_diff_cpt_gene_Bcpt_ratio.bed\", sep='\\t', index=False)"
   ]
  },
  {
   "cell_type": "code",
   "execution_count": null,
   "metadata": {},
   "outputs": [],
   "source": [
    "## 分析差异compartment， 单条染色体，可表达基因的比例, dcHiC\n",
    "import pandas as pd\n",
    "df = pd.read_csv(\"G:/Billfish/J668_multip_tissue_3D-genome/HiC/compartment/cworld/merge/different_compartment/dcHiC/all_diff_cpt_gene_Bcpt.bed\", sep='\\t', names = ['chr', 'start', 'end', 'GeneId', 'tissue', 'TPM', 'tags'])\n",
    "chrs = ['Ghir_A01', 'Ghir_A02', 'Ghir_A03', 'Ghir_A04', 'Ghir_A05', 'Ghir_A06', 'Ghir_A07', 'Ghir_A08', 'Ghir_A09', 'Ghir_A10', 'Ghir_A11', 'Ghir_A12', 'Ghir_A13', 'Ghir_D01', 'Ghir_D02', 'Ghir_D03', 'Ghir_D04', 'Ghir_D05', 'Ghir_D06', 'Ghir_D07', 'Ghir_D08', 'Ghir_D09', 'Ghir_D10', 'Ghir_D11', 'Ghir_D12', 'Ghir_D13']\n",
    "df_result = pd.DataFrame(columns = [\"total_gene\", \"exp_gene\", 'ratio', 'subg', 'tags'])\n",
    "for c in chrs:\n",
    "    df_chr = df.query(\"chr==@c\")\n",
    "    for i in range(14):\n",
    "        #print(i)\n",
    "        df_chr_tag = df_chr.query(\"tags==@i\")\n",
    "        print(df_chr_tag.shape[0])\n",
    "        df_chr_exp = df_chr_tag.query(\"TPM>=0.5\")\n",
    "        a, b, f, d, e = df_chr_tag.shape[0], df_chr_exp.shape[0], df_chr_exp.shape[0]/(df_chr_tag.shape[0]+0.1), c, i\n",
    "        df_result.loc[df_result.shape[0]] = [a,b,f,d,e]\n",
    "df_result.to_csv(\"G:/Billfish/J668_multip_tissue_3D-genome/HiC/compartment/cworld/merge/different_compartment/dcHiC/all_diff_cpt_gene_Bcpt_ratio.bed\", sep='\\t', index=False)"
   ]
  },
  {
   "cell_type": "code",
   "execution_count": 7,
   "metadata": {},
   "outputs": [
    {
     "name": "stdout",
     "output_type": "stream",
     "text": [
      "0.6458460681128094\n",
      "0.5595204921877384\n",
      "0.5650206306336275\n",
      "0.5751145224796216\n",
      "0.45938005971876195\n",
      "0.6296828285032323\n",
      "0.5901619292672691\n",
      "0.5315741076668248\n",
      "0.4895105712889652\n",
      "0.6159528185500983\n",
      "0.5485806682859056\n",
      "0.6081821185103204\n",
      "0.5270662413287224\n",
      "0.4839520642153695\n"
     ]
    }
   ],
   "source": [
    "df = pd.read_csv(\"G:/Billfish/J668_multip_tissue_3D-genome/HiC/compartment/cworld/merge/different_compartment/dcHiC/all_diff_cpt_gene_Bcpt_ratio.bed\", sep='\\t')\n",
    "for i in range(14):\n",
    "    df_i = df.query(\"tags==@i\")\n",
    "    average = df_i['ratio'].mean()\n",
    "    print(average)\n",
    "    "
   ]
  },
  {
   "cell_type": "code",
   "execution_count": 55,
   "metadata": {},
   "outputs": [
    {
     "name": "stdout",
     "output_type": "stream",
     "text": [
      "646\n",
      "25293\n",
      "                  At                 Dt\n",
      "0  Ghir_A01G000050.1  Ghir_D01G000050.1\n",
      "1  Ghir_A01G000080.1  Ghir_D01G000080.1\n",
      "2  Ghir_A01G000090.1  Ghir_D01G000100.1\n",
      "3  Ghir_A01G000100.1  Ghir_D01G000120.1\n",
      "4  Ghir_A01G000110.1  Ghir_D01G000130.1\n"
     ]
    }
   ],
   "source": [
    "# 整合分析同源基因对\n",
    "df_at_dt = pd.read_csv(\"G:/Billfish/J668_multip_tissue_3D-genome/RNA_seq/homo_gene2/At_blast_Dt.bed\", sep=\"\\t\")\n",
    "df_dt_at = pd.read_csv(\"G:/Billfish/J668_multip_tissue_3D-genome/RNA_seq/homo_gene2/Dt_blast_At.bed\", sep=\"\\t\")\n",
    "df_at_dt_uniqe = df_at_dt.append(df_dt_at, ignore_index=True)\n",
    "df_at_dt_uniqe.drop_duplicates(keep=False, inplace=True)\n",
    "df_result = df_at_dt.append([df_at_dt_uniqe, df_at_dt_uniqe], ignore_index=True)\n",
    "print(df_at_dt_uniqe.shape[0])\n",
    "df_result.drop_duplicates(keep=False, inplace=True)\n",
    "df_result.sort_values(by=['At'], inplace=True)\n",
    "print(df_result.shape[0])\n",
    "df_result.to_csv('G:/Billfish/J668_multip_tissue_3D-genome/RNA_seq/homo_gene2/Ghir_homo_gene_pairs.txt', sep='\\t', index=False)\n",
    "print(df_result.head())"
   ]
  },
  {
   "cell_type": "code",
   "execution_count": 56,
   "metadata": {},
   "outputs": [],
   "source": [
    "# 分析同源基因对位置\n",
    "import pandas as pd\n",
    "df_gene = pd.read_csv(\"G:/Billfish/J668_multip_tissue_3D-genome/RNA_seq/Gh_gene_position.bed\", sep=\"\\t\")\n",
    "df_hg = pd.read_csv(\"G:/Billfish/J668_multip_tissue_3D-genome/RNA_seq/homo_gene2/Ghir_homo_gene_pairs.txt\", sep=\"\\t\")\n",
    "df_hg.columns = ['geneid_at', 'geneid_dt']\n",
    "df_gene.columns = ['chr_at', 'start_at', 'end_at', 'geneid_at']\n",
    "df_at = pd.merge(df_hg, df_gene, how='left', on=['geneid_at'])\n",
    "df_gene.columns = ['chr_dt', 'start_dt', 'end_dt', 'geneid_dt']\n",
    "df_at_dt = pd.merge(df_at, df_gene, how='left', on=['geneid_dt'])\n",
    "df_at_dt.to_csv('G:/Billfish/J668_multip_tissue_3D-genome/RNA_seq/homo_gene2/all_homo_gene_pairs_position.txt', sep=\"\\t\", index=False)\n",
    "df_at = df_at_dt[['chr_at', 'start_at', 'end_at', 'geneid_at']]\n",
    "df_dt = df_at_dt[['chr_dt', 'start_dt', 'end_dt', 'geneid_dt']]\n",
    "df_at.columns = ['chr', 'start', 'end', 'GeneId']\n",
    "df_dt.columns = ['chr', 'start', 'end', 'GeneId']\n",
    "df_result = df_at.append(df_dt, ignore_index=True)\n",
    "df_result.to_csv('G:/Billfish/J668_multip_tissue_3D-genome/RNA_seq/homo_gene2/all_homo_gene_position.txt', sep=\"\\t\", index=False)"
   ]
  },
  {
   "cell_type": "code",
   "execution_count": 57,
   "metadata": {},
   "outputs": [],
   "source": [
    "# 分析两个亚基因组同源基因TPM\n",
    "import pandas as pd\n",
    "df_gene_TPM = pd.read_csv(\"G:/Billfish/J668_multip_tissue_3D-genome/RNA_seq/PCA/J668_all_tissue_average_TPM_long.txt\", sep=\"\\t\")\n",
    "#df_hg = pd.read_csv(\"G:/Billfish/J668_multip_tissue_3D-genome/RNA_seq/all_homo_gene_position.txt\", sep=\"\\t\", names=['chr', 'start', 'end', 'GeneId'])\n",
    "df_hg = pd.read_csv(\"G:/Billfish/J668_multip_tissue_3D-genome/RNA_seq/homo_gene2/all_homo_gene_position.txt\", sep=\"\\t\")\n",
    "df_hg_TPM = pd.merge(df_hg, df_gene_TPM, how='inner', on=['start', 'end', 'GeneId'])[['chr_x', 'start', 'end', 'GeneId', 'tissues', 'TPM']]\n",
    "df_hg_TPM.columns = ['chr', 'start', 'end', 'GeneId', 'tissues', 'TPM']\n",
    "df_hg_TPM['subg'] = df_hg_TPM['chr'].apply(lambda x: 'At' if \"Ghir_A\" in x else 'Dt')\n",
    "df_hg_TPM.to_csv(\"G:/Billfish/J668_multip_tissue_3D-genome/RNA_seq/homo_gene2/all_homo_gene_TPM.txt\", sep=\"\\t\", index=False)\n",
    "#df_hg_TPM.to_csv(\"G:/Billfish/J668_multip_tissue_3D-genome/RNA_seq/all_homo_gene_TPM.txt\", sep=\"\\t\", index=False)"
   ]
  },
  {
   "cell_type": "code",
   "execution_count": 58,
   "metadata": {},
   "outputs": [],
   "source": [
    "## 统计两个亚基因组可表达的同源基因数量\n",
    "#df = pd.read_csv(\"G:/Billfish/J668_multip_tissue_3D-genome/RNA_seq/homo_gene/all_homo_gene_TPM.txt\", sep=\"\\t\")\n",
    "df = pd.read_csv(\"G:/Billfish/J668_multip_tissue_3D-genome/RNA_seq/homo_gene2/all_homo_gene_TPM.txt\", sep=\"\\t\")\n",
    "samples = ['anthers', 'cotyledon', 'ovules', 'fiber_5DPA', 'fiber_10DPA', 'fiber_20DPA', 'hypocotyl', 'leaf', 'petals', 'radicle', 'root', 'stem', 'stigma']\n",
    "df_result = pd.DataFrame(columns=['number', 'tissues', 'subg'])\n",
    "for s in samples:\n",
    "    df_tissues_at = df.query(\"tissues == @s and subg=='At' and TPM>=0.5\").copy()\n",
    "    df_tissues_dt = df.query(\"tissues == @s and subg=='Dt' and TPM>=0.5\").copy()\n",
    "    df_result.loc[df_result.shape[0]] = [df_tissues_at.shape[0], s, 'At']\n",
    "    df_result.loc[df_result.shape[0]] = [df_tissues_dt.shape[0], s, 'Dt']\n",
    "#df_result.to_csv(\"G:/Billfish/J668_multip_tissue_3D-genome/RNA_seq/homo_gene/all_tissues_exp_hg_number.txt\", sep=\"\\t\", index=False)\n",
    "df_result.to_csv(\"G:/Billfish/J668_multip_tissue_3D-genome/RNA_seq/homo_gene2/all_tissues_exp_hg_number.txt\", sep=\"\\t\", index=False)    "
   ]
  },
  {
   "cell_type": "code",
   "execution_count": 5,
   "metadata": {},
   "outputs": [],
   "source": [
    "# 基因reads 和 同源基因对reads\n",
    "import pandas as pd\n",
    "samples = ['anthers', 'cotyledon', 'ovules', 'hypocotyl', 'leaf', 'petals', 'radicle', 'root', 'stem', 'stigma', 'fiber_10DPA', 'fiber_20DPA']\n",
    "df_hg_pairs = pd.read_csv(\"G:/Billfish/J668_multip_tissue_3D-genome/RNA_seq/homo_gene2/all_homo_gene_pairs_position.txt\", sep='\\t')\n",
    "df_hg = df_hg_pairs[['geneid_at', 'geneid_dt']]\n",
    "df_reads = pd.read_csv(\"G:/Billfish/J668_multip_tissue_3D-genome/new_RNA_Seq/RNA_Seq_data/J668_all_Tissue_reads.csv\")\n",
    "at_columns = ['geneid_at', 'anther_rep1_at', 'anther_rep2_at', 'anther_rep3_at', 'leaf_rep1_at', 'leaf_rep2_at', 'leaf_rep3_at', 'petal_rep1_at', 'petal_rep2_at', \n",
    "              'petal_rep3_at', 'radicle_rep1_at', 'radicle_rep2_at', 'radicle_rep3_at', 'root_rep1_at', 'root_rep2_at', 'root_rep3_at', 'stem_rep1_at', \n",
    "              'stem_rep2_at', 'stem_rep3_at', 'stigma_rep1_at','stigma_rep2_at', 'stigma_rep3_at', 'ovule_rep1_at', 'ovule_rep2_at', 'ovule_rep3_at', \n",
    "              'fiber_10DPA_rep1_at', 'fiber_10DPA_rep2_at', 'fiber_10DPA_rep3_at', 'fiber_20DPA_rep1_at','fiber_20DPA_rep2_at', 'fiber_20DPA_rep3_at', \n",
    "              'hypocotyl_rep1_at', 'hypocotyl_rep2_at', 'hypocotyl_rep3_at', 'cotyledon_rep1_at', 'cotyledon_rep2_at', 'cotyledon_rep3_at']\n",
    "dt_columns = ['geneid_dt', 'anther_rep1_dt', 'anther_rep2_dt', 'anther_rep3_dt', 'leaf_rep1_dt', 'leaf_rep2_dt', 'leaf_rep3_dt', 'petal_rep1_dt', 'petal_rep2_dt', \n",
    "              'petal_rep3_dt', 'radicle_rep1_dt', 'radicle_rep2_dt', 'radicle_rep3_dt', 'root_rep1_dt', 'root_rep2_dt', 'root_rep3_dt', 'stem_rep1_dt', \n",
    "              'stem_rep2_dt', 'stem_rep3_dt', 'stigma_rep1_dt','stigma_rep2_dt', 'stigma_rep3_dt', 'ovule_rep1_dt', 'ovule_rep2_dt', 'ovule_rep3_dt', \n",
    "              'fiber_10DPA_rep1_dt', 'fiber_10DPA_rep2_dt', 'fiber_10DPA_rep3_dt', 'fiber_20DPA_rep1_dt','fiber_20DPA_rep2_dt', 'fiber_20DPA_rep3_dt', \n",
    "              'hypocotyl_rep1_dt', 'hypocotyl_rep2_dt', 'hypocotyl_rep3_dt', 'cotyledon_rep1_dt', 'cotyledon_rep2_dt', 'cotyledon_rep3_dt']\n",
    "df_reads.columns = at_columns\n",
    "df_at = pd.merge(df_hg, df_reads, how='left', on=['geneid_at'])\n",
    "df_reads.columns = dt_columns\n",
    "df_result = pd.merge(df_at, df_reads, how='left', on=['geneid_dt'])\n",
    "df_result.to_csv(\"G:/Billfish/J668_multip_tissue_3D-genome/new_RNA_Seq/RNA_Seq_data/J668_all_Tissue_hg_reads.csv\", index=False)   "
   ]
  },
  {
   "cell_type": "code",
   "execution_count": 27,
   "metadata": {},
   "outputs": [
    {
     "name": "stdout",
     "output_type": "stream",
     "text": [
      "6164 6448\n"
     ]
    }
   ],
   "source": []
  },
  {
   "cell_type": "code",
   "execution_count": 9,
   "metadata": {},
   "outputs": [],
   "source": [
    "## 统计同源基因表达数目\n",
    "import pandas as pd\n",
    "samples = ['anther', 'cotyledon', 'ovule', 'hypocotyl', 'leaf', 'petal', 'radicle', 'root', 'stem', 'stigma', 'fiber_10DPA', 'fiber_20DPA']\n",
    "df_result = pd.DataFrame(columns=['tissues', 'tags', 'number'])\n",
    "for s in samples:\n",
    "    input_f = \"G:/Billfish/J668_multip_tissue_3D-genome/new_RNA_Seq/DEG/hg/{}_DEG.bed\".format(s)\n",
    "    df = pd.read_csv(input_f, sep=\"\\t\")\n",
    "    bias_at_number = df.query(\"sig=='Down'\").shape[0]\n",
    "    bias_dt_number = df.query(\"sig=='Up'\").shape[0]\n",
    "    df_result.loc[df_result.shape[0]] = [s, 'BiasA', bias_at_number]\n",
    "    df_result.loc[df_result.shape[0]] = [s, 'BiasD', bias_dt_number]\n",
    "df_result.to_csv(\"G:/Billfish/J668_multip_tissue_3D-genome/new_RNA_Seq/DEG/hg/J668_all_Tissue_hg_bias_number.csv\", index=False)"
   ]
  },
  {
   "cell_type": "code",
   "execution_count": 60,
   "metadata": {},
   "outputs": [],
   "source": [
    "# 基因reads 和 同源基因对reads, fiber_5DPA, fiber_10DPA, fiber_20DPA\n",
    "samples = ['fiber_5DPA', 'fiber_10DPA', 'fiber_20DPA']\n",
    "#df_hg_pairs = pd.read_csv(\"G:/Billfish/J668_multip_tissue_3D-genome/RNA_seq/homo_gene/all_homo_gene_pairs_position.txt\", sep='\\t')\n",
    "df_hg_pairs = pd.read_csv(\"G:/Billfish/J668_multip_tissue_3D-genome/RNA_seq/homo_gene/all_homo_gene_pairs_position.txt\", sep='\\t')\n",
    "df_hg = df_hg_pairs[['geneid_at', 'geneid_dt']]\n",
    "for s in samples:\n",
    "    input_f1 = \"G:/Billfish/J668_multip_tissue_3D-genome/RNA_seq/reads/{0}/{0}_rep1_sorted_reads.bed\".format(s)\n",
    "    input_f2 = \"G:/Billfish/J668_multip_tissue_3D-genome/RNA_seq/reads/{0}/{0}_rep2_sorted_reads.bed\".format(s)\n",
    "    # output_f1 = \"G:/Billfish/J668_multip_tissue_3D-genome/RNA_seq/reads/{0}/{0}_reads.bed\".format(s)\n",
    "    # output_f2 = \"G:/Billfish/J668_multip_tissue_3D-genome/RNA_seq/reads/{0}/{0}_hg_reads.bed\".format(s)\n",
    "    output_f1 = \"G:/Billfish/J668_multip_tissue_3D-genome/RNA_seq/homo_gene2/gene_bias/DESeq/{0}/{0}_reads.bed\".format(s)\n",
    "    output_f2 = \"G:/Billfish/J668_multip_tissue_3D-genome/RNA_seq/homo_gene2/gene_bias/DESeq/{0}/{0}_hg_reads.bed\".format(s)\n",
    "    df1 = pd.read_csv(input_f1, sep='\\t', names=['chrom', 'start', 'end', 'GeneId', 'one', 'two', 'reads1'])\n",
    "    df2 = pd.read_csv(input_f2, sep='\\t', names=['chrom', 'start', 'end', 'GeneId', 'one', 'two', 'reads2'])\n",
    "    df1, df2 = df1[['GeneId', 'reads1']], df2[['GeneId', 'reads2']]\n",
    "    df_12 = pd.merge(df1, df2, how='inner', on=['GeneId'])\n",
    "    df_12.to_csv(output_f1, sep=\"\\t\", index=False)\n",
    "    df_at = df_12.query(\"GeneId.str.contains('Ghir_A')\", engine='python')\n",
    "    df_dt = df_12.query(\"GeneId.str.contains('Ghir_D')\", engine='python')\n",
    "    df_at.columns = ['geneid_at', 'reads1_at', 'reads2_at']\n",
    "    df_dt.columns = ['geneid_dt', 'reads1_dt', 'reads2_dt']\n",
    "    df_hg_at = pd.merge(df_hg, df_at, how='left', on=['geneid_at'])\n",
    "    df_hg_pairs = pd.merge(df_hg_at, df_dt, how='left', on=['geneid_dt'])\n",
    "    df_hg_pairs.to_csv(output_f2, sep=\"\\t\", index=False)"
   ]
  },
  {
   "cell_type": "code",
   "execution_count": 17,
   "metadata": {},
   "outputs": [],
   "source": [
    "# 分析两个亚基因组TPM上的差异\n",
    "import pandas as pd\n",
    "import numpy as np\n",
    "# 将同源基因对整理为TPM表达\n",
    "# df_TPM = pd.read_csv(\"G:/Billfish/J668_multip_tissue_3D-genome/RNA_seq/PCA/J668_all_tissue_TPM.txt\", sep=\"\\t\")\n",
    "# df_gene = pd.read_csv(\"G:/Billfish/J668_multip_tissue_3D-genome/RNA_seq/homo_gene/all_homo_gene_pairs_position.txt\", sep=\"\\t\")\n",
    "\n",
    "df_TPM = pd.read_csv(\"G:/Billfish/J668_multip_tissue_3D-genome/new_RNA_Seq/RNA_Seq_data/J668_all_Tissue_TPM.csv\")\n",
    "df_gene = pd.read_csv(\"G:/Billfish/J668_multip_tissue_3D-genome/new_RNA_Seq/J668_HG_pairs.csv\")\n",
    "df_geneid = df_gene[['GeneId_At', 'GeneId_Dt']].copy()\n",
    "samples = ['anther', 'cotyledon', 'ovule',  'hypocotyl', 'leaf', 'petal', 'radicle', 'root', 'stem', 'stigma','fiber_10DPA', 'fiber_20DPA']\n",
    "for s in samples:\n",
    "    s1,s2,s3 = s+\"_rep\"+str(1), s+\"_rep\"+str(2), s+\"_rep\"+str(3)\n",
    "    df_tissues_at = df_TPM[['GeneId',s1,s2,s3]].query(\"GeneId.str.contains('Ghir_A')\", engine='python')\n",
    "    df_tissues_dt = df_TPM[['GeneId',s1,s2,s3]].query(\"GeneId.str.contains('Ghir_D')\", engine='python')\n",
    "    # rename to merge\n",
    "    df_tissues_at.columns = ['GeneId_At', 'at_tpm1', 'at_tpm2', 'at_tpm3']\n",
    "    df_tissues_dt.columns = ['GeneId_Dt', 'dt_tpm1', 'dt_tpm2', 'dt_tpm3']\n",
    "\n",
    "    ## add tpm for homoeologous gene pairs\n",
    "    df_at_tpm = pd.merge(df_geneid, df_tissues_at, how='left', on=['GeneId_At'])\n",
    "    df_atdt_tpm = pd.merge(df_at_tpm, df_tissues_dt, how='left', on=['GeneId_Dt'])\n",
    "    ## output file\n",
    "    output_f = \"G:/Billfish/J668_multip_tissue_3D-genome/new_RNA_Seq/homo_gene2/gene_bias/TPM/{0}/{0}_pairs_tpm.txt\".format(s)\n",
    "    df_atdt_tpm.to_csv(output_f, sep=\"\\t\", index=False)\n"
   ]
  },
  {
   "cell_type": "code",
   "execution_count": null,
   "metadata": {},
   "outputs": [],
   "source": [
    "# 分析两个亚基因组TPM上的差异\n",
    "import pandas as pd\n",
    "import numpy as np\n",
    "# 将同源基因对整理为TPM表达\n",
    "df_TPM = pd.read_csv(\"G:/Billfish/J668_multip_tissue_3D-genome/RNA_seq/PCA/J668_all_tissue_TPM.txt\", sep=\"\\t\")\n",
    "df_gene = pd.read_csv(\"G:/Billfish/J668_multip_tissue_3D-genome/RNA_seq/homo_gene2/all_homo_gene_pairs_position.txt\", sep=\"\\t\")\n",
    "df_geneid = df_gene[['geneid_at', 'geneid_dt']].copy()\n",
    "samples = ['anthers', 'cotyledon', 'ovules',  'hypocotyl', 'leaf', 'petals', 'radicle', 'root', 'stem', 'stigma'，'fiber_10DPA', 'fiber_20DPA']\n",
    "for s in samples:\n",
    "    s1,s2,s3 = s+\"rep1\", s+\"rep2\", s+\"rep3\"\n",
    "    df_tissues_at = df_TPM[['GeneId',s1,s2,s3]].query(\"GeneId.str.contains('Ghir_A')\", engine='python')\n",
    "    df_tissues_dt = df_TPM[['GeneId',s1,s2,s3]].query(\"GeneId.str.contains('Ghir_D')\", engine='python')\n",
    "    # # rename to merge\n",
    "    df_tissues_at.columns = ['geneid_at', 'at1', 'at2', 'at3']\n",
    "    df_tissues_dt.columns = ['geneid_dt', 'dt1', 'dt2', 'dt3']\n",
    "    s1,s2 = s+str(1), s+str(2),\n",
    "    df_tissues_at = df_TPM[['GeneId',s1,s2]].query(\"GeneId.str.contains('Ghir_A')\", engine='python')\n",
    "    df_tissues_dt = df_TPM[['GeneId',s1,s2]].query(\"GeneId.str.contains('Ghir_D')\", engine='python')\n",
    "    df_tissues_at.columns = ['geneid_at', 'at_tpm1', 'at_tpm2']\n",
    "    df_tissues_dt.columns = ['geneid_dt', 'dt_tpm1', 'dt_tpm2']\n",
    "    ## add tpm for homoeologous gene pairs\n",
    "    df_at_tpm = pd.merge(df_geneid, df_tissues_at, how='left', on=['geneid_at'])\n",
    "    df_atdt_tpm = pd.merge(df_at_tpm, df_tissues_dt, how='left', on=['geneid_dt'])\n",
    "    ## output file\n",
    "    #output_f = \"G:/Billfish/J668_multip_tissue_3D-genome/RNA_seq/homo_gene/{0}/{0}_pairs_tpm.txt\".format(s)\n",
    "    output_f = \"G:/Billfish/J668_multip_tissue_3D-genome/RNA_seq/homo_gene2/gene_bias/TPM/{0}/{0}_pairs_tpm.txt\".format(s)\n",
    "    df_atdt_tpm.to_csv(output_f, sep=\"\\t\", index=False)\n"
   ]
  },
  {
   "cell_type": "code",
   "execution_count": 8,
   "metadata": {},
   "outputs": [],
   "source": [
    "import pandas as pd\n",
    "df = pd.read_csv(\"G:/Billfish/J668_multip_tissue_3D-genome/RNA_seq/expression_gene/J668_all_tissue_average_TPM.txt\", sep=\"\\t\")\n",
    "df = df.melt(id_vars=['GeneId'])\n",
    "df.columns = ['GeneID', 'tags', 'TPM']\n",
    "df.to_csv(\"G:/Billfish/J668_multip_tissue_3D-genome/RNA_seq/expression_gene/J668_all_tissue_average_TPM_long.txt\", sep=\"\\t\", index=False)"
   ]
  },
  {
   "cell_type": "code",
   "execution_count": 16,
   "metadata": {},
   "outputs": [],
   "source": [
    "## 结合DEseq和TMP值差异 亚基因组差异表达同源基因对\n",
    "import pandas as pd\n",
    "tissues = ['anthers', 'cotyledon', 'ovules',  'hypocotyl', 'leaf', 'petals', 'radicle', 'root', 'stem', 'stigma', 'fiber_5DPA', 'fiber_10DPA', 'fiber_20DPA']\n",
    "df_diff_exp = pd.DataFrame(columns = ['sig', 'number', 'tissues'])\n",
    "df_gene_tpm = pd.read_csv(\"G:/Billfish/J668_multip_tissue_3D-genome/RNA_seq/expression_gene/J668_all_tissue_average_TPM_long.txt\", sep=\"\\t\")\n",
    "df_all_tissues_bias = pd.DataFrame(columns = ['geneid_at', 'geneid_dt', 'tpm_fc', 'logFC', 'padj', 'sig', 'tpm_at', 'tpm_dt'])\n",
    "for t in tissues:\n",
    "    #print(t)\n",
    "    # TPM_f = \"G:/Billfish/J668_multip_tissue_3D-genome/RNA_seq/homo_gene/{0}/{0}_pairs_tpm_t-test.txt\".format(t)\n",
    "    # DEG_f = \"G:/Billfish/J668_multip_tissue_3D-genome/RNA_seq/reads/{0}/{0}_DEG.bed\".format(t)\n",
    "    # output_f = \"G:/Billfish/J668_multip_tissue_3D-genome/RNA_seq/reads/{0}/{0}_final_DEG.bed\".format(t) \n",
    "    TPM_f = \"G:/Billfish/J668_multip_tissue_3D-genome/RNA_seq/homo_gene2/gene_bias/TPM/{0}/{0}_pairs_tpm_t-test.txt\".format(t)\n",
    "    DEG_f = \"G:/Billfish/J668_multip_tissue_3D-genome/RNA_seq/homo_gene2/gene_bias/DESeq/{0}/{0}_DEG.bed\".format(t)\n",
    "    output_f = \"G:/Billfish/J668_multip_tissue_3D-genome/RNA_seq/homo_gene2/gene_bias/DESeq/{0}/{0}_final_DEG.bed\".format(t) \n",
    "    df_DEG = pd.read_csv(DEG_f, sep=\"\\t\")\n",
    "    df_DEG.columns = ['geneid_at', 'logFC', 'padj', 'sig']\n",
    "    df_TPM = pd.read_csv(TPM_f, sep=\"\\t\")\n",
    "    df_TPM_DEG = df_TPM.query(\"(tpm_fc>=2 | tpm_fc<=0.5)\")[['geneid_at', 'geneid_dt', 'tpm_fc']]\n",
    "    df_result = pd.merge(df_TPM_DEG, df_DEG, how='inner', on=['geneid_at'])\n",
    "    df_result = df_result.query(\"(sig=='Up' and tpm_fc<=0.5) | (sig=='Down' and tpm_fc>=2)\")\n",
    "    ## 将结果进行再次筛选，需满足两个同源基因对之间至少一个可表达\n",
    "    df_tissue_tpm = df_gene_tpm.query(\"tags==@t\")[['GeneId', 'TPM']].copy()\n",
    "    df_tissue_tpm.columns = ['geneid_at', 'tpm_at']\n",
    "    df1 = pd.merge(df_result, df_tissue_tpm, how='inner', on=['geneid_at'])\n",
    "    df_tissue_tpm.columns = ['geneid_dt', 'tpm_dt']\n",
    "    df2 = pd.merge(df1, df_tissue_tpm, how='inner', on=['geneid_dt'])\n",
    "    df_result = df2.query(\"tpm_at>=0.5| tpm_dt>=0.5\").copy()\n",
    "    df_result['sig'].replace(['Up', 'Down'], ['BiasD', 'BiasA'], inplace=True)\n",
    "    df_result.to_csv(output_f, sep=\"\\t\", index=False)\n",
    "    df_result['tags'] = [t]*df_result.shape[0]\n",
    "    df_all_tissues_bias = pd.concat([df_all_tissues_bias, df_result], axis=0)\n",
    "    df_result['number'] = [1]*df_result.shape[0]\n",
    "    df_tmp = df_result.groupby(by=['sig'], as_index=False)['number'].sum()\n",
    "    df_tmp['tissues'] = [t]*df_tmp.shape[0]\n",
    "    #print(df_tmp)\n",
    "    df_diff_exp = pd.concat([df_diff_exp, df_tmp], axis=0) \n",
    "\n",
    "df_all_tissues_bias.to_csv(\"G:/Billfish/J668_multip_tissue_3D-genome/RNA_seq/homo_gene2/gene_bias/all_tissue_bias_gene_pair.bed\", sep='\\t', index=False, columns=['geneid_at', 'geneid_dt', 'tpm_at', 'tpm_dt', 'sig', 'tags'])\n",
    "df_diff_exp.replace(['Down', 'Up'], ['BiasA', 'BiasD'], inplace=True)\n",
    "# df_diff_exp.to_csv(\"G:/Billfish/J668_multip_tissue_3D-genome/RNA_seq/reads/hg_DEG_number.txt\", sep=\"\\t\", index=False)\n",
    "df_diff_exp.to_csv(\"G:/Billfish/J668_multip_tissue_3D-genome/RNA_seq/homo_gene2/gene_bias/hg_DEG_number.txt\", sep=\"\\t\", index=False)"
   ]
  },
  {
   "cell_type": "code",
   "execution_count": 38,
   "metadata": {},
   "outputs": [],
   "source": [
    "## 直接根据同源基因bias表达生成组织bias表达基因\n",
    "import pandas as pd\n",
    "tissues = ['anther', 'leaf', 'hypocotyl', 'cotyledon', 'stem', 'ovule', 'root', 'radicle', 'fiber_10DPA', 'fiber_20DPA', 'petal', 'stigma']\n",
    "df_all = pd.DataFrame()\n",
    "for t in tissues:\n",
    "    input_f = \"G:/Billfish/J668_multip_tissue_3D-genome/new_RNA_Seq/DEG/hg/{}_DEG.bed\".format(t)\n",
    "    df_tmp = pd.read_csv(input_f, sep=\"\\t\")\n",
    "    old_tags = ['Up', 'Down']\n",
    "    new_tags = ['BiasD', 'BiasA']\n",
    "    df_tmp.replace(old_tags, new_tags, inplace=True)\n",
    "    df_tmp['tissues'] = [t]*df_tmp.shape[0]\n",
    "    df_all = pd.concat([df_all, df_tmp], axis=0)\n",
    "df_all = df_all[['GeneId', 'sig', 'tissues']].copy()\n",
    "df_all.columns = ['GeneId_At', 'sig', 'tissues']\n",
    "df_TPM = pd.read_csv(\"G:/Billfish/J668_multip_tissue_3D-genome/new_RNA_Seq/homo_gene2/all_HG_TPM.bed\", sep=\"\\t\")\n",
    "df_result = pd.merge(df_all, df_TPM, how='inner', on=['GeneId_At', 'tissues'])\n",
    "df_result.rename(columns={'At_TPM':'TPM_At','Dt_TPM':'TPM_Dt'}, inplace=True)\n",
    "df_result = df_result.query(\"(TPM_At/TPM_Dt<=0.5 | TPM_At/TPM_Dt>=2) & (TPM_At>0.5 | TPM_Dt>0.5)\") ## TPM值同样存在两倍差异，同时两个同源基因其中一个必须表达\n",
    "df_result.to_csv(\"G:/Billfish/J668_multip_tissue_3D-genome/new_RNA_Seq/homo_gene2/gene_bias/all_tissue_bias_gene_pair.bed\", sep='\\t', index=False)"
   ]
  },
  {
   "cell_type": "code",
   "execution_count": 39,
   "metadata": {},
   "outputs": [],
   "source": [
    "## 将bias 转换为long格式\n",
    "import pandas as pd\n",
    "df = pd.read_csv(\"G:/Billfish/J668_multip_tissue_3D-genome/new_RNA_seq/homo_gene2/gene_bias/all_tissue_bias_gene_pair.bed\", sep=\"\\t\")\n",
    "df_at = df[['GeneId_At', 'TPM_At', 'sig', 'tissues']].copy()\n",
    "df_dt = df[['GeneId_Dt', 'TPM_Dt', 'sig', 'tissues']].copy()\n",
    "df_at.columns = ['GeneId', 'TPM', 'Bias', 'tissues']\n",
    "df_dt.columns = ['GeneId', 'TPM', 'Bias', 'tissues']\n",
    "df = pd.concat([df_at, df_dt], axis=0)\n",
    "df.to_csv(\"G:/Billfish/J668_multip_tissue_3D-genome/new_RNA_seq/homo_gene2/gene_bias/all_tissue_bias_gene_long.bed\", sep=\"\\t\", index=False)"
   ]
  },
  {
   "cell_type": "code",
   "execution_count": 40,
   "metadata": {},
   "outputs": [],
   "source": [
    "#统计数目\n",
    "df = pd.read_csv(\"G:/Billfish/J668_multip_tissue_3D-genome/new_RNA_Seq/homo_gene2/gene_bias/all_tissue_bias_gene_pair.bed\", sep=\"\\t\")\n",
    "df_result = df.query(\"(TPM_At/TPM_Dt<=0.5 | TPM_At/TPM_Dt>=2) & (TPM_At>0.5 | TPM_Dt>0.5)\")\n",
    "df_number = df_result.groupby(['tissues', 'sig'], as_index=False).size()\n",
    "df_number.to_csv(\"G:/Billfish/J668_multip_tissue_3D-genome/new_RNA_Seq/DEG/hg/J668_all_Tissue_hg_bias_number.csv\", index=False)"
   ]
  },
  {
   "cell_type": "code",
   "execution_count": null,
   "metadata": {},
   "outputs": [],
   "source": []
  },
  {
   "cell_type": "code",
   "execution_count": null,
   "metadata": {},
   "outputs": [],
   "source": [
    "import pandas as pd\n",
    "tissues = ['anther', 'leaf', 'hypocotyl', 'cotyledon', 'stem', 'ovule', 'root', 'radicle', 'fiber_10DPA', 'fiber_20DPA', 'petal', 'stigma']\n",
    "df_result = pd.DataFrame()\n",
    "for t in tissues:\n",
    "    df_b = pd.DataFrame()\n",
    "    for r in ['rep1', 'rep2', 'rep3']:\n",
    "        tiss_tags = \"{0}_{1}\".format(t, r)\n",
    "        input_f = \"{0}_{1}_TPM.bed\".format(t, r)\n",
    "        df_tmp = pd.read_csv(input_f, sep=\"\\t\")\n",
    "        df_tmp.columns = ['GeneId', tiss_tags]\n",
    "        if df_b.shape[0] == 0:\n",
    "            df_b = df_tmp.copy()\n",
    "        else:\n",
    "            df_b = pd.merge(df_b, df_tmp, how='inner', on=['GeneId'])\n",
    "        df_b[t] = df_b.iloc[:, 1:4].mean(axis=1)\n",
    "    df_a = df_b[['GeneId', t]].copy()\n",
    "    if df_result.shape[0] == 0:\n",
    "        df_result = df_a.copy()\n",
    "    else:\n",
    "        df_result = pd.merge(df_result, df_a, how='inner', on=['GeneId'])\n",
    "df_result.to_csv(\"J668_all_Tissue_TPM.bed\", sep=\"\\t\", index=False)"
   ]
  },
  {
   "cell_type": "code",
   "execution_count": null,
   "metadata": {},
   "outputs": [],
   "source": [
    "import pandas as pd\n",
    "tissues = ['anther', 'leaf', 'hypocotyl', 'cotyledon', 'stem', 'ovule', 'root', 'radicle', 'fiber_10DPA', 'fiber_20DPA', 'petal', 'stigma']\n",
    "df = pd.read_csv(\"G:/Billfish/J668_multip_tissue_3D-genome/new_RNA_Seq/RNA_Seq_data/J668_all_Tissue_TPM.csv\")\n",
    "for t in tissues:\n",
    "    Rep = ['GeneId', '{}_rep1'.format(t), '{}_rep2'.format(t), '{}_rep3'.format(t)]\n",
    "    df_tmp = df[Rep]\n",
    "    print(df_tmp.head())\n",
    "    df_x = df_tmp.iloc[:, 1:4].copy()\n",
    "    df_x[t] = df_x.mean(axis=1)\n",
    "    print(df_x.head())\n",
    "        \n"
   ]
  },
  {
   "cell_type": "code",
   "execution_count": 38,
   "metadata": {},
   "outputs": [],
   "source": [
    "## hypocotyl\n",
    "import pandas as pd\n",
    "df_geneid = pd.read_csv(\"G:/Billfish/J668_multip_tissue_3D-genome/new_RNA_Seq/TAU/hypocotyl_TAU_GeneId.bed\", sep=\"\\t\", names=['GeneId'])\n",
    "#print(df_geneid.shape[0])\n",
    "df_geneid.drop_duplicates(keep='first', inplace=True)\n",
    "#print(df_geneid.shape[0])\n",
    "df_ghir_arial = pd.read_csv(\"G:/Billfish/J668_multip_tissue_3D-genome/RNA_seq/Gh_vs_Arabidopsis.txt\", sep=\"\\t\", names=['GeneId', 'tair'])\n",
    "df_tair = pd.merge(df_geneid, df_ghir_arial, how='inner', on=['GeneId'])\n",
    "df_tair.to_csv(\"G:/Billfish/J668_multip_tissue_3D-genome/new_RNA_Seq/TAU/hypocotyl_TAU_geneid_tair.bed\", sep=\"\\t\", index=False, columns=['tair'])\n"
   ]
  },
  {
   "cell_type": "code",
   "execution_count": 39,
   "metadata": {},
   "outputs": [],
   "source": [
    "## fiber_10DPA\n",
    "import pandas as pd\n",
    "df_geneid = pd.read_csv(\"G:/Billfish/J668_multip_tissue_3D-genome/new_RNA_Seq/TAU/fiber_10DPA_TAU_GeneId.bed\", sep=\"\\t\", names=['GeneId'])\n",
    "#print(df_geneid.shape[0])\n",
    "df_geneid.drop_duplicates(keep='first', inplace=True)\n",
    "#print(df_geneid.shape[0])\n",
    "df_ghir_arial = pd.read_csv(\"G:/Billfish/J668_multip_tissue_3D-genome/RNA_seq/Gh_vs_Arabidopsis.txt\", sep=\"\\t\", names=['GeneId', 'tair'])\n",
    "df_tair = pd.merge(df_geneid, df_ghir_arial, how='inner', on=['GeneId'])\n",
    "df_tair.to_csv(\"G:/Billfish/J668_multip_tissue_3D-genome/new_RNA_Seq/TAU/fiber_10DPA_TAU_geneid_tair.bed\", sep=\"\\t\", index=False, columns=['tair'])"
   ]
  },
  {
   "cell_type": "code",
   "execution_count": 28,
   "metadata": {},
   "outputs": [
    {
     "name": "stdout",
     "output_type": "stream",
     "text": [
      "2995\n",
      "2878\n",
      "1827\n",
      "1499\n",
      "926\n",
      "701\n",
      "856\n",
      "544\n",
      "641\n",
      "662\n",
      "638\n",
      "725\n"
     ]
    }
   ],
   "source": [
    "## 新的TAU，选择TAU基因并将之利用zscore标准化，之后再进行归一化\n",
    "import pandas as pd\n",
    "import numpy as np\n",
    "import scipy.stats as stats\n",
    "df_TPM = pd.read_csv(\"G:/Billfish/J668_multip_tissue_3D-genome/new_RNA_Seq/RNA_Seq_data/J668_all_Tissue_mean_TPM.csv\")\n",
    "tissues = ['anther',  'ovule', 'root', 'radicle', 'leaf', 'hypocotyl', 'cotyledon', 'stem', 'fiber_10DPA', 'fiber_20DPA', 'petal', 'stigma']\n",
    "def Normalization2(x): # 数据归一化\n",
    "    return pd.Series([(float(i)-np.mean(x))/(max(x)-min(x)) for i in x])\n",
    "\n",
    "def TPM_zscore(df): # zscore 标准化\n",
    "    df_tags = df[['GeneId']].copy()\n",
    "    df_TPM = df[tissues].copy()\n",
    "    np_TPM = df_TPM.to_numpy()\n",
    "    np_TPM_zscore = stats.zscore(np_TPM, axis=1) # 数据标准化\n",
    "    df_TPM_zscore = pd.DataFrame(np_TPM_zscore, columns=tissues)\n",
    "    df_result = pd.concat([df_tags, df_TPM_zscore], axis=1)\n",
    "    return df_result\n",
    "for t in tissues:\n",
    "    input_f = \"G:/Billfish/J668_multip_tissue_3D-genome/new_RNA_Seq/TAU/{}_TAU_GeneId.bed\".format(t)\n",
    "    output_f = \"G:/Billfish/J668_multip_tissue_3D-genome/new_RNA_Seq/TAU/heatmap/{}_TAUGene_zscore_normal.csv\".format(t)\n",
    "    df_tiss_gid = pd.read_csv(input_f, sep=\"\\t\", names=['GeneId'])\n",
    "    print(df_tiss_gid.shape[0])\n",
    "    df_tiss_TPM = pd.merge(df_TPM, df_tiss_gid, how='inner', on=['GeneId'])\n",
    "    #print(df_tiss_TPM.columns)\n",
    "    ## zscore\n",
    "    df_zscore = TPM_zscore(df_tiss_TPM)\n",
    "    df_zscore.set_index('GeneId', inplace=True)\n",
    "    ## normal, -1 到1 之间\n",
    "    df_normal = df_zscore.apply(Normalization2, axis=1)\n",
    "    df_normal.columns = tissues\n",
    "    df_normal.to_csv(output_f)\n",
    "    "
   ]
  },
  {
   "cell_type": "code",
   "execution_count": 23,
   "metadata": {},
   "outputs": [],
   "source": [
    "## 统计bias表达基因，其差异范围，在各个组织中 \n",
    "import pandas as pd\n",
    "\n",
    "def abs_logFC(df, tags):\n",
    "    df = df.copy()\n",
    "    df_return = df[['geneid_at', 'geneid_dt', 'logFC']].copy()\n",
    "    df_return['logFC'] = df_return['logFC'].abs()\n",
    "    df_return.columns = ['GeneId_At', 'GeneId_Dt', tags]\n",
    "    return df_return\n",
    "\n",
    "## 整理同源基因logFC\n",
    "def HG_tissues_DMutip(df_HG_pair):\n",
    "    tissues = ['anther', 'cotyledon', 'fiber_10DPA', 'fiber_20DPA', 'hypocotyl', 'leaf', 'ovule', 'petal', 'radicle', 'root', 'stem', 'stigma']\n",
    "    for t in tissues:\n",
    "        input_f = \"G:/Billfish/J668_multip_tissue_3D-genome/new_RNA_Seq/homo_gene2/gene_bias/DESeq/{0}/{0}_final_DEG.bed\".format(t)\n",
    "        df_HG_logFC = pd.read_csv(input_f, sep=\"\\t\")\n",
    "        df_HG_logFC = abs_logFC(df_HG_logFC, t)\n",
    "        df_HG_pair = pd.merge(df_HG_pair, df_HG_logFC, how='left', on=['GeneId_At', 'GeneId_Dt'])\n",
    "    return df_HG_pair\n",
    "\n",
    "## 统计在各个组织中都不表达的同源基因对\n",
    "def NExp_HG():\n",
    "    df = pd.read_csv(\"G:/Billfish/J668_multip_tissue_3D-genome/new_RNA_Seq/homo_gene2/all_HG_TPM.bed\", sep=\"\\t\")\n",
    "    df_NExp = df.query(\"At_TPM<0.5 & Dt_TPM<0.5\").copy()\n",
    "    df_NExp['number'] = [1]*df_NExp.shape[0]\n",
    "    df_tmp = df_NExp.groupby(by=['GeneId_At', 'GeneId_Dt'], as_index=False)['number'].sum()\n",
    "    df_return = df_tmp.query('number==12')[['GeneId_At', 'GeneId_Dt']].copy()\n",
    "    return df_return\n",
    "\n",
    "## 统计分析差异表达基因倍数\n",
    "def number_HG(df):\n",
    "    df = df.copy()\n",
    "    for i in range(2, 28, 2):\n",
    "        start = i\n",
    "        end = i + 2\n",
    "        print(start, end)\n",
    "        df_tmp = df.query(\"@start <= maxs <= @end\")\n",
    "        print(df_tmp.shape[0])\n",
    "\n",
    "## 统计组织bias基因分布于各组织的数目\n",
    "def HBG_Ntissues(df):\n",
    "    df = df.copy()\n",
    "    df['tags'] = df['GeneId_At'].map(str) + \"-\" + df['GeneId_Dt'].map(str)\n",
    "    df.drop(['GeneId_At', 'GeneId_Dt'], axis=1, inplace=True)\n",
    "    df.set_index('tags', inplace=True)\n",
    "    df[df>0] = 1\n",
    "    df.fillna(0, inplace=True)\n",
    "    df['total_number'] = df.sum(axis=1)\n",
    "    df['number'] = [1]*df.shape[0]\n",
    "    df_return = df.groupby(by=['total_number'], as_index=False)['number'].sum()\n",
    "    return df, df_return\n",
    "\n",
    "\n",
    "\n",
    "## 分析同源基因对在各组织之间差异的数目\n",
    "def HG_EN(df):\n",
    "    tissues = ['anther', 'cotyledon', 'fiber_10DPA', 'fiber_20DPA', 'hypocotyl', 'leaf', 'ovule', 'petal', 'radicle', 'root', 'stem', 'stigma']\n",
    "    df2 = df.copy()\n",
    "    #print(df.shape[0])\n",
    "    df2.dropna(how='all', subset=tissues, inplace=True)\n",
    "    #print(df.shape[0])\n",
    "    print(\"所有组织中均不发生同源基因bias表达的数目：\", df.shape[0] - df2.shape[0])\n",
    "    print(\"所有组织中均发生同源基因bias表达的数目：\", df.dropna(how='any').shape[0])\n",
    "    df2.fillna(0, inplace=True)\n",
    "    df2['maxs'] = df2[tissues].max(axis=1)\n",
    "    df2['mins'] = df2[tissues].min(axis=1)\n",
    "    number_HG(df2)\n",
    "\n",
    "df_HG_pair = pd.read_csv(\"G:/Billfish/J668_multip_tissue_3D-genome/new_RNA_Seq/J668_HG_pairs.csv\")\n",
    "df_HG_pair_logFC = HG_tissues_DMutip(df_HG_pair)\n",
    "df_NEHG = NExp_HG()\n",
    "df_NEHG.to_csv(\"G:/Billfish/J668_multip_tissue_3D-genome/new_RNA_Seq/homo_gene2/gene_bias/Tissues/J668_TNexp_HG.csv\", index=False)\n",
    "df_HG_pair_logFC = pd.concat([df_HG_pair_logFC, df_NEHG], axis=0)\n",
    "df_HG_pair_logFC.drop_duplicates(keep=False, inplace=True, subset=['GeneId_At', 'GeneId_Dt'])\n",
    "df_exp_HG, df_exp_HG_statistics = HBG_Ntissues(df_HG_pair_logFC) # 分析组织可表达同源基因和\n",
    "df_exp_HG.to_csv(\"G:/Billfish/J668_multip_tissue_3D-genome/new_RNA_Seq/homo_gene2/gene_bias/Tissues/J668_Texp_HG.csv\")\n",
    "df_exp_HG_statistics.to_csv(\"G:/Billfish/J668_multip_tissue_3D-genome/new_RNA_Seq/homo_gene2/gene_bias/Tissues/J668_Texp_HG_statistics.csv\")\n",
    "#HG_EN(df_HG_pair_logFC)\n",
    "\n",
    "\n"
   ]
  },
  {
   "cell_type": "code",
   "execution_count": 62,
   "metadata": {},
   "outputs": [],
   "source": [
    "## 分析确定哪些基因是符合要求\n",
    "import pandas as pd\n",
    "df = pd.read_csv(\"G:/Billfish/J668_multip_tissue_3D-genome/new_RNA_Seq/homo_gene2/gene_bias/Tissues/J668_Texp_HG.csv\")\n",
    "df_gene = pd.read_csv(\"G:/Billfish/J668_multip_tissue_3D-genome/new_RNA_Seq/RNA_Seq_data/J668_all_Tissue_mean_TPM_long.csv\")\n",
    "df_hg_pairs = pd.read_csv(\"G:/Billfish/J668_multip_tissue_3D-genome/new_RNA_Seq/homo_gene2/all_homo_gene_pairs_position.txt\", sep=\"\\t\")\n",
    "# df1 = df.query(\"anther==1 & total_number==1\").copy()\n",
    "# df2 = df.query(\"anther==1 & ovule==1 & total_number==2\").copy()\n",
    "# df3 = df.query(\"anther==1 & ovule==1 & root==1 & total_number==3\").copy()\n",
    "# df4 = df.query(\"anther==1 & ovule==1 & root==1 & radicle == 1 & total_number==4\").copy()\n",
    "# df5 = df.query(\"anther==1 & ovule==1 & root==1 & radicle==1 & leaf==1 & total_number==5\").copy()\n",
    "# df6 = df.query(\"anther==1 & ovule==1 & root==1 & radicle==1 & leaf==1 & hypocotyl==1 & total_number==6\").copy()\n",
    "# df7 = df.query(\"anther==1 & ovule==1 & root==1 & radicle==1 & leaf==1 & hypocotyl==1 & cotyledon==1 & total_number==7\").copy()\n",
    "# df8 = df.query(\"anther==1 & ovule==1 & root==1 & radicle==1 & leaf==1 & hypocotyl==1 & cotyledon==1 & stem==1 & total_number==8\").copy()\n",
    "# df9 = df.query(\"anther==1 & ovule==1 & root==1 & radicle==1 & leaf==1 & hypocotyl==1 & cotyledon==1 & stem==1 & fiber_10DPA==1 & total_number==9\").copy()\n",
    "# df10 = df.query(\"anther==1 & ovule==1 & root==1 & radicle==1 & leaf==1 & hypocotyl==1 & cotyledon==1 & stem==1 & fiber_10DPA==1 & fiber_20DPA==1 & total_number==10\").copy()\n",
    "# df11 = df.query(\"anther==1 & ovule==1 & root==1 & radicle==1 & leaf==1 & hypocotyl==1 & cotyledon==1 & stem==1 & fiber_10DPA==1 & fiber_20DPA==1 & petal==1 & total_number==11\").copy()\n",
    "# df12 = df.query(\"total_number==12\").copy()\n",
    "\n",
    "\n",
    "# df1 = df.query(\"anther==1 & total_number==1\").copy()\n",
    "# df2 = df.query(\"ovule==1 & total_number==2\").copy()\n",
    "# df3 = df.query(\"root==1 & total_number==3\").copy()\n",
    "# df4 = df.query(\"radicle == 1 & total_number==4\").copy()\n",
    "# df5 = df.query(\"leaf==1 & total_number==5\").copy()\n",
    "# df6 = df.query(\"hypocotyl==1 & total_number==6\").copy()\n",
    "# df7 = df.query(\"cotyledon==1 & total_number==7\").copy()\n",
    "# df8 = df.query(\"stem==1 & total_number==8\").copy()\n",
    "# df9 = df.query(\"fiber_10DPA==1 & total_number==9\").copy()\n",
    "# df10 = df.query(\"fiber_20DPA==1 & total_number==10\").copy()\n",
    "# df11 = df.query(\"petal==1 & total_number==11\").copy()\n",
    "# df12 = df.query(\"total_number==12\").copy()\n",
    "\n",
    "## 统计各bias基因在多少组织中可表达，\n",
    "def exp_tissues_number(df, df_gene, df_gene_pair):\n",
    "    df, df_gene, df_gene_pair = df.copy(), df_gene.copy(), df_gene_pair.copy()\n",
    "    df[['GeneId_At', 'GeneId_Dt']] = df['tags'].str.split(\"-\", expand=True)\n",
    "    df = df[['GeneId_At', 'GeneId_Dt', 'total_number']].copy()\n",
    "    for i in range(1, 13):\n",
    "        df_tmp = df.query(\"total_number==@i\")[['GeneId_At', 'GeneId_Dt']].copy()\n",
    "        df_tmp.columns = ['GeneId', 'GeneId_Dt'] \n",
    "        df1 = pd.merge(df_tmp, df_gene, how='inner', on=['GeneId'])\n",
    "        df_tmp.columns = ['GeneId_At', 'GeneId']\n",
    "        df2 = pd.merge(df_tmp, df_gene, how='inner', on=['GeneId'])\n",
    "        df1.columns = ['GeneId_At', 'GeneId_Dt', 'tissues', 'TPM']\n",
    "        df2.columns = ['GeneId_At', 'GeneId_Dt', 'tissues', 'TPM']\n",
    "        df_12 = pd.concat([df1,df2], axis=0)\n",
    "        df_12 = df_12.query(\"TPM>=0.5\").copy()\n",
    "        df_12.drop_duplicates(keep='first', subset=['GeneId_At', 'GeneId_Dt', 'tissues'], inplace=True)\n",
    "        df_12['number'] = [1]*df_12.shape[0]\n",
    "        df_tmp = df_12.groupby(by=['GeneId_At', 'GeneId_Dt'], as_index=False)['number'].sum()\n",
    "        #print(df_tmp)\n",
    "        df_tmp = df_tmp.query(\"number==@i\")[['GeneId_At', 'GeneId_Dt']].copy()\n",
    "        ## 确定基因的位置\n",
    "        df_tmp = pd.merge(df_tmp, df_gene_pair, how='inner', on=['GeneId_At', 'GeneId_Dt'])\n",
    "        df_tmp['number'] = range(df_tmp.shape[0])\n",
    "        ## 确定基因的位置\n",
    "        df_at = df_tmp[['chr_at', 'start_at', 'end_at', 'GeneId_At', 'number']].copy()\n",
    "        df_dt = df_tmp[['chr_dt', 'start_dt', 'end_dt', 'GeneId_Dt', 'number']].copy()\n",
    "        df_at.columns = ['chr', 'start', 'end', 'GeneId', 'number']\n",
    "        df_dt.columns = ['chr', 'start', 'end', 'GeneId', 'number']\n",
    "        df_return = pd.concat([df_at, df_dt], axis=0)\n",
    "        output_f = \"G:/Billfish/J668_multip_tissue_3D-genome/new_RNA_Seq/homo_gene2/gene_bias/Tissues/example/J668_Tissues{}.bed\".format(i)\n",
    "        df_return.to_csv(output_f, sep=\"\\t\", index=False, header=False)\n",
    "\n",
    "\n",
    "exp_tissues_number(df, df_gene, df_hg_pairs)\n",
    "\n",
    "\n",
    "\n",
    "\n",
    "# ## 得到各同源基因对的位置信息\n",
    "# def HG_position(df, df_hg_pair):\n",
    "#     df = df.copy()\n",
    "#     df[['GeneId_At', 'GeneId_Dt']] = df['tags'].str.split(\"-\", expand=True)\n",
    "#     df_pairs = df[['GeneId_At', 'GeneId_Dt']].copy()\n",
    "#     df_tmp = pd.merge(df_pairs, df_hg_pairs, how='inner', on=['GeneId_At', 'GeneId_Dt'])\n",
    "#     df_tmp['number'] = range(df_tmp.shape[0])\n",
    "#     df_a = df_tmp[['chr_at', 'start_at', 'end_at', 'GeneId_At', 'number']].copy()\n",
    "#     df_b = df_tmp[['chr_dt', 'start_dt', 'end_dt', 'GeneId_Dt', 'number']].copy()\n",
    "#     df_a.columns = ['chrom', 'start', 'end', 'GeneId', 'number']\n",
    "#     df_b.columns = ['chrom', 'start', 'end', 'GeneId', 'number']\n",
    "#     df_return = pd.concat([df_a, df_b], axis=0)\n",
    "#     return df_return\n",
    "\n",
    "# df_hg_pairs = pd.read_csv(\"G:/Billfish/J668_multip_tissue_3D-genome/new_RNA_Seq/homo_gene2/all_homo_gene_pairs_position.txt\", sep=\"\\t\")\n",
    "# df1_position = HG_position(df1, df_hg_pairs)\n",
    "# df2_position = HG_position(df2, df_hg_pairs)\n",
    "# df3_position = HG_position(df3, df_hg_pairs)\n",
    "# df4_position = HG_position(df4, df_hg_pairs)\n",
    "# df5_position = HG_position(df5, df_hg_pairs)\n",
    "# df6_position = HG_position(df6, df_hg_pairs)\n",
    "# df7_position = HG_position(df7, df_hg_pairs)\n",
    "# df8_position = HG_position(df8, df_hg_pairs)\n",
    "# df9_position = HG_position(df9, df_hg_pairs)\n",
    "# df10_position = HG_position(df10, df_hg_pairs)\n",
    "# df11_position = HG_position(df11, df_hg_pairs)\n",
    "# df12_position = HG_position(df12, df_hg_pairs)\n",
    "\n",
    "# df1_position.to_csv(\"G:/Billfish/J668_multip_tissue_3D-genome/new_RNA_Seq/homo_gene2/gene_bias/Tissues/example/J668_Tissues1.bed\", sep=\"\\t\", header=False, index=False)\n",
    "# df2_position.to_csv(\"G:/Billfish/J668_multip_tissue_3D-genome/new_RNA_Seq/homo_gene2/gene_bias/Tissues/example/J668_Tissues2.bed\", sep=\"\\t\", header=False, index=False)\n",
    "# df3_position.to_csv(\"G:/Billfish/J668_multip_tissue_3D-genome/new_RNA_Seq/homo_gene2/gene_bias/Tissues/example/J668_Tissues3.bed\", sep=\"\\t\", header=False, index=False)\n",
    "# df4_position.to_csv(\"G:/Billfish/J668_multip_tissue_3D-genome/new_RNA_Seq/homo_gene2/gene_bias/Tissues/example/J668_Tissues4.bed\", sep=\"\\t\", header=False, index=False)\n",
    "# df5_position.to_csv(\"G:/Billfish/J668_multip_tissue_3D-genome/new_RNA_Seq/homo_gene2/gene_bias/Tissues/example/J668_Tissues5.bed\", sep=\"\\t\", header=False, index=False)\n",
    "# df6_position.to_csv(\"G:/Billfish/J668_multip_tissue_3D-genome/new_RNA_Seq/homo_gene2/gene_bias/Tissues/example/J668_Tissues6.bed\", sep=\"\\t\", header=False, index=False)\n",
    "# df7_position.to_csv(\"G:/Billfish/J668_multip_tissue_3D-genome/new_RNA_Seq/homo_gene2/gene_bias/Tissues/example/J668_Tissues7.bed\", sep=\"\\t\", header=False, index=False)\n",
    "# df8_position.to_csv(\"G:/Billfish/J668_multip_tissue_3D-genome/new_RNA_Seq/homo_gene2/gene_bias/Tissues/example/J668_Tissues8.bed\", sep=\"\\t\", header=False, index=False)\n",
    "# df9_position.to_csv(\"G:/Billfish/J668_multip_tissue_3D-genome/new_RNA_Seq/homo_gene2/gene_bias/Tissues/example/J668_Tissues9.bed\", sep=\"\\t\", header=False, index=False)\n",
    "# df10_position.to_csv(\"G:/Billfish/J668_multip_tissue_3D-genome/new_RNA_Seq/homo_gene2/gene_bias/Tissues/example/J668_Tissues10.bed\", sep=\"\\t\", header=False, index=False)\n",
    "# df11_position.to_csv(\"G:/Billfish/J668_multip_tissue_3D-genome/new_RNA_Seq/homo_gene2/gene_bias/Tissues/example/J668_Tissues11.bed\", sep=\"\\t\", header=False, index=False)\n",
    "# df12_position.to_csv(\"G:/Billfish/J668_multip_tissue_3D-genome/new_RNA_Seq/homo_gene2/gene_bias/Tissues/example/J668_Tissues12.bed\", sep=\"\\t\", header=False, index=False)\n"
   ]
  },
  {
   "cell_type": "code",
   "execution_count": 64,
   "metadata": {},
   "outputs": [
    {
     "name": "stdout",
     "output_type": "stream",
     "text": [
      "14248\n"
     ]
    }
   ],
   "source": [
    "import pandas as pd\n",
    "df = pd.read_csv(\"G:/Billfish/J668_multip_tissue_3D-genome/homo_nogene/loose/J668_Hcis_bin.bed\", sep=\"\\t\")\n",
    "df_at = df[['chrom_At', 'start_At', 'end_At']].copy()\n",
    "df_dt = df[['chrom_Dt', 'start_Dt', 'end_Dt']].copy()\n",
    "df = pd.concat([df_at, df_dt], axis=0)\n",
    "df.drop_duplicates(keep='first', inplace=True)\n",
    "print(df.shape[0])"
   ]
  },
  {
   "cell_type": "code",
   "execution_count": 10,
   "metadata": {},
   "outputs": [
    {
     "name": "stdout",
     "output_type": "stream",
     "text": [
      "   A  B  C\n",
      "0  1 -4  1\n",
      "1 -2  1 -8\n",
      "2  1 -6  1\n"
     ]
    }
   ],
   "source": [
    "## 分析同源基因仅在某几个组织中表达\n"
   ]
  },
  {
   "cell_type": "code",
   "execution_count": 6,
   "metadata": {},
   "outputs": [
    {
     "name": "stdout",
     "output_type": "stream",
     "text": [
      "            geneid_at        geneid_dt      tpm_fc     logFC           padj  \\\n",
      "0     Ghir_A01G000080  Ghir_D01G000080  489.702000 -7.304456   5.612695e-07   \n",
      "1     Ghir_A01G000190  Ghir_D01G000200    0.077678  4.289084   9.149354e-74   \n",
      "2     Ghir_A01G000230  Ghir_D01G000240    5.918657 -2.464949   5.084690e-47   \n",
      "3     Ghir_A01G000240  Ghir_D01G000250    4.749096 -2.290462   6.043826e-06   \n",
      "4     Ghir_A01G000250  Ghir_D01G000260   25.551532 -3.733077   4.039779e-05   \n",
      "...               ...              ...         ...       ...            ...   \n",
      "5213  Ghir_A13G024690  Ghir_D13G025460    2.183273 -1.184077   1.519770e-21   \n",
      "5214  Ghir_A13G024720  Ghir_D13G025490    0.419784  1.192875   1.293866e-16   \n",
      "5215  Ghir_A13G024740  Ghir_D13G025510    2.733186 -2.424803   9.553933e-04   \n",
      "5216  Ghir_A13G024820  Ghir_D13G025590   10.067609 -3.235194  8.291089e-149   \n",
      "5217  Ghir_A13G024840  Ghir_D13G025610    0.029383  4.647749   8.686573e-05   \n",
      "\n",
      "         sig         tags  \n",
      "0     BiasDt      anthers  \n",
      "1     BiasAt      anthers  \n",
      "2     BiasDt      anthers  \n",
      "3     BiasDt      anthers  \n",
      "4     BiasDt      anthers  \n",
      "...      ...          ...  \n",
      "5213  BiasDt  fiber_20DPA  \n",
      "5214  BiasAt  fiber_20DPA  \n",
      "5215  BiasDt  fiber_20DPA  \n",
      "5216  BiasDt  fiber_20DPA  \n",
      "5217  BiasAt  fiber_20DPA  \n",
      "\n",
      "[74205 rows x 7 columns]\n"
     ]
    }
   ],
   "source": [
    "## 整理bias 基因\n",
    "tissues = ['anthers', 'cotyledon', 'ovules',  'hypocotyl', 'leaf', 'petals', 'radicle', 'root', 'stem', 'stigma', 'fiber_5DPA', 'fiber_10DPA', 'fiber_20DPA']\n",
    "df_result = pd.DataFrame(columns = ['geneid_at', 'geneid_dt', 'tpm_fc', 'logFC', 'padj', 'sig', 'tags'])\n",
    "for t in tissues:\n",
    "    input_f = \"G:/Billfish/J668_multip_tissue_3D-genome/RNA_seq/homo_gene2/gene_bias/DESeq/{0}/{0}_final_DEG.bed\".format(t)\n",
    "    df_tissues = pd.read_csv(input_f, sep=\"\\t\")\n",
    "    df_tissues['tags'] = [t]*df_tissues.shape[0]\n",
    "    df_result = pd.concat([df_result, df_tissues], axis=0)\n",
    "df_result['sig'].replace(['Down', 'Up'], ['BiasDt', 'BiasAt'], inplace=True)\n",
    "print(df_result)"
   ]
  },
  {
   "cell_type": "code",
   "execution_count": 39,
   "metadata": {},
   "outputs": [],
   "source": [
    "# 分析组织差异表达基因 tau 和gini, 数据预处理\n",
    "import pandas as pd\n",
    "df = pd.read_csv(\"G:/Billfish/J668_multip_tissue_3D-genome/RNA_seq/PCA/J668_all_tissue_average_TPM.txt\", sep='\\t')\n",
    "tissues = ['anthers', 'cotyledon', 'ovules',  'hypocotyl', 'leaf', 'petals', 'radicle', 'root', 'stem', 'stigma', 'fiber_5DPA', 'fiber_10DPA', 'fiber_20DPA']\n",
    "df_gene = df[['chr', 'start', 'end', 'GeneId']].copy()\n",
    "df_tpm = df[tissues].copy()\n",
    "df_tpm[df_tpm<=1] = 1\n",
    "for t in tissues:\n",
    "    df_tpm[t] = df_tpm[t].apply(np.log)\n",
    "df_result = pd.concat([df_gene, df_tpm], axis=1)\n",
    "df_result.replace(0, 0.0001, inplace=True)\n",
    "df_result.to_csv('G:/Billfish/J668_multip_tissue_3D-genome/RNA_seq/tau_gini/J668_log_tpm.txt', sep=\"\\t\", index=False)"
   ]
  },
  {
   "cell_type": "code",
   "execution_count": 38,
   "metadata": {},
   "outputs": [],
   "source": [
    "# 分析组织差异表达基因 tau 和gini\n",
    "import pandas as pd\n",
    "from math import *\n",
    "import matplotlib.pyplot as plt\n",
    "import seaborn as sns\n",
    "df_tpm = pd.read_csv(\"G:/Billfish/J668_multip_tissue_3D-genome/RNA_seq/tau_gini/J668_log_tpm.txt\", sep=\"\\t\")\n",
    "for index, row in df_tpm.iterrows():\n",
    "    n = 13 ## The number of tissues\n",
    "    #print(row[4:17])\n",
    "    tissue_tpm = sorted(row[4:17])\n",
    "    #print(tissue_tpm)\n",
    "    tau = n/(n-1) - sum(tissue_tpm)/((n-1)*max(tissue_tpm)) # Calculate the tau\n",
    "    # calculate the gini\n",
    "    # a = 2*sum([i*tissue_tpm[i-1] for i in range(1,n+1)])\n",
    "    # b = n*sum(tissue_tpm)\n",
    "    # gini = a/b - (n+1)/n\n",
    "    df_tpm.loc[index, 'TAU'] = tau\n",
    "    # df_tpm.loc[index, 'Gini'] = gini\n",
    "df_tpm.to_csv('G:/Billfish/J668_multip_tissue_3D-genome/RNA_seq/tau_gini/J668_tau.txt', sep=\"\\t\", index=False)"
   ]
  },
  {
   "cell_type": "code",
   "execution_count": 2,
   "metadata": {},
   "outputs": [],
   "source": [
    "# # 分析组织特异表达基因， TAU\n",
    "# 1、数据预处理\n",
    "import pandas as pd\n",
    "import numpy as np\n",
    "df = pd.read_csv(\"G:/Billfish/J668_multip_tissue_3D-genome/new_RNA_Seq/RNA_Seq_data/J668_all_tissue_mean_TPM.csv\", index_col = 0)\n",
    "tissues = ['anther', 'cotyledon', 'ovule',  'hypocotyl', 'leaf', 'petal', 'radicle', 'root', 'stem', 'stigma',  'fiber_10DPA', 'fiber_20DPA']\n",
    "df[df<=1] = 1\n",
    "for t in tissues:\n",
    "    df[t] = df[t].apply(np.log)\n",
    "df.replace(0, 0.0001, inplace=True)\n",
    "\n",
    "# 2、TAU 计算\n",
    "for index, row in df.iterrows():\n",
    "    n = len(row)\n",
    "    tissue_tpm = sorted(row)\n",
    "    tau = n/(n-1) - sum(tissue_tpm)/((n-1)*max(tissue_tpm)) ## 计算TAU\n",
    "    df.loc[index, 'TAU'] = tau\n",
    "df['tissues'] = df.iloc[:,0:12].idxmax(axis=1)\n",
    "df.to_csv('G:/Billfish/J668_multip_tissue_3D-genome/new_RNA_Seq/TAU/J668_all_Tissue_TAU.csv')\n",
    "\n",
    "# # 3、TSG 基因聚类 , 使用scipy 中的z-score标准化方法，有将数据正则化\n",
    "def zscore_umap(df):\n",
    "    import scipy.stats as stats\n",
    "    from sklearn.preprocessing import StandardScaler\n",
    "    import umap.umap_ as umap\n",
    "    #z-score\n",
    "    GeneId_list = df.index.to_list()\n",
    "    df_numpy = df.to_numpy()\n",
    "    df_zscore = stats.zscore(df_numpy, axis=1)\n",
    "    df_zscore = pd.DataFrame(df_zscore)\n",
    "    # umap\n",
    "    reducer = umap.UMAP()\n",
    "    scaled_penguin_data = StandardScaler().fit_transform(df_zscore)\n",
    "    embedding = reducer.fit_transform(scaled_penguin_data)\n",
    "    df_umap = pd.DataFrame(embedding, columns =['umap1', 'umap2'], index=GeneId_list)\n",
    "    df_umap.reset_index(inplace=True)\n",
    "    df_umap.rename(columns={'index':'GeneId'}, inplace=True)\n",
    "    return df_umap\n",
    "\n",
    "## 3、TSG 基因聚类，使用自己写的脚本标准化方法，\n",
    "# def zscore_umap(df_zscore):\n",
    "#     from sklearn.preprocessing import StandardScaler\n",
    "#     import umap.umap_ as umap\n",
    "#     #df_zscore.fillna(0, inplace=True)\n",
    "#     GeneId_list = df_zscore.index.to_list()\n",
    "#     reducer = umap.UMAP()\n",
    "#     scaled_penguin_data = StandardScaler().fit_transform(df_zscore)\n",
    "#     embedding = reducer.fit_transform(scaled_penguin_data)\n",
    "#     df_umap = pd.DataFrame(embedding, columns =['umap1', 'umap2'], index=GeneId_list)\n",
    "#     df_umap.reset_index(inplace=True)\n",
    "#     df_umap.rename(columns={'index':'GeneId'}, inplace=True)\n",
    "#     return df_umap\n",
    "\n",
    "\n",
    "# 4、对结果进行整合\n",
    "## 得到组织特异性基因的表达TPM\n",
    "def TSG_TPM(df_TSG, df_TPM):\n",
    "    #df_TSG = df_TSG.query(\"TAU>=0.85\")[['GeneId']].copy() ## 组织特异性基因\n",
    "    #df_TSG = df_TSG.query(\"TAU>=0.5 & TAU<0.85\")[['GeneId']].copy() ## 组织高表达基因\n",
    "    df_TSG = df_TSG.query(\"TAU>=0.15 & TAU<0.5\")[['GeneId']].copy() ## 组织低表达基因\n",
    "    df_TSG_TPM = pd.merge(df_TSG, df_TPM, how='left', on=['GeneId'])\n",
    "    df_TSG_TPM.set_index('GeneId', inplace=True)\n",
    "    return(df_TSG_TPM)\n",
    "\n",
    "\n",
    "## 组织特异表达基因\n",
    "# df_TSG = pd.read_csv(\"G:/Billfish/J668_multip_tissue_3D-genome/new_RNA_Seq/TAU/J668_all_tissue_TAU.csv\")\n",
    "# df_TPM = pd.read_csv(\"G:/Billfish/J668_multip_tissue_3D-genome/new_RNA_Seq/RNA_Seq_data/J668_all_Tissue_mean_TPM.csv\")\n",
    "\n",
    "# df_TSG_TPM = TSG_TPM(df_TSG, df_TPM)\n",
    "# df_zscore_umap = zscore_umap(df_TSG_TPM)\n",
    "\n",
    "# df_TSG_tags = df_TSG[['GeneId', 'tissues', 'TAU']].copy()\n",
    "\n",
    "# df_result = pd.merge(df_zscore_umap, df_TSG_tags, how='inner', on=['GeneId'])\n",
    "# df_result.to_csv(\"G:/Billfish/J668_multip_tissue_3D-genome/new_RNA_Seq/TAU/J668_all_Tissue_TAU_zscore_umap.csv\", index=False)\n",
    "# df_result.to_csv(\"G:/Billfish/J668_multip_tissue_3D-genome/new_RNA_Seq/TAU/J668_all_Tissue_TAU_geneid.csv\", index=False, columns=['GeneId', 'tissues'])\n",
    "\n",
    "\n",
    "## 组织高表达基因\n",
    "# df_TSG = pd.read_csv(\"G:/Billfish/J668_multip_tissue_3D-genome/new_RNA_Seq/TAU/J668_all_tissue_TAU.csv\")\n",
    "# df_TPM = pd.read_csv(\"G:/Billfish/J668_multip_tissue_3D-genome/new_RNA_Seq/RNA_Seq_data/J668_all_Tissue_mean_TPM.csv\")\n",
    "\n",
    "# df_TSG_TPM = TSG_TPM(df_TSG, df_TPM)\n",
    "# df_zscore_umap = zscore_umap(df_TSG_TPM)\n",
    "\n",
    "# df_TSG_tags = df_TSG[['GeneId', 'tissues', 'TAU']].copy()\n",
    "# df_result = pd.merge(df_zscore_umap, df_TSG_tags, how='inner', on=['GeneId'])\n",
    "# df_result.to_csv(\"G:/Billfish/J668_multip_tissue_3D-genome/new_RNA_Seq/TAU/TAU_05_085/J668_all_Tissue_TAU_05_085_zscore_umap.csv\", index=False)\n",
    "# df_result.to_csv(\"G:/Billfish/J668_multip_tissue_3D-genome/new_RNA_Seq/TAU/TAU_05_085/J668_all_Tissue_TAU_05_085_geneid.csv\", index=False, columns=['GeneId', 'tissues'])\n",
    "\n",
    "## 组织低表达基因\n",
    "df_TSG = pd.read_csv(\"G:/Billfish/J668_multip_tissue_3D-genome/new_RNA_Seq/TAU/J668_all_tissue_TAU.csv\")\n",
    "df_TPM = pd.read_csv(\"G:/Billfish/J668_multip_tissue_3D-genome/new_RNA_Seq/RNA_Seq_data/J668_all_Tissue_mean_TPM.csv\")\n",
    "\n",
    "df_TSG_TPM = TSG_TPM(df_TSG, df_TPM)\n",
    "df_zscore_umap = zscore_umap(df_TSG_TPM)\n",
    "\n",
    "df_TSG_tags = df_TSG[['GeneId', 'tissues', 'TAU']].copy()\n",
    "df_result = pd.merge(df_zscore_umap, df_TSG_tags, how='inner', on=['GeneId'])\n",
    "df_result.to_csv(\"G:/Billfish/J668_multip_tissue_3D-genome/new_RNA_Seq/TAU/TAU_015_05/J668_all_Tissue_TAU_015_05_zscore_umap.csv\", index=False)\n",
    "df_result.to_csv(\"G:/Billfish/J668_multip_tissue_3D-genome/new_RNA_Seq/TAU/TAU_015_05/J668_all_Tissue_TAU_015_05_geneid.csv\", index=False, columns=['GeneId', 'tissues'])\n"
   ]
  },
  {
   "cell_type": "code",
   "execution_count": 47,
   "metadata": {},
   "outputs": [
    {
     "name": "stdout",
     "output_type": "stream",
     "text": [
      "            GeneId    anther     ovule      root   radicle      leaf  \\\n",
      "0  Ghir_A01G000090 -0.343830  0.101683 -0.343830 -0.341704 -0.327694   \n",
      "1  Ghir_A01G000110 -0.669087  2.824622 -0.381989  0.027205 -0.357067   \n",
      "2  Ghir_A01G000140 -1.116991 -0.477172 -0.147653  0.094806  0.242205   \n",
      "3  Ghir_A01G000180 -0.569333  1.964426 -0.559464 -0.569333 -0.513458   \n",
      "4  Ghir_A01G000440  0.305395 -0.512165 -0.515524 -0.130497 -0.512502   \n",
      "\n",
      "   hypocotyl  cotyledon      stem  fiber_10DPA  fiber_20DPA     petal  \\\n",
      "0  -0.341063  -0.343830 -0.342628     3.292031    -0.324231 -0.341072   \n",
      "1   0.453145  -0.874919 -0.320941     1.022761    -0.220183 -0.729341   \n",
      "2   1.266285   2.508348 -0.593894    -0.608051     0.563880 -0.866389   \n",
      "3  -0.569333   2.344702 -0.524529    -0.277276     0.371943 -0.569333   \n",
      "4  -0.435101  -0.522036 -0.513553     3.017331     0.855385 -0.521476   \n",
      "\n",
      "     stigma      max_tpm  \n",
      "0 -0.343830  fiber_10DPA  \n",
      "1 -0.774205        ovule  \n",
      "2 -0.865375    cotyledon  \n",
      "3 -0.529014    cotyledon  \n",
      "4 -0.515256  fiber_10DPA  \n"
     ]
    }
   ],
   "source": [
    "## 选出TAU>=0.85 的基因选出，并zscore标准化，之后用umap 降维聚类处理\n",
    "import pandas as pd\n",
    "import umap.umap_ as umap\n",
    "from sklearn.preprocessing import StandardScaler\n",
    "df_TAU = pd.read_csv(\"G:/Billfish/J668_multip_tissue_3D-genome/new_RNA_Seq/TAU/J668_all_tissue_TAU.csv\")\n",
    "df_zscore = pd.read_csv(\"G:/Billfish/J668_multip_tissue_3D-genome/new_RNA_Seq/RNA_Seq_data/J668_all_Tissue_mean_TPM_zscore.csv\")\n",
    "tissues = ['anther', 'cotyledon', 'ovule',  'hypocotyl', 'leaf', 'petal', 'radicle', 'root', 'stem', 'stigma',  'fiber_10DPA', 'fiber_20DPA']\n",
    "#* choose tissue special gene (TAU>=0.85)\n",
    "df_TAU_tissue = df_TAU.query(\"TAU>=0.85\")[['GeneId']].copy()\n",
    "df_tissue_zscore = pd.merge(df_TAU_tissue, df_zscore, how='left', on=['GeneId'])\n",
    "#df_tissue_TPM = pd.merge(df_TAU_tissue, df_TPM, how='left', on=['GeneId'])\n",
    "df_tissue_TPM = pd.merge(df_TAU_tissue, df_tissue_zscore, how='left', on=['GeneId'])\n",
    "max_tag = df_tissue_TPM[tissues].idxmax(axis=1)\n",
    "df_tissue_TPM['max_tpm'] = max_tag\n",
    "#* standard by umap\n",
    "reducer = umap.UMAP()\n",
    "data = df_tissue_TPM[['anther', 'cotyledon', 'ovule',  'hypocotyl', 'leaf', 'petal', 'radicle', 'root', 'stem', 'stigma',  'fiber_10DPA', 'fiber_20DPA']]\n",
    "print(df_tissue_TPM.head())\n",
    "# #print(data)\n",
    "# scaled_penguin_data = StandardScaler().fit_transform(data)\n",
    "# embedding = reducer.fit_transform(scaled_penguin_data)\n",
    "# df_umap = pd.DataFrame(embedding, columns =['umap1', 'umap2'])\n",
    "# df_result = pd.concat([df_tissue_TPM, df_umap], axis = 1)\n",
    "# df_result.to_csv(\"G:/Billfish/J668_multip_tissue_3D-genome/new_RNA_Seq/TAU/J668_TAU_umap_zscore.bed\", sep=\"\\t\", index=False)"
   ]
  },
  {
   "cell_type": "code",
   "execution_count": 33,
   "metadata": {},
   "outputs": [],
   "source": [
    "## 对所有基因进行zcore标准化\n",
    "import pandas as pd\n",
    "import numpy as np\n",
    "df = pd.read_csv(\"G:/Billfish/J668_multip_tissue_3D-genome/new_RNA_Seq/RNA_Seq_data/J668_all_Tissue_mean_TPM.csv\", index_col=0)\n",
    "df_result = pd.DataFrame()\n",
    "for i in range(df.shape[0]):\n",
    "    df_normal = df.iloc[[i]].apply(lambda x: (x-np.mean(x))/(np.std(x)), axis=1)\n",
    "    df_result = pd.concat([df_result, df_normal], axis=0)\n",
    "df_result.to_csv(\"G:/Billfish/J668_multip_tissue_3D-genome/new_RNA_Seq/RNA_Seq_data/J668_all_Tissue_mean_TPM_zscore.csv\")"
   ]
  },
  {
   "cell_type": "code",
   "execution_count": 40,
   "metadata": {},
   "outputs": [],
   "source": [
    "## 选出TAU>=0.85 的基因选出，并zscore标准化，之后用umap 降维聚类处理\n",
    "import pandas as pd\n",
    "import umap.umap_ as umap\n",
    "from sklearn.preprocessing import StandardScaler\n",
    "df_TAU = pd.read_csv(\"G:/Billfish/J668_multip_tissue_3D-genome/RNA_seq/tau_gini/J668_tau.txt\", sep=\"\\t\")\n",
    "df_TPM = pd.read_csv(\"G:/Billfish/J668_multip_tissue_3D-genome/RNA_seq/expression_gene/J668_all_tissue_average_TPM.txt\", sep=\"\\t\")\n",
    "df_zscore = pd.read_csv(\"G:/Billfish/J668_multip_tissue_3D-genome/RNA_seq/Standard_deviation/J668_all_tissue_average_TPM_zscore.txt\", sep=\"\\t\")\n",
    "tissues = ['anthers', 'cotyledon', 'ovules',  'hypocotyl', 'leaf', 'petals', 'radicle', 'root', 'stem', 'stigma', 'fiber_5DPA', 'fiber_10DPA', 'fiber_20DPA']\n",
    "#* choose tissue special gene (TAU>=0.85)\n",
    "df_TAU_tissue = df_TAU.query(\"TAU>=0.85\")[['GeneId']].copy()\n",
    "df_tissue_zscore = pd.merge(df_TAU_tissue, df_zscore, how='left', on=['GeneId'])\n",
    "#df_tissue_TPM = pd.merge(df_TAU_tissue, df_TPM, how='left', on=['GeneId'])\n",
    "df_tissue_TPM = pd.merge(df_TAU_tissue, df_tissue_zscore, how='left', on=['GeneId'])\n",
    "max_tag = df_tissue_TPM[tissues].idxmax(axis=1)\n",
    "df_tissue_TPM['max_tpm'] = max_tag\n",
    "#* standard by umap\n",
    "reducer = umap.UMAP()\n",
    "# #data = df_tissue_zscore[['anthers', 'cotyledon', 'ovules',  'hypocotyl', 'leaf', 'petals', 'radicle', 'root', 'stem', 'stigma', 'fiber_5DPA', 'fiber_10DPA', 'fiber_20DPA']]#\n",
    "# #df_TAU_tissue = df_TAU.query(\"TAU>=0.85\")\n",
    "data = df_tissue_TPM[['anthers', 'cotyledon', 'ovules',  'hypocotyl', 'leaf', 'petals', 'radicle', 'root', 'stem', 'stigma', 'fiber_5DPA', 'fiber_10DPA', 'fiber_20DPA']]\n",
    "# #print(data)\n",
    "scaled_penguin_data = StandardScaler().fit_transform(data)\n",
    "embedding = reducer.fit_transform(scaled_penguin_data)\n",
    "df_umap = pd.DataFrame(embedding, columns =['umap1', 'umap2'])\n",
    "df_result = pd.concat([df_tissue_TPM, df_umap], axis = 1)\n",
    "#df_result.to_csv(\"G:/Billfish/J668_multip_tissue_3D-genome/RNA_seq/tau_gini/umap/J668_TAU_umap.bed\", sep=\"\\t\", index=False)\n",
    "#df_result.to_csv(\"G:/Billfish/J668_multip_tissue_3D-genome/RNA_seq/tau_gini/umap/J668_TAU_umap_zscore.bed\", sep=\"\\t\", index=False)\n",
    "\n",
    "df_result.to_csv(\"G:/Billfish/J668_multip_tissue_3D-genome/new_RNA_Seq/TAU/J668_TAU_umap_zscore.bed\", sep=\"\\t\", index=False)"
   ]
  },
  {
   "cell_type": "code",
   "execution_count": 45,
   "metadata": {},
   "outputs": [],
   "source": [
    "## 选出TAU>=0.85 的基因选出，并zscore标准化，之后用umap 降维聚类处理\n",
    "import pandas as pd\n",
    "import umap.umap_ as umap\n",
    "from sklearn.preprocessing import StandardScaler\n",
    "df_TAU = pd.read_csv(\"G:/Billfish/J668_multip_tissue_3D-genome/new_RNA_Seq/TAU/J668_all_tissue_TAU.csv\")\n",
    "#df_TPM = pd.read_csv(\"G:/Billfish/J668_multip_tissue_3D-genome/new_RNA_Seq/RNA_Seq_data/J668_all_tissue_average_TPM.txt\", sep=\"\\t\")\n",
    "df_zscore = pd.read_csv(\"G:/Billfish/J668_multip_tissue_3D-genome/new_RNA_Seq/RNA_Seq_data/J668_all_Tissue_mean_TPM_zscore.csv\")\n",
    "tissues = ['anther', 'cotyledon', 'ovule',  'hypocotyl', 'leaf', 'petal', 'radicle', 'root', 'stem', 'stigma',  'fiber_10DPA', 'fiber_20DPA']\n",
    "#* choose tissue special gene (TAU>=0.85)\n",
    "df_TAU_tissue = df_TAU.query(\"TAU>=0.85\")[['GeneId']].copy()\n",
    "df_tissue_zscore = pd.merge(df_TAU_tissue, df_zscore, how='left', on=['GeneId'])\n",
    "#df_tissue_TPM = pd.merge(df_TAU_tissue, df_TPM, how='left', on=['GeneId'])\n",
    "df_tissue_TPM = pd.merge(df_TAU_tissue, df_tissue_zscore, how='left', on=['GeneId'])\n",
    "max_tag = df_tissue_TPM[tissues].idxmax(axis=1)\n",
    "df_tissue_TPM['max_tpm'] = max_tag\n",
    "#* standard by umap\n",
    "reducer = umap.UMAP()\n",
    "# #data = df_tissue_zscore[['anthers', 'cotyledon', 'ovules',  'hypocotyl', 'leaf', 'petals', 'radicle', 'root', 'stem', 'stigma', 'fiber_5DPA', 'fiber_10DPA', 'fiber_20DPA']]#\n",
    "# #df_TAU_tissue = df_TAU.query(\"TAU>=0.85\")\n",
    "data = df_tissue_TPM[['anther', 'cotyledon', 'ovule',  'hypocotyl', 'leaf', 'petal', 'radicle', 'root', 'stem', 'stigma',  'fiber_10DPA', 'fiber_20DPA']]\n",
    "# #print(data)\n",
    "scaled_penguin_data = StandardScaler().fit_transform(data)\n",
    "embedding = reducer.fit_transform(scaled_penguin_data)\n",
    "df_umap = pd.DataFrame(embedding, columns =['umap1', 'umap2'])\n",
    "df_result = pd.concat([df_tissue_TPM, df_umap], axis = 1)\n",
    "#df_result.to_csv(\"G:/Billfish/J668_multip_tissue_3D-genome/RNA_seq/tau_gini/umap/J668_TAU_umap.bed\", sep=\"\\t\", index=False)\n",
    "#df_result.to_csv(\"G:/Billfish/J668_multip_tissue_3D-genome/RNA_seq/tau_gini/umap/J668_TAU_umap_zscore.bed\", sep=\"\\t\", index=False)\n",
    "\n",
    "df_result.to_csv(\"G:/Billfish/J668_multip_tissue_3D-genome/new_RNA_Seq/TAU/J668_TAU_umap_zscore.bed\", sep=\"\\t\", index=False)"
   ]
  },
  {
   "cell_type": "code",
   "execution_count": 21,
   "metadata": {},
   "outputs": [
    {
     "data": {
      "image/png": "[encoded data removed]",
      "text/plain": [
       "<Figure size 432x288 with 1 Axes>"
      ]
     },
     "metadata": {
      "needs_background": "light"
     },
     "output_type": "display_data"
    }
   ],
   "source": [
    "import matplotlib.pyplot as plt\n",
    "import seaborn as sns\n",
    "import pandas as pd\n",
    "df = pd.read_csv(\"G:/Billfish/J668_multip_tissue_3D-genome/new_RNA_Seq/TAU/cotton_human_mouse_tau_new.txt\", sep=\"\\t\")\n",
    "df_cotton = df.query(\"TAU>=0.01 & species=='cotton'\").copy()\n",
    "df_mouse = df.query(\"species=='mouse'\").copy()\n",
    "df_human = df.query(\"species=='human'\").copy()\n",
    "sns.kdeplot(data=df_cotton[\"TAU\"])\n",
    "ax = sns.kdeplot(data=df_mouse['TAU'])\n",
    "ax = sns.kdeplot(data=df_human['TAU'])\n",
    "plt.legend(labels=['cotton', 'mouse', 'human'])\n",
    "plt.savefig(\"G:/Billfish/J668_multip_tissue_3D-genome/new_RNA_Seq/TAU/cotton_human_mouse_tau.pdf\", )"
   ]
  },
  {
   "cell_type": "code",
   "execution_count": 3,
   "metadata": {},
   "outputs": [],
   "source": [
    "## 将fiber_5DPA + 9个组织，以及fiber_10DPA+9个组织获取其中TAU>=0.8\n",
    "import pandas as pd\n",
    "from math import *\n",
    "import matplotlib.pyplot as plt\n",
    "import seaborn as sns\n",
    "df_tpm = pd.read_csv(\"G:/Billfish/J668_multip_tissue_3D-genome/RNA_seq/tau_gini/J668_log_tpm.txt\", sep=\"\\t\")\n",
    "df_fiber_5DPA = df_tpm[['chr', 'start', 'end', 'GeneId', 'anthers',  'leaf', 'petals', 'radicle', 'root', 'stem', 'stigma', 'fiber_5DPA']].copy()\n",
    "df_TAIR=pd.read_csv(\"G:/Billfish/J668_multip_tissue_3D-genome/RNA_seq/Gh_vs_Arabidopsis.txt\", sep=\"\\t\", names=['GeneId', 'TAIRID'])\n",
    "for index, row in df_fiber_5DPA.iterrows():\n",
    "    n = 8 ## The number of tissues\n",
    "    tissue_tpm = sorted(row[4:12])\n",
    "    tau = n/(n-1) - sum(tissue_tpm)/((n-1)*max(tissue_tpm)) # Calculate the tau\n",
    "    df_fiber_5DPA.loc[index, 'TAU'] = tau\n",
    "df_fiber_5DPA['tags'] = df_fiber_5DPA[['anthers','leaf', 'petals', 'radicle', 'root', 'stem', 'stigma', 'fiber_5DPA']].idxmax(axis=1)\n",
    "df_fiber_5DPA = df_fiber_5DPA.query(\"tags=='fiber_5DPA' & TAU>=0.85\")\n",
    "df_fiber_5DPA = pd.merge(df_TAIR, df_fiber_5DPA, how='right', on=['GeneId'])\n",
    "df_fiber_5DPA.to_csv('G:/Billfish/J668_multip_tissue_3D-genome/RNA_seq/tau_gini/tissues_Go/fiber_5DPA_10DPA/J668_fiber_5DPA.txt', sep=\"\\t\", index=False)"
   ]
  },
  {
   "cell_type": "code",
   "execution_count": 6,
   "metadata": {},
   "outputs": [],
   "source": [
    "## 将fiber_5DPA + 9个组织，以及fiber_10DPA+9个组织获取其中TAU>=0.85\n",
    "import pandas as pd\n",
    "from math import *\n",
    "import matplotlib.pyplot as plt\n",
    "import seaborn as sns\n",
    "df_tpm = pd.read_csv(\"G:/Billfish/J668_multip_tissue_3D-genome/RNA_seq/tau_gini/J668_log_tpm.txt\", sep=\"\\t\")\n",
    "df_fiber_5DPA = df_tpm[['chr', 'start', 'end', 'GeneId', 'anthers',  'leaf', 'petals', 'radicle', 'root', 'stem', 'stigma', 'fiber_10DPA']].copy()\n",
    "df_TAIR=pd.read_csv(\"G:/Billfish/J668_multip_tissue_3D-genome/RNA_seq/Gh_vs_Arabidopsis.txt\", sep=\"\\t\", names=['GeneId', 'TAIRID'])\n",
    "for index, row in df_fiber_5DPA.iterrows():\n",
    "    n = 8 ## The number of tissues\n",
    "    tissue_tpm = sorted(row[4:12])\n",
    "    tau = n/(n-1) - sum(tissue_tpm)/((n-1)*max(tissue_tpm)) # Calculate the tau\n",
    "    df_fiber_5DPA.loc[index, 'TAU'] = tau\n",
    "df_fiber_5DPA['tags'] = df_fiber_5DPA[['anthers','leaf', 'petals', 'radicle', 'root', 'stem', 'stigma', 'fiber_10DPA']].idxmax(axis=1)\n",
    "df_fiber_5DPA = df_fiber_5DPA.query(\"tags=='fiber_10DPA' & TAU>=0.99\")\n",
    "df_fiber_5DPA = pd.merge(df_TAIR, df_fiber_5DPA, how='right', on=['GeneId'])\n",
    "df_fiber_5DPA.to_csv('G:/Billfish/J668_multip_tissue_3D-genome/RNA_seq/tau_gini/tissues_Go/fiber_5DPA_10DPA/J668_fiber_10DPA.txt', sep=\"\\t\", index=False)"
   ]
  },
  {
   "cell_type": "code",
   "execution_count": 19,
   "metadata": {},
   "outputs": [],
   "source": [
    "## 分析纤维发育过程中时期特异性高表达基因，并分析其Go term\n",
    "import pandas as pd\n",
    "from math import *\n",
    "import matplotlib.pyplot as plt\n",
    "import seaborn as sns\n",
    "df_tpm = pd.read_csv(\"G:/Billfish/J668_multip_tissue_3D-genome/RNA_seq/tau_gini/J668_log_tpm.txt\", sep=\"\\t\")\n",
    "#df_fiber_5DPA = df_tpm[['chr', 'start', 'end', 'GeneId',  'fiber_5DPA', 'fiber_10DPA', 'fiber_20DPA']].copy()\n",
    "df_fiber_5DPA = df_tpm.copy()\n",
    "df_TAIR=pd.read_csv(\"G:/Billfish/J668_multip_tissue_3D-genome/RNA_seq/Gh_vs_Arabidopsis.txt\", sep=\"\\t\", names=['GeneId', 'TAIRID'])\n",
    "for index, row in df_fiber_5DPA.iterrows():\n",
    "    n = 13 ## The number of tissues\n",
    "    tissue_tpm = sorted(row[4:17])\n",
    "    tau = n/(n-1) - sum(tissue_tpm)/((n-1)*max(tissue_tpm)) # Calculate the tau\n",
    "    df_fiber_5DPA.loc[index, 'TAU'] = tau\n",
    "#df_fiber_5DPA['tags'] = df_fiber_5DPA[[ 'fiber_5DPA', 'fiber_10DPA', 'fiber_20DPA']].idxmax(axis=1)\n",
    "df_fiber_5DPA['tags'] = df_fiber_5DPA[[ 'anthers', 'cotyledon', 'hypocotyl', 'leaf', 'petals', 'radicle', 'root', 'stem', 'stigma', 'fiber_5DPA', 'fiber_10DPA', 'fiber_20DPA']].idxmax(axis=1)\n",
    "# 10 DPA\n",
    "# df_fiber_5DPA = df_fiber_5DPA.query(\"tags=='fiber_10DPA'& TAU>=0.4\")\n",
    "# df_result = pd.merge(df_TAIR, df_fiber_5DPA, how='right', on=['GeneId'])\n",
    "# df_result.to_csv('G:/Billfish/J668_multip_tissue_3D-genome/RNA_seq/tau_gini/tissues_Go/fiber_5DPA_10DPA/J668_fiber_10DPA.txt', sep=\"\\t\", index=False)\n",
    "# 5 DPA\n",
    "df_fiber_5DPA = df_fiber_5DPA.query(\"tags=='fiber_5DPA'& TAU>=0.4\")\n",
    "df_result = pd.merge(df_TAIR, df_fiber_5DPA, how='right', on=['GeneId'])\n",
    "df_result.to_csv('G:/Billfish/J668_multip_tissue_3D-genome/RNA_seq/tau_gini/tissues_Go/fiber_5DPA_10DPA/J668_fiber_5DPA.txt', sep=\"\\t\", index=False)"
   ]
  },
  {
   "cell_type": "code",
   "execution_count": 21,
   "metadata": {},
   "outputs": [],
   "source": [
    "## 将所挑选出来的基因，计算其zscore，然后用于lemon聚类分析\n",
    "df_fiber_5DPA = pd.read_csv('G:/Billfish/J668_multip_tissue_3D-genome/RNA_seq/tau_gini/tissues_Go/fiber_5DPA_10DPA/J668_fiber_5DPA.txt', sep=\"\\t\")\n",
    "df_fiber_5DPA_id = df_fiber_5DPA[['GeneId']]\n",
    "df_zscore = pd.read_csv(\"G:/Billfish/J668_multip_tissue_3D-genome/RNA_seq/Standard_deviation/J668_all_tissue_average_TPM_zscore.txt\", sep=\"\\t\")\n",
    "#df_zscore = df_zscore[['GeneId', 'anthers', 'cotyledon', 'hypocotyl', 'leaf', 'petals', 'radicle', 'root', 'stem', 'stigma', 'fiber_5DPA']]\n",
    "df_result = pd.merge(df_fiber_5DPA_id, df_zscore, how='inner', on=['GeneId'])\n",
    "df_result.to_csv(\"G:/Billfish/J668_multip_tissue_3D-genome/RNA_seq/tau_gini/tissues_Go/fiber_5DPA_10DPA/J668_fiber_5DPA_zscore.bed\", sep=\"\\t\", index=False)"
   ]
  },
  {
   "cell_type": "code",
   "execution_count": 6,
   "metadata": {},
   "outputs": [],
   "source": [
    "# 将0DPA 和5DPA reads 合并\n",
    "import pandas as pd\n",
    "df_0DPA = pd.read_csv(\"G:/Billfish/J668_multip_tissue_3D-genome/RNA_seq/reads/ovules/ovules_reads.bed\", sep=\"\\t\")\n",
    "df_0DPA = df_0DPA[['GeneId', 'reads1', 'reads2']]\n",
    "df_5DPA = pd.read_csv(\"G:/Billfish/J668_multip_tissue_3D-genome/RNA_seq/reads/fiber_5DPA/fiber_5DPA_reads.bed\", sep=\"\\t\")\n",
    "df_0DPA.columns = ['GeneId', 'CT1', 'CT2']\n",
    "df_5DPA.columns = ['GeneId', 'KD1', 'KD2']\n",
    "df_result = pd.merge(df_0DPA, df_5DPA, how='left', on=['GeneId'])\n",
    "df_result.to_csv(\"G:/Billfish/J668_multip_tissue_3D-genome/RNA_seq/reads/0DPA_vs_5DPA/0DPA_5DPA_reads.bed\", sep=\"\\t\", index=False)"
   ]
  },
  {
   "cell_type": "code",
   "execution_count": 49,
   "metadata": {},
   "outputs": [
    {
     "name": "stdout",
     "output_type": "stream",
     "text": [
      "9852\n"
     ]
    }
   ],
   "source": [
    "## 根据DESeq2 (0DPA vs 5DPA)所分析出的结果来找到5DPA 时期高表达的基因\n",
    "import pandas as pd\n",
    "df_DEG = pd.read_csv(\"G:/Billfish/J668_multip_tissue_3D-genome/RNA_seq/reads/0DPA_vs_5DPA/0DPA_5DPA_DEG.bed\", sep=\"\\t\")\n",
    "df_TPM = pd.read_csv(\"G:/Billfish/J668_multip_tissue_3D-genome/RNA_seq/expression_gene/J668_all_tissue_average_TPM.txt\", sep=\"\\t\")\n",
    "df_TAIR = pd.read_csv(\"G:/Billfish/J668_multip_tissue_3D-genome/RNA_seq/Gh_vs_Arabidopsis.txt\", names=['GeneId', 'TAIRID'], sep=\"\\t\")\n",
    "\n",
    "df_DEG_5DPA = df_DEG.query(\"sig=='Up'\")[['GeneId']].copy()\n",
    "print(df_DEG_5DPA.shape[0])\n",
    "df_5DPA_TPM = pd.merge(df_DEG_5DPA, df_TPM, how='left', on=['GeneId'])\n",
    "df_5DPA_exp_TPM = df_5DPA_TPM.query(\"fiber_5DPA>=0.5\")[['GeneId']].copy()\n",
    "df_5DPA_TAIR = pd.merge(df_5DPA_exp_TPM, df_TAIR, how='left', on=['GeneId'])\n",
    "#df_5DPA_TAIR.dropna(inplace=True)\n",
    "df_5DPA_TAIR.to_csv(\"G:/Billfish/J668_multip_tissue_3D-genome/RNA_seq/reads/0DPA_vs_5DPA/5DPA_high_TAIR.bed\", sep=\"\\t\", index=False)\n",
    "\n",
    "\n",
    "## 5DPA 上调基因在所有组织中的表达量\n",
    "df_TPM_long = pd.read_csv(\"G:/Billfish/J668_multip_tissue_3D-genome/RNA_seq/expression_gene/J668_all_tissue_average_TPM_long.txt\", sep=\"\\t\")\n",
    "df_5DPA_TPM2 = pd.merge(df_5DPA_TPM, df_TPM_long, how='left', on=['GeneId'])\n",
    "df_5DPA_TPM2.to_csv(\"G:/Billfish/J668_multip_tissue_3D-genome/RNA_seq/reads/0DPA_vs_5DPA/5DPA_up_all_tissue_TPM.bed\", sep=\"\\t\", index=False)\n",
    "\n",
    "\n",
    "## 5DPA 上调表达基因与TAU 所鉴定的组织特异高表达基因的overlap\n",
    "df_tau = pd.read_csv(\"G:/Billfish/J668_multip_tissue_3D-genome/RNA_seq/tau_gini/J668_tissue_special_gene.txt\", sep=\"\\t\")\n",
    "df_tau_5DPA = df_tau.query(\"tags=='fiber_5DPA'\")[['GeneId']]\n",
    "df_overlap = pd.merge(df_5DPA_TAIR, df_tau_5DPA, how='inner', on=['GeneId'])\n",
    "df_overlap.to_csv(\"G:/Billfish/J668_multip_tissue_3D-genome/RNA_seq/reads/0DPA_vs_5DPA/5DPA_up_tau_overlap_TAIR.bed\", sep=\"\\t\", index=False)"
   ]
  },
  {
   "cell_type": "code",
   "execution_count": 4,
   "metadata": {},
   "outputs": [],
   "source": [
    "# 将5DPA 和10DPA reads 合并\n",
    "import pandas as pd\n",
    "df_5DPA = pd.read_csv(\"G:/Billfish/J668_multip_tissue_3D-genome/RNA_seq/reads/fiber_5DPA/fiber_5DPA_reads.bed\", sep=\"\\t\")\n",
    "df_10DPA = pd.read_csv(\"G:/Billfish/J668_multip_tissue_3D-genome/RNA_seq/reads/fiber_10DPA/fiber_10DPA_reads.bed\", sep=\"\\t\")\n",
    "df_5DPA.columns = ['GeneId', 'DPA5_rep1', 'DPA5_rep2']\n",
    "df_10DPA.columns = ['GeneId', 'DPA10_rep1', 'DPA10_rep2']\n",
    "df_result = pd.merge(df_5DPA, df_10DPA, how='left', on=['GeneId'])\n",
    "df_result.to_csv(\"G:/Billfish/J668_multip_tissue_3D-genome/RNA_seq/reads/5DPA_vs_10DPA/5DPA_10DPA_reads.bed\", sep=\"\\t\", index=False)"
   ]
  },
  {
   "cell_type": "code",
   "execution_count": 9,
   "metadata": {},
   "outputs": [],
   "source": [
    "# 将10DPA 和20DPA reads 合并\n",
    "import pandas as pd\n",
    "df_10DPA = pd.read_csv(\"G:/Billfish/J668_multip_tissue_3D-genome/RNA_seq/reads/fiber_10DPA/fiber_10DPA_reads.bed\", sep=\"\\t\")\n",
    "df_20DPA = pd.read_csv(\"G:/Billfish/J668_multip_tissue_3D-genome/RNA_seq/reads/fiber_20DPA/fiber_20DPA_reads.bed\", sep=\"\\t\")\n",
    "df_10DPA.columns = ['GeneId', 'CT1', 'CT2']\n",
    "df_20DPA.columns = ['GeneId', 'DT1', 'DT2']\n",
    "df_result = pd.merge(df_10DPA, df_20DPA, how='left', on=['GeneId'])\n",
    "df_result.to_csv(\"G:/Billfish/J668_multip_tissue_3D-genome/RNA_seq/reads/10DPA_vs_20DPA/10DPA_20DPA_reads.bed\", sep=\"\\t\", index=False)"
   ]
  },
  {
   "cell_type": "code",
   "execution_count": 48,
   "metadata": {},
   "outputs": [
    {
     "name": "stdout",
     "output_type": "stream",
     "text": [
      "7135\n"
     ]
    }
   ],
   "source": [
    "## 根据DESeq2 (10DPA vs 20DPA)所分析出的结果来找到20DPA 时期高表达的基因\n",
    "import pandas as pd\n",
    "df_DEG = pd.read_csv(\"G:/Billfish/J668_multip_tissue_3D-genome/RNA_seq/reads/10DPA_vs_20DPA/10DPA_20DPA_DEG.bed\", sep=\"\\t\")\n",
    "df_TPM = pd.read_csv(\"G:/Billfish/J668_multip_tissue_3D-genome/RNA_seq/expression_gene/J668_all_tissue_average_TPM.txt\", sep=\"\\t\")\n",
    "df_TAIR = pd.read_csv(\"G:/Billfish/J668_multip_tissue_3D-genome/RNA_seq/Gh_vs_Arabidopsis.txt\", names=['GeneId', 'TAIRID'], sep=\"\\t\")\n",
    "\n",
    "df_DEG_20DPA = df_DEG.query(\"sig=='Up'\")[['GeneId']].copy()\n",
    "print(df_DEG_20DPA.shape[0])\n",
    "df_20DPA_TPM = pd.merge(df_DEG_20DPA, df_TPM, how='left', on=['GeneId'])\n",
    "df_20DPA_exp_TPM = df_20DPA_TPM.query(\"fiber_20DPA>=0.5\")[['GeneId']].copy()\n",
    "df_20DPA_TAIR = pd.merge(df_20DPA_exp_TPM, df_TAIR, how='left', on=['GeneId'])\n",
    "#df_20DPA_TAIR.dropna(inplace=True)\n",
    "df_20DPA_TAIR.to_csv(\"G:/Billfish/J668_multip_tissue_3D-genome/RNA_seq/reads/10DPA_vs_20DPA/20DPA_high_TAIR.bed\", sep=\"\\t\", index=False)\n",
    "\n",
    "## 20DPA 上调基因在所有组织中的表达量\n",
    "df_TPM_long = pd.read_csv(\"G:/Billfish/J668_multip_tissue_3D-genome/RNA_seq/expression_gene/J668_all_tissue_average_TPM_long.txt\", sep=\"\\t\")\n",
    "df_20DPA_TPM2 = pd.merge(df_20DPA_TPM, df_TPM_long, how='left', on=['GeneId'])\n",
    "df_20DPA_TPM2.to_csv(\"G:/Billfish/J668_multip_tissue_3D-genome/RNA_seq/reads/10DPA_vs_20DPA/20DPA_up_all_tissue_TPM.bed\", sep=\"\\t\", index=False)\n",
    "\n",
    "## 20DPA 上调表达基因与TAU 所鉴定的组织特异高表达基因的overlap\n",
    "df_tau = pd.read_csv(\"G:/Billfish/J668_multip_tissue_3D-genome/RNA_seq/tau_gini/J668_tissue_special_gene.txt\", sep=\"\\t\")\n",
    "df_tau_20DPA = df_tau.query(\"tags=='fiber_20DPA'\")[['GeneId']]\n",
    "df_overlap = pd.merge(df_20DPA_TAIR, df_tau_20DPA, how='inner', on=['GeneId'])\n",
    "df_overlap.to_csv(\"G:/Billfish/J668_multip_tissue_3D-genome/RNA_seq/reads/10DPA_vs_20DPA/20DPA_up_tau_overlap_TAIR.bed\", sep=\"\\t\", index=False)"
   ]
  },
  {
   "cell_type": "code",
   "execution_count": 47,
   "metadata": {},
   "outputs": [
    {
     "name": "stdout",
     "output_type": "stream",
     "text": [
      "4993\n"
     ]
    }
   ],
   "source": [
    "## 根据DESeq2 (5DPA vs 10DPA)所分析出的结果来找到5DPA 时期高表达的基因\n",
    "import pandas as pd\n",
    "df_DEG = pd.read_csv(\"G:/Billfish/J668_multip_tissue_3D-genome/RNA_seq/reads/5DPA_vs_10DPA/5DPA_10DPA_DEG.bed\", sep=\"\\t\")\n",
    "df_TPM = pd.read_csv(\"G:/Billfish/J668_multip_tissue_3D-genome/RNA_seq/expression_gene/J668_all_tissue_average_TPM.txt\", sep=\"\\t\")\n",
    "df_TAIR = pd.read_csv(\"G:/Billfish/J668_multip_tissue_3D-genome/RNA_seq/Gh_vs_Arabidopsis.txt\", names=['GeneId', 'TAIRID'], sep=\"\\t\")\n",
    "\n",
    "df_DEG_5DPA = df_DEG.query(\"sig=='Down'\")[['GeneId']].copy()\n",
    "df_5DPA_TPM = pd.merge(df_DEG_5DPA, df_TPM, how='left', on=['GeneId'])\n",
    "df_5DPA_exp_TPM = df_5DPA_TPM.query(\"fiber_5DPA>=0.5\")[['GeneId']].copy()\n",
    "df_5DPA_TAIR = pd.merge(df_5DPA_exp_TPM, df_TAIR, how='left', on=['GeneId'])\n",
    "df_5DPA_TAIR.to_csv(\"G:/Billfish/J668_multip_tissue_3D-genome/RNA_seq/reads/5DPA_vs_10DPA/5DPA_high_TAIR.bed\", sep=\"\\t\", index=False)\n",
    "\n",
    "df_DEG_10DPA = df_DEG.query(\"sig=='Up'\")[['GeneId']].copy()\n",
    "print(df_DEG_10DPA.shape[0])\n",
    "df_10DPA_TPM = pd.merge(df_DEG_10DPA, df_TPM, how='left', on=['GeneId'])\n",
    "#print(df_10DPA_TPM)\n",
    "df_10DPA_exp_TPM = df_10DPA_TPM.query(\"fiber_10DPA>=0.5\")[['GeneId']].copy()\n",
    "df_10DPA_TAIR = pd.merge(df_10DPA_exp_TPM, df_TAIR, how='left', on=['GeneId'])\n",
    "#df_10DPA_TAIR.dropna(inplace=True)\n",
    "df_10DPA_TAIR.to_csv(\"G:/Billfish/J668_multip_tissue_3D-genome/RNA_seq/reads/5DPA_vs_10DPA/10DPA_high_TAIR.bed\", sep=\"\\t\", index=False)\n",
    "\n",
    "## 10DPA 上调基因在所有组织中的表达量\n",
    "df_TPM_long = pd.read_csv(\"G:/Billfish/J668_multip_tissue_3D-genome/RNA_seq/expression_gene/J668_all_tissue_average_TPM_long.txt\", sep=\"\\t\")\n",
    "df_10DPA_TPM2 = pd.merge(df_10DPA_TPM, df_TPM_long, how='left', on=['GeneId'])\n",
    "df_10DPA_TPM2.to_csv(\"G:/Billfish/J668_multip_tissue_3D-genome/RNA_seq/reads/5DPA_vs_10DPA/10DPA_up_all_tissue_TPM.bed\", sep=\"\\t\", index=False)\n",
    "\n",
    "## 10DPA 上调表达基因与TAU 所鉴定的组织特异高表达基因的overlap\n",
    "df_tau = pd.read_csv(\"G:/Billfish/J668_multip_tissue_3D-genome/RNA_seq/tau_gini/J668_tissue_special_gene.txt\", sep=\"\\t\")\n",
    "df_tau_10DPA = df_tau.query(\"tags=='fiber_10DPA'\")[['GeneId']]\n",
    "df_overlap = pd.merge(df_10DPA_TAIR, df_tau_10DPA, how='inner', on=['GeneId'])\n",
    "df_overlap.to_csv(\"G:/Billfish/J668_multip_tissue_3D-genome/RNA_seq/reads/5DPA_vs_10DPA/10DPA_up_tau_overlap_TAIR.bed\", sep=\"\\t\", index=False)\n"
   ]
  },
  {
   "cell_type": "code",
   "execution_count": 53,
   "metadata": {},
   "outputs": [],
   "source": [
    "df_5DPA_up = pd.read_csv(\"G:/Billfish/J668_multip_tissue_3D-genome/RNA_seq/reads/0DPA_vs_5DPA/5DPA_high_TAIR.bed\", sep=\"\\t\")\n",
    "df_5DPA_down = pd.read_csv(\"G:/Billfish/J668_multip_tissue_3D-genome/RNA_seq/reads/5DPA_vs_10DPA/5DPA_high_TAIR.bed\", sep=\"\\t\")\n",
    "df = pd.merge(df_5DPA_up, df_5DPA_down, how='inner')\n",
    "df.to_csv(\"G:/Billfish/J668_multip_tissue_3D-genome/RNA_seq/reads/5DPA_vs_10DPA/5DPA_up_down_TAIR.bed\", sep=\"\\t\", index=False)"
   ]
  },
  {
   "cell_type": "code",
   "execution_count": 12,
   "metadata": {},
   "outputs": [],
   "source": [
    "## 根据DESeq2 (5DPA vs 20DPA)所分析出的结果来找到5DPA 时期高表达的基因, 并且与 5DPA vs 10DPA 中的结果取合集\n",
    "import pandas as pd\n",
    "df_DEG = pd.read_csv(\"G:/Billfish/J668_multip_tissue_3D-genome/RNA_seq/reads/5DPA_vs_20DPA/5DPA_20DPA_DEG.bed\", sep=\"\\t\")\n",
    "df_TPM = pd.read_csv(\"G:/Billfish/J668_multip_tissue_3D-genome/RNA_seq/expression_gene/J668_all_tissue_average_TPM.txt\", sep=\"\\t\")\n",
    "df_TAIR = pd.read_csv(\"G:/Billfish/J668_multip_tissue_3D-genome/RNA_seq/Gh_vs_Arabidopsis.txt\", names=['GeneId', 'TAIRID'], sep=\"\\t\")\n",
    "df_DEG_5DPA = df_DEG.query(\"sig=='Down'\")[['GeneId']].copy()\n",
    "df_5DPA_TPM = pd.merge(df_DEG_5DPA, df_TPM, how='left', on=['GeneId'])\n",
    "df_5DPA_exp_TPM = df_5DPA_TPM.query(\"fiber_5DPA>=0.5\")[['GeneId']].copy()\n",
    "##与 5DPA vs 10DPA 中 5DPA 高表达基因结果取合集\n",
    "df_5DPA_high_10DPA = pd.read_csv(\"G:/Billfish/J668_multip_tissue_3D-genome/RNA_seq/reads/5DPA_vs_10DPA/5DPA_high_TAIR.bed\", sep=\"\\t\")\n",
    "df_5DPA_high_10DPA_gene = df_5DPA_high_10DPA[['GeneId']]\n",
    "df_5DPA_uniq = pd.merge(df_5DPA_high_10DPA_gene, df_5DPA_exp_TPM, how='outer', on=['GeneId'])\n",
    "df_5DPA_TAIR = pd.merge(df_5DPA_uniq, df_TAIR, how='left', on=['GeneId'])\n",
    "df_5DPA_TAIR.to_csv(\"G:/Billfish/J668_multip_tissue_3D-genome/RNA_seq/reads/5DPA_vs_20DPA/5DPA_high_uniq.bed\", sep=\"\\t\", index=False)"
   ]
  },
  {
   "cell_type": "code",
   "execution_count": 37,
   "metadata": {},
   "outputs": [
    {
     "data": {
      "image/png": "[encoded data removed]",
      "text/plain": [
       "<Figure size 432x288 with 1 Axes>"
      ]
     },
     "metadata": {
      "needs_background": "light"
     },
     "output_type": "display_data"
    }
   ],
   "source": [
    "import matplotlib.pyplot as plt\n",
    "import seaborn as sns\n",
    "import pandas as pd\n",
    "df = pd.read_csv(\"G:/Billfish/J668_multip_tissue_3D-genome/RNA_seq/tau_gini/cotton_human_mouse_tau.txt\", sep=\"\\t\")\n",
    "df_cotton = df.query(\"TAU>=0.01 & species=='cotton'\").copy()\n",
    "df_mouse = df.query(\"species=='mouse'\").copy()\n",
    "df_human = df.query(\"species=='human'\").copy()\n",
    "sns.kdeplot(data=df_cotton[\"TAU\"])\n",
    "ax = sns.kdeplot(data=df_mouse['TAU'])\n",
    "ax = sns.kdeplot(data=df_human['TAU'])\n",
    "plt.legend(labels=['cotton', 'mouse', 'human'])\n",
    "plt.savefig(\"G:/Billfish/J668_multip_tissue_3D-genome/RNA_seq/tau_gini/cotton_human_mouse_tau.pdf\", )"
   ]
  },
  {
   "cell_type": "code",
   "execution_count": 40,
   "metadata": {},
   "outputs": [
    {
     "name": "stdout",
     "output_type": "stream",
     "text": [
      "14953\n"
     ]
    }
   ],
   "source": [
    "df = pd.read_csv(\"G:/Billfish/J668_multip_tissue_3D-genome/RNA_seq/tau_gini/J668_tau.txt\", sep=\"\\t\")\n",
    "df_tissue = df.query(\"TAU>=0.85\")\n",
    "print(df_tissue.shape[0])"
   ]
  },
  {
   "cell_type": "code",
   "execution_count": 2,
   "metadata": {},
   "outputs": [],
   "source": [
    "## 选出TAU>=0.85 的基因选出，并zscore标准化，之后用umap 降维聚类处理\n",
    "import pandas as pd\n",
    "import umap.umap_ as umap\n",
    "from sklearn.preprocessing import StandardScaler\n",
    "df_TAU = pd.read_csv(\"G:/Billfish/J668_multip_tissue_3D-genome/RNA_seq/tau_gini/J668_tau.txt\", sep=\"\\t\")\n",
    "df_TPM = pd.read_csv(\"G:/Billfish/J668_multip_tissue_3D-genome/RNA_seq/expression_gene/J668_all_tissue_average_TPM.txt\", sep=\"\\t\")\n",
    "df_zscore = pd.read_csv(\"G:/Billfish/J668_multip_tissue_3D-genome/RNA_seq/Standard_deviation/J668_all_tissue_average_TPM_zscore.txt\", sep=\"\\t\")\n",
    "tissues = ['anthers', 'cotyledon', 'ovules',  'hypocotyl', 'leaf', 'petals', 'radicle', 'root', 'stem', 'stigma', 'fiber_5DPA', 'fiber_10DPA', 'fiber_20DPA']\n",
    "#* choose tissue special gene (TAU>=0.85)\n",
    "df_TAU_tissue = df_TAU.query(\"TAU>=0.85\")[['GeneId']].copy()\n",
    "df_tissue_zscore = pd.merge(df_TAU_tissue, df_zscore, how='left', on=['GeneId'])\n",
    "#df_tissue_TPM = pd.merge(df_TAU_tissue, df_TPM, how='left', on=['GeneId'])\n",
    "df_tissue_TPM = pd.merge(df_TAU_tissue, df_tissue_zscore, how='left', on=['GeneId'])\n",
    "max_tag = df_tissue_TPM[tissues].idxmax(axis=1)\n",
    "df_tissue_TPM['max_tpm'] = max_tag\n",
    "#* standard by umap\n",
    "reducer = umap.UMAP()\n",
    "# #data = df_tissue_zscore[['anthers', 'cotyledon', 'ovules',  'hypocotyl', 'leaf', 'petals', 'radicle', 'root', 'stem', 'stigma', 'fiber_5DPA', 'fiber_10DPA', 'fiber_20DPA']]#\n",
    "# #df_TAU_tissue = df_TAU.query(\"TAU>=0.85\")\n",
    "data = df_tissue_TPM[['anthers', 'cotyledon', 'ovules',  'hypocotyl', 'leaf', 'petals', 'radicle', 'root', 'stem', 'stigma', 'fiber_5DPA', 'fiber_10DPA', 'fiber_20DPA']]\n",
    "# #print(data)\n",
    "scaled_penguin_data = StandardScaler().fit_transform(data)\n",
    "embedding = reducer.fit_transform(scaled_penguin_data)\n",
    "df_umap = pd.DataFrame(embedding, columns =['umap1', 'umap2'])\n",
    "df_result = pd.concat([df_tissue_TPM, df_umap], axis = 1)\n",
    "#df_result.to_csv(\"G:/Billfish/J668_multip_tissue_3D-genome/RNA_seq/tau_gini/umap/J668_TAU_umap.bed\", sep=\"\\t\", index=False)\n",
    "#df_result.to_csv(\"G:/Billfish/J668_multip_tissue_3D-genome/RNA_seq/tau_gini/umap/J668_TAU_umap_zscore.bed\", sep=\"\\t\", index=False)"
   ]
  },
  {
   "cell_type": "code",
   "execution_count": 5,
   "metadata": {},
   "outputs": [],
   "source": [
    "tissues = ['anthers', 'cotyledon', 'ovules',  'hypocotyl', 'leaf', 'petal', 'radicle', 'root', 'stem', 'stigma', 'fiber_5DPA', 'fiber_10DPA', 'fiber_20DPA']\n",
    "for t in tissues:\n",
    "    input_f = \"G:/Billfish/J668_multip_tissue_3D-genome/HiC/compartment/CALDER2/adjust_direact/{}_cpt_adjust.bed\".format(t)\n",
    "    df = pd.read_csv(input_f, sep=\" \")\n",
    "    df.to_csv(input_f, sep=\"\\t\" , index=False)\n"
   ]
  },
  {
   "cell_type": "code",
   "execution_count": 1,
   "metadata": {},
   "outputs": [
    {
     "name": "stdout",
     "output_type": "stream",
     "text": [
      "anthers 2964\n",
      "cotyledon 932\n",
      "ovules 2524\n",
      "hypocotyl 707\n",
      "leaf 917\n",
      "petals 655\n",
      "radicle 1658\n",
      "root 1924\n",
      "stem 572\n",
      "stigma 737\n",
      "fiber_5DPA 474\n",
      "fiber_10DPA 374\n",
      "fiber_20DPA 515\n"
     ]
    }
   ],
   "source": [
    "# 将组织特异性基因选出，并绘制热图\n",
    "import pandas as pd\n",
    "import numpy as np\n",
    "df_TAU = pd.read_csv(\"G:/Billfish/J668_multip_tissue_3D-genome/RNA_seq/tau_gini/J668_tau.txt\", sep=\"\\t\")\n",
    "df_zscore = pd.read_csv(\"G:/Billfish/J668_multip_tissue_3D-genome/RNA_seq/Standard_deviation/J668_all_tissue_average_TPM_zscore.txt\", sep=\"\\t\")\n",
    "tissues = ['anthers', 'cotyledon', 'ovules',  'hypocotyl', 'leaf', 'petals', 'radicle', 'root', 'stem', 'stigma', 'fiber_5DPA', 'fiber_10DPA', 'fiber_20DPA']\n",
    "df_special_gene = df_TAU.query(\"TAU>=0.85\")[['GeneId']].copy()\n",
    "df_special_zscore = pd.merge(df_special_gene, df_zscore, how='left', on='GeneId')\n",
    "df_special_zscore['tags'] = df_special_zscore[tissues].idxmax(axis=1)\n",
    "\n",
    "## 将值调整为-1到1之间，方便作图配色及比较\n",
    "df_tissues_normal = pd.DataFrame(columns = ['GeneId', 'anthers', 'cotyledon', 'ovules',  'hypocotyl', 'leaf', 'petals', 'radicle', 'root', 'stem', 'stigma', 'fiber_5DPA', 'fiber_10DPA', 'fiber_20DPA', 'tags'])\n",
    "def Normalization2(x):\n",
    "    return [(float(i)-np.mean(x))/(max(x)-min(x)) for i in x]\n",
    "for index, row in df_special_zscore.iterrows():\n",
    "    data = row[tissues]\n",
    "    geneid , tags = [row['GeneId']], [row['tags']]\n",
    "    #print(data)\n",
    "    data_normal = Normalization2(data)\n",
    "    row_new = geneid + data_normal + tags\n",
    "    df_tissues_normal.loc[index,] = row_new\n",
    "for t in tissues:\n",
    "    #df_tissues = df_special_zscore.query(\"tags==@t\")\n",
    "    df_tissues = df_tissues_normal.query(\"tags==@t\")\n",
    "    print(t, df_tissues.shape[0])\n",
    "    output_f = \"G:/Billfish/J668_multip_tissue_3D-genome/RNA_seq/tau_gini/tissues_zscore/{}_zscore_normal.bed\".format(t)\n",
    "    df_tissues.to_csv(output_f, sep=\"\\t\", index=False, columns=['GeneId', 'anthers', 'leaf', 'hypocotyl', 'cotyledon',  'stem', 'ovules', 'root', 'radicle',  'fiber_20DPA', 'fiber_5DPA', 'fiber_10DPA',  'petals', 'stigma'])"
   ]
  },
  {
   "cell_type": "code",
   "execution_count": 2,
   "metadata": {},
   "outputs": [],
   "source": [
    "# 组织特异性基因(TAU>=0.85)的TPM\n",
    "import pandas as pd\n",
    "df_tau = pd.read_csv(\"G:/Billfish/J668_multip_tissue_3D-genome/RNA_seq/tau_gini/J668_tau.txt\", sep=\"\\t\")\n",
    "df_tpm = pd.read_csv(\"G:/Billfish/J668_multip_tissue_3D-genome/RNA_seq/expression_gene/J668_all_tissue_average_TPM.txt\", sep=\"\\t\")\n",
    "df_tissue_gene = df_tau.query(\"TAU>=0.85\")[['chr', 'start', 'end', 'GeneId']]\n",
    "df_tissue_tpm = pd.merge(df_tissue_gene, df_tpm, how='left', on=['GeneId'])\n",
    "tissues = ['anthers', 'cotyledon', 'ovules',  'hypocotyl', 'leaf', 'petals', 'radicle', 'root', 'stem', 'stigma', 'fiber_5DPA', 'fiber_10DPA', 'fiber_20DPA']\n",
    "df_tissue_tpm['tags'] = df_tissue_tpm[tissues].idxmax(axis=1)\n",
    "df_tissue_tpm.to_csv(\"G:/Billfish/J668_multip_tissue_3D-genome/RNA_seq/tau_gini/J668_tissue_special_gene.txt\", sep=\"\\t\", index=False)"
   ]
  },
  {
   "cell_type": "code",
   "execution_count": 4,
   "metadata": {},
   "outputs": [],
   "source": [
    "## 给所有基因打上TAU最大值的特定组织标签\n",
    "import pandas as pd\n",
    "df_tau = pd.read_csv(\"G:/Billfish/J668_multip_tissue_3D-genome/RNA_seq/tau_gini/J668_tau.txt\", sep=\"\\t\")\n",
    "tissues = ['Anther', 'Cotyledon', 'Ovule',  'Hypocotyl', 'Leaf', 'Petal', 'Radicle', 'Root', 'Stem', 'Stigma', 'Fiber_5DPA', 'Fiber_10DPA', 'Fiber_20DPA']\n",
    "df_tau['TAU_Tags'] = df_tau[tissues].idxmax(axis=1)\n",
    "df_tau.to_csv(\"G:/Billfish/J668_multip_tissue_3D-genome/RNA_seq/tau_gini/J668_tau_tags.txt\", sep=\"\\t\", index=False)"
   ]
  },
  {
   "cell_type": "code",
   "execution_count": 40,
   "metadata": {},
   "outputs": [
    {
     "name": "stdout",
     "output_type": "stream",
     "text": [
      "0.1952770208900999 0.24931799312062625\n",
      "0.22559852670349909 0.22350057328114498\n",
      "0.1695886716115981 0.18653382358755388\n",
      "0.21993127147766323 0.20258569564701695\n",
      "0.22554347826086957 0.21069070493812517\n",
      "0.3096129837702871 0.2697584311864943\n",
      "0.14606741573033707 0.15055548966117108\n",
      "0.21511627906976744 0.20748823785237022\n",
      "0.21112696148359486 0.2123117067963468\n",
      "0.3153252480705623 0.25924168742339776\n",
      "0.16610169491525423 0.10663029296643341\n",
      "0.25213675213675213 0.19013165698019216\n",
      "0.2476489028213166 0.1923457082987388\n"
     ]
    }
   ],
   "source": [
    "# 分析组织特异性基因是否偏好bias表达\n",
    "import pandas as pd\n",
    "df_TSG = pd.read_csv(\"G:/Billfish/J668_multip_tissue_3D-genome/RNA_seq/tau_gini/J668_tissue_special_gene.txt\", sep=\"\\t\")\n",
    "df_bias = pd.read_csv(\"G:/Billfish/J668_multip_tissue_3D-genome/RNA_seq/homo_gene2/gene_bias/all_tissue_bias_gene_pair.bed\", sep=\"\\t\")\n",
    "df_hg_pair = pd.read_csv(\"G:/Billfish/J668_multip_tissue_3D-genome/RNA_seq/homo_gene2/all_homo_gene_pairs_position.txt\", sep=\"\\t\")\n",
    "df_hg_pair.drop_duplicates(keep='first', inplace=True, subset=['geneid_dt'])\n",
    "tissues = ['anthers', 'cotyledon', 'ovules',  'hypocotyl', 'leaf', 'petals', 'radicle', 'root', 'stem', 'stigma', 'fiber_5DPA', 'fiber_10DPA', 'fiber_20DPA']\n",
    "for t in tissues:\n",
    "    df_TSG_tissues = df_TSG.query(\"tags==@t\")[['GeneId']].copy()\n",
    "    df_bias_tissues = df_bias.query(\"tags==@t\").copy()\n",
    "    # 分析组织特异性表达的基因包含多少同源基因对\n",
    "    df_TSG_tissues.columns = ['geneid_at']\n",
    "    #print(df_TSG_tissues.shape[0])\n",
    "    df_a1 = pd.merge(df_TSG_tissues, df_hg_pair, how='left', on=['geneid_at'])\n",
    "    df_TSG_tissues.columns = ['geneid_dt']\n",
    "    df_d1 = pd.merge(df_TSG_tissues, df_hg_pair, how='inner', on=['geneid_dt'])\n",
    "    df_ab1 = pd.concat([df_a1, df_d1], axis=0)\n",
    "    df_ab1.drop_duplicates(keep='first', inplace=True)\n",
    "    #print(df_ab1.shape[0])\n",
    "    # 分析有多少组织特异性表达的同源基因对 具有表达bias\n",
    "    df_TSG_tissues.columns = ['geneid_at']\n",
    "    df_a = pd.merge(df_bias_tissues, df_TSG_tissues, how='inner', on=['geneid_at'])\n",
    "    df_TSG_tissues.columns = ['geneid_dt']\n",
    "    df_d = pd.merge(df_bias_tissues, df_TSG_tissues, how='inner', on=['geneid_dt'])\n",
    "    df_ab = pd.concat([df_a, df_d], axis=0)\n",
    "    df_ab.drop_duplicates(keep='first', inplace=True)\n",
    "    # print(df_ab.shape[0], df_TSG_tissues.shape[0], df_bias_tissues.shape[0], 25293)\n",
    "    # print(df_ab.shape[0]/((df_TSG_tissues.shape[0])/2), df_ab.shape[0]/df_bias_tissues.shape[0], df_bias_tissues.shape[0]/25293)\n",
    "    print(df_ab.shape[0]/df_ab1.shape[0], df_bias_tissues.shape[0]/25293)"
   ]
  },
  {
   "cell_type": "code",
   "execution_count": 6,
   "metadata": {},
   "outputs": [],
   "source": [
    "## 将组织特异性基因中同源高表达基因写到文件中, 包含Bias 基因ID， 拟南芥ID， bias类型，特异性表达组织\n",
    "import pandas as pd\n",
    "df_TSG = pd.read_csv(\"G:/Billfish/J668_multip_tissue_3D-genome/RNA_seq/tau_gini/J668_tissue_special_gene.txt\", sep=\"\\t\")\n",
    "df_bias = pd.read_csv(\"G:/Billfish/J668_multip_tissue_3D-genome/RNA_seq/homo_gene2/gene_bias/all_tissue_bias_gene_pair.bed\", sep=\"\\t\")\n",
    "tissues = ['anthers', 'cotyledon', 'ovules',  'hypocotyl', 'leaf', 'petals', 'radicle', 'root', 'stem', 'stigma', 'fiber_5DPA', 'fiber_10DPA', 'fiber_20DPA']\n",
    "df_hg_tair = pd.read_csv(\"G:/Billfish/J668_multip_tissue_3D-genome/RNA_seq/Gh_vs_Arabidopsis.txt\", sep=\"\\t\", names = ['GeneId', 'TAIRID'])\n",
    "df_result = pd.DataFrame()\n",
    "for t in tissues:\n",
    "    df_TSG_tissues = df_TSG.query(\"tags==@t\")[['GeneId']].copy()\n",
    "    df_bias_tissues = df_bias.query(\"tags==@t\").copy()\n",
    "    # 分析有多少组织特异性表达的同源基因对 具有表达bias\n",
    "    df_TSG_tissues.columns = ['geneid_at']\n",
    "    df_a = pd.merge(df_bias_tissues, df_TSG_tissues, how='inner', on=['geneid_at'])\n",
    "    df_TSG_tissues.columns = ['geneid_dt']\n",
    "    df_d = pd.merge(df_bias_tissues, df_TSG_tissues, how='inner', on=['geneid_dt'])\n",
    "    df_ab = pd.concat([df_a, df_d], axis=0)\n",
    "    df_ab.drop_duplicates(keep='first', inplace=True)\n",
    "    # 将同源bias基因高表达选出\n",
    "    df_biasA = df_ab.query(\"sig=='BiasA'\")[['geneid_at', 'sig', 'tags']].copy()\n",
    "    df_biasD = df_ab.query(\"sig=='BiasD'\")[['geneid_at', 'sig', 'tags']].copy()\n",
    "    # 找到对应的拟南芥ID\n",
    "    df_biasA.columns = ['GeneId', 'bias', 'tissue']\n",
    "    df_biasD.columns = ['GeneId', 'bias', 'tissue']\n",
    "    df_biasA = pd.merge(df_hg_tair, df_biasA, how='inner', on=['GeneId'])\n",
    "    df_biasD = pd.merge(df_hg_tair, df_biasD, how='inner', on=['GeneId'])\n",
    "    df_result = pd.concat([df_result, df_biasA, df_biasD], axis=0)\n",
    "    df_result.dropna(inplace=True)\n",
    "df_result.to_csv(\"G:/Billfish/J668_multip_tissue_3D-genome/RNA_seq/tau_gini/tissues_Go/At_Dt_bias/TSG_hig_bias_tair.bed\", sep='\\t', index=False)\n",
    "\n"
   ]
  },
  {
   "cell_type": "code",
   "execution_count": 10,
   "metadata": {},
   "outputs": [],
   "source": [
    "# 对于组织特异性表达基因找到对应的拟南芥基因ID\n",
    "import pandas as pd\n",
    "df_tau  = pd.read_csv('G:/Billfish/J668_multip_tissue_3D-genome/RNA_seq/tau_gini/J668_tissue_special_gene.txt', sep=\"\\t\")\n",
    "df_tair = pd.read_csv('G:/Billfish/J668_multip_tissue_3D-genome/RNA_seq/Gh_vs_Arabidopsis.txt', sep=\"\\t\", names=['GeneId', 'TAIR_ID'])\n",
    "df_result = pd.merge(df_tau, df_tair, how='left', on='GeneId')\n",
    "df_result.dropna(inplace=True)\n",
    "tissues = ['anthers', 'cotyledon', 'ovules',  'hypocotyl', 'leaf', 'petals', 'radicle', 'root', 'stem', 'stigma', 'fiber_5DPA', 'fiber_10DPA', 'fiber_20DPA']\n",
    "for t in tissues:\n",
    "    output_f     = \"G:/Billfish/J668_multip_tissue_3D-genome/RNA_seq/tau_gini/tissues_Go_funset/{}_funset.bed\".format(t)\n",
    "    df_tissues   = df_result.query(\"tags==@t\")[['TAIR_ID']].copy()\n",
    "    df_tissues_T = df_tissues.T\n",
    "    df_tissues_T.to_csv(output_f, sep=',', index=False, header=False)\n",
    "df_result.to_csv(\"G:/Billfish/J668_multip_tissue_3D-genome/RNA_seq/tau_gini/tissues_Go/TSG_TAIRID.bed\", sep='\\t', columns=['GeneId', 'TAIR_ID', 'tags'], index=False)"
   ]
  },
  {
   "cell_type": "code",
   "execution_count": 14,
   "metadata": {},
   "outputs": [
    {
     "name": "stdout",
     "output_type": "stream",
     "text": [
      "578 2719 578\n"
     ]
    }
   ],
   "source": [
    "## 将TAU>=0.85的基因，用特征基因在特征组织中的表达高于其它所有组织两倍以上来筛选petal的特征基因\n",
    "df_TSG = pd.read_csv(\"G:/Billfish/J668_multip_tissue_3D-genome/RNA_seq/tau_gini/tissues_Go/TSG_TAIRID.bed\", sep=\"\\t\")\n",
    "df_2fc = pd.read_csv(\"G:/Billfish/J668_multip_tissue_3D-genome/RNA_seq/tissue_uniq_exp_gene/all_tissue_expgene_ge_2_Atid.txt\", sep=\"\\t\")\n",
    "df_TSG_tissue = df_TSG.query(\"tags=='petals'\").copy()\n",
    "df_2fc_tissue = df_2fc.query(\"second_idx=='petals'\")[['GeneId']].copy()\n",
    "df_petal_TSG_2FC = pd.merge(df_TSG_tissue, df_2fc_tissue, how='left')\n",
    "print(df_TSG_tissue.shape[0], df_2fc_tissue.shape[0], df_petal_TSG_2FC.shape[0])"
   ]
  },
  {
   "cell_type": "code",
   "execution_count": 25,
   "metadata": {},
   "outputs": [],
   "source": [
    "## 将Go term转换为所需要的文件格式\n",
    "import pandas as pd\n",
    "df = pd.read_csv(\"G:/Billfish/J668_multip_tissue_3D-genome/RNA_seq/Go_annotation/HZAU_TM-1_GO_list.txt\", sep='\\t', names=['geneid', 'go'])\n",
    "df_result = pd.DataFrame(columns=['geneid', 'go'])\n",
    "for index , row in df.iterrows():\n",
    "    go_list = row['go'].split(',')\n",
    "    geneid_list = [row['geneid']]*len(go_list)\n",
    "    df_tmp = pd.DataFrame({'geneid':geneid_list, 'go':go_list})\n",
    "    df_result = pd.concat([df_result, df_tmp], axis=0)\n",
    "df_result.to_csv(\"G:/Billfish/J668_multip_tissue_3D-genome/RNA_seq/Go_annotation/Ghir_Go.annot\", sep=\"\\t\", index=False)"
   ]
  },
  {
   "cell_type": "code",
   "execution_count": 9,
   "metadata": {},
   "outputs": [
    {
     "name": "stderr",
     "output_type": "stream",
     "text": [
      "PandasGUI INFO — pandasgui.gui — Opening PandasGUI\n"
     ]
    }
   ],
   "source": [
    "import pandas as pd\n",
    "df = pd.read_csv(\"G:/Billfish/J668_multip_tissue_3D-genome/RNA_seq/tau_gini/tissues_Go/petal_ljy/petal_BP_go.bed\", sep=\"\\t\", names=['Go','Enrich', 'Ontology', ' Description', 'Number', 'p-value', 'Genes', 'FDR'])\n",
    "df_choose = df.query(\"FDR<=0.05\")\n",
    "df_choose.to_csv(\"G:/Billfish/J668_multip_tissue_3D-genome/RNA_seq/tau_gini/tissues_Go/petal_ljy/petal_BP_GO_0.05.bed\", sep=\"\\t\", index=False)"
   ]
  },
  {
   "cell_type": "code",
   "execution_count": 16,
   "metadata": {},
   "outputs": [],
   "source": [
    "import pandas as pd\n",
    "df = pd.read_csv(\"G:/Billfish/J668_multip_tissue_3D-genome/RNA_seq/tau_gini/tissues_Go/fiber_5DPA_10DPA/fiber_5DPA_BP.bed\", sep=\"\\t\", names=['Go','Enrich', 'Ontology', ' Description', 'Number', 'p-value', 'Genes', 'FDR'])\n",
    "df_choose = df.query(\"FDR<=0.05\")\n",
    "df_choose.to_csv(\"G:/Billfish/J668_multip_tissue_3D-genome/RNA_seq/tau_gini/tissues_Go/fiber_5DPA_10DPA/fiber_5DPA_BP_GO_0.05.bed\", sep=\"\\t\", index=False)"
   ]
  },
  {
   "cell_type": "code",
   "execution_count": 15,
   "metadata": {},
   "outputs": [],
   "source": [
    "## 将纤维的Go terms数据合并起来\n",
    "import pandas as pd\n",
    "df_0DPA = pd.read_csv(\"G:/Billfish/J668_multip_tissue_3D-genome/RNA_seq/tau_gini/tissues_Go/ovules_GO.bed\", sep=\"\\t\")\n",
    "df_5DPA = pd.read_csv(\"G:/Billfish/J668_multip_tissue_3D-genome/RNA_seq/reads/0DPA_vs_5DPA/5DPA_high_Go.bed\", sep=\"\\t\")\n",
    "df_10DPA = pd.read_csv(\"G:/Billfish/J668_multip_tissue_3D-genome/RNA_seq/reads/5DPA_vs_10DPA/10DPA_high_Go.bed\", sep=\"\\t\")\n",
    "df_20DPA = pd.read_csv(\"G:/Billfish/J668_multip_tissue_3D-genome/RNA_seq/reads/10DPA_vs_20DPA/20DPA_high_Go.bed\", sep=\"\\t\")\n",
    "\n",
    "df_0DPA['tags'] = ['0DPA']*df_0DPA.shape[0]\n",
    "df_5DPA['tags'] = ['5DPA']*df_5DPA.shape[0]\n",
    "df_10DPA['tags'] = ['10DPA']*df_10DPA.shape[0]\n",
    "df_20DPA['tags'] = ['20DPA']*df_20DPA.shape[0]\n",
    "df = pd.concat([df_0DPA, df_5DPA, df_10DPA, df_20DPA], ignore_index=True)\n",
    "df.drop_duplicates(keep='first', subset=['ID'])\n",
    "df.to_csv(\"G:/Billfish/J668_multip_tissue_3D-genome/RNA_seq/tau_gini/tissues_Go/0DPA_5DPA_10DPA_20DPA/fiber_development_DPA.bed\", sep=\"\\t\", index=False)"
   ]
  },
  {
   "cell_type": "code",
   "execution_count": 50,
   "metadata": {},
   "outputs": [
    {
     "name": "stdout",
     "output_type": "stream",
     "text": [
      "222\n"
     ]
    }
   ],
   "source": [
    "# 对Fiber_0DPA 5DPA 10DPA 和20DPA 的数据 matrix 转变为网络\n",
    "## 从Go term 到networkx\n",
    "#! 1、用GOSemSim 来分析Go term 的相似性 并用simpleEnrichment来聚类\n",
    "#! 2、用相似性程度作为权重，构造互作网络\n",
    "#! 3、构建节点的描述信息\n",
    "\n",
    "#! 2 将矩阵转换为网络格式\n",
    "def matrix_To_net(df1, df2):\n",
    "    id_list = df2['ID'].tolist()\n",
    "    df_return = pd.DataFrame(columns=['source', 'target', 'weight'])\n",
    "    list_len = len(id_list)\n",
    "    for i in range(list_len):\n",
    "        for j in range(i+1, list_len ):\n",
    "            s = id_list[i]\n",
    "            t = id_list[j]\n",
    "            w = df1.loc[s, t]\n",
    "            df_return.loc[df_return.shape[0]] = [s, t, w]\n",
    "    df_return = df_return.query(\"weight>=0.1\").copy()\n",
    "    df_return['Type'] = ['Undirected']*df_return.shape[0]\n",
    "    return df_return\n",
    "\n",
    "## 添加节点描述信息\n",
    "def node_descriptions(df1, df2):\n",
    "    df2 = df2[['ID', 'Description']].copy()\n",
    "    df2.drop_duplicates(keep='first', subset=['ID'], inplace=True)\n",
    "    df_5DPA = pd.read_csv('G:/Billfish/J668_multip_tissue_3D-genome/RNA_seq/reads/0DPA_vs_5DPA/5DPA_high_Go.bed', sep=\"\\t\")\n",
    "    df_10DPA = pd.read_csv('G:/Billfish/J668_multip_tissue_3D-genome/RNA_seq/reads/5DPA_vs_10DPA/10DPA_high_Go.bed', sep=\"\\t\")\n",
    "    df_20DPA = pd.read_csv('G:/Billfish/J668_multip_tissue_3D-genome/RNA_seq/reads/10DPA_vs_20DPA/20DPA_high_Go.bed', sep=\"\\t\")\n",
    "    df_5DPA = df_5DPA[['ID']].copy()\n",
    "    df_10DPA = df_10DPA[['ID']].copy()\n",
    "    df_20DPA = df_20DPA[['ID']].copy()\n",
    "    df_5DPA['DPA5'], df_10DPA['DPA10'], df_20DPA['DPA20'] = ['Yes']*df_5DPA.shape[0], ['Yes']*df_10DPA.shape[0], ['Yes']*df_20DPA.shape[0]\n",
    "    df1 = pd.merge(df1, df_5DPA, how='left', on=['ID'])\n",
    "    df1 = pd.merge(df1, df_10DPA, how='left', on=['ID'])\n",
    "    df1 = pd.merge(df1, df_20DPA, how='left', on=['ID'])\n",
    "    df1.fillna(\"No\", inplace=True)\n",
    "    df_return = pd.merge(df1, df2, how='left', on=['ID'])\n",
    "    print(df_return.shape[0])\n",
    "    return df_return\n",
    "\n",
    "## 给出每个簇前三个最具有代表性的 Go_terms\n",
    "# df1 表示节点描述信息\n",
    "# df2 表示Go terms 相似矩阵\n",
    "# N 表示需要对多少个cliques 进行分析\n",
    "def std_top3(df1, df2, N):\n",
    "    df_return = pd.DataFrame()\n",
    "    df_tmp2 = pd.DataFrame()\n",
    "    #print(df2.head())\n",
    "\n",
    "    for i in range(N):\n",
    "        j = i+1 # 类是从1 开始\n",
    "        go_id = df2.query(\"cluster==@j\")['ID'].tolist()\n",
    "        df_cluster_sim = df1.loc[go_id, go_id].copy()\n",
    "        df_cluster_sim['std'] = df_cluster_sim.std(axis=1)\n",
    "        df_cluster_sim.reset_index(drop=False, inplace=True)\n",
    "        df_cluster_sim.sort_values(by=['std'], inplace=True)\n",
    "        # 选择标准差最小的三个Go terms\n",
    "        \n",
    "        df_std_top3 = df_cluster_sim.tail(N)[['index']].copy()\n",
    "        df_std_top3.columns = ['ID']\n",
    "        # print(df_std_top3)\n",
    "        # print(df2)\n",
    "        df_tmp = pd.merge(df_std_top3, df2, how='left', on=['ID'])\n",
    "        df_tmp['cluster'] = [j]*df_tmp.shape[0]\n",
    "        #print(df_tmp)\n",
    "        df_return = pd.concat([df_return, df_tmp], axis=0)\n",
    "        ## 给结点打上std 标签\n",
    "        df_cluster_sim = df_cluster_sim[['index', 'std']]\n",
    "        if df_tmp2.shape[0] == 0:\n",
    "            df_tmp2 = df_cluster_sim.copy()\n",
    "        else:\n",
    "            df_tmp2 = pd.concat([df_tmp2, df_cluster_sim], axis=0)\n",
    "    df_tmp2 = df_tmp2[['index', 'std']]\n",
    "    df_tmp2.columns = ['ID', 'std']\n",
    "    df2 = pd.merge(df2, df_tmp2, how='left', on=['ID'])\n",
    "    df2.sort_values(by=['cluster', 'std'], ascending=(True, False), inplace=True)\n",
    "    #print(df2)\n",
    "    return df2, df_return   \n",
    "\n",
    "\n",
    "# BF 1 min\n",
    "df_GoCluster  = pd.read_csv(\"G:/Billfish/J668_multip_tissue_3D-genome/RNA_seq/tau_gini/tissues_Go/0DPA_5DPA_10DPA_20DPA/fiber_development_DPA_cluster.bed\", sep=\"\\t\")\n",
    "df_GoSimilar  = pd.read_csv(\"G:/Billfish/J668_multip_tissue_3D-genome/RNA_seq/tau_gini/tissues_Go/0DPA_5DPA_10DPA_20DPA/fiber_development_DPA_similar.csv\", index_col=0)\n",
    "df_GoDescript = pd.read_csv(\"G:/Billfish/J668_multip_tissue_3D-genome/RNA_seq/tau_gini/tissues_Go/0DPA_5DPA_10DPA_20DPA/fiber_development_DPA.bed\", sep='\\t')\n",
    "\n",
    "# Go term 相似性网络\n",
    "#df_net   = matrix_To_net(df_GoSimilar, df_GoCluster)\n",
    "df_node  = node_descriptions(df_GoCluster, df_GoDescript)\n",
    "df_node, df_Tnode = std_top3(df_GoSimilar, df_node, 17)\n",
    "#df_net.to_csv('G:/Billfish/J668_multip_tissue_3D-genome/RNA_seq/tau_gini/tissues_Go/0DPA_5DPA_10DPA_20DPA/Gh_fiber_Development_net.csv', index=False)\n",
    "df_node.to_csv('G:/Billfish/J668_multip_tissue_3D-genome/RNA_seq/tau_gini/tissues_Go/0DPA_5DPA_10DPA_20DPA/Gh_fiber_Development_node.csv', index=False)\n",
    "df_Tnode.to_csv('G:/Billfish/J668_multip_tissue_3D-genome/RNA_seq/tau_gini/tissues_Go/0DPA_5DPA_10DPA_20DPA/Gh_fiber_Development_Tnode.csv', index=False)"
   ]
  },
  {
   "cell_type": "code",
   "execution_count": 62,
   "metadata": {},
   "outputs": [
    {
     "name": "stdout",
     "output_type": "stream",
     "text": [
      "51\n"
     ]
    }
   ],
   "source": [
    "# BF 1 min\n",
    "df_GoCluster  = pd.read_csv(\"G:/Billfish/J668_multip_tissue_3D-genome/RNA_seq/reads/0DPA_vs_5DPA/5DPA_high_cluster.bed\", sep=\"\\t\")\n",
    "df_GoSimilar  = pd.read_csv(\"G:/Billfish/J668_multip_tissue_3D-genome/RNA_seq/reads/0DPA_vs_5DPA/5DPA_high_similar.csv\", index_col=0)\n",
    "df_GoDescript = pd.read_csv(\"G:/Billfish/J668_multip_tissue_3D-genome/RNA_seq/reads/0DPA_vs_5DPA/5DPA_high_Go.bed\", sep='\\t')\n",
    "\n",
    "# Go term 相似性网络\n",
    "df_net   = matrix_To_net(df_GoSimilar, df_GoCluster)\n",
    "df_node  = node_descriptions(df_GoCluster, df_GoDescript)\n",
    "df_node, df_Tnode = std_top3(df_GoSimilar, df_node, 12)\n",
    "df_net.to_csv('G:/Billfish/J668_multip_tissue_3D-genome/RNA_seq/reads/0DPA_vs_5DPA/5DPA_high_net.csv', index=False)\n",
    "df_node.to_csv('G:/Billfish/J668_multip_tissue_3D-genome/RNA_seq/reads/0DPA_vs_5DPA/5DPA_high_node.csv', index=False)\n",
    "df_Tnode.to_csv('G:/Billfish/J668_multip_tissue_3D-genome/RNA_seq/reads/0DPA_vs_5DPA/5DPA_high_Tnode.csv', index=False)"
   ]
  },
  {
   "cell_type": "code",
   "execution_count": 66,
   "metadata": {},
   "outputs": [
    {
     "name": "stdout",
     "output_type": "stream",
     "text": [
      "39\n"
     ]
    }
   ],
   "source": [
    "# BF 1 min\n",
    "df_GoCluster  = pd.read_csv(\"G:/Billfish/J668_multip_tissue_3D-genome/RNA_seq/reads/5DPA_vs_10DPA/10DPA_high_cluster.bed\", sep=\"\\t\")\n",
    "df_GoSimilar  = pd.read_csv(\"G:/Billfish/J668_multip_tissue_3D-genome/RNA_seq/reads/5DPA_vs_10DPA/10DPA_high_similar.csv\", index_col=0)\n",
    "df_GoDescript = pd.read_csv(\"G:/Billfish/J668_multip_tissue_3D-genome/RNA_seq/reads/5DPA_vs_10DPA/10DPA_high_Go.bed\", sep='\\t')\n",
    "\n",
    "# Go term 相似性网络\n",
    "df_net   = matrix_To_net(df_GoSimilar, df_GoCluster)\n",
    "df_node  = node_descriptions(df_GoCluster, df_GoDescript)\n",
    "df_node, df_Tnode = std_top3(df_GoSimilar, df_node, 12)\n",
    "df_net.to_csv('G:/Billfish/J668_multip_tissue_3D-genome/RNA_seq/reads/5DPA_vs_10DPA/10DPA_high_net.csv', index=False)\n",
    "df_node.to_csv('G:/Billfish/J668_multip_tissue_3D-genome/RNA_seq/reads/5DPA_vs_10DPA/10DPA_high_node.csv', index=False)\n",
    "df_Tnode.to_csv('G:/Billfish/J668_multip_tissue_3D-genome/RNA_seq/reads/5DPA_vs_10DPA/5DPA_high_Tnode.csv', index=False)"
   ]
  },
  {
   "cell_type": "code",
   "execution_count": 32,
   "metadata": {},
   "outputs": [],
   "source": [
    "# 将clusterprofiler 所生成文件转换为作图文件格式\n",
    "def trans_cluster(df):\n",
    "    df = df.query(\"ONTOLOGY=='BP'\").copy()\n",
    "    df['bioprocess'] = df['Description'] + \" (\" + df['ID'] + \")\"\n",
    "    df[['gene_number', 'all_number']] = df['GeneRatio'].str.split(\"/\", expand = True)\n",
    "    df_return = df[['bioprocess', 'gene_number', 'qvalue']]\n",
    "    df_return.columns = ['bioprocess', 'gene_number', 'FDR']\n",
    "    return df_return\n",
    "df_5DPA = pd.read_csv(\"G:/Billfish/J668_multip_tissue_3D-genome/RNA_seq/reads/0DPA_vs_5DPA/5DPA_high_Go.bed\", sep=\"\\t\")\n",
    "df_5DPA_adjust = trans_cluster(df_5DPA)\n",
    "df_5DPA_adjust.to_csv(\"G:/Billfish/J668_multip_tissue_3D-genome/RNA_seq/reads/0DPA_vs_5DPA/5DPA_high_Go_adjust.bed\", sep=\"\\t\", index=False)"
   ]
  },
  {
   "cell_type": "code",
   "execution_count": 33,
   "metadata": {},
   "outputs": [],
   "source": [
    "df_10DPA = pd.read_csv(\"G:/Billfish/J668_multip_tissue_3D-genome/RNA_seq/reads/5DPA_vs_10DPA/10DPA_high_Go.bed\", sep=\"\\t\")\n",
    "df_10DPA_adjust = trans_cluster(df_10DPA)\n",
    "df_10DPA_adjust.to_csv(\"G:/Billfish/J668_multip_tissue_3D-genome/RNA_seq/reads/5DPA_vs_10DPA/10DPA_high_Go_adjust.bed\", sep=\"\\t\", index=False)"
   ]
  },
  {
   "cell_type": "code",
   "execution_count": 34,
   "metadata": {},
   "outputs": [],
   "source": [
    "# 20 DPA 相比10DPA 高表达基因\n",
    "df_20DPA = pd.read_csv(\"G:/Billfish/J668_multip_tissue_3D-genome/RNA_seq/reads/10DPA_vs_20DPA/20DPA_high_Go.bed\", sep=\"\\t\")\n",
    "df_20DPA_adjust = trans_cluster(df_20DPA)\n",
    "df_20DPA_adjust.to_csv(\"G:/Billfish/J668_multip_tissue_3D-genome/RNA_seq/reads/10DPA_vs_20DPA/20DPA_high_Go_adjust.bed\", sep=\"\\t\", index=False)"
   ]
  },
  {
   "cell_type": "code",
   "execution_count": 42,
   "metadata": {},
   "outputs": [],
   "source": [
    "# 20DPA 相比10DPA 高表达基因 同时与组织特异表达基因间的overlap \n",
    "df_20DPA = pd.read_csv(\"G:/Billfish/J668_multip_tissue_3D-genome/RNA_seq/reads/10DPA_vs_20DPA/20DPA_up_tau_overlap_TAIR_GO.bed\", sep=\"\\t\")\n",
    "df_20DPA_adjust = trans_cluster(df_20DPA)\n",
    "df_20DPA_adjust.to_csv(\"G:/Billfish/J668_multip_tissue_3D-genome/RNA_seq/reads/10DPA_vs_20DPA/20DPA_up_tau_overlap_TAIR_adjust.bed\", sep=\"\\t\", index=False)"
   ]
  },
  {
   "cell_type": "code",
   "execution_count": 6,
   "metadata": {},
   "outputs": [],
   "source": [
    "# 将reads 数据合并\n",
    "tissues = ['anthers', 'cotyledon', 'ovules',  'hypocotyl', 'leaf', 'petals', 'radicle', 'root', 'stem', 'stigma']\n",
    "df_result = pd.DataFrame()\n",
    "for t in tissues:\n",
    "    input_f = \"G:/Billfish/J668_multip_tissue_3D-genome/RNA_seq/reads/{0}/{0}_reads.bed\".format(t)\n",
    "    df_tmp = pd.read_csv(input_f, sep=\"\\t\")\n",
    "    r1, r2, r3 = \"{}1\".format(t), \"{}2\".format(t), \"{}3\".format(t)\n",
    "    df_tmp.columns = ['GeneId', r1, r2, r3]\n",
    "    if df_result.shape[0] == 0:\n",
    "        df_result = df_tmp.copy()\n",
    "    else:\n",
    "        df_result = pd.merge(df_result, df_tmp, how='inner', on=['GeneId'])\n",
    "df_result.to_csv(\"G:/Billfish/J668_multip_tissue_3D-genome/RNA_seq/reads/all_tissues_reads.bed\", sep=\"\\t\", index=False)"
   ]
  },
  {
   "cell_type": "code",
   "execution_count": null,
   "metadata": {},
   "outputs": [],
   "source": [
    "import taichi as ti\n",
    "ti.init()\n",
    "@ti.func\n",
    "def fc(n:int):\n",
    "    for i in range(n):\n",
    "        print(i)\n",
    "    return n\n",
    "@ti.kernel\n",
    "def fz(h:int):\n",
    "    h = 0\n",
    "    for i in range(n):\n",
    "        h += i\n",
    "    #return h\n",
    "fz(1000000000)"
   ]
  },
  {
   "cell_type": "code",
   "execution_count": 4,
   "metadata": {},
   "outputs": [],
   "source": [
    "## 统计分析基因能在多少个组织中表达\n",
    "import pandas as pd\n",
    "df = pd.read_csv(\"G:/Billfish/J668_multip_tissue_3D-genome/new_RNA_Seq/RNA_Seq_data/J668_all_Tissue_mean_TPM.csv\", index_col=0)\n",
    "df[df>=0.5] = 1\n",
    "df[df<=0.5] = 0\n",
    "df['sum'] = df.sum(axis=1)\n",
    "df['number'] = [1]*df.shape[0]\n",
    "df_result = df.groupby(by=['sum'], as_index=False)['number'].sum()\n",
    "df_result.to_csv(\"G:/Billfish/J668_multip_tissue_3D-genome/new_RNA_Seq/RNA_Seq_data/Number_Tissue_Gene.csv\", index=False)"
   ]
  },
  {
   "cell_type": "code",
   "execution_count": 5,
   "metadata": {},
   "outputs": [],
   "source": [
    "## 分析多组织基因的表达水平\n",
    "import pandas as pd\n",
    "df = pd.read_csv(\"G:/Billfish/J668_multip_tissue_3D-genome/new_RNA_Seq/RNA_Seq_data/J668_all_Tissue_mean_TPM.csv\", index_col=0)\n",
    "df_mean = df.copy()\n",
    "df_mean['average'] = df_mean.mean(axis=1)\n",
    "df_mean.reset_index(inplace=True)\n",
    "df_mean = df_mean[['GeneId', 'average']].copy()\n",
    "df[df>=0.5] = 1\n",
    "df[df<=0.5] = 0\n",
    "df['sum'] = df.sum(axis=1)\n",
    "df.reset_index(inplace=True)\n",
    "df['number'] = [1]*df.shape[0]\n",
    "df_tmp = df.groupby(by=['GeneId', 'sum'], as_index=False)['number'].sum()\n",
    "df_result = pd.merge(df_mean, df_tmp, how='inner', on=['GeneId'])\n",
    "df_result.to_csv(\"G:/Billfish/J668_multip_tissue_3D-genome/new_RNA_Seq/RNA_Seq_data/Expression_Tissue_Gene.csv\", index=False)"
   ]
  },
  {
   "cell_type": "code",
   "execution_count": 24,
   "metadata": {},
   "outputs": [
    {
     "name": "stdout",
     "output_type": "stream",
     "text": [
      "40339\n"
     ]
    }
   ],
   "source": [
    "## 分析，WGCNA 间的互作强度与Hi-C的互作强度联系\n",
    "import pandas as pd\n",
    "df_WGCNA = pd.read_csv(\"G:/Billfish/J668_multip_tissue_3D-genome/RNA_seq/WGCNA/J668_all_tissue_005.edges.txt\", sep=\"\\t\")\n",
    "df_HiC = pd.read_csv(\"G:/Billfish/J668_multip_tissue_3D-genome/RNA_seq/WGCNA/WGCNA_HiC/Gh_3K_GG_strenght.bed\", sep=\"\\t\")\n",
    "df_WGCNA.columns = ['G1', 'G2', 'WGCNA']\n",
    "df_HiC = df_HiC[['G1', 'G2', 'strength']].copy()\n",
    "df_HiC.columns = ['G1', 'G2', 'HiC']\n",
    "df_a = pd.merge(df_HiC, df_WGCNA, how='inner', on=['G1', 'G2'])\n",
    "print(df_a.shape[0])\n"
   ]
  },
  {
   "cell_type": "code",
   "execution_count": 25,
   "metadata": {},
   "outputs": [],
   "source": [
    "df_b = df_HiC.sample(40339)\n",
    "df_b.reset_index(drop=True, inplace=True)\n",
    "df_a = df_a[['HiC']].copy()\n",
    "df_a.columns = ['WGCNA']\n",
    "df_b = df_b[['HiC']].copy()\n",
    "df_b.columns = ['random']\n",
    "df_result = pd.concat([df_a, df_b], axis=1)\n",
    "df_result.to_csv(\"G:/Billfish/J668_multip_tissue_3D-genome/RNA_seq/WGCNA/WGCNA_HiC/HiC_WGCNA.bed\", index=False)\n"
   ]
  },
  {
   "cell_type": "code",
   "execution_count": 10,
   "metadata": {},
   "outputs": [],
   "source": [
    "## 分析组织特异表达基因之间的互作强度是否会高于随机选择的互作强度\n",
    "import pandas as pd\n",
    "df_GG = pd.read_csv(\"G:/Billfish/J668_multip_tissue_3D-genome/RNA_seq/WGCNA/WGCNA_HiC/Gh_3K_GG_strenght.bed\", sep=\"\\t\")\n",
    "df_TSG = pd.read_csv(\"G:/Billfish/J668_multip_tissue_3D-genome/RNA_seq/tau_gini/J668_tissue_special_gene_long.bed\", sep=\"\\t\")\n"
   ]
  },
  {
   "cell_type": "code",
   "execution_count": 16,
   "metadata": {},
   "outputs": [],
   "source": [
    "# df_TSG = df_TSG.query(\"special_tissues=='anthers' & tissues=='anthers'\")[['GeneId']].copy()\n",
    "# df_TSG.columns = ['G1']\n",
    "# df_a = pd.merge(df_GG, df_TSG, how='inner', on=['G1'])\n",
    "# df_TSG.columns = ['G2']\n",
    "# df_b = pd.merge(df_a, df_TSG, how='inner', on=['G2'])\n",
    "# df_result1 = df_GG.sample(21320)[['strength']].copy()\n",
    "# df_result2 = df_b[['strength']].copy()\n",
    "\n",
    "# df_result1.columns = ['TSG']\n",
    "# df_result2.columns = ['random']\n",
    "df_result1.reset_index(drop=True, inplace=True)\n",
    "df_result2.reset_index(drop=True, inplace=True)\n",
    "df_result = pd.concat([df_result1, df_result2], axis=1)\n",
    "df_result.to_csv(\"G:/Billfish/J668_multip_tissue_3D-genome/RNA_seq/tau_gini/HiC_concat/anther_TSG_concat.csv\", index=False)"
   ]
  },
  {
   "cell_type": "code",
   "execution_count": null,
   "metadata": {},
   "outputs": [],
   "source": [
    "## 对基因表达量 按照 行来zsore 并归一化到-1到1 之间\n",
    "import pandas as pd\n",
    "import scipy.stats as stats\n",
    "import numpy as np\n",
    "tissues = ['Anther', 'Cotyledon', 'Ovule', 'Hypocotyl', 'Leaf', 'Petal', 'Radicle', 'Root', 'Stem', 'Stigma', 'Fibre_10DPA', 'Fibre_20DPA']\n",
    "df = pd.read_csv(\"G:/Billfish/J668_multip_tissue_3D-genome/RNA_seq/expression_gene/J668_all_tissue_average_TPM.txt\", sep=\"\\t\")\n",
    "df_tissues = df[tissues].copy()\n",
    "geneid = df['GeneId'].to_list()\n",
    "# zscore\n",
    "df_numpy = df_tissues.to_numpy()\n",
    "df_zscore = stats.zscore(df_numpy, axis=1)\n",
    "df = pd.DataFrame(df_zscore, index=geneid, columns=tissues)\n",
    "df.dropna(inplace=True, how='all')\n",
    "df.fillna(0, inplace=True)\n",
    "# 归一化\n",
    "geneid = df.index.to_list()\n",
    "df_result = pd.DataFrame(index=geneid, columns=tissues)\n",
    "def Normalization2(x): # 数据归一化\n",
    "    return [(float(i)-np.mean(x))/(max(x)-min(x)) for i in x]\n",
    "#print(df.head())\n",
    "for index, row in df.iterrows():\n",
    "    row_line = Normalization2(row)\n",
    "    df_result.loc[index, ] = row_line\n",
    "df_result.to_csv(\"G:/Billfish/J668_multip_tissue_3D-genome/RNA_seq/expression_gene/J668_all_tissue_average_TPM_normal_tissue.csv\")"
   ]
  },
  {
   "cell_type": "code",
   "execution_count": null,
   "metadata": {},
   "outputs": [],
   "source": [
    "## 对基因表达量 按照 列来zsore 并归一化到-1到1 之间\n",
    "import pandas as pd\n",
    "import scipy.stats as stats\n",
    "import numpy as np\n",
    "from sklearn import preprocessing\n",
    "tissues = ['Anther', 'Cotyledon', 'Ovule', 'Hypocotyl', 'Leaf', 'Petal', 'Radicle', 'Root', 'Stem', 'Stigma', 'Fibre_10DPA', 'Fibre_20DPA']\n",
    "df = pd.read_csv(\"G:/Billfish/J668_multip_tissue_3D-genome/RNA_seq/expression_gene/J668_all_tissue_average_TPM.txt\", sep=\"\\t\")\n",
    "df_tissues = df[tissues].copy()\n",
    "geneid = df['GeneId'].to_list()\n",
    "# zscore\n",
    "df_numpy = df_tissues.to_numpy()\n",
    "df_zscore = stats.zscore(df_numpy, axis=1)\n",
    "df = pd.DataFrame(df_zscore, index=geneid, columns=tissues)\n",
    "df.dropna(inplace=True, how='all')\n",
    "df.fillna(0, inplace=True)\n",
    "# 归一化\n",
    "geneid = df.index.to_list()\n",
    "df_result = pd.DataFrame(index=geneid, columns=tissues)\n",
    "def Normalization2(x): # 数据归一化\n",
    "    return [(float(i)-np.mean(x))/(max(x)-min(x)) for i in x]\n",
    "for t in tissues:\n",
    "    tmp_numpy = df[[t]].to_numpy()\n",
    "    # print(tmp_numpy)\n",
    "    # tmp_numpy_1 = tmp_numpy.reshape(1, -1)\n",
    "    # print(tmp_numpy_1)\n",
    "    normal = preprocessing.MaxAbsScaler().fit_transform(tmp_numpy)\n",
    "    normal = normal.reshape(-1,1)\n",
    "    print(normal)\n",
    "    df_result.loc[:, t] = normal\n",
    "df_result.to_csv(\"G:/Billfish/J668_multip_tissue_3D-genome/RNA_seq/expression_gene/J668_all_tissue_average_TPM_normal_geneid.csv\")"
   ]
  },
  {
   "cell_type": "code",
   "execution_count": null,
   "metadata": {},
   "outputs": [],
   "source": [
    "import pandas as pd\n",
    "df_result = pd.DataFrame()\n",
    "for i in ['anther', 'leaf', 'petals', 'radicle', 'root', 'stem', 'stigma', 'ovule', 'fiber_10DPA', 'fiber_20DPA', 'hypocotyl', 'cotyledon']:\n",
    "    for r in ['rep1', 'rep2', 'rep3']:\n",
    "        name = \"{0}_{1}\".format(i, r)\n",
    "        input_f = \"${}_TPM.bed\".format(name)\n",
    "        df_tmp = pd.read_csv(input_f, sep=\"\\t\")\n",
    "        df_tmp.columns = ['GeneId', name]\n",
    "        if df_result.shape[0] == 0:\n",
    "            df_result = df_tmp.copy()\n",
    "        else:\n",
    "            df_result = pd.merge(df_result, df_tmp, how='inner', on=['GeneId'])\n",
    "df_result.to_csv(\"J668_all_Tissue_TPM.csv\", index=False)"
   ]
  },
  {
   "cell_type": "code",
   "execution_count": 8,
   "metadata": {},
   "outputs": [
    {
     "name": "stdout",
     "output_type": "stream",
     "text": [
      "        samples number\n",
      "0        anther  40176\n",
      "1          leaf  45468\n",
      "2          stem  47011\n",
      "3        stigma  41971\n",
      "4          root  47517\n",
      "5     cotyledon  43249\n",
      "6     hypocotyl  46845\n",
      "7         petal  39054\n",
      "8         ovule  44258\n",
      "9   fiber_10DPA  38731\n",
      "10  fiber_20DPA  37450\n",
      "11      radicle  48086\n"
     ]
    }
   ],
   "source": [
    "## 分析可表达基因数量\n",
    "import pandas as pd\n",
    "df = pd.read_csv(\"G:/Billfish/J668_multip_tissue_3D-genome/new_RNA_Seq/RNA_Seq_data/J668_all_Tissue_mean_TPM.csv\")\n",
    "tissue = ['anther', 'leaf', 'stem', 'stigma', 'root', 'cotyledon', 'hypocotyl', 'petal', 'ovule', 'fiber_10DPA', 'fiber_20DPA', 'radicle']\n",
    "df_result = pd.DataFrame(columns = ['samples', 'number'])\n",
    "for t in tissue:\n",
    "    N = df[df[t]>=0.5].shape[0]\n",
    "    df_result.loc[df_result.shape[0], ] = [t, N]\n",
    "print(df_result)\n",
    "df_result.to_csv(\"G:/Billfish/J668_multip_tissue_3D-genome/new_RNA_Seq/NEG/J668_all_Tissue_NEG.csv\", index=False)"
   ]
  },
  {
   "cell_type": "code",
   "execution_count": 1,
   "metadata": {},
   "outputs": [],
   "source": [
    "## 将所有组织间差异表达基因合并为一个文件\n",
    "import pandas as pd\n",
    "tissues = ['anther', 'ovule', 'root', 'radicle', 'leaf', 'hypocotyl', 'cotyledon', 'stem', 'fiber_10DPA', 'fiber_20DPA', 'petal', 'stigma']\n",
    "df_result = pd.DataFrame()\n",
    "for i in range(11):\n",
    "    for j in range(i+1, 12):\n",
    "        Tags = \"{0}-{1}\".format(tissues[i], tissues[j])\n",
    "        DEG_f = \"G:/Billfish/J668_multip_tissue_3D-genome/new_RNA_Seq/DEG/tissue/{0}_{1}_DEG.csv\".format(tissues[i], tissues[j])\n",
    "        df_DEG = pd.read_csv(DEG_f)\n",
    "        df_DEG['tags'] = [Tags]*df_DEG.shape[0]\n",
    "        df_result = pd.concat([df_result, df_DEG], axis=0)\n",
    "df_result.to_csv(\"G:/Billfish/J668_multip_tissue_3D-genome/new_RNA_Seq/DEG/tissue/J668_mutipTissues_DEG.csv\", index=False)"
   ]
  },
  {
   "cell_type": "code",
   "execution_count": 16,
   "metadata": {},
   "outputs": [
    {
     "name": "stdout",
     "output_type": "stream",
     "text": [
      "                GeneId  anther   ovule    root radicle    leaf hypocotyl  \\\n",
      "0      Ghir_A03G006350   BiasA   BiasA  Stable   BiasA  Stable    Stable   \n",
      "1      Ghir_A03G006670   BiasD  Stable   BiasD  Stable  Stable     BiasD   \n",
      "2      Ghir_A10G010540   BiasA  Stable   BiasA   BiasA   BiasA     BiasA   \n",
      "3      Ghir_A05G006440   BiasA   BiasA  Stable  Stable   BiasD    Stable   \n",
      "4      Ghir_A10G002100   BiasD  Stable   BiasD   BiasD   BiasD     BiasD   \n",
      "...                ...     ...     ...     ...     ...     ...       ...   \n",
      "17846  Ghir_A03G016530  Stable  Stable  Stable  Stable  Stable    Stable   \n",
      "17847  Ghir_A09G023420  Stable  Stable  Stable  Stable  Stable    Stable   \n",
      "17848  Ghir_A08G014960  Stable  Stable  Stable  Stable  Stable    Stable   \n",
      "17849  Ghir_A04G014550  Stable  Stable  Stable  Stable  Stable    Stable   \n",
      "17850  Ghir_A03G009390  Stable  Stable  Stable  Stable  Stable    Stable   \n",
      "\n",
      "      cotyledon    stem fiber_10DPA fiber_20DPA   petal  stigma  \n",
      "0         BiasA  Stable       BiasA      Stable   BiasA   BiasA  \n",
      "1         BiasD   BiasD       BiasD      Stable   BiasA   BiasA  \n",
      "2        Stable   BiasA       BiasD      Stable   BiasA  Stable  \n",
      "3        Stable  Stable       BiasA       BiasA   BiasA   BiasA  \n",
      "4         BiasD   BiasD      Stable      Stable  Stable  Stable  \n",
      "...         ...     ...         ...         ...     ...     ...  \n",
      "17846    Stable  Stable      Stable      Stable  Stable   BiasA  \n",
      "17847    Stable  Stable      Stable      Stable  Stable   BiasD  \n",
      "17848    Stable  Stable      Stable      Stable  Stable   BiasA  \n",
      "17849    Stable  Stable      Stable      Stable  Stable   BiasD  \n",
      "17850    Stable  Stable      Stable      Stable  Stable   BiasD  \n",
      "\n",
      "[17851 rows x 13 columns]\n"
     ]
    }
   ],
   "source": [
    "## 分析bias表达基因的动态变化情况\n",
    "import pandas as pd\n",
    "def data_format(df, tags):\n",
    "    df = df[['GeneId', 'sig']].copy()\n",
    "    df.columns = ['GeneId', tags]\n",
    "    return df\n",
    "def tissue_stable_diff_bias_gene():\n",
    "    tissues = ['anther', 'ovule', 'root', 'radicle', 'leaf', 'hypocotyl', 'cotyledon', 'stem', 'fiber_10DPA', 'fiber_20DPA', 'petal', 'stigma']\n",
    "    input_file = \"G:/Billfish/J668_multip_tissue_3D-genome/new_RNA_Seq/homo_gene2/gene_bias/all_tissue_bias_gene_long.bed\"\n",
    "    df = pd.read_csv(input_file, sep=\"\\t\")\n",
    "    df = df.query(\"GeneId.str.contains('Ghir_A')\")\n",
    "    #print(df)\n",
    "    df_result = pd.DataFrame()\n",
    "    for t in tissues:\n",
    "        df_tmp = df.query(\"tissues==@t\")[['GeneId', 'Bias']].copy()\n",
    "        df_tmp.rename(columns={'Bias':t}, inplace=True)\n",
    "        if df_result.shape[0]==0:\n",
    "            df_result = df_tmp.copy()\n",
    "        else:\n",
    "            df_result = pd.merge(df_result, df_tmp, how='outer', on=['GeneId'])\n",
    "    df_result.fillna(\"Stable\", inplace=True)\n",
    "    return df_result\n",
    "df_result = tissue_stable_diff_bias_gene()\n",
    "print(df_result)\n",
    "df_result.to_csv(\"G:/Billfish/J668_multip_tissue_3D-genome/new_RNA_Seq/DEG/hg/J668_stable_diff_hg.csv\", index=False)\n"
   ]
  },
  {
   "cell_type": "code",
   "execution_count": 23,
   "metadata": {},
   "outputs": [
    {
     "name": "stdout",
     "output_type": "stream",
     "text": [
      "Empty DataFrame\n",
      "Columns: [GeneId]\n",
      "Index: []\n"
     ]
    }
   ],
   "source": [
    "import pandas as pd\n",
    "df = pd.read_csv(\"G:/Billfish/J668_multip_tissue_3D-genome/new_RNA_Seq/DEG/hg/J668_stable_diff_hg.csv\",index_col=0)\n",
    "df_biasA = df[(df=='BiasA').all(axis=1) | (df=='BiasD').all(axis=1) ]\n",
    "df_biasA.reset_index(inplace=True)\n",
    "df_b = df_biasA[['GeneId']].copy()\n",
    "print(df_b.query(\"GeneId == 'Ghir_A01G006440'\"))"
   ]
  },
  {
   "cell_type": "code",
   "execution_count": 25,
   "metadata": {},
   "outputs": [
    {
     "name": "stdout",
     "output_type": "stream",
     "text": [
      "             GeneId_At    sig      tissues        GeneId_Dt      TPM_At  \\\n",
      "2356   Ghir_A01G006440  BiasA       anther  Ghir_D01G006730   21.116446   \n",
      "9362   Ghir_A01G006440  BiasA         leaf  Ghir_D01G006730    1.495168   \n",
      "14454  Ghir_A01G006440  BiasA    hypocotyl  Ghir_D01G006730    2.705511   \n",
      "21750  Ghir_A01G006440  BiasA    cotyledon  Ghir_D01G006730    4.768274   \n",
      "26940  Ghir_A01G006440  BiasA         stem  Ghir_D01G006730    0.923146   \n",
      "29370  Ghir_A01G006440  BiasA        ovule  Ghir_D01G006730   11.018057   \n",
      "33678  Ghir_A01G006440  BiasA         root  Ghir_D01G006730   18.003587   \n",
      "39246  Ghir_A01G006440  BiasA      radicle  Ghir_D01G006730   27.537654   \n",
      "46583  Ghir_A01G006440  BiasD  fiber_10DPA  Ghir_D01G006730    1.908132   \n",
      "54350  Ghir_A01G006440  BiasD  fiber_20DPA  Ghir_D01G006730    1.886577   \n",
      "56790  Ghir_A01G006440  BiasA        petal  Ghir_D01G006730   15.599557   \n",
      "63215  Ghir_A01G006440  BiasA       stigma  Ghir_D01G006730  149.537109   \n",
      "\n",
      "          TPM_Dt  \n",
      "2356    0.000000  \n",
      "9362    0.049854  \n",
      "14454   0.360494  \n",
      "21750   0.063799  \n",
      "26940   0.046617  \n",
      "29370   0.158157  \n",
      "33678   1.851506  \n",
      "39246   4.094408  \n",
      "46583   8.164606  \n",
      "54350  10.166965  \n",
      "56790   0.014350  \n",
      "63215   0.066683  \n",
      "             GeneId\n",
      "46  Ghir_A01G006440\n"
     ]
    }
   ],
   "source": [
    "df = pd.read_csv(\"G:/Billfish/J668_multip_tissue_3D-genome/new_RNA_Seq/homo_gene2/gene_bias/all_tissue_bias_gene_pair.bed\", sep=\"\\t\")\n",
    "print(df.query(\"GeneId_At=='Ghir_A01G006440'\"))\n",
    "df_sta = pd.DataFrame(df['GeneId_At'].value_counts())\n",
    "df_sta.reset_index(inplace=True)\n",
    "df_sta = df_sta.query(\"GeneId_At==12\").copy()\n",
    "df_a = df_sta[['index']].copy()\n",
    "df_a.columns = ['GeneId']\n",
    "print(df_a.query(\"GeneId == 'Ghir_A01G006440'\"))"
   ]
  },
  {
   "cell_type": "code",
   "execution_count": 22,
   "metadata": {},
   "outputs": [
    {
     "name": "stdout",
     "output_type": "stream",
     "text": [
      "              GeneId\n",
      "46   Ghir_A01G006440\n",
      "77   Ghir_A12G022610\n",
      "92   Ghir_A10G012370\n",
      "112  Ghir_A06G019070\n",
      "141  Ghir_A03G009370\n",
      "161  Ghir_A10G006170\n",
      "176  Ghir_A02G010970\n",
      "244  Ghir_A02G019450\n",
      "251  Ghir_A07G013820\n",
      "261  Ghir_A11G019120\n",
      "282  Ghir_A02G011070\n",
      "354  Ghir_A03G011320\n",
      "356  Ghir_A07G024210\n"
     ]
    }
   ],
   "source": [
    "df_c = pd.concat([df_a, df_b], axis=0)\n",
    "df_c.drop_duplicates(keep=False, inplace=True)\n",
    "print(df_c)"
   ]
  },
  {
   "cell_type": "code",
   "execution_count": 97,
   "metadata": {},
   "outputs": [],
   "source": [
    "import pandas as pd\n",
    "df = pd.read_csv(\"G:/Billfish/J668_multip_tissue_3D-genome/new_RNA_Seq/DEG/hg/J668_stable_diff_hg.csv\")\n",
    "## 统计各个基因在组织中多少是biasA 多少biasD 多少稳定存在\n",
    "def Gene_type(df):\n",
    "    df = df.copy()\n",
    "    df.set_index(\"GeneId\", inplace=True)\n",
    "    df_result = pd.DataFrame(columns=['GeneId', 'BiasA', 'Stable', 'BiasD'])\n",
    "    for i in range(df.shape[0]):\n",
    "        row_counts = pd.DataFrame(df.iloc[i].value_counts())\n",
    "        row_counts_T = row_counts.T\n",
    "        row_counts_T.reset_index(inplace=True)\n",
    "        row_counts_T.rename(columns={'index':'GeneId'}, inplace=True)\n",
    "        df_result = pd.concat([df_result, row_counts_T], axis=0)\n",
    "    df_result.fillna(0, inplace=True)\n",
    "    return df_result\n",
    "df_result = Gene_type(df)\n",
    "## 分为多种类型来统计, 1. 所有组织始终bias一个亚基因组。 2. 部分组织bias一个亚基因组。3.组织间不平衡bias\n",
    "def sta_bias(df):\n",
    "    df_stable_bias_all = df.query(\"BiasA==12 |BiasD==12\").copy()\n",
    "    df_stable_bias_some = df.query(\"(BiasA==0 & BiasD<12) |(BiasA<12 & BiasD==0)\").copy()\n",
    "    df_notbalance_bias = df.query(\"~((BiasA==0 | BiasD==0))\").copy()\n",
    "    df_stable_bias_all['tags'] = ['all_bias']*df_stable_bias_all.shape[0]\n",
    "    df_stable_bias_some['tags'] = ['some_bias']*df_stable_bias_some.shape[0]\n",
    "    df_notbalance_bias['tags'] = ['notbalance_bias']*df_notbalance_bias.shape[0]\n",
    "    df_return = pd.concat([df_stable_bias_all, df_stable_bias_some, df_notbalance_bias], axis=0)\n",
    "    return df_return\n",
    "df_sta_bias = sta_bias(df_result)\n",
    "df_sta_bias.to_csv(\"G:/Billfish/J668_multip_tissue_3D-genome/new_RNA_Seq/homo_gene2/gene_bias/tiss_dynamic_bias/J668_allBiasG_tiss_statu.csv\", index=False, )\n"
   ]
  },
  {
   "cell_type": "code",
   "execution_count": 103,
   "metadata": {},
   "outputs": [
    {
     "name": "stdout",
     "output_type": "stream",
     "text": [
      "645\n",
      "            GeneId anther   ovule    root radicle    leaf hypocotyl cotyledon  \\\n",
      "0  Ghir_A03G006670  BiasD  Stable   BiasD  Stable  Stable     BiasD     BiasD   \n",
      "1  Ghir_A10G010540  BiasA  Stable   BiasA   BiasA   BiasA     BiasA    Stable   \n",
      "2  Ghir_A05G006440  BiasA   BiasA  Stable  Stable   BiasD    Stable    Stable   \n",
      "3  Ghir_A05G023770  BiasA  Stable  Stable  Stable   BiasD     BiasD    Stable   \n",
      "4  Ghir_A08G011550  BiasD  Stable  Stable  Stable   BiasA    Stable     BiasA   \n",
      "\n",
      "     stem fiber_10DPA fiber_20DPA   petal  stigma  Bias_tiss  \n",
      "0   BiasD       BiasD      Stable   BiasA   BiasA          8  \n",
      "1   BiasA       BiasD      Stable   BiasA  Stable          8  \n",
      "2  Stable       BiasA       BiasA   BiasA   BiasA          7  \n",
      "3  Stable      Stable      Stable   BiasA   BiasA          5  \n",
      "4  Stable      Stable       BiasD  Stable   BiasD          5  \n",
      "645\n"
     ]
    }
   ],
   "source": [
    "## 分析其中bias基因的模式\n",
    "df_notblance = df_sta_bias.query(\"tags=='notbalance_bias'\").copy()\n",
    "df_notblance['Bias_tiss'] = df_notblance['BiasA'] + df_notblance['BiasD']\n",
    "print(df_notblance.query(\"Bias_tiss==2\").shape[0])\n",
    "df_notblance = df_notblance[['GeneId', 'Bias_tiss']]\n",
    "df_notblance_bias = pd.merge(df, df_notblance, how='inner', on=['GeneId'])\n",
    "print(df_notblance_bias.head())\n",
    "df_notblance_bias.replace([\"Stable\"], ['BiasB'], inplace=True)\n",
    "df_notblance_bias.sort_values(by=['Bias_tiss', 'anther', 'ovule', 'root', 'radicle', 'leaf', 'hypocotyl', 'cotyledon', 'stem', 'fiber_10DPA', 'fiber_20DPA', 'petal', 'stigma'], inplace=True)\n",
    "df_notblance_bias['x_lab'] = range(df_notblance_bias.shape[0])\n",
    "df_long = pd.melt(df_notblance_bias, id_vars=['GeneId', 'x_lab', 'Bias_tiss'])\n",
    "print(df_long.query(\"Bias_tiss==2\").drop_duplicates(keep='first', subset=['GeneId']).shape[0])\n",
    "df_long.to_csv(\"G:/Billfish/J668_multip_tissue_3D-genome/new_RNA_Seq/homo_gene2/gene_bias/tiss_dynamic_bias/J668_allBiasG_tiss_statu_heatmap.csv\", index=False)"
   ]
  },
  {
   "cell_type": "code",
   "execution_count": 109,
   "metadata": {},
   "outputs": [
    {
     "data": {
      "text/plain": [
       "some_bias          13393\n",
       "notbalance_bias     4069\n",
       "all_bias             389\n",
       "Name: tags, dtype: int64"
      ]
     },
     "execution_count": 109,
     "metadata": {},
     "output_type": "execute_result"
    }
   ],
   "source": [
    "df = pd.read_csv(\"G:/Billfish/J668_multip_tissue_3D-genome/new_RNA_Seq/homo_gene2/gene_bias/tiss_dynamic_bias/J668_allBiasG_tiss_statu.csv\")\n",
    "df['tags'].value_counts()"
   ]
  },
  {
   "cell_type": "code",
   "execution_count": 112,
   "metadata": {},
   "outputs": [],
   "source": [
    "df = pd.read_csv(\"G:/Billfish/J668_multip_tissue_3D-genome/new_RNA_Seq/homo_gene2/gene_bias/tiss_dynamic_bias/J668_allBiasG_tiss_statu.csv\")\n",
    "df_notblance = df.query(\"tags=='notbalance_bias'\").copy()\n",
    "df_notblance['number'] = df_notblance['BiasA'] + df_notblance['BiasD']\n",
    "df_result = pd.DataFrame(df_notblance['number'].value_counts())\n",
    "df_result.reset_index(inplace=True)\n",
    "df_result.to_csv(\"G:/Billfish/J668_multip_tissue_3D-genome/new_RNA_Seq/homo_gene2/gene_bias/tiss_dynamic_bias/notblance_bias.csv\", index=False)"
   ]
  },
  {
   "cell_type": "code",
   "execution_count": 21,
   "metadata": {},
   "outputs": [
    {
     "name": "stdout",
     "output_type": "stream",
     "text": [
      "363 396\n",
      "298 120 104 55 78 87 82 43 215 253 221 195\n",
      "292 125 90 70 70 93 80 39 228 216 256 194\n"
     ]
    }
   ],
   "source": [
    "## 调整sankey图格式\n",
    "import pandas as pd\n",
    "df = pd.read_csv(\"G:/Billfish/J668_multip_tissue_3D-genome/new_RNA_Seq/DEG/hg/J668_stable_diff_hg.csv\")\n",
    "df['number'] = [1]*df.shape[0]\n",
    "df_at = df.query(\"anther=='Down' & ovule == 'Down' & root == 'Down' & radicle == 'Down' & leaf == 'Down' & hypocotyl == 'Down' & cotyledon == 'Down' & stem == 'Down' & fiber_10DPA == 'Down' & fiber_20DPA == 'Down' & petal == 'Down' & stigma == 'Down'\")\n",
    "df_dt = df.query(\"anther=='Up' & ovule == 'Up' & root == 'Up' & radicle == 'Up' & leaf == 'Up' & hypocotyl == 'Up' & cotyledon == 'Up' & stem == 'Up' & fiber_10DPA == 'Up' & fiber_20DPA == 'Up' & petal == 'Up' & stigma == 'Up'\")\n",
    "\n",
    "print(df_at.shape[0], df_dt.shape[0])\n",
    "df_result = df.groupby(by=['anther', 'ovule', 'root', 'radicle', 'leaf', 'hypocotyl', 'cotyledon', 'stem', 'fiber_10DPA', 'fiber_20DPA', 'petal', 'stigma'], as_index=False)['number'].sum()\n",
    "tissues = ['anther', 'ovule', 'root', 'radicle', 'leaf', 'hypocotyl', 'cotyledon', 'stem', 'fiber_10DPA', 'fiber_20DPA', 'petal', 'stigma']\n",
    "df_anther_at = df_result.query(\"anther=='Down' & ovule == 'Stable' & root == 'Stable' & radicle == 'Stable' & leaf == 'Stable' & hypocotyl == 'Stable' & cotyledon == 'Stable' & stem == 'Stable' & fiber_10DPA == 'Stable' & fiber_20DPA == 'Stable' & petal == 'Stable' & stigma == 'Stable'\")\n",
    "df_ovule_at = df_result.query(\"anther=='Stable' & ovule == 'Down' & root == 'Stable' & radicle == 'Stable' & leaf == 'Stable' & hypocotyl == 'Stable' & cotyledon == 'Stable' & stem == 'Stable' & fiber_10DPA == 'Stable' & fiber_20DPA == 'Stable' & petal == 'Stable' & stigma == 'Stable'\")\n",
    "df_root_at = df_result.query(\"anther=='Stable' & ovule == 'Stable' & root == 'Down' & radicle == 'Stable' & leaf == 'Stable' & hypocotyl == 'Stable' & cotyledon == 'Stable' & stem == 'Stable' & fiber_10DPA == 'Stable' & fiber_20DPA == 'Stable' & petal == 'Stable' & stigma == 'Stable'\")\n",
    "df_radicle_at = df_result.query(\"anther=='Stable' & ovule == 'Stable' & root == 'Stable' & radicle == 'Down' & leaf == 'Stable' & hypocotyl == 'Stable' & cotyledon == 'Stable' & stem == 'Stable' & fiber_10DPA == 'Stable' & fiber_20DPA == 'Stable' & petal == 'Stable' & stigma == 'Stable'\")\n",
    "df_leaf_at = df_result.query(\"anther=='Stable' & ovule == 'Stable' & root == 'Stable' & radicle == 'Stable' & leaf == 'Down' & hypocotyl == 'Stable' & cotyledon == 'Stable' & stem == 'Stable' & fiber_10DPA == 'Stable' & fiber_20DPA == 'Stable' & petal == 'Stable' & stigma == 'Stable'\")\n",
    "df_hypocotyl_at = df_result.query(\"anther=='Stable' & ovule == 'Stable' & root == 'Stable' & radicle == 'Stable' & leaf == 'Stable' & hypocotyl == 'Down' & cotyledon == 'Stable' & stem == 'Stable' & fiber_10DPA == 'Stable' & fiber_20DPA == 'Stable' & petal == 'Stable' & stigma == 'Stable'\")\n",
    "df_cotyledon_at = df_result.query(\"anther=='Stable' & ovule == 'Stable' & root == 'Stable' & radicle == 'Stable' & leaf == 'Stable' & hypocotyl == 'Stable' & cotyledon == 'Down' & stem == 'Stable' & fiber_10DPA == 'Stable' & fiber_20DPA == 'Stable' & petal == 'Stable' & stigma == 'Stable'\")\n",
    "df_stem_at = df_result.query(\"anther=='Stable' & ovule == 'Stable' & root == 'Stable' & radicle == 'Stable' & leaf == 'Stable' & hypocotyl == 'Stable' & cotyledon == 'Stable' & stem == 'Down' & fiber_10DPA == 'Stable' & fiber_20DPA == 'Stable' & petal == 'Stable' & stigma == 'Stable'\")\n",
    "df_fiber_10DPA_at = df_result.query(\"anther=='Stable' & ovule == 'Stable' & root == 'Stable' & radicle == 'Stable' & leaf == 'Stable' & hypocotyl == 'Stable' & cotyledon == 'Stable' & stem == 'Stable' & fiber_10DPA == 'Down' & fiber_20DPA == 'Stable' & petal == 'Stable' & stigma == 'Stable'\")\n",
    "df_fiber_20DPA_at = df_result.query(\"anther=='Stable' & ovule == 'Stable' & root == 'Stable' & radicle == 'Stable' & leaf == 'Stable' & hypocotyl == 'Stable' & cotyledon == 'Stable' & stem == 'Stable' & fiber_10DPA == 'Stable' & fiber_20DPA == 'Down' & petal == 'Stable' & stigma == 'Stable'\")\n",
    "df_petal_at = df_result.query(\"anther=='Stable' & ovule == 'Stable' & root == 'Stable' & radicle == 'Stable' & leaf == 'Stable' & hypocotyl == 'Stable' & cotyledon == 'Stable' & stem == 'Stable' & fiber_10DPA == 'Stable' & fiber_20DPA == 'Stable' & petal == 'Down' & stigma == 'Stable'\")\n",
    "df_stigma_at = df_result.query(\"anther=='Stable' & ovule == 'Stable' & root == 'Stable' & radicle == 'Stable' & leaf == 'Stable' & hypocotyl == 'Stable' & cotyledon == 'Stable' & stem == 'Stable' & fiber_10DPA == 'Stable' & fiber_20DPA == 'Stable' & petal == 'Stable' & stigma == 'Down'\")\n",
    "#print(df_stigma_at)\n",
    "print(df_anther_at['number'].tolist()[0], df_ovule_at['number'].tolist()[0], df_root_at['number'].tolist()[0], \n",
    "      df_radicle_at['number'].tolist()[0], df_leaf_at['number'].tolist()[0], df_hypocotyl_at['number'].tolist()[0], \n",
    "      df_cotyledon_at['number'].tolist()[0], df_stem_at['number'].tolist()[0], df_fiber_10DPA_at['number'].tolist()[0], \n",
    "      df_fiber_20DPA_at['number'].tolist()[0], df_petal_at['number'].tolist()[0], df_stigma_at['number'].tolist()[0])\n",
    "\n",
    "df_anther_dt = df_result.query(\"anther=='Up' & ovule == 'Stable' & root == 'Stable' & radicle == 'Stable' & leaf == 'Stable' & hypocotyl == 'Stable' & cotyledon == 'Stable' & stem == 'Stable' & fiber_10DPA == 'Stable' & fiber_20DPA == 'Stable' & petal == 'Stable' & stigma == 'Stable'\")\n",
    "df_ovule_dt = df_result.query(\"anther=='Stable' & ovule == 'Up' & root == 'Stable' & radicle == 'Stable' & leaf == 'Stable' & hypocotyl == 'Stable' & cotyledon == 'Stable' & stem == 'Stable' & fiber_10DPA == 'Stable' & fiber_20DPA == 'Stable' & petal == 'Stable' & stigma == 'Stable'\")\n",
    "df_root_dt = df_result.query(\"anther=='Stable' & ovule == 'Stable' & root == 'Up' & radicle == 'Stable' & leaf == 'Stable' & hypocotyl == 'Stable' & cotyledon == 'Stable' & stem == 'Stable' & fiber_10DPA == 'Stable' & fiber_20DPA == 'Stable' & petal == 'Stable' & stigma == 'Stable'\")\n",
    "df_radicle_dt = df_result.query(\"anther=='Stable' & ovule == 'Stable' & root == 'Stable' & radicle == 'Up' & leaf == 'Stable' & hypocotyl == 'Stable' & cotyledon == 'Stable' & stem == 'Stable' & fiber_10DPA == 'Stable' & fiber_20DPA == 'Stable' & petal == 'Stable' & stigma == 'Stable'\")\n",
    "df_leaf_dt = df_result.query(\"anther=='Stable' & ovule == 'Stable' & root == 'Stable' & radicle == 'Stable' & leaf == 'Up' & hypocotyl == 'Stable' & cotyledon == 'Stable' & stem == 'Stable' & fiber_10DPA == 'Stable' & fiber_20DPA == 'Stable' & petal == 'Stable' & stigma == 'Stable'\")\n",
    "df_hypocotyl_dt = df_result.query(\"anther=='Stable' & ovule == 'Stable' & root == 'Stable' & radicle == 'Stable' & leaf == 'Stable' & hypocotyl == 'Up' & cotyledon == 'Stable' & stem == 'Stable' & fiber_10DPA == 'Stable' & fiber_20DPA == 'Stable' & petal == 'Stable' & stigma == 'Stable'\")\n",
    "df_cotyledon_dt = df_result.query(\"anther=='Stable' & ovule == 'Stable' & root == 'Stable' & radicle == 'Stable' & leaf == 'Stable' & hypocotyl == 'Stable' & cotyledon == 'Up' & stem == 'Stable' & fiber_10DPA == 'Stable' & fiber_20DPA == 'Stable' & petal == 'Stable' & stigma == 'Stable'\")\n",
    "df_stem_dt = df_result.query(\"anther=='Stable' & ovule == 'Stable' & root == 'Stable' & radicle == 'Stable' & leaf == 'Stable' & hypocotyl == 'Stable' & cotyledon == 'Stable' & stem == 'Up' & fiber_10DPA == 'Stable' & fiber_20DPA == 'Stable' & petal == 'Stable' & stigma == 'Stable'\")\n",
    "df_fiber_10DPA_dt = df_result.query(\"anther=='Stable' & ovule == 'Stable' & root == 'Stable' & radicle == 'Stable' & leaf == 'Stable' & hypocotyl == 'Stable' & cotyledon == 'Stable' & stem == 'Stable' & fiber_10DPA == 'Up' & fiber_20DPA == 'Stable' & petal == 'Stable' & stigma == 'Stable'\")\n",
    "df_fiber_20DPA_dt = df_result.query(\"anther=='Stable' & ovule == 'Stable' & root == 'Stable' & radicle == 'Stable' & leaf == 'Stable' & hypocotyl == 'Stable' & cotyledon == 'Stable' & stem == 'Stable' & fiber_10DPA == 'Stable' & fiber_20DPA == 'Up' & petal == 'Stable' & stigma == 'Stable'\")\n",
    "df_petal_dt = df_result.query(\"anther=='Stable' & ovule == 'Stable' & root == 'Stable' & radicle == 'Stable' & leaf == 'Stable' & hypocotyl == 'Stable' & cotyledon == 'Stable' & stem == 'Stable' & fiber_10DPA == 'Stable' & fiber_20DPA == 'Stable' & petal == 'Up' & stigma == 'Stable'\")\n",
    "df_stigma_dt = df_result.query(\"anther=='Stable' & ovule == 'Stable' & root == 'Stable' & radicle == 'Stable' & leaf == 'Stable' & hypocotyl == 'Stable' & cotyledon == 'Stable' & stem == 'Stable' & fiber_10DPA == 'Stable' & fiber_20DPA == 'Stable' & petal == 'Stable' & stigma == 'Up'\")\n",
    "\n",
    "print(df_anther_dt['number'].tolist()[0], df_ovule_dt['number'].tolist()[0], df_root_dt['number'].tolist()[0], \n",
    "      df_radicle_dt['number'].tolist()[0], df_leaf_dt['number'].tolist()[0], df_hypocotyl_dt['number'].tolist()[0], \n",
    "      df_cotyledon_dt['number'].tolist()[0], df_stem_dt['number'].tolist()[0], df_fiber_10DPA_dt['number'].tolist()[0], \n",
    "      df_fiber_20DPA_dt['number'].tolist()[0], df_petal_dt['number'].tolist()[0], df_stigma_dt['number'].tolist()[0])\n",
    "\n",
    "#for t in tissues:\n",
    "#df_result = df_result[]\n",
    "#df_result.to_csv(\"G:/Billfish/J668_multip_tissue_3D-genome/new_RNA_Seq/DEG/hg/J668_stable_diff_hg_snakey.csv\", index=False)"
   ]
  },
  {
   "cell_type": "code",
   "execution_count": 42,
   "metadata": {},
   "outputs": [
    {
     "name": "stdout",
     "output_type": "stream",
     "text": [
      "184 205\n",
      "323 136 117 67 85 91 96 63 229 276 253 225\n",
      "324 159 114 92 80 102 113 67 265 250 255 218\n"
     ]
    }
   ],
   "source": [
    "## 调整sankey图格式\n",
    "import pandas as pd\n",
    "df = pd.read_csv(\"G:/Billfish/J668_multip_tissue_3D-genome/new_RNA_Seq/DEG/hg/J668_stable_diff_hg.csv\")\n",
    "df['number'] = [1]*df.shape[0]\n",
    "df_at = df.query(\"anther=='BiasA' & ovule == 'BiasA' & root == 'BiasA' & radicle == 'BiasA' & leaf == 'BiasA' & hypocotyl == 'BiasA' & cotyledon == 'BiasA' & stem == 'BiasA' & fiber_10DPA == 'BiasA' & fiber_20DPA == 'BiasA' & petal == 'BiasA' & stigma == 'BiasA'\")\n",
    "df_dt = df.query(\"anther=='BiasD' & ovule == 'BiasD' & root == 'BiasD' & radicle == 'BiasD' & leaf == 'BiasD' & hypocotyl == 'BiasD' & cotyledon == 'BiasD' & stem == 'BiasD' & fiber_10DPA == 'BiasD' & fiber_20DPA == 'BiasD' & petal == 'BiasD' & stigma == 'BiasD'\")\n",
    "print(df_at.shape[0], df_dt.shape[0])\n",
    "\n",
    "df_result = df.groupby(by=['anther', 'ovule', 'root', 'radicle', 'leaf', 'hypocotyl', 'cotyledon', 'stem', 'fiber_10DPA', 'fiber_20DPA', 'petal', 'stigma'], as_index=False)['number'].sum()\n",
    "tissues = ['anther', 'ovule', 'root', 'radicle', 'leaf', 'hypocotyl', 'cotyledon', 'stem', 'fiber_10DPA', 'fiber_20DPA', 'petal', 'stigma']\n",
    "df_anther_at = df_result.query(\"anther=='BiasA' & ovule == 'Stable' & root == 'Stable' & radicle == 'Stable' & leaf == 'Stable' & hypocotyl == 'Stable' & cotyledon == 'Stable' & stem == 'Stable' & fiber_10DPA == 'Stable' & fiber_20DPA == 'Stable' & petal == 'Stable' & stigma == 'Stable'\")\n",
    "df_ovule_at = df_result.query(\"anther=='Stable' & ovule == 'BiasA' & root == 'Stable' & radicle == 'Stable' & leaf == 'Stable' & hypocotyl == 'Stable' & cotyledon == 'Stable' & stem == 'Stable' & fiber_10DPA == 'Stable' & fiber_20DPA == 'Stable' & petal == 'Stable' & stigma == 'Stable'\")\n",
    "df_root_at = df_result.query(\"anther=='Stable' & ovule == 'Stable' & root == 'BiasA' & radicle == 'Stable' & leaf == 'Stable' & hypocotyl == 'Stable' & cotyledon == 'Stable' & stem == 'Stable' & fiber_10DPA == 'Stable' & fiber_20DPA == 'Stable' & petal == 'Stable' & stigma == 'Stable'\")\n",
    "df_radicle_at = df_result.query(\"anther=='Stable' & ovule == 'Stable' & root == 'Stable' & radicle == 'BiasA' & leaf == 'Stable' & hypocotyl == 'Stable' & cotyledon == 'Stable' & stem == 'Stable' & fiber_10DPA == 'Stable' & fiber_20DPA == 'Stable' & petal == 'Stable' & stigma == 'Stable'\")\n",
    "df_leaf_at = df_result.query(\"anther=='Stable' & ovule == 'Stable' & root == 'Stable' & radicle == 'Stable' & leaf == 'BiasA' & hypocotyl == 'Stable' & cotyledon == 'Stable' & stem == 'Stable' & fiber_10DPA == 'Stable' & fiber_20DPA == 'Stable' & petal == 'Stable' & stigma == 'Stable'\")\n",
    "df_hypocotyl_at = df_result.query(\"anther=='Stable' & ovule == 'Stable' & root == 'Stable' & radicle == 'Stable' & leaf == 'Stable' & hypocotyl == 'BiasA' & cotyledon == 'Stable' & stem == 'Stable' & fiber_10DPA == 'Stable' & fiber_20DPA == 'Stable' & petal == 'Stable' & stigma == 'Stable'\")\n",
    "df_cotyledon_at = df_result.query(\"anther=='Stable' & ovule == 'Stable' & root == 'Stable' & radicle == 'Stable' & leaf == 'Stable' & hypocotyl == 'Stable' & cotyledon == 'BiasA' & stem == 'Stable' & fiber_10DPA == 'Stable' & fiber_20DPA == 'Stable' & petal == 'Stable' & stigma == 'Stable'\")\n",
    "df_stem_at = df_result.query(\"anther=='Stable' & ovule == 'Stable' & root == 'Stable' & radicle == 'Stable' & leaf == 'Stable' & hypocotyl == 'Stable' & cotyledon == 'Stable' & stem == 'BiasA' & fiber_10DPA == 'Stable' & fiber_20DPA == 'Stable' & petal == 'Stable' & stigma == 'Stable'\")\n",
    "df_fiber_10DPA_at = df_result.query(\"anther=='Stable' & ovule == 'Stable' & root == 'Stable' & radicle == 'Stable' & leaf == 'Stable' & hypocotyl == 'Stable' & cotyledon == 'Stable' & stem == 'Stable' & fiber_10DPA == 'BiasA' & fiber_20DPA == 'Stable' & petal == 'Stable' & stigma == 'Stable'\")\n",
    "df_fiber_20DPA_at = df_result.query(\"anther=='Stable' & ovule == 'Stable' & root == 'Stable' & radicle == 'Stable' & leaf == 'Stable' & hypocotyl == 'Stable' & cotyledon == 'Stable' & stem == 'Stable' & fiber_10DPA == 'Stable' & fiber_20DPA == 'BiasA' & petal == 'Stable' & stigma == 'Stable'\")\n",
    "df_petal_at = df_result.query(\"anther=='Stable' & ovule == 'Stable' & root == 'Stable' & radicle == 'Stable' & leaf == 'Stable' & hypocotyl == 'Stable' & cotyledon == 'Stable' & stem == 'Stable' & fiber_10DPA == 'Stable' & fiber_20DPA == 'Stable' & petal == 'BiasA' & stigma == 'Stable'\")\n",
    "df_stigma_at = df_result.query(\"anther=='Stable' & ovule == 'Stable' & root == 'Stable' & radicle == 'Stable' & leaf == 'Stable' & hypocotyl == 'Stable' & cotyledon == 'Stable' & stem == 'Stable' & fiber_10DPA == 'Stable' & fiber_20DPA == 'Stable' & petal == 'Stable' & stigma == 'BiasA'\")\n",
    "#print(df_stigma_at)\n",
    "\n",
    "\n",
    "print(df_anther_at['number'].tolist()[0], df_ovule_at['number'].tolist()[0], df_root_at['number'].tolist()[0], \n",
    "      df_radicle_at['number'].tolist()[0], df_leaf_at['number'].tolist()[0], df_hypocotyl_at['number'].tolist()[0], \n",
    "      df_cotyledon_at['number'].tolist()[0], df_stem_at['number'].tolist()[0], df_fiber_10DPA_at['number'].tolist()[0], \n",
    "      df_fiber_20DPA_at['number'].tolist()[0], df_petal_at['number'].tolist()[0], df_stigma_at['number'].tolist()[0])\n",
    "\n",
    "df_anther_dt = df_result.query(\"anther=='BiasD' & ovule == 'Stable' & root == 'Stable' & radicle == 'Stable' & leaf == 'Stable' & hypocotyl == 'Stable' & cotyledon == 'Stable' & stem == 'Stable' & fiber_10DPA == 'Stable' & fiber_20DPA == 'Stable' & petal == 'Stable' & stigma == 'Stable'\")\n",
    "df_ovule_dt = df_result.query(\"anther=='Stable' & ovule == 'BiasD' & root == 'Stable' & radicle == 'Stable' & leaf == 'Stable' & hypocotyl == 'Stable' & cotyledon == 'Stable' & stem == 'Stable' & fiber_10DPA == 'Stable' & fiber_20DPA == 'Stable' & petal == 'Stable' & stigma == 'Stable'\")\n",
    "df_root_dt = df_result.query(\"anther=='Stable' & ovule == 'Stable' & root == 'BiasD' & radicle == 'Stable' & leaf == 'Stable' & hypocotyl == 'Stable' & cotyledon == 'Stable' & stem == 'Stable' & fiber_10DPA == 'Stable' & fiber_20DPA == 'Stable' & petal == 'Stable' & stigma == 'Stable'\")\n",
    "df_radicle_dt = df_result.query(\"anther=='Stable' & ovule == 'Stable' & root == 'Stable' & radicle == 'BiasD' & leaf == 'Stable' & hypocotyl == 'Stable' & cotyledon == 'Stable' & stem == 'Stable' & fiber_10DPA == 'Stable' & fiber_20DPA == 'Stable' & petal == 'Stable' & stigma == 'Stable'\")\n",
    "df_leaf_dt = df_result.query(\"anther=='Stable' & ovule == 'Stable' & root == 'Stable' & radicle == 'Stable' & leaf == 'BiasD' & hypocotyl == 'Stable' & cotyledon == 'Stable' & stem == 'Stable' & fiber_10DPA == 'Stable' & fiber_20DPA == 'Stable' & petal == 'Stable' & stigma == 'Stable'\")\n",
    "df_hypocotyl_dt = df_result.query(\"anther=='Stable' & ovule == 'Stable' & root == 'Stable' & radicle == 'Stable' & leaf == 'Stable' & hypocotyl == 'BiasD' & cotyledon == 'Stable' & stem == 'Stable' & fiber_10DPA == 'Stable' & fiber_20DPA == 'Stable' & petal == 'Stable' & stigma == 'Stable'\")\n",
    "df_cotyledon_dt = df_result.query(\"anther=='Stable' & ovule == 'Stable' & root == 'Stable' & radicle == 'Stable' & leaf == 'Stable' & hypocotyl == 'Stable' & cotyledon == 'BiasD' & stem == 'Stable' & fiber_10DPA == 'Stable' & fiber_20DPA == 'Stable' & petal == 'Stable' & stigma == 'Stable'\")\n",
    "df_stem_dt = df_result.query(\"anther=='Stable' & ovule == 'Stable' & root == 'Stable' & radicle == 'Stable' & leaf == 'Stable' & hypocotyl == 'Stable' & cotyledon == 'Stable' & stem == 'BiasD' & fiber_10DPA == 'Stable' & fiber_20DPA == 'Stable' & petal == 'Stable' & stigma == 'Stable'\")\n",
    "df_fiber_10DPA_dt = df_result.query(\"anther=='Stable' & ovule == 'Stable' & root == 'Stable' & radicle == 'Stable' & leaf == 'Stable' & hypocotyl == 'Stable' & cotyledon == 'Stable' & stem == 'Stable' & fiber_10DPA == 'BiasD' & fiber_20DPA == 'Stable' & petal == 'Stable' & stigma == 'Stable'\")\n",
    "df_fiber_20DPA_dt = df_result.query(\"anther=='Stable' & ovule == 'Stable' & root == 'Stable' & radicle == 'Stable' & leaf == 'Stable' & hypocotyl == 'Stable' & cotyledon == 'Stable' & stem == 'Stable' & fiber_10DPA == 'Stable' & fiber_20DPA == 'BiasD' & petal == 'Stable' & stigma == 'Stable'\")\n",
    "df_petal_dt = df_result.query(\"anther=='Stable' & ovule == 'Stable' & root == 'Stable' & radicle == 'Stable' & leaf == 'Stable' & hypocotyl == 'Stable' & cotyledon == 'Stable' & stem == 'Stable' & fiber_10DPA == 'Stable' & fiber_20DPA == 'Stable' & petal == 'BiasD' & stigma == 'Stable'\")\n",
    "df_stigma_dt = df_result.query(\"anther=='Stable' & ovule == 'Stable' & root == 'Stable' & radicle == 'Stable' & leaf == 'Stable' & hypocotyl == 'Stable' & cotyledon == 'Stable' & stem == 'Stable' & fiber_10DPA == 'Stable' & fiber_20DPA == 'Stable' & petal == 'Stable' & stigma == 'BiasD'\")\n",
    "\n",
    "print(df_anther_dt['number'].tolist()[0], df_ovule_dt['number'].tolist()[0], df_root_dt['number'].tolist()[0], \n",
    "      df_radicle_dt['number'].tolist()[0], df_leaf_dt['number'].tolist()[0], df_hypocotyl_dt['number'].tolist()[0], \n",
    "      df_cotyledon_dt['number'].tolist()[0], df_stem_dt['number'].tolist()[0], df_fiber_10DPA_dt['number'].tolist()[0], \n",
    "      df_fiber_20DPA_dt['number'].tolist()[0], df_petal_dt['number'].tolist()[0], df_stigma_dt['number'].tolist()[0])\n",
    "\n",
    "#for t in tissues:\n",
    "#df_result = df_result[]\n",
    "#df_result.to_csv(\"G:/Billfish/J668_multip_tissue_3D-genome/new_RNA_Seq/DEG/hg/J668_stable_diff_hg_snakey.csv\", index=False)"
   ]
  },
  {
   "cell_type": "code",
   "execution_count": 14,
   "metadata": {},
   "outputs": [
    {
     "name": "stdout",
     "output_type": "stream",
     "text": [
      "              GeneId anther   ovule    root radicle    leaf hypocotyl  \\\n",
      "0    Ghir_A01G000230  BiasA  Stable  Stable  Stable  Stable    Stable   \n",
      "1    Ghir_A01G000250  BiasA  Stable  Stable  Stable  Stable    Stable   \n",
      "2    Ghir_A01G000740  BiasA  Stable  Stable  Stable  Stable    Stable   \n",
      "3    Ghir_A01G001430  BiasA  Stable  Stable  Stable  Stable    Stable   \n",
      "4    Ghir_A01G001940  BiasA  Stable  Stable  Stable  Stable    Stable   \n",
      "..               ...    ...     ...     ...     ...     ...       ...   \n",
      "293  Ghir_A13G006340   Down  Stable  Stable  Stable  Stable    Stable   \n",
      "294  Ghir_A05G009450   Down  Stable  Stable  Stable  Stable    Stable   \n",
      "295  Ghir_A04G005290   Down  Stable  Stable  Stable  Stable    Stable   \n",
      "296  Ghir_A11G018360   Down  Stable  Stable  Stable  Stable    Stable   \n",
      "297  Ghir_A09G021990   Down  Stable  Stable  Stable  Stable    Stable   \n",
      "\n",
      "    cotyledon    stem fiber_10DPA fiber_20DPA   petal  stigma  number  \n",
      "0      Stable  Stable      Stable      Stable  Stable  Stable       1  \n",
      "1      Stable  Stable      Stable      Stable  Stable  Stable       1  \n",
      "2      Stable  Stable      Stable      Stable  Stable  Stable       1  \n",
      "3      Stable  Stable      Stable      Stable  Stable  Stable       1  \n",
      "4      Stable  Stable      Stable      Stable  Stable  Stable       1  \n",
      "..        ...     ...         ...         ...     ...     ...     ...  \n",
      "293    Stable  Stable      Stable      Stable  Stable  Stable       1  \n",
      "294    Stable  Stable      Stable      Stable  Stable  Stable       1  \n",
      "295    Stable  Stable      Stable      Stable  Stable  Stable       1  \n",
      "296    Stable  Stable      Stable      Stable  Stable  Stable       1  \n",
      "297    Stable  Stable      Stable      Stable  Stable  Stable       1  \n",
      "\n",
      "[659 rows x 14 columns]\n"
     ]
    }
   ],
   "source": [
    "df_a = pd.read_csv('G:/Billfish/J668_multip_tissue_3D-genome/new_RNA_Seq/DEG/hg/at2.csv')\n",
    "df_b = pd.read_csv('G:/Billfish/J668_multip_tissue_3D-genome/new_RNA_Seq/DEG/hg/at.csv')\n",
    "df_ab = pd.concat([df_a, df_b], axis=0)\n",
    "df_ab.drop_duplicates(keep=False, inplace=True)\n",
    "print(df_ab)"
   ]
  },
  {
   "cell_type": "code",
   "execution_count": 5,
   "metadata": {},
   "outputs": [
    {
     "name": "stdout",
     "output_type": "stream",
     "text": [
      "            GeneId               sigs\n",
      "0  Ghir_A01G000010         Other gene\n",
      "1  Ghir_A01G000020       Silence gene\n",
      "2  Ghir_A01G000030         Other gene\n",
      "3  Ghir_A01G000040  Housekeeping gene\n",
      "4  Ghir_A01G000050  Housekeeping gene\n"
     ]
    }
   ],
   "source": [
    "import pandas as pd\n",
    "df_gene = pd.read_csv(\"G:/Billfish/J668_multip_tissue_3D-genome/new_RNA_Seq/RNA_Seq_data/J668_all_Tissue_mean_TPM.csv\", index_col=0)\n",
    "df_gene[df_gene>=0.5] = 1\n",
    "df_gene[df_gene<0.5] = 0\n",
    "df_gene['sum'] = df_gene.sum(axis=1)\n",
    "df_gene['sigs'] = df_gene['sum'].apply(lambda x: \"Silence gene\" if x==0 else (\"Housekeeping gene\" if x==12 else \"Other gene\"))\n",
    "df_gene.reset_index(inplace=True)\n",
    "df_result = df_gene[['GeneId', 'sigs']].copy()\n",
    "print(df_result.head())\n",
    "df_result.to_csv(\"G:/Billfish/J668_multip_tissue_3D-genome/new_RNA_Seq/RNA_Seq_data/J668_gene_type.csv\", index=False)"
   ]
  },
  {
   "cell_type": "code",
   "execution_count": 8,
   "metadata": {},
   "outputs": [],
   "source": [
    "# 确定同源可表达基因和不表达基因\n",
    "import pandas as pd\n",
    "df = pd.read_csv(\"G:/Billfish/J668_multip_tissue_3D-genome/new_RNA_Seq/homo_gene2/all_homo_gene_TPM.txt\", sep=\"\\t\")\n",
    "df = df[['tissues', 'TPM', 'subg']].copy()\n",
    "df['sigs'] = df['TPM'].apply(lambda x: 'exp' if x>=0.5 else 'Nexp')\n",
    "df_sta = pd.DataFrame(df[['tissues', 'subg', 'sigs']].value_counts(), columns=['number'])\n",
    "df_sta.reset_index(inplace=True)\n",
    "df_sta.to_csv(\"G:/Billfish/J668_multip_tissue_3D-genome/new_RNA_Seq/homo_gene2/J668_hg_exp_nexp_statistics.csv\", index=False)"
   ]
  },
  {
   "cell_type": "code",
   "execution_count": 17,
   "metadata": {},
   "outputs": [],
   "source": [
    "# 分析不平衡bias基因和相反表达基因间的overlap\n",
    "import pandas as pd\n",
    "df_oppsite = pd.read_csv(\"G:/Billfish/J668_multip_tissue_3D-genome/new_RNA_Seq/DEG/tissue_hg/AA_DD_HDEM/opposite/J668_HG_tissue_pairs_opposite.csv\")\n",
    "df_nblance = pd.read_csv(\"G:/Billfish/J668_multip_tissue_3D-genome/new_RNA_Seq/homo_gene2/gene_bias/tiss_dynamic_bias/J668_allBiasG_tiss_statu_heatmap.csv\")\n",
    "df_oppsite_gene = df_oppsite[['GeneId_At']].drop_duplicates()\n",
    "df_nblance_gene = df_nblance[['GeneId']].drop_duplicates()\n",
    "df_result = pd.concat([df_oppsite_gene, df_nblance_gene], axis=1)\n",
    "df_result.columns = ['oppsite', 'nblance']\n",
    "df_result.to_csv(\"G:/Billfish/J668_multip_tissue_3D-genome/new_RNA_Seq/DEG/tissue_hg/AA_DD_HDEM/oppsite_nblance.bed\", sep=\"\\t\", index=False)\n"
   ]
  },
  {
   "cell_type": "code",
   "execution_count": 12,
   "metadata": {},
   "outputs": [],
   "source": [
    "df = pd.DataFrame({'Column1': [1, 2, 3, 4, 5],\n",
    "                   'Column2': [3, 2, 3, 4, 6]})\n",
    "overlap_count = (df['Column1'] == df['Column2']).sum()"
   ]
  },
  {
   "cell_type": "code",
   "execution_count": 14,
   "metadata": {},
   "outputs": [],
   "source": [
    "## 构建各个组织同源基因bias的树状图, 分析bias基因能在多少组织发生bias\n",
    "import pandas as pd\n",
    "df = pd.read_csv(\"G:/Billfish/J668_multip_tissue_3D-genome/new_RNA_Seq/homo_gene2/gene_bias/all_tissue_bias_gene_pair.bed\", sep=\"\\t\")\n",
    "#print(df['GeneId_At'].value_counts())\n",
    "df_sta = pd.DataFrame(df['GeneId_At'].value_counts())\n",
    "df_sta.reset_index(inplace=True)\n",
    "df_sta2 = pd.DataFrame(df_sta['GeneId_At'].value_counts())\n",
    "df_sta2.reset_index(inplace=True)\n",
    "df_sta2['group'] = ['group1']*df_sta2.shape[0]\n",
    "df_sta2.columns = ['subgroup', 'value', 'group']\n",
    "df_sta2.to_csv(\"G:/Billfish/J668_multip_tissue_3D-genome/new_RNA_Seq/DEG/hg/J668_hg_bias_number_tree.csv\", index=False)"
   ]
  }
 ],
 "metadata": {
  "kernelspec": {
   "display_name": "Python 3.8.3 ('base')",
   "language": "python",
   "name": "python3"
  },
  "language_info": {
   "codemirror_mode": {
    "name": "ipython",
    "version": 3
   },
   "file_extension": ".py",
   "mimetype": "text/x-python",
   "name": "python",
   "nbconvert_exporter": "python",
   "pygments_lexer": "ipython3",
   "version": "3.8.3"
  },
  "orig_nbformat": 4,
  "vscode": {
   "interpreter": {
    "hash": "a0f669ea42a4dcea88d385f8f9b4c3d9b966e24234758831d1dbfdac925619a2"
   }
  }
 },
 "nbformat": 4,
 "nbformat_minor": 2
}
