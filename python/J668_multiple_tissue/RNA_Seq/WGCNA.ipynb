{
 "cells": [
  {
   "cell_type": "code",
   "execution_count": 11,
   "metadata": {},
   "outputs": [],
   "source": [
    "## 将所有基因的表达整理为log2(TPM+1)的形式\n",
    "tissues = ['Anther', 'Cotyledon', 'Ovule',  'Hypocotyl', 'Leaf', 'Petal', 'Radicle', 'Root', 'Stem', 'Stigma',  'Fiber_10DPA', 'Fiber_20DPA']\n",
    "import pandas as pd\n",
    "import numpy as np\n",
    "df_result = pd.DataFrame()\n",
    "for t in tissues:\n",
    "    if 'Fiber' in t or \"Radicle\" in t:\n",
    "        n = 3\n",
    "    else:\n",
    "        n = 4\n",
    "    for i in range(1, n):\n",
    "        input_f = \"G:/Billfish/J668_multip_tissue_3D-genome/RNA_seq/expression_gene/all_FPKM_TPM/{0}_rep{1}_FPKM_TPM.txt\".format(t, i)\n",
    "        cols = ['GeneId', 'Chromosome', 'Start', 'End', 'FPKM', '{0}{1}'.format(t, i)]\n",
    "        cols_C = ['GeneId', 'Chromosome', 'Start', 'End', '{0}{1}'.format(t, i)]\n",
    "        df_tmp = pd.read_csv(input_f, sep=\"\\t\", names=cols)\n",
    "        df_tmp = df_tmp[cols_C].copy()\n",
    "        df_tmp.drop_duplicates(keep='first', subset=['GeneId'], inplace=True)\n",
    "        df_tmp['{0}{1}'.format(t, i)] = df_tmp['{0}{1}'.format(t, i)].apply(lambda x: np.log2(x+1))\n",
    "        if df_result.shape[0] == 0:\n",
    "            df_result = df_tmp.copy()\n",
    "        else:\n",
    "            df_result = pd.merge(df_result, df_tmp, how='inner', on=['GeneId', 'Chromosome', 'Start', 'End'])            \n",
    "#df_result.to_csv(\"G:/Billfish/J668_multip_tissue_3D-genome/RNA_seq/expression_gene/all_FPKM_TPM/J668_all_tissues_TPM.bed\", sep=\"\\t\", index=False)\n",
    "df_result.to_csv(\"G:/Billfish/J668_multip_tissue_3D-genome/RNA_seq/WGCNA/J668_all_tissues_log2TPM1.bed\", sep=\"\\t\", index=False)"
   ]
  },
  {
   "cell_type": "code",
   "execution_count": null,
   "metadata": {},
   "outputs": [],
   "source": [
    "## 分析WGCNA 网络中所能够包含的TAU 基因\n",
    "import pandas as pd\n",
    "import sys \n",
    "Netf = sys.argv[1]\n",
    "Nodef = sys.argv[2]\n",
    "TAUf = sys.argv[3]\n",
    "out_netf = sys.argv[4]\n",
    "out_nodef = sys.argv[5]\n",
    "\n",
    "df_net = pd.read_csv(Netf, sep=\"\\t\", names=['source', 'target', 'weight'])\n",
    "df_node = pd.read_csv(Nodef, sep=\"\\t\", names=['ID', 'module'])\n",
    "df_TAU = pd.read_csv(TAUf, sep=\"\\t\")\n",
    "\n",
    "def choose(df1, df2, tags):\n",
    "    if tags == 'node':\n",
    "        df2.columns =['ID', 'TSG']\n",
    "        df_return = pd.merge(df1, df2, how='inner', on=['ID'])\n",
    "    if tags == 'net':\n",
    "        df2 = df2[['GeneId']]\n",
    "        df2.columns = ['source']\n",
    "        df_one = pd.merge(df1, df2, how='inner', on=['source'])\n",
    "        df2.columns = ['target']\n",
    "        df_return = pd.merge(df_one, df2, how='inner', on=['target'])\n",
    "    return df_return\n",
    "df_TAU_net = choose(df_net, df_TAU, 'net')\n",
    "df_TAU_node = choose(df_node, df_TAU, 'node')\n",
    "df_TAU_net['type'] = ['Undirected']*df_TAU_net.shape[0]\n",
    "df_TAU_net.to_csv(out_netf, index=False)\n",
    "df_TAU_node.to_csv(out_nodef, index=False)\n",
    " "
   ]
  },
  {
   "cell_type": "code",
   "execution_count": 5,
   "metadata": {},
   "outputs": [
    {
     "name": "stdout",
     "output_type": "stream",
     "text": [
      "90\n"
     ]
    }
   ],
   "source": [
    "import pandas as pd\n",
    "df = pd.read_csv('G:/Billfish/J668_multip_tissue_3D-genome/RNA_seq/WGCNA/module/Go_term/Goterm_node2.csv')\n",
    "print(df.shape[0])\n",
    "df_result = df.drop_duplicates(keep='first', subset=['node.name'])\n",
    "df_result.to_csv(\"G:/Billfish/J668_multip_tissue_3D-genome/RNA_seq/WGCNA/module/Go_term/Goterm_node3.csv\", index=False)"
   ]
  },
  {
   "cell_type": "code",
   "execution_count": null,
   "metadata": {},
   "outputs": [],
   "source": [
    "## 分析TAU 基因在WGCNA 各module 中的占比\n",
    "import pandas as pd\n",
    "df_WGCNA_module = pd.read_csv(\"G:/Billfish/J668_multip_tissue_3D-genome/RNA_seq/WGCNA/module/J668_all_tissue.module.txt\", sep=\"\\t\", names=['GeneId', 'Module'])\n",
    "df_TAU = pd.read_csv(\"G:/Billfish/J668_multip_tissue_3D-genome/RNA_seq/tau_gini/J668_tissue_special_gene.txt\", sep=\"\\t\")\n",
    "df_TAU = df_TAU[['GeneId', 'tags']].copy()\n",
    "\n",
    "## 创建一个比例统计函数\n",
    "def sta_ratio(df, tissue):\n",
    "    df['number'] = [1]*df.shape[0]\n",
    "    total = df.shape[0]\n",
    "    df_return = df.groupby(by=['Module'], as_index=False)['number'].sum()\n",
    "    df_return['ratio'] = 100*(df_return['number']/total)\n",
    "    df_return['Tissue'] = [tissue]*df_return.shape[0]\n",
    "    return df_return\n",
    "## 分析组织特异性表达基因在于各module 中的分布\n",
    "tissues = ['anther', 'leaf', 'hypocotyl', 'cotyledon', 'stem', 'ovule', 'root', 'radicle', 'fiber_10DPA', 'fiber_20DPA', 'petal', 'stigma']\n",
    "df_result = pd.DataFrame()\n",
    "for t in tissues:\n",
    "    df_TAU_GeneId = df_TAU.query(\"tags==@t\")[['GeneId']]\n",
    "    df_TAU_WGCNA = pd.merge(df_WGCNA_module, df_TAU_GeneId, how='inner', on=['GeneId'])\n",
    "    df_TAU_module = sta_ratio(df_TAU_WGCNA, t)\n",
    "    df_result = pd.concat([df_result, df_TAU_module], axis=0)\n",
    "df_result.to_csv(\"G:/Billfish/J668_multip_tissue_3D-genome/RNA_seq/WGCNA/module/TAU_ratio/TAU_WGCNA_module_ratio.bed\", sep=\"\\t\", index=False)"
   ]
  },
  {
   "cell_type": "code",
   "execution_count": 13,
   "metadata": {},
   "outputs": [],
   "source": [
    "## 分析WGCNA各module中TAU基因占比\n",
    "import pandas as pd\n",
    "df_WGCNA_module = pd.read_csv(\"G:/Billfish/J668_multip_tissue_3D-genome/RNA_seq/WGCNA/module/J668_all_tissue.module.txt\", sep=\"\\t\", names=['GeneId', 'Module'])\n",
    "df_TAU = pd.read_csv(\"G:/Billfish/J668_multip_tissue_3D-genome/RNA_seq/tau_gini/J668_tissue_special_gene.txt\", sep=\"\\t\")\n",
    "df_TAU = df_TAU[['GeneId', 'tags']].copy()\n",
    "df_TAU = df_TAU.query(\"tags!='fiber_5DPA'\").copy()\n",
    "old_module_tags = ['red',  'yellow', 'green', 'brown', 'lightyellow', 'turquoise', 'pink',  'midnightblue', 'lightcyan','greenyellow', 'magenta', 'salmon',  \n",
    "                   'darkgreen', 'black', 'blue', 'cyan', 'darkgrey','darkred', 'darkturquoise', 'grey', \n",
    "                   'grey60', 'lightgreen',  'orange',   'purple', 'royalblue', 'tan']\n",
    "new_module_tags = ['Module1', 'Module2', 'Module3', 'Module4', 'Module5', 'Module6', 'Module7', 'Module8', 'Module9', 'Module10', 'Module11', 'Module12',\n",
    "                   'Module13', 'Module14', 'Module15', 'Module16', 'Module17', 'Module18', 'Module19', 'Module20', 'Module21', 'Module22', 'Module23', \n",
    "                   'Module24', 'Module25', 'Module26']\n",
    "df_WGCNA_TAU = pd.merge(df_WGCNA_module, df_TAU, how='left', on=['GeneId'])\n",
    "df_WGCNA_TAU.fillna('Not TSG', inplace=True)\n",
    "#df_WGCNA_TAU.replace(old_module_tags, new_module_tags, inplace=True)\n",
    "df_WGCNA_TAU['number'] = [1]*df_WGCNA_TAU.shape[0]\n",
    "df_result = df_WGCNA_TAU.groupby(by=['Module', 'tags'], as_index=False)['number'].sum()\n",
    "df_result.to_csv(\"G:/Billfish/J668_multip_tissue_3D-genome/RNA_seq/WGCNA/module/TAU_ratio/WGCNA_TAU_module_ratio.bed\", sep=\"\\t\", index=False)"
   ]
  },
  {
   "cell_type": "code",
   "execution_count": null,
   "metadata": {},
   "outputs": [],
   "source": [
    "#分析同源bias 基因所相关的共表达基因平均表达水平\n",
    "import pandas as pd\n",
    "import numpy as np\n",
    "df_hg_bias = pd.read_csv(\"G:/Billfish/J668_multip_tissue_3D-genome/RNA_seq/homo_gene2/gene_bias/all_tissue_bias_gene_pair.bed\", sep=\"\\t\")\n",
    "df_WGCNA = pd.read_csv(\"G:/Billfish/J668_multip_tissue_3D-genome/RNA_seq/WGCNA/J668_all_tissue_005.edges.txt\", sep=\"\\t\")\n",
    "df_TPM = pd.read_csv(\"G:/Billfish/J668_multip_tissue_3D-genome/RNA_seq/expression_gene/J668_all_tissue_average_TPM_long.txt\", sep=\"\\t\")\n",
    "df_anther = df_hg_bias.query(\"tags=='Anther'\").copy()\n"
   ]
  },
  {
   "cell_type": "code",
   "execution_count": 36,
   "metadata": {},
   "outputs": [],
   "source": [
    "\n",
    "# 分析一个基因其所包含的所有共表达基因的平均值\n",
    "import re\n",
    "def gene_WGCNA_average(df_WGCNA, df_TPM, geneid):\n",
    "    # chrom = re.findall(r'Ghir_\\w{3}')[0]\n",
    "    # df_WGCNA = df_WGCNA.query(\"fromNode.str.contain(@chrom) | toNode.str.contain(@chrom)\", engine='python')\n",
    "    df_WGCNA_gene = df_WGCNA.query(\"fromNode==@geneid|toNode==@geneid\")[['fromNode', 'toNode']].copy()\n",
    "    #print(df_WGCNA_gene.shape[0])\n",
    "    if df_WGCNA_gene.shape[0]==0:\n",
    "        gene_exp = df_TPM.query(\"GeneId==@geneid\")['TPM'].mean()\n",
    "        #print(gene_exp)\n",
    "        return gene_exp\n",
    "    else:\n",
    "        df_WGCNA_gene_np = df_WGCNA_gene.to_numpy()\n",
    "        df_np = df_WGCNA_gene_np.reshape(-1,1)\n",
    "        df_WGCNA_gene = pd.DataFrame(df_np, columns = ['GeneId'])\n",
    "        df_WGCNA_gene.drop_duplicates(keep=False, inplace=True)\n",
    "        df_WGCNA_gene_TPM = pd.merge(df_WGCNA_gene, df_TPM, how='inner', on=['GeneId'])\n",
    "        #print(df_WGCNA_gene_TPM['TPM'].mean())\n",
    "        return df_WGCNA_gene_TPM['TPM'].mean()\n",
    "df_anther_TPM = df_TPM.query(\"tags=='Anther'\").copy()\n",
    "df_anther_HG = df_hg_bias.query(\"tags=='Anther'\").copy()\n",
    "df_result = pd.DataFrame(columns=['GeneId', 'TPM', 'tags'])\n",
    "for index, row in df_anther_HG.iterrows():\n",
    "    geneid_at,  geneid_dt, sig = row['GeneId_At'], row['GeneId_Dt'], row['sig']\n",
    "    geneid_at_tpm = gene_WGCNA_average(df_WGCNA, df_anther_TPM, geneid_at)\n",
    "    geneid_dt_tpm = gene_WGCNA_average(df_WGCNA, df_anther_TPM, geneid_dt)\n",
    "    df_result[df_result.shape[0]] = [geneid_at, geneid_at_tpm, sig]\n",
    "    df_result[df_result.shape[0]] = [geneid_dt, geneid_dt_tpm, sig]\n",
    "    #print([geneid_at, geneid_at_tpm, sig])\n",
    "df_result.to_csv(\"G:/Billfish/J668_multip_tissue_3D-genome/RNA_seq/WGCNA/HG_bias/Anther_HG_WGCNA_average_TPM\", sep=\"\\t\")\n",
    "# gene_WGCNA_average(df_WGCNA, df_anther_TPM, 'Ghir_A01G000330')\n",
    "# gene_WGCNA_average(df_WGCNA, df_anther_TPM, 'Ghir_D01G000340')"
   ]
  },
  {
   "cell_type": "code",
   "execution_count": 72,
   "metadata": {},
   "outputs": [],
   "source": [
    "## 确定每个WGCNA 基因所连接基因的TPM 平均值\n",
    "import pandas as pd\n",
    "df = pd.read_csv(\"G:/Billfish/J668_multip_tissue_3D-genome/RNA_seq/WGCNA/J668_all_tissue_005.edges.txt\", sep=\"\\t\")\n",
    "df_TPM = pd.read_csv(\"G:/Billfish/J668_multip_tissue_3D-genome/RNA_seq/expression_gene/J668_all_tissue_average_TPM_long.txt\", sep=\"\\t\")\n",
    "df_TPM = df_TPM.query(\"tags=='Anther'\").copy()\n",
    "df_TPM = df_TPM[['GeneId', 'TPM']].copy()\n",
    "df_TPM.columns = ['toNode', 'TPM']\n",
    "df_a = df[['toNode', 'fromNode', 'weight']].copy()\n",
    "df_a.columns = ['fromNode', 'toNode', 'weight']\n",
    "df_WGCNA_pairs = pd.concat([df, df_a], axis=0)\n",
    "df_WGCNA_pairs = pd.merge(df_WGCNA_pairs, df_TPM, how='left', on=['toNode'])\n",
    "dz = df_WGCNA_pairs.query(\"fromNode=='Ghir_A01G000010' | toNode =='Ghir_A01G000010'\")\n",
    "df_result = df_WGCNA_pairs.groupby(by=['fromNode'], as_index=False)['TPM'].mean()\n",
    "df_result.to_csv(\"G:/Billfish/J668_multip_tissue_3D-genome/RNA_seq/WGCNA/J668_all_tissue_WGCNA_average_TPM.csv\", index=False)"
   ]
  },
  {
   "cell_type": "code",
   "execution_count": 4,
   "metadata": {},
   "outputs": [],
   "source": [
    "## 分析能发生bias表达的基因其 共表达基因TPM的平均值\n",
    "import pandas as pd\n",
    "df_bias = pd.read_csv(\"G:/Billfish/J668_multip_tissue_3D-genome/new_RNA_seq/homo_gene2/gene_bias/all_tissue_bias_gene_pair.bed\", sep=\"\\t\")\n",
    "df_WGCNA = pd.read_csv(\"G:/Billfish/J668_multip_tissue_3D-genome/RNA_seq/WGCNA/J668_all_tissue_WGCNA_average_TPM.csv\")\n",
    "df_Anther_bias = df_bias.query(\"tissues=='Anther'\").copy()\n",
    "df_result = pd.DataFrame(columns = ['GeneId', 'TPM', 'Bias', 'Subg'])\n",
    "for index, row in df_Anther_bias.iterrows():\n",
    "    gene_At, gene_Dt, at_tpm, dt_tpm , tags = row['GeneId_At'], row['GeneId_Dt'], row['TPM_At'], row['TPM_Dt'], row['sig']\n",
    "    at_wgcna, dt_wgcna = df_WGCNA.query('fromNode==@gene_At'), df_WGCNA.query('fromNode==@gene_Dt')\n",
    "    #print(at_wgcna)\n",
    "    if at_wgcna.shape[0]==0:\n",
    "        wgcna_tmp_at = at_tpm\n",
    "    else:\n",
    "        wgcna_tmp_at = at_wgcna['TPM'].mean()\n",
    "    if dt_wgcna.shape[0]==0:\n",
    "        wgcna_tmp_dt = dt_tpm\n",
    "    else:\n",
    "        wgcna_tmp_dt = dt_wgcna['TPM'].mean()    \n",
    "    \n",
    "    df_result.loc[df_result.shape[0]] = [gene_At, wgcna_tmp_at, tags, 'At']\n",
    "    df_result.loc[df_result.shape[0]] = [gene_Dt, wgcna_tmp_dt, tags, 'Dt']\n",
    "df_result.to_csv(\"G:/Billfish/J668_multip_tissue_3D-genome/RNA_seq/WGCNA/HG_bias/J668_anther_WGNCA_bias.csv\", index=False)"
   ]
  },
  {
   "cell_type": "code",
   "execution_count": 91,
   "metadata": {},
   "outputs": [
    {
     "name": "stdout",
     "output_type": "stream",
     "text": [
      "12612\n",
      "9292\n"
     ]
    }
   ],
   "source": [
    "df_a = df_Anther_bias[['GeneId_At']].copy()\n",
    "df_b = df_Anther_bias[['GeneId_Dt']].copy()\n",
    "df_a.columns = ['GeneId']\n",
    "df_b.columns = ['GeneId']\n",
    "df_c = pd.concat([df_a, df_b], axis=0)\n",
    "print(df_c.shape[0])\n",
    "df_WGCNA.columns = ['GeneId', 'TPM']\n",
    "dfk = pd.merge(df_WGCNA, df_c, how='inner', on=['GeneId'])\n",
    "print(dfk.shape[0])"
   ]
  },
  {
   "cell_type": "code",
   "execution_count": null,
   "metadata": {},
   "outputs": [],
   "source": []
  }
 ],
 "metadata": {
  "kernelspec": {
   "display_name": "Python 3.8.3 ('base')",
   "language": "python",
   "name": "python3"
  },
  "language_info": {
   "codemirror_mode": {
    "name": "ipython",
    "version": 3
   },
   "file_extension": ".py",
   "mimetype": "text/x-python",
   "name": "python",
   "nbconvert_exporter": "python",
   "pygments_lexer": "ipython3",
   "version": "3.8.3"
  },
  "orig_nbformat": 4,
  "vscode": {
   "interpreter": {
    "hash": "a0f669ea42a4dcea88d385f8f9b4c3d9b966e24234758831d1dbfdac925619a2"
   }
  }
 },
 "nbformat": 4,
 "nbformat_minor": 2
}
