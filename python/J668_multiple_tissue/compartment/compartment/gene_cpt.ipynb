{
 "cells": [
  {
   "cell_type": "code",
   "execution_count": 8,
   "metadata": {},
   "outputs": [],
   "source": [
    "## 统计A/B compartment 所包含的基因数目\n",
    "## 将subcompartment 所包含的基因整理为宽数据格式\n",
    "import pandas as pd\n",
    "tissues = ['anthers', 'cotyledon', 'ovules', 'fiber_5DPA', 'fiber_10DPA', 'fiber_20DPA', 'hypocotyl', 'leaf', 'petals', 'radicle', 'root', 'stem', 'stigma']\n",
    "new_tissues = ['Anther', 'Cotyledon', 'Ovules', 'Fiber_5DPA', 'Fiber_10DPA', 'Fiber_20DPA', 'Hypocotyl', 'Leaf', 'Petals', 'Radicle', 'Root', 'Stem', 'Stigma']\n",
    "df_gene = pd.read_csv(\"G:/Billfish/J668_multip_tissue_3D-genome/RNA_seq/Gh_gene_position.bed\", sep=\"\\t\")\n",
    "df_gene = df_gene[['GeneId']].copy()\n",
    "df_gene = df_gene.query(\"~GeneId.str.contains('Scaff')\", engine='python').copy()\n",
    "df_cpt = pd.read_csv(\"G:/Billfish/J668_multip_tissue_3D-genome/HiC/compartment/cworld/100K/gene_cpt/J668_Tissuesgene_cpt.bed\", sep=\"\\t\", names = ['chr', 'start', 'end', 'GeneId', 'tissues', 'TPM', 'cpt'])\n",
    "df_cpt.drop_duplicates(keep='first', subset=['GeneId', 'tissues'], inplace=True)\n",
    "df_result = df_gene.copy()\n",
    "for t in tissues:\n",
    "    df_tissues = df_cpt.query(\"tissues==@t\")[['GeneId', 'cpt']].copy()\n",
    "    df_tissues.columns = ['GeneId', t]\n",
    "    df_tmp = pd.merge(df_gene, df_tissues, how='left', on=['GeneId'])\n",
    "    df_result = pd.merge(df_result, df_tmp, how='left', on=['GeneId'])\n",
    "#print(df_result)\n",
    "df_result.columns = ['GeneId', 'Anther', 'Cotyledon', 'Ovule', 'Fiber_5DPA', 'Fiber_10DPA', 'Fiber_20DPA', 'Hypocotyl', 'Leaf', 'Petal', 'Radicle', 'Root', 'Stem', 'Stigma']\n",
    "df_result.fillna(\"None\", inplace=True)\n",
    "df_result.to_csv(\"G:/Billfish/J668_multip_tissue_3D-genome/HiC/compartment/cworld/100K/gene_cpt/J668_gene_cpt_raw_wide.bed\", sep=\"\\t\", index=False)"
   ]
  },
  {
   "cell_type": "code",
   "execution_count": null,
   "metadata": {},
   "outputs": [],
   "source": [
    "## 统计每种不同的subcompartment 所包含的基因数目\n",
    "import pandas as pd\n",
    "df = pd.read_csv(\"G:/Billfish/J668_multip_tissue_3D-genome/HiC/compartment/cworld/100K/gene_cpt/J668_gene_cpt_raw_wide.bed\", sep=\"\\t\")\n",
    "df_long = pd.melt(df, id_vars = (\"GeneId\"))\n",
    "df_long['number'] = [1]*df_long.shape[0]\n",
    "df_statics = df_long.groupby(by=['variable', 'value'], as_index=False)['number'].sum()\n",
    "\n",
    "df_statics.to_csv(\"G:/Billfish/J668_multip_tissue_3D-genome/HiC/compartment/cworld/100K/gene_cpt/J668_gene_cpt_raw_wide_sta.bed\", sep=\"\\t\", index=False)\n"
   ]
  }
 ],
 "metadata": {
  "kernelspec": {
   "display_name": "Python 3.8.3 ('base')",
   "language": "python",
   "name": "python3"
  },
  "language_info": {
   "codemirror_mode": {
    "name": "ipython",
    "version": 3
   },
   "file_extension": ".py",
   "mimetype": "text/x-python",
   "name": "python",
   "nbconvert_exporter": "python",
   "pygments_lexer": "ipython3",
   "version": "3.8.3"
  },
  "orig_nbformat": 4,
  "vscode": {
   "interpreter": {
    "hash": "a0f669ea42a4dcea88d385f8f9b4c3d9b966e24234758831d1dbfdac925619a2"
   }
  }
 },
 "nbformat": 4,
 "nbformat_minor": 2
}
