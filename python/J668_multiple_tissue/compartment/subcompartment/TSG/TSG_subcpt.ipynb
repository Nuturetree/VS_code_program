{
 "cells": [
  {
   "cell_type": "code",
   "execution_count": 31,
   "metadata": {},
   "outputs": [],
   "source": [
    "## 对于bedtools 分析出的组织特异性表达基因所具有的subcompartment 状态进行去重\n",
    "import pandas as pd\n",
    "df = pd.read_csv(\"G:/Billfish/J668_multip_tissue_3D-genome/HiC/compartment/CALDER2/tissues/J668_tissues_special_gene_subcpt.bed\", sep=\"\\t\", names = ['chr', 'start', 'end', 'GeneId', 'special_tissues', 'tissues', 'TPM', 'subcpt'])\n",
    "df.drop_duplicates(keep='last', inplace=True, subset=['GeneId', 'tissues'])\n",
    "df.to_csv(\"G:/Billfish/J668_multip_tissue_3D-genome/HiC/compartment/CALDER2/tissues/J668_tissues_special_gene_subcpt.bed\", sep=\"\\t\", index=False)"
   ]
  },
  {
   "cell_type": "code",
   "execution_count": 59,
   "metadata": {},
   "outputs": [
    {
     "name": "stdout",
     "output_type": "stream",
     "text": [
      "['cotyledon', 'ovules', 'fiber_5DPA', 'fiber_10DPA', 'fiber_20DPA', 'hypocotyl', 'leaf', 'petals', 'radicle', 'root', 'stem', 'stigma']\n",
      "['anthers', 'ovules', 'fiber_5DPA', 'fiber_10DPA', 'fiber_20DPA', 'hypocotyl', 'leaf', 'petals', 'radicle', 'root', 'stem', 'stigma']\n",
      "['anthers', 'cotyledon', 'fiber_5DPA', 'fiber_10DPA', 'fiber_20DPA', 'hypocotyl', 'leaf', 'petals', 'radicle', 'root', 'stem', 'stigma']\n",
      "['anthers', 'cotyledon', 'ovules', 'fiber_10DPA', 'fiber_20DPA', 'hypocotyl', 'leaf', 'petals', 'radicle', 'root', 'stem', 'stigma']\n",
      "['anthers', 'cotyledon', 'ovules', 'fiber_5DPA', 'fiber_20DPA', 'hypocotyl', 'leaf', 'petals', 'radicle', 'root', 'stem', 'stigma']\n",
      "['anthers', 'cotyledon', 'ovules', 'fiber_5DPA', 'fiber_10DPA', 'hypocotyl', 'leaf', 'petals', 'radicle', 'root', 'stem', 'stigma']\n",
      "['anthers', 'cotyledon', 'ovules', 'fiber_5DPA', 'fiber_10DPA', 'fiber_20DPA', 'leaf', 'petals', 'radicle', 'root', 'stem', 'stigma']\n",
      "['anthers', 'cotyledon', 'ovules', 'fiber_5DPA', 'fiber_10DPA', 'fiber_20DPA', 'hypocotyl', 'petals', 'radicle', 'root', 'stem', 'stigma']\n",
      "['anthers', 'cotyledon', 'ovules', 'fiber_5DPA', 'fiber_10DPA', 'fiber_20DPA', 'hypocotyl', 'leaf', 'radicle', 'root', 'stem', 'stigma']\n",
      "['anthers', 'cotyledon', 'ovules', 'fiber_5DPA', 'fiber_10DPA', 'fiber_20DPA', 'hypocotyl', 'leaf', 'petals', 'root', 'stem', 'stigma']\n",
      "['anthers', 'cotyledon', 'ovules', 'fiber_5DPA', 'fiber_10DPA', 'fiber_20DPA', 'hypocotyl', 'leaf', 'petals', 'radicle', 'stem', 'stigma']\n",
      "['anthers', 'cotyledon', 'ovules', 'fiber_5DPA', 'fiber_10DPA', 'fiber_20DPA', 'hypocotyl', 'leaf', 'petals', 'radicle', 'root', 'stigma']\n",
      "['anthers', 'cotyledon', 'ovules', 'fiber_5DPA', 'fiber_10DPA', 'fiber_20DPA', 'hypocotyl', 'leaf', 'petals', 'radicle', 'root', 'stem']\n"
     ]
    }
   ],
   "source": [
    "## 分析组织特异性基因，其在每个组织中最高subcpt数量统计\n",
    "import re\n",
    "import pandas as pd\n",
    "df = pd.read_csv(\"G:/Billfish/J668_multip_tissue_3D-genome/HiC/compartment/CALDER2/tissues/J668_tissues_special_gene_subcpt.bed\", sep=\"\\t\")\n",
    "tissues = [ 'anthers', 'cotyledon', 'ovules', 'fiber_5DPA', 'fiber_10DPA', 'fiber_20DPA', 'hypocotyl', 'leaf', 'petals', 'radicle', 'root', 'stem', 'stigma']\n",
    "## 将长数据转换为宽数据\n",
    "def longTowide(df):\n",
    "    df_return = pd.DataFrame()\n",
    "    for t in tissues:\n",
    "        df_special = df.query(\"special_tissues==@t\")\n",
    "        df_special_tissues = pd.DataFrame()\n",
    "        for j in tissues:\n",
    "            df_tmp = df_special.query(\"tissues==@j\")[['GeneId', 'subcpt']].copy()\n",
    "            df_tmp.columns = ['GeneId', j]\n",
    "            if df_special_tissues.shape[0] == 0:\n",
    "                df_special_tissues = df_tmp\n",
    "            else:\n",
    "                df_special_tissues = pd.merge(df_special_tissues, df_tmp, how='outer', on=['GeneId'])\n",
    "        df_special_tissues['tags'] = [t]*df_special_tissues.shape[0]\n",
    "        df_return = pd.concat([df_return, df_special_tissues], axis=0)\n",
    "    df_return.fillna(0, inplace=True)\n",
    "    return df_return\n",
    "#! 将处于动态和稳定的subcpt 区间的基因选出\n",
    "def stable_dynamic(df):\n",
    "    df_A1 = df.loc[(df[tissues]==\"A1\").all(axis=1), :]\n",
    "    df_A2 = df.loc[(df[tissues]==\"A2\").all(axis=1), :]\n",
    "    df_A3 = df.loc[(df[tissues]==\"A3\").all(axis=1), :]\n",
    "    df_A4 = df.loc[(df[tissues]==\"A4\").all(axis=1), :]\n",
    "    df_B1 = df.loc[(df[tissues]==\"B1\").all(axis=1), :]\n",
    "    df_B2 = df.loc[(df[tissues]==\"B2\").all(axis=1), :]\n",
    "    df_B3 = df.loc[(df[tissues]==\"B3\").all(axis=1), :]\n",
    "    df_B4 = df.loc[(df[tissues]==\"B4\").all(axis=1), :]\n",
    "    df_stable = pd.concat([df_A1, df_A2, df_A3, df_A4, df_B1, df_B2, df_B3, df_B4], axis=0)\n",
    "    df_dynamic = pd.concat([df, df_stable], axis=0)\n",
    "    df_dynamic.drop_duplicates(keep=False, inplace=True)\n",
    "    return df_stable, df_dynamic\n",
    "#! 统计分析，活性最高的基因表达量\n",
    "def colmax_indexn(df, i): ## 统计每行的最大值在每列中出现的数目\n",
    "    anthers_n =  df.query(\"anthers==@i\").shape[0]\n",
    "    cotyledon_n = df.query(\"cotyledon==@i\").shape[0]\n",
    "    ovules_n = df.query(\"ovules==@i\").shape[0]\n",
    "    fiber_5DPA_n = df.query(\"fiber_5DPA==@i\").shape[0]\n",
    "    fiber_10DPA_n = df.query(\"fiber_10DPA==@i\").shape[0]\n",
    "    fiber_20DPA_n = df.query(\"fiber_20DPA==@i\").shape[0]\n",
    "    hypocotyl_n = df.query(\"hypocotyl==@i\").shape[0]\n",
    "    leaf_n = df.query(\"leaf==@i\").shape[0]\n",
    "    petals_n = df.query(\"petals==@i\").shape[0]\n",
    "    radicle_n = df.query(\"radicle==@i\").shape[0]\n",
    "    root_n = df.query(\"root==@i\").shape[0]\n",
    "    stem_n = df.query(\"stem==@i\").shape[0]\n",
    "    stigma_n = df.query(\"stigma==@i\").shape[0]\n",
    "    number = [anthers_n, cotyledon_n, ovules_n, fiber_5DPA_n, fiber_10DPA_n, fiber_20DPA_n, hypocotyl_n, leaf_n, petals_n, radicle_n, root_n, stem_n, stigma_n]\n",
    "    # print(number)\n",
    "    # df_return = pd.DataFrame(pd.Series(number), columns = tissues)\n",
    "    df_return = pd.DataFrame({'anthers':[anthers_n], 'cotyledon':[cotyledon_n], 'ovules':[ovules_n], 'fiber_5DPA':[fiber_5DPA_n], \n",
    "    'fiber_10DPA':[fiber_10DPA_n], 'fiber_20DPA':[fiber_20DPA_n], 'hypocotyl':[hypocotyl_n], 'leaf':[leaf_n], 'petals':[petals_n], \n",
    "    'radicle':[radicle_n], 'root':[root_n], 'stem':[stem_n], 'stigma':[stigma_n]})\n",
    "    return df_return\n",
    "\n",
    "def sta_subcpt(df):\n",
    "    # 每行最大值，活性程度最高\n",
    "    old_tag = ['A1', 'A2', 'A3', 'A4', 'B4', 'B3', 'B2', 'B1']\n",
    "    new_tag = [8, 7, 6, 5, 4, 3, 2, 1]\n",
    "    df.replace(old_tag, new_tag, inplace=True)\n",
    "    df['max_values'] = df[tissues].max(axis=1)\n",
    "    # 统计每行活性程度最高的subcpt 其组织\n",
    "    df_return = pd.DataFrame()\n",
    "    for t in tissues:\n",
    "        df_tissues = df.query(\"tags==@t\").copy()\n",
    "        df_tissues_tmp = pd.DataFrame()\n",
    "        other_tissues = tissues.copy()\n",
    "        other_tissues.remove(t)\n",
    "        print(other_tissues)\n",
    "        df_tissues['other_average_subcpt'] = df_tissues[other_tissues].mean(axis=1)\n",
    "        #print(df_tissues[other_tissues].mean(axis=1))\n",
    "        df_tissues = df_tissues[[t, 'other_average_subcpt']]\n",
    "        df_tissues['tags'] = [t]*df_tissues.shape[0]\n",
    "        df_tissues.columns = ['TSG_subcpt', 'other_average_subcpt', 'tags']\n",
    "        df_return = pd.concat([df_return, df_tissues], axis=0)\n",
    "    return df_return\n",
    "df_wide = longTowide(df)\n",
    "#print(df_wide.shape[0])\n",
    "df_stable, df_dynamic = stable_dynamic(df_wide)\n",
    "#df_dynamic.to_csv(\"G:/Billfish/J668_multip_tissue_3D-genome/HiC/compartment/CALDER2/tissues/J668_dynamic_cpt.bed\", sep=\"\\t\", index=False)\n",
    "df_statistics = sta_subcpt(df_dynamic)\n",
    "df_statistics.to_csv(\"G:/Billfish/J668_multip_tissue_3D-genome/HiC/compartment/CALDER2/tissues/J668_TSG_subcpt_values.bed\", sep=\"\\t\", index=False)"
   ]
  }
 ],
 "metadata": {
  "kernelspec": {
   "display_name": "Python 3.8.3 ('base')",
   "language": "python",
   "name": "python3"
  },
  "language_info": {
   "codemirror_mode": {
    "name": "ipython",
    "version": 3
   },
   "file_extension": ".py",
   "mimetype": "text/x-python",
   "name": "python",
   "nbconvert_exporter": "python",
   "pygments_lexer": "ipython3",
   "version": "3.8.3"
  },
  "orig_nbformat": 4,
  "vscode": {
   "interpreter": {
    "hash": "a0f669ea42a4dcea88d385f8f9b4c3d9b966e24234758831d1dbfdac925619a2"
   }
  }
 },
 "nbformat": 4,
 "nbformat_minor": 2
}
