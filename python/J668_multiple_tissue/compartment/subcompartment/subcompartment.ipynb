{
 "cells": [
  {
   "cell_type": "code",
   "execution_count": 4,
   "metadata": {},
   "outputs": [],
   "source": [
    "# 整合所有鉴定到的subcompartment\n",
    "import pandas as pd\n",
    "tissues = ['anther', 'cotyledon', 'ovule', 'fiber_10DPA', 'fiber_20DPA', 'hypocotyl', 'leaf', 'petal', 'radicle', 'root', 'stem', 'stigma']\n",
    "new=['Anther', 'Cotyledon', 'Ovule', 'Fiber_10DPA', 'Fiber_20DPA', 'Hypocotyl', 'Leaf', 'Petal', 'Radicle', 'Root', 'Stem', 'Stigma']\n",
    "old_tag = [0.125, 0.25, 0.375, 0.5, 0.625, 0.75, 0.875, 1]\n",
    "new_tag = ['B1', 'B2', 'B3', 'B4', 'A4', 'A3', 'A2', 'A1']\n",
    "df_tmp = pd.DataFrame()\n",
    "for t in tissues:\n",
    "    input_f = \"G:/Billfish/J668_multip_tissue_3D-genome/HiC/compartment/CALDER2/subcompartment/{}_subcompartment.bed\".format(t)\n",
    "    df = pd.read_csv(input_f, sep=\"\\t\", names=['chr', 'start', 'end', 'sub_cpt', 'values', 'zero'], header=None)\n",
    "    df = df[['chr', 'start', 'end', 'values']].copy()\n",
    "    df.columns = ['chr', 'start', 'end', t]\n",
    "    if df_tmp.shape[0] == 0:\n",
    "        df_tmp = df.copy()\n",
    "    else:\n",
    "        df_tmp = pd.merge(df_tmp, df, how='outer', on=['chr', 'start', 'end'])\n",
    "#df_tmp.dropna(inplace=True)\n",
    "df_tmp.fillna(0.125, inplace=True)\n",
    "df = pd.melt(df_tmp, id_vars=('chr', 'start', 'end'))\n",
    "df.columns = ['chr', 'start', 'end', 'tissues', 'tags']\n",
    "df['number'] = [1]*df.shape[0]\n",
    "df['tags'].replace(old_tag, new_tag, inplace=True)\n",
    "df_statistics = df.groupby(by=['tissues', 'tags'], as_index=False)['number'].sum()\n",
    "df_statistics['ratio'] = df_statistics['number']/209164\n",
    "df_statistics['tissues'].replace(tissues, new, inplace=True)\n",
    "df_statistics.to_csv(\"G:/Billfish/J668_multip_tissue_3D-genome/HiC/compartment/CALDER2/statistics/J668_tissues_subcpt_sta.bed\", sep=\"\\t\", index=False)"
   ]
  },
  {
   "cell_type": "code",
   "execution_count": 12,
   "metadata": {},
   "outputs": [],
   "source": [
    "# 整合所有鉴定到的subcompartment, 分成At和Dt 两个亚基因组\n",
    "import pandas as pd\n",
    "df = pd.read_csv(\"G:/Billfish/J668_multip_tissue_3D-genome/HiC/compartment/CALDER2/subcompartment/J668_allTissues_subcompartment.bed\", sep=\"\\t\", names=['chrom', 'start', 'end', 'a', 'tags', 'tissues'])\n",
    "df['subg'] = df['chrom'].apply(lambda x: 'At' if 'Ghir_A' in x else 'Dt')\n",
    "# 统计出现的数目\n",
    "df_sta = pd.DataFrame(df[['tissues', 'subg', 'tags']].value_counts(), columns=['number'])\n",
    "df_sta.reset_index(inplace=True)\n",
    "df_sta.sort_values(by=['tissues', 'subg', 'tags'], inplace=True)\n",
    "df_sta.rename(columns={'tags':'sigs'}, inplace=True)\n",
    "df_sta.to_csv(\"G:/Billfish/J668_multip_tissue_3D-genome/HiC/compartment/CALDER2/statistics/J668_tissues_subcpt_sta_subg.bed\", sep=\"\\t\", index=False)\n"
   ]
  },
  {
   "cell_type": "code",
   "execution_count": 3,
   "metadata": {},
   "outputs": [],
   "source": [
    "# 生成新的 subcompartment格式\n",
    "## Ghir_A01\t1\t10000\t0.875\tA2\tA\n",
    "## Ghir_A01\t160001\t170000\t1.0\tA1\tA\n",
    "import pandas as pd\n",
    "tissues = ['anther', 'cotyledon', 'ovule', 'fiber_10DPA', 'fiber_20DPA', 'hypocotyl', 'leaf', 'petal', 'radicle', 'root', 'stem', 'stigma']\n",
    "old_tag = [0.125, 0.25, 0.375, 0.5, 0.625, 0.75, 0.875, 1]\n",
    "new_tag = ['B1', 'B2', 'B3', 'B4', 'A4', 'A3', 'A2', 'A1']\n",
    "for t in tissues:\n",
    "    input_f = \"G:/Billfish/J668_multip_tissue_3D-genome/HiC/compartment/CALDER2/subcompartment/{}_subcompartment.bed\".format(t)\n",
    "    output_f = \"G:/Billfish/J668_multip_tissue_3D-genome/HiC/compartment/CALDER2/subcompartment/{}_subcompartment_new.bed\".format(t)\n",
    "    df = pd.read_csv(input_f, sep=\"\\t\", names=['chr', 'start', 'end', 'sub_cpt', 'values', 'zero'], header=None)\n",
    "    df = df[['chr', 'start', 'end', 'values']].copy()\n",
    "    df['tags'] = df['values']\n",
    "    df['tags'].replace(old_tag, new_tag, inplace=True)\n",
    "    df['sig'] = df['tags'].apply(lambda x: 'A' if 'A' in str(x) else 'B')\n",
    "    df.to_csv(output_f, sep=\"\\t\", index=False, header=False)"
   ]
  },
  {
   "cell_type": "code",
   "execution_count": 22,
   "metadata": {},
   "outputs": [],
   "source": [
    "## 对compartment 调整方向\n",
    "import pandas as pd\n",
    "tissues = ['anthers', 'cotyledon', 'ovules', 'fiber_5DPA', 'fiber_10DPA', 'fiber_20DPA', 'hypocotyl', 'leaf', 'petal', 'radicle', 'root', 'stem', 'stigma']\n",
    "A_tag = ['A1', 'A2', 'A3', 'A4']\n",
    "A_tag2 = ['B4', 'B3', 'B2', 'B1']\n",
    "B_tag = [ 'B1', 'B2', 'B3', 'B4']\n",
    "B_tag2 = [ 'A4', 'A3', 'A2', 'A1']\n",
    "old_tag = [0.125, 0.25, 0.375, 0.5, 0.625, 0.75, 0.875, 1]\n",
    "new_tag = ['B1', 'B2', 'B3', 'B4', 'A4', 'A3', 'A2', 'A1']\n",
    "df_return = pd.DataFrame(columns = ['tissues', 'tags', 'number', 'ratio'])\n",
    "for t in tissues:\n",
    "    input_f = \"G:/Billfish/J668_multip_tissue_3D-genome/HiC/compartment/CALDER2/adjust_direact/{}_cpt_adjust.bed\".format(t)\n",
    "    output_f = \"G:/Billfish/J668_multip_tissue_3D-genome/HiC/compartment/CALDER2/adjust_direact/{}_cpt_adjust_T.bed\".format(t)\n",
    "    df = pd.read_csv(input_f, sep=\" \", names=['chr', 'start', 'end', 'vaules', 'tags', 'sig1', 'sig2'])\n",
    "    df_same = df.query(\"sig1==sig2\").copy()\n",
    "    df_AB = df.query(\"sig1=='A' & sig2=='B'\").copy()\n",
    "    df_BA = df.query(\"sig1=='B' & sig2=='A'\").copy()\n",
    "    df_AB['tags'].replace(A_tag, A_tag2, inplace=True)\n",
    "    df_BA['tags'].replace(B_tag, B_tag2, inplace=True)\n",
    "    df_out = pd.concat([df_same, df_AB, df_BA], axis=0)\n",
    "    df_out['vaules'] = df_out['tags']\n",
    "    df_out['vaules'].replace(new_tag, old_tag, inplace=True)\n",
    "    df_out.columns = ['chr', 'start', 'end', 'values', 'tags', 'sig1', 'sig2']\n",
    "    df_out.to_csv(output_f, sep=\"\\t\", index=False)\n",
    "    ## 统计调整方向后的数据比例\n",
    "    df_out['number'] = [1]*df_out.shape[0]\n",
    "    df_out1 = df_out.groupby(by=['tags'], as_index=False)['number'].sum()\n",
    "    df_out1['tissues'] = [t]*df_out1.shape[0]\n",
    "    df_out1['ratio'] = df_out1['number']/df_out.shape[0]\n",
    "    #print(df_out1)\n",
    "    df_return = pd.concat([df_return, df_out1], axis=0)\n",
    "df_return.to_csv(\"G:/Billfish/J668_multip_tissue_3D-genome/HiC/compartment/CALDER2/statistics/J668_tissues_subcpt_sta_adjust.bed\", sep=\"\\t\", index=False)"
   ]
  },
  {
   "cell_type": "code",
   "execution_count": 3,
   "metadata": {},
   "outputs": [
    {
     "name": "stdout",
     "output_type": "stream",
     "text": [
      "[[1.    1.    1.    ... 1.    1.    0.875]\n",
      " [1.    1.    1.    ... 1.    1.    0.875]\n",
      " [1.    1.    1.    ... 1.    1.    0.875]\n",
      " ...\n",
      " [0.625 0.625 0.625 ... 0.625 0.625 0.625]\n",
      " [0.875 0.875 0.375 ... 0.75  0.75  0.875]\n",
      " [0.875 0.875 0.375 ... 0.75  0.75  0.875]]\n",
      "[[ 0.27710966  0.27710966  0.27710966 ...  0.27710966  0.27710966\n",
      "  -3.32820012]\n",
      " [ 0.27710966  0.27710966  0.27710966 ...  0.27710966  0.27710966\n",
      "  -3.32820012]\n",
      " [ 0.27710966  0.27710966  0.27710966 ...  0.27710966  0.27710966\n",
      "  -3.32820012]\n",
      " ...\n",
      " [-0.2773501  -0.2773501  -0.2773501  ... -0.2773501  -0.2773501\n",
      "  -0.2773501 ]\n",
      " [ 0.70992884  0.70992884 -1.75128907 ...  0.09462436  0.09462436\n",
      "   0.70992884]\n",
      " [ 0.70992884  0.70992884 -1.75128907 ...  0.09462436  0.09462436\n",
      "   0.70992884]]\n"
     ]
    }
   ],
   "source": [
    "## 将所有组织subcompartment整合为一个文件，并且z-score标准化，用umap聚类\n",
    "import pandas as pd\n",
    "import scipy.stats as stats\n",
    "import numpy as np\n",
    "import umap\n",
    "from sklearn.preprocessing import StandardScaler\n",
    "tissues = ['anthers', 'cotyledon', 'ovules', 'fiber_5DPA', 'fiber_10DPA', 'fiber_20DPA', 'hypocotyl', 'leaf', 'petal', 'radicle', 'root', 'stem', 'stigma']\n",
    "old_tag = [0.125, 0.25, 0.375, 0.5, 0.625, 0.75, 0.875, 1]\n",
    "new_tag = ['B1', 'B2', 'B3', 'B4', 'A4', 'A3', 'A2', 'A1']\n",
    "df_tmp = pd.DataFrame()\n",
    "## 数据整合\n",
    "for t in tissues:\n",
    "    input_f = \"G:/Billfish/J668_multip_tissue_3D-genome/HiC/compartment/CALDER2/adjust_direact/{}_cpt_adjust_T.bed\".format(t)\n",
    "    df = pd.read_csv(input_f, sep='\\t')\n",
    "    df = df[['chr', 'start', 'end', 'values']].copy()\n",
    "    df.columns = ['chr', 'start', 'end', t]\n",
    "    if df_tmp.shape[0] == 0:\n",
    "        df_tmp = df.copy()\n",
    "    else:\n",
    "        df_tmp = pd.merge(df_tmp, df, how='outer', on=['chr', 'start', 'end'])\n",
    "## 去除空值\n",
    "df_tmp.dropna(inplace=True)\n",
    "df_tmp.to_csv(\"G:/Billfish/J668_multip_tissue_3D-genome/HiC/compartment/CALDER2/adjust_direact/J668_subcompartment.bed\", sep=\"\\t\", index=False)\n",
    "\n",
    "## z-score 标准化\n",
    "df_tmp['fiber_20DPA'] = df_tmp['fiber_20DPA']+0.0001 ## 为了防止同一行相同无法标准化\n",
    "df_tmp['indexs'] = df_tmp['chr'].map(str) + '-' + df_tmp['start'].map(str) + '-' + df_tmp['end'].map(str)\n",
    "df_tmp = df_tmp[['indexs', 'anthers', 'cotyledon', 'ovules', 'fiber_5DPA', 'fiber_10DPA', 'fiber_20DPA', 'hypocotyl', 'leaf', 'petal', 'radicle', 'root', 'stem', 'stigma']]\n",
    "df_index = df_tmp[['indexs']].copy()\n",
    "df_tmp.set_index(\"indexs\", inplace=True)\n",
    "df_array = df_tmp.to_numpy()\n",
    "print(df_array)\n",
    "df_zscore = stats.zscore(df_array, axis=1, ddof=1)\n",
    "print(df_zscore)\n",
    "## 转换为pandas 格式\n",
    "\n",
    "df_zscore = pd.DataFrame(df_zscore, columns=tissues)\n",
    "\n",
    "# ## umap 降维处理\n",
    "# reducer = umap.UMAP()\n",
    "# data = df_zscore[tissues]\n",
    "# scaled_penguin_data = StandardScaler().fit_transform(data)\n",
    "# #print(scaled_penguin_data)\n",
    "# #df_test = pd.DataFrame(scaled_penguin_data)\n",
    "# #df_test.to_csv(\"G:/Billfish/J668_multip_tissue_3D-genome/HiC/compartment/CALDER2/test.bed\", sep=\"\\t\", index=False)\n",
    "# # df_test.drop_duplicates(keep='first', inplace=True)\n",
    "# # scaled_penguin_data = df_test.to_numpy()\n",
    "# embedding = reducer.fit_transform(scaled_penguin_data)\n",
    "# ## 数据整理\n",
    "# df_index.reset_index(drop=True, inplace=True)\n",
    "# indexs = df_index['indexs'].tolist()\n",
    "# df_umap = pd.DataFrame(embedding, columns =['umap1', 'umap2'], index=indexs)\n",
    "# df_umap.to_csv(\"G:/Billfish/J668_multip_tissue_3D-genome/HiC/compartment/CALDER2/umap/J668_subcpt_umap.bed\", sep=\"\\t\", index=False)"
   ]
  },
  {
   "cell_type": "code",
   "execution_count": 11,
   "metadata": {},
   "outputs": [
    {
     "ename": "TypeError",
     "evalue": "groupby() got an unexpected keyword argument 'set_index'",
     "output_type": "error",
     "traceback": [
      "\u001b[1;31m---------------------------------------------------------------------------\u001b[0m",
      "\u001b[1;31mTypeError\u001b[0m                                 Traceback (most recent call last)",
      "\u001b[1;32mg:\\Billfish\\VS_code_program\\python\\J668_multiple_tissue\\compartment\\subcompartment\\subcompartment.ipynb Cell 5\u001b[0m in \u001b[0;36m<cell line: 9>\u001b[1;34m()\u001b[0m\n\u001b[0;32m      <a href='vscode-notebook-cell:/g%3A/Billfish/VS_code_program/python/J668_multiple_tissue/compartment/subcompartment/subcompartment.ipynb#X34sZmlsZQ%3D%3D?line=5'>6</a>\u001b[0m df \u001b[39m=\u001b[39m pd\u001b[39m.\u001b[39mDataFrame(data)\n\u001b[0;32m      <a href='vscode-notebook-cell:/g%3A/Billfish/VS_code_program/python/J668_multiple_tissue/compartment/subcompartment/subcompartment.ipynb#X34sZmlsZQ%3D%3D?line=7'>8</a>\u001b[0m \u001b[39m# 统计两列元素排列组合的次数\u001b[39;00m\n\u001b[1;32m----> <a href='vscode-notebook-cell:/g%3A/Billfish/VS_code_program/python/J668_multiple_tissue/compartment/subcompartment/subcompartment.ipynb#X34sZmlsZQ%3D%3D?line=8'>9</a>\u001b[0m combination_counts \u001b[39m=\u001b[39m df\u001b[39m.\u001b[39;49mgroupby([\u001b[39m'\u001b[39;49m\u001b[39mCol1\u001b[39;49m\u001b[39m'\u001b[39;49m, \u001b[39m'\u001b[39;49m\u001b[39mCol2\u001b[39;49m\u001b[39m'\u001b[39;49m], set_index\u001b[39m=\u001b[39;49m\u001b[39mFalse\u001b[39;49;00m)\u001b[39m.\u001b[39msize()\u001b[39m.\u001b[39mreset_index(name\u001b[39m=\u001b[39m\u001b[39m'\u001b[39m\u001b[39mCount\u001b[39m\u001b[39m'\u001b[39m)\n\u001b[0;32m     <a href='vscode-notebook-cell:/g%3A/Billfish/VS_code_program/python/J668_multiple_tissue/compartment/subcompartment/subcompartment.ipynb#X34sZmlsZQ%3D%3D?line=10'>11</a>\u001b[0m \u001b[39mprint\u001b[39m(combination_counts)\n",
      "\u001b[1;31mTypeError\u001b[0m: groupby() got an unexpected keyword argument 'set_index'"
     ]
    }
   ],
   "source": [
    "import pandas as pd\n",
    "\n",
    "# 创建示例DataFrame\n",
    "data = {'Col1': ['A', 'B', 'C', 'A', 'B'],\n",
    "        'Col2': ['X', 'Y', 'Z', 'X', 'Y']}\n",
    "df = pd.DataFrame(data)\n",
    "\n",
    "# 统计两列元素排列组合的次数\n",
    "combination_counts = df.groupby(['Col1', 'Col2'], set_index=False).size().reset_index(name='Count')\n",
    "\n",
    "print(combination_counts)"
   ]
  },
  {
   "cell_type": "code",
   "execution_count": 3,
   "metadata": {},
   "outputs": [],
   "source": [
    "## 将bias 转换为long格式\n",
    "import pandas as pd\n",
    "df = pd.read_csv(\"G:/Billfish/J668_multip_tissue_3D-genome/new_RNA_seq/homo_gene2/gene_bias/all_tissue_bias_gene_pair.bed\", sep=\"\\t\")\n",
    "df_at = df[['GeneId_At', 'TPM_At', 'sig', 'tissues']].copy()\n",
    "df_dt = df[['GeneId_Dt', 'TPM_Dt', 'sig', 'tissues']].copy()\n",
    "df_at.columns = ['GeneId', 'TPM', 'Bias', 'tissues']\n",
    "df_dt.columns = ['GeneId', 'TPM', 'Bias', 'tissues']\n",
    "df = pd.concat([df_at, df_dt], axis=0)\n",
    "df.to_csv(\"G:/Billfish/J668_multip_tissue_3D-genome/new_RNA_seq/homo_gene2/gene_bias/all_tissue_bias_gene_long.bed\", sep=\"\\t\", index=False)"
   ]
  },
  {
   "cell_type": "code",
   "execution_count": 12,
   "metadata": {},
   "outputs": [
    {
     "name": "stdout",
     "output_type": "stream",
     "text": [
      "        tissues    sig  size\n",
      "0        anther  BiasA  3107\n",
      "1        anther  BiasD  3264\n",
      "2     cotyledon  BiasA  2757\n",
      "3     cotyledon  BiasD  2938\n",
      "4   fiber_10DPA  BiasA  3026\n",
      "5   fiber_10DPA  BiasD  3259\n",
      "6   fiber_20DPA  BiasA  2953\n",
      "7   fiber_20DPA  BiasD  3110\n",
      "8     hypocotyl  BiasA  2666\n",
      "9     hypocotyl  BiasD  2799\n",
      "10         leaf  BiasA  2521\n",
      "11         leaf  BiasD  2849\n",
      "12        ovule  BiasA  2256\n",
      "13        ovule  BiasD  2541\n",
      "14        petal  BiasA  3399\n",
      "15        petal  BiasD  3542\n",
      "16      radicle  BiasA  2449\n",
      "17      radicle  BiasD  2538\n",
      "18         root  BiasA  2609\n",
      "19         root  BiasD  2808\n",
      "20         stem  BiasA  2719\n",
      "21         stem  BiasD  2892\n",
      "22       stigma  BiasA  3424\n",
      "23       stigma  BiasD  3622\n"
     ]
    }
   ],
   "source": [
    "df = pd.read_csv(\"G:/Billfish/J668_multip_tissue_3D-genome/new_RNA_Seq/homo_gene2/gene_bias/all_tissue_bias_gene_pair.bed\", sep=\"\\t\")\n",
    "df_result = df.query(\"(TPM_At/TPM_Dt<=0.5 | TPM_At/TPM_Dt>=2) & (TPM_At>0.5 | TPM_Dt>0.5)\")\n",
    "df_number = df_result.groupby(['tissues', 'sig'], as_index=False).size()\n"
   ]
  },
  {
   "cell_type": "code",
   "execution_count": 15,
   "metadata": {},
   "outputs": [
    {
     "name": "stdout",
     "output_type": "stream",
     "text": [
      "            GeneId_At        GeneId_Dt      TPM_At subcpt_At     TPM_Dt  \\\n",
      "0     Ghir_A01G000190  Ghir_D01G000200    1.050841        A1  13.540072   \n",
      "1     Ghir_A01G000230  Ghir_D01G000240   69.419666        A1  11.728125   \n",
      "2     Ghir_A01G000240  Ghir_D01G000250    1.207827        A1   0.253538   \n",
      "3     Ghir_A01G000250  Ghir_D01G000260    0.768050        A1   0.029098   \n",
      "4     Ghir_A01G000290  Ghir_D01G000300    4.855359        A1   1.555541   \n",
      "...               ...              ...         ...       ...        ...   \n",
      "6463  Ghir_A13G024590  Ghir_D13G025370   12.053278        A1  26.018464   \n",
      "6464  Ghir_A13G024790  Ghir_D13G025560    1.513431        A1   6.099012   \n",
      "6465  Ghir_A13G024820  Ghir_D13G025590    0.541687        A1   1.434128   \n",
      "6466  Ghir_A13G024830  Ghir_D13G025600  125.278198        A1  41.888337   \n",
      "6467  Ghir_A13G024870  Ghir_D13G025640    5.007550        A1   0.379624   \n",
      "\n",
      "     subcpt_Dt tissues  \n",
      "0           A1  anther  \n",
      "1           A1  anther  \n",
      "2           A1  anther  \n",
      "3           A1  anther  \n",
      "4           A1  anther  \n",
      "...        ...     ...  \n",
      "6463        A1  stigma  \n",
      "6464        A1  stigma  \n",
      "6465        A1  stigma  \n",
      "6466        A1  stigma  \n",
      "6467        A1  stigma  \n",
      "\n",
      "[63438 rows x 7 columns]\n"
     ]
    }
   ],
   "source": [
    "# 分析bias 状态与subcompartment 间的联系\n",
    "import pandas as pd\n",
    "df_subcpt = pd.read_csv(\"G:/Billfish/J668_multip_tissue_3D-genome/HiC/compartment/CALDER2/subcompartment/J668_all_tissue_gene_subcpt_status.csv\", names=['chrom', 'start', 'end', 'GeneId', 'tissues', 'sub_cpt'])\n",
    "df_bias = pd.read_csv(\"G:/Billfish/J668_multip_tissue_3D-genome/new_RNA_seq/homo_gene2/gene_bias/all_tissue_bias_gene_long.bed\", sep=\"\\t\")\n",
    "df_subcpt = df_subcpt[['GeneId', 'sub_cpt', 'tissues']]\n",
    "#print(df_subcpt.shape[0])\n",
    "df_subcpt.drop_duplicates(keep='first', inplace=True, subset=['GeneId', 'tissues'])\n",
    "df_result = pd.merge(df_bias, df_subcpt, how='inner', on=['GeneId', 'tissues'])\n",
    "df_result.to_csv(\"G:/Billfish/J668_multip_tissue_3D-genome/HiC/compartment/CALDER2/subcpt_biasAD/J668_subcpt_Bias.bed\", sep=\"\\t\", index=False)\n",
    "\n",
    "## 整理为成对的互作,给所有同源基因打上subcpt标签，并整理为成对的格式\n",
    "df_hg_pair = pd.read_csv(\"G:/Billfish/J668_multip_tissue_3D-genome/new_RNA_seq/homo_gene2/Ghir_homo_gene_pairs.txt\", sep=\"\\t\")\n",
    "tissues = [ 'anther', 'cotyledon', 'ovule',  'fiber_10DPA', 'fiber_20DPA', 'hypocotyl', 'leaf', 'petal', 'radicle', 'root', 'stem', 'stigma']\n",
    "df_subcpt_bias = pd.DataFrame()\n",
    "df_hg_bias = pd.read_csv(\"G:/Billfish/J668_multip_tissue_3D-genome/new_RNA_seq/homo_gene2/gene_bias/all_tissue_bias_gene_pair.bed\", sep=\"\\t\")\n",
    "df_hg_bias = df_hg_bias[['GeneId_At', 'GeneId_Dt', 'sig', 'tissues']].copy()\n",
    "df_hg_bias.columns = ['GeneId_At', 'GeneId_Dt', 'Bias', 'tissues']\n",
    "for t in tissues:\n",
    "    df_hg_pair.columns = ['GeneId_At', 'GeneId_Dt']\n",
    "    df_tissues = df_result.query(\"tissues==@t\")[['GeneId', 'TPM', 'sub_cpt']].copy()\n",
    "    #print(df_tissues.shape[0])\n",
    "    df_tissues.columns = ['GeneId_At', 'TPM_At', 'subcpt_At']\n",
    "    df1 = pd.merge(df_hg_pair, df_tissues, on=['GeneId_At', ])\n",
    "    df_tissues.columns = ['GeneId_Dt', 'TPM_Dt', 'subcpt_Dt']\n",
    "    df2 = pd.merge(df1, df_tissues, on=['GeneId_Dt'])\n",
    "    df2['tissues']  = [t]*df2.shape[0]\n",
    "    df_subcpt_bias = pd.concat([df_subcpt_bias, df2], axis=0)\n",
    "print(df_subcpt_bias)\n",
    "## 筛选能够发生bias表达的同源基因对\n",
    "df_subcpt_bias = pd.merge(df_subcpt_bias, df_hg_bias, how='inner', on=['GeneId_At', 'GeneId_Dt', 'tissues'])\n",
    "df_subcpt_bias.to_csv(\"G:/Billfish/J668_multip_tissue_3D-genome/HiC/compartment/CALDER2/subcpt_biasAD/J668_subcpt_Bias_pair.bed\", sep=\"\\t\", index=False)"
   ]
  },
  {
   "cell_type": "code",
   "execution_count": 16,
   "metadata": {},
   "outputs": [],
   "source": [
    "## 统计分析与sub-cpt差异相关的同源基因bias 表达\n",
    "import pandas as pd\n",
    "df = pd.read_csv(\"G:/Billfish/J668_multip_tissue_3D-genome/HiC/compartment/CALDER2/subcpt_biasAD/J668_subcpt_Bias_pair.bed\", sep=\"\\t\")\n",
    "df_diffcpt = df.query(\"subcpt_At != subcpt_Dt\").copy()\n",
    "# 统计subcpt 差异对于同源基因差异影响的数目\n",
    "df_diffcpt['number'] = [1]*df_diffcpt.shape[0]\n",
    "df_statistics = df_diffcpt.groupby(by=['tissues'], as_index=False)['number'].sum()\n",
    "df_statistics.to_csv(\"G:/Billfish/J668_multip_tissue_3D-genome/HiC/compartment/CALDER2/subcpt_biasAD/J668_diffcpt_Bias_number.bed\", sep=\"\\t\", index=False)\n"
   ]
  },
  {
   "cell_type": "code",
   "execution_count": 69,
   "metadata": {},
   "outputs": [
    {
     "name": "stdout",
     "output_type": "stream",
     "text": [
      "3178\n",
      "688\n",
      "208\n"
     ]
    }
   ],
   "source": [
    "df = df_subcpt_bias.query(\"tissues=='anthers' & Bias=='BiasD'\")\n",
    "print(df.shape[0])\n",
    "df1 = df.query(\"subcpt_At=='A1' & subcpt_Dt!='A1'\")\n",
    "print(df1.shape[0])\n",
    "df2 = df.query(\"subcpt_At!='A1' & subcpt_Dt=='A1'\")\n",
    "print(df2.shape[0])"
   ]
  },
  {
   "cell_type": "code",
   "execution_count": 8,
   "metadata": {},
   "outputs": [],
   "source": [
    "## 将所有subcompartment 整理为一个文件\n",
    "import pandas as pd\n",
    "tissues = [ 'anther', 'cotyledon', 'ovule', 'fiber_10DPA', 'fiber_20DPA', 'hypocotyl', 'leaf', 'petal', 'radicle', 'root', 'stem', 'stigma']\n",
    "df_result = pd.DataFrame()\n",
    "for t in tissues:\n",
    "    input_f = \"G:/Billfish/J668_multip_tissue_3D-genome/HiC/compartment/CALDER2/subcompartment/{0}_subcompartment_new.bed\".format(t)\n",
    "    df_tmp = pd.read_csv(input_f, sep=\"\\t\", names=['chr', 'start', 'end', 'values', 'subcpt', 'cpt'])\n",
    "    df_tmp['tissues'] = [t]*df_tmp.shape[0]\n",
    "    df_result = pd.concat([df_result, df_tmp], axis=0)\n",
    "df_result.to_csv(\"G:/Billfish/J668_multip_tissue_3D-genome/HiC/compartment/CALDER2/subcompartment/J668_tissues_subcpt.bed\", sep=\"\\t\", index=False)"
   ]
  },
  {
   "cell_type": "code",
   "execution_count": 9,
   "metadata": {},
   "outputs": [],
   "source": [
    "## 将所有subcompartment 整理为一个文件， 宽数据格式\n",
    "import pandas as pd\n",
    "tissues = [ 'anther', 'cotyledon', 'ovule', 'fiber_10DPA', 'fiber_20DPA', 'hypocotyl', 'leaf', 'petal', 'radicle', 'root', 'stem', 'stigma']\n",
    "df_result = pd.DataFrame()\n",
    "for t in tissues:\n",
    "    input_f = \"G:/Billfish/J668_multip_tissue_3D-genome/HiC/compartment/CALDER2/subcompartment/{0}_subcompartment_new.bed\".format(t)\n",
    "    df_tmp = pd.read_csv(input_f, sep=\"\\t\", names=['chr', 'start', 'end', 'values', 'subcpt', 'cpt'])\n",
    "    df_tmp = df_tmp[['chr', 'start', 'end', 'subcpt']]\n",
    "    df_tmp.columns = ['chr', 'start', 'end',  t]\n",
    "    if df_result.shape[0] == 0:\n",
    "        df_result = df_tmp.copy()\n",
    "    else:\n",
    "        df_result = pd.merge(df_result, df_tmp, how='left', on=['chr', 'start', 'end'])\n",
    "df_result.dropna(inplace=True)\n",
    "df_result.to_csv(\"G:/Billfish/J668_multip_tissue_3D-genome/HiC/compartment/CALDER2/subcompartment/J668_tissues_subcpt_wide.bed\", sep=\"\\t\", index=False)"
   ]
  },
  {
   "cell_type": "code",
   "execution_count": 3,
   "metadata": {},
   "outputs": [
    {
     "name": "stderr",
     "output_type": "stream",
     "text": [
      "C:\\Users\\pc\\AppData\\Local\\Temp\\ipykernel_31856\\3966958459.py:3: FutureWarning: The frame.append method is deprecated and will be removed from pandas in a future version. Use pandas.concat instead.\n",
      "  df_dynamic = df_result.append(df_conserved)\n"
     ]
    }
   ],
   "source": [
    "## 区分保守区间和动态区间\n",
    "df_conserved = df_result.query(\"anthers==cotyledon & cotyledon==ovules & ovules==fiber_10DPA & fiber_10DPA==fiber_20DPA & fiber_20DPA==hypocotyl & hypocotyl==leaf & leaf==petals & petals==radicle & radicle==root & root==stem & stem==stigma\").copy()\n",
    "df_dynamic = df_result.append(df_conserved)\n",
    "df_dynamic.drop_duplicates(keep=False , inplace=True)\n",
    "df_conserved.to_csv(\"G:/Billfish/J668_multip_tissue_3D-genome/HiC/compartment/CALDER2/subcompartment/J668_subcpt_conserved.bed\", sep=\"\\t\", index=False)\n",
    "df_dynamic.to_csv(\"G:/Billfish/J668_multip_tissue_3D-genome/HiC/compartment/CALDER2/subcompartment/J668_subcpt_dynamic.bed\", sep=\"\\t\", index=False)\n",
    "df_conserved['tags'] = ['conserved']*df_conserved.shape[0]\n",
    "df_dynamic['tags'] = ['dynamic']*df_dynamic.shape[0]\n",
    "df_result = pd.concat([df_conserved, df_dynamic], axis=0)\n",
    "df_result.to_csv(\"G:/Billfish/J668_multip_tissue_3D-genome/HiC/compartment/CALDER2/subcompartment/J668_subcpt_dynamic_conserved.bed\", sep=\"\\t\", columns =['chr','start', 'end', 'tags'], index=False)"
   ]
  },
  {
   "cell_type": "code",
   "execution_count": 1,
   "metadata": {},
   "outputs": [],
   "source": [
    "## 将组织特异性基因整合成长数据格式\n",
    "import pandas as pd\n",
    "df = pd.read_csv(\"G:/Billfish/J668_multip_tissue_3D-genome/RNA_seq/tau_gini/J668_tissue_special_gene.txt\", sep=\"\\t\")\n",
    "df_long = pd.melt(df, id_vars=['chr', 'start', 'end', 'GeneId', 'tags'])\n",
    "df_long.columns = ['chr', 'start', 'end', 'GeneId', 'special_tissues', 'tissues', 'TPM']\n",
    "df_long.to_csv(\"G:/Billfish/J668_multip_tissue_3D-genome/RNA_seq/tau_gini/J668_tissue_special_gene_long.bed\", sep=\"\\t\", index=False)\n",
    "## 将单组织特异性基因选出\n",
    "tissues = [ 'anthers', 'cotyledon', 'ovules', 'fiber_5DPA', 'fiber_10DPA', 'fiber_20DPA', 'hypocotyl', 'leaf', 'petals', 'radicle', 'root', 'stem', 'stigma']\n",
    "for t in tissues:\n",
    "    #所有组织特异性基因在单一组织中的表达\n",
    "    # df_tmp = df_long.query(\"tissues==@t\")\n",
    "    # output_f = \"G:/Billfish/J668_multip_tissue_3D-genome/RNA_seq/tau_gini/tissues_species_gene/{}_tissue_special_gene.bed\".format(t)\n",
    "\n",
    "    #特定组织特异性基因在所有组织中的表达\n",
    "    df_tmp = df_long.query(\"special_tissues==@t\")\n",
    "    output_f = \"G:/Billfish/J668_multip_tissue_3D-genome/RNA_seq/tau_gini/tissues_species_gene/{}_special_gene.bed\".format(t)\n",
    "    df_tmp.to_csv(output_f, sep=\"\\t\", index=False)"
   ]
  },
  {
   "cell_type": "code",
   "execution_count": 21,
   "metadata": {},
   "outputs": [],
   "source": [
    "## 分析subcompartment 在组织特异性表达基因中的组成\n",
    "import pandas as pd\n",
    "df = pd.read_csv(\"G:/Billfish/J668_multip_tissue_3D-genome/HiC/compartment/CALDER2/tissues/J668_tissues_special_gene_subcpt.bed\", sep=\"\\t\", names=['chr', 'start', 'end', 'GeneId', 'special_tissues', 'tissues', 'TPM', 'subcpt'])\n",
    "df['number'] = [1]*df.shape[0]\n",
    "df.drop_duplicates(keep='first', subset=['GeneId', 'special_tissues', 'tissues'], inplace=True)\n",
    "df2 = df.groupby([\"special_tissues\", 'tissues', 'subcpt'], as_index=False)['number'].sum()\n",
    "df2.to_csv(\"G:/Billfish/J668_multip_tissue_3D-genome/HiC/compartment/CALDER2/tissues/J668_tissues_special_gene_subcpt_statistics.bed\", sep=\"\\t\", index=False)"
   ]
  },
  {
   "cell_type": "code",
   "execution_count": 38,
   "metadata": {},
   "outputs": [],
   "source": [
    "## 分析组织特异性表达基因是否主要分布在dynamic compartment中\n",
    "import pandas as pd\n",
    "df = pd.read_csv(\"G:/Billfish/J668_multip_tissue_3D-genome/HiC/compartment/CALDER2/DC_subcpt/tissues/J668_tissues_special_gene_DC_subcpt.bed\", sep=\"\\t\", names=['chr', 'start', 'end', 'GeneId', 'special_tissues', 'tissues', 'TPM', 'DC_tags'])\n",
    "df['number'] = [1]*df.shape[0]\n",
    "df_sta = df.groupby([\"special_tissues\", 'tissues', 'DC_tags'], as_index=False)['number'].sum()\n",
    "df_sta = df_sta.query(\"special_tissues==tissues\")\n",
    "df_sta.to_csv(\"G:/Billfish/J668_multip_tissue_3D-genome/HiC/compartment/CALDER2/DC_subcpt/tissues/J668_TSG_DC_subcpt_sta.bed\", sep=\"\\t\", index=False)"
   ]
  },
  {
   "cell_type": "code",
   "execution_count": 37,
   "metadata": {},
   "outputs": [
    {
     "name": "stdout",
     "output_type": "stream",
     "text": [
      "608 430 970 1146 130 94 264 338 582 1352 1138 98 100\n"
     ]
    }
   ],
   "source": [
    "## 寻找subcpt 与组织特异性表达相关的例子\n",
    "import pandas as pd\n",
    "df = pd.read_csv(\"G:/Billfish/J668_multip_tissue_3D-genome/HiC/compartment/CALDER2/subcompartment/J668_subcpt_dynamic.bed\", sep=\"\\t\")\n",
    "df_anthers = df.query(\"anthers=='A1' & cotyledon!='A1' & ovules!='A1' & fiber_5DPA!='A1' & fiber_10DPA!='A1' & fiber_20DPA!='A1' & hypocotyl!='A1' & leaf!='A1' & petals!='A1' & radicle!='A1' & root!='A1' & stem!='A1' & stigma!='A1'\").copy()\n",
    "df_cotyledon = df.query(\"anthers!='A1' & cotyledon=='A1' & ovules!='A1' & fiber_5DPA!='A1' & fiber_10DPA!='A1' & fiber_20DPA!='A1' & hypocotyl!='A1' & leaf!='A1' & petals!='A1' & radicle!='A1' & root!='A1' & stem!='A1' & stigma!='A1'\").copy()\n",
    "df_ovules = df.query(\"anthers!='A1' & cotyledon!='A1' & ovules=='A1' & fiber_5DPA!='A1' & fiber_10DPA!='A1' & fiber_20DPA!='A1' & hypocotyl!='A1' & leaf!='A1' & petals!='A1' & radicle!='A1' & root!='A1' & stem!='A1'& stigma!='A1'\").copy()\n",
    "df_fiber_5DPA = df.query(\"anthers!='A1' & cotyledon!='A1' & ovules!='A1' & fiber_5DPA=='A1' & fiber_10DPA!='A1' & fiber_20DPA!='A1' & hypocotyl!='A1' & leaf!='A1' & petals!='A1' & radicle!='A1' & root!='A1' & stem!='A1' & stigma!='A1'\").copy()\n",
    "df_fiber_10DPA = df.query(\"anthers!='A1' & cotyledon!='A1' & ovules!='A1' & fiber_5DPA!='A1' & fiber_10DPA=='A1' & fiber_20DPA!='A1' & hypocotyl!='A1' & leaf!='A1' & petals!='A1' & radicle!='A1' & root!='A1' & stem!='A1'& stigma!='A1'\").copy()\n",
    "df_fiber_20DPA = df.query(\"anthers!='A1' & cotyledon!='A1' & ovules!='A1' & fiber_5DPA!='A1' & fiber_10DPA!='A1' & fiber_20DPA=='A1' & hypocotyl!='A1' & leaf!='A1' & petals!='A1' & radicle!='A1' & root!='A1' & stem!='A1'& stigma!='A1'\").copy()\n",
    "df_hypocotyl = df.query(\"anthers!='A1' & cotyledon!='A1' & ovules!='A1' & fiber_5DPA!='A1' & fiber_10DPA!='A1' & fiber_20DPA!='A1' & hypocotyl=='A1' & leaf!='A1' & petals!='A1' & radicle!='A1' & root!='A1' & stem!='A1'& stigma!='A1'\").copy()\n",
    "df_leaf = df.query(\"anthers!='A1' & cotyledon!='A1' & ovules!='A1' & fiber_5DPA!='A1' & fiber_10DPA!='A1' & fiber_20DPA!='A1' & hypocotyl!='A1' & leaf=='A1' & petals!='A1' & radicle!='A1' & root!='A1' & stem!='A1'& stigma!='A1'\").copy()\n",
    "df_petals = df.query(\"anthers!='A1' & cotyledon!='A1' & ovules!='A1' & fiber_5DPA!='A1' & fiber_10DPA!='A1' & fiber_20DPA!='A1' & hypocotyl!='A1' & leaf!='A1' & petals=='A1' & radicle!='A1' & root!='A1' & stem!='A1'& stigma!='A1'\").copy()\n",
    "df_radicle = df.query(\"anthers!='A1' & cotyledon!='A1' & ovules!='A1' & fiber_5DPA!='A1' & fiber_10DPA!='A1' & fiber_20DPA!='A1' & hypocotyl!='A1' & leaf!='A1' & petals!='A1' & radicle=='A1' & root!='A1' & stem!='A1'& stigma!='A1'\").copy()\n",
    "df_root = df.query(\"anthers!='A1' & cotyledon!='A1' & ovules!='A1' & fiber_5DPA!='A1' & fiber_10DPA!='A1' & fiber_20DPA!='A1' & hypocotyl!='A1' & leaf!='A1' & petals!='A1' & radicle!='A1' & root=='A1' & stem!='A1'& stigma!='A1'\").copy()\n",
    "df_stem = df.query(\"anthers!='A1' & cotyledon!='A1' & ovules!='A1' & fiber_5DPA!='A1' & fiber_10DPA!='A1' & fiber_20DPA!='A1' & hypocotyl!='A1' & leaf!='A1' & petals!='A1' & radicle!='A1' & root!='A1' & stem=='A1'& stigma!='A1'\").copy()\n",
    "df_stigma = df.query(\"anthers!='A1' & cotyledon!='A1' & ovules!='A1' & fiber_5DPA!='A1' & fiber_10DPA!='A1' & fiber_20DPA!='A1' & hypocotyl!='A1' & leaf!='A1' & petals!='A1' & radicle!='A1' & root!='A1' & stem!='A1'& stigma=='A1'\").copy()\n",
    "print(df_anthers.shape[0], df_cotyledon.shape[0], df_ovules.shape[0], df_fiber_5DPA.shape[0], df_fiber_10DPA.shape[0], df_fiber_20DPA.shape[0], df_hypocotyl.shape[0], df_leaf.shape[0], df_petals.shape[0], df_radicle.shape[0], df_root.shape[0], df_stem.shape[0], df_stigma.shape[0])\n",
    "\n",
    "df_anthers.to_csv(\"G:/Billfish/J668_multip_tissue_3D-genome/HiC/compartment/CALDER2/subcompartment/dynamic/anthers_A1.bed\", sep=\"\\t\", index=False, header=False)\n",
    "df_cotyledon.to_csv(\"G:/Billfish/J668_multip_tissue_3D-genome/HiC/compartment/CALDER2/subcompartment/dynamic/cotyledon_A1.bed\", sep=\"\\t\", index=False, header=False)\n",
    "df_ovules.to_csv(\"G:/Billfish/J668_multip_tissue_3D-genome/HiC/compartment/CALDER2/subcompartment/dynamic/ovules_A1.bed\", sep=\"\\t\", index=False, header=False)\n",
    "df_fiber_5DPA.to_csv(\"G:/Billfish/J668_multip_tissue_3D-genome/HiC/compartment/CALDER2/subcompartment/dynamic/fiber_5DPA_A1.bed\", sep=\"\\t\", index=False, header=False)\n",
    "df_fiber_10DPA.to_csv(\"G:/Billfish/J668_multip_tissue_3D-genome/HiC/compartment/CALDER2/subcompartment/dynamic/fiber_10DPA_A1.bed\", sep=\"\\t\", index=False, header=False)\n",
    "df_fiber_20DPA.to_csv(\"G:/Billfish/J668_multip_tissue_3D-genome/HiC/compartment/CALDER2/subcompartment/dynamic/fiber_20DPA_A1.bed\", sep=\"\\t\", index=False, header=False)\n",
    "df_hypocotyl.to_csv(\"G:/Billfish/J668_multip_tissue_3D-genome/HiC/compartment/CALDER2/subcompartment/dynamic/hypocotyl_A1.bed\", sep=\"\\t\", index=False, header=False)\n",
    "df_leaf.to_csv(\"G:/Billfish/J668_multip_tissue_3D-genome/HiC/compartment/CALDER2/subcompartment/dynamic/leaf_A1.bed\", sep=\"\\t\", index=False, header=False)\n",
    "df_petals.to_csv(\"G:/Billfish/J668_multip_tissue_3D-genome/HiC/compartment/CALDER2/subcompartment/dynamic/petals_A1.bed\", sep=\"\\t\", index=False, header=False)\n",
    "df_radicle.to_csv(\"G:/Billfish/J668_multip_tissue_3D-genome/HiC/compartment/CALDER2/subcompartment/dynamic/radicle_A1.bed\", sep=\"\\t\", index=False, header=False)\n",
    "df_root.to_csv(\"G:/Billfish/J668_multip_tissue_3D-genome/HiC/compartment/CALDER2/subcompartment/dynamic/root_A1.bed\", sep=\"\\t\", index=False, header=False)\n",
    "df_stem.to_csv(\"G:/Billfish/J668_multip_tissue_3D-genome/HiC/compartment/CALDER2/subcompartment/dynamic/stem_A1.bed\", sep=\"\\t\", index=False, header=False)\n",
    "df_stigma.to_csv(\"G:/Billfish/J668_multip_tissue_3D-genome/HiC/compartment/CALDER2/subcompartment/dynamic/stigma_A1.bed\", sep=\"\\t\", index=False, header=False)\n",
    "\n"
   ]
  },
  {
   "cell_type": "code",
   "execution_count": 40,
   "metadata": {},
   "outputs": [],
   "source": [
    "## 寻找subcpt 与组织特异性表达相关的例子, 对Hypocotyl， Stem， Fiber_10DPA, Fiber_20DPA 来找例子\n",
    "import pandas as pd\n",
    "df = pd.read_csv(\"G:/Billfish/J668_multip_tissue_3D-genome/HiC/compartment/CALDER2/subcompartment/J668_subcpt_dynamic.bed\", sep=\"\\t\")\n",
    "df_fiber_10DPA = df.query(\"fiber_10DPA=='A1'\").copy()\n",
    "df_fiber_20DPA = df.query(\"fiber_20DPA=='A1'\").copy()\n",
    "df_hypocotyl = df.query(\"hypocotyl=='A1'\").copy()\n",
    "df_stem = df.query(\"stem=='A1'\").copy()\n",
    "\n",
    "df_fiber_10DPA.to_csv(\"G:/Billfish/J668_multip_tissue_3D-genome/HiC/compartment/CALDER2/subcompartment/dynamic/fiber_10DPA_A1_2.bed\", sep=\"\\t\", index=False, header=False)\n",
    "df_fiber_20DPA.to_csv(\"G:/Billfish/J668_multip_tissue_3D-genome/HiC/compartment/CALDER2/subcompartment/dynamic/fiber_20DPA_A1_2.bed\", sep=\"\\t\", index=False, header=False)\n",
    "df_hypocotyl.to_csv(\"G:/Billfish/J668_multip_tissue_3D-genome/HiC/compartment/CALDER2/subcompartment/dynamic/hypocotyl_A1_2.bed\", sep=\"\\t\", index=False, header=False)\n",
    "df_stem.to_csv(\"G:/Billfish/J668_multip_tissue_3D-genome/HiC/compartment/CALDER2/subcompartment/dynamic/stem_A1_2.bed\", sep=\"\\t\", index=False, header=False)\n",
    "\n"
   ]
  },
  {
   "cell_type": "code",
   "execution_count": 41,
   "metadata": {},
   "outputs": [],
   "source": [
    "## 寻找subcpt 与组织特异性表达相关的例子\n",
    "import pandas as pd\n",
    "df = pd.read_csv(\"G:/Billfish/J668_multip_tissue_3D-genome/HiC/compartment/CALDER2/subcompartment/J668_subcpt_dynamic.bed\", sep=\"\\t\")\n",
    "df_fiber_10DPA = df.query(\"anthers!='A1' & cotyledon!='A1' & ovules!='A1' & fiber_5DPA!='A1' & fiber_10DPA=='A2' & fiber_20DPA!='A1' & hypocotyl!='A1' & leaf!='A1' & petals!='A1' & radicle!='A1' & root!='A1' & stem!='A1'& stigma!='A1'\").copy()\n",
    "df_fiber_20DPA = df.query(\"anthers!='A1' & cotyledon!='A1' & ovules!='A1' & fiber_5DPA!='A1' & fiber_10DPA!='A1' & fiber_20DPA=='A2' & hypocotyl!='A1' & leaf!='A1' & petals!='A1' & radicle!='A1' & root!='A1' & stem!='A1'& stigma!='A1'\").copy()\n",
    "df_hypocotyl = df.query(\"anthers!='A1' & cotyledon!='A1' & ovules!='A1' & fiber_5DPA!='A1' & fiber_10DPA!='A1' & fiber_20DPA!='A1' & hypocotyl=='A2' & leaf!='A1' & petals!='A1' & radicle!='A1' & root!='A1' & stem!='A1'& stigma!='A1'\").copy()\n",
    "df_stem = df.query(\"anthers!='A1' & cotyledon!='A1' & ovules!='A1' & fiber_5DPA!='A1' & fiber_10DPA!='A1' & fiber_20DPA!='A1' & hypocotyl!='A1' & leaf!='A1' & petals!='A1' & radicle!='A1' & root!='A1' & stem=='A2'& stigma!='A1'\").copy()\n",
    "\n",
    "df_fiber_10DPA.to_csv(\"G:/Billfish/J668_multip_tissue_3D-genome/HiC/compartment/CALDER2/subcompartment/dynamic/fiber_10DPA_A2.bed\", sep=\"\\t\", index=False, header=False)\n",
    "df_fiber_20DPA.to_csv(\"G:/Billfish/J668_multip_tissue_3D-genome/HiC/compartment/CALDER2/subcompartment/dynamic/fiber_20DPA_A2.bed\", sep=\"\\t\", index=False, header=False)\n",
    "df_hypocotyl.to_csv(\"G:/Billfish/J668_multip_tissue_3D-genome/HiC/compartment/CALDER2/subcompartment/dynamic/hypocotyl_A2.bed\", sep=\"\\t\", index=False, header=False)\n",
    "df_stem.to_csv(\"G:/Billfish/J668_multip_tissue_3D-genome/HiC/compartment/CALDER2/subcompartment/dynamic/stem_A2.bed\", sep=\"\\t\", index=False, header=False)"
   ]
  },
  {
   "cell_type": "code",
   "execution_count": 6,
   "metadata": {},
   "outputs": [],
   "source": [
    "import pandas as pd\n",
    "df = pd.read_csv(\"G:/Billfish/J668_multip_tissue_3D-genome/HiC/compartment/CALDER2/subcpt_tpm/J668_gene_subcpt_raw.bed\", sep=\"\\t\")\n",
    "df['number'] = [1]*df.shape[0]\n",
    "df_sta = df.groupby(by=['tissues', 'sub_cpt'], as_index=False)['number'].sum()\n",
    "df_sta.to_csv(\"G:/Billfish/J668_multip_tissue_3D-genome/HiC/compartment/CALDER2/subcpt_tpm/J668_gene_subcpt_raw_sta.bed\", sep=\"\\t\", index=False)"
   ]
  },
  {
   "cell_type": "code",
   "execution_count": 32,
   "metadata": {},
   "outputs": [],
   "source": [
    "## 将subcompartment 所包含的基因整理为宽数据格式\n",
    "import pandas as pd\n",
    "tissues = ['anthers', 'cotyledon', 'ovules', 'fiber_5DPA', 'fiber_10DPA', 'fiber_20DPA', 'hypocotyl', 'leaf', 'petals', 'radicle', 'root', 'stem', 'stigma']\n",
    "new_tissues = ['Anther', 'Cotyledon', 'Ovules', 'Fiber_5DPA', 'Fiber_10DPA', 'Fiber_20DPA', 'Hypocotyl', 'Leaf', 'Petals', 'Radicle', 'Root', 'Stem', 'Stigma']\n",
    "df_gene = pd.read_csv(\"G:/Billfish/J668_multip_tissue_3D-genome/RNA_seq/Gh_gene_position.bed\", sep=\"\\t\")\n",
    "df_gene = df_gene[['GeneId']].copy()\n",
    "df_gene = df_gene.query(\"~GeneId.str.contains('Scaff')\", engine='python').copy()\n",
    "df_subcpt = pd.read_csv(\"G:/Billfish/J668_multip_tissue_3D-genome/HiC/compartment/CALDER2/subcpt_tpm/J668_gene_subcpt_raw.bed\", sep=\"\\t\")\n",
    "df_subcpt.drop_duplicates(keep='first', subset=['GeneId', 'tissues'], inplace=True)\n",
    "df_result = df_gene.copy()\n",
    "for t in tissues:\n",
    "    df_tissues = df_subcpt.query(\"tissues==@t\")[['GeneId', 'sub_cpt']].copy()\n",
    "    df_tissues.columns = ['GeneId', t]\n",
    "    df_tmp = pd.merge(df_gene, df_tissues, how='left', on=['GeneId'])\n",
    "    df_result = pd.merge(df_result, df_tmp, how='left', on=['GeneId'])\n",
    "#print(df_result)\n",
    "df_result.columns = ['GeneId', 'Anther', 'Cotyledon', 'Ovule', 'Fiber_5DPA', 'Fiber_10DPA', 'Fiber_20DPA', 'Hypocotyl', 'Leaf', 'Petal', 'Radicle', 'Root', 'Stem', 'Stigma']\n",
    "df_result.fillna(\"None\", inplace=True)\n",
    "df_result.to_csv(\"G:/Billfish/J668_multip_tissue_3D-genome/HiC/compartment/CALDER2/subcpt_tpm/J668_gene_subcpt_raw_wide.bed\", sep=\"\\t\", index=False)"
   ]
  },
  {
   "cell_type": "code",
   "execution_count": 33,
   "metadata": {},
   "outputs": [],
   "source": [
    "## 统计每种不同的subcompartment 所包含的基因数目\n",
    "import pandas as pd\n",
    "df = pd.read_csv(\"G:/Billfish/J668_multip_tissue_3D-genome/HiC/compartment/CALDER2/subcpt_tpm/J668_gene_subcpt_raw_wide.bed\", sep=\"\\t\")\n",
    "df_long = pd.melt(df, id_vars = (\"GeneId\"))\n",
    "df_long['number'] = [1]*df_long.shape[0]\n",
    "df_statics = df_long.groupby(by=['variable', 'value'], as_index=False)['number'].sum()\n",
    "df_statics.to_csv(\"G:/Billfish/J668_multip_tissue_3D-genome/HiC/compartment/CALDER2/subcpt_tpm/J668_gene_subcpt_raw_wide_sta.bed\", sep=\"\\t\", index=False)\n"
   ]
  },
  {
   "cell_type": "code",
   "execution_count": 6,
   "metadata": {},
   "outputs": [
    {
     "name": "stdout",
     "output_type": "stream",
     "text": [
      "37516 13328 12577 63421\n"
     ]
    }
   ],
   "source": [
    "# 分析动态subcpt 所包含的同源基因对bias 表达，其中active 活性占比\n",
    "import pandas as pd\n",
    "df = pd.read_csv(\"G:/Billfish/J668_multip_tissue_3D-genome/HiC/compartment/CALDER2/subcpt_biasAD/J668_subcpt_Bias_pair.bed\", sep=\"\\t\")\n",
    "old_tags = ['A1', 'A2', 'A3', 'A4', 'B4', 'B3', 'B2', 'B1']\n",
    "new_tags = [8, 7, 6, 5, 4, 3, 2, 1]\n",
    "df['subcpt_At'].replace(old_tags, new_tags, inplace=True)\n",
    "df['subcpt_Dt'].replace(old_tags, new_tags, inplace=True)\n",
    "df_same = df.query('subcpt_At==subcpt_Dt').copy()\n",
    "df_Up = df.query(\"((subcpt_At>subcpt_Dt)&(Bias=='BiasA')) | ((subcpt_Dt>subcpt_At)&(Bias=='BiasD'))\").copy()\n",
    "df_Down = df.query(\"((subcpt_At>subcpt_Dt)&(Bias=='BiasD')) | ((subcpt_Dt>subcpt_At)&(Bias=='BiasA'))\").copy()\n",
    "print(df_same.shape[0], df_Up.shape[0], df_Down.shape[0], df.shape[0])"
   ]
  },
  {
   "cell_type": "code",
   "execution_count": 4,
   "metadata": {},
   "outputs": [],
   "source": [
    "# 分析sub-compartment 与WGCNA 间的联系, 分析是否共表达基因所处的染色质活跃程度越高，其共表达的程度越高\n",
    "import pandas as pd\n",
    "df_WGCNA = pd.read_csv(\"G:/Billfish/J668_multip_tissue_3D-genome/HiC/compartment/CALDER2/WGCNA/J668_all_tissue_005.edges.txt\", sep=\"\\t\")\n",
    "df_subcpt = pd.read_csv(\"G:/Billfish/J668_multip_tissue_3D-genome/HiC/compartment/CALDER2/subcpt_tpm/J668_gene_subcpt_raw.bed\", sep=\"\\t\")\n",
    "df_subcpt = df_subcpt.query(\"tissues=='Anther'\")[['GeneId', 'sub_cpt']].copy()\n",
    "df_subcpt.drop_duplicates(keep='first', subset=['GeneId'], inplace=True)\n",
    "df_subcpt.columns = ['fromNode', 'fromNodeCpt']\n",
    "df_a = pd.merge(df_WGCNA, df_subcpt, how='left', on=['fromNode'])\n",
    "df_subcpt.columns = ['toNode', 'toNodeCpt']\n",
    "df_tmp = pd.merge(df_a, df_subcpt, how='left', on=['toNode'])\n",
    "df_result = df_tmp.query(\"fromNodeCpt==toNodeCpt\").copy()\n",
    "df_result.to_csv(\"G:/Billfish/J668_multip_tissue_3D-genome/HiC/compartment/CALDER2/WGCNA/J668_anther_WGCNA_subcpt.csv\", index=False)\n"
   ]
  },
  {
   "cell_type": "code",
   "execution_count": 7,
   "metadata": {},
   "outputs": [],
   "source": [
    "## 每组样本随机抽取500个 来分析是否具有显著性差异\n",
    "sub_cpt = ['A1', 'A2', 'A3', 'A4', 'B1', 'B2', 'B3', 'B4']\n",
    "df_result2 = pd.DataFrame()\n",
    "for s in sub_cpt:\n",
    "    df_tmp = df_result.query(\"fromNodeCpt==@s\").copy()\n",
    "    df_tmp = df_tmp.sample(500)\n",
    "    df_result2 = pd.concat([df_result2, df_tmp], axis=0)\n",
    "df_result2.to_csv(\"G:/Billfish/J668_multip_tissue_3D-genome/HiC/compartment/CALDER2/WGCNA/J668_anther_WGCNA_subcpt_500.csv\", index=False)"
   ]
  },
  {
   "cell_type": "code",
   "execution_count": 2,
   "metadata": {},
   "outputs": [],
   "source": [
    "import pandas as pd\n",
    "old_tags = [1, 0.875, 0.75, 0.625, 0.5, 0.375, 0.25, 0.125]\n",
    "new_tags = ['A1', 'A2', 'A3', 'A4', 'B4', 'B3', 'B2', 'B1']\n",
    "df = pd.read_csv(\"G:/Billfish/J668_multip_tissue_3D-genome/HiC/compartment/CALDER2/subcompartment/J668_allTissues_subcompartment.bed\", sep=\"\\t\", names=['chrom', 'start', 'end', 'tags1', 'tags2', 'tissues'])\n",
    "df['tags2'].replace(old_tags, new_tags, inplace=True)\n",
    "df.to_csv(\"G:/Billfish/J668_multip_tissue_3D-genome/HiC/compartment/CALDER2/subcompartment/J668_allTissues_subcompartment.bed\", sep=\"\\t\", index=False, header=False)"
   ]
  }
 ],
 "metadata": {
  "kernelspec": {
   "display_name": "Python 3.8.3 ('base')",
   "language": "python",
   "name": "python3"
  },
  "language_info": {
   "codemirror_mode": {
    "name": "ipython",
    "version": 3
   },
   "file_extension": ".py",
   "mimetype": "text/x-python",
   "name": "python",
   "nbconvert_exporter": "python",
   "pygments_lexer": "ipython3",
   "version": "3.8.3"
  },
  "orig_nbformat": 4,
  "vscode": {
   "interpreter": {
    "hash": "a0f669ea42a4dcea88d385f8f9b4c3d9b966e24234758831d1dbfdac925619a2"
   }
  }
 },
 "nbformat": 4,
 "nbformat_minor": 2
}
