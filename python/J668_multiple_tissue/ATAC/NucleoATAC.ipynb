{
 "cells": [
  {
   "cell_type": "code",
   "execution_count": 14,
   "metadata": {},
   "outputs": [],
   "source": [
    "## 分析 启动子，增强子，非功能元件，附近所包含的核小体密度\n",
    "import pandas as pd\n",
    "df_element = pd.read_csv(\"G:/Billfish/J668_multip_tissue_3D-genome/ATAC/PETRE/hypocotyl/hypocotyl_micro_state.csv\")\n",
    "df_patre = pd.read_csv(\"G:/Billfish/J668_multip_tissue_3D-genome/ATAC/PETRE/hypocotyl/hypocotyl_PATRE_around_1K.bed\", sep=\"\\t\", names=['chrom', 'start', 'end', 'PATRE_Id'])\n",
    "df_patre_element = pd.merge(df_element, df_patre, how='inner', on=['PATRE_Id'])\n",
    "df_nucleo = pd.read_csv(\"G:/Billfish/J668_multip_tissue_3D-genome/ATAC/PETRE/hypocotyl/hypocotyl.occpeaks.bed\", sep=\"\\t\", names=['chrom', 'start', 'end'])\n",
    "\n",
    "def nucle_number(df1, df2):\n",
    "    for index, row in df1.iterrows():\n",
    "        C, S, E,  = row['chrom'], row['start'], row['end']\n",
    "        #rint(C,S,E)\n",
    "        df_tmp = df2.query(\"chrom==@C & start <= @E & end >= @S\").copy()\n",
    "        number = df_tmp.shape[0]\n",
    "        df1.loc[index, 'number'] = number\n",
    "    return df1\n",
    "chroms = ['Ghir_A01', 'Ghir_A02', 'Ghir_A03', 'Ghir_A04', 'Ghir_A05', 'Ghir_A06', 'Ghir_A07', 'Ghir_A08', 'Ghir_A09', 'Ghir_A10', 'Ghir_A11', 'Ghir_A12', 'Ghir_A13',\n",
    "          'Ghir_D01', 'Ghir_D02', 'Ghir_D03', 'Ghir_D04', 'Ghir_D05', 'Ghir_D06', 'Ghir_D07', 'Ghir_D08', 'Ghir_D09', 'Ghir_D10', 'Ghir_D11', 'Ghir_D12', 'Ghir_D13']\n",
    "df_result = pd.DataFrame()\n",
    "for c  in chroms:\n",
    "    df1_c = df_patre_element.query(\"chrom==@c\").copy()\n",
    "    df2_c = df_nucleo.query(\"chrom==@c\").copy()\n",
    "    #print(df2_c)\n",
    "    df_tmp = nucle_number(df1_c, df2_c)\n",
    "    df_result = pd.concat([df_result, df_tmp], axis=0)\n",
    "df_result.to_csv(\"G:/Billfish/J668_multip_tissue_3D-genome/ATAC/PETRE/hypocotyl/hypocotyl_PATRE_1K_nucleo_number.csv\", index=False)"
   ]
  }
 ],
 "metadata": {
  "kernelspec": {
   "display_name": "Python 3.8.3 ('base')",
   "language": "python",
   "name": "python3"
  },
  "language_info": {
   "codemirror_mode": {
    "name": "ipython",
    "version": 3
   },
   "file_extension": ".py",
   "mimetype": "text/x-python",
   "name": "python",
   "nbconvert_exporter": "python",
   "pygments_lexer": "ipython3",
   "version": "3.8.3"
  },
  "orig_nbformat": 4,
  "vscode": {
   "interpreter": {
    "hash": "a0f669ea42a4dcea88d385f8f9b4c3d9b966e24234758831d1dbfdac925619a2"
   }
  }
 },
 "nbformat": 4,
 "nbformat_minor": 2
}
