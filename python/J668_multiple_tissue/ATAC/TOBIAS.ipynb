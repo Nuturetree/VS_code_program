{
 "cells": [
  {
   "cell_type": "code",
   "execution_count": 15,
   "metadata": {},
   "outputs": [],
   "source": [
    "import pandas as pd\n",
    "for i in ['anther', 'ovule', 'radicle', 'hypocotyl', 'fiber_10DPA', 'fiber_20DPA', 'petal', 'stigma']:\n",
    "    input_f = \"G:/Billfish/J668_multip_tissue_3D-genome/ATAC/rawdata/{}_peaks_annotation.bed\".format(i)\n",
    "    output_f = \"G:/Billfish/J668_multip_tissue_3D-genome/ATAC/rawdata/{}_peaks_annotation_TOBIAS.bed\".format(i)\n",
    "    df_tmp = pd.read_csv(input_f, sep=\" \")\n",
    "    df_tmp['a'] = ['.']*df_tmp.shape[0]\n",
    "    df_tmp['b'] = ['.']*df_tmp.shape[0]\n",
    "    df_tmp['id'] = range(df_tmp.shape[0])\n",
    "    df_tmp['peaksid'] = 'peaks' + df_tmp['id'].map(str)\n",
    "    #df_tmp = df_tmp.query(\"annotation.str.contains('Promoter')\", engine='python')\n",
    "    df_tmp.to_csv(output_f, sep='\\t', columns = ['seqnames', 'start', 'end', 'peaksid', 'a', 'b', 'geneId', 'transcriptId'], index=False, header=False)\n",
    "    "
   ]
  },
  {
   "cell_type": "code",
   "execution_count": 14,
   "metadata": {},
   "outputs": [
    {
     "name": "stdout",
     "output_type": "stream",
     "text": [
      "30371\n",
      "30371\n"
     ]
    }
   ],
   "source": [
    "## 修改多组织合并peaks的注释文件\n",
    "import pandas as pd\n",
    "df_peaks_tags = pd.read_csv('G:/Billfish/J668_multip_tissue_3D-genome/ATAC/rawdata/J668_ATAC_peaks_sorted_merge.bed', sep=\"\\t\", names=['seqnames', 'start', 'end', 'peaksid'])\n",
    "input_f = \"G:/Billfish/J668_multip_tissue_3D-genome/ATAC/rawdata/J668_ATAC_tissue_peaks_annotation.bed\"\n",
    "output_f = \"G:/Billfish/J668_multip_tissue_3D-genome/ATAC/rawdata/J668_ATAC_tissue_peaks_TOBIAS.bed\"\n",
    "df_tmp = pd.read_csv(input_f, sep=\" \")\n",
    "df_tmp['start'] = df_tmp['start']-1\n",
    "print(df_tmp.shape[0])\n",
    "df_tmp = pd.merge(df_tmp, df_peaks_tags, how='inner', on=['seqnames', 'start', 'end'])\n",
    "print(df_tmp.shape[0])\n",
    "df_tmp['a'] = ['.']*df_tmp.shape[0]\n",
    "df_tmp['b'] = ['.']*df_tmp.shape[0]\n",
    "df_tmp.to_csv(output_f, sep='\\t', columns = ['seqnames', 'start', 'end', 'peaksid', 'a', 'b', 'geneId', 'transcriptId'], index=False, header=False)\n",
    "    "
   ]
  }
 ],
 "metadata": {
  "kernelspec": {
   "display_name": "Python 3.8.3 ('base')",
   "language": "python",
   "name": "python3"
  },
  "language_info": {
   "codemirror_mode": {
    "name": "ipython",
    "version": 3
   },
   "file_extension": ".py",
   "mimetype": "text/x-python",
   "name": "python",
   "nbconvert_exporter": "python",
   "pygments_lexer": "ipython3",
   "version": "3.8.3"
  },
  "orig_nbformat": 4,
  "vscode": {
   "interpreter": {
    "hash": "a0f669ea42a4dcea88d385f8f9b4c3d9b966e24234758831d1dbfdac925619a2"
   }
  }
 },
 "nbformat": 4,
 "nbformat_minor": 2
}
