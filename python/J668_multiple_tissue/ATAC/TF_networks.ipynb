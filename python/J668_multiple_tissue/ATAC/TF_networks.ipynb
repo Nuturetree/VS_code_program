{
 "cells": [
  {
   "cell_type": "code",
   "execution_count": 4,
   "metadata": {},
   "outputs": [],
   "source": [
    "# 确定各组织高表达基因\n",
    "import pandas as pd\n",
    "tissues = ['anther', 'fiber_10DPA', 'fiber_20DPA', 'hypocotyl', 'ovule', 'petal', 'radicle', 'stigma', 'cotyledon', 'stem', 'root', 'leaf']\n",
    "df = pd.read_csv(\"G:/Billfish/J668_multip_tissue_3D-genome/new_RNA_Seq/TAU/J668_all_Tissue_TAU_geneid_position.bed\", sep=\"\\t\", names=['chrom', 'start', 'end', 'GeneId', 'tissue'])\n",
    "for t in tissues:\n",
    "    output_f = \"G:/Billfish/J668_multip_tissue_3D-genome/new_RNA_Seq/TAU/{0}_TAU_GeneId.bed\".format(t)\n",
    "    df_tiss = df.query(\"tissue == @t\")[['GeneId']]\n",
    "    df_tiss.to_csv(output_f, sep=\"\\t\", index=False, header=False)"
   ]
  },
  {
   "cell_type": "code",
   "execution_count": 17,
   "metadata": {},
   "outputs": [],
   "source": [
    "## 与TSG 相关的footprinting\n",
    "import pandas as pd\n",
    "tissues = ['anther', 'fiber_10DPA', 'fiber_20DPA', 'hypocotyl', 'ovule', 'petal', 'radicle', 'stigma']\n",
    "df = pd.read_csv(\"G:/Billfish/J668_multip_tissue_3D-genome/new_RNA_Seq/TAU/J668_all_Tissue_TAU_geneid_position.bed\", sep=\"\\t\", names=['chrom', 'start', 'end', 'geneId', 'tissue'])\n",
    "for t in tissues:\n",
    "    df_foot = pd.read_csv(\"G:/Billfish/J668_multip_tissue_3D-genome/ATAC/TF_network/{}.footprinting\".format(t), sep=\" \")\n",
    "    for i in tissues:\n",
    "        output_f = \"G:/Billfish/J668_multip_tissue_3D-genome/ATAC/TF_network/{0}_{1}_footprint\".format(t, i)\n",
    "        df_tissues = df.query(\"tissue==@i\")[['geneId']].copy()\n",
    "        df_tmp = pd.merge(df_foot, df_tissues, how='inner', on=['geneId'])\n",
    "        df_tmp['start'] = df_tmp['start']-1\n",
    "        df_tmp.to_csv(output_f, sep=\"\\t\", index=False, header=False, columns=['seqnames', 'start', 'end', 'V4', 'V5', 'V6'])"
   ]
  },
  {
   "cell_type": "code",
   "execution_count": 26,
   "metadata": {},
   "outputs": [],
   "source": [
    "## 将TAU 扩展到65% ，对其基因用TFBS来过滤，再分析富集情况\n",
    "import pandas as pd\n",
    "df = pd.read_csv(\"G:/Billfish/J668_multip_tissue_3D-genome/new_RNA_Seq/TAU/J668_all_tissue_TAU.csv\")\n",
    "df_TAU = df.query(\"TAU>=0.65\").copy()\n",
    "df_TAU.to_csv(\"G:/Billfish/J668_multip_tissue_3D-genome/ATAC/TF_network/TFBS_annotation/TAU065/J668_TAU_065.bed\", sep=\"\\t\", index=False, columns = ['GeneId', 'tissues'])"
   ]
  },
  {
   "cell_type": "code",
   "execution_count": 34,
   "metadata": {},
   "outputs": [],
   "source": [
    "## 与TSG 相关的footprinting (0.65)\n",
    "import pandas as pd\n",
    "tissues = ['anther', 'fiber_10DPA', 'fiber_20DPA', 'hypocotyl', 'ovule', 'petal', 'radicle', 'stigma']\n",
    "df = pd.read_csv(\"G:/Billfish/J668_multip_tissue_3D-genome/ATAC/TF_network/TFBS_annotation/TAU065/J668_TAU_065.bed\", sep=\"\\t\")\n",
    "for t in tissues:\n",
    "    df_foot = pd.read_csv(\"G:/Billfish/J668_multip_tissue_3D-genome/ATAC/TF_network/TFBS_annotation/{}.footprinting\".format(t), sep=\" \")\n",
    "    for i in tissues:\n",
    "        output_f = \"G:/Billfish/J668_multip_tissue_3D-genome/ATAC/TF_network/TFBS_annotation/TAU065/{0}_{1}_footprint_TAU065\".format(t, i)\n",
    "        df_tissues = df.query(\"tissues==@i\")[['GeneId']].copy()\n",
    "        df_tissues.columns = ['geneId']\n",
    "        df_tmp = pd.merge(df_foot, df_tissues, how='inner', on=['geneId'])\n",
    "        df_tmp['start'] = df_tmp['start']-1\n",
    "        df_tmp.to_csv(output_f, sep=\"\\t\", index=False, header=False, columns=['seqnames', 'start', 'end', 'V4', 'V5', 'V6'])"
   ]
  },
  {
   "cell_type": "code",
   "execution_count": 29,
   "metadata": {},
   "outputs": [
    {
     "name": "stdout",
     "output_type": "stream",
     "text": [
      "              geneId      tissues            V4\n",
      "0    Ghir_A01G001650        ovule  MA0558.1.FLC\n",
      "1    Ghir_A01G006040       stigma  MA0558.1.FLC\n",
      "2    Ghir_A02G003850        ovule  MA0558.1.FLC\n",
      "3    Ghir_A02G003850        ovule  MA0558.1.FLC\n",
      "4    Ghir_A02G006080       stigma  MA0558.1.FLC\n",
      "..               ...          ...           ...\n",
      "106  Ghir_A11G028910        ovule  MA0558.1.FLC\n",
      "107  Ghir_D04G006460        ovule  MA0558.1.FLC\n",
      "108  Ghir_D05G026670  fiber_10DPA  MA0558.1.FLC\n",
      "109  Ghir_D06G018930    cotyledon  MA0558.1.FLC\n",
      "110  Ghir_D11G016700        petal  MA0558.1.FLC\n",
      "\n",
      "[111 rows x 3 columns]\n"
     ]
    }
   ],
   "source": [
    "## \n",
    "import pandas as pd\n",
    "df = pd.read_csv(\"G:/Billfish/J668_multip_tissue_3D-genome/ATAC/TF_network/match_annotation/stigma_mpbs_annotation.bed\", sep=\" \")\n",
    "df_TAU = pd.read_csv(\"G:/Billfish/J668_multip_tissue_3D-genome/new_RNA_Seq/TAU/J668_all_Tissue_TAU_geneid.csv\")\n",
    "#df_WGCNA = pd.read_csv(\"G:/Billfish/J668_multip_tissue_3D-genome/new_RNA_Seq/WGCNA/J668_all_tissue_005_edge.bed\", sep=\"\\t\", names=['source', 'target', 'weight'])\n",
    "#df_WGCNA = pd.read_csv(\"G:/Billfish/J668_multip_tissue_3D-genome/new_RNA_Seq/WGCNA/J668_all_tissue_002_edge.bed\", sep=\"\\t\", names=['source', 'target', 'weight'])\n",
    "df_TAU.columns = ['geneId', 'tissues']\n",
    "## 找FLC和TAU间的注释关系\n",
    "df_FLC = df.query(\"V4=='MA0558.1.FLC' & annotation.str.contains('Promoter')\", engine='python')[['V4', 'geneId']].copy()\n",
    "df_TAU_FLC = pd.merge(df_TAU, df_FLC, how='inner', on=['geneId'])\n",
    "#df_TAU_FLC['number'] = [1]*df_TAU_FLC.shape[0]\n",
    "print(df_TAU_FLC)\n",
    "## 找所有TSG间的共表达网络\n",
    "# df_TAU_gene = df_TAU_FLC[['geneId']].copy()\n",
    "# df_TAU_gene.columns = ['source']\n",
    "# df_a = pd.merge(df_WGCNA, df_TAU_gene, how='inner', on=['source'])\n",
    "# df_TAU_gene.columns = ['target']\n",
    "# df_ab = pd.merge(df_a, df_TAU_gene, how='inner', on=['target'])\n",
    "\n",
    "\n"
   ]
  },
  {
   "cell_type": "code",
   "execution_count": 44,
   "metadata": {},
   "outputs": [],
   "source": [
    "## 构建一个任意两点都相连的网络\n",
    "def node_node(df):\n",
    "    tissue = ['anther', 'cotyledon', 'hypocotyl', 'fiber_10DPA', 'fiber_20DPA', 'ovule', 'stigma', 'petal', 'leaf', 'root', 'stem', 'radicle']\n",
    "    df_return = pd.DataFrame(columns=['source', 'target'])\n",
    "    for t in tissue:\n",
    "        df_gene = df.query(\"tissues==@t\")[['geneId']].copy()\n",
    "        df_gene.drop_duplicates(keep='first', inplace=True)\n",
    "        geneid_list= df_gene['geneId'].tolist()\n",
    "        N = len(geneid_list)\n",
    "        for a in range(N):\n",
    "            for b in range(a+1, N):\n",
    "                i, j = geneid_list[a], geneid_list[b]\n",
    "                df_return.loc[df_return.shape[0]] = [i, j]\n",
    "    return(df_return)\n",
    "df_node_node = node_node(df_TAU_FLC)\n",
    "df_a = df_TAU_FLC[['geneId', 'V4']].copy()\n",
    "df_a.columns = ['source', 'target']\n",
    "df_a['weight'] = [1]*df_a.shape[0]\n",
    "df_a['label'] = ['line']*df_a.shape[0]\n",
    "df_node_node['weight'] =[2]*df_node_node.shape[0]\n",
    "df_node_node['label'] = ['dot']*df_node_node.shape[0]\n",
    "df_net = pd.concat([df_node_node, df_a], axis=0)\n",
    "#df_net['weight'] = [2]*df_net.shape[0]\n",
    "df_net.to_csv(\"G:/Billfish/J668_multip_tissue_3D-genome/ATAC/TF_network/FLC_net/FLC_net.csv\", index=False)"
   ]
  },
  {
   "cell_type": "code",
   "execution_count": 59,
   "metadata": {},
   "outputs": [],
   "source": [
    "df_TAU_FLC['number'] = [1]*df_TAU_FLC.shape[0]\n",
    "df_a = df_TAU_FLC.groupby(by=['tissues'], as_index=False)['number'].sum()\n",
    "df_TAU['allnumber'] = [1]*df_TAU.shape[0]\n",
    "df_b = df_TAU.groupby(by=['tissues'], as_index=False)['allnumber'].sum()\n",
    "df_result = pd.merge(df_a, df_b, how='inner', on=['tissues'])\n",
    "df_result['ratio'] = (df_result['number']/df_result['allnumber'])*100\n",
    "df_result.columns = ['tissues', 'FLC_TSG', 'TSG', 'ratio']\n",
    "df_result.to_csv('G:/Billfish/J668_multip_tissue_3D-genome/ATAC/TF_network/FLC_net/FLC_TSG_statistics.csv', index=False)"
   ]
  },
  {
   "cell_type": "code",
   "execution_count": 31,
   "metadata": {},
   "outputs": [],
   "source": [
    "## TF ratio\n",
    "import pandas as pd\n",
    "import numpy as np\n",
    "tissues = ['anther', 'ovule', 'radicle', 'hypocotyl', 'fiber_10DPA', 'fiber_20DPA', 'petal', 'stigma']\n",
    "work_dir = \"G:/Billfish/J668_multip_tissue_3D-genome/ATAC/TF_network/match_annotation\"\n",
    "\n",
    "## The TF ratio of all tissues\n",
    "df_tissue_TF_ratio = pd.DataFrame()\n",
    "for t in tissues:\n",
    "    input_f = \"{0}/{1}_mpbs_annotation.bed\".format(work_dir, t)\n",
    "    df = pd.read_csv(input_f, sep=\" \")\n",
    "    df_promoter = df.query(\"annotation.str.contains('Promoter')\", engine='python').copy() ## 选择能调控promoter区域的基因\n",
    "    df_promoter['number'] = [1]*df_promoter.shape[0]\n",
    "    length = df_promoter.shape[0]\n",
    "    df_ratio = df_promoter.groupby(by=['V4'], as_index=False)['number'].sum()\n",
    "    df_ratio.columns = ['TF', 'number']\n",
    "    #print(df_ratio.head())\n",
    "    df_ratio['number'] = (df_ratio['number']/length)*100\n",
    "    df_ratio['tags'] = [t]*df_ratio.shape[0]\n",
    "    df_tissue_TF_ratio = pd.concat([df_tissue_TF_ratio, df_ratio], axis=0)\n",
    "\n",
    "## The TF ratio between two tissues\n",
    "df_result = pd.DataFrame()\n",
    "for i in range(8):\n",
    "    t1 = tissues[i]\n",
    "    df_a_tissue = df_tissue_TF_ratio.query(\"tags==@t1\")[['TF', 'number']].copy()\n",
    "    df_a_tissue.columns = ['TF', 'A']\n",
    "    df_tmp = pd.DataFrame()\n",
    "    for j in range(8):\n",
    "        if i != j: \n",
    "            t2 = tissues[j]\n",
    "            Tags = \"{0}_{1}\".format(tissues[i], tissues[j])\n",
    "            df_b_tissue = df_tissue_TF_ratio.query(\"tags==@t2\")[['TF', 'number']].copy()\n",
    "            df_b_tissue.columns = ['TF', 'B']\n",
    "            df_c_tissue = pd.merge(df_a_tissue, df_b_tissue, how='inner', on=['TF'])\n",
    "            df_c_tissue['ratio'] = df_c_tissue['A']/df_c_tissue['B']\n",
    "            df_c_tissue = df_c_tissue.sort_values(by=['ratio'], ascending=False)[['TF', 'ratio']]\n",
    "            df_c_tissue.columns = ['TF', Tags]\n",
    "            if df_tmp.shape[0] == 0:\n",
    "                df_tmp = df_c_tissue.copy()\n",
    "            else:\n",
    "                df_tmp = pd.merge(df_tmp, df_c_tissue, how='inner', on=['TF'])\n",
    "    df_tmp['average'] = df_tmp.iloc[:,1:].mean(axis=1)\n",
    "    df_tmp['median'] = df_tmp.iloc[:,1:].median(axis=1)\n",
    "    df_tmp.sort_values(by=['average'], ascending=False, inplace=True)\n",
    "    df_tmp['tags'] = [t1]*df_tmp.shape[0]\n",
    "    df_tmp = df_tmp[['TF', 'average', 'median', 'tags']].head(10).copy()\n",
    "    df_result = pd.concat([df_result, df_tmp], axis=0)\n",
    "    #df_tmp_header = df_tmp.head(10)[['TF', 'tags', 'average']].copy()\n",
    "    #df_tmp_tail = df_tmp.tail(10)[['TF', 'tags', 'average']].copy()\n",
    "    #df_result = pd.concat([df_result, df_tmp_header, df_tmp_tail], axis=0)\n",
    "df_result.to_csv(\"{}/J668_all_TF_ratio2.csv\".format(work_dir), index=False)"
   ]
  },
  {
   "cell_type": "code",
   "execution_count": 9,
   "metadata": {},
   "outputs": [
    {
     "name": "stdout",
     "output_type": "stream",
     "text": [
      "   a  b         c\n",
      "0  1  3  1.584963\n",
      "1  2  4  1.000000\n"
     ]
    }
   ],
   "source": [
    "import pandas as pd\n",
    "import numpy as np\n",
    "df = pd.DataFrame({'a':[1,2,3], 'b':[3,4,5]})\n",
    "df['c'] = np.abs(np.log2(df['a']/df['b']))\n",
    "df = df.sort_values(by=['c'], ascending=False).head(2)\n",
    "print(df)"
   ]
  },
  {
   "cell_type": "code",
   "execution_count": 41,
   "metadata": {},
   "outputs": [],
   "source": [
    "### 分析各转录因子在组织中的富集情况\n",
    "import pandas as pd\n",
    "df = pd.read_csv(\"G:/Billfish/J668_multip_tissue_3D-genome/ATAC/TF/J668_all_TFBS.bed\", sep=\"\\t\")\n",
    "old_chr = ['Ghir_A01', 'Ghir_A02', 'Ghir_A03', 'Ghir_A04', 'Ghir_A05', 'Ghir_A06', 'Ghir_A07', 'Ghir_A08', 'Ghir_A09', 'Ghir_A10', 'Ghir_A11', 'Ghir_A12', 'Ghir_A13', \n",
    "            'Ghir_D01', 'Ghir_D02', 'Ghir_D03', 'Ghir_D04', 'Ghir_D05', 'Ghir_D06', 'Ghir_D07', 'Ghir_D08', 'Ghir_D09', 'Ghir_D10', 'Ghir_D11', 'Ghir_D12', 'Ghir_D13']\n",
    "new_chr = ['A01', 'A02', 'A03', 'A04', 'A05', 'A06', 'A07', 'A08', 'A09', 'A10', 'A11', 'A12', 'A13', 'D01', 'D02', 'D03', 'D04', 'D05', 'D06', 'D07', 'D08', 'D09', 'D10', 'D11', 'D12', 'D13']\n",
    "df['chrom'].replace(old_chr, new_chr, inplace=True)\n",
    "\n",
    "df['tags'] = df['chrom'].map(str) + \"-\" + df['start'].map(str) + \"-\" + df['end'].map(str)\n",
    "df = df[['tags', 'TF', 'tissues']].copy()\n",
    "tissues = ['anther', 'fiber_10DPA', 'fiber_20DPA', 'hypocotyl', 'ovule', 'petal', 'radicle', 'stigma']\n",
    "\n",
    "#tissues = ['anther', 'fiber_10DPA']\n",
    "def TF_position(df, T):\n",
    "    all_TF = set(df['TF'].tolist())\n",
    "    df_return = pd.DataFrame(columns = ['TF', 'postion'])\n",
    "    for t in all_TF:\n",
    "        position = \",\".join(df.query(\"TF == @t\")['tags'].tolist())\n",
    "        df_return.loc[df_return.shape[0], ] = [t, position]\n",
    "    df_return.columns = ['TF', T]\n",
    "    return df_return\n",
    "\n",
    "df_result = pd.DataFrame()\n",
    "for i in tissues:\n",
    "    df_T = df.query(\"tissues==@i\")[['tags', 'TF']].drop_duplicates().copy()\n",
    "    df_T.sort_values(by=['tags'], inplace=True)\n",
    "    #print(df_T.shape[0])\n",
    "    df_tmp = TF_position(df_T, i)\n",
    "    if df_result.shape[0] == 0:\n",
    "        df_result = df_tmp.copy()\n",
    "    else:\n",
    "        df_result = pd.merge(df_result, df_tmp, how='outer', on=['TF'])\n",
    "df_result.to_csv(\"G:/Billfish/J668_multip_tissue_3D-genome/ATAC/TF/J668_all_TFBS_position.csv\", index=False)"
   ]
  },
  {
   "cell_type": "code",
   "execution_count": null,
   "metadata": {},
   "outputs": [],
   "source": [
    "df = pd.read_csv(\"G:/Billfish/J668_multip_tissue_3D-genome/ATAC/TF/J668_all_TFBS_wide.csv\")\n",
    "print(df[df.duplicated(subset=['tags'])])\n"
   ]
  },
  {
   "cell_type": "code",
   "execution_count": 20,
   "metadata": {},
   "outputs": [
    {
     "data": {
      "text/plain": [
       "petal          125693\n",
       "stigma         115678\n",
       "radicle        101715\n",
       "anther          98850\n",
       "hypocotyl       88212\n",
       "fiber_20DPA     76642\n",
       "ovule           71781\n",
       "fiber_10DPA     69236\n",
       "Name: tissues, dtype: int64"
      ]
     },
     "execution_count": 20,
     "metadata": {},
     "output_type": "execute_result"
    }
   ],
   "source": [
    "df = pd.read_csv(\"G:/Billfish/J668_multip_tissue_3D-genome/ATAC/TF/J668_all_TFBS.bed\", sep=\"\\t\")\n",
    "df['tissues'].value_counts()"
   ]
  }
 ],
 "metadata": {
  "kernelspec": {
   "display_name": "Python 3.8.3 ('base')",
   "language": "python",
   "name": "python3"
  },
  "language_info": {
   "codemirror_mode": {
    "name": "ipython",
    "version": 3
   },
   "file_extension": ".py",
   "mimetype": "text/x-python",
   "name": "python",
   "nbconvert_exporter": "python",
   "pygments_lexer": "ipython3",
   "version": "3.8.3"
  },
  "orig_nbformat": 4,
  "vscode": {
   "interpreter": {
    "hash": "a0f669ea42a4dcea88d385f8f9b4c3d9b966e24234758831d1dbfdac925619a2"
   }
  }
 },
 "nbformat": 4,
 "nbformat_minor": 2
}
