{
 "cells": [
  {
   "cell_type": "code",
   "execution_count": 18,
   "metadata": {},
   "outputs": [],
   "source": [
    "# ATAC-Seq 差异peaks 注释的基因所包含的差异表达基因\n",
    "import pandas as pd\n",
    "tissues = [\"anther\", 'ovule', 'radicle', 'hypocotyl', 'fiber_10DPA', 'fiber_20DPA', 'petal', 'stigma']\n",
    "df_TissDiffGene = pd.read_csv(\"G:/Billfish/J668_multip_tissue_3D-genome/new_RNA_Seq/DEG/tissue/J668_mutipTissues_DEG.csv\")\n",
    "df_TissDiffGene = df_TissDiffGene.query(\"sig != 'Not'\")\n",
    "df_result = pd.DataFrame(columns = ['tissues', 'number', 'tags'])\n",
    "for i in range(7):\n",
    "    for j in range(i+1, 8):\n",
    "        ab_tissue = '{0}_{1}'.format(tissues[i], tissues[j])\n",
    "        diff_ATAC_peaks_Annota_gene = \"G:/Billfish/J668_multip_tissue_3D-genome/ATAC/diffpeaks/gene/{0}_annotation_gene.bed\".format(ab_tissue)\n",
    "        df_diff_ATAC = pd.read_csv(diff_ATAC_peaks_Annota_gene, sep=\" \")\n",
    "        df_diff_ATAC = df_diff_ATAC.query(\"annotation.str.contains('Promoter')\", engine='python')\n",
    "        df_TissDiffGene_Tissue = df_TissDiffGene.query(\"tags==@ab_tissue\")[['GeneId']].copy()\n",
    "        df_TissDiffGene_Tissue.columns = ['geneId']\n",
    "        df_tmp = pd.merge(df_diff_ATAC, df_TissDiffGene_Tissue, how='inner', on=['geneId'])\n",
    "        df_result.loc[df_result.shape[0]] = [ab_tissue, df_diff_ATAC.shape[0]-df_tmp.shape[0], 'NDEG']\n",
    "        df_result.loc[df_result.shape[0]] = [ab_tissue, df_tmp.shape[0], 'DEG']\n",
    "df_result.to_csv(\"G:/Billfish/J668_multip_tissue_3D-genome/ATAC/diffpeaks/gene/J668_ATAC_diffpeaks_DEG.csv\", index=False)"
   ]
  }
 ],
 "metadata": {
  "kernelspec": {
   "display_name": "Python 3.8.3 ('base')",
   "language": "python",
   "name": "python3"
  },
  "language_info": {
   "codemirror_mode": {
    "name": "ipython",
    "version": 3
   },
   "file_extension": ".py",
   "mimetype": "text/x-python",
   "name": "python",
   "nbconvert_exporter": "python",
   "pygments_lexer": "ipython3",
   "version": "3.8.3"
  },
  "orig_nbformat": 4,
  "vscode": {
   "interpreter": {
    "hash": "a0f669ea42a4dcea88d385f8f9b4c3d9b966e24234758831d1dbfdac925619a2"
   }
  }
 },
 "nbformat": 4,
 "nbformat_minor": 2
}
