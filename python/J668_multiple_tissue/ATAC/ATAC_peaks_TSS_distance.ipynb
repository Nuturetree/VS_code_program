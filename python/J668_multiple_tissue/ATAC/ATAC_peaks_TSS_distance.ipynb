{
 "cells": [
  {
   "cell_type": "code",
   "execution_count": 5,
   "metadata": {},
   "outputs": [],
   "source": [
    "import pandas as pd\n",
    "df = pd.read_csv(\"G:/Billfish/J668_multip_tissue_3D-genome/ATAC/ATAC_peaks_TSS_density/J668_anther_ATAC.csv\")\n",
    "df_new = df.groupby(by=['GeneId', 'subg'], as_index=False)['Distance'].min()\n",
    "df_new.to_csv(\"G:/Billfish/J668_multip_tissue_3D-genome/ATAC/ATAC_peaks_TSS_density/J668_anther_ATAC_clost.csv\", index=False)"
   ]
  },
  {
   "cell_type": "code",
   "execution_count": null,
   "metadata": {},
   "outputs": [],
   "source": [
    "import pandas as pd\n",
    "for i in ['anther', 'fiber_10DPA', 'fiber_20DPA', 'hypocotyl', 'ovule', 'petal', 'radicle', 'stigma']:\n",
    "    df_result = pd.DataFrame()\n",
    "    output_f = \"/cotton/public/public_data/xhhuang/Jin668_AllTissues_3Dgenome/ATAC/TOBIAS/${i}/${i}_promoter_TFBS.csv\".format(i)\n",
    "    for j in open(\"all_motify.bed\"):\n",
    "        n = j.strip()\n",
    "        input_f = \"{0}/promoter_TFBS/{1}\".format('/cotton/public/public_data/xhhuang/Jin668_AllTissues_3Dgenome/ATAC/TOBIAS', n)\n",
    "        df_tmp = pd.read_csv(input_f, sep=\"\\t\", names=['chrom', 'start', 'end', 'GeneId', n])\n",
    "        if df_result.shape[0] == 0:\n",
    "            df_result = df_tmp.copy()\n",
    "        else:\n",
    "            df_result = pd.merge(df_result, df_tmp, how='left', on=['chrom', 'start', 'end', 'GeneId'])\n",
    "    df_result.to_csv(output_f,index=False)"
   ]
  },
  {
   "cell_type": "code",
   "execution_count": 30,
   "metadata": {},
   "outputs": [],
   "source": [
    "import pandas as pd\n",
    "## 1、将cottonfgd网站所下载的Ghir TF 与 Arabidopsis网站下载的TF结合起来\n",
    "df_fgd = pd.read_csv(\"G:/Billfish/J668_multip_tissue_3D-genome/ATAC/TF/HAZU_TF_geneid.txt\", sep=\"\\t\", names=['TF_id', 'GeneId'])\n",
    "df_arab = pd.read_csv(\"G:/Billfish/J668_multip_tissue_3D-genome/ATAC/TF/Arabidopsis_TF_geneid.txt\", sep=\"\\t\", names=['Arab_Id', 'GeneId', 'TF_id'])\n",
    "df_arab.dropna(inplace=True)\n",
    "df_arab = df_arab[['TF_id', 'GeneId']].copy()\n",
    "df_TFid = pd.concat([df_fgd, df_arab], axis=0)\n",
    "df_TFid.drop_duplicates(keep='first', inplace=True)\n",
    "## 2、利用JASPAR网站中的motify来过滤\n",
    "df_JASPAR = pd.read_csv(\"G:/Billfish/J668_multip_tissue_3D-genome/ATAC/TF/JASPAR_ID.bed\", sep=\"\\t\", names=['TF_id', 'Id'])\n",
    "df = pd.merge(df_TFid, df_JASPAR, how='inner', on=['TF_id'])\n",
    "#df.dropna(inplace=True)\n",
    "df['TF_id_new'] = df['Id'].map(str) + \".\" + df['TF_id'].map(str) + '_' + df['Id'].map(str)\n",
    "df.to_csv(\"G:/Billfish/J668_multip_tissue_3D-genome/ATAC/TF/Ghir_TFid_motify.txt\", sep=\"\\t\", index=False, columns=['TF_id_new', 'GeneId'])"
   ]
  },
  {
   "cell_type": "code",
   "execution_count": 25,
   "metadata": {},
   "outputs": [],
   "source": [
    "## 将拟南芥转录因子与棉花的同源基因对应起来\n",
    "import pandas as pd\n",
    "df_TFgene = pd.read_csv(\"G:/Billfish/J668_multip_tissue_3D-genome/ATAC/TF/Arabidopsis_TFgene.txt\", sep=\"\\t\")\n",
    "df_hg = pd.read_csv(\"G:/Billfish/J668_multip_tissue_3D-genome/RNA_seq/Gh_vs_Arabidopsis.txt\", sep=\"\\t\", names=['Ghir_Id', 'Locus'])\n",
    "df_result = pd.merge(df_TFgene, df_hg, how='left', on=['Locus'])\n",
    "df_result.to_csv(\"G:/Billfish/J668_multip_tissue_3D-genome/ATAC/TF/Arabidopsis_TFgene2.txt\", sep=\"\\t\", index=False)"
   ]
  }
 ],
 "metadata": {
  "kernelspec": {
   "display_name": "Python 3.8.3 ('base')",
   "language": "python",
   "name": "python3"
  },
  "language_info": {
   "codemirror_mode": {
    "name": "ipython",
    "version": 3
   },
   "file_extension": ".py",
   "mimetype": "text/x-python",
   "name": "python",
   "nbconvert_exporter": "python",
   "pygments_lexer": "ipython3",
   "version": "3.8.3"
  },
  "orig_nbformat": 4,
  "vscode": {
   "interpreter": {
    "hash": "a0f669ea42a4dcea88d385f8f9b4c3d9b966e24234758831d1dbfdac925619a2"
   }
  }
 },
 "nbformat": 4,
 "nbformat_minor": 2
}
