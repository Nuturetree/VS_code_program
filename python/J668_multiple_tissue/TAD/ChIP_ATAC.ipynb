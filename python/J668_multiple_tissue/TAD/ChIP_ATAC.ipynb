{
 "cells": [
  {
   "cell_type": "code",
   "execution_count": null,
   "metadata": {},
   "outputs": [],
   "source": [
    "# 分析ChIP-Seq和ATAC-Seq信号在TAD boundary和TAD center 周围的信号强度分布\n",
    "import pandas as pd\n",
    "tissue = ['hypocotyl', 'cotyledon']\n",
    "single = ['H3K27ac', 'H3K4me3']\n",
    "tags = ['center', 'boundary']\n",
    "df_result = pd.DataFrame()\n",
    "for t in tissue:\n",
    "    for s in single:\n",
    "        for k in tags:\n",
    "            input_f = \"{0}_{1}_{2}.matrix.tab\".format(t, s, k)\n",
    "            df_tmp = pd.read_csv(input_f, sep=\"\\t\", header=False)\n",
    "            df_tmp.reset_index(inplace=True)\n",
    "            df_tmp['position'] = k+df_tmp['index'].map(str)\n",
    "            df_tmp['single'] = [s]*df_tmp.shape[0]\n",
    "            df_tmp['tissues'] = [t]*df_tmp.shape[0]\n",
    "            df_tmp.drop('index', inplace=True)\n",
    "            df_long_tmp = pd.melt(df_tmp, id_vars=['tissue', 'single', 'position'])\n",
    "            df_result = pd.concat([df_result, df_long_tmp], axis=0)\n",
    "df_result.to_csv(\"hypocotyl_cotyledon_BC_ChiP.csv\", index=False)"
   ]
  },
  {
   "cell_type": "code",
   "execution_count": 3,
   "metadata": {},
   "outputs": [],
   "source": [
    "import pandas as pd\n",
    "df = pd.read_csv(\"G:/Billfish/J668_multip_tissue_3D-genome/HiC/TAD/BC_ChIP_peaks/hypocotyl_cotyledon_BC_ChiP.csv\")\n",
    "df_center = df.query(\"position.str.contains('center')\", engine='python').copy()\n",
    "df_boundary = df.query(\"position.str.contains('boundary')\", engine='python').copy()\n",
    "df_center['BC'] = ['Center']*df_center.shape[0]\n",
    "df_boundary['BC'] = ['Boundary']*df_boundary.shape[0]\n",
    "df_result = pd.concat([df_center, df_boundary], axis=0)\n",
    "df_result.to_csv(\"G:/Billfish/J668_multip_tissue_3D-genome/HiC/TAD/BC_ChIP_peaks/hypocotyl_cotyledon_BC_ChiP.csv\", index=False)\n",
    "print(df_result.query(\"variable==0\"))"
   ]
  }
 ],
 "metadata": {
  "kernelspec": {
   "display_name": "Python 3.8.3 ('base')",
   "language": "python",
   "name": "python3"
  },
  "language_info": {
   "codemirror_mode": {
    "name": "ipython",
    "version": 3
   },
   "file_extension": ".py",
   "mimetype": "text/x-python",
   "name": "python",
   "nbconvert_exporter": "python",
   "pygments_lexer": "ipython3",
   "version": "3.8.3"
  },
  "orig_nbformat": 4,
  "vscode": {
   "interpreter": {
    "hash": "a0f669ea42a4dcea88d385f8f9b4c3d9b966e24234758831d1dbfdac925619a2"
   }
  }
 },
 "nbformat": 4,
 "nbformat_minor": 2
}
