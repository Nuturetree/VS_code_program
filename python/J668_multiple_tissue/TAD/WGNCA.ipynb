{
 "cells": [
  {
   "cell_type": "code",
   "execution_count": 2,
   "metadata": {},
   "outputs": [],
   "source": [
    "## 分析组织功能性TAD模块\n",
    "import pandas as pd\n",
    "\n",
    "#print(df_TSG_hypocotyl)\n",
    "\n",
    "## 确定包含组织功能性TAD模块\n",
    "def TSG_TAD(df_TAD, df_TSG):\n",
    "    df_TSG_TAD = pd.DataFrame()\n",
    "    for index, row in df_TSG.iterrows():\n",
    "        C, S, E = row['chrs'], row['start'], row['end']\n",
    "        df_tmp = df_TAD.query(\"chr==@C & s<=@E & e>=@S\").copy()\n",
    "        df_tmp['tags'] = df_tmp['chr'] + \"-\" + df_tmp['s'].map(str) + \"-\" + df_tmp['e'].map(str)\n",
    "        df_TSG_TAD = pd.concat([df_TSG_TAD, df_tmp], axis=0)\n",
    "    df_TSG_TAD.drop_duplicates(inplace=True)\n",
    "    return df_TSG_TAD\n",
    "\n",
    "## 分析组织功能TAD 所能包含的基因\n",
    "def TSG_TAD_gene(df_TSG_TAD, df_gene):\n",
    "    df_TSG_TAD_gene = pd.DataFrame()\n",
    "    for index, row in df_TSG_TAD.iterrows():\n",
    "        C, S, E, T = row['chr'], row['s'], row['e'], row['tags']\n",
    "        df_tmp = df_gene.query(\"chrs==@C & start <= @E & end >= @S\").copy()\n",
    "        df_tmp['tad_tags'] = [T]*df_tmp.shape[0]\n",
    "        df_TSG_TAD_gene = pd.concat([df_TSG_TAD_gene, df_tmp], axis=0)\n",
    "    return df_TSG_TAD_gene\n",
    "\n",
    "# 分析每个TAD中所能包含的基因数目\n",
    "def TAD_gene_number(df, tags):\n",
    "    df=df[['tad_tags']].copy()\n",
    "    df['number'] = [1]*df.shape[0]\n",
    "    df_return = df.groupby(by=['tad_tags'], as_index=False)['number'].sum()\n",
    "    df_return.rename(columns={'number':tags}, inplace=True)\n",
    "    return(df_return)\n",
    "\n",
    "# 整理基因\n",
    "def data_format():\n",
    "    df_gene_position = pd.read_csv('G:/Billfish/J668_multip_tissue_3D-genome/RNA_seq/Gh_gene_position.bed', sep=\"\\t\")\n",
    "    df_gene_TPM = pd.read_csv(\"G:/Billfish/J668_multip_tissue_3D-genome/new_RNA_Seq/RNA_Seq_data/J668_all_Tissue_mean_TPM.csv\")\n",
    "    df_gene_TAU = pd.read_csv(\"G:/Billfish/J668_multip_tissue_3D-genome/new_RNA_Seq/TAU/J668_all_tissue_TAU.csv\")\n",
    "    df_gene_TAU = df_gene_TAU[['GeneId', 'TAU', 'tissues']].copy()\n",
    "    df_TAU_position = pd.merge(df_gene_TAU, df_gene_position, how='inner', on=['GeneId'])\n",
    "    df_TAU_TPM = pd.merge(df_TAU_position, df_gene_TPM, how='inner', on=['GeneId'])\n",
    "    return df_TAU_TPM\n",
    "\n",
    "## 多列数据拉直\n",
    "def data_1D(df, tags):\n",
    "    #rep1, rep2, rep3 = \"{}_rep1\".format(tags), \"{}_rep2\".format(tags), \"{}_rep3\".format()\n",
    "    df_long = pd.melt(df)\n",
    "    TPM_value = df_long['value'].tolist()\n",
    "    #print(TPM_value)\n",
    "    return TPM_value\n",
    "\n",
    "# ttest 双尾检验\n",
    "def TPM_ttest(df, tags):\n",
    "    #print(df)\n",
    "    import scipy.stats as stats\n",
    "    min_pvalue = 0\n",
    "    samples = ['anther', 'leaf', 'root', 'stem', 'petal', 'stigma', 'cotyledon', 'hypocotyl', 'ovule', 'radicle', 'fiber_10DPA', 'fiber_20DPA']\n",
    "    t1, t2, t3 = \"{}_rep1\".format(tags), \"{}_rep2\".format(tags), \"{}_rep3\".format(tags)\n",
    "    for s in samples:\n",
    "        c1, c2, c3 = \"{}_rep1\".format(s), \"{}_rep2\".format(s), \"{}_rep3\".format(s)\n",
    "        if s not in t1:\n",
    "            df_control = df[[c1, c2, c3]]\n",
    "            df_treatment = df[[t1, t2, t3]]\n",
    "            control_value = data_1D(df_control, s)\n",
    "            treatment_value = data_1D(df_treatment, tags)\n",
    "            pvalue = stats.ttest_ind(treatment_value, control_value).pvalue\n",
    "            #print(pvalue)\n",
    "            if min_pvalue >= pvalue:\n",
    "                min_pvalue = pvalue\n",
    "    if min_pvalue <= 0.05:\n",
    "        return 'True'\n",
    "    else:\n",
    "        return 'False'    \n",
    "\n",
    "# 分析TAD包含的基因是否具备表达差异\n",
    "def TAD_gene_ttest(df, tags):\n",
    "    ## 分析是否中位数与TAD所包含的组织特异表达基因相同\n",
    "    df.set_index('GeneId', inplace=True)\n",
    "    df_tmp = df.copy()\n",
    "    #print(df)\n",
    "    #print(df_tmp.median(axis=0).to_list())\n",
    "    df_tmp.loc['median_values', ] = df_tmp.median(axis=0).to_list()\n",
    "    max_median_tags = df_tmp.loc['median_values', ].idxmax()\n",
    "    #print(df_tmp.tail())\n",
    "    #print(max_median_tags, tags)\n",
    "    if tags in max_median_tags:\n",
    "        result = TPM_ttest(df, tags)\n",
    "        return result\n",
    "    else:\n",
    "        return 'False'\n",
    "## 分析确定TAD 是否为组织特异性TAD\n",
    "def identify_TSG_TAD(df, tags):\n",
    "    df_TPM = pd.read_csv(\"G:/Billfish/J668_multip_tissue_3D-genome/new_RNA_Seq/RNA_Seq_data/J668_all_Tissue_TPM.csv\")\n",
    "    # 分析判断是否为组织特异性TAD\n",
    "    all_TAD = df.drop_duplicates(keep='first',subset=['tad_tags'])['tad_tags'].to_list()\n",
    "    df_return = pd.DataFrame()\n",
    "    for t in all_TAD:\n",
    "        df_tmp = df.query(\"tad_tags==@t\").copy()\n",
    "        #print(df_tmp.head())\n",
    "        df_TAD_gene = df_tmp[['GeneId']].copy() ## 找到TAD所包含的基因ID\n",
    "        #print(df_TAD_gene.head())\n",
    "        df_gene_TPM = pd.merge(df_TAD_gene, df_TPM, how='inner', on=['GeneId']) # 找到基因所包含的TPM\n",
    "        #print(df_gene_TPM.head())\n",
    "        significance_tags = TAD_gene_ttest(df_gene_TPM, tags) # 分析TAD中所包含的基因是否具备有组织显著性\n",
    "        df_tmp['signif_tags'] = [significance_tags]*df_tmp.shape[0] # 给显著性加上标签\n",
    "        df_return = pd.concat([df_return, df_tmp], axis=0)\n",
    "    return(df_return)\n",
    "# # 寻找组织特异性TAD module，以及其所能包含的可表达基因\n",
    "def TAD_TSG(tags):\n",
    "    df_TAU_TPM = data_format()\n",
    "    df_TSG_position = df_TAU_TPM.query(\"TAU>=0.85 & tissues==@tags\")[['GeneId', 'chrs', 'start', 'end']]\n",
    "    input_TAD = \"G:/Billfish/J668_multip_tissue_3D-genome/HiC/TAD_new/TAD_data/{0}_choosed.bed\".format(tags)\n",
    "    output_TAD = \"G:/Billfish/J668_multip_tissue_3D-genome/HiC/TAD_new/TSG_TAD/{0}_TAD_TSG_number.csv\".format(tags)\n",
    "    df_TAD = pd.read_csv(input_TAD, sep=\"\\t\")\n",
    "    df_TSG_TAD = TSG_TAD(df_TAD, df_TSG_position) # 找到包含组织特异性基因的TAD\n",
    "    #print(df_TSG_TAD)\n",
    "    df_TSG_TAD_all_gene = TSG_TAD_gene(df_TSG_TAD, df_TAU_TPM) # 找到组织特异性TAD 中所包含的所有基因\n",
    "    df_TSG_TAD_all_exp_gene = df_TSG_TAD_all_gene[df_TSG_TAD_all_gene[tags]>=0.5] #找到组织特异性TAD 中所包含的所有可表达基因\n",
    "    df_TSG_TAD_tissue_gene = df_TSG_TAD_all_exp_gene.query(\"tissues==@tags\").copy() # 找到组织特异性TAD中表达偏向于特异的组织表达的基因\n",
    "    df_TSG_TAD_tsg_gene = df_TSG_TAD_all_exp_gene.query(\"tissues==@tags & TAU>=0.85\").copy() #找到TAD中包含的组织特异性基因\n",
    "    df_TAD_all_number = TAD_gene_number(df_TSG_TAD_all_gene, \"All\") # TAD 包含的所有基因\n",
    "    df_TAD_exp_number = TAD_gene_number(df_TSG_TAD_all_exp_gene, 'exp') # 分析所有组织特异性TAD基因所包含的可表达基因\n",
    "    df_TAD_tissues_number = TAD_gene_number(df_TSG_TAD_tissue_gene, \"tissueN\") # 分析所有组织特异性TAD 中包含的偏向某个组织中特异表达的基因数目\n",
    "    df_TAD_tsg_number = TAD_gene_number(df_TSG_TAD_tsg_gene, 'TSG') # 包含的组织特异性基因\n",
    "    \n",
    "    df_TSG_TAD_all_gene = df_TSG_TAD_all_gene[['GeneId', 'TAU', 'tissues', 'tad_tags']].copy()\n",
    "    df_TSG_TAD_all_gene = pd.merge(df_TSG_TAD_all_gene, df_TAD_all_number, how='left', on=['tad_tags'])\n",
    "    df_TSG_TAD_all_gene = pd.merge(df_TSG_TAD_all_gene, df_TAD_exp_number, how='left', on=['tad_tags'])\n",
    "    df_TSG_TAD_all_gene = pd.merge(df_TSG_TAD_all_gene, df_TAD_tissues_number, how='left', on=['tad_tags'])\n",
    "    df_TSG_TAD_all_gene = pd.merge(df_TSG_TAD_all_gene, df_TAD_tsg_number, how='left', on=['tad_tags'])\n",
    "    #print(df_TSG_TAD_all_gene)\n",
    "    df_TSG_TAD_all_gene['tissues_exp'] = df_TSG_TAD_all_gene['tissueN']/df_TSG_TAD_all_gene['exp']\n",
    "    df_TSG_TAD_all_gene['TSG_exp'] = df_TSG_TAD_all_gene['TSG']/df_TSG_TAD_all_gene['tissueN']\n",
    "    \n",
    "    ## 分析TAD 中所包含的基因表达水平在组织间比较是否具有显著性\n",
    "    df_result = identify_TSG_TAD(df_TSG_TAD_all_gene, tags)   \n",
    "    df_result.to_csv(output_TAD, index=False)\n",
    "\n",
    "#tissues = ['anther', 'cotyledon', 'hypocotyl', 'leaf', 'petal', 'root', 'stem', 'stigma']\n",
    "#tissues = ['fiber_10DPA', 'radicle']\n",
    "tissues = ['fiber_20DPA', 'ovule']\n",
    "for t in tissues:\n",
    "    TAD_TSG(t)"
   ]
  },
  {
   "cell_type": "code",
   "execution_count": 2,
   "metadata": {},
   "outputs": [
    {
     "name": "stdout",
     "output_type": "stream",
     "text": [
      "1966\n"
     ]
    }
   ],
   "source": [
    "import pandas as pd\n",
    "df = pd.read_csv(\"G:/Billfish/J668_multip_tissue_3D-genome/HiC/TAD_new/TSG_TAD/anther_TAD_TSG_number.csv\")\n",
    "df.drop_duplicates(keep='first', subset=['tad_tags'], inplace=True)\n",
    "print(df.shape[0])"
   ]
  },
  {
   "cell_type": "code",
   "execution_count": 5,
   "metadata": {},
   "outputs": [],
   "source": [
    "## 分析组织功能性TAD中所包含的基因其中位数大小\n",
    "import pandas as pd\n",
    "tissues = ['anther', 'cotyledon', 'hypocotyl', 'leaf', 'petal', 'root', 'stem', 'stigma', 'fiber_10DPA', 'radicle', 'fiber_20DPA',  'ovule']\n",
    "df_tpm = pd.read_csv(\"G:/Billfish/J668_multip_tissue_3D-genome/new_RNA_Seq/RNA_Seq_data/J668_all_Tissue_mean_TPM.csv\")\n",
    "df_result = pd.DataFrame()\n",
    "for t in tissues:\n",
    "    input_f = \"G:/Billfish/J668_multip_tissue_3D-genome/HiC/TAD_new/TSG_TAD/{}_TAD_TSG_number.csv\".format(t)\n",
    "    df = pd.read_csv(input_f)\n",
    "    df = df[df['signif_tags']].copy()\n",
    "    df_geneid = df[['GeneId']].copy()\n",
    "    df_gene_TPM = pd.merge(df_geneid, df_tpm, how='inner', on=['GeneId'])\n",
    "    df_gene_TPM.set_index('GeneId', inplace=True)\n",
    "    df_median = pd.DataFrame(df_gene_TPM.median(axis=0))\n",
    "    df_median.reset_index(inplace=True)\n",
    "    df_median.columns = ['tissues', 'median_value']\n",
    "    #print(df_median)\n",
    "    df_median['tags'] = [t]*df_median.shape[0]\n",
    "    df_result = pd.concat([df_result, df_median], axis=0)\n",
    "df_result.to_csv(\"G:/Billfish/J668_multip_tissue_3D-genome/HiC/TAD_new/TSG_TAD/TSG_TAD_TPM_median/TSG_TAD_TPM_median.csv\", index=False)"
   ]
  },
  {
   "cell_type": "code",
   "execution_count": 3,
   "metadata": {},
   "outputs": [
    {
     "name": "stdout",
     "output_type": "stream",
     "text": [
      "gene id:  anther 2100\n",
      "tad id:  anther 307\n",
      "gene id:  cotyledon 1921\n",
      "tad id:  cotyledon 154\n",
      "gene id:  hypocotyl 3393\n",
      "tad id:  hypocotyl 165\n",
      "gene id:  leaf 1818\n",
      "tad id:  leaf 154\n",
      "gene id:  petal 460\n",
      "tad id:  petal 53\n",
      "gene id:  root 4669\n",
      "tad id:  root 327\n",
      "gene id:  stem 2143\n",
      "tad id:  stem 127\n",
      "gene id:  stigma 895\n",
      "tad id:  stigma 91\n",
      "gene id:  fiber_10DPA 346\n",
      "tad id:  fiber_10DPA 49\n",
      "gene id:  radicle 4920\n",
      "tad id:  radicle 334\n"
     ]
    }
   ],
   "source": [
    "## TSG TAD 中包含多少基因\n",
    "tissues = ['anther', 'cotyledon', 'hypocotyl', 'leaf', 'petal', 'root', 'stem', 'stigma', 'fiber_10DPA', 'radicle']\n",
    "for t in tissues:\n",
    "    input_f = \"G:/Billfish/J668_multip_tissue_3D-genome/HiC/TAD_new/TSG_TAD/{}_TAD_TSG_number.csv\".format(t)\n",
    "    df = pd.read_csv(input_f)\n",
    "    df_gene = df[df['signif_tags']].copy()\n",
    "    df_tad = df_gene.drop_duplicates(keep='first', subset=['tad_tags'])\n",
    "    print(\"gene id: \", t, df_gene.shape[0])\n",
    "    print(\"tad id: \", t, df_tad.shape[0])"
   ]
  },
  {
   "cell_type": "code",
   "execution_count": 9,
   "metadata": {},
   "outputs": [
    {
     "name": "stdout",
     "output_type": "stream",
     "text": [
      "                GeneId     umap1     umap2    tags\n",
      "0      Ghir_A01G008470  9.527936  0.488961  anther\n",
      "1      Ghir_A01G008500 -2.603051 -0.262453  anther\n",
      "2      Ghir_A01G008510 -4.954781 -0.509775  anther\n",
      "3      Ghir_A01G008480 -6.025434  1.622966  anther\n",
      "4      Ghir_A01G010200 -0.451292 -4.578864  anther\n",
      "...                ...       ...       ...     ...\n",
      "15757  Ghir_D11G032400  4.159050 -5.856087  stigma\n",
      "15758  Ghir_D11G032370 -1.030424 -3.357174  stigma\n",
      "15759  Ghir_D11G032460  8.535477 -6.122490  stigma\n",
      "15760  Ghir_D11G032440  7.220622 -4.085074  stigma\n",
      "15761  Ghir_D11G032430  5.191967 -7.337708  stigma\n",
      "\n",
      "[15762 rows x 4 columns]\n"
     ]
    }
   ],
   "source": [
    "## 找到TSG TAD 中的基因并且用umap 降维聚类分析\n",
    "import pandas as pd\n",
    "\n",
    "## 得到与TSG TAD相关的基因ID\n",
    "def get_geneid():\n",
    "    tissues = ['anther', 'cotyledon', 'hypocotyl', 'leaf', 'petal', 'root', 'stem', 'stigma']\n",
    "    df_geneid = pd.DataFrame()\n",
    "    for t in tissues:\n",
    "        input_f = \"G:/Billfish/J668_multip_tissue_3D-genome/HiC/TAD_new/TSG_TAD/{}_TAD_TSG_number.csv\".format(t)\n",
    "        df = pd.read_csv(input_f)\n",
    "        df_gene = df[df['signif_tags']][['GeneId']].copy()\n",
    "        df_gene['tags'] = [t]*df_gene.shape[0]\n",
    "        df_geneid = pd.concat([df_geneid, df_gene], axis=0)\n",
    "    df_geneid.drop_duplicates(keep='first', inplace=True, subset=['GeneId'])\n",
    "    return df_geneid\n",
    "## 对这些基因用umap来聚类分析\n",
    "def zscore_umap(df):\n",
    "    import scipy.stats as stats\n",
    "    from sklearn.preprocessing import StandardScaler\n",
    "    import umap.umap_ as umap\n",
    "    #z-score\n",
    "    GeneId_list = df.index.to_list()\n",
    "    df_numpy = df.to_numpy()\n",
    "    df_zscore = stats.zscore(df_numpy, axis=1)\n",
    "    df_zscore = pd.DataFrame(df_zscore)\n",
    "    # umap\n",
    "    reducer = umap.UMAP()\n",
    "    scaled_penguin_data = StandardScaler().fit_transform(df_zscore)\n",
    "    embedding = reducer.fit_transform(scaled_penguin_data)\n",
    "    df_umap = pd.DataFrame(embedding, columns =['umap1', 'umap2'], index=GeneId_list)\n",
    "    df_umap.reset_index(inplace=True)\n",
    "    df_umap.rename(columns={'index':'GeneId'}, inplace=True)\n",
    "    return df_umap\n",
    "\n",
    "df_gene = get_geneid() #得到基因ID\n",
    "df_geneid = df_gene[['GeneId']].copy()\n",
    "## 得到基因所对应的TPM值\n",
    "df_TPM = pd.read_csv(\"G:/Billfish/J668_multip_tissue_3D-genome/new_RNA_Seq/RNA_Seq_data/J668_all_Tissue_mean_TPM.csv\")\n",
    "df_gene_TPM = pd.merge(df_geneid, df_TPM, how='inner', on=['GeneId'])\n",
    "df_gene_TPM.set_index(['GeneId'], inplace=True)\n",
    "df_gene_TPM = df_gene_TPM.loc[~(df_gene_TPM==0).all(axis=1), :]\n",
    "\n",
    "# # 对TPM值umap 降维\n",
    "df_zscore_umap = zscore_umap(df_gene_TPM)\n",
    "## 将值打上组织特异TAD 标签\n",
    "df_result = pd.merge(df_zscore_umap, df_gene, how='left', on=['GeneId'])\n",
    "df_result.to_csv(\"G:/Billfish/J668_multip_tissue_3D-genome/HiC/TAD_new/TSG_TAD/umap_gene/J668_TSG_TAD_gene_umap.csv\", index=False)\n",
    "print(df_result)\n"
   ]
  },
  {
   "cell_type": "code",
   "execution_count": 32,
   "metadata": {},
   "outputs": [
    {
     "name": "stdout",
     "output_type": "stream",
     "text": [
      "                          tad_tags      umap1     umap2    tags\n",
      "0     Ghir_A01-104980000-105320000  12.596522  0.785505  anther\n",
      "1       Ghir_A01-14940000-15240000  10.749345  0.757841  anther\n",
      "2       Ghir_A01-23680000-23880000  12.198755  2.266764  anther\n",
      "3       Ghir_A01-59180000-59460000  10.644151 -0.276062  anther\n",
      "4       Ghir_A01-69920000-71000000  11.630464 -0.597995  anther\n",
      "...                            ...        ...       ...     ...\n",
      "1368      Ghir_D11-9440000-9640000   6.991158  7.467500  stigma\n",
      "1369    Ghir_D13-20620000-21200000   7.408134  7.431827  stigma\n",
      "1370      Ghir_D13-3000000-3120000  11.084133  2.875095  stigma\n",
      "1371    Ghir_D13-33440000-33560000   6.695797  7.828837  stigma\n",
      "1372    Ghir_D13-37620000-37840000   6.264248  7.534527  stigma\n",
      "\n",
      "[1373 rows x 4 columns]\n"
     ]
    }
   ],
   "source": [
    "## 找到TSG TAD 中的基因并且对每个TAD所包含基因的中位数用umap 降维聚类分析\n",
    "import pandas as pd\n",
    "\n",
    "## 得到与TSG TAD相关的基因ID\n",
    "def get_geneid():\n",
    "    tissues = ['anther', 'cotyledon', 'hypocotyl', 'leaf', 'petal', 'root', 'stem', 'stigma']\n",
    "    df_geneid = pd.DataFrame()\n",
    "    df_TPM = pd.read_csv(\"G:/Billfish/J668_multip_tissue_3D-genome/new_RNA_Seq/RNA_Seq_data/J668_all_Tissue_mean_TPM.csv\")\n",
    "    for t in tissues:\n",
    "        input_f = \"G:/Billfish/J668_multip_tissue_3D-genome/HiC/TAD_new/TSG_TAD/{}_TAD_TSG_number.csv\".format(t)\n",
    "        df = pd.read_csv(input_f)\n",
    "        df_gene = df[df['signif_tags']][['GeneId', 'tad_tags']].copy()\n",
    "        df_gene = pd.merge(df_gene, df_TPM, how='inner', on=['GeneId'])\n",
    "        df_gene_tags = df_gene.groupby(by=['tad_tags'])[tissues].median()\n",
    "        df_gene_tags = df_gene_tags.loc[~(df_gene_tags==0).all(axis=1), :]\n",
    "        #print(df_gene_tags)\n",
    "        df_gene_tags['tags'] = [t]*df_gene_tags.shape[0]\n",
    "        df_geneid = pd.concat([df_geneid, df_gene_tags], axis=0)\n",
    "    ## 去除所有行为0的值\n",
    "    \n",
    "    return df_geneid\n",
    "## 对这些基因用umap来聚类分析\n",
    "def zscore_umap(df):\n",
    "    import scipy.stats as stats\n",
    "    from sklearn.preprocessing import StandardScaler\n",
    "    import umap.umap_ as umap\n",
    "    #z-score\n",
    "    GeneId_list = df.index.to_list()\n",
    "    df_numpy = df.to_numpy()\n",
    "    df_zscore = stats.zscore(df_numpy, axis=1)\n",
    "    df_zscore = pd.DataFrame(df_zscore)\n",
    "    # umap\n",
    "    reducer = umap.UMAP()\n",
    "    scaled_penguin_data = StandardScaler().fit_transform(df_zscore)\n",
    "    embedding = reducer.fit_transform(scaled_penguin_data)\n",
    "    df_umap = pd.DataFrame(embedding, columns =['umap1', 'umap2'], index=GeneId_list)\n",
    "    df_umap.reset_index(inplace=True)\n",
    "    df_umap.rename(columns={'index':'tad_tags'}, inplace=True)\n",
    "    return df_umap\n",
    "\n",
    "df_gene = get_geneid() #得到基因ID\n",
    "df_gene_tags = df_gene[['tags']].copy()\n",
    "df_gene_tags.reset_index(inplace=True)\n",
    "df_gene_median = df_gene.drop('tags', axis=1)\n",
    "# # # 对TPM值umap 降维\n",
    "df_zscore_umap = zscore_umap(df_gene_median)\n",
    "# ## 将值打上组织特异TAD 标签\n",
    "df_result = pd.merge(df_zscore_umap, df_gene_tags, how='left', on=['tad_tags'])\n",
    "df_result.to_csv(\"G:/Billfish/J668_multip_tissue_3D-genome/HiC/TAD_new/TSG_TAD/umap_gene/J668_TSG_TAD_gene_median_umap.csv\", index=False)\n",
    "print(df_result)\n"
   ]
  },
  {
   "cell_type": "code",
   "execution_count": 67,
   "metadata": {},
   "outputs": [],
   "source": [
    "## 计算TAD 基因表达中位数的皮尔逊相关系数\n",
    "import pandas as pd\n",
    "import numpy as np\n",
    "def get_geneid():\n",
    "    tissues = ['anther', 'cotyledon', 'hypocotyl', 'leaf', 'petal', 'root', 'stem', 'stigma']\n",
    "    df_geneid = pd.DataFrame()\n",
    "    df_TPM = pd.read_csv(\"G:/Billfish/J668_multip_tissue_3D-genome/new_RNA_Seq/RNA_Seq_data/J668_all_Tissue_mean_TPM.csv\")\n",
    "    for t in tissues:\n",
    "        input_f = \"G:/Billfish/J668_multip_tissue_3D-genome/HiC/TAD_new/TSG_TAD/{}_TAD_TSG_number.csv\".format(t)\n",
    "        df = pd.read_csv(input_f)\n",
    "        df_gene = df[df['signif_tags']][['GeneId', 'tad_tags']].copy()\n",
    "        df_gene = pd.merge(df_gene, df_TPM, how='inner', on=['GeneId'])\n",
    "        df_gene_tags = df_gene.groupby(by=['tad_tags'])[tissues].median()\n",
    "        df_gene_tags = df_gene_tags.loc[~(df_gene_tags==0).all(axis=1), :]\n",
    "        #print(df_gene_tags)\n",
    "        df_gene_tags['tags'] = [t]*df_gene_tags.shape[0]\n",
    "        df_geneid = pd.concat([df_geneid, df_gene_tags], axis=0)\n",
    "    return df_geneid\n",
    "## 将pandas 转换为两两之间的互作\n",
    "def pandas_tran_net(df):\n",
    "    df.index.name = 'source' # 重新修改列的标签名称\n",
    "    df.columns.name = 'target'\n",
    "    df_stack = df.where(np.tril(np.ones(df.shape), -1).astype(bool)).stack() # 取下三角矩阵并堆叠\n",
    "    df_stack = pd.DataFrame(df_stack) # stack对象转换为dataframe\n",
    "    df_stack.reset_index(inplace=True) \n",
    "    df_stack.columns = ['source', 'target', 'weight']\n",
    "    df_stack['weight2'] = df_stack['weight']*df_stack['weight']*df_stack['weight']\n",
    "    df_net = df_stack.query(\"weight>=0.5\")[['source', 'target', 'weight2']] # 选择权重大于0.5的边\n",
    "    df_net.columns = ['source', 'target', 'weight']\n",
    "    return df_net\n",
    "\n",
    "df = get_geneid()\n",
    "df_node = df[['tags']].copy()\n",
    "df_node.reset_index(inplace=True)\n",
    "df_node.columns = ['ID', 'tags']\n",
    "df_median = df.drop(['tags'], axis=1).T\n",
    "df_median_corr = df_median.corr()\n",
    "df_net = pandas_tran_net(df_median_corr)\n",
    "df_net.to_csv(\"G:/Billfish/J668_multip_tissue_3D-genome/HiC/TAD_new/TSG_TAD/corr_TAD/df_J668_TSG_TAD_net.csv\", index=False)\n",
    "df_node.to_csv(\"G:/Billfish/J668_multip_tissue_3D-genome/HiC/TAD_new/TSG_TAD/corr_TAD/df_J668_TSG_TAD_node.csv\", index=False)\n",
    "\n"
   ]
  },
  {
   "cell_type": "code",
   "execution_count": 29,
   "metadata": {},
   "outputs": [
    {
     "name": "stdout",
     "output_type": "stream",
     "text": [
      "['A', 'B', 'C', 'D']\n"
     ]
    },
    {
     "data": {
      "text/plain": [
       "WilcoxonResult(statistic=2490.0, pvalue=0.7720894147035797)"
      ]
     },
     "execution_count": 29,
     "metadata": {},
     "output_type": "execute_result"
    }
   ],
   "source": [
    "import pandas as pd\n",
    "import numpy as np\n",
    "import scipy.stats as stats\n",
    "df = pd.DataFrame(np.random.randn(100, 4), columns=list('ABCD'))\n",
    "df.loc['median', ] = df.median(axis=0)\n",
    "print(df.columns.to_list())\n",
    "df.loc['median', ].idxmax()\n",
    "stats.wilcoxon(df['A'], df['B'])"
   ]
  },
  {
   "cell_type": "code",
   "execution_count": 293,
   "metadata": {},
   "outputs": [
    {
     "name": "stdout",
     "output_type": "stream",
     "text": [
      "[0, 0.068981, 0]\n",
      "[0, 0, 0]\n",
      "0.25\n",
      "0.0008799719261802057\n"
     ]
    }
   ],
   "source": [
    "import scipy.stats as stats\n",
    "import numpy as np\n",
    "# x = np.random.randn(1, 2)[0]\n",
    "# y = np.random.randn(1, 2)[0]\n",
    "x = [0.327845,0.311795,0.403644]\n",
    "y = [0,0,0]\n",
    "x1 = [0.327845,0.311795,0.403644]\n",
    "y1 = [0,0.068981,0]\n",
    "print(y1)\n",
    "print(y)\n",
    "print(stats.wilcoxon(x1, y1, correction=True, alternative='two-sided').pvalue)\n",
    "print(stats.ttest_ind(x1, y1).pvalue)"
   ]
  },
  {
   "cell_type": "code",
   "execution_count": 4,
   "metadata": {},
   "outputs": [
    {
     "name": "stdout",
     "output_type": "stream",
     "text": [
      "22665\n",
      "21287\n"
     ]
    }
   ],
   "source": [
    "## 整理所有认为是组织功能性的TAD结构\n",
    "tissues = ['anther', 'cotyledon', 'hypocotyl', 'leaf', 'petal', 'root', 'stem', 'stigma','fiber_10DPA', 'radicle']\n",
    "df_result = pd.DataFrame()\n",
    "for t in tissues:\n",
    "    input_f = \"G:/Billfish/J668_multip_tissue_3D-genome/HiC/TAD_new/TSG_TAD/{}_TAD_TSG_number.csv\".format(t)\n",
    "    df_tmp = pd.read_csv(input_f)\n",
    "    #df_tmp.replace('False', 'F', inplace=True)\n",
    "    #print(df_tmp[df_tmp['signif_tags']])\n",
    "    df_tmp_need = df_tmp[df_tmp['signif_tags']][['GeneId']].copy()\n",
    "    df_tmp_need['tags'] = [t]*df_tmp_need.shape[0]\n",
    "    #df_tmp_need.drop_duplicates(keep='first', inplace=True, subset=['tad_tags'])\n",
    "    #print(df_tmp_need)\n",
    "    df_result = pd.concat([df_result, df_tmp_need], axis=0)\n",
    "print(df_result.shape[0])\n",
    "df_result.drop_duplicates(keep='first', inplace=True, subset=['GeneId'])\n",
    "print(df_result.shape[0])\n",
    "df_result.to_csv(\"G:/Billfish/J668_multip_tissue_3D-genome/HiC/TAD_new/TSG_TAD/TAD_TSG_geneid.csv\", index=False)"
   ]
  },
  {
   "cell_type": "code",
   "execution_count": 14,
   "metadata": {},
   "outputs": [],
   "source": [
    "## 将WGCNA 基因调控网络转换为 TAD 共表达调控网络\n",
    "#1、整理基因id所对应的TAD\n",
    "def ID_TAD():\n",
    "    tissues = ['anther', 'cotyledon', 'hypocotyl', 'leaf', 'petal', 'root', 'stem', 'stigma']\n",
    "    df_id_tad = pd.DataFrame()\n",
    "    for t in tissues:\n",
    "        input_f = \"G:/Billfish/J668_multip_tissue_3D-genome/HiC/TAD_new/TSG_TAD/{}_TAD_TSG_number.csv\".format(t)\n",
    "        df_tmp = pd.read_csv(input_f)\n",
    "        #df_tmp_need = df_tmp.query(\"ratio>=0.5\")[['GeneId', 'tad_tags']].copy() # 之前\n",
    "        df_tmp_need = df_tmp[df_tmp['signif_tags']][['GeneId', 'tad_tags']].copy() \n",
    "        df_id_tad = pd.concat([df_id_tad, df_tmp_need], axis=0)\n",
    "    return df_id_tad\n",
    "#2、分析组织功能TAD 共调控网络\n",
    "def TAD_net(df_id_tad, df_net):\n",
    "    df_id_tad.columns = ['source', 'source_tad']\n",
    "    df_a = pd.merge(df_net, df_id_tad, how='inner', on=['source'])\n",
    "    df_id_tad.columns = ['target', 'target_tad']\n",
    "    df_b = pd.merge(df_a, df_id_tad, how='inner', on=['target'])\n",
    "    df_b['number'] = [1]*df_b.shape[0]\n",
    "    df_weight = df_b.groupby(by=['source_tad', 'target_tad'], as_index=False)['weight'].mean()\n",
    "    return(df_weight)\n",
    "\n",
    "df_net = pd.read_csv(\"G:/Billfish/J668_multip_tissue_3D-genome/new_RNA_Seq/WGCNA/J668_all_tissue_005_edge.bed\", sep=\"\\t\", names=['source', 'target', 'weight'])\n",
    "df_id_tad= ID_TAD()\n",
    "df_TAD_net = TAD_net(df_id_tad, df_net)\n",
    "df_TAD_net = df_TAD_net.query(\"weight>=0.2\")\n",
    "#print(df_TAD_net.shape[0])\n",
    "df_TAD_net.columns = ['source', 'target', 'weight']\n",
    "df_TAD_net.drop_duplicates(inplace=True, keep='first')\n",
    "#print(df_TAD_net.shape[0])\n",
    "df_TAD_net.to_csv(\"G:/Billfish/J668_multip_tissue_3D-genome/HiC/TAD_new/TSG_TAD/TSG_TAD_net.csv\", index=False)"
   ]
  },
  {
   "cell_type": "code",
   "execution_count": 8,
   "metadata": {},
   "outputs": [],
   "source": [
    "## 提取TSG_TAD所包含的基因ID\n",
    "import pandas as pd\n",
    "tissues = ['anther', 'cotyledon', 'hypocotyl', 'leaf', 'petal', 'root', 'stem', 'stigma']\n",
    "df_gene = pd.read_csv(\"G:/Billfish/J668_multip_tissue_3D-genome/RNA_seq/all_gene_sort.bed2\", sep=\"\\t\", names=['chrom', 'start', 'end', 'GeneId', 'tags1', 'tags2'])\n",
    "for t in tissues:\n",
    "    input_f = \"G:/Billfish/J668_multip_tissue_3D-genome/HiC/TAD_new/TSG_TAD/{}_TAD_TSG_number.csv\".format(t)\n",
    "    output_f = \"G:/Billfish/J668_multip_tissue_3D-genome/HiC/TAD_new/TSG_TAD/{}_TAD_TSG_gene.bed\".format(t)\n",
    "    output_f2 = \"G:/Billfish/J668_multip_tissue_3D-genome/HiC/TAD_new/TSG_TAD/{}_TAD_TSG_randomgene.bed\".format(t)\n",
    "    df_input = pd.read_csv(input_f)\n",
    "    df_geneid = df_input[df_input['signif_tags']][['GeneId']].copy()\n",
    "    df_output = pd.merge(df_geneid, df_gene, how='inner', on=['GeneId'])\n",
    "    df_random = df_gene.sample(df_geneid.shape[0])\n",
    "    df_random.to_csv(output_f2, sep=\"\\t\", index=False, header=False)\n",
    "    df_output.to_csv(output_f, sep=\"\\t\", index=False, header=False, columns=['chrom', 'start', 'end', 'GeneId', 'tags1', 'tags2'])\n",
    "    "
   ]
  },
  {
   "cell_type": "code",
   "execution_count": 15,
   "metadata": {},
   "outputs": [
    {
     "name": "stdout",
     "output_type": "stream",
     "text": [
      "849\n",
      "849\n"
     ]
    }
   ],
   "source": [
    "## 给TSG_TAD打上标签\n",
    "import pandas as pd\n",
    "\n",
    "def ID_TAD():\n",
    "    tissues = ['anther', 'cotyledon', 'hypocotyl', 'leaf', 'petal', 'root', 'stem', 'stigma']\n",
    "    df_id_tad = pd.DataFrame()\n",
    "    for t in tissues:\n",
    "        input_f = \"G:/Billfish/J668_multip_tissue_3D-genome/HiC/TAD_new/TSG_TAD/{}_TAD_TSG_number.csv\".format(t)\n",
    "        df_tmp = pd.read_csv(input_f)\n",
    "        #df_tmp_need = df_tmp.query(\"ratio>=0.5\")[['tad_tags']].copy()\n",
    "        df_tmp_need = df_tmp[df_tmp['signif_tags']][['tad_tags']].copy() \n",
    "        df_tmp_need['tissues'] = [t]*df_tmp_need.shape[0]\n",
    "        df_id_tad = pd.concat([df_id_tad, df_tmp_need], axis=0)\n",
    "    df_id_tad.drop_duplicates(keep='first', inplace=True,subset=['tad_tags'])\n",
    "    df_id_tad.columns = ['node', 'tags']\n",
    "    return df_id_tad\n",
    "# 找到网络中包含的节点\n",
    "def net_node(df_net):\n",
    "    df_source = df_net[['source']].copy()\n",
    "    df_target = df_net[['target']].copy()\n",
    "    df_source.columns = ['node']\n",
    "    df_target.columns = ['node']\n",
    "    df_return = pd.concat([df_source, df_target], axis=0)\n",
    "    df_return.drop_duplicates(keep='first',inplace=True)\n",
    "    return df_return\n",
    "df_TAD_net = pd.read_csv(\"G:/Billfish/J668_multip_tissue_3D-genome/HiC/TAD_new/TSG_TAD/TSG_TAD_net.csv\")\n",
    "df_TAD_node = net_node(df_TAD_net)\n",
    "print(df_TAD_node.shape[0])\n",
    "df_TAD_tags = ID_TAD()\n",
    "df_TAD_node_tags = pd.merge(df_TAD_node, df_TAD_tags, how='left', on=['node'])\n",
    "print(df_TAD_node_tags.shape[0])\n",
    "df_TAD_node_tags.dropna(inplace=True)\n",
    "df_TAD_node_tags.rename(columns={'node':'ID'}, inplace=True)\n",
    "df_TAD_node_tags.to_csv(\"G:/Billfish/J668_multip_tissue_3D-genome/HiC/TAD_new/TSG_TAD/TSG_TAD_node.csv\", index=False)"
   ]
  },
  {
   "cell_type": "code",
   "execution_count": 7,
   "metadata": {},
   "outputs": [
    {
     "name": "stdout",
     "output_type": "stream",
     "text": [
      "16698\n"
     ]
    }
   ],
   "source": [
    "## 分析TSG_TAD 所能包含的共表达网络\n",
    "import pandas as pd\n",
    "df_WGCNA = pd.read_csv(\"G:/Billfish/J668_multip_tissue_3D-genome/new_RNA_Seq/WGCNA/J668_all_tissue_005_edge.bed\", sep=\"\\t\", names=['source', 'target', 'weight'])\n",
    "df_geneid = pd.read_csv(\"G:/Billfish/J668_multip_tissue_3D-genome/HiC/TAD_new/TSG_TAD/TAD_TSG_geneid.csv\")\n",
    "print(df_geneid.shape[0])\n",
    "df_geneid = df_geneid[['GeneId']].copy()\n",
    "df_geneid.columns = ['source']\n",
    "df_a = pd.merge(df_geneid, df_WGCNA, how='inner', on=['source'])\n",
    "df_geneid.columns = ['target']\n",
    "df_b = pd.merge(df_geneid, df_a, how='inner', on=['target'])\n",
    "# df_result = pd.concat([df_a, df_b], axis=0)\n",
    "# df_result.drop_duplicates(keep='first', inplace=True)\n",
    "df_b.to_csv(\"G:/Billfish/J668_multip_tissue_3D-genome/HiC/TAD_new/TSG_TAD/TSG_TAD_net_gene.csv\", index=False)"
   ]
  },
  {
   "cell_type": "code",
   "execution_count": 5,
   "metadata": {},
   "outputs": [],
   "source": [
    "import pandas as pd\n",
    "df_geneid = pd.read_csv(\"G:/Billfish/J668_multip_tissue_3D-genome/HiC/TAD_new/TSG_TAD/TAD_TSG_geneid.csv\")\n",
    "df_geneid.columns = ['ID', 'tags']\n",
    "df_geneid.to_csv(\"G:/Billfish/J668_multip_tissue_3D-genome/HiC/TAD_new/TSG_TAD/TSG_TAD_node_gene.csv\", index=False)"
   ]
  },
  {
   "cell_type": "code",
   "execution_count": 63,
   "metadata": {},
   "outputs": [],
   "source": [
    "## 随机生成一些基因\n",
    "df = pd.read_csv(\"G:/Billfish/J668_multip_tissue_3D-genome/RNA_seq/Gh_gene_position.bed\", sep=\"\\t\")\n",
    "tissues = {'anther':2995, 'cotyledon':856, 'hypocotyl':701, 'leaf':926, 'petal':638, 'root':1827, 'stem':544, 'stigma':725}\n",
    "df_result = pd.DataFrame()\n",
    "for key, value in tissues.items():\n",
    "    df_tmp = df.sample(value)\n",
    "    df_tmp['tags'] = [key]*df_tmp.shape[0]\n",
    "    df_result = pd.concat([df_result, df_tmp], axis=0)\n",
    "df_result.to_csv('G:/Billfish/J668_multip_tissue_3D-genome/new_RNA_Seq/TAU/J668_all_Tissue_TSGnumber_position_random.bed', sep=\"\\t\", index=False)   \n",
    "    "
   ]
  },
  {
   "cell_type": "code",
   "execution_count": 66,
   "metadata": {},
   "outputs": [
    {
     "name": "stdout",
     "output_type": "stream",
     "text": [
      "1966 2081\n",
      "571 608\n",
      "665 763\n",
      "119 77\n",
      "590 634\n",
      "89 57\n",
      "791 789\n",
      "113 97\n",
      "532 572\n",
      "73 46\n",
      "1308 1408\n",
      "318 296\n",
      "484 507\n",
      "52 37\n",
      "611 628\n",
      "83 68\n"
     ]
    }
   ],
   "source": [
    "tissues = ['anther', 'cotyledon', 'hypocotyl', 'leaf', 'petal', 'root', 'stem', 'stigma']\n",
    "for t in tissues:\n",
    "    input_f1 = \"G:/Billfish/J668_multip_tissue_3D-genome/HiC/TAD_new/TSG_TAD/pre/{}_TSG.bed\".format(t)\n",
    "    input_f2 = \"G:/Billfish/J668_multip_tissue_3D-genome/HiC/TAD_new/TSG_TAD/pre/{}_TSG_random.bed\".format(t)\n",
    "    df1 = pd.read_csv(input_f1, sep=\"\\t\", names=['chrom', 'start', 'end', 'number'])\n",
    "    df2 = pd.read_csv(input_f2, sep=\"\\t\", names=['chrom', 'start', 'end', 'number'])\n",
    "    print(df1.shape[0], df2.shape[0])\n",
    "    print(df1.query(\"number>1\").shape[0], df2.query(\"number>1\").shape[0])\n",
    "    "
   ]
  },
  {
   "cell_type": "code",
   "execution_count": 84,
   "metadata": {},
   "outputs": [
    {
     "data": {
      "image/png": "[encoded data removed]",
      "text/plain": [
       "<Figure size 432x288 with 1 Axes>"
      ]
     },
     "metadata": {
      "needs_background": "light"
     },
     "output_type": "display_data"
    }
   ],
   "source": [
    "import pandas as pd\n",
    "import seaborn as sns\n",
    "df = pd.read_csv(\"G:/Billfish/J668_multip_tissue_3D-genome/HiC/TAD_new/TSG_TAD/pre/TSG_in_TAD_ratio.csv\")\n",
    "df = df[['Tissues', 'TSG_ratio', 'random_ratio']].copy()\n",
    "df_long = pd.melt(df, id_vars=['Tissues'])\n",
    "fg = sns.barplot(x=df_long['Tissues'], y=df_long['value'], hue=df_long['variable'])\n",
    "fg.legend(loc=2)\n",
    "fg.set_xticklabels(fg.get_xticklabels(), rotation=315)\n",
    "scatter_fig = fg.get_figure()\n",
    "scatter_fig.savefig(\"G:/Billfish/J668_multip_tissue_3D-genome/HiC/TAD_new/TSG_TAD/pre/TSG_in_TAD_ratio.pdf\", dpi = 400)"
   ]
  },
  {
   "cell_type": "code",
   "execution_count": 4,
   "metadata": {},
   "outputs": [
    {
     "name": "stdout",
     "output_type": "stream",
     "text": [
      "    total  number\n",
      "0       0     801\n",
      "1       1    1155\n",
      "2       2    1528\n",
      "3       3    1958\n",
      "4       4    2440\n",
      "5       5    2853\n",
      "6       6    3566\n",
      "7       7    3913\n",
      "8       8    5175\n",
      "9       9    6982\n",
      "10     10   11095\n",
      "11     11   53657\n"
     ]
    }
   ],
   "source": []
  }
 ],
 "metadata": {
  "kernelspec": {
   "display_name": "Python 3.8.3 ('base')",
   "language": "python",
   "name": "python3"
  },
  "language_info": {
   "codemirror_mode": {
    "name": "ipython",
    "version": 3
   },
   "file_extension": ".py",
   "mimetype": "text/x-python",
   "name": "python",
   "nbconvert_exporter": "python",
   "pygments_lexer": "ipython3",
   "version": "3.8.3"
  },
  "orig_nbformat": 4,
  "vscode": {
   "interpreter": {
    "hash": "a0f669ea42a4dcea88d385f8f9b4c3d9b966e24234758831d1dbfdac925619a2"
   }
  }
 },
 "nbformat": 4,
 "nbformat_minor": 2
}
