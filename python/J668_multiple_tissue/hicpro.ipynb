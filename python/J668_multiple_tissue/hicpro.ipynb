{
 "cells": [
  {
   "cell_type": "code",
   "execution_count": null,
   "metadata": {},
   "outputs": [],
   "source": [
    "## 新的染色体互作矩阵\n",
    "import pandas as pd\n",
    "import sys\n",
    "matrix_f = sys.argv[1]\n",
    "bed_f    = sys.argv[2]\n",
    "output_f = sys.argv[3]\n",
    "df_mtx = pd.read_csv(matrix_f, sep=\"\\t\", names=['bin1', 'bin2', 'interaction'])\n",
    "df_bed = pd.read_csv(bed_f, sep=\"\\t\", names=['chr1', 'start1', 'end1', 'bin1'])\n",
    "df1 = pd.merge(df_mtx, df_bed, how='left', on=['bin1'])\n",
    "df_bed.columns = ['chr2', 'start2', 'end2', 'bin2']\n",
    "df2 = pd.merge(df_mtx, df_bed, how='left', on=['bin2'])\n",
    "df2.to_csv(output_f, sep='\\t', columns = ['chr1', 'start1', 'end1', 'chr2', 'start2', 'end2', 'interaction'])"
   ]
  },
  {
   "cell_type": "code",
   "execution_count": null,
   "metadata": {},
   "outputs": [],
   "source": [
    "## 染色体间互作矩阵\n",
    "import pandas as pd\n",
    "chromosomes = ['Ghir_A01', 'Ghir_A02', 'Ghir_A03', 'Ghir_A04', 'Ghir_A05', 'Ghir_A06', 'Ghir_A07', 'Ghir_A08', 'Ghir_A09', 'Ghir_A10', 'Ghir_A11', 'Ghir_A12', 'Ghir_A13', 'Ghir_D01', 'Ghir_D02', 'Ghir_D03', 'Ghir_D04', 'Ghir_D05', 'Ghir_D06', 'Ghir_D07', 'Ghir_D08', 'Ghir_D09', 'Ghir_D10', 'Ghir_D11', 'Ghir_D12', 'Ghir_D13']\n",
    "for i in range(26):\n",
    "    k = i+1\n",
    "    for j in range(k, 26):\n",
    "        chr1, chr2 = chromosomes[i], chromosomes[j]\n",
    "        one_mtx, two_mtx = \"{}.matrix\".format(chr1), \"{}.matrix\".format(chr2)\n",
    "        one_abs, two_abs = \"{}_abs.bed\".format(chr1), \"{}_abs.bed\".format(chr2)\n",
    "        one_biases, two_biases = \"{}.biases\".format(chr1), \"{}.biases\".format(chr2)\n",
    "        out_mtx, out_abs, out_biases = \"inter/{0}_{1}.matrix\".format(chr1, chr2), \"inter/{0}_{1}_abs.bed\".format(chr1, chr2), \"inter/{0}_{1}.biases\".format(chr1, chr2)\n",
    "        df_mtx1 = pd.read_csv(one_mtx, sep=\"\\t\", names=['bin1', 'bin2', 'reads'])\n",
    "        df_mtx2 = pd.read_csv(two_mtx, sep=\"\\t\", names=['bin1', 'bin2', 'reads'])\n",
    "        df_abs1 = pd.read_csv(one_abs, sep=\"\\t\", names=['chr', 'start', 'end', 'tags'])\n",
    "        df_abs2 = pd.read_csv(two_abs, sep=\"\\t\", names=['chr', 'start', 'end', 'tags'])\n",
    "        df_biases1 = pd.read_csv(one_biases, sep=\"\\t\", names=['biases'])\n",
    "        df_biases2 = pd.read_csv(two_biases, sep=\"\\t\", names=['biases'])\n",
    "        ## second matrix format\n",
    "        start = df_abs1.shape[0]+1\n",
    "        end = start + df_abs2.shape[0]\n",
    "        df_abs2['tags2'] = range(start, end)\n",
    "        df_abs2_tags = df_abs2[['tags', 'tags2']].copy()\n",
    "        df_abs2_tags.columns = ['bin1', 'tags1']\n",
    "        df1 = pd.merge(df_mtx2, df_abs2_tags, how='inner', on=['bin1'])\n",
    "        df_abs2_tags.columns = ['bin2', 'tags2']\n",
    "        df2 = pd.merge(df1, df_abs2_tags, how='inner', on=['bin2'])\n",
    "        df_mtx2 = df2[['tags1', 'tags2', 'reads']]\n",
    "        df_mtx2.columns = ['bin1', 'bin2', 'reads']\n",
    "        df_abs2 = df_abs2[['chr', 'start', 'end', 'tags2']]\n",
    "        df_abs2.columns = ['chr', 'start', 'end', 'tags']\n",
    "        # concat file\n",
    "        df_mtx = pd.concat(df_mtx1, df_mtx2, axis=0)\n",
    "        df_abs = pd.concat(df_abs1, df_abs2, axis=0)\n",
    "        df_biases = pd.concat(df_biases1, df_biases2, axis=0)\n",
    "        #write file\n",
    "        df_mtx.to_csv(out_mtx, sep='\\t', header=False, index=False)\n",
    "        df_abs.to_csv(out_abs, sep='\\t', header=False, index=False)\n",
    "        df_biases.to_csv(out_biases, sep='\\t', header=False, index=False) "
   ]
  },
  {
   "cell_type": "code",
   "execution_count": null,
   "metadata": {},
   "outputs": [],
   "source": [
    "## 用GenomeDISCO， HiCRep， HiC-Spector， QuASAR-Rep 来检测数据的质量\n",
    "import pandas as pd\n",
    "import os\n",
    "import sys\n",
    "tissue = ['anthers1', 'cotyledon1', 'ovules1',  'hypocotyl1', 'leaf1', 'petals1', 'radicle1', 'root1', 'stem1', 'stigma1', 'fiber_5DPA1', 'fiber_10DPA1', 'fiber_20DPA1', 'anthers2', 'cotyledon2', 'ovules2',  'hypocotyl2', 'leaf2', 'petals2', 'radicle2', 'root2', 'stem2', 'stigma2', 'fiber_5DPA2', 'fiber_10DPA2', 'fiber_20DPA2']\n",
    "#rep1 = ['anthers1', 'cotyledon1', 'ovules1',  'hypocotyl1', 'leaf1', 'petals1', 'radicle1', 'root1', 'stem1', 'stigma1', 'fiber_5DPA1', 'fiber_10DPA1', 'fiber_20DPA1']\n",
    "#rep2 = ['anthers2', 'cotyledon2', 'ovules2',  'hypocotyl2', 'leaf2', 'petals2', 'radicle2', 'root2', 'stem2', 'stigma2', 'fiber_5DPA2', 'fiber_10DPA2', 'fiber_20DPA2']\n",
    "output_f = sys.argv[1] \n",
    "df_result = pd.DataFrame(columns=tissue, index=tissue)\n",
    "for i in tissue: \n",
    "    for j in tissue:\n",
    "        input_f = \"{0}.vs.{1}.txt\".format(i,j)\n",
    "        if os.path.exists(input_f):\n",
    "            df_tmp = pd.read_csv(input_f, sep='\\t', names=['tags1', 'tags2', 'chrs', 'value'])\n",
    "            aver_value = df_tmp['value'].mean()\n",
    "            df_result.loc[i, j] = aver_value\n",
    "df_result.to_csv(output_f, sep='\\t')"
   ]
  },
  {
   "cell_type": "code",
   "execution_count": 1,
   "metadata": {},
   "outputs": [],
   "source": []
  }
 ],
 "metadata": {
  "kernelspec": {
   "display_name": "Python 3.8.3 ('base')",
   "language": "python",
   "name": "python3"
  },
  "language_info": {
   "codemirror_mode": {
    "name": "ipython",
    "version": 3
   },
   "file_extension": ".py",
   "mimetype": "text/x-python",
   "name": "python",
   "nbconvert_exporter": "python",
   "pygments_lexer": "ipython3",
   "version": "3.8.3"
  },
  "orig_nbformat": 4,
  "vscode": {
   "interpreter": {
    "hash": "a0f669ea42a4dcea88d385f8f9b4c3d9b966e24234758831d1dbfdac925619a2"
   }
  }
 },
 "nbformat": 4,
 "nbformat_minor": 2
}
