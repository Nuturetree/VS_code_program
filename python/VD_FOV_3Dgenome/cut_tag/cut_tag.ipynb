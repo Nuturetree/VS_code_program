{
 "cells": [
  {
   "cell_type": "code",
   "execution_count": 2,
   "metadata": {},
   "outputs": [],
   "source": [
    "## 整理peaks数量数据, 20230512\n",
    "import pandas as pd\n",
    "from functools import reduce\n",
    "df_rep1 = pd.read_csv(\"G:/Billfish/VD_FOV_3Dgenome/Cut_tag/rawdata/peaks_number/J668_glr48_cutTag_Rep1.bed\", sep=\" \", names=['rep1', 'a', 'material', 'strain', 'time', 'chip_tag'])\n",
    "df_rep2 = pd.read_csv(\"G:/Billfish/VD_FOV_3Dgenome/Cut_tag/rawdata/peaks_number/J668_glr48_cutTag_Rep2.bed\", sep=\" \", names=['rep2', 'a', 'material', 'strain', 'time', 'chip_tag'])\n",
    "df_merge = pd.read_csv(\"G:/Billfish/VD_FOV_3Dgenome/Cut_tag/rawdata/peaks_number/J668_glr48_cutTag_merge.bed\", sep=\" \", names=['merge', 'a', 'material', 'strain', 'time', 'chip_tag'])\n",
    "df_IDR = pd.read_csv(\"G:/Billfish/VD_FOV_3Dgenome/Cut_tag/rawdata/peaks_number/J668_glr48_cutTag_IDR.bed\", sep=\" \", names=['IDR','material', 'strain', 'time', 'chip_tag'])\n",
    "df_rep12_merge = reduce(lambda left,right: pd.merge(left, right, on=['a','material', 'strain', 'time', 'chip_tag']), [df_rep1,df_rep2,df_merge])\n",
    "df_rep12_merge.drop(\"a\", axis=1, inplace=True)\n",
    "df_result = pd.merge(df_rep12_merge, df_IDR, how='inner', on=['material', 'strain', 'time', 'chip_tag'])\n",
    "df_result['ratio'] = (df_result['IDR']*2)/(df_result['rep1'] + df_result['rep2'])\n",
    "\n",
    "\n",
    "# add FRiP\n",
    "df_FRiP = pd.read_csv(\"G:/Billfish/VD_FOV_3Dgenome/Cut_tag/rawdata/peaks_number/FRiP.bed\", sep=\" \", names=['material', 'strain', 'time', 'rep', 'chip_tag', 'number'])\n",
    "df_rep1_FRiP = df_FRiP.query(\"rep == 'Rep1'\")[['material', 'strain', 'time', 'chip_tag', 'number']].copy()\n",
    "df_rep2_FRiP = df_FRiP.query(\"rep == 'Rep2'\")[['material', 'strain', 'time', 'chip_tag', 'number']].copy()\n",
    "df_merge_FRiP = df_FRiP.query(\"rep == 'merge'\")[['material', 'strain', 'time', 'chip_tag', 'number']].copy()\n",
    "df_rep1_FRiP.rename(columns={'number':'rep1_FRiP'}, inplace=True)\n",
    "df_rep2_FRiP.rename(columns={'number':'rep2_FRiP'}, inplace=True)\n",
    "df_merge_FRiP.rename(columns={'number':'merge_FRiP'}, inplace=True)\n",
    "df_result = reduce(lambda left,right: pd.merge(left, right, on=['material', 'strain', 'time', 'chip_tag']), [df_result, df_rep1_FRiP, df_rep2_FRiP, df_merge_FRiP])\n",
    "\n",
    "## add recall peaks\n",
    "df_recall_peaks = pd.read_csv(\"G:/Billfish/VD_FOV_3Dgenome/Cut_tag/rawdata/peaks_number/J668_glr48_recalled_peaks.bed\", sep=\" \", names=['recalled','material', 'strain', 'time','chip_tag'])\n",
    "df_result = pd.merge(df_result, df_recall_peaks, how='inner', on=['material', 'strain', 'time','chip_tag'])\n",
    "\n",
    "df_result.to_csv(\"G:/Billfish/VD_FOV_3Dgenome/Cut_tag/rawdata/peaks_number/J668_glr48_peaks_data.csv\", index=False)"
   ]
  },
  {
   "cell_type": "code",
   "execution_count": 4,
   "metadata": {},
   "outputs": [],
   "source": [
    "## statistic number of diffpeaks\n",
    "## Nutures\n",
    "## 20230522\n",
    "import pandas as pd\n",
    "\n",
    "# 1、 calculate the number of diffpeaks between\n",
    "def diffpeaks_number(df):\n",
    "    df_up = df.query(\"logfc>0\").copy()\n",
    "    df_down = df.query(\"logfc<0\").copy()\n",
    "    up_number, down_number = df_up.shape[0], df_down.shape[0]\n",
    "    return up_number, down_number\n",
    "\n",
    "# 2、different strain or sample or time\n",
    "def diff_strain_sample_time(dir):\n",
    "    Times = ['0min', '5min', '10min', '30min', '180min', '720min']\n",
    "    df_return = pd.DataFrame(columns = ['sample1', 'sample2', 'sample3', 'chip', 'times', 'methods', 'number', 'tags'])\n",
    "    # 1、diff strain or sample\n",
    "    for s in ['J668_Fov7_V991', 'J668_Glr19_Fov7']:\n",
    "        if s == 'J668_Fov7_V991':\n",
    "            sample1, sample2 = 'J668_Fov7', 'J668_V991'\n",
    "        else:\n",
    "            sample1, sample2 = 'J668_Fov7', 'Glr19_Fov7'\n",
    "        for k in ['H3K27ac', 'H3K27me3']:\n",
    "            for t in Times:\n",
    "                for h in ['deseq2', 'edgeR']:\n",
    "                    input_f = \"{0}/{1}/{2}/{3}_{4}-{5}_{4}/{3}_{4}_{5}_{4}_{6}_sig.bed\".format(dir,s,k,sample1, t, sample2, h)\n",
    "                    df = pd.read_csv(input_f, sep=\"\\t\", names=['chrom', 'start', 'end', 'a', 'logfc'])\n",
    "                    up_number, down_number = diffpeaks_number(df)\n",
    "                    df_return.loc[df_return.shape[0],  ] = [sample1, sample2,\"{0}-{1}\".format(sample1, sample2), k, t, h, up_number, 'Up']\n",
    "                    df_return.loc[df_return.shape[0],  ] = [sample1, sample2, \"{0}-{1}\".format(sample1, sample2), k, t, h, down_number, 'Down']\n",
    "    # 2、diff time\n",
    "    df_return2 = pd.DataFrame(columns = ['samples', 'chip', 'time1', 'time2', 'times', 'methods', 'number', 'tags'])\n",
    "    for s in ['J668_Fov7', 'J668_V991', 'Glr19_Fov7']:\n",
    "        for k in ['H3K27ac', 'H3K27me3']:\n",
    "            for i in range(5):\n",
    "                times1 = Times[i]\n",
    "                times2 = Times[i+1]\n",
    "                for h in ['deseq2', 'edgeR']:\n",
    "                    input_f = \"{0}/{1}/{2}/{1}_{3}-{1}_{4}/{1}_{3}_{1}_{4}_{5}_sig.bed\".format(dir, s, k, times1, times2, h)\n",
    "                    df = pd.read_csv(input_f, sep=\"\\t\", names=['chrom', 'start', 'end', 'a', 'logfc'])\n",
    "                    up_number, down_number = diffpeaks_number(df)\n",
    "                    df_return2.loc[df_return2.shape[0],  ] = [s, k, times1, times2, \"{0}-{1}\".format(times1, times2), h, up_number, 'Up']\n",
    "                    df_return2.loc[df_return2.shape[0],  ] = [s, k, times1, times2, \"{0}-{1}\".format(times1, times2), h, down_number, 'Down']\n",
    "    return df_return, df_return2\n",
    "\n",
    "df_diff_strain, df_diff_time = diff_strain_sample_time(\"/public/home/xhhuang/biodate/VD_FOV_3Dgenome/CUT_Tag/diff_peaks\")\n",
    "df_diff_strain.to_csv(\"J668_diff_strain.csv\", index=False)\n",
    "df_diff_time.to_csv(\"J668_diff_time.csv\", index=False)"
   ]
  },
  {
   "cell_type": "code",
   "execution_count": 8,
   "metadata": {},
   "outputs": [],
   "source": [
    "## 分析注释在基因区近端的调控元件数目\n",
    "import pandas as pd\n",
    "df = pd.read_csv(\"G:/Billfish/VD_FOV_3Dgenome/Cut_tag/rawdata/diffpeaks/J668_V991/H3K27me3/J668_V991_0min_J668_V991_5min_peaks_annotation.bed\", sep=\" \")\n",
    "df_proximal = df.query(\"annotation!='Distal Intergenic'\").copy()\n",
    "#df_proximal.drop_duplicates(keep='first', subset=['geneId'], inplace=True)\n",
    "df_proximal.to_csv(\"G:/Billfish/VD_FOV_3Dgenome/Cut_tag/rawdata/diffpeaks/J668_V991/H3K27me3/J668_V991_0min_5min_proximal_geneid.csv\", index=False, columns=['geneId'])"
   ]
  },
  {
   "cell_type": "code",
   "execution_count": 9,
   "metadata": {},
   "outputs": [],
   "source": [
    "## 分析注释在基因区近端的调控元件数目\n",
    "import pandas as pd\n",
    "df = pd.read_csv(\"G:/Billfish/VD_FOV_3Dgenome/Cut_tag/rawdata/diffpeaks/J668_V991/H3K27ac/J668_V991_0min_J668_V991_5min_peaks_annotation.bed\", sep=\" \")\n",
    "df_proximal = df.query(\"annotation!='Distal Intergenic'\").copy()\n",
    "#df_proximal.drop_duplicates(keep='first', subset=['geneId'], inplace=True)\n",
    "df_proximal.to_csv(\"G:/Billfish/VD_FOV_3Dgenome/Cut_tag/rawdata/diffpeaks/J668_V991/H3K27ac/J668_V991_0min_5min_proximal_geneid.csv\", index=False, columns=['geneId'])"
   ]
  }
 ],
 "metadata": {
  "kernelspec": {
   "display_name": "Python 3.8.3 ('base')",
   "language": "python",
   "name": "python3"
  },
  "language_info": {
   "codemirror_mode": {
    "name": "ipython",
    "version": 3
   },
   "file_extension": ".py",
   "mimetype": "text/x-python",
   "name": "python",
   "nbconvert_exporter": "python",
   "pygments_lexer": "ipython3",
   "version": "3.8.3"
  },
  "orig_nbformat": 4,
  "vscode": {
   "interpreter": {
    "hash": "a0f669ea42a4dcea88d385f8f9b4c3d9b966e24234758831d1dbfdac925619a2"
   }
  }
 },
 "nbformat": 4,
 "nbformat_minor": 2
}
