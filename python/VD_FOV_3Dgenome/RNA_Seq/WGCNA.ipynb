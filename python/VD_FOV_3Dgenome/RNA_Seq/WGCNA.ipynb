{
 "cells": [
  {
   "cell_type": "code",
   "execution_count": 5,
   "metadata": {},
   "outputs": [],
   "source": [
    "## 对所有的TPM 取log2(TPM+1) 值\n",
    "import pandas as pd\n",
    "import numpy as np\n",
    "df = pd.read_csv(\"G:/Billfish/VD_FOV_3Dgenome/RNA_Seq/Rep/J668_Glr19_VD_FOV_TPM.bed\", sep=\"\\t\")\n",
    "sample = df.columns.to_list()[1:]\n",
    "for s in sample:\n",
    "    df[s] = df[s].apply(lambda x: np.log2(x+1))\n",
    "df.to_csv(\"G:/Billfish/VD_FOV_3Dgenome/RNA_Seq/WGCNA/J668_Glr19_VD_FOV_log2TPM1.bed\", sep=\"\\t\", index=False)"
   ]
  },
  {
   "cell_type": "code",
   "execution_count": 11,
   "metadata": {},
   "outputs": [],
   "source": [
    "## 选择前30min和前10min 的样本 以及所有样本\n",
    "\n",
    "before_10min = ['GeneId', 'J668_V991_1min1', 'J668_V991_1min2', 'J668_V991_5min1', 'J668_V991_5min2', 'J668_V991_10min1', 'J668_V991_10min2', \n",
    "               'J668_Fov7_1min1', 'J668_Fov7_1min2', 'J668_Fov7_5min1', 'J668_Fov7_5min2', 'J668_Fov7_10min1', 'J668_Fov7_10min2', \n",
    "               'Glr19_Fov7_1min1', 'Glr19_Fov7_1min2', 'Glr19_Fov7_5min1', 'Glr19_Fov7_5min2', 'Glr19_Fov7_10min1', 'Glr19_Fov7_10min2']\n",
    "df_BF10min = df[before_10min]\n",
    "df_BF10min.to_csv(\"G:/Billfish/VD_FOV_3Dgenome/RNA_Seq/WGCNA/J668_Glr19_VD_FOV_log2TPM1_BF10min.bed\", sep=\"\\t\", index=False)\n",
    "\n",
    "before_30min = ['GeneId', 'J668_V991_1min1', 'J668_V991_1min2', 'J668_V991_5min1', 'J668_V991_5min2', 'J668_V991_10min1', 'J668_V991_10min2', 'J668_V991_30min1', \"J668_V991_30min2\",\n",
    "               'J668_Fov7_1min1', 'J668_Fov7_1min2', 'J668_Fov7_5min1', 'J668_Fov7_5min2', 'J668_Fov7_10min1', 'J668_Fov7_10min2', 'J668_Fov7_30min1', \"J668_Fov7_30min2\",\n",
    "               'Glr19_Fov7_1min1', 'Glr19_Fov7_1min2', 'Glr19_Fov7_5min1', 'Glr19_Fov7_5min2', 'Glr19_Fov7_10min1', 'Glr19_Fov7_10min2', 'Glr19_Fov7_30min1', 'Glr19_Fov7_30min2']\n",
    "df_BF30min = df[before_30min]\n",
    "df_BF30min.to_csv(\"G:/Billfish/VD_FOV_3Dgenome/RNA_Seq/WGCNA/J668_Glr19_VD_FOV_log2TPM1_BF30min.bed\", sep=\"\\t\", index=False)\n",
    "\n",
    "Fov_V991 = ['GeneId', 'J668_V991_1min1', 'J668_V991_1min2', 'J668_V991_5min1', 'J668_V991_5min2', 'J668_V991_10min1', 'J668_V991_10min2', 'J668_V991_30min1', \"J668_V991_30min2\", \n",
    "            'J668_V991_90min1', 'J668_V991_90min2', 'J668_V991_180min1', 'J668_V991_180min2', 'J668_V991_720min1', 'J668_V991_720min2',\n",
    "            'J668_Fov7_1min1', 'J668_Fov7_1min2', 'J668_Fov7_5min1', 'J668_Fov7_5min2', 'J668_Fov7_10min1', 'J668_Fov7_10min2', 'J668_Fov7_30min1', \"J668_Fov7_30min2\",\n",
    "            'J668_Fov7_90min1', 'J668_Fov7_90min2', 'J668_Fov7_180min1', 'J668_Fov7_180min2', 'J668_Fov7_720min1', 'J668_Fov7_720min2',\n",
    "            'Glr19_Fov7_1min1', 'Glr19_Fov7_1min2', 'Glr19_Fov7_5min1', 'Glr19_Fov7_5min2', 'Glr19_Fov7_10min1', 'Glr19_Fov7_10min2', 'Glr19_Fov7_30min1', 'Glr19_Fov7_30min2',\n",
    "            'Glr19_Fov7_90min1', 'Glr19_Fov7_90min2', 'Glr19_Fov7_180min1', 'Glr19_Fov7_180min2', 'Glr19_Fov7_720min1', 'Glr19_Fov7_720min2']\n",
    "df_new = df[Fov_V991]\n",
    "df_new.to_csv(\"G:/Billfish/VD_FOV_3Dgenome/RNA_Seq/WGCNA/VD_FOV_log2TPM1.bed\", sep=\"\\t\", index=False)"
   ]
  }
 ],
 "metadata": {
  "kernelspec": {
   "display_name": "Python 3.8.3 ('base')",
   "language": "python",
   "name": "python3"
  },
  "language_info": {
   "codemirror_mode": {
    "name": "ipython",
    "version": 3
   },
   "file_extension": ".py",
   "mimetype": "text/x-python",
   "name": "python",
   "nbconvert_exporter": "python",
   "pygments_lexer": "ipython3",
   "version": "3.8.3"
  },
  "orig_nbformat": 4,
  "vscode": {
   "interpreter": {
    "hash": "a0f669ea42a4dcea88d385f8f9b4c3d9b966e24234758831d1dbfdac925619a2"
   }
  }
 },
 "nbformat": 4,
 "nbformat_minor": 2
}
