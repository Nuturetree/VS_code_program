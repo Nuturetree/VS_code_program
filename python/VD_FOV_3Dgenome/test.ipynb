{
 "cells": [
  {
   "cell_type": "code",
   "execution_count": 4,
   "metadata": {},
   "outputs": [
    {
     "name": "stdout",
     "output_type": "stream",
     "text": [
      "             GeneId     TAIRID\n",
      "0   Ghir_D04G005120  AT5G39670\n",
      "1   Ghir_A09G001460  AT5G39670\n",
      "2   Ghir_A01G006200  AT4G27280\n",
      "3   Ghir_D13G015660  AT4G27280\n",
      "4   Ghir_A13G014970  AT4G27280\n",
      "5   Ghir_D08G006970  AT3G63380\n",
      "6   Ghir_D05G039330  AT4G26470\n",
      "7   Ghir_D07G020660  AT3G63380\n",
      "8   Ghir_D03G014390  AT5G59730\n",
      "9   Ghir_A03G004500  AT5G59730\n",
      "10  Ghir_A07G020550  AT3G63380\n",
      "11  Ghir_A02G016730  AT4G37640\n",
      "12  Ghir_D03G002900  AT4G37640\n"
     ]
    }
   ],
   "source": [
    "import pandas as pd\n",
    "ids = ['Ghir_D04G005120', 'Ghir_A09G001460', 'Ghir_A01G006200', \n",
    "'Ghir_D13G015660', 'Ghir_A13G014970', 'Ghir_D08G006970', \n",
    "'Ghir_D05G039330', 'Ghir_D07G020660', 'Ghir_D03G014390', \n",
    "'Ghir_A03G004500', 'Ghir_A07G020550', 'Ghir_A02G016730', 'Ghir_D03G002900']\n",
    "df_id = pd.DataFrame({'GeneId':ids})\n",
    "df = pd.read_csv(\"G:/Billfish/VD_FOV_3Dgenome/RNA_Seq/Gh_vs_Arabidopsis.txt\", sep=\"\\t\", names=['GeneId', 'TAIRID'])\n",
    "df_result = pd.merge(df_id, df, how='inner', on=['GeneId'])\n",
    "print(df_result)"
   ]
  },
  {
   "cell_type": "code",
   "execution_count": 24,
   "metadata": {},
   "outputs": [
    {
     "name": "stdout",
     "output_type": "stream",
     "text": [
      "              Samples Binsize  \\\n",
      "0    Glr_Fov_12h_rep1  100 Kb   \n",
      "1    Glr_Fov_12h_rep1   10 Kb   \n",
      "2    Glr_Fov_12h_rep1  200 Kb   \n",
      "3    Glr_Fov_12h_rep1   20 Kb   \n",
      "4    Glr_Fov_12h_rep1    2 Kb   \n",
      "5    Glr_Fov_12h_rep1    3 Kb   \n",
      "6    Glr_Fov_12h_rep1   40 Kb   \n",
      "7    Glr_Fov_12h_rep1    4 Kb   \n",
      "8    Glr_Fov_12h_rep1   50 Kb   \n",
      "9    Glr_Fov_12h_rep1    5 Kb   \n",
      "10  Glr_mock_12h_rep1  100 Kb   \n",
      "11  Glr_mock_12h_rep1   10 Kb   \n",
      "12  Glr_mock_12h_rep1  200 Kb   \n",
      "13  Glr_mock_12h_rep1   20 Kb   \n",
      "14  Glr_mock_12h_rep1    2 Kb   \n",
      "15  Glr_mock_12h_rep1    3 Kb   \n",
      "16  Glr_mock_12h_rep1   40 Kb   \n",
      "17  Glr_mock_12h_rep1    4 Kb   \n",
      "18  Glr_mock_12h_rep1   50 Kb   \n",
      "19  Glr_mock_12h_rep1    5 Kb   \n",
      "20  J668_Fov_12h_rep1  100 Kb   \n",
      "21  J668_Fov_12h_rep1   10 Kb   \n",
      "22  J668_Fov_12h_rep1  200 Kb   \n",
      "23  J668_Fov_12h_rep1   20 Kb   \n",
      "24  J668_Fov_12h_rep1    2 Kb   \n",
      "25  J668_Fov_12h_rep1    3 Kb   \n",
      "26  J668_Fov_12h_rep1   40 Kb   \n",
      "27  J668_Fov_12h_rep1    4 Kb   \n",
      "28  J668_Fov_12h_rep1   50 Kb   \n",
      "29  J668_Fov_12h_rep1    5 Kb   \n",
      "30  J668_Fov_12h_rep2  100 Kb   \n",
      "31  J668_Fov_12h_rep2   10 Kb   \n",
      "32  J668_Fov_12h_rep2  200 Kb   \n",
      "33  J668_Fov_12h_rep2   20 Kb   \n",
      "34  J668_Fov_12h_rep2    2 Kb   \n",
      "35  J668_Fov_12h_rep2    3 Kb   \n",
      "36  J668_Fov_12h_rep2   40 Kb   \n",
      "37  J668_Fov_12h_rep2    4 Kb   \n",
      "38  J668_Fov_12h_rep2   50 Kb   \n",
      "39  J668_Fov_12h_rep2    5 Kb   \n",
      "\n",
      "                                                    1      Score  \n",
      "0   ./hic_results/matrix/Glr_Fov_12h_rep1/raw/1000...  99.715035  \n",
      "1   ./hic_results/matrix/Glr_Fov_12h_rep1/raw/1000...  90.173076  \n",
      "2   ./hic_results/matrix/Glr_Fov_12h_rep1/raw/2000...  99.883136  \n",
      "3   ./hic_results/matrix/Glr_Fov_12h_rep1/raw/2000...  97.523537  \n",
      "4   ./hic_results/matrix/Glr_Fov_12h_rep1/raw/2000...   1.714909  \n",
      "5   ./hic_results/matrix/Glr_Fov_12h_rep1/raw/3000...  11.513008  \n",
      "6   ./hic_results/matrix/Glr_Fov_12h_rep1/raw/4000...  99.297842  \n",
      "7   ./hic_results/matrix/Glr_Fov_12h_rep1/raw/4000...  30.070481  \n",
      "8   ./hic_results/matrix/Glr_Fov_12h_rep1/raw/5000...  99.469719  \n",
      "9   ./hic_results/matrix/Glr_Fov_12h_rep1/raw/5000...  50.352273  \n",
      "10  ./hic_results/matrix/Glr_mock_12h_rep1/raw/100...  99.715048  \n",
      "11  ./hic_results/matrix/Glr_mock_12h_rep1/raw/100...  91.981611  \n",
      "12  ./hic_results/matrix/Glr_mock_12h_rep1/raw/200...  99.892115  \n",
      "13  ./hic_results/matrix/Glr_mock_12h_rep1/raw/200...  97.904570  \n",
      "14  ./hic_results/matrix/Glr_mock_12h_rep1/raw/200...   3.902352  \n",
      "15  ./hic_results/matrix/Glr_mock_12h_rep1/raw/300...  19.240374  \n",
      "16  ./hic_results/matrix/Glr_mock_12h_rep1/raw/400...  99.348920  \n",
      "17  ./hic_results/matrix/Glr_mock_12h_rep1/raw/400...  41.587870  \n",
      "18  ./hic_results/matrix/Glr_mock_12h_rep1/raw/500...  99.485709  \n",
      "19  ./hic_results/matrix/Glr_mock_12h_rep1/raw/500...  61.373863  \n",
      "20  ./hic_results/matrix/J668_Fov_12h_rep1/raw/100...  99.710525  \n",
      "21  ./hic_results/matrix/J668_Fov_12h_rep1/raw/100...  91.113693  \n",
      "22  ./hic_results/matrix/J668_Fov_12h_rep1/raw/200...  99.874157  \n",
      "23  ./hic_results/matrix/J668_Fov_12h_rep1/raw/200...  97.812987  \n",
      "24  ./hic_results/matrix/J668_Fov_12h_rep1/raw/200...   2.369270  \n",
      "25  ./hic_results/matrix/J668_Fov_12h_rep1/raw/300...  13.897941  \n",
      "26  ./hic_results/matrix/J668_Fov_12h_rep1/raw/400...  99.334342  \n",
      "27  ./hic_results/matrix/J668_Fov_12h_rep1/raw/400...  33.607135  \n",
      "28  ./hic_results/matrix/J668_Fov_12h_rep1/raw/500...  99.485662  \n",
      "29  ./hic_results/matrix/J668_Fov_12h_rep1/raw/500...  53.687186  \n",
      "30  ./hic_results/matrix/J668_Fov_12h_rep2/raw/100...  99.710512  \n",
      "31  ./hic_results/matrix/J668_Fov_12h_rep2/raw/100...  89.936252  \n",
      "32  ./hic_results/matrix/J668_Fov_12h_rep2/raw/200...  99.892115  \n",
      "33  ./hic_results/matrix/J668_Fov_12h_rep2/raw/200...  97.600381  \n",
      "34  ./hic_results/matrix/J668_Fov_12h_rep2/raw/200...   1.596472  \n",
      "35  ./hic_results/matrix/J668_Fov_12h_rep2/raw/300...  10.453091  \n",
      "36  ./hic_results/matrix/J668_Fov_12h_rep2/raw/400...  99.316043  \n",
      "37  ./hic_results/matrix/J668_Fov_12h_rep2/raw/400...  27.826838  \n",
      "38  ./hic_results/matrix/J668_Fov_12h_rep2/raw/500...  99.474283  \n",
      "39  ./hic_results/matrix/J668_Fov_12h_rep2/raw/500...  47.733289  \n"
     ]
    }
   ],
   "source": [
    "import pandas as pd\n",
    "df = pd.read_csv(\"G:/Billfish/VD_FOV_3Dgenome/HiC/statistics/resolution/all_output.bed\", sep=\"\\t\")\n",
    "old = ['2000', '3000', '4000', '5000', '10000', '20000', '40000', '50000', '100000', '200000']\n",
    "#old = [2000, 3000, 4000, 5000, 10000, 20000, 40000, 50000, 100000, 200000]\n",
    "new = ['2 Kb', '3 Kb', '4 Kb', '5 Kb', '10 Kb', '20 Kb', '40 Kb', '50 Kb', '100 Kb', '200 Kb']\n",
    "df_name = df['name'].str.split(\"/\", expand = True)[[3,5]]\n",
    "df_result = pd.concat([df_name, df], axis=1)\n",
    "df_result.columns = ['Samples', 'Binsize', '1', 'Score']\n",
    "df_result['Binsize'].replace(old, new, inplace=True)\n",
    "print(df_result)\n",
    "df_result.to_csv(\"G:/Billfish/VD_FOV_3Dgenome/HiC/statistics/resolution/resolution.bed\", sep=\"\\t\", index=False, columns=['Samples', 'Binsize', 'Score'])"
   ]
  }
 ],
 "metadata": {
  "kernelspec": {
   "display_name": "Python 3.8.3 ('base')",
   "language": "python",
   "name": "python3"
  },
  "language_info": {
   "codemirror_mode": {
    "name": "ipython",
    "version": 3
   },
   "file_extension": ".py",
   "mimetype": "text/x-python",
   "name": "python",
   "nbconvert_exporter": "python",
   "pygments_lexer": "ipython3",
   "version": "3.8.3"
  },
  "orig_nbformat": 4,
  "vscode": {
   "interpreter": {
    "hash": "a0f669ea42a4dcea88d385f8f9b4c3d9b966e24234758831d1dbfdac925619a2"
   }
  }
 },
 "nbformat": 4,
 "nbformat_minor": 2
}
