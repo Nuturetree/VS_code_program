{
 "cells": [
  {
   "cell_type": "code",
   "execution_count": null,
   "metadata": {},
   "outputs": [],
   "source": [
    "## 统计包含空bin的区间有多大\n",
    "import pandas as pd\n",
    "df = pd.read_csv(\"G:/Billfish/VD_FOV_3Dgenome/HiC/compartment/rawdata/Jin668_Glr19_Fov7_V991_wide_cpt.bed\", sep=\"\\t\")\n",
    "\n",
    "# 找出包含空行的行\n",
    "mask = df.isna().any(axis=1)\n",
    "empty_rows = df[mask]\n",
    "\n",
    "# 显示结果\n",
    "print(empty_rows)\n",
    "\n",
    "a = df.shape[0]\n",
    "df.dropna(how='any', inplace=True)\n",
    "b = df.shape[0]\n",
    "print(a, b)\n",
    "c = ((a-b)*10)\n",
    "print(\"含空区间大小为{} Kb\".format(c))"
   ]
  },
  {
   "cell_type": "code",
   "execution_count": 4,
   "metadata": {},
   "outputs": [],
   "source": [
    "## 确定包含基因bin的A/B compartment\n",
    "import pandas as pd\n",
    "df_cpt = pd.read_csv(\"G:/Billfish\\VD_FOV_3Dgenome/HiC/compartment/rawdata/Jin668_Glr19_Fov7_V991_cpt.bed\", sep=\"\\t\", names=['chrom', 'start', 'end', 'cpt', 'times', 'treatments'])\n",
    "df_GBin = pd.read_csv(\"G:/Billfish/VD_FOV_3Dgenome/HiC/compartment/gene_location_AB_cpt/Jin668_100K_gene_bin.bed\", sep=\"\\t\", names=['chrom', 'start', 'end'])\n",
    "df_cpt_GBin = pd.merge(df_cpt, df_GBin, how='inner', on=['chrom', 'start', 'end'])\n",
    "df_cpt_GBin.to_csv(\"G:/Billfish/VD_FOV_3Dgenome/HiC/compartment/gene_location_AB_cpt/Jin668_GBin_cpt.bed\", sep=\"\\t\", index=False)\n"
   ]
  },
  {
   "cell_type": "code",
   "execution_count": 8,
   "metadata": {},
   "outputs": [],
   "source": [
    "## 统计基因Bin A/B compartment数目\n",
    "df_cpt_GBin['number'] = [1]*df_cpt_GBin.shape[0]\n",
    "df_statistics = df_cpt_GBin.groupby(by=['times', 'treatments', 'cpt'], as_index=False)['number'].sum()\n",
    "df_statistics.to_csv(\"G:/Billfish/VD_FOV_3Dgenome/HiC/compartment/gene_location_AB_cpt/Jin668_Gbin_cpt_statistics.bed\", sep=\"\\t\", index=False)"
   ]
  },
  {
   "cell_type": "code",
   "execution_count": 18,
   "metadata": {},
   "outputs": [
    {
     "name": "stdout",
     "output_type": "stream",
     "text": [
      "1627 1677 1404\n"
     ]
    }
   ],
   "source": [
    "## 分析动态compartment\n",
    "import pandas as pd\n",
    "J668_V991 = ['0min-J668_mock', '10min-J668_V991', '180min-J668_V991', '30min-J668_V991', '5min-J668_V991', '720min-J668_V991']\n",
    "Glr19_Fov7 = ['0min-Glr19_mock', '10min-Glr19_Fov7', '180min-Glr19_Fov7', '30min-Glr19_Fov7', '5min-Glr19_Fov7', '720min-Glr19_Fov7']\n",
    "J668_Fov7 = ['0min-J668_mock', '10min-J668_Fov7', '180min-J668_Fov7', '30min-J668_Fov7', '5min-J668_Fov7', '720min-J668_Fov7']\n",
    "df_cpt_wide = pd.read_csv(\"G:/Billfish/VD_FOV_3Dgenome/HiC/compartment/rawdata/Jin668_Glr19_Fov7_V991_wide_cpt.bed\", sep=\"\\t\")\n",
    "df_J668_V991 = df_cpt_wide[df_cpt_wide[J668_V991].nunique(axis=1)>1].copy()\n",
    "df_Glr19_Fov7 = df_cpt_wide[df_cpt_wide[Glr19_Fov7].nunique(axis=1)>1].copy()\n",
    "df_J668_Fov7 = df_cpt_wide[df_cpt_wide[J668_Fov7].nunique(axis=1)>1].copy()\n",
    "df_J668_V991['treatments'] = ['J668_V991']*df_J668_V991.shape[0]\n",
    "df_J668_Fov7['treatments'] = ['J668_Fov7']*df_J668_Fov7.shape[0]\n",
    "df_Glr19_Fov7['treatments'] = ['Glr19_Fov7']*df_Glr19_Fov7.shape[0]\n",
    "df_dynamic_cpt = pd.concat([df_J668_Fov7, df_Glr19_Fov7, df_J668_V991], axis=0)\n",
    "print(df_J668_V991.shape[0], df_J668_Fov7.shape[0], df_Glr19_Fov7.shape[0])\n",
    "df_dynamic_cpt.to_csv(\"G:/Billfish/VD_FOV_3Dgenome/HiC/compartment/dynamic_cpt/Jin668_dynamic_cpt.csv\", index=False)"
   ]
  },
  {
   "cell_type": "code",
   "execution_count": 26,
   "metadata": {},
   "outputs": [],
   "source": [
    "## 分析动态compartment 中基因Bin的占比\n",
    "df_GBin = pd.read_csv(\"G:/Billfish/VD_FOV_3Dgenome/HiC/compartment/gene_location_AB_cpt/Jin668_100K_gene_bin.bed\", sep=\"\\t\", names=['chrom', 'start', 'end'])\n",
    "df_GBin['Bin_tags'] = ['Gene']*df_GBin.shape[0]\n",
    "df_cpt = pd.merge(df_dynamic_cpt, df_GBin, how='left', on=['chrom', 'start', 'end'])\n",
    "df_cpt.fillna(\"NGene\", inplace=True)\n",
    "df_cpt['number'] = [1]*df_cpt.shape[0]\n",
    "df_statistics = df_cpt.groupby(by=['treatments', 'Bin_tags'], as_index=False)['number'].sum()\n",
    "df_statistics.to_csv(\"G:/Billfish/VD_FOV_3Dgenome/HiC/compartment/dynamic_cpt/G_NG_ratio/Jin668_G_NG_Bin_ratio.bed\", sep=\"\\t\", index=False)"
   ]
  }
 ],
 "metadata": {
  "kernelspec": {
   "display_name": "Python 3.8.3 ('base')",
   "language": "python",
   "name": "python3"
  },
  "language_info": {
   "codemirror_mode": {
    "name": "ipython",
    "version": 3
   },
   "file_extension": ".py",
   "mimetype": "text/x-python",
   "name": "python",
   "nbconvert_exporter": "python",
   "pygments_lexer": "ipython3",
   "version": "3.8.3"
  },
  "orig_nbformat": 4,
  "vscode": {
   "interpreter": {
    "hash": "a0f669ea42a4dcea88d385f8f9b4c3d9b966e24234758831d1dbfdac925619a2"
   }
  }
 },
 "nbformat": 4,
 "nbformat_minor": 2
}
