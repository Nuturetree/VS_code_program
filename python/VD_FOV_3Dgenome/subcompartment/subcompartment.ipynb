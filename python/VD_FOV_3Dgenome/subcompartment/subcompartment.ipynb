{
 "cells": [
  {
   "cell_type": "code",
   "execution_count": 7,
   "metadata": {},
   "outputs": [
    {
     "name": "stdout",
     "output_type": "stream",
     "text": [
      "223908 219144\n",
      "含空区间大小为47.64 Mb\n"
     ]
    }
   ],
   "source": [
    "## 统计包含空bin的区间有多大\n",
    "import pandas as pd\n",
    "df = pd.read_csv(\"G:/Billfish/VD_FOV_3Dgenome/HiC/subcpt/rawdata/J668_Glr19_Fov7_V991_wide_subcpt.bed\", sep=\"\\t\")\n",
    "a = df.shape[0]\n",
    "df.dropna(how='any', inplace=True)\n",
    "b = df.shape[0]\n",
    "print(a, b)\n",
    "c = ((a-b)*10)/1000\n",
    "print(\"含空区间大小为{} Mb\".format(c))"
   ]
  },
  {
   "cell_type": "code",
   "execution_count": 6,
   "metadata": {},
   "outputs": [],
   "source": [
    "## 统计各sub-compartment比例\n",
    "import pandas as pd\n",
    "df = pd.read_csv(\"G:/Billfish/VD_FOV_3Dgenome/HiC/subcpt/rawdata/J668_Glr19_Fov7_V991_long_subcpt.bed\", sep=\"\\t\")\n",
    "df['number'] = [1]*df.shape[0]\n",
    "df_sta = df.groupby(by=['treatments', 'times', 'subcpt'], as_index=False)['number'].sum()\n",
    "old_tags = ['Glr19_Fov7', 'J668_V991', 'J668_Fov7', 'J668_mock', 'Glr19_mock']\n",
    "new_tags = ['glr4.8_Fov', 'Jin668_V991', 'Jin668_Fov', 'Jin668_Fov', 'glr4.8_Fov']\n",
    "df_sta['treatments'].replace(old_tags, new_tags, inplace=True)\n",
    "df_sta.to_csv(\"G:/Billfish/VD_FOV_3Dgenome/HiC/subcpt/rawdata/J668_Glr19_Fov7_V991_subcpt_sta.csv\", index=False)\n"
   ]
  }
 ],
 "metadata": {
  "kernelspec": {
   "display_name": "Python 3.8.3 ('base')",
   "language": "python",
   "name": "python3"
  },
  "language_info": {
   "codemirror_mode": {
    "name": "ipython",
    "version": 3
   },
   "file_extension": ".py",
   "mimetype": "text/x-python",
   "name": "python",
   "nbconvert_exporter": "python",
   "pygments_lexer": "ipython3",
   "version": "3.8.3"
  },
  "orig_nbformat": 4,
  "vscode": {
   "interpreter": {
    "hash": "a0f669ea42a4dcea88d385f8f9b4c3d9b966e24234758831d1dbfdac925619a2"
   }
  }
 },
 "nbformat": 4,
 "nbformat_minor": 2
}
