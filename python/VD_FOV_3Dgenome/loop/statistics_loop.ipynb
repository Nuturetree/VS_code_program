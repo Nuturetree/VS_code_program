{
 "cells": [
  {
   "cell_type": "code",
   "execution_count": 11,
   "metadata": {},
   "outputs": [],
   "source": [
    "## 统计loops 数目， chromosight\n",
    "import pandas as pd\n",
    "def loop_statistics(df):\n",
    "    df = df.copy()\n",
    "    df['number'] = [1]*df.shape[0]\n",
    "    df_return = df.groupby(by=['times', 'treatments'], as_index=False)['number'].sum()\n",
    "    return df_return\n",
    "# ## chromosight\n",
    "# df_chromosight = pd.read_csv(\"G:/Billfish/VD_FOV_3Dgenome/HiC/loop/rawdata/chromosight/Jin668_Glr19_Fov7_V991_chromosight.bed\", sep=\"\\t\", names=['chrom1', 'start1', 'end1', 'chrom2', 'start2', 'end2', 'times', 'treatments'])\n",
    "# df_chromosight_statistics = loop_statistics(df_chromosight)\n",
    "# df_chromosight_statistics.to_csv(\"G:/Billfish/VD_FOV_3Dgenome/HiC/loop/rawdata/chromosight/Jin668_Glr19_chromosight_statistics.csv\", index=False)\n",
    "# ## mustache\n",
    "# df_mustache = pd.read_csv(\"G:/Billfish/VD_FOV_3Dgenome/HiC/loop/rawdata/mustache/Jin668_Glr19_Fov7_V991_mustache.bed\", sep=\"\\t\", names=['chrom1', 'start1', 'end1', 'chrom2', 'start2', 'end2', 'times', 'treatments'])\n",
    "# df_mustache_statistics = loop_statistics(df_mustache)\n",
    "# df_mustache_statistics.to_csv(\"G:/Billfish/VD_FOV_3Dgenome/HiC/loop/rawdata/mustache/Jin668_Glr19_mustache_statistics.csv\", index=False)\n",
    "\n",
    "## fithic\n",
    "df_fithic = pd.read_csv(\"G:/Billfish/VD_FOV_3Dgenome/HiC/loop/rawdata/fithic/Jin668_Glr19_Fov7_V991_fithic.bed\", sep=\"\\t\", names=['chrom1', 'start1', 'end1', 'chrom2', 'start2', 'end2', 'times', 'treatments'])\n",
    "df_fithic_statistics = loop_statistics(df_fithic)\n",
    "df_fithic_statistics.to_csv(\"G:/Billfish/VD_FOV_3Dgenome/HiC/loop/rawdata/fithic/Jin668_Glr19_fithic_statistics.csv\", index=False)\n"
   ]
  },
  {
   "cell_type": "code",
   "execution_count": 10,
   "metadata": {},
   "outputs": [],
   "source": [
    "## 统计包含基因的loop数目，chromosight\n",
    "import pandas as pd\n",
    "\n",
    "def gene_loop(df_gene, df_loop):\n",
    "    df_gene.columns = ['chrom1', 'start1', 'end1']\n",
    "    df_a = pd.merge(df_loop, df_gene, how='inner', on=['chrom1', 'start1', 'end1'])\n",
    "    df_gene.columns = ['chrom2', 'start2', 'end2']\n",
    "    df_b = pd.merge(df_loop, df_gene, how='inner', on=['chrom2', 'start2', 'end2'])\n",
    "    df_return = pd.concat([df_a,df_b], axis=0)\n",
    "    df_return.drop_duplicates(keep='first', inplace=True)\n",
    "    return df_return\n",
    "df_gene = pd.read_csv(\"G:/Billfish/VD_FOV_3Dgenome/HiC/loop/rawdata/Jin668_3K_gene_bin.bed\", sep=\"\\t\", names=['chrom', 'start', 'end'])\n",
    "\n",
    "# # chromosight\n",
    "# df_loop = pd.read_csv(\"G:/Billfish/VD_FOV_3Dgenome/HiC/loop/rawdata/chromosight/Jin668_Glr19_Fov7_V991_chromosight.bed\", sep=\"\\t\", names=['chrom1', 'start1', 'end1', 'chrom2', 'start2', 'end2', 'times', 'treatments'])\n",
    "# df_gene_loop = gene_loop(df_gene, df_loop)\n",
    "# df_GL_statistics = loop_statistics(df_gene_loop)\n",
    "# df_GL_statistics.to_csv(\"G:/Billfish/VD_FOV_3Dgenome/HiC/loop/rawdata/chromosight/Jin668_Glr19_GL_chromosight_statistics.csv\", index=False)\n",
    "\n",
    "# # mustache\n",
    "# df_loop = pd.read_csv(\"G:/Billfish/VD_FOV_3Dgenome/HiC/loop/rawdata/mustache/Jin668_Glr19_Fov7_V991_mustache.bed\", sep=\"\\t\", names=['chrom1', 'start1', 'end1', 'chrom2', 'start2', 'end2', 'times', 'treatments'])\n",
    "# df_gene_loop = gene_loop(df_gene, df_loop)\n",
    "# df_GL_statistics = loop_statistics(df_gene_loop)\n",
    "# df_GL_statistics.to_csv(\"G:/Billfish/VD_FOV_3Dgenome/HiC/loop/rawdata/mustache/Jin668_Glr19_GL_mustache_statistics.csv\", index=False)\n",
    "\n",
    "# fithic\n",
    "df_loop = pd.read_csv(\"G:/Billfish/VD_FOV_3Dgenome/HiC/loop/rawdata/fithic/Jin668_Glr19_Fov7_V991_fithic.bed\", sep=\"\\t\", names=['chrom1', 'start1', 'end1', 'chrom2', 'start2', 'end2', 'times', 'treatments'])\n",
    "df_gene_loop = gene_loop(df_gene, df_loop)\n",
    "df_GL_statistics = loop_statistics(df_gene_loop)\n",
    "df_GL_statistics.to_csv(\"G:/Billfish/VD_FOV_3Dgenome/HiC/loop/rawdata/fithic/Jin668_Glr19_GL_fithic_statistics.csv\", index=False)"
   ]
  }
 ],
 "metadata": {
  "kernelspec": {
   "display_name": "Python 3.8.3 ('base')",
   "language": "python",
   "name": "python3"
  },
  "language_info": {
   "codemirror_mode": {
    "name": "ipython",
    "version": 3
   },
   "file_extension": ".py",
   "mimetype": "text/x-python",
   "name": "python",
   "nbconvert_exporter": "python",
   "pygments_lexer": "ipython3",
   "version": "3.8.3"
  },
  "orig_nbformat": 4,
  "vscode": {
   "interpreter": {
    "hash": "a0f669ea42a4dcea88d385f8f9b4c3d9b966e24234758831d1dbfdac925619a2"
   }
  }
 },
 "nbformat": 4,
 "nbformat_minor": 2
}
