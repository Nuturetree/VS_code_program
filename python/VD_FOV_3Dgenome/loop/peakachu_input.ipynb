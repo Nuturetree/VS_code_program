{
 "cells": [
  {
   "cell_type": "code",
   "execution_count": 2,
   "metadata": {},
   "outputs": [
    {
     "name": "stdout",
     "output_type": "stream",
     "text": [
      "      chrom1  start1   end1     chrom2  start2   end2   times  treatments  \\\n",
      "0  Ghjin_A01   12000  15000  Ghjin_A01   18000  21000  720min  Glr19_Fov7   \n",
      "1  Ghjin_A01   12000  15000  Ghjin_A01   18000  21000  720min   J668_Fov7   \n",
      "2  Ghjin_A01   12000  15000  Ghjin_A01   21000  24000  720min   J668_Fov7   \n",
      "3  Ghjin_A01   12000  15000  Ghjin_A01   24000  27000   10min   J668_V991   \n",
      "4  Ghjin_A01   12000  15000  Ghjin_A01   24000  27000  720min   J668_Fov7   \n",
      "\n",
      "   number  \n",
      "0       1  \n",
      "1       1  \n",
      "2       1  \n",
      "3       1  \n",
      "4       1  \n"
     ]
    }
   ],
   "source": [
    "## 确定各时间，各处理，三种方法鉴定出的loops并集，并用于peakschu 来鉴定的训练集，来鉴定loops\n",
    "import pandas as pd\n",
    "df_mustache = pd.read_csv(\"G:/Billfish/VD_FOV_3Dgenome/HiC/loop/rawdata/mustache/Jin668_Glr19_Fov7_V991_mustache.bed\", sep=\"\\t\", names=['chrom1', 'start1', 'end1', 'chrom2', 'start2', 'end2', 'times', 'treatments'])\n",
    "df_fithic = pd.read_csv(\"G:/Billfish/VD_FOV_3Dgenome/HiC/loop/rawdata/fithic/Jin668_Glr19_Fov7_V991_fithic.bed\", sep=\"\\t\", names=['chrom1', 'start1', 'end1', 'chrom2', 'start2', 'end2', 'times', 'treatments'])\n",
    "df_chromosight = pd.read_csv(\"G:/Billfish/VD_FOV_3Dgenome/HiC/loop/rawdata/chromosight/Jin668_Glr19_Fov7_V991_chromosight.bed\", sep=\"\\t\", names=['chrom1', 'start1', 'end1', 'chrom2', 'start2', 'end2', 'times', 'treatments'])\n",
    "df_all = pd.concat([df_mustache, df_fithic, df_chromosight], axis=0)\n",
    "df_all['number'] = [1]*df_all.shape[0]\n",
    "df_group = df_all.groupby(by=['chrom1', 'start1', 'end1', 'chrom2', 'start2', 'end2', 'times', 'treatments'], as_index=False)['number'].sum()"
   ]
  },
  {
   "cell_type": "code",
   "execution_count": 26,
   "metadata": {},
   "outputs": [],
   "source": [
    "df_all = pd.concat([df_mustache, df_fithic, df_chromosight], axis=0)\n",
    "df_all['number'] = [1]*df_all.shape[0]\n",
    "df_group = df_all.groupby(by=['chrom1', 'start1', 'end1', 'chrom2', 'start2', 'end2', 'times', 'treatments'], as_index=False)['number'].sum()\n"
   ]
  },
  {
   "cell_type": "code",
   "execution_count": 27,
   "metadata": {},
   "outputs": [
    {
     "name": "stdout",
     "output_type": "stream",
     "text": [
      "     times  treatments  number\n",
      "0     0min  Glr19_mock   93429\n",
      "1     0min   J668_mock   82124\n",
      "2    10min  Glr19_Fov7  134212\n",
      "3    10min   J668_Fov7   73544\n",
      "4    10min   J668_V991  131369\n",
      "5   180min  Glr19_Fov7  125006\n",
      "6   180min   J668_Fov7  116470\n",
      "7   180min   J668_V991  139055\n",
      "8    30min  Glr19_Fov7  101516\n",
      "9    30min   J668_Fov7  102586\n",
      "10   30min   J668_V991  118162\n",
      "11    5min  Glr19_Fov7  100562\n",
      "12    5min   J668_Fov7  101058\n",
      "13    5min   J668_V991   82653\n",
      "14  720min  Glr19_Fov7  119285\n",
      "15  720min   J668_Fov7  100118\n",
      "16  720min   J668_V991  104485\n",
      "93429\n",
      "82124\n",
      "101058\n",
      "82653\n",
      "100562\n",
      "73544\n",
      "131369\n",
      "134212\n",
      "102586\n",
      "118162\n",
      "101516\n",
      "116470\n",
      "139055\n",
      "125006\n",
      "100118\n",
      "104485\n",
      "119285\n"
     ]
    }
   ],
   "source": [
    "df_overlap = df_group.query(\"number>1\").copy()\n",
    "df_overlap['number'] = [1]*df_overlap.shape[0]\n",
    "df_group = df_overlap.groupby(by=['times', 'treatments'], as_index=False)['number'].sum()\n",
    "print(df_group)\n",
    "for t in ['0min', '5min', '10min', '30min', '180min', '720min']:\n",
    "    if t == '0min':\n",
    "        treatments_l = ['Glr19_mock', 'J668_mock']\n",
    "    else:\n",
    "        treatments_l = ['J668_Fov7', 'J668_V991', 'Glr19_Fov7']\n",
    "    for tm in treatments_l:\n",
    "        df_tmp = df_overlap.query(\"times==@t & treatments==@tm\").copy()\n",
    "        print(df_tmp.shape[0])\n",
    "        df_result = df_tmp.sample(60000)\n",
    "        output_f = \"G:/Billfish/VD_FOV_3Dgenome/HiC/loop/rawdata/peakachu/test_data/{1}_{0}.bed\".format(t, tm)\n",
    "        old_chr = ['Ghjin_A01', 'Ghjin_A02', 'Ghjin_A03', 'Ghjin_A04', 'Ghjin_A05', 'Ghjin_A06', 'Ghjin_A07', 'Ghjin_A08', 'Ghjin_A09', 'Ghjin_A10', 'Ghjin_A11', 'Ghjin_A12', 'Ghjin_A13',\n",
    "                   'Ghjin_D01', 'Ghjin_D02', 'Ghjin_D03', 'Ghjin_D04', 'Ghjin_D05', 'Ghjin_D06', 'Ghjin_D07', 'Ghjin_D08', 'Ghjin_D09', 'Ghjin_D10', 'Ghjin_D11', 'Ghjin_D12', 'Ghjin_D13']\n",
    "        new_chr = [1, 2, 3, 4, 5, 6, 7, 8, 9, 10, 11, 12, 13, 14, 15, 16, 17, 18, 19, 20, 21, 22, 23, 24, 25, 26]\n",
    "        df_result.replace(old_chr, new_chr, inplace=True)\n",
    "        df_result.to_csv(output_f, sep=\"\\t\", index=False, header=False, columns = ['chrom1', 'start1', 'end1', 'chrom2', 'start2', 'end2'])\n",
    "#df_group = df_overlap.groupby(by=['times', 'treatments'], as_index=False)['number'].sum()\n"
   ]
  }
 ],
 "metadata": {
  "kernelspec": {
   "display_name": "Python 3.8.3 ('base')",
   "language": "python",
   "name": "python3"
  },
  "language_info": {
   "codemirror_mode": {
    "name": "ipython",
    "version": 3
   },
   "file_extension": ".py",
   "mimetype": "text/x-python",
   "name": "python",
   "nbconvert_exporter": "python",
   "pygments_lexer": "ipython3",
   "version": "3.8.3"
  },
  "orig_nbformat": 4,
  "vscode": {
   "interpreter": {
    "hash": "a0f669ea42a4dcea88d385f8f9b4c3d9b966e24234758831d1dbfdac925619a2"
   }
  }
 },
 "nbformat": 4,
 "nbformat_minor": 2
}
