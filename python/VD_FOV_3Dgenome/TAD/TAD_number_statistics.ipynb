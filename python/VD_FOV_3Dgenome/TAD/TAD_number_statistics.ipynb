{
 "cells": [
  {
   "cell_type": "code",
   "execution_count": 10,
   "metadata": {},
   "outputs": [
    {
     "name": "stdout",
     "output_type": "stream",
     "text": [
      "            chrom     start       end  tags   times  treatments\n",
      "0       Ghjin_A01         0    660000     1    0min   J668_mock\n",
      "1       Ghjin_A01         0    780000     0    0min   J668_mock\n",
      "2       Ghjin_A01    660000    780000     1    0min   J668_mock\n",
      "3       Ghjin_A01    780000    960000     0    0min   J668_mock\n",
      "4       Ghjin_A01    960000   1220000     0    0min   J668_mock\n",
      "...           ...       ...       ...   ...     ...         ...\n",
      "166405  Ghjin_D13  64220000  64360000     1  720min  Glr19_Fov7\n",
      "166406  Ghjin_D13  64220000  64840000     0  720min  Glr19_Fov7\n",
      "166407  Ghjin_D13  64360000  64580000     2  720min  Glr19_Fov7\n",
      "166408  Ghjin_D13  64360000  64840000     1  720min  Glr19_Fov7\n",
      "166409  Ghjin_D13  64580000  64840000     2  720min  Glr19_Fov7\n",
      "\n",
      "[166410 rows x 6 columns]\n"
     ]
    }
   ],
   "source": [
    "## 统计TAD 数目\n",
    "import pandas as pd\n",
    "## 替换染色体名称\n",
    "def rename_chr(df):\n",
    "    df = df.copy()\n",
    "    old_chr = [1, 2, 3, 4, 5, 6, 7, 8, 9, 10, 11, 12, 13, 14, 15, 16, 17, 18, 19, 20, 21, 22, 23, 24, 25, 26]\n",
    "    new_chr = ['Ghjin_A01', 'Ghjin_A02', 'Ghjin_A03', 'Ghjin_A04', 'Ghjin_A05', 'Ghjin_A06', 'Ghjin_A07', 'Ghjin_A08', 'Ghjin_A09', 'Ghjin_A10', 'Ghjin_A11', 'Ghjin_A12', 'Ghjin_A13', \n",
    "               'Ghjin_D01', 'Ghjin_D02', 'Ghjin_D03', 'Ghjin_D04', 'Ghjin_D05', 'Ghjin_D06', 'Ghjin_D07', 'Ghjin_D08', 'Ghjin_D09', 'Ghjin_D10', 'Ghjin_D11', 'Ghjin_D12', 'Ghjin_D13']\n",
    "    df['chrom'].replace(old_chr, new_chr, inplace=True)\n",
    "    print(df)\n",
    "    return df\n",
    "## 统计各时间，各处理TAD的数目\n",
    "def TAD_number(df):\n",
    "    df = df.copy()\n",
    "    df['number'] = [1]*df.shape[0]\n",
    "    df_return = df.groupby(by=['times', 'treatments'], as_index=False)['number'].sum()\n",
    "    return df_return\n",
    "    \n",
    "df = pd.read_csv(\"G:/Billfish/VD_FOV_3Dgenome/HiC/TAD/HiTAD/Jin668_Glr19_Fov7_V991_HiTAD.bed\", sep=\"\\t\", names=['chrom', 'start', 'end', 'tags', 'times', 'treatments'])\n",
    "df = rename_chr(df)\n",
    "df_statistics = TAD_number(df)\n",
    "df.to_csv(\"G:/Billfish/VD_FOV_3Dgenome/HiC/TAD/HiTAD/Jin668_Glr19_Fov7_V991_HiTAD.bed\", sep=\"\\t\", index=False)\n",
    "df_statistics.to_csv(\"G:/Billfish/VD_FOV_3Dgenome/HiC/TAD/HiTAD/Jin668_Glr19_Fov7_V991_statistics.bed\", sep=\"\\t\", index=False)\n"
   ]
  }
 ],
 "metadata": {
  "kernelspec": {
   "display_name": "Python 3.8.3 ('base')",
   "language": "python",
   "name": "python3"
  },
  "language_info": {
   "codemirror_mode": {
    "name": "ipython",
    "version": 3
   },
   "file_extension": ".py",
   "mimetype": "text/x-python",
   "name": "python",
   "nbconvert_exporter": "python",
   "pygments_lexer": "ipython3",
   "version": "3.8.3"
  },
  "orig_nbformat": 4,
  "vscode": {
   "interpreter": {
    "hash": "a0f669ea42a4dcea88d385f8f9b4c3d9b966e24234758831d1dbfdac925619a2"
   }
  }
 },
 "nbformat": 4,
 "nbformat_minor": 2
}
